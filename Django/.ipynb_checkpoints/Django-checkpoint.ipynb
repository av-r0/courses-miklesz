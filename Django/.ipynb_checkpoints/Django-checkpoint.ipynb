{
 "cells": [
  {
   "cell_type": "markdown",
   "id": "631e9c2e",
   "metadata": {
    "slideshow": {
     "slide_type": "slide"
    }
   },
   "source": [
    "# Django - Wprowadzenie\n",
    "*[Mikołaj Leszczuk](mailto:mikolaj.leszczuk@agh.edu.pl), [Agnieszka Rudnicka](mailto:rudnicka@agh.edu.pl)*"
   ]
  },
  {
   "cell_type": "markdown",
   "id": "bf30e700",
   "metadata": {
    "slideshow": {
     "slide_type": "slide"
    }
   },
   "source": [
    "## Czym jest Django?"
   ]
  },
  {
   "cell_type": "markdown",
   "id": "0aa86761",
   "metadata": {
    "slideshow": {
     "slide_type": "fragment"
    }
   },
   "source": [
    "**Django** to darmowy i open source'owy framework do budowania aplikacji webowych napisany w Pythonie. Innymi słowy to zestaw narzędzi, który przyśpiesza i ułatwia znacząco proces tworzenia stron."
   ]
  },
  {
   "cell_type": "markdown",
   "id": "d49afcb5",
   "metadata": {
    "slideshow": {
     "slide_type": "subslide"
    }
   },
   "source": [
    "Gdy tworzymy strony internetowe, wiele elementów się powtarza między projektami. Są to przykładowo mechanizmy tworzenia, zarządzania i uwierzytelniania użytkowników, panel zarzadzania treścią czy też mechanizmy wyświetlania i przetwarzania formularzy. Django wychodzi na przeciw tym powtarzającym się wyzwaniom oferując między innymi:"
   ]
  },
  {
   "cell_type": "markdown",
   "id": "90834c0d",
   "metadata": {
    "slideshow": {
     "slide_type": "fragment"
    }
   },
   "source": [
    "* gotowy system tworzenia, rejestracji i logowania użytkowników"
   ]
  },
  {
   "cell_type": "markdown",
   "id": "4c48e114",
   "metadata": {
    "slideshow": {
     "slide_type": "fragment"
    }
   },
   "source": [
    "* gotowy system grup i uprawnień do modeli"
   ]
  },
  {
   "cell_type": "markdown",
   "id": "1e7e524b",
   "metadata": {
    "slideshow": {
     "slide_type": "fragment"
    }
   },
   "source": [
    "* mini-framework do tworzenia i przetwarzania formularzy (`django.contrib.forms`)"
   ]
  },
  {
   "cell_type": "markdown",
   "id": "64376663",
   "metadata": {
    "slideshow": {
     "slide_type": "fragment"
    }
   },
   "source": [
    "* auto-generowany panel administracyjny"
   ]
  },
  {
   "cell_type": "markdown",
   "id": "accfdcef",
   "metadata": {
    "slideshow": {
     "slide_type": "subslide"
    }
   },
   "source": [
    "* gotowe klasy (Class Based Views) na podstawie których można w kilka linijek kodu tworzyć pełnoprawne widoki CRUD (Create Read Update Delete)"
   ]
  },
  {
   "cell_type": "markdown",
   "id": "807c109f",
   "metadata": {
    "slideshow": {
     "slide_type": "fragment"
    }
   },
   "source": [
    "* potężny ORM (ang. *Object Relational Mapping*), czyli narzędzie do operowania na danych w bazach danych bez potrzeby użycia SQL (ang. Structured Query Language)"
   ]
  },
  {
   "cell_type": "markdown",
   "id": "8935f5b2",
   "metadata": {
    "slideshow": {
     "slide_type": "fragment"
    }
   },
   "source": [
    "* wbudowane mechanizmy cachowania, wysyłania maili"
   ]
  },
  {
   "cell_type": "markdown",
   "id": "1a3764a9",
   "metadata": {
    "slideshow": {
     "slide_type": "fragment"
    }
   },
   "source": [
    "* ...i wiele innych"
   ]
  },
  {
   "cell_type": "markdown",
   "id": "ede17e66",
   "metadata": {
    "slideshow": {
     "slide_type": "slide"
    }
   },
   "source": [
    "## Przygotowanie środowiska"
   ]
  },
  {
   "cell_type": "markdown",
   "id": "6fd6ff3d",
   "metadata": {
    "slideshow": {
     "slide_type": "fragment"
    }
   },
   "source": [
    "Sprawdźmy, czy mamy poprawnie zainstalowany język Python w wersji 3 poleceniem w terminalu. Naszym oczom powinno się ukazać coś takiego:"
   ]
  },
  {
   "cell_type": "code",
   "execution_count": null,
   "id": "b7da4234",
   "metadata": {
    "slideshow": {
     "slide_type": "fragment"
    }
   },
   "outputs": [],
   "source": [
    "!python -V"
   ]
  },
  {
   "cell_type": "markdown",
   "id": "44016111",
   "metadata": {
    "slideshow": {
     "slide_type": "fragment"
    }
   },
   "source": [
    "W przypadku systemów opartych o jądro Linux może być potrzeba wpisać `python3 -V`, ponieważ samo polecenie python może być linkowane do starszego interpretera (2.7)."
   ]
  },
  {
   "cell_type": "markdown",
   "id": "945d5814",
   "metadata": {
    "slideshow": {
     "slide_type": "subslide"
    }
   },
   "source": [
    "A teraz właściwa część przygotowania środowiska - czyli instalujemy framework Django:"
   ]
  },
  {
   "cell_type": "code",
   "execution_count": null,
   "id": "caf00518",
   "metadata": {
    "slideshow": {
     "slide_type": "fragment"
    }
   },
   "outputs": [],
   "source": [
    "pip install django"
   ]
  },
  {
   "cell_type": "markdown",
   "id": "d4fa2a8e",
   "metadata": {
    "slideshow": {
     "slide_type": "subslide"
    }
   },
   "source": [
    "Po wykonaniu powyższego polecenia możemy sprawdzić aktualnie zainstalowane pakiety poleceniem `pip list`. U mnie lista wygląda tak:"
   ]
  },
  {
   "cell_type": "code",
   "execution_count": null,
   "id": "7d2e8a63",
   "metadata": {
    "slideshow": {
     "slide_type": "fragment"
    }
   },
   "outputs": [],
   "source": [
    "pip list"
   ]
  },
  {
   "cell_type": "markdown",
   "id": "ca6b23bb",
   "metadata": {
    "slideshow": {
     "slide_type": "slide"
    }
   },
   "source": [
    "## Nasz pierwszy projekt w Django"
   ]
  },
  {
   "cell_type": "markdown",
   "id": "57913784",
   "metadata": {
    "slideshow": {
     "slide_type": "fragment"
    }
   },
   "source": [
    "Django zaopatruje nas w polecenie `django-admin`, które pozwala na tworzenie nowych projektów, appek i inne działania."
   ]
  },
  {
   "cell_type": "markdown",
   "id": "dd8de7b7",
   "metadata": {
    "slideshow": {
     "slide_type": "fragment"
    }
   },
   "source": [
    "Aby stworzyć nowy projekt wykonajmy polecenie (warto zauważyć kropkę na końcu, która wskazuje na aktualny katalog):"
   ]
  },
  {
   "cell_type": "code",
   "execution_count": null,
   "id": "3801143c",
   "metadata": {
    "slideshow": {
     "slide_type": "fragment"
    }
   },
   "outputs": [],
   "source": [
    "!rm -r manage.py goodmovies movies\n",
    "!django-admin startproject goodmovies ."
   ]
  },
  {
   "cell_type": "markdown",
   "id": "c8227be8",
   "metadata": {
    "slideshow": {
     "slide_type": "subslide"
    }
   },
   "source": [
    "W aktualnym katalogu powinny się pojawić następujące pliki:"
   ]
  },
  {
   "cell_type": "code",
   "execution_count": null,
   "id": "31877b33",
   "metadata": {
    "slideshow": {
     "slide_type": "fragment"
    }
   },
   "outputs": [],
   "source": [
    "!tree"
   ]
  },
  {
   "cell_type": "markdown",
   "id": "37d67dec",
   "metadata": {
    "slideshow": {
     "slide_type": "subslide"
    }
   },
   "source": [
    "* *goodmovies/* - katalog z podstawowymi ustawieniami naszego projektu, najważniejszy plik to `settings.py`, to tam znajdziemy ustawienia projektu. Innym ważnym plikiem jest `urls.py` w którym to podane są URLe do widoków aplikacji - więcej o tym już niebawem."
   ]
  },
  {
   "cell_type": "markdown",
   "id": "5bff69af",
   "metadata": {
    "slideshow": {
     "slide_type": "fragment"
    }
   },
   "source": [
    "* *manage.py* - plik do zarządzania projektem, coś w rodzaju manage-scriptu, więcej o nim za chwilę"
   ]
  },
  {
   "cell_type": "markdown",
   "id": "a204ca56",
   "metadata": {
    "slideshow": {
     "slide_type": "subslide"
    }
   },
   "source": [
    "Uruchommy więc nasz projekt! Naszym oczom powinno się ukazać coś takiego:"
   ]
  },
  {
   "cell_type": "code",
   "execution_count": null,
   "id": "0dddca9a",
   "metadata": {
    "slideshow": {
     "slide_type": "fragment"
    }
   },
   "outputs": [],
   "source": [
    "!python3 manage.py runserver"
   ]
  },
  {
   "cell_type": "markdown",
   "id": "0b57ab5d",
   "metadata": {
    "slideshow": {
     "slide_type": "fragment"
    }
   },
   "source": [
    "Przejdźmy zatem do przeglądarki jak proponuje wiadomość w terminalu. Adres to: [http://127.0.0.1:8000/](http://127.0.0.1:8000/)"
   ]
  },
  {
   "cell_type": "markdown",
   "id": "d348323f",
   "metadata": {
    "slideshow": {
     "slide_type": "subslide"
    }
   },
   "source": [
    "Tym samym właśnie napisaliśmy `\"Hello world\"` w Django! Nasza aplikacja totalnie nic nie robi, ale czy na pewno? Jeśli ujrzeliście taki widok w przeglądarce, to oznacza, że instalacja zakończyła się pomyślnie i możemy nareszcie przejść do tworzenia aplikacji."
   ]
  },
  {
   "cell_type": "markdown",
   "id": "fd03a078",
   "metadata": {
    "slideshow": {
     "slide_type": "slide"
    }
   },
   "source": [
    "Zaglądnijmy teraz do pliku [urls.py](http://localhost:8888/edit/Documents/Courses/Django/goodmovies/urls.py), znajdziemy tam coś takiego:\n"
   ]
  },
  {
   "cell_type": "code",
   "execution_count": null,
   "id": "1921a6cc",
   "metadata": {},
   "outputs": [],
   "source": [
    "!django-admin startapp movies"
   ]
  },
  {
   "cell_type": "code",
   "execution_count": null,
   "id": "5bf8f33d",
   "metadata": {},
   "outputs": [],
   "source": [
    "!tree"
   ]
  },
  {
   "cell_type": "markdown",
   "id": "6dbf820b",
   "metadata": {
    "slideshow": {
     "slide_type": "subslide"
    }
   },
   "source": [
    "Otwórzmy plik [views.py](http://localhost:8888/edit/Documents/Courses/Django/movies/views.py) umieszczony w [movies/views.py](http://localhost:8888/edit/Documents/Courses/Django/movies/views.py)."
   ]
  },
  {
   "cell_type": "code",
   "execution_count": null,
   "id": "cceeafc7",
   "metadata": {},
   "outputs": [],
   "source": []
  }
 ],
 "metadata": {
  "celltoolbar": "Slideshow",
  "kernelspec": {
   "display_name": "Python 3 (ipykernel)",
   "language": "python",
   "name": "python3"
  },
  "language_info": {
   "codemirror_mode": {
    "name": "ipython",
    "version": 3
   },
   "file_extension": ".py",
   "mimetype": "text/x-python",
   "name": "python",
   "nbconvert_exporter": "python",
   "pygments_lexer": "ipython3",
   "version": "3.10.9"
  }
 },
 "nbformat": 4,
 "nbformat_minor": 5
}
