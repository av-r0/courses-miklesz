{
 "cells": [
  {
   "cell_type": "markdown",
   "id": "631e9c2e",
   "metadata": {
    "slideshow": {
     "slide_type": "slide"
    }
   },
   "source": [
    "# Django - Wprowadzenie\n",
    "*[Mikołaj Leszczuk](mailto:mikolaj.leszczuk@agh.edu.pl), [Agnieszka Rudnicka](mailto:rudnicka@agh.edu.pl)*"
   ]
  },
  {
   "cell_type": "markdown",
   "id": "e26d559c",
   "metadata": {
    "slideshow": {
     "slide_type": "fragment"
    }
   },
   "source": [
    "* Po co nam baza danych?\n",
    "* \"Klasyczne\" zarządzanie bazami danych\n",
    "* Tworzenie tabeli w Django - podgląd migracji\n",
    "* Aplikowanie migracji\n",
    "* Przeglądanie bazy danych przy pomocy DB Browser\n",
    "* Podsumowanie\n",
    "* Panel administracyjny"
   ]
  },
  {
   "cell_type": "markdown",
   "id": "d2c428b9",
   "metadata": {
    "slideshow": {
     "slide_type": "slide"
    }
   },
   "source": [
    "## Po co nam baza danych?"
   ]
  },
  {
   "cell_type": "markdown",
   "id": "fc575a8f",
   "metadata": {
    "slideshow": {
     "slide_type": "fragment"
    }
   },
   "source": [
    "Najprościej mówiąc - to kontener w którym zapisane będą informacje o użytkownikach naszej strony, książki, aktualności i wszystkie inne rzeczy które dodamy. Baza danych w naszym przypadku pozwala na przechowanie danych, które będą dodawane przez użytkownika aplikacji, nie przez programistę. My jako programiści jedynie ustalimy reguły wyznaczając modele. Na tych zajęciach skipimy się na bazach relacyjnych, takich jak sqlite3. Warto jednak wiedzieć, że typów baz danych jest wiele, jednym z takich, który znamy z codzienności jest arkusz kalkulacyjny."
   ]
  },
  {
   "cell_type": "markdown",
   "id": "1d52239b",
   "metadata": {
    "slideshow": {
     "slide_type": "fragment"
    }
   },
   "source": [
    "W tym konspekcie zaczniemy od modelu przeznaczonego do przechowywania książek."
   ]
  },
  {
   "cell_type": "markdown",
   "id": "031a1fb9",
   "metadata": {
    "slideshow": {
     "slide_type": "fragment"
    }
   },
   "source": [
    "Zobaczmy jak to wygląda w praktyce..."
   ]
  },
  {
   "cell_type": "markdown",
   "id": "1f513186",
   "metadata": {
    "slideshow": {
     "slide_type": "slide"
    }
   },
   "source": [
    "## \"Klasyczne\" zarządzanie bazami danych"
   ]
  },
  {
   "cell_type": "markdown",
   "id": "a6b89615",
   "metadata": {
    "slideshow": {
     "slide_type": "fragment"
    }
   },
   "source": [
    "Gdybyśmy nie mieli narzędzi takich jak Django i inne narzędzia, praca z bazami danych (w większości) wymagałaby nauczenia się dodatkowego języka: SQL."
   ]
  },
  {
   "cell_type": "markdown",
   "id": "ea7076a5",
   "metadata": {
    "slideshow": {
     "slide_type": "fragment"
    }
   },
   "source": [
    "Przykładowe tworzenie tabeli z wykorzystaniem SQL:"
   ]
  },
  {
   "cell_type": "markdown",
   "id": "4613e4e2",
   "metadata": {
    "slideshow": {
     "slide_type": "fragment"
    }
   },
   "source": [
    "```sql\n",
    "CREATE TABLE \"movies_movie\" (\n",
    "    \"id\" integer NOT NULL PRIMARY KEY AUTOINCREMENT,\n",
    "    \"title\" varchar(100) NOT NULL,\n",
    "    \"short_description\" text NOT NULL,\n",
    "    \"published_at\" datetime NOT NULL);\n",
    "COMMIT;\n",
    "```"
   ]
  },
  {
   "cell_type": "markdown",
   "id": "f263ae2c",
   "metadata": {
    "slideshow": {
     "slide_type": "fragment"
    }
   },
   "source": [
    "Byłby to kod, który trzeba przetestować i gdzieś zapisać. A następnie pamiętać, żeby wykonać na odpowiedniej bazie danych. Gdyby w trakcie projektu wygląd tej tabeli miałby się ulec zmianie (a często się tak dzieje!) wymagane byłyby kolejne skrypty napisane w SQL. A to tylko początek problemów..."
   ]
  },
  {
   "cell_type": "markdown",
   "id": "2bc16d24",
   "metadata": {
    "slideshow": {
     "slide_type": "slide"
    }
   },
   "source": [
    "## Tworzenie tabeli w Django - podgląd migracji"
   ]
  },
  {
   "cell_type": "markdown",
   "id": "7065eafd",
   "metadata": {
    "slideshow": {
     "slide_type": "fragment"
    }
   },
   "source": [
    "Tworzenie tabeli z wykorzystaniem Django (w pliku [`models.py`](http://localhost:8888/edit/Documents/Courses/Django/movies/models.py)):"
   ]
  },
  {
   "cell_type": "markdown",
   "id": "447c5aee",
   "metadata": {
    "slideshow": {
     "slide_type": "fragment"
    }
   },
   "source": [
    "```python\n",
    "class Movie(models.Model):\n",
    "    title = models.CharField(max_length=100)\n",
    "    short_description = models.TextField()\n",
    "    published_at = models.DateTimeField()\n",
    "```"
   ]
  },
  {
   "cell_type": "markdown",
   "id": "09e27971",
   "metadata": {
    "slideshow": {
     "slide_type": "subslide"
    }
   },
   "source": [
    "Poniższym poleceniem możemy wygenerować migrację. Migracja w tym przypadku to skrypt w Pythonie, który pozwala na utworzenie potrzebnych tabel w bazie danych, która jest podpięta do aplikacji. W naszym przypadku tabele zostaną stworzone w bazie `sb.sqlite3`, która znajduje się domyślnie w głównym katalogu całego projektu/repozytorium kodu."
   ]
  },
  {
   "cell_type": "code",
   "execution_count": null,
   "id": "cee3c2a2",
   "metadata": {
    "slideshow": {
     "slide_type": "fragment"
    }
   },
   "outputs": [],
   "source": [
    "!python3 manage.py makemigrations"
   ]
  },
  {
   "cell_type": "markdown",
   "id": "6dd727d2",
   "metadata": {
    "slideshow": {
     "slide_type": "subslide"
    }
   },
   "source": [
    "Po wykonaniu powyższego polecenia w katalogu `migrations` pojawi się nowy plik nazwany `0001_initial.py`. Migracje są automatycznie numerowane, natomiast ich nazwę można ustawić (`python manage.py makemigrations -n nazwa` wygeneruje `numer_nazwa.py`)."
   ]
  },
  {
   "cell_type": "markdown",
   "id": "b91f4183",
   "metadata": {
    "slideshow": {
     "slide_type": "subslide"
    }
   },
   "source": [
    "Na pierwszy rzut oka może się wydawać, że kodu/pracy wcale nie jest mniej. Jednak kluczowe zyski z korzystania z frameworka to:"
   ]
  },
  {
   "cell_type": "markdown",
   "id": "cfa1940d",
   "metadata": {
    "slideshow": {
     "slide_type": "fragment"
    }
   },
   "source": [
    "* nie trzeba się uczyć dodatkowego języka (SQL)"
   ]
  },
  {
   "cell_type": "markdown",
   "id": "102a2e90",
   "metadata": {
    "slideshow": {
     "slide_type": "fragment"
    }
   },
   "source": [
    "* framework jest dobrze przetestowany przez twórców i użytkowników, więc możemy założyć, że działa"
   ]
  },
  {
   "cell_type": "markdown",
   "id": "de70ca73",
   "metadata": {
    "slideshow": {
     "slide_type": "fragment"
    }
   },
   "source": [
    "* przy każdej zmianie w modelu wystarczy uruchomić polecenie w konsoli, a SQL zostanie wygenerowany automatycznie - nie musimy się zastanawiać co się zmieniło"
   ]
  },
  {
   "cell_type": "markdown",
   "id": "514ffee3",
   "metadata": {
    "slideshow": {
     "slide_type": "fragment"
    }
   },
   "source": [
    "Innymi słowy - oszczędzamy czas dzięki gotowym narzędziom :)"
   ]
  },
  {
   "cell_type": "markdown",
   "id": "e33e5d59",
   "metadata": {
    "slideshow": {
     "slide_type": "subslide"
    }
   },
   "source": [
    "Podgląd migracji"
   ]
  },
  {
   "cell_type": "markdown",
   "id": "61a3b1b5",
   "metadata": {
    "slideshow": {
     "slide_type": "fragment"
    }
   },
   "source": [
    "Jeśli chcielibyśmy jedynie podejrzeć co zostanie wygenerowane możemy wykorzystać dodatkowe flagi:"
   ]
  },
  {
   "cell_type": "markdown",
   "id": "32f6c58f",
   "metadata": {
    "slideshow": {
     "slide_type": "fragment"
    }
   },
   "source": [
    "```sh\n",
    "--dry-run -v 3\n",
    "```"
   ]
  },
  {
   "cell_type": "markdown",
   "id": "222697b4",
   "metadata": {
    "slideshow": {
     "slide_type": "fragment"
    }
   },
   "source": [
    "Pierwsza część pozwala na \"wykonanie na sucho\", czyli cała maszyneria zostanie uruchomiona, ale migracja nie zostanie zapisana na dysku/stworzona. `-v 3` natomiast pozwala na wypisanie wszystkich szczegółów procesu generowania migracji a także samej migracji."
   ]
  },
  {
   "cell_type": "markdown",
   "id": "9e7317dc",
   "metadata": {
    "slideshow": {
     "slide_type": "subslide"
    }
   },
   "source": [
    " Wynik działania tego polecenia możemy zobaczyć poniżej:"
   ]
  },
  {
   "cell_type": "markdown",
   "id": "ea88493f",
   "metadata": {
    "slideshow": {
     "slide_type": "fragment"
    }
   },
   "source": [
    "```sh\n",
    "python3 manage.py makemigrations --dry-run -v 3\n",
    "\n",
    "# Powyższe polecenie wypisze na konsole poniższe informacje\n",
    "\n",
    "Migrations for 'movies':\n",
    "  movies\\migrations\\0001_initial.py\n",
    "    - Create model Movie\n",
    "Full migrations file '0001_initial.py':\n",
    "# Generated by Django\n",
    "\n",
    "from django.db import migrations, models\n",
    "\n",
    "class Migration(migrations.Migration):\n",
    "\n",
    "    initial = True\n",
    "    \n",
    "    dependencies = [\n",
    "    ]\n",
    "    \n",
    "    operations = [\n",
    "        migrations.CreateModel(\n",
    "            name='Movie',\n",
    "            fields=[\n",
    "                ('id', models.AutoField(auto_created=True, primary_key=True, serialize=False, verbose_name='ID')),\n",
    "                ('title', models.CharField(max_length=100)),\n",
    "                ('short_description', models.TextField()),\n",
    "                ('published_at', models.DateTimeField()),\n",
    "            ],\n",
    "        ),\n",
    "    ]\n",
    "```"
   ]
  },
  {
   "cell_type": "markdown",
   "id": "65f46818",
   "metadata": {
    "slideshow": {
     "slide_type": "fragment"
    }
   },
   "source": [
    "Jak widzimy, najpierw narzędzie poinformowało nas, że tworzona zostaje migracja dla aplikacji \"movies\" a następnie w terminalu wypisana została cała migracja (ten krótki kawałek kodu w Pythonie począwszy od `# Generated by Django` do samego końca)."
   ]
  },
  {
   "cell_type": "markdown",
   "id": "5a9412c8",
   "metadata": {
    "slideshow": {
     "slide_type": "slide"
    }
   },
   "source": [
    "## Aplikowanie migracji"
   ]
  },
  {
   "cell_type": "markdown",
   "id": "47e0b57c",
   "metadata": {
    "slideshow": {
     "slide_type": "fragment"
    }
   },
   "source": [
    "Teraz kiedy mamy już napisany podstawowy model oraz wygenerowaną migrację trzeba ją zaaplikować na bazę danych."
   ]
  },
  {
   "cell_type": "markdown",
   "id": "8c2621a4",
   "metadata": {
    "slideshow": {
     "slide_type": "fragment"
    }
   },
   "source": [
    "Utworzy to odpowiednią tabele na nasze książki w bazie danych."
   ]
  },
  {
   "cell_type": "code",
   "execution_count": null,
   "id": "a2ef37f6",
   "metadata": {
    "slideshow": {
     "slide_type": "subslide"
    }
   },
   "outputs": [],
   "source": [
    "!python3 manage.py migrate"
   ]
  },
  {
   "cell_type": "markdown",
   "id": "76abd772",
   "metadata": {
    "slideshow": {
     "slide_type": "subslide"
    }
   },
   "source": [
    "W outpucie, w linijce `Applying movies.0001_initial... OK` widnieje nasza migracja! Ona została zaaplikowana."
   ]
  },
  {
   "cell_type": "markdown",
   "id": "8448bbb7",
   "metadata": {
    "slideshow": {
     "slide_type": "slide"
    }
   },
   "source": [
    "## Przeglądanie bazy danych przy pomocy DB Browser"
   ]
  },
  {
   "cell_type": "markdown",
   "id": "ad37b17c",
   "metadata": {
    "slideshow": {
     "slide_type": "fragment"
    }
   },
   "source": [
    "Do przeglądania bazy danych SQLite można wykorzystać [https://sqlitebrowser.org/](https://sqlitebrowser.org/)"
   ]
  },
  {
   "cell_type": "markdown",
   "id": "b267b64a",
   "metadata": {
    "slideshow": {
     "slide_type": "fragment"
    }
   },
   "source": [
    "Jest to mały darmowy program, który uruchommy."
   ]
  },
  {
   "cell_type": "markdown",
   "id": "9bf75ac6",
   "metadata": {
    "slideshow": {
     "slide_type": "slide"
    }
   },
   "source": [
    "## Podsumowanie"
   ]
  },
  {
   "cell_type": "markdown",
   "id": "f10a59f7",
   "metadata": {
    "slideshow": {
     "slide_type": "fragment"
    }
   },
   "source": [
    "Reasumując, aby przechowywać informacje w bazie danych musimy:"
   ]
  },
  {
   "cell_type": "markdown",
   "id": "57d99d30",
   "metadata": {
    "slideshow": {
     "slide_type": "fragment"
    }
   },
   "source": [
    "1. Opisać w Django (plik `models.py`) jak ma się nazywać model, jakie ma mieć pola oraz jakie właściwości mają te pola posiadać. (np. pole \"data_utworzenia\", typ: data, wymagane)\n",
    "2. Wygenerować migrację (polecenie: `python manage.py makemigrations`)\n",
    "3. Zaaplikować migrację na bazie danych, co spowoduje utworzenie odpowiednich tabel lub wprowadzenie zmian w istniejących. (polecenie: `manage.py migrate`)"
   ]
  },
  {
   "cell_type": "markdown",
   "id": "de9c5c04",
   "metadata": {
    "slideshow": {
     "slide_type": "slide"
    }
   },
   "source": [
    "## Panel administracyjny"
   ]
  },
  {
   "cell_type": "markdown",
   "id": "874fba2a",
   "metadata": {
    "slideshow": {
     "slide_type": "fragment"
    }
   },
   "source": [
    "Najszybszym (i dla niektórych najwygodniejszym) sposobem, żeby dodać nowe książki będzie wykorzystanie panelu administracyjnego Django. Jest to narzędzie dostarczone z frameworkiem, domyślnie włączone."
   ]
  },
  {
   "cell_type": "markdown",
   "id": "35fc9c1a",
   "metadata": {
    "slideshow": {
     "slide_type": "fragment"
    }
   },
   "source": [
    "Aby z niego skorzystać musimy zarejestrować nasz model `Movie` jako obsługiwany przez panel administracyjny. W tym celu otwórzmy plik [`admin.py`](http://localhost:8888/edit/Documents/Courses/Django/movies/admin.py) znajdujący się w katalog aplikacji ([`movies/admin.py`](http://localhost:8888/edit/Documents/Courses/Django/movies/admin.py))."
   ]
  },
  {
   "cell_type": "markdown",
   "id": "9e865925",
   "metadata": {
    "slideshow": {
     "slide_type": "skip"
    }
   },
   "source": []
  }
 ],
 "metadata": {
  "celltoolbar": "Slideshow",
  "kernelspec": {
   "display_name": "Python 3 (ipykernel)",
   "language": "python",
   "name": "python3"
  },
  "language_info": {
   "codemirror_mode": {
    "name": "ipython",
    "version": 3
   },
   "file_extension": ".py",
   "mimetype": "text/x-python",
   "name": "python",
   "nbconvert_exporter": "python",
   "pygments_lexer": "ipython3",
   "version": "3.10.9"
  }
 },
 "nbformat": 4,
 "nbformat_minor": 5
}
