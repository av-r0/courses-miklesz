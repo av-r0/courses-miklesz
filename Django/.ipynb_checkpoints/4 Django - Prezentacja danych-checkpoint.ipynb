{
 "cells": [
  {
   "cell_type": "markdown",
   "id": "631e9c2e",
   "metadata": {
    "slideshow": {
     "slide_type": "slide"
    }
   },
   "source": [
    "# Django - Wprowadzenie\n",
    "*[Mikołaj Leszczuk](mailto:mikolaj.leszczuk@agh.edu.pl), [Agnieszka Rudnicka](mailto:rudnicka@agh.edu.pl)*"
   ]
  },
  {
   "cell_type": "markdown",
   "id": "e26d559c",
   "metadata": {
    "slideshow": {
     "slide_type": "fragment"
    }
   },
   "source": [
    "* Szablony HTML w Django - szablon bazowy dla naszej aplikacji\n",
    "* Prezentacja danych z bazy"
   ]
  },
  {
   "cell_type": "markdown",
   "id": "78028d22",
   "metadata": {
    "slideshow": {
     "slide_type": "slide"
    }
   },
   "source": [
    "## Szablony HTML w Django - szablon bazowy dla naszej aplikacji"
   ]
  },
  {
   "cell_type": "markdown",
   "id": "e3d30c49",
   "metadata": {
    "slideshow": {
     "slide_type": "fragment"
    }
   },
   "source": [
    "Każda strona WWW ma kilka stałych elementów interfejsu, takich jak: menu, stopka, obszar gdzie wyświetlane są treści, czasem pasek boczny i inne. Każda podstrona naszej aplikacji musi więc składać się z tego samego kodu, kopiowanego wszędzie i trudnego w utrzymaniu. Gdy zrobimy gdzieś literówkę, to musimy poprawiać we wszystkich plikach z osobna! Gdy chcemy dodać coś nowego do interfejsu też."
   ]
  },
  {
   "cell_type": "markdown",
   "id": "d92b226a",
   "metadata": {
    "slideshow": {
     "slide_type": "fragment"
    }
   },
   "source": [
    "Na szczęście istnieją frameworki! Django jak wiele innych narzędzi ma sposób na taką redundancję kodu - [Django HTML Templating Engine](https://docs.djangoproject.com/en/3.0/topics/templates/). W skrócie nazywane dalej szablonami HTML Django."
   ]
  },
  {
   "cell_type": "markdown",
   "id": "5e5af58f",
   "metadata": {
    "slideshow": {
     "slide_type": "fragment"
    }
   },
   "source": [
    "Do tej pory mieliśmy do czynienia głównie ze standardową składnią HTML."
   ]
  },
  {
   "cell_type": "markdown",
   "id": "395f1803",
   "metadata": {
    "slideshow": {
     "slide_type": "subslide"
    }
   },
   "source": [
    "Django wzbogaca możliwości HTML między innymi o dziedziczenie szablonów. To pozwala nam napisać jeden raz szablon bazowy naszej aplikacji, który będzie dynamicznie załączany do każdej podstrony, która po nim dziedziczy. Brzmi magicznie? Nie szkodzi, zobaczmy jak to wygląda w praktyce."
   ]
  },
  {
   "cell_type": "markdown",
   "id": "23e4519d",
   "metadata": {
    "slideshow": {
     "slide_type": "subslide"
    }
   },
   "source": [
    "Na dobry początek utwórzmy w katalogu [`movies/templates/`](movies/templates/) nowy plik [`base.html`](http://localhost:8888/edit/Documents/Courses/Django/movies/templates/base.html). Będzie to nasz bazowy szablon wykorzystywany przez inne podstrony."
   ]
  },
  {
   "cell_type": "markdown",
   "id": "026721c1",
   "metadata": {
    "slideshow": {
     "slide_type": "fragment"
    }
   },
   "source": [
    "Zacznijmy od czegoś prostego (proponowana początkowa zawartość [`base.html`](http://localhost:8888/edit/Documents/Courses/Django/movies/templates/base.html)):"
   ]
  },
  {
   "cell_type": "markdown",
   "id": "552779d5",
   "metadata": {
    "slideshow": {
     "slide_type": "fragment"
    }
   },
   "source": [
    "```html\n",
    "<!DOCTYPE html>\n",
    "<html lang=\"pl\">\n",
    "<head>\n",
    "    <meta charset=\"UTF-8\">\n",
    "    <title>Moja biblioteka filmów</title>\n",
    "</head>\n",
    "<body>\n",
    "    \n",
    "</body>\n",
    "</html>\n",
    "```"
   ]
  },
  {
   "cell_type": "markdown",
   "id": "b82d1cd9",
   "metadata": {
    "slideshow": {
     "slide_type": "subslide"
    }
   },
   "source": [
    "Powyższy HTML wyświetli nam jedynie pustą stronę z tytułem karty \"Moja biblioteka filmów\". Dodajmy więc przynajmniej jakiś nagłówek (oczywiście w środku elementu `<body> </body>`):"
   ]
  },
  {
   "cell_type": "markdown",
   "id": "23b17ba2",
   "metadata": {
    "slideshow": {
     "slide_type": "fragment"
    }
   },
   "source": [
    "```html\n",
    "<h1>\n",
    "    Witamy w filmotece!\n",
    "</h1>\n",
    "```"
   ]
  },
  {
   "cell_type": "markdown",
   "id": "69256ac1",
   "metadata": {
    "slideshow": {
     "slide_type": "fragment"
    }
   },
   "source": [
    "W ten sposób będziemy wiedzieli, że każda strona wykorzystuje ten kod HTML, bo nam się wyświetli nagłówek."
   ]
  },
  {
   "cell_type": "markdown",
   "id": "324b5e15",
   "metadata": {
    "slideshow": {
     "slide_type": "subslide"
    }
   },
   "source": [
    "Następnie dodajmy HTMLowy tag Django:"
   ]
  },
  {
   "cell_type": "markdown",
   "id": "c448af9d",
   "metadata": {
    "slideshow": {
     "slide_type": "fragment"
    }
   },
   "source": [
    "```django\n",
    "{% block content %}\n",
    "    Tu będzie treść...\n",
    "{% endblock %}\n",
    "```"
   ]
  },
  {
   "cell_type": "markdown",
   "id": "870b85d2",
   "metadata": {
    "slideshow": {
     "slide_type": "fragment"
    }
   },
   "source": [
    "Ten fragment kodu informuje Django, że w tym miejscu pliku HTML można wstawić jakąś zawartość w szablonach HTML, które rozszerzają ten. Kontynuujmy..."
   ]
  },
  {
   "cell_type": "markdown",
   "id": "88f2166f",
   "metadata": {
    "slideshow": {
     "slide_type": "fragment"
    }
   },
   "source": [
    "_Tag `{% block %}{% endblock %}` może być pusty, ale jeśli coś w nim umieścimy zadziała to jak domyślna wartość._"
   ]
  },
  {
   "cell_type": "markdown",
   "id": "e6b0bd8a",
   "metadata": {
    "slideshow": {
     "slide_type": "subslide"
    }
   },
   "source": [
    "W szablonie z poprzednich zajęć [`hello.html`](http://localhost:8888/edit/Documents/Courses/Django/movies/templates/hello.html) dodajmy na górze pliku, w pierwszej linijce `extends`."
   ]
  },
  {
   "cell_type": "markdown",
   "id": "a8e78294",
   "metadata": {
    "slideshow": {
     "slide_type": "fragment"
    }
   },
   "source": [
    "```django\n",
    "{% extends \"base.html\" %}\n",
    "\n",
    "<h1>Witaj świecie z HTML!</h1>\n",
    "```"
   ]
  },
  {
   "cell_type": "markdown",
   "id": "52220a2c",
   "metadata": {
    "slideshow": {
     "slide_type": "fragment"
    }
   },
   "source": [
    "A następnie wejdźmy na [tę stronę](http://127.0.0.1:8000/hello/) w przeglądarce. Rezultaty? :)"
   ]
  },
  {
   "cell_type": "markdown",
   "id": "2ad8967f",
   "metadata": {
    "slideshow": {
     "slide_type": "subslide"
    }
   },
   "source": [
    "To teraz zobaczymy co oznaczało \"wstawić jakąś zawartość w szablonach HTML, które rozszerzają ten ([`base.html`](http://localhost:8888/edit/Documents/Courses/Django/movies/templates/base.html))\". Zmieńmy kod na następujący."
   ]
  },
  {
   "cell_type": "markdown",
   "id": "cb5ea764",
   "metadata": {
    "slideshow": {
     "slide_type": "fragment"
    }
   },
   "source": [
    "```django\n",
    "{% extends \"base.html\" %}\n",
    "\n",
    "{% block content %}\n",
    "    <h1>Witaj świecie z HTML!</h1>\n",
    "{% endblock %}\n",
    "```"
   ]
  },
  {
   "cell_type": "markdown",
   "id": "9618d4c3",
   "metadata": {
    "slideshow": {
     "slide_type": "fragment"
    }
   },
   "source": [
    "I ponownie udajmy się do przeglądarki."
   ]
  },
  {
   "cell_type": "markdown",
   "id": "1bed62db",
   "metadata": {
    "slideshow": {
     "slide_type": "slide"
    }
   },
   "source": [
    "# Prezentacja danych z bazy"
   ]
  },
  {
   "cell_type": "code",
   "execution_count": null,
   "id": "f581837b",
   "metadata": {
    "slideshow": {
     "slide_type": "skip"
    }
   },
   "outputs": [],
   "source": []
  }
 ],
 "metadata": {
  "celltoolbar": "Slideshow",
  "kernelspec": {
   "display_name": "Python 3 (ipykernel)",
   "language": "python",
   "name": "python3"
  },
  "language_info": {
   "codemirror_mode": {
    "name": "ipython",
    "version": 3
   },
   "file_extension": ".py",
   "mimetype": "text/x-python",
   "name": "python",
   "nbconvert_exporter": "python",
   "pygments_lexer": "ipython3",
   "version": "3.10.9"
  }
 },
 "nbformat": 4,
 "nbformat_minor": 5
}
