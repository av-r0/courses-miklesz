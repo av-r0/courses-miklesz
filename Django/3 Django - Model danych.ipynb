{
 "cells": [
  {
   "cell_type": "markdown",
   "id": "631e9c2e",
   "metadata": {
    "slideshow": {
     "slide_type": "slide"
    }
   },
   "source": [
    "# Django - Wprowadzenie\n",
    "*[Mikołaj Leszczuk](mailto:mikolaj.leszczuk@agh.edu.pl), [Agnieszka Rudnicka](mailto:rudnicka@agh.edu.pl)*"
   ]
  },
  {
   "cell_type": "markdown",
   "id": "e26d559c",
   "metadata": {
    "slideshow": {
     "slide_type": "fragment"
    }
   },
   "source": [
    "* Po co nam baza danych?\n",
    "* \"Klasyczne\" zarządzanie bazami danych\n",
    "* Tworzenie tabeli w Django"
   ]
  },
  {
   "cell_type": "markdown",
   "id": "d2c428b9",
   "metadata": {
    "slideshow": {
     "slide_type": "slide"
    }
   },
   "source": [
    "## Po co nam baza danych?"
   ]
  },
  {
   "cell_type": "markdown",
   "id": "fc575a8f",
   "metadata": {
    "slideshow": {
     "slide_type": "fragment"
    }
   },
   "source": [
    "Najprościej mówiąc - to kontener w którym zapisane będą informacje o użytkownikach naszej strony, książki, aktualności i wszystkie inne rzeczy które dodamy. Baza danych w naszym przypadku pozwala na przechowanie danych, które będą dodawane przez użytkownika aplikacji, nie przez programistę. My jako programiści jedynie ustalimy reguły wyznaczając modele. Na tych zajęciach skipimy się na bazach relacyjnych, takich jak sqlite3. Warto jednak wiedzieć, że typów baz danych jest wiele, jednym z takich, który znamy z codzienności jest arkusz kalkulacyjny."
   ]
  },
  {
   "cell_type": "markdown",
   "id": "1d52239b",
   "metadata": {
    "slideshow": {
     "slide_type": "fragment"
    }
   },
   "source": [
    "W tym konspekcie zaczniemy od modelu przeznaczonego do przechowywania książek."
   ]
  },
  {
   "cell_type": "markdown",
   "id": "031a1fb9",
   "metadata": {
    "slideshow": {
     "slide_type": "fragment"
    }
   },
   "source": [
    "Zobaczmy jak to wygląda w praktyce..."
   ]
  },
  {
   "cell_type": "markdown",
   "id": "1f513186",
   "metadata": {
    "slideshow": {
     "slide_type": "slide"
    }
   },
   "source": [
    "## \"Klasyczne\" zarządzanie bazami danych"
   ]
  },
  {
   "cell_type": "markdown",
   "id": "a6b89615",
   "metadata": {
    "slideshow": {
     "slide_type": "fragment"
    }
   },
   "source": [
    "Gdybyśmy nie mieli narzędzi takich jak Django i inne narzędzia, praca z bazami danych (w większości) wymagałaby nauczenia się dodatkowego języka: SQL."
   ]
  },
  {
   "cell_type": "markdown",
   "id": "ea7076a5",
   "metadata": {
    "slideshow": {
     "slide_type": "fragment"
    }
   },
   "source": [
    "Przykładowe tworzenie tabeli z wykorzystaniem SQL:"
   ]
  },
  {
   "cell_type": "markdown",
   "id": "4613e4e2",
   "metadata": {
    "slideshow": {
     "slide_type": "fragment"
    }
   },
   "source": [
    "```sql\n",
    "CREATE TABLE \"movies_movie\" (\n",
    "    \"id\" integer NOT NULL PRIMARY KEY AUTOINCREMENT,\n",
    "    \"title\" varchar(100) NOT NULL,\n",
    "    \"short_description\" text NOT NULL,\n",
    "    \"published_at\" datetime NOT NULL);\n",
    "COMMIT;\n",
    "```"
   ]
  },
  {
   "cell_type": "markdown",
   "id": "f263ae2c",
   "metadata": {
    "slideshow": {
     "slide_type": "fragment"
    }
   },
   "source": [
    "Byłby to kod, który trzeba przetestować i gdzieś zapisać. A następnie pamiętać, żeby wykonać na odpowiedniej bazie danych. Gdyby w trakcie projektu wygląd tej tabeli miałby się ulec zmianie (a często się tak dzieje!) wymagane byłyby kolejne skrypty napisane w SQL. A to tylko początek problemów..."
   ]
  },
  {
   "cell_type": "markdown",
   "id": "2bc16d24",
   "metadata": {
    "slideshow": {
     "slide_type": "slide"
    }
   },
   "source": [
    "## Tworzenie tabeli w Django"
   ]
  },
  {
   "cell_type": "markdown",
   "id": "7065eafd",
   "metadata": {
    "slideshow": {
     "slide_type": "fragment"
    }
   },
   "source": [
    "Tworzenie tabeli z wykorzystaniem Django (w pliku [`models.py`](http://localhost:8888/edit/Documents/Courses/Django/movies/models.py)):"
   ]
  },
  {
   "cell_type": "markdown",
   "id": "447c5aee",
   "metadata": {
    "slideshow": {
     "slide_type": "fragment"
    }
   },
   "source": [
    "```python\n",
    "class Movie(models.Model):\n",
    "    title = models.CharField(max_length=100)\n",
    "    short_description = models.TextField()\n",
    "    published_at = models.DateTimeField()\n",
    "```"
   ]
  },
  {
   "cell_type": "markdown",
   "id": "09e27971",
   "metadata": {
    "slideshow": {
     "slide_type": "fragment"
    }
   },
   "source": [
    "Poniższym poleceniem możemy wygenerować migrację. Migracja w tym przypadku to skrypt w Pythonie, który pozwala na utworzenie potrzebnych tabel w bazie danych, która jest podpięta do aplikacji. W naszym przypadku tabele zostaną stworzone w bazie `sb.sqlite3`, która znajduje się domyślnie w głównym katalogu całego projektu/repozytorium kodu."
   ]
  },
  {
   "cell_type": "code",
   "execution_count": null,
   "id": "cee3c2a2",
   "metadata": {
    "slideshow": {
     "slide_type": "fragment"
    }
   },
   "outputs": [],
   "source": [
    "!python3 manage.py makemigrations"
   ]
  },
  {
   "cell_type": "markdown",
   "id": "6dd727d2",
   "metadata": {
    "slideshow": {
     "slide_type": "fragment"
    }
   },
   "source": [
    "Po wykonaniu powyższego polecenia w katalogu `migrations` pojawi się nowy plik nazwany `0001_initial.py`. Migracje są automatycznie numerowane, natomiast ich nazwę można ustawić (`python manage.py makemigrations -n nazwa` wygeneruje `numer_nazwa.py`)."
   ]
  },
  {
   "cell_type": "markdown",
   "id": "b91f4183",
   "metadata": {
    "slideshow": {
     "slide_type": "fragment"
    }
   },
   "source": [
    "Na pierwszy rzut oka może się wydawać, że kodu/pracy wcale nie jest mniej. Jednak kluczowe zyski z korzystania z frameworka to:"
   ]
  },
  {
   "cell_type": "markdown",
   "id": "cfa1940d",
   "metadata": {
    "slideshow": {
     "slide_type": "fragment"
    }
   },
   "source": [
    "* nie trzeba się uczyć dodatkowego języka (SQL)"
   ]
  },
  {
   "cell_type": "markdown",
   "id": "102a2e90",
   "metadata": {
    "slideshow": {
     "slide_type": "fragment"
    }
   },
   "source": [
    "* framework jest dobrze przetestowany przez twórców i użytkowników, więc możemy założyć, że działa"
   ]
  },
  {
   "cell_type": "markdown",
   "id": "de70ca73",
   "metadata": {
    "slideshow": {
     "slide_type": "fragment"
    }
   },
   "source": [
    "* przy każdej zmianie w modelu wystarczy uruchomić polecenie w konsoli, a SQL zostanie wygenerowany automatycznie - nie musimy się zastanawiać co się zmieniło"
   ]
  },
  {
   "cell_type": "markdown",
   "id": "514ffee3",
   "metadata": {
    "slideshow": {
     "slide_type": "fragment"
    }
   },
   "source": [
    "Innymi słowy - oszczędzamy czas dzięki gotowym narzędziom :)"
   ]
  },
  {
   "cell_type": "markdown",
   "id": "9e865925",
   "metadata": {
    "slideshow": {
     "slide_type": "skip"
    }
   },
   "source": []
  }
 ],
 "metadata": {
  "celltoolbar": "Slideshow",
  "kernelspec": {
   "display_name": "Python 3 (ipykernel)",
   "language": "python",
   "name": "python3"
  },
  "language_info": {
   "codemirror_mode": {
    "name": "ipython",
    "version": 3
   },
   "file_extension": ".py",
   "mimetype": "text/x-python",
   "name": "python",
   "nbconvert_exporter": "python",
   "pygments_lexer": "ipython3",
   "version": "3.10.9"
  }
 },
 "nbformat": 4,
 "nbformat_minor": 5
}
