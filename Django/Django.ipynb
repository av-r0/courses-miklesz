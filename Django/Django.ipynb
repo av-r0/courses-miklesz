{
 "cells": [
  {
   "cell_type": "markdown",
   "id": "631e9c2e",
   "metadata": {
    "slideshow": {
     "slide_type": "slide"
    }
   },
   "source": [
    "# Django - Wprowadzenie\n",
    "*[Mikołaj Leszczuk](mailto:mikolaj.leszczuk@agh.edu.pl), [Agnieszka Rudnicka](mailto:rudnicka@agh.edu.pl)*"
   ]
  },
  {
   "cell_type": "markdown",
   "id": "e26d559c",
   "metadata": {
    "slideshow": {
     "slide_type": "fragment"
    }
   },
   "source": [
    "* Czym jest Django?\n",
    "* Przygotowanie środowiska\n",
    "* Nasz pierwszy projekt w Django\n",
    "* URL Resolver\n",
    "* Nasza pierwsza aplikacja\n",
    "* Nasz pierwszy widok\n",
    "* Nasz pierwszy \"pełnoprawny\" widok"
   ]
  },
  {
   "cell_type": "markdown",
   "id": "bf30e700",
   "metadata": {
    "slideshow": {
     "slide_type": "slide"
    }
   },
   "source": [
    "## Czym jest Django?"
   ]
  },
  {
   "cell_type": "markdown",
   "id": "0aa86761",
   "metadata": {
    "slideshow": {
     "slide_type": "fragment"
    }
   },
   "source": [
    "**Django** to darmowy i open source'owy framework do budowania aplikacji webowych napisany w Pythonie. Innymi słowy to zestaw narzędzi, który przyśpiesza i ułatwia znacząco proces tworzenia stron."
   ]
  },
  {
   "cell_type": "markdown",
   "id": "d49afcb5",
   "metadata": {
    "slideshow": {
     "slide_type": "subslide"
    }
   },
   "source": [
    "Gdy tworzymy strony internetowe, wiele elementów się powtarza między projektami. Są to przykładowo mechanizmy tworzenia, zarządzania i uwierzytelniania użytkowników, panel zarzadzania treścią czy też mechanizmy wyświetlania i przetwarzania formularzy. Django wychodzi na przeciw tym powtarzającym się wyzwaniom oferując między innymi:"
   ]
  },
  {
   "cell_type": "markdown",
   "id": "90834c0d",
   "metadata": {
    "slideshow": {
     "slide_type": "fragment"
    }
   },
   "source": [
    "* gotowy system tworzenia, rejestracji i logowania użytkowników"
   ]
  },
  {
   "cell_type": "markdown",
   "id": "4c48e114",
   "metadata": {
    "slideshow": {
     "slide_type": "fragment"
    }
   },
   "source": [
    "* gotowy system grup i uprawnień do modeli"
   ]
  },
  {
   "cell_type": "markdown",
   "id": "1e7e524b",
   "metadata": {
    "slideshow": {
     "slide_type": "fragment"
    }
   },
   "source": [
    "* mini-framework do tworzenia i przetwarzania formularzy (`django.contrib.forms`)"
   ]
  },
  {
   "cell_type": "markdown",
   "id": "64376663",
   "metadata": {
    "slideshow": {
     "slide_type": "fragment"
    }
   },
   "source": [
    "* auto-generowany panel administracyjny"
   ]
  },
  {
   "cell_type": "markdown",
   "id": "accfdcef",
   "metadata": {
    "slideshow": {
     "slide_type": "subslide"
    }
   },
   "source": [
    "* gotowe klasy (Class Based Views) na podstawie których można w kilka linijek kodu tworzyć pełnoprawne widoki CRUD (Create Read Update Delete)"
   ]
  },
  {
   "cell_type": "markdown",
   "id": "807c109f",
   "metadata": {
    "slideshow": {
     "slide_type": "fragment"
    }
   },
   "source": [
    "* potężny ORM (ang. *Object Relational Mapping*), czyli narzędzie do operowania na danych w bazach danych bez potrzeby użycia SQL (ang. Structured Query Language)"
   ]
  },
  {
   "cell_type": "markdown",
   "id": "8935f5b2",
   "metadata": {
    "slideshow": {
     "slide_type": "fragment"
    }
   },
   "source": [
    "* wbudowane mechanizmy cachowania, wysyłania maili"
   ]
  },
  {
   "cell_type": "markdown",
   "id": "1a3764a9",
   "metadata": {
    "slideshow": {
     "slide_type": "fragment"
    }
   },
   "source": [
    "* ...i wiele innych"
   ]
  },
  {
   "cell_type": "markdown",
   "id": "ede17e66",
   "metadata": {
    "slideshow": {
     "slide_type": "slide"
    }
   },
   "source": [
    "## Przygotowanie środowiska"
   ]
  },
  {
   "cell_type": "markdown",
   "id": "6fd6ff3d",
   "metadata": {
    "slideshow": {
     "slide_type": "fragment"
    }
   },
   "source": [
    "Sprawdźmy, czy mamy poprawnie zainstalowany język Python w wersji 3 poleceniem w terminalu. Naszym oczom powinno się ukazać coś takiego:"
   ]
  },
  {
   "cell_type": "code",
   "execution_count": null,
   "id": "b7da4234",
   "metadata": {
    "slideshow": {
     "slide_type": "fragment"
    }
   },
   "outputs": [],
   "source": [
    "!python -V"
   ]
  },
  {
   "cell_type": "markdown",
   "id": "44016111",
   "metadata": {
    "slideshow": {
     "slide_type": "fragment"
    }
   },
   "source": [
    "W przypadku systemów opartych o jądro Linux może być potrzeba wpisać `python3 -V`, ponieważ samo polecenie python może być linkowane do starszego interpretera (2.7)."
   ]
  },
  {
   "cell_type": "markdown",
   "id": "945d5814",
   "metadata": {
    "slideshow": {
     "slide_type": "subslide"
    }
   },
   "source": [
    "A teraz właściwa część przygotowania środowiska - czyli instalujemy framework Django:"
   ]
  },
  {
   "cell_type": "code",
   "execution_count": null,
   "id": "caf00518",
   "metadata": {
    "slideshow": {
     "slide_type": "fragment"
    }
   },
   "outputs": [],
   "source": [
    "pip install django"
   ]
  },
  {
   "cell_type": "markdown",
   "id": "d4fa2a8e",
   "metadata": {
    "slideshow": {
     "slide_type": "subslide"
    }
   },
   "source": [
    "Po wykonaniu powyższego polecenia możemy sprawdzić aktualnie zainstalowane pakiety poleceniem `pip list`. U mnie lista wygląda tak:"
   ]
  },
  {
   "cell_type": "code",
   "execution_count": null,
   "id": "7d2e8a63",
   "metadata": {
    "slideshow": {
     "slide_type": "fragment"
    }
   },
   "outputs": [],
   "source": [
    "pip list"
   ]
  },
  {
   "cell_type": "markdown",
   "id": "ca6b23bb",
   "metadata": {
    "slideshow": {
     "slide_type": "slide"
    }
   },
   "source": [
    "## Nasz pierwszy projekt w Django"
   ]
  },
  {
   "cell_type": "markdown",
   "id": "57913784",
   "metadata": {
    "slideshow": {
     "slide_type": "fragment"
    }
   },
   "source": [
    "Django zaopatruje nas w polecenie `django-admin`, które pozwala na tworzenie nowych projektów, appek i inne działania."
   ]
  },
  {
   "cell_type": "markdown",
   "id": "dd8de7b7",
   "metadata": {
    "slideshow": {
     "slide_type": "fragment"
    }
   },
   "source": [
    "Aby stworzyć nowy projekt wykonajmy polecenie (warto zauważyć kropkę na końcu, która wskazuje na aktualny katalog):"
   ]
  },
  {
   "cell_type": "code",
   "execution_count": null,
   "id": "65ea4683",
   "metadata": {
    "slideshow": {
     "slide_type": "fragment"
    }
   },
   "outputs": [],
   "source": [
    "!rm -r manage.py goodmovies movies db.sqlite3"
   ]
  },
  {
   "cell_type": "code",
   "execution_count": null,
   "id": "3801143c",
   "metadata": {
    "slideshow": {
     "slide_type": "fragment"
    }
   },
   "outputs": [],
   "source": [
    "!django-admin startproject goodmovies ."
   ]
  },
  {
   "cell_type": "markdown",
   "id": "c8227be8",
   "metadata": {
    "slideshow": {
     "slide_type": "subslide"
    }
   },
   "source": [
    "W aktualnym katalogu powinny się pojawić następujące pliki:"
   ]
  },
  {
   "cell_type": "code",
   "execution_count": null,
   "id": "31877b33",
   "metadata": {
    "slideshow": {
     "slide_type": "fragment"
    }
   },
   "outputs": [],
   "source": [
    "!tree"
   ]
  },
  {
   "cell_type": "markdown",
   "id": "37d67dec",
   "metadata": {
    "slideshow": {
     "slide_type": "subslide"
    }
   },
   "source": [
    "* *goodmovies/* - katalog z podstawowymi ustawieniami naszego projektu, najważniejszy plik to `settings.py`, to tam znajdziemy ustawienia projektu. Innym ważnym plikiem jest `urls.py` w którym to podane są URLe do widoków aplikacji - więcej o tym już niebawem."
   ]
  },
  {
   "cell_type": "markdown",
   "id": "5bff69af",
   "metadata": {
    "slideshow": {
     "slide_type": "fragment"
    }
   },
   "source": [
    "* *manage.py* - plik do zarządzania projektem, coś w rodzaju manage-scriptu, więcej o nim za chwilę"
   ]
  },
  {
   "cell_type": "markdown",
   "id": "a204ca56",
   "metadata": {
    "slideshow": {
     "slide_type": "subslide"
    }
   },
   "source": [
    "[Uruchommy więc nasz projekt!](Run.ipynb)"
   ]
  },
  {
   "cell_type": "markdown",
   "id": "0b57ab5d",
   "metadata": {
    "slideshow": {
     "slide_type": "fragment"
    }
   },
   "source": [
    "Przejdźmy zatem do przeglądarki jak proponuje wiadomość w terminalu. Adres to: [http://127.0.0.1:8000/](http://127.0.0.1:8000/)"
   ]
  },
  {
   "cell_type": "markdown",
   "id": "d348323f",
   "metadata": {
    "slideshow": {
     "slide_type": "subslide"
    }
   },
   "source": [
    "Tym samym właśnie napisaliśmy `\"Hello world\"` w Django! Nasza aplikacja totalnie nic nie robi, ale czy na pewno? Jeśli ujrzeliście taki widok w przeglądarce, to oznacza, że instalacja zakończyła się pomyślnie i możemy nareszcie przejść do tworzenia aplikacji."
   ]
  },
  {
   "cell_type": "markdown",
   "id": "95e3a3cf",
   "metadata": {
    "slideshow": {
     "slide_type": "slide"
    }
   },
   "source": [
    "# URL Resolver"
   ]
  },
  {
   "cell_type": "markdown",
   "id": "96ec8b4e",
   "metadata": {
    "slideshow": {
     "slide_type": "fragment"
    }
   },
   "source": [
    "Kiedy serwer otrzymuje żądanie (np. z naszej przeglądarki internetowej) przekazuje je do Django."
   ]
  },
  {
   "cell_type": "markdown",
   "id": "fd03a078",
   "metadata": {
    "slideshow": {
     "slide_type": "fragment"
    }
   },
   "source": [
    "Zaglądnijmy teraz do pliku [`urls.py`](http://localhost:8888/edit/Documents/Courses/Django/goodmovies/urls.py).\n"
   ]
  },
  {
   "cell_type": "markdown",
   "id": "4692cba4",
   "metadata": {
    "slideshow": {
     "slide_type": "subslide"
    }
   },
   "source": [
    "Django posiada coś co się nazywa *url resolver* - to mechanizm rozpoznawania i rozwiązywania adresów URL. Prościej mówiąc - lista z adresami URL, które dotyczą aplikacji. Jeśli adres URL zapytania pasuje do jakiegoś adresu zadeklarowanego w aplikacji, to żądanie zostaje przekazane do odpowiedniej funkcji (konkretnego **widoku**) wskazanego przez aplikację."
   ]
  },
  {
   "cell_type": "markdown",
   "id": "2f1ede93",
   "metadata": {
    "slideshow": {
     "slide_type": "fragment"
    }
   },
   "source": [
    "To właśnie widoki są sercem logiki aplikacji w Django. Wykorzystują one warstwę modelu powiązana z bazą danych do zapisywania oraz odczytywania danych. Natomiast szablony HTML są zapełniane odpowiednimi informacjami dostępnymi w widoku i następnie taki wyrenderowany HTML zostaje zwrócony do serwera i wreszcie do użytkownika aplikacji (do przeglądarki)."
   ]
  },
  {
   "cell_type": "markdown",
   "id": "07f5ab87",
   "metadata": {
    "slideshow": {
     "slide_type": "fragment"
    }
   },
   "source": [
    "*Jest to opis znacznie uproszczony i prawdopodobnie dla większości niezrozumiały. Nic nie szkodzi. W najbliższym czasie poznamy co to wszystko oznacza w praktyce.*"
   ]
  },
  {
   "cell_type": "markdown",
   "id": "d43a3676",
   "metadata": {
    "slideshow": {
     "slide_type": "slide"
    }
   },
   "source": [
    "# Nasza pierwsza aplikacja"
   ]
  },
  {
   "cell_type": "markdown",
   "id": "59cc1a04",
   "metadata": {
    "slideshow": {
     "slide_type": "fragment"
    }
   },
   "source": [
    "W środowisku Django przyjęło się, że każdy projekt zrzesza wiele mniejszych aplikacji (Django apps). Rolą aplikacji jest zapewnienie konkretnej funkcjonalności, w miarę możliwości niezależnej od innych. Można na to patrzeć jak na swego rodzaju *pluginy*. Takie appki w idealnym świecie można by wydzielać i przenosić między projektami."
   ]
  },
  {
   "cell_type": "markdown",
   "id": "2c467298",
   "metadata": {
    "slideshow": {
     "slide_type": "fragment"
    }
   },
   "source": [
    "Stwórzmy więc pierwsza aplikację, ja na cele tego konspektu będę tworzyła mini-bibliotekę na filmy."
   ]
  },
  {
   "cell_type": "code",
   "execution_count": null,
   "id": "1921a6cc",
   "metadata": {
    "slideshow": {
     "slide_type": "fragment"
    }
   },
   "outputs": [],
   "source": [
    "!django-admin startapp movies"
   ]
  },
  {
   "cell_type": "markdown",
   "id": "750c84da",
   "metadata": {
    "slideshow": {
     "slide_type": "subslide"
    }
   },
   "source": [
    "Powyższe polecenie stworzy nowy katalog z kilkoma plikami. Omówimy je poniżej."
   ]
  },
  {
   "cell_type": "code",
   "execution_count": null,
   "id": "5bf8f33d",
   "metadata": {
    "slideshow": {
     "slide_type": "subslide"
    }
   },
   "outputs": [],
   "source": [
    "!tree"
   ]
  },
  {
   "cell_type": "markdown",
   "id": "9452dbd2",
   "metadata": {
    "slideshow": {
     "slide_type": "subslide"
    }
   },
   "source": [
    "* *migrations/* - katalog na migracje bazodanowe, czyli pliki, które opisują jak schemat bazy danych się zmieniał pomiędzy kolejnymi wersjami aplikacji. Tutaj znajdziemy wyłącznie pliki automatycznie generowane przez Django. W praktyce - niekiedy zachodzi potrzeba napisania migracji danych i to tutaj się je tworzy (poza zakresem tego kursu)."
   ]
  },
  {
   "cell_type": "markdown",
   "id": "fb896403",
   "metadata": {
    "slideshow": {
     "slide_type": "fragment"
    }
   },
   "source": [
    "* *admin.py* - plik, w którym deklarujemy jak ma wyglądać nasz panel administracyjny, w praktyce opisuje się tutaj które modele i jakie pola modeli mają być edytowalne."
   ]
  },
  {
   "cell_type": "markdown",
   "id": "4bf398f8",
   "metadata": {
    "slideshow": {
     "slide_type": "fragment"
    }
   },
   "source": [
    "* *apps.py* - plik deklarujący podstawowe informacje o aplikacji, takie jak nazwa \"dla ludzi\""
   ]
  },
  {
   "cell_type": "markdown",
   "id": "7102d273",
   "metadata": {
    "slideshow": {
     "slide_type": "subslide"
    }
   },
   "source": [
    "* *models.py* - jeden z ważniejszych plików, to tutaj znajdują się informacje jak wyglądają dane przechowywane w bazie danych przez aplikacji. W naszym przypadku będą to filmy, więc tutaj znajdziemy model opisujący pojedynczy film (spis pól jak tytuł, reżyser, data premiery, aktorzy...)"
   ]
  },
  {
   "cell_type": "markdown",
   "id": "971b3771",
   "metadata": {
    "slideshow": {
     "slide_type": "fragment"
    }
   },
   "source": [
    "* *tests.py* - tak, testy :)"
   ]
  },
  {
   "cell_type": "markdown",
   "id": "320b69bc",
   "metadata": {
    "slideshow": {
     "slide_type": "fragment"
    }
   },
   "source": [
    "* *views.py* - wspomniane wcześniej *widoki* zamieszczane są w tym pliku. Dzięki logice tutaj umieszczonej Django będzie w stanie wyświetlić nasze strony internetowe."
   ]
  },
  {
   "cell_type": "markdown",
   "id": "4018d807",
   "metadata": {
    "slideshow": {
     "slide_type": "slide"
    }
   },
   "source": [
    "# Nasz pierwszy widok i automatyczne przeładowanie aplikacji"
   ]
  },
  {
   "cell_type": "markdown",
   "id": "6dbf820b",
   "metadata": {
    "slideshow": {
     "slide_type": "subslide"
    }
   },
   "source": [
    "Otwórzmy plik [`views.py`](http://localhost:8888/edit/Documents/Courses/Django/movies/views.py) umieszczony w [`movies/views.py`](http://localhost:8888/edit/Documents/Courses/Django/movies/views.py)."
   ]
  },
  {
   "cell_type": "markdown",
   "id": "757a0716",
   "metadata": {
    "slideshow": {
     "slide_type": "subslide"
    }
   },
   "source": [
    "Na początek posłużymy się prostą funkcją, która jako argument przyjmuje zapytanie (które przyjdzie z naszej przeglądarki). Funkcja ta powinna jakoś odpowiedzieć."
   ]
  },
  {
   "cell_type": "markdown",
   "id": "ffd9667e",
   "metadata": {
    "slideshow": {
     "slide_type": "fragment"
    }
   },
   "source": [
    "Na górze pliku zaimportujmy generyczną odpowiedź HTTP:"
   ]
  },
  {
   "cell_type": "markdown",
   "id": "35862a00",
   "metadata": {
    "slideshow": {
     "slide_type": "fragment"
    }
   },
   "source": [
    "```python\n",
    "from django.http import HttpResponse\n",
    "```"
   ]
  },
  {
   "cell_type": "markdown",
   "id": "a4693089",
   "metadata": {
    "slideshow": {
     "slide_type": "fragment"
    }
   },
   "source": [
    "Następnie napiszmy prostą funkcję, która zwraca jedynie napis \"Witaj świecie\":"
   ]
  },
  {
   "cell_type": "markdown",
   "id": "718a1e44",
   "metadata": {
    "slideshow": {
     "slide_type": "fragment"
    }
   },
   "source": [
    "```python\n",
    "def hello_world(request):\n",
    "    return HttpResponse(\"Witaj świecie!\")\n",
    "```"
   ]
  },
  {
   "cell_type": "markdown",
   "id": "1a1c3067",
   "metadata": {
    "slideshow": {
     "slide_type": "subslide"
    }
   },
   "source": [
    "Nasz plik [`views.py`](http://localhost:8888/edit/Documents/Courses/Django/movies/views.py) powinien wyglądać następująco:"
   ]
  },
  {
   "cell_type": "markdown",
   "id": "07e891ee",
   "metadata": {
    "slideshow": {
     "slide_type": "fragment"
    }
   },
   "source": [
    "```python\n",
    "from django.http import HttpResponse\n",
    "from django.shortcuts import render\n",
    "\n",
    "\n",
    "# Create your views here.\n",
    "def hello_world(request):\n",
    "    return HttpResponse(\"Witaj świecie!\")\n",
    "```"
   ]
  },
  {
   "cell_type": "markdown",
   "id": "5d1d1bd1",
   "metadata": {
    "slideshow": {
     "slide_type": "fragment"
    }
   },
   "source": [
    "Jednak to nie wszystko. Jeśli wejdziemy [http://127.0.0.1:8000/](http://127.0.0.1:8000/) nie ukaże się nam powitanie świata."
   ]
  },
  {
   "cell_type": "markdown",
   "id": "bb40057c",
   "metadata": {
    "slideshow": {
     "slide_type": "subslide"
    }
   },
   "source": [
    "Aby nasza aplikacja była uwzględniona przez Django trzeba ją dodać do zainstalowanych. W tym celu otwieramy plik [`settings.py`](http://localhost:8888/edit/Documents/Courses/Django/goodmovies/settings.py), o którym była mowa wcześniej. To tutaj znajdują się ustawienia projektu, w tym lista zainstalowanych aplikacji."
   ]
  },
  {
   "cell_type": "markdown",
   "id": "ee38def5",
   "metadata": {
    "slideshow": {
     "slide_type": "subslide"
    }
   },
   "source": [
    "Odszukujemy fragmentu z listą o nazwie `INSTALLED_APPS`:"
   ]
  },
  {
   "cell_type": "markdown",
   "id": "77e7c7b3",
   "metadata": {
    "slideshow": {
     "slide_type": "fragment"
    }
   },
   "source": [
    "```python\n",
    "# Application definition\n",
    "\n",
    "INSTALLED_APPS = [\n",
    "    'django.contrib.admin',\n",
    "    'django.contrib.auth',\n",
    "    'django.contrib.contenttypes',\n",
    "    'django.contrib.sessions',\n",
    "    'django.contrib.messages',\n",
    "    'django.contrib.staticfiles',\n",
    "    'movies',  # <-- NOWE, dopisane teraz :)\n",
    "]\n",
    "```"
   ]
  },
  {
   "cell_type": "markdown",
   "id": "5faabc46",
   "metadata": {
    "slideshow": {
     "slide_type": "fragment"
    }
   },
   "source": [
    "I dopisujemy naszą aplikację, w moim przypadku to jest `movies`."
   ]
  },
  {
   "cell_type": "markdown",
   "id": "10615244",
   "metadata": {
    "slideshow": {
     "slide_type": "subslide"
    }
   },
   "source": [
    "W tej chwili nasz aplikacja została dołączona do projektu. Jednakże widok, który napisaliśmy nie został podpięty pod żaden adres URL, więc nie da się go jeszcze wyświetlić. Naprawmy to."
   ]
  },
  {
   "cell_type": "markdown",
   "id": "338f2527",
   "metadata": {
    "slideshow": {
     "slide_type": "fragment"
    }
   },
   "source": [
    "Otwórzmy [`urls.py`](http://localhost:8888/edit/Documents/Courses/Django/goodmovies/urls.py) w katalogu projektu i dodajmy naszą funkcję widoku:"
   ]
  },
  {
   "cell_type": "markdown",
   "id": "de78c582",
   "metadata": {
    "slideshow": {
     "slide_type": "fragment"
    }
   },
   "source": [
    "```python\n",
    "from movies import views  # NOWE\n",
    "\n",
    "urlpatterns = [\n",
    "    path('admin/', admin.site.urls),\n",
    "    path('hello/', views.hello_world),  # NOWE\n",
    "]\n",
    "```"
   ]
  },
  {
   "cell_type": "markdown",
   "id": "efdb07e5",
   "metadata": {
    "slideshow": {
     "slide_type": "fragment"
    }
   },
   "source": [
    "W powyższym kodzie `# NOWE` zaznaczono 2 dodane linijki. Reszta powinna zostać bez zmian."
   ]
  },
  {
   "cell_type": "markdown",
   "id": "f8075d9e",
   "metadata": {
    "slideshow": {
     "slide_type": "subslide"
    }
   },
   "source": [
    "Następnie udajmy się do przeglądarki pod adres [http://127.0.0.1:8000/hello/](http://127.0.0.1:8000/hello/):"
   ]
  },
  {
   "cell_type": "markdown",
   "id": "8cc90cc7",
   "metadata": {
    "slideshow": {
     "slide_type": "fragment"
    }
   },
   "source": [
    "Działa! 😊"
   ]
  },
  {
   "cell_type": "markdown",
   "id": "29cabc8b",
   "metadata": {
    "slideshow": {
     "slide_type": "slide"
    }
   },
   "source": [
    "W międzyczasie mogliście zauważyć (jeśli aplikacja była uruchomiona), ze doszło do automatycznego przeładowania aplikacji:"
   ]
  },
  {
   "cell_type": "code",
   "execution_count": null,
   "id": "939a53fd",
   "metadata": {},
   "outputs": [],
   "source": []
  },
  {
   "cell_type": "markdown",
   "id": "2d4b904c",
   "metadata": {
    "slideshow": {
     "slide_type": "slide"
    }
   },
   "source": [
    "## Nasz pierwszy \"pełnoprawny\" widok"
   ]
  },
  {
   "cell_type": "code",
   "execution_count": null,
   "id": "f89f4bc1",
   "metadata": {},
   "outputs": [],
   "source": []
  },
  {
   "cell_type": "markdown",
   "id": "57c478ea",
   "metadata": {
    "slideshow": {
     "slide_type": "slide"
    }
   },
   "source": [
    "## Bazy danych i migracja bazy danych"
   ]
  },
  {
   "cell_type": "markdown",
   "id": "14a1e838",
   "metadata": {
    "slideshow": {
     "slide_type": "fragment"
    }
   },
   "source": [
    "Wróćmy na chwilę do pliku [`settings.py`](http://localhost:8888/edit/Documents/Courses/Django/goodmovies/settings.py). To tutaj znajdują się kluczowe ustawienia projektu."
   ]
  },
  {
   "cell_type": "markdown",
   "id": "d727c8f7",
   "metadata": {
    "slideshow": {
     "slide_type": "fragment"
    }
   },
   "source": [
    "Wśród nich jest również informacja o bazie danych:"
   ]
  },
  {
   "cell_type": "markdown",
   "id": "7cc2ae16",
   "metadata": {
    "slideshow": {
     "slide_type": "fragment"
    }
   },
   "source": [
    "```python\n",
    "# Database\n",
    "# https://docs.djangoproject.com/en/3.0/ref/settings/#databases\n",
    "\n",
    "DATABASES = {\n",
    "    'default': {\n",
    "        'ENGINE': 'django.db.backends.sqlite3',\n",
    "        'NAME': os.path.join(BASE_DIR, 'db.sqlite3'),\n",
    "    }\n",
    "}\n",
    "```"
   ]
  },
  {
   "cell_type": "markdown",
   "id": "6171a9eb",
   "metadata": {
    "slideshow": {
     "slide_type": "subslide"
    }
   },
   "source": [
    "Jak może zauważyliście, po uruchomieniu projektu w katalogu głównym pojawił się plik `db.sqlite3`. To właśnie nasza baza danych. Django domyślnie przechowuje dane w pliku `'db.sqlite3'` w formacie `SQLite3`."
   ]
  },
  {
   "cell_type": "markdown",
   "id": "41d0610b",
   "metadata": {
    "slideshow": {
     "slide_type": "fragment"
    }
   },
   "source": [
    "Gdybyśmy w przyszłości chcieli używać innego silnika bazy danych, trzeba będzie zmienić powyższe ustawienie."
   ]
  },
  {
   "cell_type": "markdown",
   "id": "86e0f918",
   "metadata": {
    "slideshow": {
     "slide_type": "fragment"
    }
   },
   "source": [
    "Jednak na potrzeby tego projektu zostaniemy przy SQLite - jest proste w obsłudze i nie wymaga instalowania dodatkowego oprogramowania. Django wspiera jednak również inne serwery baz danych, jak na przykład: PostgreSQL i MySQL."
   ]
  },
  {
   "cell_type": "markdown",
   "id": "8e860d3e",
   "metadata": {
    "slideshow": {
     "slide_type": "subslide"
    }
   },
   "source": [
    "Podczas uruchomiania projektu można było zauważyć w terminalu poniższą wiadomość:"
   ]
  },
  {
   "cell_type": "markdown",
   "id": "5d01a9e9",
   "metadata": {
    "slideshow": {
     "slide_type": "fragment"
    }
   },
   "source": [
    "```sh\n",
    "System check identified no issues (0 silenced).\n",
    "\n",
    "You have 17 unapplied migration(s). Your project may not work properly until you apply the\n",
    "migrations for app(s): admin, auth, contenttypes, sessions.\n",
    "Run 'python manage.py migrate' to apply them.\n",
    "```"
   ]
  },
  {
   "cell_type": "markdown",
   "id": "c773bfda",
   "metadata": {
    "slideshow": {
     "slide_type": "fragment"
    }
   },
   "source": [
    "Django informuje nas, że mamy niezaaplikowane migracje. W skrócie oznacza to, że stan naszej bazy danych nie odzwierciedla tego, czego oczekuje aplikacja. Przykładowo aplikacja `django.contrib.auth` dostarcza model użytkownika, którego użyjemy za chwilę."
   ]
  },
  {
   "cell_type": "markdown",
   "id": "43324a54",
   "metadata": {
    "slideshow": {
     "slide_type": "subslide"
    }
   },
   "source": [
    "Model użytkownika ma takie pola jak _username_, _imię_, _nazwisko_, _hasło_. Django oczekuje, że tak zdefiniowany model będzie miał odpowiednią tabele w bazie danych z kolumnami odpowiedniego typu (na dane tekstowe - tekstowe, na liczby - kolumnę typu liczbowego, na pliki inny itp.)."
   ]
  },
  {
   "cell_type": "markdown",
   "id": "da4ffb6b",
   "metadata": {
    "slideshow": {
     "slide_type": "fragment"
    }
   },
   "source": [
    "Żeby lepiej zrozumieć konsekwencje spróbujmy wejść pod adres [http://127.0.0.1:8000/admin/](http://127.0.0.1:8000/admin/).\n",
    "\n",
    "Zobaczymy formularz logowania. Jednak nie mamy przecież ani loginu, ani hasła potrzebnych do przejścia dalej. Te informacje byłyby zapisane w bazie danych."
   ]
  },
  {
   "cell_type": "markdown",
   "id": "4e4597de",
   "metadata": {
    "slideshow": {
     "slide_type": "fragment"
    }
   },
   "source": [
    "Zmigrujmy zatem naszą bazę danych (tym samym stworzone zostaną tabele na użytkowników i nie tylko)."
   ]
  },
  {
   "cell_type": "markdown",
   "id": "acb5eafa",
   "metadata": {
    "slideshow": {
     "slide_type": "subslide"
    }
   },
   "source": [
    "Wszelkie akcje związane z zarządzaniem aplikacją można wykonać używając skryptu `manage.py` (wcześniejsze tworzenie appki też):"
   ]
  },
  {
   "cell_type": "code",
   "execution_count": null,
   "id": "e5556a6f",
   "metadata": {
    "slideshow": {
     "slide_type": "fragment"
    }
   },
   "outputs": [],
   "source": [
    "!python3 manage.py migrate"
   ]
  },
  {
   "cell_type": "code",
   "execution_count": null,
   "id": "f581837b",
   "metadata": {
    "slideshow": {
     "slide_type": "skip"
    }
   },
   "outputs": [],
   "source": []
  }
 ],
 "metadata": {
  "celltoolbar": "Slideshow",
  "kernelspec": {
   "display_name": "Python 3 (ipykernel)",
   "language": "python",
   "name": "python3"
  },
  "language_info": {
   "codemirror_mode": {
    "name": "ipython",
    "version": 3
   },
   "file_extension": ".py",
   "mimetype": "text/x-python",
   "name": "python",
   "nbconvert_exporter": "python",
   "pygments_lexer": "ipython3",
   "version": "3.10.9"
  }
 },
 "nbformat": 4,
 "nbformat_minor": 5
}
