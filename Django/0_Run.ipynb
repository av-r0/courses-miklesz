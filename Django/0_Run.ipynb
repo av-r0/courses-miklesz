{
 "cells": [
  {
   "cell_type": "code",
   "execution_count": null,
   "id": "9476cf05",
   "metadata": {},
   "outputs": [
    {
     "name": "stdout",
     "output_type": "stream",
     "text": [
      "python3 manage.py runserver\n",
      "Watching for file changes with StatReloader\n",
      "Performing system checks...\n",
      "\n",
      "System check identified no issues (0 silenced).\n",
      "\u001b[31m\n",
      "You have 18 unapplied migration(s). Your project may not work properly until you apply the migrations for app(s): admin, auth, contenttypes, sessions.\u001b[0m\n",
      "\u001b[31mRun 'python manage.py migrate' to apply them.\u001b[0m\n",
      "May 13, 2023 - 14:23:28\n",
      "Django version 4.2.1, using settings 'goodmovies.settings'\n",
      "Starting development server at http://127.0.0.1:8000/\n",
      "Quit the server with CONTROL-C.\n",
      "\n",
      "[13/May/2023 14:26:17] \u001b[m\"GET / HTTP/1.1\" 200 10731\u001b[0m\n",
      "[13/May/2023 14:26:17] \u001b[33m\"GET /static/admin/css/fonts.css HTTP/1.1\" 404 1816\u001b[0m\n",
      "[13/May/2023 14:50:21] \u001b[m\"GET / HTTP/1.1\" 200 10731\u001b[0m\n",
      "[13/May/2023 14:50:21] \u001b[33m\"GET /static/admin/css/fonts.css HTTP/1.1\" 404 1816\u001b[0m\n",
      "/Users/miklesz/Documents/Courses/Django/goodmovies/settings.py changed, reloading.\n",
      "Watching for file changes with StatReloader\n",
      "Performing system checks...\n",
      "\n",
      "System check identified no issues (0 silenced).\n",
      "\u001b[31m\n",
      "You have 18 unapplied migration(s). Your project may not work properly until you apply the migrations for app(s): admin, auth, contenttypes, sessions.\u001b[0m\n",
      "\u001b[31mRun 'python manage.py migrate' to apply them.\u001b[0m\n",
      "May 13, 2023 - 14:52:27\n",
      "Django version 4.2.1, using settings 'goodmovies.settings'\n",
      "Starting development server at http://127.0.0.1:8000/\n",
      "Quit the server with CONTROL-C.\n",
      "\n",
      "/Users/miklesz/Documents/Courses/Django/goodmovies/urls.py changed, reloading.\n",
      "Watching for file changes with StatReloader\n",
      "Performing system checks...\n",
      "\n",
      "System check identified no issues (0 silenced).\n",
      "\u001b[31m\n",
      "You have 18 unapplied migration(s). Your project may not work properly until you apply the migrations for app(s): admin, auth, contenttypes, sessions.\u001b[0m\n",
      "\u001b[31mRun 'python manage.py migrate' to apply them.\u001b[0m\n",
      "May 13, 2023 - 14:55:02\n",
      "Django version 4.2.1, using settings 'goodmovies.settings'\n",
      "Starting development server at http://127.0.0.1:8000/\n",
      "Quit the server with CONTROL-C.\n",
      "\n",
      "/Users/miklesz/Documents/Courses/Django/goodmovies/urls.py changed, reloading.\n",
      "Watching for file changes with StatReloader\n",
      "Performing system checks...\n",
      "\n",
      "System check identified no issues (0 silenced).\n",
      "\u001b[31m\n",
      "You have 18 unapplied migration(s). Your project may not work properly until you apply the migrations for app(s): admin, auth, contenttypes, sessions.\u001b[0m\n",
      "\u001b[31mRun 'python manage.py migrate' to apply them.\u001b[0m\n",
      "May 13, 2023 - 14:55:37\n",
      "Django version 4.2.1, using settings 'goodmovies.settings'\n",
      "Starting development server at http://127.0.0.1:8000/\n",
      "Quit the server with CONTROL-C.\n",
      "\n",
      "[13/May/2023 14:57:27] \u001b[m\"GET /hello/ HTTP/1.1\" 200 15\u001b[0m\n"
     ]
    }
   ],
   "source": [
    "python3 manage.py runserver"
   ]
  },
  {
   "cell_type": "code",
   "execution_count": null,
   "id": "15c67706",
   "metadata": {},
   "outputs": [],
   "source": []
  }
 ],
 "metadata": {
  "kernelspec": {
   "display_name": "Bash",
   "language": "bash",
   "name": "bash"
  },
  "language_info": {
   "codemirror_mode": "shell",
   "file_extension": ".sh",
   "mimetype": "text/x-sh",
   "name": "bash"
  }
 },
 "nbformat": 4,
 "nbformat_minor": 5
}
