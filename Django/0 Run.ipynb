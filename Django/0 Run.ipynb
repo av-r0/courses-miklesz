{
 "cells": [
  {
   "cell_type": "code",
   "execution_count": null,
   "id": "9476cf05",
   "metadata": {},
   "outputs": [
    {
     "name": "stdout",
     "output_type": "stream",
     "text": [
      "Watching for file changes with StatReloader\n",
      "Performing system checks...\n",
      "\n",
      "System check identified no issues (0 silenced).\n",
      "March 27, 2023 - 15:54:07\n",
      "Django version 4.1.7, using settings 'goodmovies.settings'\n",
      "Starting development server at http://127.0.0.1:8000/\n",
      "Quit the server with CONTROL-C.\n",
      "[27/Mar/2023 15:56:10] \u001b[m\"GET /hello/ HTTP/1.1\" 200 213\u001b[0m\n",
      "Not Found: /favicon.ico\n",
      "[27/Mar/2023 15:56:10] \u001b[33m\"GET /favicon.ico HTTP/1.1\" 404 2325\u001b[0m\n",
      "[27/Mar/2023 15:56:47] \u001b[m\"GET /hello/ HTTP/1.1\" 200 271\u001b[0m\n"
     ]
    }
   ],
   "source": [
    "python3 manage.py runserver"
   ]
  },
  {
   "cell_type": "code",
   "execution_count": null,
   "id": "15c67706",
   "metadata": {},
   "outputs": [],
   "source": []
  }
 ],
 "metadata": {
  "kernelspec": {
   "display_name": "Bash",
   "language": "bash",
   "name": "bash"
  },
  "language_info": {
   "codemirror_mode": "shell",
   "file_extension": ".sh",
   "mimetype": "text/x-sh",
   "name": "bash"
  }
 },
 "nbformat": 4,
 "nbformat_minor": 5
}
