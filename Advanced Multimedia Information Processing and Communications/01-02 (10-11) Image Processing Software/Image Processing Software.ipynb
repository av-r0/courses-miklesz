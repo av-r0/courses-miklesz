{
 "cells": [
  {
   "cell_type": "markdown",
   "id": "b9c8e2d4",
   "metadata": {
    "slideshow": {
     "slide_type": "slide"
    }
   },
   "source": [
    "# Image Processing Software\n",
    "\n",
    "_Mikołaj Leszczuk_\n",
    "\n",
    "![](https://i.creativecommons.org/l/by/4.0/88x31.png)"
   ]
  },
  {
   "cell_type": "markdown",
   "id": "68a0d79d",
   "metadata": {
    "slideshow": {
     "slide_type": "slide"
    }
   },
   "source": [
    "## Introduction"
   ]
  },
  {
   "cell_type": "markdown",
   "id": "4696a9a8",
   "metadata": {
    "slideshow": {
     "slide_type": "fragment"
    }
   },
   "source": [
    "Determining object position in the image, recognizing an object or automatic number plate detection - these are all image processing tasks. The aim of this exercise is to get acquainted with the basics of programming using image processing software."
   ]
  },
  {
   "cell_type": "markdown",
   "id": "428fc8da",
   "metadata": {
    "slideshow": {
     "slide_type": "slide"
    }
   },
   "source": [
    "## Image Processing Software"
   ]
  },
  {
   "cell_type": "markdown",
   "id": "e97fc049",
   "metadata": {
    "slideshow": {
     "slide_type": "fragment"
    }
   },
   "source": [
    "* **Software Library** – collection of resources used by computer programs, including:\n",
    "  * Pre-written subroutines (optimized implementations of frequently used operations)\n",
    "  * Classes\n",
    "  * Specifications for:\n",
    "    * Constants (e.g., minimum face size in face detection)\n",
    "    * Type\n",
    "* Once written functions to be used repeatedly"
   ]
  },
  {
   "cell_type": "markdown",
   "id": "e9fc9e17",
   "metadata": {
    "slideshow": {
     "slide_type": "subslide"
    }
   },
   "source": [
    "* Image processing libraries delivering functions allowing to easily work with images\n",
    "* Example image processing functions:\n",
    "  * **Filtering**\n",
    "  * **Binarisation**\n",
    "  * **Segmentation**\n",
    "  * **Geometric transformation**\n",
    "  * **Compression**\n",
    "  * **Super-resolution**"
   ]
  },
  {
   "cell_type": "markdown",
   "id": "9ac4ae65",
   "metadata": {
    "slideshow": {
     "slide_type": "slide"
    }
   },
   "source": [
    "## MATLAB Image Processing Toolbox\n",
    "\n",
    "![First eigenfunction of the L-shaped membrane, resembling (but not identical) to MATLAB's logo trademarked by MathWorks Inc.](https://upload.wikimedia.org/wikipedia/commons/thumb/2/21/Matlab_Logo.png/534px-Matlab_Logo.png)"
   ]
  },
  {
   "cell_type": "markdown",
   "id": "8c1dc05a",
   "metadata": {
    "slideshow": {
     "slide_type": "subslide"
    }
   },
   "source": [
    "* MATrix LABoratory\n",
    "* Multi-paradigm numerical computing environment\n",
    "* Proprietary programming language \n",
    "* Developed by MathWorks\n",
    "* Software tools for image processing"
   ]
  },
  {
   "cell_type": "markdown",
   "id": "3e781472",
   "metadata": {
    "slideshow": {
     "slide_type": "slide"
    }
   },
   "source": [
    "## Generic Image Library (GIL)\n",
    "\n",
    "![Logo of Adobe Inc. since May 2020.](https://upload.wikimedia.org/wikipedia/commons/6/6e/Adobe_Corporate_logo.svg)"
   ]
  },
  {
   "cell_type": "markdown",
   "id": "dfd60561",
   "metadata": {
    "slideshow": {
     "slide_type": "subslide"
    }
   },
   "source": [
    "* C++ library allowing for writing generic imaging algorithms \n",
    "* Designed with following 5 goals in mind:\n",
    "  * **Generality**\n",
    "  * **Performance**\n",
    "  * **Flexibility**\n",
    "  * **Extensibility**\n",
    "  * **Compatibility**"
   ]
  },
  {
   "cell_type": "markdown",
   "id": "0d36f3fd",
   "metadata": {
    "slideshow": {
     "slide_type": "slide"
    }
   },
   "source": [
    "## Point Cloud Library (PCL)\n",
    "\n",
    "![The PCL logo is composed of the 3 lowercase letters p, c, l and a cloud type shape with a dot inside. The logo combines several motifs in the spirit of Open Source and Point Clouds](https://upload.wikimedia.org/wikipedia/commons/4/4a/Pcl_%28PointClouds_library%29_logo_with_text.png)"
   ]
  },
  {
   "cell_type": "markdown",
   "id": "0f335a5c",
   "metadata": {
    "slideshow": {
     "slide_type": "subslide"
    }
   },
   "source": [
    "* **Large scale, open project** for 2D/3D image & point cloud processing\n",
    "* Framework containing numerous state-of-the art algorithms including:\n",
    "  * Filtering\n",
    "  * Feature estimation\n",
    "  * Surface reconstruction\n",
    "  * Registration\n",
    "  * Model fitting\n",
    "  * Segmentation"
   ]
  },
  {
   "cell_type": "markdown",
   "id": "d1600626",
   "metadata": {
    "slideshow": {
     "slide_type": "subslide"
    }
   },
   "source": [
    "* Cross-platform – successfully compiled & deployed on:\n",
    "  * Linux\n",
    "  * macOS\n",
    "  * Windows\n",
    "  * Mobile platforms (Android, iOS)\n",
    "* Split into series of smaller code libraries, that can be compiled separately (to simplify development)"
   ]
  },
  {
   "cell_type": "markdown",
   "id": "0fa7935f",
   "metadata": {
    "slideshow": {
     "slide_type": "slide"
    }
   },
   "source": [
    "## Python NumPy\n",
    "\n",
    "![This is a new NumPy logo.](https://upload.wikimedia.org/wikipedia/commons/3/31/NumPy_logo_2020.svg)"
   ]
  },
  {
   "cell_type": "markdown",
   "id": "90b60e83",
   "metadata": {
    "slideshow": {
     "slide_type": "subslide"
    }
   },
   "source": [
    "* Library for **Python programming language**\n",
    "* Adding support for: \n",
    "  * Large, multi-dimensional: \n",
    "    * **Arrays**\n",
    "    * **Matrices**\n",
    "  * Large collection of **high-level mathematical functions** to operate on these arrays"
   ]
  },
  {
   "cell_type": "markdown",
   "id": "785d3714",
   "metadata": {
    "slideshow": {
     "slide_type": "slide"
    }
   },
   "source": [
    "## Open-Source Computer Vision (OpenCV)\n",
    "\n",
    "![The OpenCV logo is composed of the 3 capital letters O, C, V arranged in a triangle. The logo combines several motifs in the spirit of Open Source and Computer Vision. ](https://upload.wikimedia.org/wikipedia/commons/thumb/3/32/OpenCV_Logo_with_text_svg_version.svg/390px-OpenCV_Logo_with_text_svg_version.svg.png)"
   ]
  },
  {
   "cell_type": "markdown",
   "id": "78fa58bc",
   "metadata": {
    "slideshow": {
     "slide_type": "subslide"
    }
   },
   "source": [
    "* Released under BSD license; free for academic & commercial use\n",
    "* Interfaces: C++, C, Python & Java\n",
    "* Supports: Windows, Linux, macOS, iOS & Android\n",
    "* Designed:\n",
    "  * For computational efficiency\n",
    "  * With strong focus on real-time applications \n",
    "* Written in optimized C/C++, taking advantage of multi-core processing\n",
    "* **Most popular, expanded & offering proven functions**\n",
    "* [Click to access the OpenCV documentation index](https://docs.opencv.org)"
   ]
  },
  {
   "cell_type": "markdown",
   "id": "9de9eaa8",
   "metadata": {
    "slideshow": {
     "slide_type": "slide"
    }
   },
   "source": [
    "## Matplotlib\n",
    "\n",
    "![This is the logo for Matplotlib.](https://upload.wikimedia.org/wikipedia/en/5/56/Matplotlib_logo.svg)"
   ]
  },
  {
   "cell_type": "markdown",
   "id": "863ecf9d",
   "metadata": {
    "slideshow": {
     "slide_type": "fragment"
    }
   },
   "source": [
    "**Matplotlib** is a plotting library for the Python programming language and its numerical mathematics extension NumPy. It provides an object-oriented API for embedding plots into applications using general-purpose GUI toolkits."
   ]
  },
  {
   "cell_type": "markdown",
   "id": "2904b238",
   "metadata": {
    "slideshow": {
     "slide_type": "fragment"
    }
   },
   "source": [
    "Pyplot is a Matplotlib module which provides a MATLAB-like interface. Matplotlib is designed to be as usable as MATLAB, with the ability to use Python, and the advantage of being free and open-source."
   ]
  },
  {
   "cell_type": "markdown",
   "id": "bf39c9a5",
   "metadata": {
    "slideshow": {
     "slide_type": "slide"
    }
   },
   "source": [
    "## A Few Basic Python Operations on the Following Slides"
   ]
  },
  {
   "cell_type": "markdown",
   "id": "9c664579",
   "metadata": {
    "slideshow": {
     "slide_type": "fragment"
    }
   },
   "source": [
    "The exercise will be performed in Python, NumPy, OpenCV and Matplotlib programming environment, to learn about it."
   ]
  },
  {
   "cell_type": "markdown",
   "id": "fe43b462",
   "metadata": {
    "slideshow": {
     "slide_type": "slide"
    }
   },
   "source": [
    "## Setup Python with NumPy, OpenCV and Matplotlib"
   ]
  },
  {
   "cell_type": "markdown",
   "id": "992a8f97",
   "metadata": {
    "slideshow": {
     "slide_type": "fragment"
    }
   },
   "source": [
    "Python is a general-purpose high-level programming language with an extensive standard library package, whose guiding principle is the readability and clarity of the source code. Its syntax is characterized by transparency and brevity. OpenCV is a library of functions used in image processing, based on open-source code and initiated by Intel. This library is cross-platform, it can be used in macOS, Windows and Linux. Its authors focus on real-time image processing. The distinguishing features of this environment from the MATLAB-based environment are, with a little more complex code, less resourcefulness and the possibility of directly implementing the created solutions."
   ]
  },
  {
   "cell_type": "markdown",
   "id": "9050bb6d",
   "metadata": {
    "slideshow": {
     "slide_type": "subslide"
    }
   },
   "source": [
    "The Python programming language does not already include NumPy - a library adding support for large, multi-dimensional image arrays and matrices, along with a large collection of high-level mathematical functions to operate on these image arrays. Furthermore, by default, the Python environment, is unfortunately not configured along with the Matplotlib and OpenCV libraries, on the computer **(except when it was previously configured as part of some previous exercises)**."
   ]
  },
  {
   "cell_type": "markdown",
   "id": "aa9f3b13",
   "metadata": {
    "slideshow": {
     "slide_type": "subslide"
    }
   },
   "source": [
    "Tips:\n",
    "1. Use `pip` to `install`:\n",
    "  * NumPy (`numpy`)\n",
    "  * OpenCV (`opencv-python`)\n",
    "  * Matplotlib (`matplotlib`)\n",
    "1. Please note that if you use Python, it is recommended to use Python 3 (`python3`) version, configured and installed on the machine.\n",
    "1. To start using NumPy, OpenCV and Matplotlib in a Python script, you must make the following imports:\n"
   ]
  },
  {
   "cell_type": "code",
   "execution_count": 1,
   "id": "1564c907",
   "metadata": {
    "slideshow": {
     "slide_type": "fragment"
    }
   },
   "outputs": [],
   "source": [
    "import numpy as np\n",
    "import cv2\n",
    "import matplotlib.pyplot as plt"
   ]
  },
  {
   "cell_type": "markdown",
   "id": "7a80d8bd",
   "metadata": {
    "slideshow": {
     "slide_type": "slide"
    }
   },
   "source": [
    "## Lenna"
   ]
  },
  {
   "cell_type": "markdown",
   "id": "2556b27e",
   "metadata": {
    "slideshow": {
     "slide_type": "fragment"
    }
   },
   "source": [
    "Lenna or Lena is a standard test image widely used in the field of image processing since 1973. It is a picture of the Swedish model Lena Forsén, shot by photographer Dwight Hooker, cropped from the centerfold of the November 1972 issue of Playboy magazine."
   ]
  },
  {
   "cell_type": "markdown",
   "id": "386e45d7",
   "metadata": {
    "slideshow": {
     "slide_type": "subslide"
    }
   },
   "source": [
    "![Image of Lena Forsén used in many image processing experiments.](https://upload.wikimedia.org/wikipedia/en/7/7d/Lenna_%28test_image%29.png)\n",
    "\n",
    "[Click to access the actual 512×512px standard test version.](https://upload.wikimedia.org/wikipedia/en/7/7d/Lenna_%28test_image%29.png)"
   ]
  },
  {
   "cell_type": "markdown",
   "id": "e2d3cb15",
   "metadata": {
    "slideshow": {
     "slide_type": "slide"
    }
   },
   "source": [
    "## Xiph.Org Foundation\n",
    "\n",
    "![Fish xiph org](https://upload.wikimedia.org/wikipedia/en/6/69/Fish_xiph_org.png)"
   ]
  },
  {
   "cell_type": "markdown",
   "id": "9e6de084",
   "metadata": {
    "slideshow": {
     "slide_type": "fragment"
    }
   },
   "source": [
    "**Xiph.Org Foundation** is a nonprofit organization that produces free multimedia formats and software tools. It focuses on the Ogg family of formats, the most successful of which has been Vorbis, an open and freely licensed audio format and codec designed to compete with the patented WMA, MP3 and AAC. As of 2013, development work was focused on Daala, an open and patent-free video format and codec designed to compete with VP9 and the patented High Efficiency Video Coding."
   ]
  },
  {
   "cell_type": "markdown",
   "id": "c27e7047",
   "metadata": {
    "slideshow": {
     "slide_type": "subslide"
    }
   },
   "source": [
    "![](https://media.xiph.org/video/derf/thumbnails/akiyo_cif-0001.jpg)\n",
    "\n",
    "[Click to access the Xiph.org Test Media.](https://media.xiph.org)"
   ]
  },
  {
   "cell_type": "markdown",
   "id": "275911e0",
   "metadata": {
    "slideshow": {
     "slide_type": "slide"
    }
   },
   "source": [
    "## Reading Images"
   ]
  },
  {
   "cell_type": "markdown",
   "id": "7b7a9628",
   "metadata": {
    "slideshow": {
     "slide_type": "fragment"
    }
   },
   "source": [
    "Read an image (any image). The image should be in the working directory, or a full path of the image should be given."
   ]
  },
  {
   "cell_type": "markdown",
   "id": "ccc9b284",
   "metadata": {
    "slideshow": {
     "slide_type": "fragment"
    }
   },
   "source": [
    "```python\n",
    "image = cv2.imread(filename)\n",
    "```\n",
    "* `image` - returned image\n",
    "* `filename` - name of file to be loaded"
   ]
  },
  {
   "cell_type": "code",
   "execution_count": 2,
   "id": "ef1f8f8c",
   "metadata": {
    "slideshow": {
     "slide_type": "subslide"
    }
   },
   "outputs": [
    {
     "name": "stdout",
     "output_type": "stream",
     "text": [
      "<class 'numpy.ndarray'>\n"
     ]
    }
   ],
   "source": [
    "image = cv2.imread(\"Lenna_(test_image).png\")\n",
    "print(type(image))"
   ]
  },
  {
   "cell_type": "markdown",
   "id": "e3cbad33",
   "metadata": {
    "slideshow": {
     "slide_type": "slide"
    }
   },
   "source": [
    "## Displaying Images"
   ]
  },
  {
   "cell_type": "markdown",
   "id": "73037ea7",
   "metadata": {
    "slideshow": {
     "slide_type": "fragment"
    }
   },
   "source": [
    "Display an image."
   ]
  },
  {
   "cell_type": "markdown",
   "id": "649af1ca",
   "metadata": {
    "slideshow": {
     "slide_type": "fragment"
    }
   },
   "source": [
    "```python\n",
    "plt.imshow(image)\n",
    "```\n",
    "* `image` - image to be shown"
   ]
  },
  {
   "cell_type": "code",
   "execution_count": 3,
   "id": "868a670b",
   "metadata": {
    "slideshow": {
     "slide_type": "subslide"
    }
   },
   "outputs": [
    {
     "data": {
      "image/png": "[encoded data removed]",
      "text/plain": [
       "<Figure size 432x288 with 1 Axes>"
      ]
     },
     "metadata": {
      "needs_background": "light"
     },
     "output_type": "display_data"
    }
   ],
   "source": [
    "plt.imshow(image)\n",
    "plt.show()"
   ]
  },
  {
   "cell_type": "markdown",
   "id": "ea150083",
   "metadata": {
    "slideshow": {
     "slide_type": "slide"
    }
   },
   "source": [
    "## Converting to RGB"
   ]
  },
  {
   "cell_type": "markdown",
   "id": "bdb2088e",
   "metadata": {
    "slideshow": {
     "slide_type": "fragment"
    }
   },
   "source": [
    "Modify your source code in order to convert your image into RGB before displaying it."
   ]
  },
  {
   "cell_type": "markdown",
   "id": "665cb79c",
   "metadata": {
    "slideshow": {
     "slide_type": "fragment"
    }
   },
   "source": [
    "```python\n",
    "rgb = cv2.cvtColor(image, cv2.COLOR_BGR2RGB)\n",
    "```\n",
    "* `rgb` - output RGB image of the same size and depth as source image\n",
    "* `input` - source input image"
   ]
  },
  {
   "cell_type": "code",
   "execution_count": 7,
   "id": "d7306662",
   "metadata": {
    "slideshow": {
     "slide_type": "subslide"
    }
   },
   "outputs": [
    {
     "data": {
      "image/png": "[encoded data removed]",
      "text/plain": [
       "<Figure size 432x288 with 1 Axes>"
      ]
     },
     "metadata": {
      "needs_background": "light"
     },
     "output_type": "display_data"
    }
   ],
   "source": [
    "rgb = cv2.cvtColor(image, cv2.COLOR_BGR2RGB)\n",
    "plt.imshow(rgb)\n",
    "plt.show()"
   ]
  },
  {
   "cell_type": "markdown",
   "id": "9b470fe6",
   "metadata": {
    "slideshow": {
     "slide_type": "slide"
    }
   },
   "source": [
    "## Converting to Grayscale"
   ]
  },
  {
   "cell_type": "markdown",
   "id": "9d04b021",
   "metadata": {
    "slideshow": {
     "slide_type": "fragment"
    }
   },
   "source": [
    "Modify your source code in order to convert your image into grayscale before displaying it."
   ]
  },
  {
   "cell_type": "markdown",
   "id": "a951b8aa",
   "metadata": {
    "slideshow": {
     "slide_type": "fragment"
    }
   },
   "source": [
    "```python\n",
    "gray = cv2.cvtColor(image, cv2.COLOR_BGR2GRAY)\n",
    "```\n",
    "* `gray` - output grayscale image of the same size and depth as source image\n",
    "* `input` - source input image"
   ]
  },
  {
   "cell_type": "code",
   "execution_count": null,
   "id": "e448b506",
   "metadata": {
    "slideshow": {
     "slide_type": "subslide"
    }
   },
   "outputs": [],
   "source": [
    "gray = cv2.cvtColor(image, cv2.COLOR_BGR2GRAY)\n",
    "plt.imshow(gray)\n",
    "plt.show()"
   ]
  },
  {
   "cell_type": "markdown",
   "id": "9daec938",
   "metadata": {
    "slideshow": {
     "slide_type": "fragment"
    }
   },
   "source": [
    "[Choosing Colormaps in Matplotlib](https://matplotlib.org/stable/tutorials/colors/colormaps.html)"
   ]
  },
  {
   "cell_type": "code",
   "execution_count": null,
   "id": "5ef18530",
   "metadata": {
    "slideshow": {
     "slide_type": "subslide"
    }
   },
   "outputs": [],
   "source": [
    "plt.imshow(gray, cmap=\"gray\")\n",
    "plt.show()"
   ]
  },
  {
   "cell_type": "markdown",
   "id": "6a41bf99",
   "metadata": {
    "slideshow": {
     "slide_type": "slide"
    }
   },
   "source": [
    "## Writing Images"
   ]
  },
  {
   "cell_type": "markdown",
   "id": "a46bec29",
   "metadata": {
    "slideshow": {
     "slide_type": "fragment"
    }
   },
   "source": [
    "Save the image, using the JPEG codec and JFIF format."
   ]
  },
  {
   "cell_type": "markdown",
   "id": "77e648db",
   "metadata": {
    "slideshow": {
     "slide_type": "fragment"
    }
   },
   "source": [
    "```python\n",
    "cv2.imwrite(filename, image)\n",
    "```\n",
    "* `filename` - name of the file\n",
    "* `image` - image to be saved"
   ]
  },
  {
   "cell_type": "code",
   "execution_count": null,
   "id": "e6a2f3b1",
   "metadata": {
    "slideshow": {
     "slide_type": "subslide"
    }
   },
   "outputs": [],
   "source": [
    "cv2.imwrite(\"gray.jpg\", gray)"
   ]
  },
  {
   "cell_type": "code",
   "execution_count": null,
   "id": "b5864e9d",
   "metadata": {
    "slideshow": {
     "slide_type": "fragment"
    }
   },
   "outputs": [],
   "source": [
    "new = cv2.imread(\"gray.jpg\")\n",
    "plt.imshow(new)\n",
    "plt.show()"
   ]
  },
  {
   "cell_type": "markdown",
   "id": "1576add3",
   "metadata": {
    "slideshow": {
     "slide_type": "slide"
    }
   },
   "source": [
    "## Reading and Videos from File"
   ]
  },
  {
   "cell_type": "markdown",
   "id": "c6a7e1bd",
   "metadata": {
    "slideshow": {
     "slide_type": "fragment"
    }
   },
   "source": [
    "Capture a video from a file. Check the end of the video by checking if frames are read correctly. Display the selected frames.\n",
    "\n",
    "**Please be aware that not all video formats and codecs are readable in the environment. This exercise was tested at least with the Y4M format, using the programming environment as described in the introduction to this exercise.**"
   ]
  },
  {
   "cell_type": "markdown",
   "id": "c766e8e0",
   "metadata": {
    "slideshow": {
     "slide_type": "subslide"
    }
   },
   "source": [
    "```python\n",
    "object = cv2.VideoCapture(filename)\n",
    "retval, image = cv2.VideoCapture.read(object)\n",
    "cv2.VideoCapture.release()\n",
    "```\n",
    "* `object` - VideoCapture object\n",
    "* `filename` - name of opened video file or image sequence\n",
    "* `retval` - false if no more frames in video file to be grabbed\n",
    "* `image` - next, decoded video frame"
   ]
  },
  {
   "cell_type": "code",
   "execution_count": null,
   "id": "fff4f3ca",
   "metadata": {
    "slideshow": {
     "slide_type": "fragment"
    }
   },
   "outputs": [],
   "source": [
    "video = []\n",
    "object = cv2.VideoCapture(\"akiyo_cif.y4m\")\n",
    "retval, image = object.read()\n",
    "while retval:\n",
    "    video.append(image)\n",
    "    retval, image = object.read()\n",
    "object.release()"
   ]
  },
  {
   "cell_type": "code",
   "execution_count": null,
   "id": "1f8e205b",
   "metadata": {
    "slideshow": {
     "slide_type": "subslide"
    }
   },
   "outputs": [],
   "source": [
    "plt.imshow(cv2.cvtColor(video[0], cv2.COLOR_BGR2RGB))\n",
    "plt.show()"
   ]
  },
  {
   "cell_type": "code",
   "execution_count": null,
   "id": "cf72d9d1",
   "metadata": {
    "slideshow": {
     "slide_type": "fragment"
    }
   },
   "outputs": [],
   "source": [
    "plt.imshow(cv2.cvtColor(video[299], cv2.COLOR_BGR2RGB))\n",
    "plt.show()"
   ]
  },
  {
   "cell_type": "markdown",
   "id": "09338b9a",
   "metadata": {
    "slideshow": {
     "slide_type": "slide"
    }
   },
   "source": [
    "## Writing (Saving) Videos to File"
   ]
  },
  {
   "cell_type": "markdown",
   "id": "23bcf759",
   "metadata": {
    "slideshow": {
     "slide_type": "fragment"
    }
   },
   "source": [
    "Save the captured video frame-by-frame, using the Motion JPEG (MJPG) codec and AVI format."
   ]
  },
  {
   "cell_type": "markdown",
   "id": "214390cf",
   "metadata": {
    "slideshow": {
     "slide_type": "subslide"
    }
   },
   "source": [
    "```python\n",
    "fourcc = cv2.VideoWriter_fourcc(*format)\n",
    "object = cv2.VideoWriter(filename, fourcc, fps, frameSize)\n",
    "cv2.VideoWriter.write(image)\n",
    "cv2.VideoWriter.release()\n",
    "```\n",
    "* `fourcc` - 4-character code of codec used to compress frames\n",
    "* `format` - fourcc format (e.g.: `“MJPG”`)\n",
    "* `object` - `VideoWriter` object\n",
    "* `filename` - name of output video file\n",
    "* `fps` - frame-rate of the created video stream\n",
    "* `frameSize` - size of video frames (e.g.: `(column, row)`)\n",
    "* `image` - written frame"
   ]
  },
  {
   "cell_type": "code",
   "execution_count": null,
   "id": "935d7421",
   "metadata": {
    "slideshow": {
     "slide_type": "subslide"
    }
   },
   "outputs": [],
   "source": [
    "fourcc = cv2.VideoWriter_fourcc(*\"MJPG\")  # *\"MJPG\" == \"M\", \"J\", \"P\", \"G\"\n",
    "object = cv2.VideoWriter(\"akiyo_cif.avi\", fourcc, 30, (352, 288))\n",
    "for image in video:\n",
    "    object.write(image)\n",
    "object.release()"
   ]
  },
  {
   "cell_type": "code",
   "execution_count": null,
   "id": "55387e3b",
   "metadata": {
    "slideshow": {
     "slide_type": "fragment"
    }
   },
   "outputs": [],
   "source": [
    "new = []\n",
    "object = cv2.VideoCapture(\"akiyo_cif.avi\")\n",
    "retval, image = object.read()\n",
    "while retval:\n",
    "    new.append(image)\n",
    "    retval, image = object.read()\n",
    "object.release()"
   ]
  },
  {
   "cell_type": "code",
   "execution_count": null,
   "id": "1baed020",
   "metadata": {
    "slideshow": {
     "slide_type": "subslide"
    }
   },
   "outputs": [],
   "source": [
    "plt.imshow(cv2.cvtColor(new[0], cv2.COLOR_BGR2RGB))\n",
    "plt.show()"
   ]
  },
  {
   "cell_type": "code",
   "execution_count": null,
   "id": "0d9d0299",
   "metadata": {
    "slideshow": {
     "slide_type": "fragment"
    }
   },
   "outputs": [],
   "source": [
    "plt.imshow(cv2.cvtColor(new[299], cv2.COLOR_BGR2RGB))\n",
    "plt.show()"
   ]
  },
  {
   "cell_type": "markdown",
   "id": "49fe3c1a",
   "metadata": {
    "slideshow": {
     "slide_type": "slide"
    }
   },
   "source": [
    "## Accessing and Modifying Pixel Values"
   ]
  },
  {
   "cell_type": "markdown",
   "id": "e4160191",
   "metadata": {
    "slideshow": {
     "slide_type": "fragment"
    }
   },
   "source": [
    "Access a true-color image pixel value by its row `100` and column `100` coordinates. Access the pixel but only blue value. Modify the same pixel values to `[255, 255, 255]`. Modify the only red value of `[10, 10]` to `0`."
   ]
  },
  {
   "cell_type": "markdown",
   "id": "b38f9e56",
   "metadata": {
    "slideshow": {
     "slide_type": "fragment"
    }
   },
   "source": [
    "```python\n",
    "image[row, column, bgr]\n",
    "image.item(row, column, bgr)\n",
    "```\n",
    "* `image` - image\n",
    "* `row` - image row, counting from `0`\n",
    "* `column` - image column, from `0`\n",
    "* `bgr` - blue/green/red channel, counting from `0`"
   ]
  },
  {
   "cell_type": "code",
   "execution_count": null,
   "id": "25de98ac",
   "metadata": {
    "slideshow": {
     "slide_type": "subslide"
    }
   },
   "outputs": [],
   "source": [
    "image = cv2.imread(\"Lenna_(test_image).png\")"
   ]
  },
  {
   "cell_type": "code",
   "execution_count": null,
   "id": "4f5b7559",
   "metadata": {
    "slideshow": {
     "slide_type": "fragment"
    }
   },
   "outputs": [],
   "source": [
    "print(image[100, 100, 0])"
   ]
  },
  {
   "cell_type": "code",
   "execution_count": null,
   "id": "f35bb9ef",
   "metadata": {
    "slideshow": {
     "slide_type": "fragment"
    }
   },
   "outputs": [],
   "source": [
    "print(image.item(100, 100, 0))"
   ]
  },
  {
   "cell_type": "code",
   "execution_count": null,
   "id": "de1503a8",
   "metadata": {
    "slideshow": {
     "slide_type": "subslide"
    }
   },
   "outputs": [],
   "source": [
    "image[100, 100, 0] = 255\n",
    "image[100, 100, 1] = 255\n",
    "image[100, 100, 2] = 255\n",
    "plt.imshow(cv2.cvtColor(image, cv2.COLOR_BGR2RGB))\n",
    "plt.show()"
   ]
  },
  {
   "cell_type": "code",
   "execution_count": null,
   "id": "7a98d1f4",
   "metadata": {
    "slideshow": {
     "slide_type": "subslide"
    }
   },
   "outputs": [],
   "source": [
    "image[10, 10, 2] = 0\n",
    "plt.imshow(cv2.cvtColor(image, cv2.COLOR_BGR2RGB))\n",
    "plt.show()"
   ]
  },
  {
   "cell_type": "markdown",
   "id": "428d8acd",
   "metadata": {
    "slideshow": {
     "slide_type": "slide"
    }
   },
   "source": [
    "## Accessing Image Properties"
   ]
  },
  {
   "cell_type": "markdown",
   "id": "97b8221b",
   "metadata": {
    "slideshow": {
     "slide_type": "fragment"
    }
   },
   "source": [
    "Image properties include several rows, columns and channels, type of image data, number of pixels etc.\n",
    "\n",
    "Access and return a shape of the image being a tuple of several rows, columns and channels (if the image is color).\n",
    "\n",
    "Access and return the total number of pixels.\n",
    "\n",
    "Obtain and return the image datatype."
   ]
  },
  {
   "cell_type": "markdown",
   "id": "998961d5",
   "metadata": {
    "slideshow": {
     "slide_type": "subslide"
    }
   },
   "source": [
    "```python\n",
    "d = image.shape\n",
    "n = image.size\n",
    "o = image.dtype\n",
    "```\n",
    "* `d` - tuple of array (image) dimensions\n",
    "* `n` - number of elements in array (image)\n",
    "* `o` - data-type of array’s (image's) elements\n",
    "* `image` - image"
   ]
  },
  {
   "cell_type": "code",
   "execution_count": null,
   "id": "ec97b28e",
   "metadata": {
    "slideshow": {
     "slide_type": "subslide"
    }
   },
   "outputs": [],
   "source": [
    "print(image.shape)"
   ]
  },
  {
   "cell_type": "code",
   "execution_count": null,
   "id": "81213c79",
   "metadata": {
    "slideshow": {
     "slide_type": "fragment"
    }
   },
   "outputs": [],
   "source": [
    "print(image.size)"
   ]
  },
  {
   "cell_type": "code",
   "execution_count": null,
   "id": "a17d6dff",
   "metadata": {
    "slideshow": {
     "slide_type": "fragment"
    }
   },
   "outputs": [],
   "source": [
    "print(image.dtype)"
   ]
  },
  {
   "cell_type": "markdown",
   "id": "20d88d2b",
   "metadata": {
    "slideshow": {
     "slide_type": "slide"
    }
   },
   "source": [
    "## Drawing Circles"
   ]
  },
  {
   "cell_type": "markdown",
   "id": "5e899488",
   "metadata": {
    "slideshow": {
     "slide_type": "fragment"
    }
   },
   "source": [
    "Drawing circles:"
   ]
  },
  {
   "cell_type": "markdown",
   "id": "3470db7b",
   "metadata": {
    "slideshow": {
     "slide_type": "fragment"
    }
   },
   "source": [
    "```python\n",
    "cv2.circle(image, center, radius, color[, thickness[, lineType[, shift]]])\n",
    "```"
   ]
  },
  {
   "cell_type": "markdown",
   "id": "7c079ab3",
   "metadata": {
    "slideshow": {
     "slide_type": "subslide"
    }
   },
   "source": [
    "**Arguments**:"
   ]
  },
  {
   "cell_type": "markdown",
   "id": "ba8828cb",
   "metadata": {
    "slideshow": {
     "slide_type": "fragment"
    }
   },
   "source": [
    "* `image` – image where circle drawn\n",
    "* `center` – circle centre\n",
    "* `radius` – circle radius\n",
    "* `color` – circle colour\n",
    "* `thickness` – circle outline thickness, if positive; negative thickness meaning filled circle to be drawn\n",
    "* `lineType` – circle boundary type\n",
    "* `shift` – fractional bits number in coordinates of centre & in radius value"
   ]
  },
  {
   "cell_type": "code",
   "execution_count": null,
   "id": "ce49491d",
   "metadata": {
    "slideshow": {
     "slide_type": "subslide"
    }
   },
   "outputs": [],
   "source": [
    "image = cv2.imread(\"Lenna_(test_image).png\")\n",
    "circle = cv2.circle(image, (256, 256), 128, (255, 255, 255), -1)\n",
    "plt.imshow(cv2.cvtColor(circle, cv2.COLOR_BGR2RGB))\n",
    "plt.show()"
   ]
  },
  {
   "cell_type": "markdown",
   "id": "ea3463c2",
   "metadata": {
    "slideshow": {
     "slide_type": "slide"
    }
   },
   "source": [
    "## Drawing Rectangle"
   ]
  },
  {
   "cell_type": "markdown",
   "id": "b585ea1f",
   "metadata": {
    "slideshow": {
     "slide_type": "fragment"
    }
   },
   "source": [
    "Drawing simple, thick, or filled up-right rectangle:"
   ]
  },
  {
   "cell_type": "markdown",
   "id": "e16657fb",
   "metadata": {
    "slideshow": {
     "slide_type": "fragment"
    }
   },
   "source": [
    "```python\n",
    "cv2.rectangle(image, pt1, pt2, color[, thickness[, lineType[, shift]]])\n",
    "cv2.rectangle(image, rec, color[, thickness[, lineType[, shift]]])\n",
    "```"
   ]
  },
  {
   "cell_type": "markdown",
   "id": "72bfcf9d",
   "metadata": {
    "slideshow": {
     "slide_type": "subslide"
    }
   },
   "source": [
    "**Arguments**:"
   ]
  },
  {
   "cell_type": "markdown",
   "id": "01398d7a",
   "metadata": {
    "slideshow": {
     "slide_type": "fragment"
    }
   },
   "source": [
    "* `image` – image\n",
    "* `pt1` – rectangle vertex\n",
    "* `pt2` – rectangle vertex opposite to `pt1`\n",
    "* `rec` – alternative drawn rectangle specification\n",
    "* `color` – rectangle colour or brightness (grayscale image)\n",
    "* `thickness` – thickness of lines making up rectangle; negative values meaning function to draw filled rectangle\n",
    "* `lineType` – line type\n",
    "* `shift` – fractional bits number in point coordinates"
   ]
  },
  {
   "cell_type": "code",
   "execution_count": null,
   "id": "08343d76",
   "metadata": {
    "slideshow": {
     "slide_type": "subslide"
    }
   },
   "outputs": [],
   "source": [
    "image = cv2.imread(\"Lenna_(test_image).png\")\n",
    "rectangle = cv2.rectangle(image, (128, 128), (384, 384), (255, 255, 255), -1)\n",
    "plt.imshow(cv2.cvtColor(rectangle, cv2.COLOR_BGR2RGB))\n",
    "plt.show()"
   ]
  },
  {
   "cell_type": "markdown",
   "id": "b6dd9674",
   "metadata": {
    "slideshow": {
     "slide_type": "slide"
    }
   },
   "source": [
    "## Drawing Ellipses"
   ]
  },
  {
   "cell_type": "markdown",
   "id": "793a50b0",
   "metadata": {
    "slideshow": {
     "slide_type": "fragment"
    }
   },
   "source": [
    "Drawing simple or thick elliptic arc or filling ellipse sector."
   ]
  },
  {
   "cell_type": "markdown",
   "id": "12d3cfae",
   "metadata": {
    "slideshow": {
     "slide_type": "fragment"
    }
   },
   "source": [
    "```python\n",
    "cv2.ellipse(image, center, axes, angle, startAngle, endAngle, color[, thickness[, lineType[, shift]]])\n",
    "cv2.ellipse(image, box, color[, thickness[, lineType]])\n",
    "```"
   ]
  },
  {
   "cell_type": "markdown",
   "id": "630706bf",
   "metadata": {
    "slideshow": {
     "slide_type": "subslide"
    }
   },
   "source": [
    "**Arguments**:"
   ]
  },
  {
   "cell_type": "markdown",
   "id": "bb2cde72",
   "metadata": {
    "slideshow": {
     "slide_type": "fragment"
    }
   },
   "source": [
    "* `image` – image\n",
    "* `center` – ellipse centre\n",
    "* `axes` – ellipse main axes half size\n",
    "* `angle` – ellipse rotation angle in degrees\n",
    "* `startAngle` – elliptic arc starting angle in degrees\n",
    "* `endAngle` – elliptic arc ending angle in degrees\n",
    "* `box` – alternative ellipse representation; meaning function drawing ellipse inscribed in rotated rectangle"
   ]
  },
  {
   "cell_type": "markdown",
   "id": "ae553d91",
   "metadata": {
    "slideshow": {
     "slide_type": "subslide"
    }
   },
   "source": [
    "* `color` – ellipse colour\n",
    "* `thickness` – ellipse arc outline thickness, if positive; otherwise, indicating filled ellipse sector to be drawn\n",
    "* `lineType` – ellipse boundary type\n",
    "* `shift` – fractional bits number in coordinates of centre & values of axes"
   ]
  },
  {
   "cell_type": "code",
   "execution_count": null,
   "id": "d800345c",
   "metadata": {
    "slideshow": {
     "slide_type": "subslide"
    }
   },
   "outputs": [],
   "source": [
    "image = cv2.imread(\"Lenna_(test_image).png\")\n",
    "ellipse = cv2.ellipse(image, (256, 256), (64, 128), 0, 0, 360, (255, 255, 255), -1)\n",
    "plt.imshow(cv2.cvtColor(ellipse, cv2.COLOR_BGR2RGB))\n",
    "plt.show()"
   ]
  },
  {
   "cell_type": "markdown",
   "id": "a7ee4c58",
   "metadata": {
    "slideshow": {
     "slide_type": "slide"
    }
   },
   "source": [
    "## Image Filtering"
   ]
  },
  {
   "cell_type": "markdown",
   "id": "13aebc70",
   "metadata": {
    "slideshow": {
     "slide_type": "fragment"
    }
   },
   "source": [
    "Applying bilateral filter to image (destination image is of same size & type as source image)."
   ]
  },
  {
   "cell_type": "markdown",
   "id": "2a36046d",
   "metadata": {
    "slideshow": {
     "slide_type": "fragment"
    }
   },
   "source": [
    "```python\n",
    "cv2.bilateralFilter(image, d, sigmaColor, sigmaSpace[, dst[, borderType]])\n",
    "```"
   ]
  },
  {
   "cell_type": "markdown",
   "id": "06fba9c2",
   "metadata": {
    "slideshow": {
     "slide_type": "subslide"
    }
   },
   "source": [
    "**Arguments**:"
   ]
  },
  {
   "cell_type": "markdown",
   "id": "e1c1fdcd",
   "metadata": {
    "slideshow": {
     "slide_type": "fragment"
    }
   },
   "source": [
    "* `image` – source 8-bit or floating-point, 1-channel or 3-channel image\n",
    "* `d` – diameter of each pixel neighbourhood used during filtering; computed from `sigmaSpace` if non-positive\n",
    "* `sigmaColor` – filter sigma in colour space; larger parameter value meaning farther colours within pixel neighbourhood (see `sigmaSpace`) mixed together, resulting in larger areas of semi-equal colour\n",
    "* `sigmaSpace` – filter sigma in coordinate space; larger parameter value meaning farther pixels influencing each other if their colours close enough (see `sigmaColor`); specifying neighbourhood size regardless of `sigmaSpace` when `d>0`; otherwise, `d` proportional to `sigmaSpace`"
   ]
  },
  {
   "cell_type": "code",
   "execution_count": null,
   "id": "214edcca",
   "metadata": {
    "scrolled": true,
    "slideshow": {
     "slide_type": "subslide"
    }
   },
   "outputs": [],
   "source": [
    "image = cv2.imread(\"Lenna_(test_image).png\")\n",
    "bilateral = cv2.bilateralFilter(image, 15, 75, 75)\n",
    "plt.imshow(cv2.cvtColor(bilateral, cv2.COLOR_BGR2RGB))\n",
    "plt.show()"
   ]
  },
  {
   "cell_type": "markdown",
   "id": "d72d4e3b",
   "metadata": {
    "slideshow": {
     "slide_type": "slide"
    }
   },
   "source": [
    "## Image Blurring"
   ]
  },
  {
   "cell_type": "markdown",
   "id": "c6283d9a",
   "metadata": {
    "slideshow": {
     "slide_type": "fragment"
    }
   },
   "source": [
    "Blurring image using normalized box filter (destination image is of same size & type as source image)."
   ]
  },
  {
   "cell_type": "markdown",
   "id": "4b5e8dbd",
   "metadata": {
    "slideshow": {
     "slide_type": "fragment"
    }
   },
   "source": [
    "```python\n",
    "cv2.blur(image, ksize[, dst[, anchor[, borderType]]])\n",
    "```"
   ]
  },
  {
   "cell_type": "markdown",
   "id": "f2999c71",
   "metadata": {
    "slideshow": {
     "slide_type": "subslide"
    }
   },
   "source": [
    "**Arguments**:"
   ]
  },
  {
   "cell_type": "markdown",
   "id": "b317b09f",
   "metadata": {
    "slideshow": {
     "slide_type": "fragment"
    }
   },
   "source": [
    "* `image` – input image; having any channels number processed independently\n",
    "* `ksize` – blurring kernel size\n",
    "* `anchor` – anchor point; default value `Point(-1,-1)` meaning anchor at kernel centre\n",
    "* `borderType` – border mode used to extrapolate pixels outside of image"
   ]
  },
  {
   "cell_type": "code",
   "execution_count": null,
   "id": "9e456ed9",
   "metadata": {
    "scrolled": true,
    "slideshow": {
     "slide_type": "subslide"
    }
   },
   "outputs": [],
   "source": [
    "image = cv2.imread(\"Lenna_(test_image).png\")\n",
    "blur = cv2.blur(image, (10, 10))\n",
    "plt.imshow(cv2.cvtColor(blur, cv2.COLOR_BGR2RGB))\n",
    "plt.show()"
   ]
  },
  {
   "cell_type": "markdown",
   "id": "fb9d8b6f",
   "metadata": {
    "slideshow": {
     "slide_type": "slide"
    }
   },
   "source": [
    "## Exercises"
   ]
  },
  {
   "cell_type": "markdown",
   "id": "dde444bb",
   "metadata": {
    "slideshow": {
     "slide_type": "slide"
    }
   },
   "source": [
    "### Exercise 1"
   ]
  },
  {
   "cell_type": "markdown",
   "id": "7e1cbf79",
   "metadata": {
    "slideshow": {
     "slide_type": "fragment"
    }
   },
   "source": [
    "Given the \"Lenna\" image load it using OpenCV, split the channels using NumPy and display each channel in a new windows called as the channel.\n",
    "\n",
    "![](https://upload.wikimedia.org/wikipedia/commons/thumb/3/33/Beyoglu_4671_tricolor.png/640px-Beyoglu_4671_tricolor.png)"
   ]
  },
  {
   "cell_type": "markdown",
   "id": "6f86cb78",
   "metadata": {
    "slideshow": {
     "slide_type": "slide"
    }
   },
   "source": [
    "### Solution 1"
   ]
  },
  {
   "cell_type": "code",
   "execution_count": null,
   "id": "813d611e",
   "metadata": {
    "slideshow": {
     "slide_type": "fragment"
    }
   },
   "outputs": [],
   "source": [
    "import cv2\n",
    "import numpy as np\n",
    "import matplotlib.pyplot as plt\n",
    "img = cv2.imread(\"Lenna_(test_image).png\")\n",
    "x, y = img.shape[0], img.shape[1]\n",
    "r = np.zeros((x, y, 3), dtype=int)\n",
    "g = np.zeros((x, y, 3), dtype=int)\n",
    "b = np.zeros((x, y, 3), dtype=int)\n",
    "r[:,:,0] = img[:,:,2]\n",
    "g[:,:,1] = img[:,:,1]\n",
    "b[:,:,2] = img[:,:,0]\n",
    "plt.imshow(r)\n",
    "plt.show()"
   ]
  },
  {
   "cell_type": "markdown",
   "id": "88f036c8",
   "metadata": {
    "slideshow": {
     "slide_type": "slide"
    }
   },
   "source": [
    "### Exercise 2"
   ]
  },
  {
   "cell_type": "markdown",
   "id": "94e9ddb1",
   "metadata": {
    "slideshow": {
     "slide_type": "fragment"
    }
   },
   "source": [
    "Using the same image of the previous exercise, load it, copy it converting as gray-scale and replace all pixels with intensity lower than 80 with 0, 1 otherwise. Finally, apply the mask to the original image, keeping the original value where the mask is 1, 0 otherwise.\n",
    "\n",
    "![](https://upload.wikimedia.org/wikipedia/commons/f/fd/Thresholding_example.jpg)"
   ]
  },
  {
   "cell_type": "markdown",
   "id": "6c727eb9",
   "metadata": {
    "slideshow": {
     "slide_type": "slide"
    }
   },
   "source": [
    "### Solution 2"
   ]
  },
  {
   "cell_type": "code",
   "execution_count": null,
   "id": "20b01d8f",
   "metadata": {
    "slideshow": {
     "slide_type": "fragment"
    }
   },
   "outputs": [],
   "source": [
    "import cv2\n",
    "import numpy as np\n",
    "import matplotlib.pyplot as plt\n",
    "img = cv2.imread(\"Lenna_(test_image).png\")\n",
    "gray = cv2.cvtColor(img, cv2.COLOR_BGR2GRAY)\n",
    "mask = gray >= 80\n",
    "masked = np.zeros((512, 512, 3), dtype=int)\n",
    "masked[:,:,0] = img[:,:,2] * mask\n",
    "masked[:,:,1] = img[:,:,1] * mask\n",
    "masked[:,:,2] = img[:,:,0] * mask\n",
    "plt.imshow(masked)  # , cmap='gray')\n",
    "plt.show()"
   ]
  },
  {
   "cell_type": "markdown",
   "id": "04ad978b",
   "metadata": {
    "slideshow": {
     "slide_type": "slide"
    }
   },
   "source": [
    "## Tasks"
   ]
  },
  {
   "cell_type": "markdown",
   "id": "7d2f2fae",
   "metadata": {
    "slideshow": {
     "slide_type": "fragment"
    }
   },
   "source": [
    "Please do the following tasks, trying to compliment the code in Python programming environment. Probably it is enough to create one file with the source code, which will be gradually expanded."
   ]
  },
  {
   "cell_type": "markdown",
   "id": "9f93e1a5",
   "metadata": {
    "slideshow": {
     "slide_type": "fragment"
    }
   },
   "source": [
    "**Please note that starting from this exercise, you will not find the appropriate functions in the talk slides. Independent studying of the documentation will be necessary.**"
   ]
  },
  {
   "cell_type": "markdown",
   "id": "fd24fec5",
   "metadata": {
    "slideshow": {
     "slide_type": "slide"
    }
   },
   "source": [
    "### Obtaining Image Regions of Interests (ROI)"
   ]
  },
  {
   "cell_type": "markdown",
   "id": "fb51fbbf",
   "metadata": {
    "slideshow": {
     "slide_type": "fragment"
    }
   },
   "source": [
    "Obtain image Region of Interest (ROI) using indexing. Selecting an object and copy it to another region in the image.\n"
   ]
  },
  {
   "cell_type": "code",
   "execution_count": null,
   "id": "f214a7c6",
   "metadata": {
    "slideshow": {
     "slide_type": "fragment"
    }
   },
   "outputs": [],
   "source": []
  },
  {
   "cell_type": "markdown",
   "id": "94f0a277",
   "metadata": {
    "slideshow": {
     "slide_type": "slide"
    }
   },
   "source": [
    "### Splitting and Merging Image Channels"
   ]
  },
  {
   "cell_type": "markdown",
   "id": "afb36a1f",
   "metadata": {
    "slideshow": {
     "slide_type": "fragment"
    }
   },
   "source": [
    "Split the color image to single channels. Join these individual channels to a color image.\n",
    "Set all the red channel pixels to zero.\n"
   ]
  },
  {
   "cell_type": "code",
   "execution_count": null,
   "id": "401c8034",
   "metadata": {
    "slideshow": {
     "slide_type": "fragment"
    }
   },
   "outputs": [],
   "source": []
  },
  {
   "cell_type": "markdown",
   "id": "4e5ed565",
   "metadata": {
    "slideshow": {
     "slide_type": "slide"
    }
   },
   "source": [
    "### Making Borders for Images (Padding)"
   ]
  },
  {
   "cell_type": "markdown",
   "id": "1b557752",
   "metadata": {
    "slideshow": {
     "slide_type": "fragment"
    }
   },
   "source": [
    "Create a border around the image, something like a photo frame."
   ]
  },
  {
   "cell_type": "code",
   "execution_count": null,
   "id": "3951c87f",
   "metadata": {
    "slideshow": {
     "slide_type": "fragment"
    }
   },
   "outputs": [],
   "source": []
  },
  {
   "cell_type": "markdown",
   "id": "3d21498a",
   "metadata": {
    "slideshow": {
     "slide_type": "slide"
    }
   },
   "source": [
    "### Mirroring Images"
   ]
  },
  {
   "cell_type": "markdown",
   "id": "74adb5f1",
   "metadata": {
    "slideshow": {
     "slide_type": "fragment"
    }
   },
   "source": [
    "Perform a mirror image reflection."
   ]
  },
  {
   "cell_type": "code",
   "execution_count": null,
   "id": "73d96471",
   "metadata": {
    "slideshow": {
     "slide_type": "fragment"
    }
   },
   "outputs": [],
   "source": []
  }
 ],
 "metadata": {
  "celltoolbar": "Slideshow",
  "kernelspec": {
   "display_name": "Python 3 (ipykernel)",
   "language": "python",
   "name": "python3"
  },
  "language_info": {
   "codemirror_mode": {
    "name": "ipython",
    "version": 3
   },
   "file_extension": ".py",
   "mimetype": "text/x-python",
   "name": "python",
   "nbconvert_exporter": "python",
   "pygments_lexer": "ipython3",
   "version": "3.10.4"
  }
 },
 "nbformat": 4,
 "nbformat_minor": 5
}
