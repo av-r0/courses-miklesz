{
 "cells": [
  {
   "cell_type": "markdown",
   "metadata": {
    "slideshow": {
     "slide_type": "slide"
    }
   },
   "source": [
    "# Cloud-Based Image Processing\n",
    "\n",
    "_Mikołaj Leszczuk, Szymon Turek, Jakub Nawała_"
   ]
  },
  {
   "cell_type": "markdown",
   "metadata": {
    "slideshow": {
     "slide_type": "slide"
    }
   },
   "source": [
    "## Introduction"
   ]
  },
  {
   "cell_type": "markdown",
   "metadata": {
    "slideshow": {
     "slide_type": "fragment"
    }
   },
   "source": [
    "The aim of this exercise is to get acquainted with the basics of programming using cloud-based image processing software. The exercise will be performed in the Python programming environment. Utilizing it, we will call remote Clarifai (cloud-based image processing software) functions.\n",
    "\n",
    "![Clarifai Web Logo](https://upload.wikimedia.org/wikipedia/commons/b/bc/Clarifai_Logo_FC_Web.png)"
   ]
  },
  {
   "cell_type": "markdown",
   "metadata": {
    "slideshow": {
     "slide_type": "slide"
    }
   },
   "source": [
    "## Setup Tasks"
   ]
  },
  {
   "cell_type": "markdown",
   "metadata": {
    "slideshow": {
     "slide_type": "fragment"
    }
   },
   "source": [
    "Below are instructions for setting up an environment for computer vision applications (Python + image processing libraries).\n",
    "\n",
    "**Python** is a general-purpose high-level programming language with an extensive standard library package, whose guiding principle is the readability and clarity of the source code. Its syntax is characterized by transparency and brevity. \n",
    "\n",
    "**Clarifai** is an Artificial Intelligence (AI) cloud service that specializes in computer vision and uses machine learning and deep neural networks to identify and analyze images and videos. The cloud service offers its solutions via API, mobile SDK, and on-premises solutions."
   ]
  },
  {
   "cell_type": "markdown",
   "metadata": {
    "slideshow": {
     "slide_type": "slide"
    }
   },
   "source": [
    "### App-Specific API Keys"
   ]
  },
  {
   "cell_type": "markdown",
   "metadata": {
    "slideshow": {
     "slide_type": "fragment"
    }
   },
   "source": [
    "Start by creating a free Clarifai account ([https://portal.clarifai.com/signup](https://portal.clarifai.com/signup)).\n",
    "\n",
    "App-specific API Keys are used to authorize your Clarifai applications. A key is automatically generated when you create a new application. You can also go to the application's list, select an app of your choice and create a new key in the app details page. _Each API key is tied to a specific user and a specific app._\n",
    "\n",
    "After creating a free account, the next steps are: (i) create a new application and (ii) generate the application key (the key should be put in the script)."
   ]
  },
  {
   "cell_type": "markdown",
   "metadata": {
    "slideshow": {
     "slide_type": "slide"
    }
   },
   "source": [
    "### Create an Application and Generate the Application Key"
   ]
  },
  {
   "cell_type": "markdown",
   "metadata": {
    "slideshow": {
     "slide_type": "fragment"
    }
   },
   "source": [
    "To create an application, head on over to the applications page and press the 'Create Application' button."
   ]
  },
  {
   "cell_type": "markdown",
   "metadata": {
    "slideshow": {
     "slide_type": "subslide"
    }
   },
   "source": [
    "![](https://gblobscdn.gitbook.com/assets%2F-LisemUaXxC3S7Kk9xFz%2Fsync%2F069fd59ae3fb51f51b3acbed9dd72e997287a0f2.png?alt=media)"
   ]
  },
  {
   "cell_type": "markdown",
   "metadata": {
    "slideshow": {
     "slide_type": "slide"
    }
   },
   "source": [
    "### API Client Installation Instructions"
   ]
  },
  {
   "cell_type": "markdown",
   "metadata": {
    "slideshow": {
     "slide_type": "fragment"
    }
   },
   "source": [
    "Using client library to access API."
   ]
  },
  {
   "cell_type": "markdown",
   "metadata": {
    "slideshow": {
     "slide_type": "slide"
    }
   },
   "source": [
    "#### Installation"
   ]
  },
  {
   "cell_type": "markdown",
   "metadata": {
    "slideshow": {
     "slide_type": "fragment"
    }
   },
   "source": [
    "**Tip 1**: Please note that if you use Python, there might be two independently configured versions installed on the machine: Python 2 (`python`) and Python 3 (`python3`). The two versions are not always compatible. We advise to use Python 3 as Python 2 support officially ended in January 2020."
   ]
  },
  {
   "cell_type": "markdown",
   "metadata": {
    "slideshow": {
     "slide_type": "fragment"
    }
   },
   "source": [
    "**Tip 2**: To install Clarifai for Python, you must execute the following command (usually you do not need administrative privileges to run this command):\n",
    "\n",
    "```sh\n",
    "pip install clarifai-grpc\n",
    "```\n",
    "\n",
    "Please keep in mind that the _pip_ command installs packages only for Python 3."
   ]
  },
  {
   "cell_type": "markdown",
   "metadata": {
    "slideshow": {
     "slide_type": "subslide"
    }
   },
   "source": [
    "**Tip 3**: In case of error messages saying that the pip version is too old, you must upgrade it by executing the following command (it can be noted that this should not be necessary and may break your machine configuration):\n",
    "\n",
    "```sh\n",
    "pip install --upgrade pip\n",
    "```"
   ]
  },
  {
   "cell_type": "markdown",
   "metadata": {
    "slideshow": {
     "slide_type": "fragment"
    }
   },
   "source": [
    "**Tip 4**: In case of error messages saying that you do not have sufficient permissions, you can use the root (administrator) account. **Before you do so, please first consult with the tutor.**"
   ]
  },
  {
   "cell_type": "markdown",
   "metadata": {
    "slideshow": {
     "slide_type": "slide"
    }
   },
   "source": [
    "#### Initialize Client"
   ]
  },
  {
   "cell_type": "code",
   "execution_count": 3,
   "metadata": {
    "slideshow": {
     "slide_type": "fragment"
    }
   },
   "outputs": [],
   "source": [
    "from clarifai_grpc.channel.clarifai_channel import ClarifaiChannel\n",
    "from clarifai_grpc.grpc.api import resources_pb2, service_pb2, service_pb2_grpc\n",
    "from clarifai_grpc.grpc.api.status import status_pb2, status_code_pb2\n",
    "\n",
    "channel = ClarifaiChannel.get_grpc_channel()\n",
    "\n",
    "# Note: You can also use a secure (encrypted) ClarifaiChannel.get_grpc_channel() however\n",
    "# it is currently not possible to use it with the latest gRPC version\n",
    "\n",
    "stub = service_pb2_grpc.V2Stub(channel)"
   ]
  },
  {
   "cell_type": "code",
   "execution_count": 2,
   "metadata": {
    "slideshow": {
     "slide_type": "fragment"
    }
   },
   "outputs": [],
   "source": [
    "# This will be used by every Clarifai endpoint call.\n",
    "metadata = (('authorization', 'Key ...'),)"
   ]
  },
  {
   "cell_type": "markdown",
   "metadata": {
    "slideshow": {
     "slide_type": "slide"
    }
   },
   "source": [
    "## Example - Tags Extraction on Images via URL (Prediction of Concepts in an Image)"
   ]
  },
  {
   "cell_type": "markdown",
   "metadata": {},
   "source": [
    "The script should point the Clarifai API to a URL path to an image:"
   ]
  },
  {
   "cell_type": "markdown",
   "metadata": {},
   "source": [
    "```python\n",
    "request = service_pb2.PostModelOutputsRequest(\n",
    "    # This is the model ID of a publicly available General model. You may use any other public or custom model ID.\n",
    "    model_id='aaa03c23b3724a16a56b629203edc62c',\n",
    "    inputs=[\n",
    "      resources_pb2.Input(data=resources_pb2.Data(image=resources_pb2.Image(url='https://samples.clarifai.com/metro-north.jpg')))\n",
    "    ])\n",
    "response = stub.PostModelOutputs(request, metadata=metadata)\n",
    "```"
   ]
  },
  {
   "cell_type": "markdown",
   "metadata": {},
   "source": [
    "```python\n",
    "if response.status.code != status_code_pb2.SUCCESS:\n",
    "    raise Exception(\"Request failed, status code: \" + str(response.status.code))\n",
    "```"
   ]
  },
  {
   "cell_type": "markdown",
   "metadata": {},
   "source": [
    "Finally, please print the output data:"
   ]
  },
  {
   "cell_type": "markdown",
   "metadata": {},
   "source": [
    "```python\n",
    "print(response)\n",
    "```"
   ]
  },
  {
   "cell_type": "markdown",
   "metadata": {},
   "source": [
    "As the response is formatted using JSON (JavaScript Object Notation), instead of the regular **`print`**, it is better to use:"
   ]
  },
  {
   "cell_type": "markdown",
   "metadata": {},
   "source": [
    "```python\n",
    "for concept in response.outputs[0].data.concepts:\n",
    "    print('%12s: %.2f' % (concept.name, concept.value))\n",
    "```"
   ]
  },
  {
   "cell_type": "markdown",
   "metadata": {},
   "source": [
    "## Tasks"
   ]
  },
  {
   "cell_type": "markdown",
   "metadata": {},
   "source": [
    "Please perform the following tasks.\n",
    "\n",
    "Please perform automatic extraction of machine markers (tags), using Clarifai and Python (the script should be written in Python 3)."
   ]
  },
  {
   "cell_type": "markdown",
   "metadata": {},
   "source": [
    "### Classifying Image Content with Images Sent as Binary Data"
   ]
  },
  {
   "cell_type": "markdown",
   "metadata": {},
   "source": [
    "Send the binary payload of an image and receive back predictions from the **`general`** model.\n",
    "\n",
    "**Please note that for this exercise you do not find the appropriate functions in the lecture slides. Independent studying of the documentation is necessary.**"
   ]
  },
  {
   "cell_type": "markdown",
   "metadata": {},
   "source": [
    "### (Optional) Classifying Video Content"
   ]
  },
  {
   "cell_type": "markdown",
   "metadata": {},
   "source": [
    "Please send a binary payload to a video through the Clarifai API. You should receive back tags for each second of a video. \n",
    "\n",
    "Please note that similarly to the previous exercise, you must look through the documentation to find appropriate API functions. \n",
    "\n",
    "**If you manage to make this exercise, please send your source code to the tutor.**\n",
    "\n",
    "**The additional exercise is worth 5 points.**"
   ]
  },
  {
   "cell_type": "markdown",
   "metadata": {},
   "source": [
    "## Additional References"
   ]
  },
  {
   "cell_type": "markdown",
   "metadata": {},
   "source": [
    "1. “Getting Started Guide | Clarifai Developer” (link to the documentation),\n",
    "[https://www.clarifai.com/developer/guide/](https://www.clarifai.com/developer/guide/)\n",
    "1. “Sign Up | Clarifai Developer” (setting up a free account),\n",
    "[https://clarifai.com/developer/account/signup](https://clarifai.com/developer/account/signup)\n",
    "1. “Applications | Clarifai Developer” (creating a new application),\n",
    "[https://clarifai.com/developer/account/applications](https://clarifai.com/developer/account/applications)\n",
    "1. “API Keys | Clarifai Developer” (generation of the application key),\n",
    "[https://www.clarifai.com/developer/account/keys](https://www.clarifai.com/developer/account/keys)\n"
   ]
  },
  {
   "cell_type": "code",
   "execution_count": null,
   "metadata": {},
   "outputs": [],
   "source": []
  }
 ],
 "metadata": {
  "celltoolbar": "Slideshow",
  "kernelspec": {
   "display_name": "Python 3 (ipykernel)",
   "language": "python",
   "name": "python3"
  },
  "language_info": {
   "codemirror_mode": {
    "name": "ipython",
    "version": 3
   },
   "file_extension": ".py",
   "mimetype": "text/x-python",
   "name": "python",
   "nbconvert_exporter": "python",
   "pygments_lexer": "ipython3",
   "version": "3.8.11"
  }
 },
 "nbformat": 4,
 "nbformat_minor": 4
}
