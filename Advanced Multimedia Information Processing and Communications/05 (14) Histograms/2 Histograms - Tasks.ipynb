{
 "cells": [
  {
   "cell_type": "markdown",
   "id": "26cc9fd7",
   "metadata": {
    "slideshow": {
     "slide_type": "slide"
    }
   },
   "source": [
    "# Histograms and Image Statistics - Tasks\n",
    "_Zbigniew Hulicki, Mikołaj Leszczuk, Jakub Nawała_"
   ]
  },
  {
   "cell_type": "markdown",
   "id": "1cb13402",
   "metadata": {
    "slideshow": {
     "slide_type": "slide"
    }
   },
   "source": [
    "## Abstract"
   ]
  },
  {
   "cell_type": "markdown",
   "id": "ae94cddd",
   "metadata": {
    "slideshow": {
     "slide_type": "fragment"
    }
   },
   "source": [
    "This document is a exercise instruction, introducing students into basic histogram operations in image processing, using Python."
   ]
  },
  {
   "cell_type": "markdown",
   "id": "4203171d",
   "metadata": {
    "slideshow": {
     "slide_type": "slide"
    }
   },
   "source": [
    "## What Is an Image Histogram?"
   ]
  },
  {
   "cell_type": "markdown",
   "id": "1de0f27d",
   "metadata": {
    "slideshow": {
     "slide_type": "fragment"
    }
   },
   "source": [
    "An **image histogram** is a type of histogram that acts as a graphical representation of the tonal distribution in a digital image. It plots the number of pixels for each tonal value.\n",
    "\n",
    "It is important to note that Histogram _IS NOT_ 1:1 property of the image. There are many images that have the same histogram."
   ]
  },
  {
   "cell_type": "markdown",
   "id": "45da9d18",
   "metadata": {
    "slideshow": {
     "slide_type": "slide"
    }
   },
   "source": [
    "## Applications of the Histogram"
   ]
  },
  {
   "cell_type": "markdown",
   "id": "dcbd7e45",
   "metadata": {
    "slideshow": {
     "slide_type": "fragment"
    }
   },
   "source": [
    "Image histograms are present on many modern [digital cameras](https://en.wikipedia.org/wiki/Digital_camera). Photographers can use them as an aid to show the distribution of tones captured, and whether image detail has been lost to blown-out highlights or blacked-out shadows."
   ]
  },
  {
   "cell_type": "markdown",
   "id": "bd96c2f9",
   "metadata": {
    "slideshow": {
     "slide_type": "subslide"
    }
   },
   "source": [
    "![](picture.png)"
   ]
  },
  {
   "cell_type": "code",
   "execution_count": null,
   "id": "9194c1b2",
   "metadata": {
    "slideshow": {
     "slide_type": "skip"
    }
   },
   "outputs": [],
   "source": []
  }
 ],
 "metadata": {
  "celltoolbar": "Slideshow",
  "kernelspec": {
   "display_name": "Python 3 (ipykernel)",
   "language": "python",
   "name": "python3"
  },
  "language_info": {
   "codemirror_mode": {
    "name": "ipython",
    "version": 3
   },
   "file_extension": ".py",
   "mimetype": "text/x-python",
   "name": "python",
   "nbconvert_exporter": "python",
   "pygments_lexer": "ipython3",
   "version": "3.9.7"
  }
 },
 "nbformat": 4,
 "nbformat_minor": 5
}
