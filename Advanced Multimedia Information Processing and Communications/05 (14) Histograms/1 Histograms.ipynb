{
 "cells": [
  {
   "cell_type": "markdown",
   "id": "26cc9fd7",
   "metadata": {
    "slideshow": {
     "slide_type": "slide"
    }
   },
   "source": [
    "# Histograms\n",
    "_Mikołaj Leszczuk, Jakub Nawała_"
   ]
  },
  {
   "cell_type": "markdown",
   "id": "45e6dce3",
   "metadata": {
    "slideshow": {
     "slide_type": "slide"
    }
   },
   "source": [
    "## Structure"
   ]
  },
  {
   "cell_type": "markdown",
   "id": "8afd8a24",
   "metadata": {
    "slideshow": {
     "slide_type": "fragment"
    }
   },
   "source": [
    "* Image histograms\n",
    "* Histogram matching (histogram specification)\n",
    "* Histogram equalisation\n",
    "* Image statistics"
   ]
  },
  {
   "cell_type": "markdown",
   "id": "caae6a10",
   "metadata": {
    "slideshow": {
     "slide_type": "slide"
    }
   },
   "source": [
    "## Image Histograms"
   ]
  },
  {
   "cell_type": "markdown",
   "id": "c8071045",
   "metadata": {
    "slideshow": {
     "slide_type": "slide"
    }
   },
   "source": [
    "### Histogram"
   ]
  },
  {
   "cell_type": "markdown",
   "id": "9fe90d0d",
   "metadata": {
    "slideshow": {
     "slide_type": "fragment"
    }
   },
   "source": [
    "* Accurate representation of the **distribution** of numerical data\n",
    "* Estimating **probability density function (PDF)** of a **continuous variable** (quantitative variable)\n",
    "![](https://upload.wikimedia.org/wikipedia/commons/c/c3/Histogram_of_arrivals_per_minute.svg)"
   ]
  },
  {
   "cell_type": "markdown",
   "id": "3853be3c",
   "metadata": {
    "slideshow": {
     "slide_type": "slide"
    }
   },
   "source": [
    "### Cumulative Histogram"
   ]
  },
  {
   "attachments": {},
   "cell_type": "markdown",
   "id": "86e8cca9",
   "metadata": {
    "slideshow": {
     "slide_type": "fragment"
    }
   },
   "source": [
    "* **Histogram** represented by **Cumulative Distribution Function (CDF)**\n",
    "* **CDF** - **probability** that **X ≤ x**.\n",
    "* For example, X - delay between two endpoints in seconds\n",
    "![](https://upload.wikimedia.org/wikipedia/commons/c/ca/Normal_Distribution_CDF.svg)"
   ]
  },
  {
   "cell_type": "markdown",
   "id": "2278391c",
   "metadata": {
    "slideshow": {
     "slide_type": "subslide"
    }
   },
   "source": [
    "![](https://upload.wikimedia.org/wikipedia/commons/5/53/Cumulative_vs_normal_histogram.svg)"
   ]
  },
  {
   "cell_type": "markdown",
   "id": "9c32a9ea",
   "metadata": {
    "slideshow": {
     "slide_type": "slide"
    }
   },
   "source": [
    "### Image Histogram"
   ]
  },
  {
   "cell_type": "markdown",
   "id": "b1497658",
   "metadata": {
    "slideshow": {
     "slide_type": "fragment"
    }
   },
   "source": [
    "* A **histogram type** being a **graphical representation** of the **tonal (color)** distribution of a **digital image**\n",
    "* Plots the number of **pixels** for each tonal value\n",
    "* Allows judging the entire tonal distribution at a glance\n",
    "* The meaning of **axes**:\n",
    "  * **Horizontal** – tonal value\n",
    "  * **Vertical** – number of pixels in that tone"
   ]
  },
  {
   "cell_type": "markdown",
   "id": "dde59118",
   "metadata": {
    "slideshow": {
     "slide_type": "slide"
    }
   },
   "source": [
    "### Sunflower Image and Its Histogram(s)"
   ]
  },
  {
   "cell_type": "markdown",
   "id": "ea56dfe1",
   "metadata": {
    "slideshow": {
     "slide_type": "fragment"
    }
   },
   "source": [
    "![](https://upload.wikimedia.org/wikipedia/commons/9/95/SunLou2.jpg)\n",
    "![](https://upload.wikimedia.org/wikipedia/commons/2/2f/SunHistacp.jpg)"
   ]
  },
  {
   "cell_type": "markdown",
   "id": "521076c2",
   "metadata": {
    "slideshow": {
     "slide_type": "slide"
    }
   },
   "source": [
    "### Curve (Tonality)"
   ]
  },
  {
   "cell_type": "markdown",
   "id": "cb718c3e",
   "metadata": {
    "slideshow": {
     "slide_type": "subslide"
    }
   },
   "source": [
    "![](https://upload.wikimedia.org/wikipedia/commons/1/13/Curves_none_applied.png)"
   ]
  },
  {
   "cell_type": "markdown",
   "id": "a77a6ace",
   "metadata": {
    "slideshow": {
     "slide_type": "subslide"
    }
   },
   "source": [
    "![](https://upload.wikimedia.org/wikipedia/commons/9/9a/Curves_red_applied.png)"
   ]
  },
  {
   "cell_type": "markdown",
   "id": "d6d9a10e",
   "metadata": {
    "slideshow": {
     "slide_type": "slide"
    }
   },
   "source": [
    "## Histogram Matching (Histogram Specification)"
   ]
  },
  {
   "cell_type": "markdown",
   "id": "bdf9266a",
   "metadata": {
    "slideshow": {
     "slide_type": "slide"
    }
   },
   "source": [
    "### Histogram Matching (Histogram Specification)"
   ]
  },
  {
   "cell_type": "markdown",
   "id": "4ccc4556",
   "metadata": {
    "slideshow": {
     "slide_type": "fragment"
    }
   },
   "source": [
    "* Transformation of an image so that its histogram matches a specified histogram\n",
    "* Useful to normalize **2** images, when images acquired at:\n",
    "  * **The same** local illumination (such as shadows) over the same location, but by\n",
    "  * **Different**:\n",
    "    * Sensors,\n",
    "    * Atmospheric conditions, or \n",
    "    * Global illumination."
   ]
  },
  {
   "cell_type": "markdown",
   "id": "5261763f",
   "metadata": {
    "slideshow": {
     "slide_type": "subslide"
    }
   },
   "source": [
    "![](https://upload.wikimedia.org/wikipedia/commons/7/73/Histmatching.svg)"
   ]
  },
  {
   "cell_type": "markdown",
   "id": "35542b61",
   "metadata": {
    "slideshow": {
     "slide_type": "slide"
    }
   },
   "source": [
    "### Example"
   ]
  },
  {
   "attachments": {},
   "cell_type": "markdown",
   "id": "2101a2d9",
   "metadata": {
    "slideshow": {
     "slide_type": "fragment"
    }
   },
   "source": [
    "Following input grayscale image to be changed to match a reference histogram:"
   ]
  },
  {
   "cell_type": "markdown",
   "id": "a9aa41fa",
   "metadata": {
    "slideshow": {
     "slide_type": "fragment"
    }
   },
   "source": [
    "![](https://upload.wikimedia.org/wikipedia/commons/thumb/1/1b/Grayscale_Image.tif/lossy-page1-640px-Grayscale_Image.tif.jpg)"
   ]
  },
  {
   "cell_type": "markdown",
   "id": "3ad7b7d2",
   "metadata": {
    "slideshow": {
     "slide_type": "slide"
    }
   },
   "source": [
    "### Histogram of Input Image"
   ]
  },
  {
   "cell_type": "markdown",
   "id": "19ca51b7",
   "metadata": {
    "slideshow": {
     "slide_type": "fragment"
    }
   },
   "source": [
    "Input image having following histogram:"
   ]
  },
  {
   "cell_type": "markdown",
   "id": "e9bd8a44",
   "metadata": {
    "slideshow": {
     "slide_type": "fragment"
    }
   },
   "source": [
    "![](https://upload.wikimedia.org/wikipedia/commons/a/a2/Input_Image_Histogram.png)"
   ]
  },
  {
   "attachments": {},
   "cell_type": "markdown",
   "id": "dc235aca",
   "metadata": {
    "slideshow": {
     "slide_type": "slide"
    }
   },
   "source": [
    "### Desired Reference Histogram"
   ]
  },
  {
   "cell_type": "markdown",
   "id": "9cf3b9f4",
   "metadata": {
    "slideshow": {
     "slide_type": "fragment"
    }
   },
   "source": [
    "To be matched to this reference histogram to emphasize lower gray levels:"
   ]
  },
  {
   "cell_type": "markdown",
   "id": "6ac70fb4",
   "metadata": {
    "slideshow": {
     "slide_type": "fragment"
    }
   },
   "source": [
    "![](https://upload.wikimedia.org/wikipedia/commons/d/d4/Ref_h.png)"
   ]
  },
  {
   "attachments": {},
   "cell_type": "markdown",
   "id": "4e2d3d93",
   "metadata": {
    "slideshow": {
     "slide_type": "slide"
    }
   },
   "source": [
    "### Histogram of Output Image After Matching"
   ]
  },
  {
   "cell_type": "markdown",
   "id": "98d855e0",
   "metadata": {
    "slideshow": {
     "slide_type": "fragment"
    }
   },
   "source": [
    "After matching, output image having following histogram:"
   ]
  },
  {
   "cell_type": "markdown",
   "id": "f99b8789",
   "metadata": {
    "slideshow": {
     "slide_type": "fragment"
    }
   },
   "source": [
    "![](https://upload.wikimedia.org/wikipedia/commons/5/52/Output_Image_Histogram.png)"
   ]
  },
  {
   "cell_type": "markdown",
   "id": "50c5f634",
   "metadata": {
    "slideshow": {
     "slide_type": "slide"
    }
   },
   "source": [
    "### Output Image After Histogram Matching"
   ]
  },
  {
   "cell_type": "markdown",
   "id": "e39263a3",
   "metadata": {
    "slideshow": {
     "slide_type": "fragment"
    }
   },
   "source": [
    "And looking like this:"
   ]
  },
  {
   "cell_type": "markdown",
   "id": "57bb14bf",
   "metadata": {
    "slideshow": {
     "slide_type": "fragment"
    }
   },
   "source": [
    "![](https://upload.wikimedia.org/wikipedia/commons/thumb/0/0b/Output_image.tif/lossy-page1-640px-Output_image.tif.jpg)"
   ]
  },
  {
   "cell_type": "code",
   "execution_count": null,
   "id": "9194c1b2",
   "metadata": {
    "slideshow": {
     "slide_type": "skip"
    }
   },
   "outputs": [],
   "source": []
  }
 ],
 "metadata": {
  "celltoolbar": "Slideshow",
  "kernelspec": {
   "display_name": "Python 3 (ipykernel)",
   "language": "python",
   "name": "python3"
  },
  "language_info": {
   "codemirror_mode": {
    "name": "ipython",
    "version": 3
   },
   "file_extension": ".py",
   "mimetype": "text/x-python",
   "name": "python",
   "nbconvert_exporter": "python",
   "pygments_lexer": "ipython3",
   "version": "3.10.4"
  }
 },
 "nbformat": 4,
 "nbformat_minor": 5
}
