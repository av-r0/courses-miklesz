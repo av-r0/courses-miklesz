{
 "cells": [
  {
   "cell_type": "markdown",
   "metadata": {
    "slideshow": {
     "slide_type": "slide"
    }
   },
   "source": [
    "# Git/Shell - Git\n",
    "_Mikołaj Leszczuk_\n",
    "![](https://miro.medium.com/max/600/0*VcMPr1unIjAIHw2j.jpg)"
   ]
  },
  {
   "cell_type": "markdown",
   "metadata": {
    "slideshow": {
     "slide_type": "subslide"
    }
   },
   "source": [
    "W tym module nauczymy się podstaw obsługi gita z poziomu terminala.\n",
    "\n",
    "Dowiemy się jak skonfigurować gita oraz GitHuba, żeby nam poprawnie działały. Poznamy podstawowe słownictwo i komendy:\n",
    "\n",
    "* tworzenia pustego repozytorium,\n",
    "* ściągania istniejącego repozytorium,\n",
    "* sprawdzania stanu repozytorium,\n",
    "* zapisywania zmian,\n",
    "* przeglądania historii, przywracanie wersji historycznych.\n",
    "\n",
    "Ponadto poznamy sposoby na pracę zespołową, gałęzie i metody rozwiązywania konfliktów"
   ]
  },
  {
   "cell_type": "markdown",
   "metadata": {
    "slideshow": {
     "slide_type": "slide"
    }
   },
   "source": [
    "### Pierwsze kroki - konfiguracja Git\n",
    "\n",
    "Przed uruchomieniem po raz pierwszy Gita musimy skonfigurować jego środowisko. Git potrzebuje od nas informacji o\n",
    "\n",
    "* naszej tożsamości \n",
    "* naszym e-mailu\n",
    "\n",
    "W linii poleceń (inaczej nazywanej konsolą czyli tekstowym trybie użytkownika) polecenia Gita podawane są jako `git polecenie opcje`, gdzie `polecenie` to rzecz, którą chcemy zrobić a `opcje` zawierają dodatkowe informacje, które mogą być potrzebne dla `polecenia`."
   ]
  },
  {
   "cell_type": "markdown",
   "metadata": {
    "slideshow": {
     "slide_type": "slide"
    }
   },
   "source": [
    "#### Informacja o użytkowniku\n",
    "\n",
    "Najpierw podajmy informacje o użytkowniku"
   ]
  },
  {
   "cell_type": "code",
   "execution_count": null,
   "metadata": {
    "scrolled": false,
    "slideshow": {
     "slide_type": "fragment"
    }
   },
   "outputs": [],
   "source": [
    "git config --global user.name \"Mikołaj Leszczuk\""
   ]
  },
  {
   "cell_type": "code",
   "execution_count": null,
   "metadata": {
    "scrolled": false,
    "slideshow": {
     "slide_type": "fragment"
    }
   },
   "outputs": [],
   "source": [
    "git config --global user.email \"leszczuk@agh.edu.pl\""
   ]
  },
  {
   "cell_type": "markdown",
   "metadata": {
    "slideshow": {
     "slide_type": "fragment"
    }
   },
   "source": [
    "Ponieważ używamy opcji `--global` będziemy musieli to zrobić tylko raz dla naszego konta na naszym komputerze. Dla innego komputera będziemy musieli powtórzyć tą konfigurację."
   ]
  },
  {
   "cell_type": "markdown",
   "metadata": {
    "slideshow": {
     "slide_type": "slide"
    }
   },
   "source": [
    "#### Konwersja plików\n",
    "\n",
    "Ponieważ pliki między systemami się różnią jeżeli chodzi o koniec linii może to powodować pewne różnice w zachowaniu Gita gdy pracujemy na różnych komputerach. W skrócie chodzi o to, że Windows kończy linię tekstu znakami `CRLF` a Unix (Linux oraz macOS) znakami `LF`, co powoduje, że poprawnie sformatowany plik na Unixie na Windowsach będzie traktowany jakby zawierał tylko jedną linię. Więcej informacji o tym problemie można znaleźć na stronie [Githuba](https://help.github.com/articles/dealing-with-line-endings/)."
   ]
  },
  {
   "cell_type": "markdown",
   "metadata": {
    "slideshow": {
     "slide_type": "subslide"
    }
   },
   "source": [
    "W celu uniknięcia tych problemów na Windows wykonajmy polecenie:"
   ]
  },
  {
   "cell_type": "code",
   "execution_count": null,
   "metadata": {
    "scrolled": false,
    "slideshow": {
     "slide_type": "fragment"
    }
   },
   "outputs": [],
   "source": [
    "git config --global core.autocrlf true"
   ]
  },
  {
   "cell_type": "markdown",
   "metadata": {
    "slideshow": {
     "slide_type": "fragment"
    }
   },
   "source": [
    "a na macOS oraz Linux:"
   ]
  },
  {
   "cell_type": "code",
   "execution_count": null,
   "metadata": {
    "scrolled": false,
    "slideshow": {
     "slide_type": "fragment"
    }
   },
   "outputs": [],
   "source": [
    "git config --global core.autocrlf input"
   ]
  },
  {
   "cell_type": "markdown",
   "metadata": {
    "slideshow": {
     "slide_type": "slide"
    }
   },
   "source": [
    "#### Ustawienie domyślnego edytora\n",
    "\n",
    "Przy zapisywaniu kolejnych zmian do repozytorium, każda z nich musi być opisana. W tym celu Git będzie potrzebował użyć jakiegoś edytora tekstów. W naszym przypadku będzie to nano, zatem musimy dodać taką informacje do konfiguracji"
   ]
  },
  {
   "cell_type": "code",
   "execution_count": null,
   "metadata": {
    "scrolled": false,
    "slideshow": {
     "slide_type": "fragment"
    }
   },
   "outputs": [],
   "source": [
    "git config --global core.editor \"nano -w\""
   ]
  },
  {
   "cell_type": "markdown",
   "metadata": {
    "slideshow": {
     "slide_type": "slide"
    }
   },
   "source": [
    "#### Listowanie konfiguracji\n",
    "\n",
    "Po wszyskich powyższych działaniach możemy sprawdzić czy wszystko zostało dobrze skonfigurowane"
   ]
  },
  {
   "cell_type": "code",
   "execution_count": null,
   "metadata": {
    "scrolled": false,
    "slideshow": {
     "slide_type": "subslide"
    }
   },
   "outputs": [],
   "source": [
    "git config --list"
   ]
  },
  {
   "cell_type": "markdown",
   "metadata": {
    "slideshow": {
     "slide_type": "subslide"
    }
   },
   "source": [
    "W przypadku jakichkolwiek problemów możemy wykonać polecenie"
   ]
  },
  {
   "cell_type": "code",
   "execution_count": null,
   "metadata": {
    "scrolled": false,
    "slideshow": {
     "slide_type": "subslide"
    }
   },
   "outputs": [],
   "source": [
    "git config -h"
   ]
  },
  {
   "cell_type": "code",
   "execution_count": null,
   "metadata": {
    "scrolled": true,
    "slideshow": {
     "slide_type": "subslide"
    }
   },
   "outputs": [],
   "source": [
    "git config --help"
   ]
  },
  {
   "cell_type": "markdown",
   "metadata": {
    "slideshow": {
     "slide_type": "fragment"
    }
   },
   "source": [
    "Git ma bardzo dobrą dokumentacje dla każdego z jego `poleceń`. Wywołujemy ją komendą `git polecenie -h` lub `git polecenie --help`"
   ]
  },
  {
   "cell_type": "markdown",
   "metadata": {
    "slideshow": {
     "slide_type": "slide"
    }
   },
   "source": [
    "### Tworzenie repozytorium\n",
    "\n",
    "Utwórzmy nowe repozytorum Gita. W tym celu uruchommy terminal, przenieśmy się na Desktop, utwórzmy katalog repozytorium oraz wejdźmy do niego."
   ]
  },
  {
   "cell_type": "code",
   "execution_count": null,
   "metadata": {
    "scrolled": false,
    "slideshow": {
     "slide_type": "fragment"
    }
   },
   "outputs": [],
   "source": [
    "cd ~/Desktop/"
   ]
  },
  {
   "cell_type": "code",
   "execution_count": null,
   "metadata": {
    "scrolled": false,
    "slideshow": {
     "slide_type": "fragment"
    }
   },
   "outputs": [],
   "source": [
    "rm -rf repozytorium"
   ]
  },
  {
   "cell_type": "code",
   "execution_count": null,
   "metadata": {
    "scrolled": false,
    "slideshow": {
     "slide_type": "fragment"
    }
   },
   "outputs": [],
   "source": [
    "mkdir repozytorium"
   ]
  },
  {
   "cell_type": "code",
   "execution_count": null,
   "metadata": {
    "scrolled": false,
    "slideshow": {
     "slide_type": "fragment"
    }
   },
   "outputs": [],
   "source": [
    "cd repozytorium"
   ]
  },
  {
   "cell_type": "markdown",
   "metadata": {
    "slideshow": {
     "slide_type": "subslide"
    }
   },
   "source": [
    "Tak przygotowany katalog o nazwie repozytorium będzie naszym miejscem pracy."
   ]
  },
  {
   "cell_type": "code",
   "execution_count": null,
   "metadata": {
    "scrolled": false,
    "slideshow": {
     "slide_type": "fragment"
    }
   },
   "outputs": [],
   "source": [
    "ls -l"
   ]
  },
  {
   "cell_type": "markdown",
   "metadata": {
    "slideshow": {
     "slide_type": "fragment"
    }
   },
   "source": [
    "Samo repozytorium tworzymy poleceniem"
   ]
  },
  {
   "cell_type": "code",
   "execution_count": null,
   "metadata": {
    "scrolled": false,
    "slideshow": {
     "slide_type": "fragment"
    }
   },
   "outputs": [],
   "source": [
    "git init"
   ]
  },
  {
   "cell_type": "markdown",
   "metadata": {
    "slideshow": {
     "slide_type": "subslide"
    }
   },
   "source": [
    "Sprawdźmy co zmieniło się w katalogu, w którym utworzyliśmy repozytorium poleceniem:"
   ]
  },
  {
   "cell_type": "code",
   "execution_count": null,
   "metadata": {
    "scrolled": false,
    "slideshow": {
     "slide_type": "fragment"
    }
   },
   "outputs": [],
   "source": [
    "ls -l"
   ]
  },
  {
   "cell_type": "markdown",
   "metadata": {
    "slideshow": {
     "slide_type": "fragment"
    }
   },
   "source": [
    "Katalog wygląda na pusty."
   ]
  },
  {
   "cell_type": "markdown",
   "metadata": {
    "slideshow": {
     "slide_type": "subslide"
    }
   },
   "source": [
    "Sprawdźmy jednak czy nie pojawiły się jakieś ukryte pliki lub katalogi poleceniem:"
   ]
  },
  {
   "cell_type": "code",
   "execution_count": null,
   "metadata": {
    "scrolled": false,
    "slideshow": {
     "slide_type": "fragment"
    }
   },
   "outputs": [],
   "source": [
    "ls -al"
   ]
  },
  {
   "cell_type": "markdown",
   "metadata": {
    "slideshow": {
     "slide_type": "fragment"
    }
   },
   "source": [
    "Utworzony poleceniem `git init` katalog ukryty `.git` będzie zawierać wszystkie informacje, które Git zbiera o powstałym repozytorium. Jeżeli skasujemy ten podkatalog tj. `.git`, skasujemy wszystkie informacje o historii i zmianach naszym projekcie."
   ]
  },
  {
   "cell_type": "markdown",
   "metadata": {
    "slideshow": {
     "slide_type": "slide"
    }
   },
   "source": [
    "### Sprawdzanie statusu\n",
    "\n",
    "Sprawdźmy czy repozytorium Gita powstało oraz czy wszytko poszło dobrze:"
   ]
  },
  {
   "cell_type": "code",
   "execution_count": null,
   "metadata": {
    "scrolled": true,
    "slideshow": {
     "slide_type": "fragment"
    }
   },
   "outputs": [],
   "source": [
    "git status"
   ]
  },
  {
   "cell_type": "markdown",
   "metadata": {
    "slideshow": {
     "slide_type": "slide"
    }
   },
   "source": [
    "> ##### Info\n",
    "> Poleceniem `git status` będziemy sprawdzać zmiany, które zrobiliśmy w naszym projekcie oraz ich status w repozytorium Gita."
   ]
  },
  {
   "cell_type": "markdown",
   "metadata": {
    "slideshow": {
     "slide_type": "slide"
    }
   },
   "source": [
    "### Śledzenie zmian\n",
    "\n",
    "Utwórzmy pierwszy plik w katalogu `repozytorium` o nazwie `pierwszy.txt`.\n",
    "\n",
    "Zapiszmy w zawartości pliku `pierwszy.txt` nasz pierwszy dzisiaj tekst:"
   ]
  },
  {
   "cell_type": "code",
   "execution_count": null,
   "metadata": {
    "scrolled": false,
    "slideshow": {
     "slide_type": "fragment"
    }
   },
   "outputs": [],
   "source": [
    "echo \"Witaj świecie. Tutaj pierwszy plik.\" > pierwszy.txt"
   ]
  },
  {
   "cell_type": "code",
   "execution_count": null,
   "metadata": {
    "scrolled": false,
    "slideshow": {
     "slide_type": "fragment"
    }
   },
   "outputs": [],
   "source": [
    "cat pierwszy.txt"
   ]
  },
  {
   "cell_type": "markdown",
   "metadata": {
    "slideshow": {
     "slide_type": "subslide"
    }
   },
   "source": [
    "Sprawdźmy zawartość katalogu poleceniem:"
   ]
  },
  {
   "cell_type": "code",
   "execution_count": null,
   "metadata": {
    "scrolled": false,
    "slideshow": {
     "slide_type": "fragment"
    }
   },
   "outputs": [],
   "source": [
    "ls -la"
   ]
  },
  {
   "cell_type": "markdown",
   "metadata": {
    "slideshow": {
     "slide_type": "fragment"
    }
   },
   "source": [
    "Jak widzimy w katalogu pojawił się nam plik `pierwszy.txt`."
   ]
  },
  {
   "cell_type": "markdown",
   "metadata": {
    "slideshow": {
     "slide_type": "subslide"
    }
   },
   "source": [
    "Sprawdźmy o czym poinformuje nas Git poleceniem:"
   ]
  },
  {
   "cell_type": "code",
   "execution_count": null,
   "metadata": {
    "scrolled": false,
    "slideshow": {
     "slide_type": "fragment"
    }
   },
   "outputs": [],
   "source": [
    "git status"
   ]
  },
  {
   "cell_type": "markdown",
   "metadata": {
    "slideshow": {
     "slide_type": "fragment"
    }
   },
   "source": [
    "Jak widać nasz plik `pierwszy.txt` nie jest jeszcze włożony do repozytorium i Git nie śledzi jego zmian. Możemy to zmienić poleceniem\n",
    "```sh\n",
    "git add <plik(i)>\n",
    "```"
   ]
  },
  {
   "cell_type": "code",
   "execution_count": null,
   "metadata": {
    "scrolled": false,
    "slideshow": {
     "slide_type": "fragment"
    }
   },
   "outputs": [],
   "source": [
    "git add pierwszy.txt"
   ]
  },
  {
   "cell_type": "markdown",
   "metadata": {
    "slideshow": {
     "slide_type": "subslide"
    }
   },
   "source": [
    "Sprawdźmy jak zmienił się stan repozytorium:"
   ]
  },
  {
   "cell_type": "code",
   "execution_count": null,
   "metadata": {
    "scrolled": false,
    "slideshow": {
     "slide_type": "fragment"
    }
   },
   "outputs": [],
   "source": [
    "git status"
   ]
  },
  {
   "cell_type": "markdown",
   "metadata": {
    "slideshow": {
     "slide_type": "fragment"
    }
   },
   "source": [
    "W tej chwili Git już wie, że powinien śledzić zmiany w pliku `pierwszy.txt` i jest gotowy do dołożenia go do repozytorium. W tym celu wykonamy polecenie `git commit`:"
   ]
  },
  {
   "cell_type": "code",
   "execution_count": null,
   "metadata": {
    "scrolled": false,
    "slideshow": {
     "slide_type": "fragment"
    }
   },
   "outputs": [],
   "source": [
    "git commit -m \"Pierwsza wersja pliku pierwszy.txt\""
   ]
  },
  {
   "cell_type": "markdown",
   "metadata": {
    "slideshow": {
     "slide_type": "subslide"
    }
   },
   "source": [
    "Sprawdźmy jak zmienił się stan repozytorium:"
   ]
  },
  {
   "cell_type": "code",
   "execution_count": null,
   "metadata": {
    "scrolled": false,
    "slideshow": {
     "slide_type": "fragment"
    }
   },
   "outputs": [],
   "source": [
    "git status"
   ]
  },
  {
   "cell_type": "markdown",
   "metadata": {
    "slideshow": {
     "slide_type": "subslide"
    }
   },
   "source": [
    "Kolejne zmiany w repozytorium możemy sprawdzić poleceniem `git log`:"
   ]
  },
  {
   "cell_type": "code",
   "execution_count": null,
   "metadata": {
    "scrolled": false,
    "slideshow": {
     "slide_type": "fragment"
    }
   },
   "outputs": [],
   "source": [
    "git log"
   ]
  },
  {
   "cell_type": "markdown",
   "metadata": {
    "slideshow": {
     "slide_type": "fragment"
    }
   },
   "source": [
    "Każda taka zmiana zapisana w repozytorium nazywa się **`commit`**.\n",
    "\n",
    "Opcja `git log` ma również kilka wariantów np.:"
   ]
  },
  {
   "cell_type": "code",
   "execution_count": null,
   "metadata": {
    "scrolled": false,
    "slideshow": {
     "slide_type": "fragment"
    }
   },
   "outputs": [],
   "source": [
    "git log --oneline"
   ]
  },
  {
   "cell_type": "markdown",
   "metadata": {
    "slideshow": {
     "slide_type": "fragment"
    }
   },
   "source": [
    "Wyświetla ona tylko podstawowe informacje dla każdego \"commitu\"."
   ]
  },
  {
   "cell_type": "markdown",
   "metadata": {
    "slideshow": {
     "slide_type": "subslide"
    }
   },
   "source": [
    "Zmieńmy teraz plik `pierwszy.txt` i dodajmy kolejną linijkę:"
   ]
  },
  {
   "cell_type": "code",
   "execution_count": null,
   "metadata": {
    "scrolled": false,
    "slideshow": {
     "slide_type": "fragment"
    }
   },
   "outputs": [],
   "source": [
    "echo \"Dziś jest piekny dzień.\" >> pierwszy.txt"
   ]
  },
  {
   "cell_type": "code",
   "execution_count": null,
   "metadata": {
    "scrolled": false,
    "slideshow": {
     "slide_type": "fragment"
    }
   },
   "outputs": [],
   "source": [
    "cat pierwszy.txt"
   ]
  },
  {
   "cell_type": "markdown",
   "metadata": {
    "slideshow": {
     "slide_type": "subslide"
    }
   },
   "source": [
    "Sprawdźmy status repozytorium:"
   ]
  },
  {
   "cell_type": "code",
   "execution_count": null,
   "metadata": {
    "scrolled": false,
    "slideshow": {
     "slide_type": "fragment"
    }
   },
   "outputs": [],
   "source": [
    "git status"
   ]
  },
  {
   "cell_type": "markdown",
   "metadata": {
    "slideshow": {
     "slide_type": "fragment"
    }
   },
   "source": [
    "Widzimy, że pojawiły się zmiany w pliku `pierwszy.txt`, których jeszcze nie zapisaliśmy do repozytorium."
   ]
  },
  {
   "cell_type": "markdown",
   "metadata": {
    "slideshow": {
     "slide_type": "subslide"
    }
   },
   "source": [
    "Informacja o wszystkich zmianach możemy wyświetlić poleceniem:"
   ]
  },
  {
   "cell_type": "code",
   "execution_count": null,
   "metadata": {
    "scrolled": false,
    "slideshow": {
     "slide_type": "fragment"
    }
   },
   "outputs": [],
   "source": [
    "git diff"
   ]
  },
  {
   "cell_type": "markdown",
   "metadata": {
    "slideshow": {
     "slide_type": "fragment"
    }
   },
   "source": [
    "Dodajmy te zmiany do repozytorium poleceniem `git add pierwszy.txt`, a następnie `git commit -m \"Wiadomość\"`:"
   ]
  },
  {
   "cell_type": "code",
   "execution_count": null,
   "metadata": {
    "scrolled": false,
    "slideshow": {
     "slide_type": "fragment"
    }
   },
   "outputs": [],
   "source": [
    "git add pierwszy.txt"
   ]
  },
  {
   "cell_type": "code",
   "execution_count": null,
   "metadata": {
    "scrolled": false,
    "slideshow": {
     "slide_type": "fragment"
    }
   },
   "outputs": [],
   "source": [
    "git commit -m \"Pierwsza zmiana w pliku pierwszy.txt\""
   ]
  },
  {
   "cell_type": "markdown",
   "metadata": {
    "slideshow": {
     "slide_type": "slide"
    }
   },
   "source": [
    "#### Staging area\n",
    "\n",
    "Za każdym razem zanim zapiszemy zmiany w repozytorium poleceniem `git commit` wkładamy rzeczy gotowe do zapisu do tzw. \"staging area\" poleceniem `git add`.\n",
    "\n",
    "![](https://swcarpentry.github.io/git-novice/fig/git-staging-area.svg)"
   ]
  },
  {
   "cell_type": "markdown",
   "metadata": {
    "slideshow": {
     "slide_type": "subslide"
    }
   },
   "source": [
    "Dodajmy kolejną zmianę w pliku `pierwszy.txt`:"
   ]
  },
  {
   "cell_type": "code",
   "execution_count": null,
   "metadata": {
    "scrolled": false,
    "slideshow": {
     "slide_type": "fragment"
    }
   },
   "outputs": [],
   "source": [
    "echo \"Poznajemy Git.\" >> pierwszy.txt"
   ]
  },
  {
   "cell_type": "code",
   "execution_count": null,
   "metadata": {
    "scrolled": false,
    "slideshow": {
     "slide_type": "fragment"
    }
   },
   "outputs": [],
   "source": [
    "cat pierwszy.txt"
   ]
  },
  {
   "cell_type": "markdown",
   "metadata": {
    "slideshow": {
     "slide_type": "fragment"
    }
   },
   "source": [
    "Sprawdźmy powstałe zmiany poleceniem:"
   ]
  },
  {
   "cell_type": "code",
   "execution_count": null,
   "metadata": {
    "scrolled": false,
    "slideshow": {
     "slide_type": "fragment"
    }
   },
   "outputs": [],
   "source": [
    "git diff"
   ]
  },
  {
   "cell_type": "markdown",
   "metadata": {
    "slideshow": {
     "slide_type": "subslide"
    }
   },
   "source": [
    "Dodajmy zmiany poleceniem:"
   ]
  },
  {
   "cell_type": "code",
   "execution_count": null,
   "metadata": {
    "scrolled": false,
    "slideshow": {
     "slide_type": "fragment"
    }
   },
   "outputs": [],
   "source": [
    "git add pierwszy.txt"
   ]
  },
  {
   "cell_type": "markdown",
   "metadata": {
    "slideshow": {
     "slide_type": "fragment"
    }
   },
   "source": [
    "Sprawdźmy zmiany:"
   ]
  },
  {
   "cell_type": "code",
   "execution_count": null,
   "metadata": {
    "scrolled": false,
    "slideshow": {
     "slide_type": "fragment"
    }
   },
   "outputs": [],
   "source": [
    "git diff"
   ]
  },
  {
   "cell_type": "markdown",
   "metadata": {
    "slideshow": {
     "slide_type": "subslide"
    }
   },
   "source": [
    "Sprawdźmy zmiany, które są już przygotowane do kolejnej wersji repozytorium:"
   ]
  },
  {
   "cell_type": "code",
   "execution_count": null,
   "metadata": {
    "scrolled": false,
    "slideshow": {
     "slide_type": "fragment"
    }
   },
   "outputs": [],
   "source": [
    "git diff --staged"
   ]
  },
  {
   "cell_type": "markdown",
   "metadata": {
    "slideshow": {
     "slide_type": "fragment"
    }
   },
   "source": [
    "I dodajmy je do repozytorium w drugiej operacji `commit`:"
   ]
  },
  {
   "cell_type": "code",
   "execution_count": null,
   "metadata": {
    "scrolled": false,
    "slideshow": {
     "slide_type": "fragment"
    }
   },
   "outputs": [],
   "source": [
    "git commit -m \"Druga zmiana w pliku pierwszy.txt\""
   ]
  },
  {
   "cell_type": "markdown",
   "metadata": {
    "slideshow": {
     "slide_type": "slide"
    }
   },
   "source": [
    "#### Poprawa w ostatniej zapisanej zmianie\n",
    "\n",
    "Czasem zdaża się, że zapomnieliśmy dodać czegoś do ostatniej operacji `commit`, wtedy zawsze możemy dodać brakujące pliki do staging area i wykonać polecenie:\n",
    "\n",
    "```sh\n",
    "git commit --amend\n",
    "```\n",
    "\n",
    "Gdy chcemy jedynie zmienić opis zmiany możemy wykonać polecenie:"
   ]
  },
  {
   "cell_type": "code",
   "execution_count": null,
   "metadata": {
    "scrolled": false,
    "slideshow": {
     "slide_type": "fragment"
    }
   },
   "outputs": [],
   "source": [
    "git commit --amend -m \"Poprawiony opis zmiany\""
   ]
  },
  {
   "cell_type": "markdown",
   "metadata": {
    "slideshow": {
     "slide_type": "slide"
    }
   },
   "source": [
    "### Sprawdzanie historii i przywracanie stanu\n",
    "\n",
    "W każdej chwili można sprawdzić historie projektu poleceniem `git log`, które wyświetli opisy kolejnych operacji `commit` do repozytorium."
   ]
  },
  {
   "cell_type": "code",
   "execution_count": null,
   "metadata": {
    "scrolled": false,
    "slideshow": {
     "slide_type": "fragment"
    }
   },
   "outputs": [],
   "source": [
    "git log"
   ]
  },
  {
   "cell_type": "markdown",
   "metadata": {
    "slideshow": {
     "slide_type": "subslide"
    }
   },
   "source": [
    "W celu wyświetlenia zawartości każdej zapisanej zmiany w repozytorium (czyli operacji `commit`) możemy wydać polecenie\n",
    "```sh\n",
    "git show <hash-operacji-commit>\n",
    "```\n",
    "gdzie `<hash-operacji-commit>` jest unikalnym identyfikatorem danej zmiany w repozytorium, np. `dd6efe19bcf632eb3f43c0b5815fecbba6adc6d6`. Innym sposobem podejrzenia danej zmiany jest użycie aliasu `HEAD` lub `HEAD~x`, gdzie `HEAD` jest nazwą ostatniego zapisanej zmiany a `HEAD~x` nazwą `x+1` zmiany od końca, np. `HEAD~2` będzie trzecią zmianą od końca."
   ]
  },
  {
   "cell_type": "code",
   "execution_count": null,
   "metadata": {
    "scrolled": false,
    "slideshow": {
     "slide_type": "subslide"
    }
   },
   "outputs": [],
   "source": [
    "git show 0a8c7746320b52566052e3b92ab87ab9bb31ab04"
   ]
  },
  {
   "cell_type": "code",
   "execution_count": null,
   "metadata": {
    "scrolled": true,
    "slideshow": {
     "slide_type": "fragment"
    }
   },
   "outputs": [],
   "source": [
    "git show HEAD~1"
   ]
  },
  {
   "cell_type": "markdown",
   "metadata": {
    "slideshow": {
     "slide_type": "subslide"
    }
   },
   "source": [
    "Jeżeli chcemy zobaczyć jak zmienił się dany plik między zmianami w repozytorium możemy wykonać polecenie:\n",
    "```sh\n",
    "git diff <hash-1-operacji-commit> <hash-2-operacji-commit> <nazwa-pliku>\n",
    "```\n",
    "lub:\n",
    "```sh\n",
    "git diff <hash-operacji-commit> <nazwa-pliku>\n",
    "```\n",
    "w przypadku gdy chcemy sprawdzić tylko ostatni plik."
   ]
  },
  {
   "cell_type": "code",
   "execution_count": null,
   "metadata": {
    "scrolled": false,
    "slideshow": {
     "slide_type": "subslide"
    }
   },
   "outputs": [],
   "source": [
    "git diff HEAD~1 pierwszy.txt"
   ]
  },
  {
   "cell_type": "code",
   "execution_count": null,
   "metadata": {
    "scrolled": false,
    "slideshow": {
     "slide_type": "fragment"
    }
   },
   "outputs": [],
   "source": [
    "git diff HEAD~2 pierwszy.txt"
   ]
  },
  {
   "cell_type": "markdown",
   "metadata": {
    "slideshow": {
     "slide_type": "slide"
    }
   },
   "source": [
    "#### Przywracanie stanu z poprzedniej wersji repozytorium\n",
    "\n",
    "Jeżeli chcemy wrócić do poprzedniej wersji pliku powinniśmy wykonać polecenie:\n",
    "```sh\n",
    "git checkout <hash-operacji-commita> <nazwa-pliku>\n",
    "```\n",
    "gdzie `<hash-operacji-commit>` to nazwa zmiany, do której chcemy powrócić a `<nazwa-pliku>` to nazwa pliku, który chcemy przywrócić. W przypadku gdy po prostu chcemy wyczyścić zmiany w naszej przestrzeni roboczej i powrócić do ostatniej wersji zapisanego pliku w repozytorium używamy polecenia:\n",
    "```sh\n",
    "git checkout -- <nazwa-pliku>\n",
    "```\n",
    "ewentualnie:\n",
    "```sh\n",
    "git checkout HEAD <nazwa-pliku>\n",
    "```"
   ]
  },
  {
   "cell_type": "code",
   "execution_count": null,
   "metadata": {
    "scrolled": false,
    "slideshow": {
     "slide_type": "subslide"
    }
   },
   "outputs": [],
   "source": [
    "git checkout HEAD pierwszy.txt"
   ]
  },
  {
   "cell_type": "code",
   "execution_count": null,
   "metadata": {
    "slideshow": {
     "slide_type": "fragment"
    }
   },
   "outputs": [],
   "source": [
    "cat pierwszy.txt"
   ]
  },
  {
   "cell_type": "markdown",
   "metadata": {
    "slideshow": {
     "slide_type": "fragment"
    }
   },
   "source": [
    "![](https://hsf-training.github.io/analysis-essentials/_images/git-checkout.svg)"
   ]
  },
  {
   "cell_type": "markdown",
   "metadata": {
    "slideshow": {
     "slide_type": "subslide"
    }
   },
   "source": [
    "Poniższy rysunek wyjaśnia w formie graficznej jak działa repozytorum Gita:\n",
    "\n",
    "![](https://ucsbcarpentry.github.io/2019-10-24-gitbash/fig/git_staging.svg)"
   ]
  },
  {
   "cell_type": "markdown",
   "metadata": {
    "slideshow": {
     "slide_type": "slide"
    }
   },
   "source": [
    "### Ignorowanie plików i katalogów\n",
    "\n",
    "Nie zawsze chcemy by Git śledził wszystkie pliki, które są obecne w katalogu projektu. W tym celu tworzymy plik `.gitignore`, w którym zapisujemy wszystkie rzeczy, które mają być pomijane przez Gita."
   ]
  },
  {
   "cell_type": "code",
   "execution_count": null,
   "metadata": {
    "scrolled": false,
    "slideshow": {
     "slide_type": "fragment"
    }
   },
   "outputs": [],
   "source": [
    "touch ignored.txt"
   ]
  },
  {
   "cell_type": "code",
   "execution_count": null,
   "metadata": {
    "scrolled": true,
    "slideshow": {
     "slide_type": "fragment"
    }
   },
   "outputs": [],
   "source": [
    "ls -la"
   ]
  },
  {
   "cell_type": "code",
   "execution_count": null,
   "metadata": {
    "slideshow": {
     "slide_type": "subslide"
    }
   },
   "outputs": [],
   "source": [
    "git status"
   ]
  },
  {
   "cell_type": "code",
   "execution_count": null,
   "metadata": {
    "scrolled": false,
    "slideshow": {
     "slide_type": "fragment"
    }
   },
   "outputs": [],
   "source": [
    "echo \"ignored.txt\" > .gitignore"
   ]
  },
  {
   "cell_type": "code",
   "execution_count": null,
   "metadata": {
    "slideshow": {
     "slide_type": "fragment"
    }
   },
   "outputs": [],
   "source": [
    "cat .gitignore"
   ]
  },
  {
   "cell_type": "code",
   "execution_count": null,
   "metadata": {
    "scrolled": false,
    "slideshow": {
     "slide_type": "fragment"
    }
   },
   "outputs": [],
   "source": [
    "ls -al"
   ]
  },
  {
   "cell_type": "code",
   "execution_count": null,
   "metadata": {
    "scrolled": false,
    "slideshow": {
     "slide_type": "fragment"
    }
   },
   "outputs": [],
   "source": [
    "git add .gitignore"
   ]
  },
  {
   "cell_type": "code",
   "execution_count": null,
   "metadata": {
    "scrolled": false,
    "slideshow": {
     "slide_type": "subslide"
    }
   },
   "outputs": [],
   "source": [
    "git commit -m \"Ignoruj rzeczy, które zdefiniowalismy w pliku .gitignore\""
   ]
  },
  {
   "cell_type": "code",
   "execution_count": null,
   "metadata": {
    "scrolled": false,
    "slideshow": {
     "slide_type": "fragment"
    }
   },
   "outputs": [],
   "source": [
    "git status"
   ]
  },
  {
   "cell_type": "markdown",
   "metadata": {
    "slideshow": {
     "slide_type": "fragment"
    }
   },
   "source": [
    "W celu sprawdzenia plików i katalogów pomijanych przez gita wykonajmy polecenie `git status --ignored`:"
   ]
  },
  {
   "cell_type": "code",
   "execution_count": null,
   "metadata": {
    "scrolled": false,
    "slideshow": {
     "slide_type": "fragment"
    }
   },
   "outputs": [],
   "source": [
    "git status --ignored"
   ]
  },
  {
   "cell_type": "markdown",
   "metadata": {
    "slideshow": {
     "slide_type": "slide"
    }
   },
   "source": [
    "### Repozytoria zdalne"
   ]
  },
  {
   "cell_type": "markdown",
   "metadata": {
    "slideshow": {
     "slide_type": "slide"
    }
   },
   "source": [
    "#### Klonowanie repozytorium zdalnego\n",
    "\n",
    "Wiele repozytorium Gita jest przechowywane na serwerach zdalnych takich jak [GitHub](https://github.com/), [GitLab](https://gitlab.com/), [Bitbucket](https://bitbucket.org/) lub hostowane przez niezależne instytucje lub osoby np. [PLGrid](https://git.plgrid.pl/). Jeżeli chcemy pobrać takie repozytorium i utworzyć jego lokalną kopię powinniśmy wykonać polecenie:\n",
    "\n",
    "```sh\n",
    "git clone <url-do-repozytorium> <scieżka-na-lokalną-kopię>\n",
    "```"
   ]
  },
  {
   "cell_type": "markdown",
   "metadata": {
    "slideshow": {
     "slide_type": "slide"
    }
   },
   "source": [
    "#### Dodawanie repozytorium zdalnego\n",
    "\n",
    "Git umożliwia łączenie repozytorium lokalnego z repozytoriami zdalnymi umieszczonymi na serwerach repozytorium. W celu dodania zdalnego repozytorium (tzw. `remote`) należy wykonać polecenie:\n",
    "\n",
    "```sh\n",
    "git remote add <alias> <url-do-repozytorium>\n",
    "```\n",
    "\n",
    "Gdzie `<alias>` jest naszą lokalną etykietą zdalnego repozytorium a `<url-do-repozytorium>` to odnośnik do zdalnego repozytorium w postaci linka."
   ]
  },
  {
   "cell_type": "markdown",
   "metadata": {
    "slideshow": {
     "slide_type": "slide"
    }
   },
   "source": [
    "> ##### Odnośniki do repozytorium zdalnego\n",
    "> Repozytoria zdalne mogą być zdefiniowane przez odnośnik [`https://`](https://) (np. [`https://github.com/<username>/repo.git`](https://github.com/<username>/repo.git)) lub [`ssh`]() ([`git@github.com:<username>/repo.git`]()).\\\n",
    "> Przykładowo, repozytorium `Courses` użytkownika `miklesz` na [`GitHub`](https://github.com/) dodajemy do repozytorium"
   ]
  },
  {
   "cell_type": "markdown",
   "metadata": {
    "slideshow": {
     "slide_type": "subslide"
    }
   },
   "source": [
    "> * odnośnik [`https://`](https://)"
   ]
  },
  {
   "cell_type": "code",
   "execution_count": null,
   "metadata": {
    "scrolled": false,
    "slideshow": {
     "slide_type": "fragment"
    }
   },
   "outputs": [],
   "source": [
    "git remote add courses-https https://github.com/miklesz/Courses.git"
   ]
  },
  {
   "cell_type": "markdown",
   "metadata": {
    "slideshow": {
     "slide_type": "fragment"
    }
   },
   "source": [
    "> * odnośnik [`ssh`]()"
   ]
  },
  {
   "cell_type": "code",
   "execution_count": null,
   "metadata": {
    "scrolled": false,
    "slideshow": {
     "slide_type": "fragment"
    }
   },
   "outputs": [],
   "source": [
    "git remote add courses-ssh git@github.com:miklesz/Courses.git"
   ]
  },
  {
   "cell_type": "markdown",
   "metadata": {
    "slideshow": {
     "slide_type": "subslide"
    }
   },
   "source": [
    "> Dla każdego zdalnego repozytorium mamy dwa odnośniki\n",
    "> * `fetch` do pobierania zmian z repozytorium zdalnego i dodawania ich do repozytorium lokalnego\n",
    "> * `push` do wysyłania zmian z repozytorium lokalnego do repozytorium zdalnego"
   ]
  },
  {
   "cell_type": "markdown",
   "metadata": {
    "slideshow": {
     "slide_type": "subslide"
    }
   },
   "source": [
    "Sprawdzamy repozytoria zdalne skonfigurowane dla naszego lokalnego repozytorium poleceniem `git remote -v`:"
   ]
  },
  {
   "cell_type": "code",
   "execution_count": null,
   "metadata": {
    "scrolled": false,
    "slideshow": {
     "slide_type": "fragment"
    }
   },
   "outputs": [],
   "source": [
    "git remote -v"
   ]
  },
  {
   "cell_type": "markdown",
   "metadata": {
    "slideshow": {
     "slide_type": "slide"
    }
   },
   "source": [
    "### Modyfikacja parametrów repozytorium zdalnego"
   ]
  },
  {
   "cell_type": "markdown",
   "metadata": {
    "slideshow": {
     "slide_type": "subslide"
    }
   },
   "source": [
    "Jeżeli repozytorium zdalne zmieniło swój adres na `<nowy-url>` możemy go zmienić poleceniem:\n",
    "\n",
    "```sh\n",
    "git remote set-url <alias> <nowy-url>\n",
    "```\n",
    "\n",
    "Usuwanie informacji o zdalnym repozytorium z naszego lokalnego umożliwia komenda:\n",
    "\n",
    "```sh\n",
    "git remote del <alias-do-repozytorium>\n",
    "```\n",
    "\n",
    "W celu wypchnięcia nowych zmian zapisanych w commitach z repozytorium lokalnego należy użyć komendy `git push`:\n",
    "\n",
    "```sh\n",
    "git push <alias-do-repozytorium> <gałąź>\n",
    "```\n",
    "\n",
    "Do pobrania zmian z zdalnego repozytorium służy komenda `git pull`:\n",
    "\n",
    "```sh\n",
    "git pull <alias-do-repozytorium> <gałąź>\n",
    "```"
   ]
  },
  {
   "cell_type": "markdown",
   "metadata": {
    "slideshow": {
     "slide_type": "slide"
    }
   },
   "source": [
    "### Gałęzie"
   ]
  },
  {
   "cell_type": "markdown",
   "metadata": {
    "slideshow": {
     "slide_type": "subslide"
    }
   },
   "source": [
    "Gałęziami nazywamy równorzędne wersje projektu, najczęściej rozwijające pewne funkcjonalności (lub np. łatające błędy) poza główną linią projektu. Najczęściej te gałęzi są później dołączane do głównej linii (`master`) projektu.\n",
    "\n",
    "Utworzenie nowej gałęzi:\n",
    "\n",
    "```sh\n",
    "git branch <nazwa-gałęzi>\n",
    "```\n",
    "\n",
    "Wyświetlenie gałęzi lokalnych w repozytorium:\n",
    "\n",
    "```sh\n",
    "git branch nowa-funkcja\n",
    "git branch\n",
    "* master\n",
    "  nowa-funkcja\n",
    "```\n",
    "\n",
    "Zmiana aktualnej gałęzi:\n",
    "\n",
    "```sh\n",
    "git checkout <nazwa-gałęzi>\n",
    "```"
   ]
  },
  {
   "cell_type": "markdown",
   "metadata": {
    "slideshow": {
     "slide_type": "slide"
    }
   },
   "source": [
    "### Konflikty"
   ]
  },
  {
   "cell_type": "markdown",
   "metadata": {
    "slideshow": {
     "slide_type": "subslide"
    }
   },
   "source": [
    "Konfliktem nazywamy równorzędne zmiany w tych samych liniach kodu. Przykładowo chcemy połączyć zmiany od współpracownika A oraz od współpracownika B, ale niestety te zmiany zaszły na tych samych liniach w tym samym pliku. Jak wtedy mamy zdecydować, która zmiana powinna zostać?\n",
    "\n",
    "![](https://imperialcollegelondon.github.io/git-novice/fig/conflict.svg)\n",
    "\n",
    "Serwisy typu GitHub, GitLab czy BitBucket często wyświetlają informacje o możliwości zmerge'owania (przyłączenia) innej gałęzi bez konfliktów, ewentualnie wyświetlają te konflikty."
   ]
  },
  {
   "cell_type": "markdown",
   "metadata": {
    "slideshow": {
     "slide_type": "subslide"
    }
   },
   "source": [
    "Konflikt możemy wywołać również na swoim komputerze, bez uczestnictwa drugiej osoby. Wystarczy do tego użyć gałęzi:"
   ]
  },
  {
   "cell_type": "markdown",
   "metadata": {
    "slideshow": {
     "slide_type": "fragment"
    }
   },
   "source": [
    "* przejdź na gałąź master (`git checkout master`)"
   ]
  },
  {
   "cell_type": "code",
   "execution_count": null,
   "metadata": {
    "scrolled": false,
    "slideshow": {
     "slide_type": "fragment"
    }
   },
   "outputs": [],
   "source": [
    "git checkout master"
   ]
  },
  {
   "cell_type": "markdown",
   "metadata": {
    "slideshow": {
     "slide_type": "subslide"
    }
   },
   "source": [
    "* utwórz gałąź np. konflikt (`git branch konflikt`)"
   ]
  },
  {
   "cell_type": "code",
   "execution_count": null,
   "metadata": {
    "scrolled": false,
    "slideshow": {
     "slide_type": "fragment"
    }
   },
   "outputs": [],
   "source": [
    "git branch konflikt"
   ]
  },
  {
   "cell_type": "markdown",
   "metadata": {
    "slideshow": {
     "slide_type": "subslide"
    }
   },
   "source": [
    "* wyedytuj istniejący plik, np. `pierwszy.txt`"
   ]
  },
  {
   "cell_type": "code",
   "execution_count": null,
   "metadata": {
    "slideshow": {
     "slide_type": "fragment"
    }
   },
   "outputs": [],
   "source": [
    "cat pierwszy.txt"
   ]
  },
  {
   "cell_type": "code",
   "execution_count": null,
   "metadata": {
    "scrolled": false,
    "slideshow": {
     "slide_type": "fragment"
    }
   },
   "outputs": [],
   "source": [
    "echo \"to jest treść z gałęzi master\" > pierwszy.txt"
   ]
  },
  {
   "cell_type": "code",
   "execution_count": null,
   "metadata": {
    "scrolled": false,
    "slideshow": {
     "slide_type": "fragment"
    }
   },
   "outputs": [],
   "source": [
    "cat pierwszy.txt"
   ]
  },
  {
   "cell_type": "markdown",
   "metadata": {
    "slideshow": {
     "slide_type": "subslide"
    }
   },
   "source": [
    "* zapisz zmiany (`git add pierwszy.txt`, `git commit`)"
   ]
  },
  {
   "cell_type": "code",
   "execution_count": null,
   "metadata": {
    "scrolled": false,
    "slideshow": {
     "slide_type": "fragment"
    }
   },
   "outputs": [],
   "source": [
    "git add pierwszy.txt"
   ]
  },
  {
   "cell_type": "code",
   "execution_count": null,
   "metadata": {
    "scrolled": false,
    "slideshow": {
     "slide_type": "fragment"
    }
   },
   "outputs": [],
   "source": [
    "git commit -m \"Zapisujemy zmiany\""
   ]
  },
  {
   "cell_type": "markdown",
   "metadata": {
    "slideshow": {
     "slide_type": "subslide"
    }
   },
   "source": [
    "* przejdź na gałąź konflikt (`git checkout konflikt`)"
   ]
  },
  {
   "cell_type": "code",
   "execution_count": null,
   "metadata": {
    "scrolled": false,
    "slideshow": {
     "slide_type": "fragment"
    }
   },
   "outputs": [],
   "source": [
    "git checkout konflikt"
   ]
  },
  {
   "cell_type": "markdown",
   "metadata": {
    "slideshow": {
     "slide_type": "subslide"
    }
   },
   "source": [
    "* wyedytuj ten sam plik `pierwszy.txt`, najlepiej wprowadzając inne zmiany"
   ]
  },
  {
   "cell_type": "code",
   "execution_count": null,
   "metadata": {
    "slideshow": {
     "slide_type": "fragment"
    }
   },
   "outputs": [],
   "source": [
    "cat pierwszy.txt"
   ]
  },
  {
   "cell_type": "code",
   "execution_count": null,
   "metadata": {
    "scrolled": false,
    "slideshow": {
     "slide_type": "fragment"
    }
   },
   "outputs": [],
   "source": [
    "echo \"to jest inna treść z gałęzi konflikt\" > pierwszy.txt"
   ]
  },
  {
   "cell_type": "code",
   "execution_count": null,
   "metadata": {
    "scrolled": false,
    "slideshow": {
     "slide_type": "fragment"
    }
   },
   "outputs": [],
   "source": [
    "cat pierwszy.txt"
   ]
  },
  {
   "cell_type": "markdown",
   "metadata": {
    "slideshow": {
     "slide_type": "subslide"
    }
   },
   "source": [
    "* zapisz zmiany (`git add pierwszy.txt`, `git commit`)"
   ]
  },
  {
   "cell_type": "code",
   "execution_count": null,
   "metadata": {
    "scrolled": false,
    "slideshow": {
     "slide_type": "fragment"
    }
   },
   "outputs": [],
   "source": [
    "git add pierwszy.txt"
   ]
  },
  {
   "cell_type": "code",
   "execution_count": null,
   "metadata": {
    "scrolled": false,
    "slideshow": {
     "slide_type": "fragment"
    }
   },
   "outputs": [],
   "source": [
    "git commit -m \"Zapisujemy inne zmiany\""
   ]
  },
  {
   "cell_type": "markdown",
   "metadata": {
    "slideshow": {
     "slide_type": "subslide"
    }
   },
   "source": [
    "* przejdź z powrotem na gałąź master (`git checkout master`)"
   ]
  },
  {
   "cell_type": "code",
   "execution_count": null,
   "metadata": {
    "scrolled": false,
    "slideshow": {
     "slide_type": "fragment"
    }
   },
   "outputs": [],
   "source": [
    "git checkout master"
   ]
  },
  {
   "cell_type": "markdown",
   "metadata": {
    "slideshow": {
     "slide_type": "subslide"
    }
   },
   "source": [
    "* dokonaj przyłączenia gałęzi konflikt (`git merge konflikt`)"
   ]
  },
  {
   "cell_type": "code",
   "execution_count": null,
   "metadata": {
    "scrolled": false,
    "slideshow": {
     "slide_type": "fragment"
    }
   },
   "outputs": [],
   "source": [
    "git merge konflikt"
   ]
  },
  {
   "cell_type": "markdown",
   "metadata": {
    "slideshow": {
     "slide_type": "subslide"
    }
   },
   "source": [
    "Powstanie konflikt na pliku `pierwszy.txt`. Informacje z `git status` pozwolą na jego rozwiązanie:"
   ]
  },
  {
   "cell_type": "code",
   "execution_count": null,
   "metadata": {
    "scrolled": false,
    "slideshow": {
     "slide_type": "fragment"
    }
   },
   "outputs": [],
   "source": [
    "git status"
   ]
  },
  {
   "cell_type": "markdown",
   "metadata": {
    "slideshow": {
     "slide_type": "subslide"
    }
   },
   "source": [
    "Konflikt oznaczany jest w następujący sposób:"
   ]
  },
  {
   "cell_type": "code",
   "execution_count": null,
   "metadata": {
    "scrolled": false,
    "slideshow": {
     "slide_type": "fragment"
    }
   },
   "outputs": [],
   "source": [
    "cat pierwszy.txt"
   ]
  },
  {
   "cell_type": "markdown",
   "metadata": {
    "slideshow": {
     "slide_type": "fragment"
    }
   },
   "source": [
    "`<<<<<<<`, `=======` i `>>>>>>>` są markerami konfliktu. Należy wybrać jedną wersję (pomiędzy `<<<<<<<` i `=======` ALBO pomiędzy `=======` i `>>>>>>>`) i resztę linii skasować."
   ]
  },
  {
   "cell_type": "markdown",
   "metadata": {
    "slideshow": {
     "slide_type": "subslide"
    }
   },
   "source": [
    "W powyższym przykładzie, po wyczyszczeniu konfliktu, plik wyglądałby następująco (wybrana wersja z gałęzi `konflikt`):"
   ]
  },
  {
   "cell_type": "code",
   "execution_count": null,
   "metadata": {
    "scrolled": false,
    "slideshow": {
     "slide_type": "fragment"
    }
   },
   "outputs": [],
   "source": [
    "echo \"to jest inna treść z gałęzi konflikt\" > pierwszy.txt"
   ]
  },
  {
   "cell_type": "code",
   "execution_count": null,
   "metadata": {
    "scrolled": false,
    "slideshow": {
     "slide_type": "fragment"
    }
   },
   "outputs": [],
   "source": [
    "cat pierwszy.txt"
   ]
  },
  {
   "cell_type": "markdown",
   "metadata": {
    "slideshow": {
     "slide_type": "subslide"
    }
   },
   "source": [
    "Dalsze kroki pokaże nam `git status`:"
   ]
  },
  {
   "cell_type": "code",
   "execution_count": null,
   "metadata": {
    "scrolled": false,
    "slideshow": {
     "slide_type": "fragment"
    }
   },
   "outputs": [],
   "source": [
    "git status"
   ]
  },
  {
   "cell_type": "markdown",
   "metadata": {
    "slideshow": {
     "slide_type": "subslide"
    }
   },
   "source": [
    "Należy oznaczyć **ręcznie**, że plik ma rozwiązany konflikt:"
   ]
  },
  {
   "cell_type": "code",
   "execution_count": null,
   "metadata": {
    "scrolled": false,
    "slideshow": {
     "slide_type": "fragment"
    }
   },
   "outputs": [],
   "source": [
    "git add pierwszy.txt"
   ]
  },
  {
   "cell_type": "markdown",
   "metadata": {
    "slideshow": {
     "slide_type": "fragment"
    }
   },
   "source": [
    "I kontynuować przyłączanie zgodnie z instrukcjami z `git status`:"
   ]
  },
  {
   "cell_type": "code",
   "execution_count": null,
   "metadata": {
    "scrolled": false,
    "slideshow": {
     "slide_type": "fragment"
    }
   },
   "outputs": [],
   "source": [
    "git status"
   ]
  },
  {
   "cell_type": "code",
   "execution_count": null,
   "metadata": {
    "scrolled": false,
    "slideshow": {
     "slide_type": "fragment"
    }
   },
   "outputs": [],
   "source": [
    "git commit -m \"Merge branch 'konflikt'\""
   ]
  },
  {
   "cell_type": "code",
   "execution_count": null,
   "metadata": {
    "scrolled": false,
    "slideshow": {
     "slide_type": "skip"
    }
   },
   "outputs": [],
   "source": []
  }
 ],
 "metadata": {
  "celltoolbar": "Slideshow",
  "kernelspec": {
   "display_name": "Bash",
   "language": "bash",
   "name": "bash"
  },
  "language_info": {
   "codemirror_mode": "shell",
   "file_extension": ".sh",
   "mimetype": "text/x-sh",
   "name": "bash"
  }
 },
 "nbformat": 4,
 "nbformat_minor": 4
}
