{
 "cells": [
  {
   "cell_type": "markdown",
   "metadata": {
    "slideshow": {
     "slide_type": "slide"
    }
   },
   "source": [
    "# Git/Shell - Git\n",
    "_Mikołaj Leszczuk_\n",
    "![](https://miro.medium.com/max/600/0*VcMPr1unIjAIHw2j.jpg)"
   ]
  },
  {
   "cell_type": "markdown",
   "metadata": {
    "slideshow": {
     "slide_type": "subslide"
    }
   },
   "source": [
    "W tym module nauczymy się podstaw obsługi gita z poziomu terminala.\n",
    "\n",
    "Dowiemy się jak skonfigurować gita oraz GitHuba, żeby nam poprawnie działały. Poznamy podstawowe słownictwo i komendy:\n",
    "\n",
    "* tworzenia pustego repozytorium,\n",
    "* ściągania istniejącego repozytorium,\n",
    "* sprawdzania stanu repozytorium,\n",
    "* zapisywania zmian,\n",
    "* przeglądania historii, przywracanie wersji historycznych.\n",
    "\n",
    "Ponadto poznamy sposoby na pracę zespołową, gałęzie i metody rozwiązywania konfliktów"
   ]
  },
  {
   "cell_type": "markdown",
   "metadata": {
    "slideshow": {
     "slide_type": "slide"
    }
   },
   "source": [
    "### Pierwsze kroki - konfiguracja Git\n",
    "\n",
    "Przed uruchomieniem po raz pierwszy Gita musimy skonfigurować jego środowisko. Git potrzebuje od nas informacji o\n",
    "\n",
    "* naszej tożsamości \n",
    "* naszym e-mailu\n",
    "\n",
    "W linii poleceń (inaczej nazywanej konsolą czyli tekstowym trybie użytkownika) polecenia Gita podawane są jako `git polecenie opcje`, gdzie `polecenie` to rzecz, którą chcemy zrobić a `opcje` zawierają dodatkowe informacje, które mogą być potrzebne dla `polecenia`."
   ]
  },
  {
   "cell_type": "markdown",
   "metadata": {
    "slideshow": {
     "slide_type": "slide"
    }
   },
   "source": [
    "#### Informacja o użytkowniku\n",
    "\n",
    "Najpierw podajmy informacje o użytkowniku"
   ]
  },
  {
   "cell_type": "code",
   "execution_count": 1,
   "metadata": {
    "scrolled": false,
    "slideshow": {
     "slide_type": "fragment"
    }
   },
   "outputs": [],
   "source": [
    "git config --global user.name \"Mikołaj Leszczuk\""
   ]
  },
  {
   "cell_type": "code",
   "execution_count": 2,
   "metadata": {
    "scrolled": false,
    "slideshow": {
     "slide_type": "fragment"
    }
   },
   "outputs": [],
   "source": [
    "git config --global user.email \"leszczuk@agh.edu.pl\""
   ]
  },
  {
   "cell_type": "markdown",
   "metadata": {
    "slideshow": {
     "slide_type": "fragment"
    }
   },
   "source": [
    "Ponieważ używamy opcji `--global` będziemy musieli to zrobić tylko raz dla naszego konta na naszym komputerze. Dla innego komputera będziemy musieli powtórzyć tą konfigurację."
   ]
  },
  {
   "cell_type": "markdown",
   "metadata": {
    "slideshow": {
     "slide_type": "slide"
    }
   },
   "source": [
    "#### Konwersja plików\n",
    "\n",
    "Ponieważ pliki między systemami się różnią jeżeli chodzi o koniec linii może to powodować pewne różnice w zachowaniu Gita gdy pracujemy na różnych komputerach. W skrócie chodzi o to, że Windows kończy linię tekstu znakami `CRLF` a Unix (Linux oraz macOS) znakami `LF`, co powoduje, że poprawnie sformatowany plik na Unixie na Windowsach będzie traktowany jakby zawierał tylko jedną linię. Więcej informacji o tym problemie można znaleźć na stronie [Githuba](https://help.github.com/articles/dealing-with-line-endings/)."
   ]
  },
  {
   "cell_type": "markdown",
   "metadata": {
    "slideshow": {
     "slide_type": "subslide"
    }
   },
   "source": [
    "W celu uniknięcia tych problemów na Windows wykonajmy polecenie:"
   ]
  },
  {
   "cell_type": "code",
   "execution_count": 3,
   "metadata": {
    "scrolled": false,
    "slideshow": {
     "slide_type": "fragment"
    }
   },
   "outputs": [],
   "source": [
    "git config --global core.autocrlf true"
   ]
  },
  {
   "cell_type": "markdown",
   "metadata": {
    "slideshow": {
     "slide_type": "fragment"
    }
   },
   "source": [
    "a na macOS oraz Linux:"
   ]
  },
  {
   "cell_type": "code",
   "execution_count": 4,
   "metadata": {
    "scrolled": false,
    "slideshow": {
     "slide_type": "fragment"
    }
   },
   "outputs": [],
   "source": [
    "git config --global core.autocrlf input"
   ]
  },
  {
   "cell_type": "markdown",
   "metadata": {
    "slideshow": {
     "slide_type": "slide"
    }
   },
   "source": [
    "#### Ustawienie domyślnego edytora\n",
    "\n",
    "Przy zapisywaniu kolejnych zmian do repozytorium, każda z nich musi być opisana. W tym celu Git będzie potrzebował użyć jakiegoś edytora tekstów. W naszym przypadku będzie to nano, zatem musimy dodać taką informacje do konfiguracji"
   ]
  },
  {
   "cell_type": "code",
   "execution_count": 5,
   "metadata": {
    "scrolled": false,
    "slideshow": {
     "slide_type": "fragment"
    }
   },
   "outputs": [],
   "source": [
    "git config --global core.editor \"nano -w\""
   ]
  },
  {
   "cell_type": "markdown",
   "metadata": {
    "slideshow": {
     "slide_type": "slide"
    }
   },
   "source": [
    "#### Listowanie konfiguracji\n",
    "\n",
    "Po wszyskich powyższych działaniach możemy sprawdzić czy wszystko zostało dobrze skonfigurowane"
   ]
  },
  {
   "cell_type": "code",
   "execution_count": 6,
   "metadata": {
    "scrolled": false,
    "slideshow": {
     "slide_type": "subslide"
    }
   },
   "outputs": [
    {
     "name": "stdout",
     "output_type": "stream",
     "text": [
      "credential.helper=osxkeychain\n",
      "credential.helper=osxkeychain\n",
      "filter.lfs.clean=git-lfs clean -- %f\n",
      "filter.lfs.smudge=git-lfs smudge -- %f\n",
      "filter.lfs.process=git-lfs filter-process\n",
      "filter.lfs.required=true\n",
      "user.name=Mikołaj Leszczuk\n",
      "user.email=leszczuk@agh.edu.pl\n",
      "core.autocrlf=input\n",
      "core.editor=nano -w\n",
      "core.repositoryformatversion=0\n",
      "core.filemode=true\n",
      "core.bare=false\n",
      "core.logallrefupdates=true\n",
      "core.ignorecase=true\n",
      "core.precomposeunicode=true\n",
      "remote.origin.url=https://github.com/miklesz/Courses.git\n",
      "remote.origin.fetch=+refs/heads/*:refs/remotes/origin/*\n",
      "branch.main.remote=origin\n",
      "branch.main.merge=refs/heads/main\n"
     ]
    }
   ],
   "source": [
    "git config --list"
   ]
  },
  {
   "cell_type": "markdown",
   "metadata": {
    "slideshow": {
     "slide_type": "subslide"
    }
   },
   "source": [
    "W przypadku jakichkolwiek problemów możemy wykonać polecenie"
   ]
  },
  {
   "cell_type": "code",
   "execution_count": 7,
   "metadata": {
    "scrolled": false,
    "slideshow": {
     "slide_type": "subslide"
    }
   },
   "outputs": [
    {
     "name": "stdout",
     "output_type": "stream",
     "text": [
      "usage: git config [<options>]\n",
      "\n",
      "Config file location\n",
      "    --global              use global config file\n",
      "    --system              use system config file\n",
      "    --local               use repository config file\n",
      "    --worktree            use per-worktree config file\n",
      "    -f, --file <file>     use given config file\n",
      "    --blob <blob-id>      read config from given blob object\n",
      "\n",
      "Action\n",
      "    --get                 get value: name [value-pattern]\n",
      "    --get-all             get all values: key [value-pattern]\n",
      "    --get-regexp          get values for regexp: name-regex [value-pattern]\n",
      "    --get-urlmatch        get value specific for the URL: section[.var] URL\n",
      "    --replace-all         replace all matching variables: name value [value-pattern]\n",
      "    --add                 add a new variable: name value\n",
      "    --unset               remove a variable: name [value-pattern]\n",
      "    --unset-all           remove all matches: name [value-pattern]\n",
      "    --rename-section      rename section: old-name new-name\n",
      "    --remove-section      remove a section: name\n",
      "    -l, --list            list all\n",
      "    --fixed-value         use string equality when comparing values to 'value-pattern'\n",
      "    -e, --edit            open an editor\n",
      "    --get-color           find the color configured: slot [default]\n",
      "    --get-colorbool       find the color setting: slot [stdout-is-tty]\n",
      "\n",
      "Type\n",
      "    -t, --type <>         value is given this type\n",
      "    --bool                value is \"true\" or \"false\"\n",
      "    --int                 value is decimal number\n",
      "    --bool-or-int         value is --bool or --int\n",
      "    --bool-or-str         value is --bool or string\n",
      "    --path                value is a path (file or directory name)\n",
      "    --expiry-date         value is an expiry date\n",
      "\n",
      "Other\n",
      "    -z, --null            terminate values with NUL byte\n",
      "    --name-only           show variable names only\n",
      "    --includes            respect include directives on lookup\n",
      "    --show-origin         show origin of config (file, standard input, blob, command line)\n",
      "    --show-scope          show scope of config (worktree, local, global, system, command)\n",
      "    --default <value>     with --get, use default value when missing entry\n",
      "\n"
     ]
    },
    {
     "ename": "",
     "evalue": "129",
     "output_type": "error",
     "traceback": []
    }
   ],
   "source": [
    "git config -h"
   ]
  },
  {
   "cell_type": "code",
   "execution_count": 8,
   "metadata": {
    "scrolled": true,
    "slideshow": {
     "slide_type": "subslide"
    }
   },
   "outputs": [
    {
     "name": "stdout",
     "output_type": "stream",
     "text": [
      "GIT-CONFIG(1)                      Git Manual                      GIT-CONFIG(1)\n",
      "\n",
      "\n",
      "\n",
      "NAME\n",
      "       git-config - Get and set repository or global options\n",
      "\n",
      "SYNOPSIS\n",
      "       git config [<file-option>] [--type=<type>] [--fixed-value] [--show-origin] [--show-scope] [-z|--null] name [value [value-pattern]]\n",
      "       git config [<file-option>] [--type=<type>] --add name value\n",
      "       git config [<file-option>] [--type=<type>] [--fixed-value] --replace-all name value [value-pattern]\n",
      "       git config [<file-option>] [--type=<type>] [--show-origin] [--show-scope] [-z|--null] [--fixed-value] --get name [value-pattern]\n",
      "       git config [<file-option>] [--type=<type>] [--show-origin] [--show-scope] [-z|--null] [--fixed-value] --get-all name [value-pattern]\n",
      "       git config [<file-option>] [--type=<type>] [--show-origin] [--show-scope] [-z|--null] [--fixed-value] [--name-only] --get-regexp name_regex [value-pattern]\n",
      "       git config [<file-option>] [--type=<type>] [-z|--null] --get-urlmatch name URL\n",
      "       git config [<file-option>] [--fixed-value] --unset name [value-pattern]\n",
      "       git config [<file-option>] [--fixed-value] --unset-all name [value-pattern]\n",
      "       git config [<file-option>] --rename-section old_name new_name\n",
      "       git config [<file-option>] --remove-section name\n",
      "       git config [<file-option>] [--show-origin] [--show-scope] [-z|--null] [--name-only] -l | --list\n",
      "       git config [<file-option>] --get-color name [default]\n",
      "       git config [<file-option>] --get-colorbool name [stdout-is-tty]\n",
      "       git config [<file-option>] -e | --edit\n",
      "\n",
      "\n",
      "DESCRIPTION\n",
      "       You can query/set/replace/unset options with this command. The name is\n",
      "       actually the section and the key separated by a dot, and the value will\n",
      "       be escaped.\n",
      "\n",
      "       Multiple lines can be added to an option by using the --add option. If\n",
      "       you want to update or unset an option which can occur on multiple lines,\n",
      "       a value-pattern (which is an extended regular expression, unless the\n",
      "       --fixed-value option is given) needs to be given. Only the existing\n",
      "       values that match the pattern are updated or unset. If you want to handle\n",
      "       the lines that do not match the pattern, just prepend a single\n",
      "       exclamation mark in front (see also the section called “EXAMPLES”), but\n",
      "       note that this only works when the --fixed-value option is not in use.\n",
      "\n",
      "       The --type=<type> option instructs git config to ensure that incoming and\n",
      "       outgoing values are canonicalize-able under the given <type>. If no\n",
      "       --type=<type> is given, no canonicalization will be performed. Callers\n",
      "       may unset an existing --type specifier with --no-type.\n",
      "\n",
      "       When reading, the values are read from the system, global and repository\n",
      "       local configuration files by default, and options --system, --global,\n",
      "       --local, --worktree and --file <filename> can be used to tell the command\n",
      "       to read from only that location (see the section called “FILES”).\n",
      "\n",
      "       When writing, the new value is written to the repository local\n",
      "       configuration file by default, and options --system, --global,\n",
      "       --worktree, --file <filename> can be used to tell the command to write to\n",
      "       that location (you can say --local but that is the default).\n",
      "\n",
      "       This command will fail with non-zero status upon error. Some exit codes\n",
      "       are:\n",
      "\n",
      "       •   The section or key is invalid (ret=1),\n",
      "\n",
      "       •   no section or name was provided (ret=2),\n",
      "\n",
      "       •   the config file is invalid (ret=3),\n",
      "\n",
      "       •   the config file cannot be written (ret=4),\n",
      "\n",
      "       •   you try to unset an option which does not exist (ret=5),\n",
      "\n",
      "       •   you try to unset/set an option for which multiple lines match\n",
      "           (ret=5), or\n",
      "\n",
      "       •   you try to use an invalid regexp (ret=6).\n",
      "\n",
      "       On success, the command returns the exit code 0.\n",
      "\n",
      "OPTIONS\n",
      "       --replace-all\n",
      "           Default behavior is to replace at most one line. This replaces all\n",
      "           lines matching the key (and optionally the value-pattern).\n",
      "\n",
      "       --add\n",
      "           Adds a new line to the option without altering any existing values.\n",
      "           This is the same as providing ^$ as the value-pattern in\n",
      "           --replace-all.\n",
      "\n",
      "       --get\n",
      "           Get the value for a given key (optionally filtered by a regex\n",
      "           matching the value). Returns error code 1 if the key was not found\n",
      "           and the last value if multiple key values were found.\n",
      "\n",
      "       --get-all\n",
      "           Like get, but returns all values for a multi-valued key.\n",
      "\n",
      "       --get-regexp\n",
      "           Like --get-all, but interprets the name as a regular expression and\n",
      "           writes out the key names. Regular expression matching is currently\n",
      "           case-sensitive and done against a canonicalized version of the key in\n",
      "           which section and variable names are lowercased, but subsection names\n",
      "           are not.\n",
      "\n",
      "       --get-urlmatch name URL\n",
      "           When given a two-part name section.key, the value for\n",
      "           section.<url>.key whose <url> part matches the best to the given URL\n",
      "           is returned (if no such key exists, the value for section.key is used\n",
      "           as a fallback). When given just the section as name, do so for all\n",
      "           the keys in the section and list them. Returns error code 1 if no\n",
      "           value is found.\n",
      "\n",
      "       --global\n",
      "           For writing options: write to global ~/.gitconfig file rather than\n",
      "           the repository .git/config, write to $XDG_CONFIG_HOME/git/config file\n",
      "           if this file exists and the ~/.gitconfig file doesn’t.\n",
      "\n",
      "           For reading options: read only from global ~/.gitconfig and from\n",
      "           $XDG_CONFIG_HOME/git/config rather than from all available files.\n",
      "\n",
      "           See also the section called “FILES”.\n",
      "\n",
      "       --system\n",
      "           For writing options: write to system-wide $(prefix)/etc/gitconfig\n",
      "           rather than the repository .git/config.\n",
      "\n",
      "           For reading options: read only from system-wide\n",
      "           $(prefix)/etc/gitconfig rather than from all available files.\n",
      "\n",
      "           See also the section called “FILES”.\n",
      "\n",
      "       --local\n",
      "           For writing options: write to the repository .git/config file. This\n",
      "           is the default behavior.\n",
      "\n",
      "           For reading options: read only from the repository .git/config rather\n",
      "           than from all available files.\n",
      "\n",
      "           See also the section called “FILES”.\n",
      "\n",
      "       --worktree\n",
      "           Similar to --local except that .git/config.worktree is read from or\n",
      "           written to if extensions.worktreeConfig is present. If not it’s the\n",
      "           same as --local.\n",
      "\n",
      "       -f config-file, --file config-file\n",
      "           Use the given config file instead of the one specified by GIT_CONFIG.\n",
      "\n",
      "       --blob blob\n",
      "           Similar to --file but use the given blob instead of a file. E.g. you\n",
      "           can use master:.gitmodules to read values from the file .gitmodules\n",
      "           in the master branch. See \"SPECIFYING REVISIONS\" section in\n",
      "           gitrevisions(7) for a more complete list of ways to spell blob names.\n",
      "\n",
      "       --remove-section\n",
      "           Remove the given section from the configuration file.\n",
      "\n",
      "       --rename-section\n",
      "           Rename the given section to a new name.\n",
      "\n",
      "       --unset\n",
      "           Remove the line matching the key from config file.\n",
      "\n",
      "       --unset-all\n",
      "           Remove all lines matching the key from config file.\n",
      "\n",
      "       -l, --list\n",
      "           List all variables set in config file, along with their values.\n",
      "\n",
      "       --fixed-value\n",
      "           When used with the value-pattern argument, treat value-pattern as an\n",
      "           exact string instead of a regular expression. This will restrict the\n",
      "           name/value pairs that are matched to only those where the value is\n",
      "           exactly equal to the value-pattern.\n",
      "\n",
      "       --type <type>\n",
      "           git config will ensure that any input or output is valid under the\n",
      "           given type constraint(s), and will canonicalize outgoing values in\n",
      "           <type>'s canonical form.\n",
      "\n",
      "           Valid <type>'s include:\n",
      "\n",
      "           •   bool: canonicalize values as either \"true\" or \"false\".\n",
      "\n",
      "           •   int: canonicalize values as simple decimal numbers. An optional\n"
     ]
    },
    {
     "name": "stdout",
     "output_type": "stream",
     "text": [
      "               suffix of k, m, or g will cause the value to be multiplied by\n",
      "               1024, 1048576, or 1073741824 upon input.\n",
      "\n",
      "           •   bool-or-int: canonicalize according to either bool or int, as\n",
      "               described above.\n",
      "\n",
      "           •   path: canonicalize by adding a leading ~ to the value of $HOME\n",
      "               and ~user to the home directory for the specified user. This\n",
      "               specifier has no effect when setting the value (but you can use\n",
      "               git config section.variable ~/ from the command line to let your\n",
      "               shell do the expansion.)\n",
      "\n",
      "           •   expiry-date: canonicalize by converting from a fixed or relative\n",
      "               date-string to a timestamp. This specifier has no effect when\n",
      "               setting the value.\n",
      "\n",
      "           •   color: When getting a value, canonicalize by converting to an\n",
      "               ANSI color escape sequence. When setting a value, a sanity-check\n",
      "               is performed to ensure that the given value is canonicalize-able\n",
      "               as an ANSI color, but it is written as-is.\n",
      "\n",
      "       --bool, --int, --bool-or-int, --path, --expiry-date\n",
      "           Historical options for selecting a type specifier. Prefer instead\n",
      "           --type (see above).\n",
      "\n",
      "       --no-type\n",
      "           Un-sets the previously set type specifier (if one was previously\n",
      "           set). This option requests that git config not canonicalize the\n",
      "           retrieved variable.  --no-type has no effect without --type=<type> or\n",
      "           --<type>.\n",
      "\n",
      "       -z, --null\n",
      "           For all options that output values and/or keys, always end values\n",
      "           with the null character (instead of a newline). Use newline instead\n",
      "           as a delimiter between key and value. This allows for secure parsing\n",
      "           of the output without getting confused e.g. by values that contain\n",
      "           line breaks.\n",
      "\n",
      "       --name-only\n",
      "           Output only the names of config variables for --list or --get-regexp.\n",
      "\n",
      "       --show-origin\n",
      "           Augment the output of all queried config options with the origin type\n",
      "           (file, standard input, blob, command line) and the actual origin\n",
      "           (config file path, ref, or blob id if applicable).\n",
      "\n",
      "       --show-scope\n",
      "           Similar to --show-origin in that it augments the output of all\n",
      "           queried config options with the scope of that value (local, global,\n",
      "           system, command).\n",
      "\n",
      "       --get-colorbool name [stdout-is-tty]\n",
      "           Find the color setting for name (e.g.  color.diff) and output \"true\"\n",
      "           or \"false\".  stdout-is-tty should be either \"true\" or \"false\", and is\n",
      "           taken into account when configuration says \"auto\". If stdout-is-tty\n",
      "           is missing, then checks the standard output of the command itself,\n",
      "           and exits with status 0 if color is to be used, or exits with status\n",
      "           1 otherwise. When the color setting for name is undefined, the\n",
      "           command uses color.ui as fallback.\n",
      "\n",
      "       --get-color name [default]\n",
      "           Find the color configured for name (e.g.  color.diff.new) and output\n",
      "           it as the ANSI color escape sequence to the standard output. The\n",
      "           optional default parameter is used instead, if there is no color\n",
      "           configured for name.\n",
      "\n",
      "           --type=color [--default=<default>] is preferred over --get-color (but\n",
      "           note that --get-color will omit the trailing newline printed by\n",
      "           --type=color).\n",
      "\n",
      "       -e, --edit\n",
      "           Opens an editor to modify the specified config file; either --system,\n",
      "           --global, or repository (default).\n",
      "\n",
      "       --[no-]includes\n",
      "           Respect include.* directives in config files when looking up values.\n",
      "           Defaults to off when a specific file is given (e.g., using --file,\n",
      "           --global, etc) and on when searching all config files.\n",
      "\n",
      "       --default <value>\n",
      "           When using --get, and the requested variable is not found, behave as\n",
      "           if <value> were the value assigned to the that variable.\n",
      "\n",
      "CONFIGURATION\n",
      "       pager.config is only respected when listing configuration, i.e., when\n",
      "       using --list or any of the --get-* which may return multiple results. The\n",
      "       default is to use a pager.\n",
      "\n",
      "FILES\n",
      "       If not set explicitly with --file, there are four files where git config\n",
      "       will search for configuration options:\n",
      "\n",
      "       $(prefix)/etc/gitconfig\n",
      "           System-wide configuration file.\n",
      "\n",
      "       $XDG_CONFIG_HOME/git/config\n",
      "           Second user-specific configuration file. If $XDG_CONFIG_HOME is not\n",
      "           set or empty, $HOME/.config/git/config will be used. Any\n",
      "           single-valued variable set in this file will be overwritten by\n",
      "           whatever is in ~/.gitconfig. It is a good idea not to create this\n",
      "           file if you sometimes use older versions of Git, as support for this\n",
      "           file was added fairly recently.\n",
      "\n",
      "       ~/.gitconfig\n",
      "           User-specific configuration file. Also called \"global\" configuration\n",
      "           file.\n",
      "\n",
      "       $GIT_DIR/config\n",
      "           Repository specific configuration file.\n",
      "\n",
      "       $GIT_DIR/config.worktree\n",
      "           This is optional and is only searched when extensions.worktreeConfig\n",
      "           is present in $GIT_DIR/config.\n",
      "\n",
      "       If no further options are given, all reading options will read all of\n",
      "       these files that are available. If the global or the system-wide\n",
      "       configuration file are not available they will be ignored. If the\n",
      "       repository configuration file is not available or readable, git config\n",
      "       will exit with a non-zero error code. However, in neither case will an\n",
      "       error message be issued.\n",
      "\n",
      "       The files are read in the order given above, with last value found taking\n",
      "       precedence over values read earlier. When multiple values are taken then\n",
      "       all values of a key from all files will be used.\n",
      "\n",
      "       You may override individual configuration parameters when running any git\n",
      "       command by using the -c option. See git(1) for details.\n",
      "\n",
      "       All writing options will per default write to the repository specific\n",
      "       configuration file. Note that this also affects options like\n",
      "       --replace-all and --unset. git config will only ever change one file at a\n",
      "       time.\n",
      "\n",
      "       You can override these rules either by command-line options or by\n",
      "       environment variables. The --global, --system and --worktree options will\n",
      "       limit the file used to the global, system-wide or per-worktree file\n",
      "       respectively. The GIT_CONFIG environment variable has a similar effect,\n",
      "       but you can specify any filename you want.\n",
      "\n",
      "ENVIRONMENT\n",
      "       GIT_CONFIG\n",
      "           Take the configuration from the given file instead of .git/config.\n",
      "           Using the \"--global\" option forces this to ~/.gitconfig. Using the\n",
      "           \"--system\" option forces this to $(prefix)/etc/gitconfig.\n",
      "\n",
      "       GIT_CONFIG_NOSYSTEM\n",
      "           Whether to skip reading settings from the system-wide\n",
      "           $(prefix)/etc/gitconfig file. See git(1) for details.\n",
      "\n",
      "       See also the section called “FILES”.\n",
      "\n",
      "       GIT_CONFIG_COUNT, GIT_CONFIG_KEY_<n>, GIT_CONFIG_VALUE_<n>\n",
      "           If GIT_CONFIG_COUNT is set to a positive number, all environment\n",
      "           pairs GIT_CONFIG_KEY_<n> and GIT_CONFIG_VALUE_<n> up to that number\n",
      "           will be added to the process’s runtime configuration. The config\n",
      "           pairs are zero-indexed. Any missing key or value is treated as an\n",
      "           error. An empty GIT_CONFIG_COUNT is treated the same as\n",
      "           GIT_CONFIG_COUNT=0, namely no pairs are processed. These environment\n",
      "           variables will override values in configuration files, but will be\n",
      "           overridden by any explicit options passed via git -c.\n",
      "\n",
      "           This is useful for cases where you want to spawn multiple git\n",
      "           commands with a common configuration but cannot depend on a\n",
      "           configuration file, for example when writing scripts.\n",
      "\n",
      "EXAMPLES\n",
      "       Given a .git/config like this:\n",
      "\n",
      "           #\n",
      "           # This is the config file, and\n",
      "           # a '#' or ';' character indicates\n",
      "           # a comment\n",
      "           #\n",
      "\n",
      "           ; core variables\n",
      "           [core]\n"
     ]
    },
    {
     "name": "stdout",
     "output_type": "stream",
     "text": [
      "                   ; Don't trust file modes\n",
      "                   filemode = false\n",
      "\n",
      "           ; Our diff algorithm\n",
      "           [diff]\n",
      "                   external = /usr/local/bin/diff-wrapper\n",
      "                   renames = true\n",
      "\n",
      "           ; Proxy settings\n",
      "           [core]\n",
      "                   gitproxy=proxy-command for kernel.org\n",
      "                   gitproxy=default-proxy ; for all the rest\n",
      "\n",
      "           ; HTTP\n",
      "           [http]\n",
      "                   sslVerify\n",
      "           [http \"https://weak.example.com\"]\n",
      "                   sslVerify = false\n",
      "                   cookieFile = /tmp/cookie.txt\n",
      "\n",
      "\n",
      "       you can set the filemode to true with\n",
      "\n",
      "           % git config core.filemode true\n",
      "\n",
      "\n",
      "       The hypothetical proxy command entries actually have a postfix to discern\n",
      "       what URL they apply to. Here is how to change the entry for kernel.org to\n",
      "       \"ssh\".\n",
      "\n",
      "           % git config core.gitproxy '\"ssh\" for kernel.org' 'for kernel.org$'\n",
      "\n",
      "\n",
      "       This makes sure that only the key/value pair for kernel.org is replaced.\n",
      "\n",
      "       To delete the entry for renames, do\n",
      "\n",
      "           % git config --unset diff.renames\n",
      "\n",
      "\n",
      "       If you want to delete an entry for a multivar (like core.gitproxy above),\n",
      "       you have to provide a regex matching the value of exactly one line.\n",
      "\n",
      "       To query the value for a given key, do\n",
      "\n",
      "           % git config --get core.filemode\n",
      "\n",
      "\n",
      "       or\n",
      "\n",
      "           % git config core.filemode\n",
      "\n",
      "\n",
      "       or, to query a multivar:\n",
      "\n",
      "           % git config --get core.gitproxy \"for kernel.org$\"\n",
      "\n",
      "\n",
      "       If you want to know all the values for a multivar, do:\n",
      "\n",
      "           % git config --get-all core.gitproxy\n",
      "\n",
      "\n",
      "       If you like to live dangerously, you can replace all core.gitproxy by a\n",
      "       new one with\n",
      "\n",
      "           % git config --replace-all core.gitproxy ssh\n",
      "\n",
      "\n",
      "       However, if you really only want to replace the line for the default\n",
      "       proxy, i.e. the one without a \"for ...\" postfix, do something like this:\n",
      "\n",
      "           % git config core.gitproxy ssh '! for '\n",
      "\n",
      "\n",
      "       To actually match only values with an exclamation mark, you have to\n",
      "\n",
      "           % git config section.key value '[!]'\n",
      "\n",
      "\n",
      "       To add a new proxy, without altering any of the existing ones, use\n",
      "\n",
      "           % git config --add core.gitproxy '\"proxy-command\" for example.com'\n",
      "\n",
      "\n",
      "       An example to use customized color from the configuration in your script:\n",
      "\n",
      "           #!/bin/sh\n",
      "           WS=$(git config --get-color color.diff.whitespace \"blue reverse\")\n",
      "           RESET=$(git config --get-color \"\" \"reset\")\n",
      "           echo \"${WS}your whitespace color or blue reverse${RESET}\"\n",
      "\n",
      "\n",
      "       For URLs in https://weak.example.com, http.sslVerify is set to false,\n",
      "       while it is set to true for all others:\n",
      "\n",
      "           % git config --type=bool --get-urlmatch http.sslverify https://good.example.com\n",
      "           true\n",
      "           % git config --type=bool --get-urlmatch http.sslverify https://weak.example.com\n",
      "           false\n",
      "           % git config --get-urlmatch http https://weak.example.com\n",
      "           http.cookieFile /tmp/cookie.txt\n",
      "           http.sslverify false\n",
      "\n",
      "\n",
      "CONFIGURATION FILE\n",
      "       The Git configuration file contains a number of variables that affect the\n",
      "       Git commands' behavior. The files .git/config and optionally\n",
      "       config.worktree (see the \"CONFIGURATION FILE\" section of git-worktree(1))\n",
      "       in each repository are used to store the configuration for that\n",
      "       repository, and $HOME/.gitconfig is used to store a per-user\n",
      "       configuration as fallback values for the .git/config file. The file\n",
      "       /etc/gitconfig can be used to store a system-wide default configuration.\n",
      "\n",
      "       The configuration variables are used by both the Git plumbing and the\n",
      "       porcelains. The variables are divided into sections, wherein the fully\n",
      "       qualified variable name of the variable itself is the last dot-separated\n",
      "       segment and the section name is everything before the last dot. The\n",
      "       variable names are case-insensitive, allow only alphanumeric characters\n",
      "       and -, and must start with an alphabetic character. Some variables may\n",
      "       appear multiple times; we say then that the variable is multivalued.\n",
      "\n",
      "   Syntax\n",
      "       The syntax is fairly flexible and permissive; whitespaces are mostly\n",
      "       ignored. The # and ; characters begin comments to the end of line, blank\n",
      "       lines are ignored.\n",
      "\n",
      "       The file consists of sections and variables. A section begins with the\n",
      "       name of the section in square brackets and continues until the next\n",
      "       section begins. Section names are case-insensitive. Only alphanumeric\n",
      "       characters, - and . are allowed in section names. Each variable must\n",
      "       belong to some section, which means that there must be a section header\n",
      "       before the first setting of a variable.\n",
      "\n",
      "       Sections can be further divided into subsections. To begin a subsection\n",
      "       put its name in double quotes, separated by space from the section name,\n",
      "       in the section header, like in the example below:\n",
      "\n",
      "                   [section \"subsection\"]\n",
      "\n",
      "\n",
      "       Subsection names are case sensitive and can contain any characters except\n",
      "       newline and the null byte. Doublequote \" and backslash can be included by\n",
      "       escaping them as \\\" and \\\\, respectively. Backslashes preceding other\n",
      "       characters are dropped when reading; for example, \\t is read as t and \\0\n",
      "       is read as 0 Section headers cannot span multiple lines. Variables may\n",
      "       belong directly to a section or to a given subsection. You can have\n",
      "       [section] if you have [section \"subsection\"], but you don’t need to.\n",
      "\n",
      "       There is also a deprecated [section.subsection] syntax. With this syntax,\n",
      "       the subsection name is converted to lower-case and is also compared case\n",
      "       sensitively. These subsection names follow the same restrictions as\n",
      "       section names.\n",
      "\n",
      "       All the other lines (and the remainder of the line after the section\n",
      "       header) are recognized as setting variables, in the form name = value (or\n",
      "       just name, which is a short-hand to say that the variable is the boolean\n",
      "       \"true\"). The variable names are case-insensitive, allow only alphanumeric\n",
      "       characters and -, and must start with an alphabetic character.\n",
      "\n",
      "       A line that defines a value can be continued to the next line by ending\n",
      "       it with a \\; the backslash and the end-of-line are stripped. Leading\n",
      "       whitespaces after name =, the remainder of the line after the first\n",
      "       comment character # or ;, and trailing whitespaces of the line are\n",
      "       discarded unless they are enclosed in double quotes. Internal whitespaces\n",
      "       within the value are retained verbatim.\n",
      "\n",
      "       Inside double quotes, double quote \" and backslash \\ characters must be\n",
      "       escaped: use \\\" for \" and \\\\ for \\.\n",
      "\n",
      "       The following escape sequences (beside \\\" and \\\\) are recognized: \\n for\n",
      "       newline character (NL), \\t for horizontal tabulation (HT, TAB) and \\b for\n",
      "       backspace (BS). Other char escape sequences (including octal escape\n",
      "       sequences) are invalid.\n",
      "\n",
      "   Includes\n",
      "       The include and includeIf sections allow you to include config directives\n",
      "       from another source. These sections behave identically to each other with\n",
      "       the exception that includeIf sections may be ignored if their condition\n",
      "       does not evaluate to true; see \"Conditional includes\" below.\n",
      "\n",
      "       You can include a config file from another by setting the special\n",
      "       include.path (or includeIf.*.path) variable to the name of the file to be\n",
      "       included. The variable takes a pathname as its value, and is subject to\n",
      "       tilde expansion. These variables can be given multiple times.\n",
      "\n",
      "       The contents of the included file are inserted immediately, as if they\n",
      "       had been found at the location of the include directive. If the value of\n",
      "       the variable is a relative path, the path is considered to be relative to\n",
      "       the configuration file in which the include directive was found. See\n",
      "       below for examples.\n",
      "\n",
      "   Conditional includes\n",
      "       You can include a config file from another conditionally by setting a\n",
      "       includeIf.<condition>.path variable to the name of the file to be\n"
     ]
    },
    {
     "name": "stdout",
     "output_type": "stream",
     "text": [
      "       included.\n",
      "\n",
      "       The condition starts with a keyword followed by a colon and some data\n",
      "       whose format and meaning depends on the keyword. Supported keywords are:\n",
      "\n",
      "       gitdir\n",
      "           The data that follows the keyword gitdir: is used as a glob pattern.\n",
      "           If the location of the .git directory matches the pattern, the\n",
      "           include condition is met.\n",
      "\n",
      "           The .git location may be auto-discovered, or come from $GIT_DIR\n",
      "           environment variable. If the repository is auto discovered via a .git\n",
      "           file (e.g. from submodules, or a linked worktree), the .git location\n",
      "           would be the final location where the .git directory is, not where\n",
      "           the .git file is.\n",
      "\n",
      "           The pattern can contain standard globbing wildcards and two\n",
      "           additional ones, **/ and /**, that can match multiple path\n",
      "           components. Please refer to gitignore(5) for details. For\n",
      "           convenience:\n",
      "\n",
      "           •   If the pattern starts with ~/, ~ will be substituted with the\n",
      "               content of the environment variable HOME.\n",
      "\n",
      "           •   If the pattern starts with ./, it is replaced with the directory\n",
      "               containing the current config file.\n",
      "\n",
      "           •   If the pattern does not start with either ~/, ./ or /, **/ will\n",
      "               be automatically prepended. For example, the pattern foo/bar\n",
      "               becomes **/foo/bar and would match /any/path/to/foo/bar.\n",
      "\n",
      "           •   If the pattern ends with /, ** will be automatically added. For\n",
      "               example, the pattern foo/ becomes foo/**. In other words, it\n",
      "               matches \"foo\" and everything inside, recursively.\n",
      "\n",
      "       gitdir/i\n",
      "           This is the same as gitdir except that matching is done\n",
      "           case-insensitively (e.g. on case-insensitive file systems)\n",
      "\n",
      "       onbranch\n",
      "           The data that follows the keyword onbranch: is taken to be a pattern\n",
      "           with standard globbing wildcards and two additional ones, **/ and\n",
      "           /**, that can match multiple path components. If we are in a worktree\n",
      "           where the name of the branch that is currently checked out matches\n",
      "           the pattern, the include condition is met.\n",
      "\n",
      "           If the pattern ends with /, ** will be automatically added. For\n",
      "           example, the pattern foo/ becomes foo/**. In other words, it matches\n",
      "           all branches that begin with foo/. This is useful if your branches\n",
      "           are organized hierarchically and you would like to apply a\n",
      "           configuration to all the branches in that hierarchy.\n",
      "\n",
      "       A few more notes on matching via gitdir and gitdir/i:\n",
      "\n",
      "       •   Symlinks in $GIT_DIR are not resolved before matching.\n",
      "\n",
      "       •   Both the symlink & realpath versions of paths will be matched outside\n",
      "           of $GIT_DIR. E.g. if ~/git is a symlink to /mnt/storage/git, both\n",
      "           gitdir:~/git and gitdir:/mnt/storage/git will match.\n",
      "\n",
      "           This was not the case in the initial release of this feature in\n",
      "           v2.13.0, which only matched the realpath version. Configuration that\n",
      "           wants to be compatible with the initial release of this feature needs\n",
      "           to either specify only the realpath version, or both versions.\n",
      "\n",
      "       •   Note that \"../\" is not special and will match literally, which is\n",
      "           unlikely what you want.\n",
      "\n",
      "   Example\n",
      "           # Core variables\n",
      "           [core]\n",
      "                   ; Don't trust file modes\n",
      "                   filemode = false\n",
      "\n",
      "           # Our diff algorithm\n",
      "           [diff]\n",
      "                   external = /usr/local/bin/diff-wrapper\n",
      "                   renames = true\n",
      "\n",
      "           [branch \"devel\"]\n",
      "                   remote = origin\n",
      "                   merge = refs/heads/devel\n",
      "\n",
      "           # Proxy settings\n",
      "           [core]\n",
      "                   gitProxy=\"ssh\" for \"kernel.org\"\n",
      "                   gitProxy=default-proxy ; for the rest\n",
      "\n",
      "           [include]\n",
      "                   path = /path/to/foo.inc ; include by absolute path\n",
      "                   path = foo.inc ; find \"foo.inc\" relative to the current file\n",
      "                   path = ~/foo.inc ; find \"foo.inc\" in your `$HOME` directory\n",
      "\n",
      "           ; include if $GIT_DIR is /path/to/foo/.git\n",
      "           [includeIf \"gitdir:/path/to/foo/.git\"]\n",
      "                   path = /path/to/foo.inc\n",
      "\n",
      "           ; include for all repositories inside /path/to/group\n",
      "           [includeIf \"gitdir:/path/to/group/\"]\n",
      "                   path = /path/to/foo.inc\n",
      "\n",
      "           ; include for all repositories inside $HOME/to/group\n",
      "           [includeIf \"gitdir:~/to/group/\"]\n",
      "                   path = /path/to/foo.inc\n",
      "\n",
      "           ; relative paths are always relative to the including\n",
      "           ; file (if the condition is true); their location is not\n",
      "           ; affected by the condition\n",
      "           [includeIf \"gitdir:/path/to/group/\"]\n",
      "                   path = foo.inc\n",
      "\n",
      "           ; include only if we are in a worktree where foo-branch is\n",
      "           ; currently checked out\n",
      "           [includeIf \"onbranch:foo-branch\"]\n",
      "                   path = foo.inc\n",
      "\n",
      "\n",
      "   Values\n",
      "       Values of many variables are treated as a simple string, but there are\n",
      "       variables that take values of specific types and there are rules as to\n",
      "       how to spell them.\n",
      "\n",
      "       boolean\n",
      "           When a variable is said to take a boolean value, many synonyms are\n",
      "           accepted for true and false; these are all case-insensitive.\n",
      "\n",
      "           true\n",
      "               Boolean true literals are yes, on, true, and 1. Also, a variable\n",
      "               defined without = <value> is taken as true.\n",
      "\n",
      "           false\n",
      "               Boolean false literals are no, off, false, 0 and the empty\n",
      "               string.\n",
      "\n",
      "               When converting a value to its canonical form using the\n",
      "               --type=bool type specifier, git config will ensure that the\n",
      "               output is \"true\" or \"false\" (spelled in lowercase).\n",
      "\n",
      "       integer\n",
      "           The value for many variables that specify various sizes can be\n",
      "           suffixed with k, M,... to mean \"scale the number by 1024\", \"by\n",
      "           1024x1024\", etc.\n",
      "\n",
      "       color\n",
      "           The value for a variable that takes a color is a list of colors (at\n",
      "           most two, one for foreground and one for background) and attributes\n",
      "           (as many as you want), separated by spaces.\n",
      "\n",
      "           The basic colors accepted are normal, black, red, green, yellow,\n",
      "           blue, magenta, cyan and white. The first color given is the\n",
      "           foreground; the second is the background. All the basic colors except\n",
      "           normal have a bright variant that can be specified by prefixing the\n",
      "           color with bright, like brightred.\n",
      "\n",
      "           Colors may also be given as numbers between 0 and 255; these use ANSI\n",
      "           256-color mode (but note that not all terminals may support this). If\n",
      "           your terminal supports it, you may also specify 24-bit RGB values as\n",
      "           hex, like #ff0ab3.\n",
      "\n",
      "           The accepted attributes are bold, dim, ul, blink, reverse, italic,\n",
      "           and strike (for crossed-out or \"strikethrough\" letters). The position\n",
      "           of any attributes with respect to the colors (before, after, or in\n",
      "           between), doesn’t matter. Specific attributes may be turned off by\n",
      "           prefixing them with no or no- (e.g., noreverse, no-ul, etc).\n",
      "\n",
      "           An empty color string produces no color effect at all. This can be\n",
      "           used to avoid coloring specific elements without disabling color\n",
      "           entirely.\n",
      "\n",
      "           For git’s pre-defined color slots, the attributes are meant to be\n",
      "           reset at the beginning of each item in the colored output. So setting\n",
      "           color.decorate.branch to black will paint that branch name in a plain\n",
      "           black, even if the previous thing on the same output line (e.g.\n",
      "           opening parenthesis before the list of branch names in log --decorate\n",
      "           output) is set to be painted with bold or some other attribute.\n",
      "           However, custom log formats may do more complicated and layered\n",
      "           coloring, and the negated forms may be useful there.\n",
      "\n",
      "       pathname\n",
      "           A variable that takes a pathname value can be given a string that\n"
     ]
    },
    {
     "name": "stdout",
     "output_type": "stream",
     "text": [
      "           begins with \"~/\" or \"~user/\", and the usual tilde expansion happens\n",
      "           to such a string: ~/ is expanded to the value of $HOME, and ~user/ to\n",
      "           the specified user’s home directory.\n",
      "\n",
      "   Variables\n",
      "       Note that this list is non-comprehensive and not necessarily complete.\n",
      "       For command-specific variables, you will find a more detailed description\n",
      "       in the appropriate manual page.\n",
      "\n",
      "       Other git-related tools may and do use their own variables. When\n",
      "       inventing new variables for use in your own tool, make sure their names\n",
      "       do not conflict with those that are used by Git itself and other popular\n",
      "       tools, and describe them in your documentation.\n",
      "\n",
      "       advice.*\n",
      "           These variables control various optional help messages designed to\n",
      "           aid new users. All advice.* variables default to true, and you can\n",
      "           tell Git that you do not need help by setting these to false:\n",
      "\n",
      "           fetchShowForcedUpdates\n",
      "               Advice shown when git-fetch(1) takes a long time to calculate\n",
      "               forced updates after ref updates, or to warn that the check is\n",
      "               disabled.\n",
      "\n",
      "           pushUpdateRejected\n",
      "               Set this variable to false if you want to disable\n",
      "               pushNonFFCurrent, pushNonFFMatching, pushAlreadyExists,\n",
      "               pushFetchFirst, pushNeedsForce, and pushRefNeedsUpdate\n",
      "               simultaneously.\n",
      "\n",
      "           pushNonFFCurrent\n",
      "               Advice shown when git-push(1) fails due to a non-fast-forward\n",
      "               update to the current branch.\n",
      "\n",
      "           pushNonFFMatching\n",
      "               Advice shown when you ran git-push(1) and pushed matching refs\n",
      "               explicitly (i.e. you used :, or specified a refspec that isn’t\n",
      "               your current branch) and it resulted in a non-fast-forward error.\n",
      "\n",
      "           pushAlreadyExists\n",
      "               Shown when git-push(1) rejects an update that does not qualify\n",
      "               for fast-forwarding (e.g., a tag.)\n",
      "\n",
      "           pushFetchFirst\n",
      "               Shown when git-push(1) rejects an update that tries to overwrite\n",
      "               a remote ref that points at an object we do not have.\n",
      "\n",
      "           pushNeedsForce\n",
      "               Shown when git-push(1) rejects an update that tries to overwrite\n",
      "               a remote ref that points at an object that is not a commit-ish,\n",
      "               or make the remote ref point at an object that is not a\n",
      "               commit-ish.\n",
      "\n",
      "           pushUnqualifiedRefname\n",
      "               Shown when git-push(1) gives up trying to guess based on the\n",
      "               source and destination refs what remote ref namespace the source\n",
      "               belongs in, but where we can still suggest that the user push to\n",
      "               either refs/heads/* or refs/tags/* based on the type of the\n",
      "               source object.\n",
      "\n",
      "           pushRefNeedsUpdate\n",
      "               Shown when git-push(1) rejects a forced update of a branch when\n",
      "               its remote-tracking ref has updates that we do not have locally.\n",
      "\n",
      "           statusAheadBehind\n",
      "               Shown when git-status(1) computes the ahead/behind counts for a\n",
      "               local ref compared to its remote tracking ref, and that\n",
      "               calculation takes longer than expected. Will not appear if\n",
      "               status.aheadBehind is false or the option --no-ahead-behind is\n",
      "               given.\n",
      "\n",
      "           statusHints\n",
      "               Show directions on how to proceed from the current state in the\n",
      "               output of git-status(1), in the template shown when writing\n",
      "               commit messages in git-commit(1), and in the help message shown\n",
      "               by git-switch(1) or git-checkout(1) when switching branch.\n",
      "\n",
      "           statusUoption\n",
      "               Advise to consider using the -u option to git-status(1) when the\n",
      "               command takes more than 2 seconds to enumerate untracked files.\n",
      "\n",
      "           commitBeforeMerge\n",
      "               Advice shown when git-merge(1) refuses to merge to avoid\n",
      "               overwriting local changes.\n",
      "\n",
      "           resetQuiet\n",
      "               Advice to consider using the --quiet option to git-reset(1) when\n",
      "               the command takes more than 2 seconds to enumerate unstaged\n",
      "               changes after reset.\n",
      "\n",
      "           resolveConflict\n",
      "               Advice shown by various commands when conflicts prevent the\n",
      "               operation from being performed.\n",
      "\n",
      "           sequencerInUse\n",
      "               Advice shown when a sequencer command is already in progress.\n",
      "\n",
      "           implicitIdentity\n",
      "               Advice on how to set your identity configuration when your\n",
      "               information is guessed from the system username and domain name.\n",
      "\n",
      "           detachedHead\n",
      "               Advice shown when you used git-switch(1) or git-checkout(1) to\n",
      "               move to the detach HEAD state, to instruct how to create a local\n",
      "               branch after the fact.\n",
      "\n",
      "           checkoutAmbiguousRemoteBranchName\n",
      "               Advice shown when the argument to git-checkout(1) and git-\n",
      "               switch(1) ambiguously resolves to a remote tracking branch on\n",
      "               more than one remote in situations where an unambiguous argument\n",
      "               would have otherwise caused a remote-tracking branch to be\n",
      "               checked out. See the checkout.defaultRemote configuration\n",
      "               variable for how to set a given remote to used by default in some\n",
      "               situations where this advice would be printed.\n",
      "\n",
      "           amWorkDir\n",
      "               Advice that shows the location of the patch file when git-am(1)\n",
      "               fails to apply it.\n",
      "\n",
      "           rmHints\n",
      "               In case of failure in the output of git-rm(1), show directions on\n",
      "               how to proceed from the current state.\n",
      "\n",
      "           addEmbeddedRepo\n",
      "               Advice on what to do when you’ve accidentally added one git repo\n",
      "               inside of another.\n",
      "\n",
      "           ignoredHook\n",
      "               Advice shown if a hook is ignored because the hook is not set as\n",
      "               executable.\n",
      "\n",
      "           waitingForEditor\n",
      "               Print a message to the terminal whenever Git is waiting for\n",
      "               editor input from the user.\n",
      "\n",
      "           nestedTag\n",
      "               Advice shown if a user attempts to recursively tag a tag object.\n",
      "\n",
      "           submoduleAlternateErrorStrategyDie\n",
      "               Advice shown when a submodule.alternateErrorStrategy option\n",
      "               configured to \"die\" causes a fatal error.\n",
      "\n",
      "           addIgnoredFile\n",
      "               Advice shown if a user attempts to add an ignored file to the\n",
      "               index.\n",
      "\n",
      "           addEmptyPathspec\n",
      "               Advice shown if a user runs the add command without providing the\n",
      "               pathspec parameter.\n",
      "\n",
      "       core.fileMode\n",
      "           Tells Git if the executable bit of files in the working tree is to be\n",
      "           honored.\n",
      "\n",
      "           Some filesystems lose the executable bit when a file that is marked\n",
      "           as executable is checked out, or checks out a non-executable file\n",
      "           with executable bit on.  git-clone(1) or git-init(1) probe the\n",
      "           filesystem to see if it handles the executable bit correctly and this\n",
      "           variable is automatically set as necessary.\n",
      "\n",
      "           A repository, however, may be on a filesystem that handles the\n",
      "           filemode correctly, and this variable is set to true when created,\n",
      "           but later may be made accessible from another environment that loses\n",
      "           the filemode (e.g. exporting ext4 via CIFS mount, visiting a Cygwin\n",
      "           created repository with Git for Windows or Eclipse). In such a case\n",
      "           it may be necessary to set this variable to false. See git-update-\n",
      "           index(1).\n",
      "\n",
      "           The default is true (when core.filemode is not specified in the\n",
      "           config file).\n",
      "\n",
      "       core.hideDotFiles\n",
      "           (Windows-only) If true, mark newly-created directories and files\n",
      "           whose name starts with a dot as hidden. If dotGitOnly, only the .git/\n",
      "           directory is hidden, but no other files starting with a dot. The\n",
      "           default mode is dotGitOnly.\n",
      "\n",
      "       core.ignoreCase\n",
      "           Internal variable which enables various workarounds to enable Git to\n"
     ]
    },
    {
     "name": "stdout",
     "output_type": "stream",
     "text": [
      "           work better on filesystems that are not case sensitive, like APFS,\n",
      "           HFS+, FAT, NTFS, etc. For example, if a directory listing finds\n",
      "           \"makefile\" when Git expects \"Makefile\", Git will assume it is really\n",
      "           the same file, and continue to remember it as \"Makefile\".\n",
      "\n",
      "           The default is false, except git-clone(1) or git-init(1) will probe\n",
      "           and set core.ignoreCase true if appropriate when the repository is\n",
      "           created.\n",
      "\n",
      "           Git relies on the proper configuration of this variable for your\n",
      "           operating and file system. Modifying this value may result in\n",
      "           unexpected behavior.\n",
      "\n",
      "       core.precomposeUnicode\n",
      "           This option is only used by Mac OS implementation of Git. When\n",
      "           core.precomposeUnicode=true, Git reverts the unicode decomposition of\n",
      "           filenames done by Mac OS. This is useful when sharing a repository\n",
      "           between Mac OS and Linux or Windows. (Git for Windows 1.7.10 or\n",
      "           higher is needed, or Git under cygwin 1.7). When false, file names\n",
      "           are handled fully transparent by Git, which is backward compatible\n",
      "           with older versions of Git.\n",
      "\n",
      "       core.protectHFS\n",
      "           If set to true, do not allow checkout of paths that would be\n",
      "           considered equivalent to .git on an HFS+ filesystem. Defaults to true\n",
      "           on Mac OS, and false elsewhere.\n",
      "\n",
      "       core.protectNTFS\n",
      "           If set to true, do not allow checkout of paths that would cause\n",
      "           problems with the NTFS filesystem, e.g. conflict with 8.3 \"short\"\n",
      "           names. Defaults to true on Windows, and false elsewhere.\n",
      "\n",
      "       core.fsmonitor\n",
      "           If set, the value of this variable is used as a command which will\n",
      "           identify all files that may have changed since the requested\n",
      "           date/time. This information is used to speed up git by avoiding\n",
      "           unnecessary processing of files that have not changed. See the\n",
      "           \"fsmonitor-watchman\" section of githooks(5).\n",
      "\n",
      "       core.fsmonitorHookVersion\n",
      "           Sets the version of hook that is to be used when calling fsmonitor.\n",
      "           There are currently versions 1 and 2. When this is not set, version 2\n",
      "           will be tried first and if it fails then version 1 will be tried.\n",
      "           Version 1 uses a timestamp as input to determine which files have\n",
      "           changes since that time but some monitors like watchman have race\n",
      "           conditions when used with a timestamp. Version 2 uses an opaque\n",
      "           string so that the monitor can return something that can be used to\n",
      "           determine what files have changed without race conditions.\n",
      "\n",
      "       core.trustctime\n",
      "           If false, the ctime differences between the index and the working\n",
      "           tree are ignored; useful when the inode change time is regularly\n",
      "           modified by something outside Git (file system crawlers and some\n",
      "           backup systems). See git-update-index(1). True by default.\n",
      "\n",
      "       core.splitIndex\n",
      "           If true, the split-index feature of the index will be used. See git-\n",
      "           update-index(1). False by default.\n",
      "\n",
      "       core.untrackedCache\n",
      "           Determines what to do about the untracked cache feature of the index.\n",
      "           It will be kept, if this variable is unset or set to keep. It will\n",
      "           automatically be added if set to true. And it will automatically be\n",
      "           removed, if set to false. Before setting it to true, you should check\n",
      "           that mtime is working properly on your system. See git-update-\n",
      "           index(1).  keep by default, unless feature.manyFiles is enabled which\n",
      "           sets this setting to true by default.\n",
      "\n",
      "       core.checkStat\n",
      "           When missing or is set to default, many fields in the stat structure\n",
      "           are checked to detect if a file has been modified since Git looked at\n",
      "           it. When this configuration variable is set to minimal, sub-second\n",
      "           part of mtime and ctime, the uid and gid of the owner of the file,\n",
      "           the inode number (and the device number, if Git was compiled to use\n",
      "           it), are excluded from the check among these fields, leaving only the\n",
      "           whole-second part of mtime (and ctime, if core.trustCtime is set) and\n",
      "           the filesize to be checked.\n",
      "\n",
      "           There are implementations of Git that do not leave usable values in\n",
      "           some fields (e.g. JGit); by excluding these fields from the\n",
      "           comparison, the minimal mode may help interoperability when the same\n",
      "           repository is used by these other systems at the same time.\n",
      "\n",
      "       core.quotePath\n",
      "           Commands that output paths (e.g.  ls-files, diff), will quote\n",
      "           \"unusual\" characters in the pathname by enclosing the pathname in\n",
      "           double-quotes and escaping those characters with backslashes in the\n",
      "           same way C escapes control characters (e.g.  \\t for TAB, \\n for LF,\n",
      "           \\\\ for backslash) or bytes with values larger than 0x80 (e.g. octal\n",
      "           \\302\\265 for \"micro\" in UTF-8). If this variable is set to false,\n",
      "           bytes higher than 0x80 are not considered \"unusual\" any more.\n",
      "           Double-quotes, backslash and control characters are always escaped\n",
      "           regardless of the setting of this variable. A simple space character\n",
      "           is not considered \"unusual\". Many commands can output pathnames\n",
      "           completely verbatim using the -z option. The default value is true.\n",
      "\n",
      "       core.eol\n",
      "           Sets the line ending type to use in the working directory for files\n",
      "           that are marked as text (either by having the text attribute set, or\n",
      "           by having text=auto and Git auto-detecting the contents as text).\n",
      "           Alternatives are lf, crlf and native, which uses the platform’s\n",
      "           native line ending. The default value is native. See gitattributes(5)\n",
      "           for more information on end-of-line conversion. Note that this value\n",
      "           is ignored if core.autocrlf is set to true or input.\n",
      "\n",
      "       core.safecrlf\n",
      "           If true, makes Git check if converting CRLF is reversible when\n",
      "           end-of-line conversion is active. Git will verify if a command\n",
      "           modifies a file in the work tree either directly or indirectly. For\n",
      "           example, committing a file followed by checking out the same file\n",
      "           should yield the original file in the work tree. If this is not the\n",
      "           case for the current setting of core.autocrlf, Git will reject the\n",
      "           file. The variable can be set to \"warn\", in which case Git will only\n",
      "           warn about an irreversible conversion but continue the operation.\n",
      "\n",
      "           CRLF conversion bears a slight chance of corrupting data. When it is\n",
      "           enabled, Git will convert CRLF to LF during commit and LF to CRLF\n",
      "           during checkout. A file that contains a mixture of LF and CRLF before\n",
      "           the commit cannot be recreated by Git. For text files this is the\n",
      "           right thing to do: it corrects line endings such that we have only LF\n",
      "           line endings in the repository. But for binary files that are\n",
      "           accidentally classified as text the conversion can corrupt data.\n",
      "\n",
      "           If you recognize such corruption early you can easily fix it by\n",
      "           setting the conversion type explicitly in .gitattributes. Right after\n",
      "           committing you still have the original file in your work tree and\n",
      "           this file is not yet corrupted. You can explicitly tell Git that this\n",
      "           file is binary and Git will handle the file appropriately.\n",
      "\n",
      "           Unfortunately, the desired effect of cleaning up text files with\n",
      "           mixed line endings and the undesired effect of corrupting binary\n",
      "           files cannot be distinguished. In both cases CRLFs are removed in an\n",
      "           irreversible way. For text files this is the right thing to do\n",
      "           because CRLFs are line endings, while for binary files converting\n",
      "           CRLFs corrupts data.\n",
      "\n",
      "           Note, this safety check does not mean that a checkout will generate a\n",
      "           file identical to the original file for a different setting of\n"
     ]
    },
    {
     "name": "stdout",
     "output_type": "stream",
     "text": [
      "           core.eol and core.autocrlf, but only for the current one. For\n",
      "           example, a text file with LF would be accepted with core.eol=lf and\n",
      "           could later be checked out with core.eol=crlf, in which case the\n",
      "           resulting file would contain CRLF, although the original file\n",
      "           contained LF. However, in both work trees the line endings would be\n",
      "           consistent, that is either all LF or all CRLF, but never mixed. A\n",
      "           file with mixed line endings would be reported by the core.safecrlf\n",
      "           mechanism.\n",
      "\n",
      "       core.autocrlf\n",
      "           Setting this variable to \"true\" is the same as setting the text\n",
      "           attribute to \"auto\" on all files and core.eol to \"crlf\". Set to true\n",
      "           if you want to have CRLF line endings in your working directory and\n",
      "           the repository has LF line endings. This variable can be set to\n",
      "           input, in which case no output conversion is performed.\n",
      "\n",
      "       core.checkRoundtripEncoding\n",
      "           A comma and/or whitespace separated list of encodings that Git\n",
      "           performs UTF-8 round trip checks on if they are used in an\n",
      "           working-tree-encoding attribute (see gitattributes(5)). The default\n",
      "           value is SHIFT-JIS.\n",
      "\n",
      "       core.symlinks\n",
      "           If false, symbolic links are checked out as small plain files that\n",
      "           contain the link text.  git-update-index(1) and git-add(1) will not\n",
      "           change the recorded type to regular file. Useful on filesystems like\n",
      "           FAT that do not support symbolic links.\n",
      "\n",
      "           The default is true, except git-clone(1) or git-init(1) will probe\n",
      "           and set core.symlinks false if appropriate when the repository is\n",
      "           created.\n",
      "\n",
      "       core.gitProxy\n",
      "           A \"proxy command\" to execute (as command host port) instead of\n",
      "           establishing direct connection to the remote server when using the\n",
      "           Git protocol for fetching. If the variable value is in the \"COMMAND\n",
      "           for DOMAIN\" format, the command is applied only on hostnames ending\n",
      "           with the specified domain string. This variable may be set multiple\n",
      "           times and is matched in the given order; the first match wins.\n",
      "\n",
      "           Can be overridden by the GIT_PROXY_COMMAND environment variable\n",
      "           (which always applies universally, without the special \"for\"\n",
      "           handling).\n",
      "\n",
      "           The special string none can be used as the proxy command to specify\n",
      "           that no proxy be used for a given domain pattern. This is useful for\n",
      "           excluding servers inside a firewall from proxy use, while defaulting\n",
      "           to a common proxy for external domains.\n",
      "\n",
      "       core.sshCommand\n",
      "           If this variable is set, git fetch and git push will use the\n",
      "           specified command instead of ssh when they need to connect to a\n",
      "           remote system. The command is in the same form as the GIT_SSH_COMMAND\n",
      "           environment variable and is overridden when the environment variable\n",
      "           is set.\n",
      "\n",
      "       core.ignoreStat\n",
      "           If true, Git will avoid using lstat() calls to detect if files have\n",
      "           changed by setting the \"assume-unchanged\" bit for those tracked files\n",
      "           which it has updated identically in both the index and working tree.\n",
      "\n",
      "           When files are modified outside of Git, the user will need to stage\n",
      "           the modified files explicitly (e.g. see Examples section in git-\n",
      "           update-index(1)). Git will not normally detect changes to those\n",
      "           files.\n",
      "\n",
      "           This is useful on systems where lstat() calls are very slow, such as\n",
      "           CIFS/Microsoft Windows.\n",
      "\n",
      "           False by default.\n",
      "\n",
      "       core.preferSymlinkRefs\n",
      "           Instead of the default \"symref\" format for HEAD and other symbolic\n",
      "           reference files, use symbolic links. This is sometimes needed to work\n",
      "           with old scripts that expect HEAD to be a symbolic link.\n",
      "\n",
      "       core.alternateRefsCommand\n",
      "           When advertising tips of available history from an alternate, use the\n",
      "           shell to execute the specified command instead of git-for-each-\n",
      "           ref(1). The first argument is the absolute path of the alternate.\n",
      "           Output must contain one hex object id per line (i.e., the same as\n",
      "           produced by git for-each-ref --format='%(objectname)').\n",
      "\n",
      "           Note that you cannot generally put git for-each-ref directly into the\n",
      "           config value, as it does not take a repository path as an argument\n",
      "           (but you can wrap the command above in a shell script).\n",
      "\n",
      "       core.alternateRefsPrefixes\n",
      "           When listing references from an alternate, list only references that\n",
      "           begin with the given prefix. Prefixes match as if they were given as\n",
      "           arguments to git-for-each-ref(1). To list multiple prefixes, separate\n",
      "           them with whitespace. If core.alternateRefsCommand is set, setting\n",
      "           core.alternateRefsPrefixes has no effect.\n",
      "\n",
      "       core.bare\n",
      "           If true this repository is assumed to be bare and has no working\n",
      "           directory associated with it. If this is the case a number of\n",
      "           commands that require a working directory will be disabled, such as\n",
      "           git-add(1) or git-merge(1).\n",
      "\n",
      "           This setting is automatically guessed by git-clone(1) or git-init(1)\n",
      "           when the repository was created. By default a repository that ends in\n",
      "           \"/.git\" is assumed to be not bare (bare = false), while all other\n",
      "           repositories are assumed to be bare (bare = true).\n",
      "\n",
      "       core.worktree\n",
      "           Set the path to the root of the working tree. If GIT_COMMON_DIR\n",
      "           environment variable is set, core.worktree is ignored and not used\n",
      "           for determining the root of working tree. This can be overridden by\n",
      "           the GIT_WORK_TREE environment variable and the --work-tree\n",
      "           command-line option. The value can be an absolute path or relative to\n",
      "           the path to the .git directory, which is either specified by\n",
      "           --git-dir or GIT_DIR, or automatically discovered. If --git-dir or\n",
      "           GIT_DIR is specified but none of --work-tree, GIT_WORK_TREE and\n",
      "           core.worktree is specified, the current working directory is regarded\n",
      "           as the top level of your working tree.\n",
      "\n",
      "           Note that this variable is honored even when set in a configuration\n",
      "           file in a \".git\" subdirectory of a directory and its value differs\n",
      "           from the latter directory (e.g. \"/path/to/.git/config\" has\n",
      "           core.worktree set to \"/different/path\"), which is most likely a\n",
      "           misconfiguration. Running Git commands in the \"/path/to\" directory\n",
      "           will still use \"/different/path\" as the root of the work tree and can\n",
      "           cause confusion unless you know what you are doing (e.g. you are\n",
      "           creating a read-only snapshot of the same index to a location\n",
      "           different from the repository’s usual working tree).\n",
      "\n",
      "       core.logAllRefUpdates\n",
      "           Enable the reflog. Updates to a ref <ref> is logged to the file\n",
      "           \"$GIT_DIR/logs/<ref>\", by appending the new and old SHA-1, the\n",
      "           date/time and the reason of the update, but only when the file\n",
      "           exists. If this configuration variable is set to true, missing\n",
      "           \"$GIT_DIR/logs/<ref>\" file is automatically created for branch heads\n",
      "           (i.e. under refs/heads/), remote refs (i.e. under refs/remotes/),\n",
      "           note refs (i.e. under refs/notes/), and the symbolic ref HEAD. If it\n",
      "           is set to always, then a missing reflog is automatically created for\n",
      "           any ref under refs/.\n",
      "\n",
      "           This information can be used to determine what commit was the tip of\n",
      "           a branch \"2 days ago\".\n",
      "\n",
      "           This value is true by default in a repository that has a working\n",
      "           directory associated with it, and false by default in a bare\n",
      "           repository.\n",
      "\n",
      "       core.repositoryFormatVersion\n",
      "           Internal variable identifying the repository format and layout\n",
      "           version.\n",
      "\n",
      "       core.sharedRepository\n",
      "           When group (or true), the repository is made shareable between\n"
     ]
    },
    {
     "name": "stdout",
     "output_type": "stream",
     "text": [
      "           several users in a group (making sure all the files and objects are\n",
      "           group-writable). When all (or world or everybody), the repository\n",
      "           will be readable by all users, additionally to being group-shareable.\n",
      "           When umask (or false), Git will use permissions reported by umask(2).\n",
      "           When 0xxx, where 0xxx is an octal number, files in the repository\n",
      "           will have this mode value.  0xxx will override user’s umask value\n",
      "           (whereas the other options will only override requested parts of the\n",
      "           user’s umask value). Examples: 0660 will make the repo\n",
      "           read/write-able for the owner and group, but inaccessible to others\n",
      "           (equivalent to group unless umask is e.g.  0022).  0640 is a\n",
      "           repository that is group-readable but not group-writable. See git-\n",
      "           init(1). False by default.\n",
      "\n",
      "       core.warnAmbiguousRefs\n",
      "           If true, Git will warn you if the ref name you passed it is ambiguous\n",
      "           and might match multiple refs in the repository. True by default.\n",
      "\n",
      "       core.compression\n",
      "           An integer -1..9, indicating a default compression level. -1 is the\n",
      "           zlib default. 0 means no compression, and 1..9 are various speed/size\n",
      "           tradeoffs, 9 being slowest. If set, this provides a default to other\n",
      "           compression variables, such as core.looseCompression and\n",
      "           pack.compression.\n",
      "\n",
      "       core.looseCompression\n",
      "           An integer -1..9, indicating the compression level for objects that\n",
      "           are not in a pack file. -1 is the zlib default. 0 means no\n",
      "           compression, and 1..9 are various speed/size tradeoffs, 9 being\n",
      "           slowest. If not set, defaults to core.compression. If that is not\n",
      "           set, defaults to 1 (best speed).\n",
      "\n",
      "       core.packedGitWindowSize\n",
      "           Number of bytes of a pack file to map into memory in a single mapping\n",
      "           operation. Larger window sizes may allow your system to process a\n",
      "           smaller number of large pack files more quickly. Smaller window sizes\n",
      "           will negatively affect performance due to increased calls to the\n",
      "           operating system’s memory manager, but may improve performance when\n",
      "           accessing a large number of large pack files.\n",
      "\n",
      "           Default is 1 MiB if NO_MMAP was set at compile time, otherwise 32 MiB\n",
      "           on 32 bit platforms and 1 GiB on 64 bit platforms. This should be\n",
      "           reasonable for all users/operating systems. You probably do not need\n",
      "           to adjust this value.\n",
      "\n",
      "           Common unit suffixes of k, m, or g are supported.\n",
      "\n",
      "       core.packedGitLimit\n",
      "           Maximum number of bytes to map simultaneously into memory from pack\n",
      "           files. If Git needs to access more than this many bytes at once to\n",
      "           complete an operation it will unmap existing regions to reclaim\n",
      "           virtual address space within the process.\n",
      "\n",
      "           Default is 256 MiB on 32 bit platforms and 32 TiB (effectively\n",
      "           unlimited) on 64 bit platforms. This should be reasonable for all\n",
      "           users/operating systems, except on the largest projects. You probably\n",
      "           do not need to adjust this value.\n",
      "\n",
      "           Common unit suffixes of k, m, or g are supported.\n",
      "\n",
      "       core.deltaBaseCacheLimit\n",
      "           Maximum number of bytes per thread to reserve for caching base\n",
      "           objects that may be referenced by multiple deltified objects. By\n",
      "           storing the entire decompressed base objects in a cache Git is able\n",
      "           to avoid unpacking and decompressing frequently used base objects\n",
      "           multiple times.\n",
      "\n",
      "           Default is 96 MiB on all platforms. This should be reasonable for all\n",
      "           users/operating systems, except on the largest projects. You probably\n",
      "           do not need to adjust this value.\n",
      "\n",
      "           Common unit suffixes of k, m, or g are supported.\n",
      "\n",
      "       core.bigFileThreshold\n",
      "           Files larger than this size are stored deflated, without attempting\n",
      "           delta compression. Storing large files without delta compression\n",
      "           avoids excessive memory usage, at the slight expense of increased\n",
      "           disk usage. Additionally files larger than this size are always\n",
      "           treated as binary.\n",
      "\n",
      "           Default is 512 MiB on all platforms. This should be reasonable for\n",
      "           most projects as source code and other text files can still be delta\n",
      "           compressed, but larger binary media files won’t be.\n",
      "\n",
      "           Common unit suffixes of k, m, or g are supported.\n",
      "\n",
      "       core.excludesFile\n",
      "           Specifies the pathname to the file that contains patterns to describe\n",
      "           paths that are not meant to be tracked, in addition to .gitignore\n",
      "           (per-directory) and .git/info/exclude. Defaults to\n",
      "           $XDG_CONFIG_HOME/git/ignore. If $XDG_CONFIG_HOME is either not set or\n",
      "           empty, $HOME/.config/git/ignore is used instead. See gitignore(5).\n",
      "\n",
      "       core.askPass\n",
      "           Some commands (e.g. svn and http interfaces) that interactively ask\n",
      "           for a password can be told to use an external program given via the\n",
      "           value of this variable. Can be overridden by the GIT_ASKPASS\n",
      "           environment variable. If not set, fall back to the value of the\n",
      "           SSH_ASKPASS environment variable or, failing that, a simple password\n",
      "           prompt. The external program shall be given a suitable prompt as\n",
      "           command-line argument and write the password on its STDOUT.\n",
      "\n",
      "       core.attributesFile\n",
      "           In addition to .gitattributes (per-directory) and\n",
      "           .git/info/attributes, Git looks into this file for attributes (see\n",
      "           gitattributes(5)). Path expansions are made the same way as for\n",
      "           core.excludesFile. Its default value is\n",
      "           $XDG_CONFIG_HOME/git/attributes. If $XDG_CONFIG_HOME is either not\n",
      "           set or empty, $HOME/.config/git/attributes is used instead.\n",
      "\n",
      "       core.hooksPath\n",
      "           By default Git will look for your hooks in the $GIT_DIR/hooks\n",
      "           directory. Set this to different path, e.g.  /etc/git/hooks, and Git\n",
      "           will try to find your hooks in that directory, e.g.\n",
      "           /etc/git/hooks/pre-receive instead of in $GIT_DIR/hooks/pre-receive.\n",
      "\n",
      "           The path can be either absolute or relative. A relative path is taken\n",
      "           as relative to the directory where the hooks are run (see the\n",
      "           \"DESCRIPTION\" section of githooks(5)).\n",
      "\n",
      "           This configuration variable is useful in cases where you’d like to\n",
      "           centrally configure your Git hooks instead of configuring them on a\n",
      "           per-repository basis, or as a more flexible and centralized\n",
      "           alternative to having an init.templateDir where you’ve changed\n",
      "           default hooks.\n",
      "\n",
      "       core.editor\n",
      "           Commands such as commit and tag that let you edit messages by\n",
      "           launching an editor use the value of this variable when it is set,\n",
      "           and the environment variable GIT_EDITOR is not set. See git-var(1).\n",
      "\n",
      "       core.commentChar\n",
      "           Commands such as commit and tag that let you edit messages consider a\n",
      "           line that begins with this character commented, and removes them\n",
      "           after the editor returns (default #).\n",
      "\n",
      "           If set to \"auto\", git-commit would select a character that is not the\n",
      "           beginning character of any line in existing commit messages.\n",
      "\n",
      "       core.filesRefLockTimeout\n",
      "           The length of time, in milliseconds, to retry when trying to lock an\n",
      "           individual reference. Value 0 means not to retry at all; -1 means to\n",
      "           try indefinitely. Default is 100 (i.e., retry for 100ms).\n",
      "\n",
      "       core.packedRefsTimeout\n",
      "           The length of time, in milliseconds, to retry when trying to lock the\n",
      "           packed-refs file. Value 0 means not to retry at all; -1 means to try\n",
      "           indefinitely. Default is 1000 (i.e., retry for 1 second).\n",
      "\n",
      "       core.pager\n",
      "           Text viewer for use by Git commands (e.g., less). The value is meant\n",
      "           to be interpreted by the shell. The order of preference is the\n",
      "           $GIT_PAGER environment variable, then core.pager configuration, then\n"
     ]
    },
    {
     "name": "stdout",
     "output_type": "stream",
     "text": [
      "           $PAGER, and then the default chosen at compile time (usually less).\n",
      "\n",
      "           When the LESS environment variable is unset, Git sets it to FRX (if\n",
      "           LESS environment variable is set, Git does not change it at all). If\n",
      "           you want to selectively override Git’s default setting for LESS, you\n",
      "           can set core.pager to e.g.  less -S. This will be passed to the shell\n",
      "           by Git, which will translate the final command to LESS=FRX less -S.\n",
      "           The environment does not set the S option but the command line does,\n",
      "           instructing less to truncate long lines. Similarly, setting\n",
      "           core.pager to less -+F will deactivate the F option specified by the\n",
      "           environment from the command-line, deactivating the \"quit if one\n",
      "           screen\" behavior of less. One can specifically activate some flags\n",
      "           for particular commands: for example, setting pager.blame to less -S\n",
      "           enables line truncation only for git blame.\n",
      "\n",
      "           Likewise, when the LV environment variable is unset, Git sets it to\n",
      "           -c. You can override this setting by exporting LV with another value\n",
      "           or setting core.pager to lv +c.\n",
      "\n",
      "       core.whitespace\n",
      "           A comma separated list of common whitespace problems to notice.  git\n",
      "           diff will use color.diff.whitespace to highlight them, and git apply\n",
      "           --whitespace=error will consider them as errors. You can prefix - to\n",
      "           disable any of them (e.g.  -trailing-space):\n",
      "\n",
      "           •   blank-at-eol treats trailing whitespaces at the end of the line\n",
      "               as an error (enabled by default).\n",
      "\n",
      "           •   space-before-tab treats a space character that appears\n",
      "               immediately before a tab character in the initial indent part of\n",
      "               the line as an error (enabled by default).\n",
      "\n",
      "           •   indent-with-non-tab treats a line that is indented with space\n",
      "               characters instead of the equivalent tabs as an error (not\n",
      "               enabled by default).\n",
      "\n",
      "           •   tab-in-indent treats a tab character in the initial indent part\n",
      "               of the line as an error (not enabled by default).\n",
      "\n",
      "           •   blank-at-eof treats blank lines added at the end of file as an\n",
      "               error (enabled by default).\n",
      "\n",
      "           •   trailing-space is a short-hand to cover both blank-at-eol and\n",
      "               blank-at-eof.\n",
      "\n",
      "           •   cr-at-eol treats a carriage-return at the end of line as part of\n",
      "               the line terminator, i.e. with it, trailing-space does not\n",
      "               trigger if the character before such a carriage-return is not a\n",
      "               whitespace (not enabled by default).\n",
      "\n",
      "           •   tabwidth=<n> tells how many character positions a tab occupies;\n",
      "               this is relevant for indent-with-non-tab and when Git fixes\n",
      "               tab-in-indent errors. The default tab width is 8. Allowed values\n",
      "               are 1 to 63.\n",
      "\n",
      "       core.fsyncObjectFiles\n",
      "           This boolean will enable fsync() when writing object files.\n",
      "\n",
      "           This is a total waste of time and effort on a filesystem that orders\n",
      "           data writes properly, but can be useful for filesystems that do not\n",
      "           use journalling (traditional UNIX filesystems) or that only journal\n",
      "           metadata and not file contents (OS X’s HFS+, or Linux ext3 with\n",
      "           \"data=writeback\").\n",
      "\n",
      "       core.preloadIndex\n",
      "           Enable parallel index preload for operations like git diff\n",
      "\n",
      "           This can speed up operations like git diff and git status especially\n",
      "           on filesystems like NFS that have weak caching semantics and thus\n",
      "           relatively high IO latencies. When enabled, Git will do the index\n",
      "           comparison to the filesystem data in parallel, allowing overlapping\n",
      "           IO’s. Defaults to true.\n",
      "\n",
      "       core.unsetenvvars\n",
      "           Windows-only: comma-separated list of environment variables' names\n",
      "           that need to be unset before spawning any other process. Defaults to\n",
      "           PERL5LIB to account for the fact that Git for Windows insists on\n",
      "           using its own Perl interpreter.\n",
      "\n",
      "       core.restrictinheritedhandles\n",
      "           Windows-only: override whether spawned processes inherit only\n",
      "           standard file handles (stdin, stdout and stderr) or all handles. Can\n",
      "           be auto, true or false. Defaults to auto, which means true on Windows\n",
      "           7 and later, and false on older Windows versions.\n",
      "\n",
      "       core.createObject\n",
      "           You can set this to link, in which case a hardlink followed by a\n",
      "           delete of the source are used to make sure that object creation will\n",
      "           not overwrite existing objects.\n",
      "\n",
      "           On some file system/operating system combinations, this is\n",
      "           unreliable. Set this config setting to rename there; However, This\n",
      "           will remove the check that makes sure that existing object files will\n",
      "           not get overwritten.\n",
      "\n",
      "       core.notesRef\n",
      "           When showing commit messages, also show notes which are stored in the\n",
      "           given ref. The ref must be fully qualified. If the given ref does not\n",
      "           exist, it is not an error but means that no notes should be printed.\n",
      "\n",
      "           This setting defaults to \"refs/notes/commits\", and it can be\n",
      "           overridden by the GIT_NOTES_REF environment variable. See git-\n",
      "           notes(1).\n",
      "\n",
      "       core.commitGraph\n",
      "           If true, then git will read the commit-graph file (if it exists) to\n",
      "           parse the graph structure of commits. Defaults to true. See git-\n",
      "           commit-graph(1) for more information.\n",
      "\n",
      "       core.useReplaceRefs\n",
      "           If set to false, behave as if the --no-replace-objects option was\n",
      "           given on the command line. See git(1) and git-replace(1) for more\n",
      "           information.\n",
      "\n",
      "       core.multiPackIndex\n",
      "           Use the multi-pack-index file to track multiple packfiles using a\n",
      "           single index. See git-multi-pack-index(1) for more information.\n",
      "           Defaults to true.\n",
      "\n",
      "       core.sparseCheckout\n",
      "           Enable \"sparse checkout\" feature. See git-sparse-checkout(1) for more\n",
      "           information.\n",
      "\n",
      "       core.sparseCheckoutCone\n",
      "           Enables the \"cone mode\" of the sparse checkout feature. When the\n",
      "           sparse-checkout file contains a limited set of patterns, then this\n",
      "           mode provides significant performance advantages. See git-sparse-\n",
      "           checkout(1) for more information.\n",
      "\n",
      "       core.abbrev\n",
      "           Set the length object names are abbreviated to. If unspecified or set\n",
      "           to \"auto\", an appropriate value is computed based on the approximate\n",
      "           number of packed objects in your repository, which hopefully is\n",
      "           enough for abbreviated object names to stay unique for some time. If\n",
      "           set to \"no\", no abbreviation is made and the object names are shown\n",
      "           in their full length. The minimum length is 4.\n",
      "\n",
      "       add.ignoreErrors, add.ignore-errors (deprecated)\n",
      "           Tells git add to continue adding files when some files cannot be\n",
      "           added due to indexing errors. Equivalent to the --ignore-errors\n",
      "           option of git-add(1).  add.ignore-errors is deprecated, as it does\n",
      "           not follow the usual naming convention for configuration variables.\n",
      "\n",
      "       add.interactive.useBuiltin\n",
      "           [EXPERIMENTAL] Set to true to use the experimental built-in\n",
      "           implementation of the interactive version of git-add(1) instead of\n",
      "           the Perl script version. Is false by default.\n",
      "\n",
      "       alias.*\n",
      "           Command aliases for the git(1) command wrapper - e.g. after defining\n",
      "           alias.last = cat-file commit HEAD, the invocation git last is\n",
      "           equivalent to git cat-file commit HEAD. To avoid confusion and\n",
      "           troubles with script usage, aliases that hide existing Git commands\n",
      "           are ignored. Arguments are split by spaces, the usual shell quoting\n",
      "           and escaping is supported. A quote pair or a backslash can be used to\n",
      "           quote them.\n",
      "\n",
      "           Note that the first word of an alias does not necessarily have to be\n",
      "           a command. It can be a command-line option that will be passed into\n"
     ]
    },
    {
     "name": "stdout",
     "output_type": "stream",
     "text": [
      "           the invocation of git. In particular, this is useful when used with\n",
      "           -c to pass in one-time configurations or -p to force pagination. For\n",
      "           example, loud-rebase = -c commit.verbose=true rebase can be defined\n",
      "           such that running git loud-rebase would be equivalent to git -c\n",
      "           commit.verbose=true rebase. Also, ps = -p status would be a helpful\n",
      "           alias since git ps would paginate the output of git status where the\n",
      "           original command does not.\n",
      "\n",
      "           If the alias expansion is prefixed with an exclamation point, it will\n",
      "           be treated as a shell command. For example, defining alias.new =\n",
      "           !gitk --all --not ORIG_HEAD, the invocation git new is equivalent to\n",
      "           running the shell command gitk --all --not ORIG_HEAD. Note that shell\n",
      "           commands will be executed from the top-level directory of a\n",
      "           repository, which may not necessarily be the current directory.\n",
      "           GIT_PREFIX is set as returned by running git rev-parse --show-prefix\n",
      "           from the original current directory. See git-rev-parse(1).\n",
      "\n",
      "       am.keepcr\n",
      "           If true, git-am will call git-mailsplit for patches in mbox format\n",
      "           with parameter --keep-cr. In this case git-mailsplit will not remove\n",
      "           \\r from lines ending with \\r\\n. Can be overridden by giving\n",
      "           --no-keep-cr from the command line. See git-am(1), git-mailsplit(1).\n",
      "\n",
      "       am.threeWay\n",
      "           By default, git am will fail if the patch does not apply cleanly.\n",
      "           When set to true, this setting tells git am to fall back on 3-way\n",
      "           merge if the patch records the identity of blobs it is supposed to\n",
      "           apply to and we have those blobs available locally (equivalent to\n",
      "           giving the --3way option from the command line). Defaults to false.\n",
      "           See git-am(1).\n",
      "\n",
      "       apply.ignoreWhitespace\n",
      "           When set to change, tells git apply to ignore changes in whitespace,\n",
      "           in the same way as the --ignore-space-change option. When set to one\n",
      "           of: no, none, never, false tells git apply to respect all whitespace\n",
      "           differences. See git-apply(1).\n",
      "\n",
      "       apply.whitespace\n",
      "           Tells git apply how to handle whitespaces, in the same way as the\n",
      "           --whitespace option. See git-apply(1).\n",
      "\n",
      "       blame.blankBoundary\n",
      "           Show blank commit object name for boundary commits in git-blame(1).\n",
      "           This option defaults to false.\n",
      "\n",
      "       blame.coloring\n",
      "           This determines the coloring scheme to be applied to blame output. It\n",
      "           can be repeatedLines, highlightRecent, or none which is the default.\n",
      "\n",
      "       blame.date\n",
      "           Specifies the format used to output dates in git-blame(1). If unset\n",
      "           the iso format is used. For supported values, see the discussion of\n",
      "           the --date option at git-log(1).\n",
      "\n",
      "       blame.showEmail\n",
      "           Show the author email instead of author name in git-blame(1). This\n",
      "           option defaults to false.\n",
      "\n",
      "       blame.showRoot\n",
      "           Do not treat root commits as boundaries in git-blame(1). This option\n",
      "           defaults to false.\n",
      "\n",
      "       blame.ignoreRevsFile\n",
      "           Ignore revisions listed in the file, one unabbreviated object name\n",
      "           per line, in git-blame(1). Whitespace and comments beginning with #\n",
      "           are ignored. This option may be repeated multiple times. Empty file\n",
      "           names will reset the list of ignored revisions. This option will be\n",
      "           handled before the command line option --ignore-revs-file.\n",
      "\n",
      "       blame.markUnblamables\n",
      "           Mark lines that were changed by an ignored revision that we could not\n",
      "           attribute to another commit with a * in the output of git-blame(1).\n",
      "\n",
      "       blame.markIgnoredLines\n",
      "           Mark lines that were changed by an ignored revision that we\n",
      "           attributed to another commit with a ? in the output of git-blame(1).\n",
      "\n",
      "       branch.autoSetupMerge\n",
      "           Tells git branch, git switch and git checkout to set up new branches\n",
      "           so that git-pull(1) will appropriately merge from the starting point\n",
      "           branch. Note that even if this option is not set, this behavior can\n",
      "           be chosen per-branch using the --track and --no-track options. The\n",
      "           valid settings are: false — no automatic setup is done; true —\n",
      "           automatic setup is done when the starting point is a remote-tracking\n",
      "           branch; always —  automatic setup is done when the starting point is\n",
      "           either a local branch or remote-tracking branch. This option defaults\n",
      "           to true.\n",
      "\n",
      "       branch.autoSetupRebase\n",
      "           When a new branch is created with git branch, git switch or git\n",
      "           checkout that tracks another branch, this variable tells Git to set\n",
      "           up pull to rebase instead of merge (see \"branch.<name>.rebase\"). When\n",
      "           never, rebase is never automatically set to true. When local, rebase\n",
      "           is set to true for tracked branches of other local branches. When\n",
      "           remote, rebase is set to true for tracked branches of remote-tracking\n",
      "           branches. When always, rebase will be set to true for all tracking\n",
      "           branches. See \"branch.autoSetupMerge\" for details on how to set up a\n",
      "           branch to track another branch. This option defaults to never.\n",
      "\n",
      "       branch.sort\n",
      "           This variable controls the sort ordering of branches when displayed\n",
      "           by git-branch(1). Without the \"--sort=<value>\" option provided, the\n",
      "           value of this variable will be used as the default. See git-for-each-\n",
      "           ref(1) field names for valid values.\n",
      "\n",
      "       branch.<name>.remote\n",
      "           When on branch <name>, it tells git fetch and git push which remote\n",
      "           to fetch from/push to. The remote to push to may be overridden with\n",
      "           remote.pushDefault (for all branches). The remote to push to, for the\n",
      "           current branch, may be further overridden by\n",
      "           branch.<name>.pushRemote. If no remote is configured, or if you are\n",
      "           not on any branch, it defaults to origin for fetching and\n",
      "           remote.pushDefault for pushing. Additionally, . (a period) is the\n",
      "           current local repository (a dot-repository), see\n",
      "           branch.<name>.merge's final note below.\n",
      "\n",
      "       branch.<name>.pushRemote\n",
      "           When on branch <name>, it overrides branch.<name>.remote for pushing.\n",
      "           It also overrides remote.pushDefault for pushing from branch <name>.\n",
      "           When you pull from one place (e.g. your upstream) and push to another\n",
      "           place (e.g. your own publishing repository), you would want to set\n",
      "           remote.pushDefault to specify the remote to push to for all branches,\n",
      "           and use this option to override it for a specific branch.\n",
      "\n",
      "       branch.<name>.merge\n",
      "           Defines, together with branch.<name>.remote, the upstream branch for\n",
      "           the given branch. It tells git fetch/git pull/git rebase which branch\n",
      "           to merge and can also affect git push (see push.default). When in\n",
      "           branch <name>, it tells git fetch the default refspec to be marked\n",
      "           for merging in FETCH_HEAD. The value is handled like the remote part\n",
      "           of a refspec, and must match a ref which is fetched from the remote\n",
      "           given by \"branch.<name>.remote\". The merge information is used by git\n",
      "           pull (which at first calls git fetch) to lookup the default branch\n",
      "           for merging. Without this option, git pull defaults to merge the\n",
      "           first refspec fetched. Specify multiple values to get an octopus\n",
      "           merge. If you wish to setup git pull so that it merges into <name>\n",
      "           from another branch in the local repository, you can point\n",
      "           branch.<name>.merge to the desired branch, and use the relative path\n",
      "           setting . (a period) for branch.<name>.remote.\n",
      "\n",
      "       branch.<name>.mergeOptions\n",
      "           Sets default options for merging into branch <name>. The syntax and\n",
      "           supported options are the same as those of git-merge(1), but option\n",
      "           values containing whitespace characters are currently not supported.\n"
     ]
    },
    {
     "name": "stdout",
     "output_type": "stream",
     "text": [
      "\n",
      "       branch.<name>.rebase\n",
      "           When true, rebase the branch <name> on top of the fetched branch,\n",
      "           instead of merging the default branch from the default remote when\n",
      "           \"git pull\" is run. See \"pull.rebase\" for doing this in a non\n",
      "           branch-specific manner.\n",
      "\n",
      "           When merges (or just m), pass the --rebase-merges option to git\n",
      "           rebase so that the local merge commits are included in the rebase\n",
      "           (see git-rebase(1) for details).\n",
      "\n",
      "           When preserve (or just p, deprecated in favor of merges), also pass\n",
      "           --preserve-merges along to git rebase so that locally committed merge\n",
      "           commits will not be flattened by running git pull.\n",
      "\n",
      "           When the value is interactive (or just i), the rebase is run in\n",
      "           interactive mode.\n",
      "\n",
      "           NOTE: this is a possibly dangerous operation; do not use it unless\n",
      "           you understand the implications (see git-rebase(1) for details).\n",
      "\n",
      "       branch.<name>.description\n",
      "           Branch description, can be edited with git branch --edit-description.\n",
      "           Branch description is automatically added in the format-patch cover\n",
      "           letter or request-pull summary.\n",
      "\n",
      "       browser.<tool>.cmd\n",
      "           Specify the command to invoke the specified browser. The specified\n",
      "           command is evaluated in shell with the URLs passed as arguments. (See\n",
      "           git-web--browse(1).)\n",
      "\n",
      "       browser.<tool>.path\n",
      "           Override the path for the given tool that may be used to browse HTML\n",
      "           help (see -w option in git-help(1)) or a working repository in gitweb\n",
      "           (see git-instaweb(1)).\n",
      "\n",
      "       checkout.defaultRemote\n",
      "           When you run git checkout <something> or git switch <something> and\n",
      "           only have one remote, it may implicitly fall back on checking out and\n",
      "           tracking e.g.  origin/<something>. This stops working as soon as you\n",
      "           have more than one remote with a <something> reference. This setting\n",
      "           allows for setting the name of a preferred remote that should always\n",
      "           win when it comes to disambiguation. The typical use-case is to set\n",
      "           this to origin.\n",
      "\n",
      "           Currently this is used by git-switch(1) and git-checkout(1) when git\n",
      "           checkout <something> or git switch <something> will checkout the\n",
      "           <something> branch on another remote, and by git-worktree(1) when git\n",
      "           worktree add refers to a remote branch. This setting might be used\n",
      "           for other checkout-like commands or functionality in the future.\n",
      "\n",
      "       checkout.guess\n",
      "           Provides the default value for the --guess or --no-guess option in\n",
      "           git checkout and git switch. See git-switch(1) and git-checkout(1).\n",
      "\n",
      "       clean.requireForce\n",
      "           A boolean to make git-clean do nothing unless given -f, -i or -n.\n",
      "           Defaults to true.\n",
      "\n",
      "       clone.defaultRemoteName\n",
      "           The name of the remote to create when cloning a repository. Defaults\n",
      "           to origin, and can be overridden by passing the --origin command-line\n",
      "           option to git-clone(1).\n",
      "\n",
      "       color.advice\n",
      "           A boolean to enable/disable color in hints (e.g. when a push failed,\n",
      "           see advice.* for a list). May be set to always, false (or never) or\n",
      "           auto (or true), in which case colors are used only when the error\n",
      "           output goes to a terminal. If unset, then the value of color.ui is\n",
      "           used (auto by default).\n",
      "\n",
      "       color.advice.hint\n",
      "           Use customized color for hints.\n",
      "\n",
      "       color.blame.highlightRecent\n",
      "           This can be used to color the metadata of a blame line depending on\n",
      "           age of the line.\n",
      "\n",
      "           This setting should be set to a comma-separated list of color and\n",
      "           date settings, starting and ending with a color, the dates should be\n",
      "           set from oldest to newest. The metadata will be colored given the\n",
      "           colors if the line was introduced before the given timestamp,\n",
      "           overwriting older timestamped colors.\n",
      "\n",
      "           Instead of an absolute timestamp relative timestamps work as well,\n",
      "           e.g. 2.weeks.ago is valid to address anything older than 2 weeks.\n",
      "\n",
      "           It defaults to blue,12 month ago,white,1 month ago,red, which colors\n",
      "           everything older than one year blue, recent changes between one month\n",
      "           and one year old are kept white, and lines introduced within the last\n",
      "           month are colored red.\n",
      "\n",
      "       color.blame.repeatedLines\n",
      "           Use the customized color for the part of git-blame output that is\n",
      "           repeated meta information per line (such as commit id, author name,\n",
      "           date and timezone). Defaults to cyan.\n",
      "\n",
      "       color.branch\n",
      "           A boolean to enable/disable color in the output of git-branch(1). May\n",
      "           be set to always, false (or never) or auto (or true), in which case\n",
      "           colors are used only when the output is to a terminal. If unset, then\n",
      "           the value of color.ui is used (auto by default).\n",
      "\n",
      "       color.branch.<slot>\n",
      "           Use customized color for branch coloration.  <slot> is one of current\n",
      "           (the current branch), local (a local branch), remote (a\n",
      "           remote-tracking branch in refs/remotes/), upstream (upstream tracking\n",
      "           branch), plain (other refs).\n",
      "\n",
      "       color.diff\n",
      "           Whether to use ANSI escape sequences to add color to patches. If this\n",
      "           is set to always, git-diff(1), git-log(1), and git-show(1) will use\n",
      "           color for all patches. If it is set to true or auto, those commands\n",
      "           will only use color when output is to the terminal. If unset, then\n",
      "           the value of color.ui is used (auto by default).\n",
      "\n",
      "           This does not affect git-format-patch(1) or the git-diff-* plumbing\n",
      "           commands. Can be overridden on the command line with the\n",
      "           --color[=<when>] option.\n",
      "\n",
      "       color.diff.<slot>\n",
      "           Use customized color for diff colorization.  <slot> specifies which\n",
      "           part of the patch to use the specified color, and is one of context\n",
      "           (context text - plain is a historical synonym), meta\n",
      "           (metainformation), frag (hunk header), func (function in hunk\n",
      "           header), old (removed lines), new (added lines), commit (commit\n",
      "           headers), whitespace (highlighting whitespace errors), oldMoved\n",
      "           (deleted lines), newMoved (added lines), oldMovedDimmed,\n",
      "           oldMovedAlternative, oldMovedAlternativeDimmed, newMovedDimmed,\n",
      "           newMovedAlternative newMovedAlternativeDimmed (See the <mode> setting\n",
      "           of --color-moved in git-diff(1) for details), contextDimmed,\n",
      "           oldDimmed, newDimmed, contextBold, oldBold, and newBold (see git-\n",
      "           range-diff(1) for details).\n",
      "\n",
      "       color.decorate.<slot>\n",
      "           Use customized color for git log --decorate output.  <slot> is one of\n",
      "           branch, remoteBranch, tag, stash or HEAD for local branches,\n",
      "           remote-tracking branches, tags, stash and HEAD, respectively and\n",
      "           grafted for grafted commits.\n",
      "\n",
      "       color.grep\n",
      "           When set to always, always highlight matches. When false (or never),\n",
      "           never. When set to true or auto, use color only when the output is\n",
      "           written to the terminal. If unset, then the value of color.ui is used\n",
      "           (auto by default).\n",
      "\n",
      "       color.grep.<slot>\n",
      "           Use customized color for grep colorization.  <slot> specifies which\n",
      "           part of the line to use the specified color, and is one of\n",
      "\n",
      "           context\n",
      "               non-matching text in context lines (when using -A, -B, or -C)\n",
      "\n",
      "           filename\n",
      "               filename prefix (when not using -h)\n",
      "\n",
      "           function\n",
      "               function name lines (when using -p)\n",
      "\n",
      "           lineNumber\n",
      "               line number prefix (when using -n)\n",
      "\n",
      "           column\n",
      "               column number prefix (when using --column)\n",
      "\n",
      "           match\n",
      "               matching text (same as setting matchContext and matchSelected)\n",
      "\n",
      "           matchContext\n",
      "               matching text in context lines\n",
      "\n",
      "           matchSelected\n",
      "               matching text in selected lines\n"
     ]
    },
    {
     "name": "stdout",
     "output_type": "stream",
     "text": [
      "\n",
      "           selected\n",
      "               non-matching text in selected lines\n",
      "\n",
      "           separator\n",
      "               separators between fields on a line (:, -, and =) and between\n",
      "               hunks (--)\n",
      "\n",
      "       color.interactive\n",
      "           When set to always, always use colors for interactive prompts and\n",
      "           displays (such as those used by \"git-add --interactive\" and\n",
      "           \"git-clean --interactive\"). When false (or never), never. When set to\n",
      "           true or auto, use colors only when the output is to the terminal. If\n",
      "           unset, then the value of color.ui is used (auto by default).\n",
      "\n",
      "       color.interactive.<slot>\n",
      "           Use customized color for git add --interactive and git clean\n",
      "           --interactive output.  <slot> may be prompt, header, help or error,\n",
      "           for four distinct types of normal output from interactive commands.\n",
      "\n",
      "       color.pager\n",
      "           A boolean to enable/disable colored output when the pager is in use\n",
      "           (default is true).\n",
      "\n",
      "       color.push\n",
      "           A boolean to enable/disable color in push errors. May be set to\n",
      "           always, false (or never) or auto (or true), in which case colors are\n",
      "           used only when the error output goes to a terminal. If unset, then\n",
      "           the value of color.ui is used (auto by default).\n",
      "\n",
      "       color.push.error\n",
      "           Use customized color for push errors.\n",
      "\n",
      "       color.remote\n",
      "           If set, keywords at the start of the line are highlighted. The\n",
      "           keywords are \"error\", \"warning\", \"hint\" and \"success\", and are\n",
      "           matched case-insensitively. May be set to always, false (or never) or\n",
      "           auto (or true). If unset, then the value of color.ui is used (auto by\n",
      "           default).\n",
      "\n",
      "       color.remote.<slot>\n",
      "           Use customized color for each remote keyword.  <slot> may be hint,\n",
      "           warning, success or error which match the corresponding keyword.\n",
      "\n",
      "       color.showBranch\n",
      "           A boolean to enable/disable color in the output of git-show-\n",
      "           branch(1). May be set to always, false (or never) or auto (or true),\n",
      "           in which case colors are used only when the output is to a terminal.\n",
      "           If unset, then the value of color.ui is used (auto by default).\n",
      "\n",
      "       color.status\n",
      "           A boolean to enable/disable color in the output of git-status(1). May\n",
      "           be set to always, false (or never) or auto (or true), in which case\n",
      "           colors are used only when the output is to a terminal. If unset, then\n",
      "           the value of color.ui is used (auto by default).\n",
      "\n",
      "       color.status.<slot>\n",
      "           Use customized color for status colorization.  <slot> is one of\n",
      "           header (the header text of the status message), added or updated\n",
      "           (files which are added but not committed), changed (files which are\n",
      "           changed but not added in the index), untracked (files which are not\n",
      "           tracked by Git), branch (the current branch), nobranch (the color the\n",
      "           no branch warning is shown in, defaulting to red), localBranch or\n",
      "           remoteBranch (the local and remote branch names, respectively, when\n",
      "           branch and tracking information is displayed in the status\n",
      "           short-format), or unmerged (files which have unmerged changes).\n",
      "\n",
      "       color.transport\n",
      "           A boolean to enable/disable color when pushes are rejected. May be\n",
      "           set to always, false (or never) or auto (or true), in which case\n",
      "           colors are used only when the error output goes to a terminal. If\n",
      "           unset, then the value of color.ui is used (auto by default).\n",
      "\n",
      "       color.transport.rejected\n",
      "           Use customized color when a push was rejected.\n",
      "\n",
      "       color.ui\n",
      "           This variable determines the default value for variables such as\n",
      "           color.diff and color.grep that control the use of color per command\n",
      "           family. Its scope will expand as more commands learn configuration to\n",
      "           set a default for the --color option. Set it to false or never if you\n",
      "           prefer Git commands not to use color unless enabled explicitly with\n",
      "           some other configuration or the --color option. Set it to always if\n",
      "           you want all output not intended for machine consumption to use\n",
      "           color, to true or auto (this is the default since Git 1.8.4) if you\n",
      "           want such output to use color when written to the terminal.\n",
      "\n",
      "       column.ui\n",
      "           Specify whether supported commands should output in columns. This\n",
      "           variable consists of a list of tokens separated by spaces or commas:\n",
      "\n",
      "           These options control when the feature should be enabled (defaults to\n",
      "           never):\n",
      "\n",
      "           always\n",
      "               always show in columns\n",
      "\n",
      "           never\n",
      "               never show in columns\n",
      "\n",
      "           auto\n",
      "               show in columns if the output is to the terminal\n",
      "\n",
      "           These options control layout (defaults to column). Setting any of\n",
      "           these implies always if none of always, never, or auto are specified.\n",
      "\n",
      "           column\n",
      "               fill columns before rows\n",
      "\n",
      "           row\n",
      "               fill rows before columns\n",
      "\n",
      "           plain\n",
      "               show in one column\n",
      "\n",
      "           Finally, these options can be combined with a layout option (defaults\n",
      "           to nodense):\n",
      "\n",
      "           dense\n",
      "               make unequal size columns to utilize more space\n",
      "\n",
      "           nodense\n",
      "               make equal size columns\n",
      "\n",
      "       column.branch\n",
      "           Specify whether to output branch listing in git branch in columns.\n",
      "           See column.ui for details.\n",
      "\n",
      "       column.clean\n",
      "           Specify the layout when list items in git clean -i, which always\n",
      "           shows files and directories in columns. See column.ui for details.\n",
      "\n",
      "       column.status\n",
      "           Specify whether to output untracked files in git status in columns.\n",
      "           See column.ui for details.\n",
      "\n",
      "       column.tag\n",
      "           Specify whether to output tag listing in git tag in columns. See\n",
      "           column.ui for details.\n",
      "\n",
      "       commit.cleanup\n",
      "           This setting overrides the default of the --cleanup option in git\n",
      "           commit. See git-commit(1) for details. Changing the default can be\n",
      "           useful when you always want to keep lines that begin with comment\n",
      "           character # in your log message, in which case you would do git\n",
      "           config commit.cleanup whitespace (note that you will have to remove\n",
      "           the help lines that begin with # in the commit log template yourself,\n",
      "           if you do this).\n",
      "\n",
      "       commit.gpgSign\n",
      "           A boolean to specify whether all commits should be GPG signed. Use of\n",
      "           this option when doing operations such as rebase can result in a\n",
      "           large number of commits being signed. It may be convenient to use an\n",
      "           agent to avoid typing your GPG passphrase several times.\n",
      "\n",
      "       commit.status\n",
      "           A boolean to enable/disable inclusion of status information in the\n",
      "           commit message template when using an editor to prepare the commit\n",
      "           message. Defaults to true.\n",
      "\n",
      "       commit.template\n",
      "           Specify the pathname of a file to use as the template for new commit\n",
      "           messages.\n",
      "\n",
      "       commit.verbose\n",
      "           A boolean or int to specify the level of verbose with git commit. See\n",
      "           git-commit(1).\n",
      "\n",
      "       commitGraph.maxNewFilters\n",
      "           Specifies the default value for the --max-new-filters option of git\n",
      "           commit-graph write (c.f., git-commit-graph(1)).\n",
      "\n",
      "       commitGraph.readChangedPaths\n",
      "           If true, then git will use the changed-path Bloom filters in the\n",
      "           commit-graph file (if it exists, and they are present). Defaults to\n",
      "           true. See git-commit-graph(1) for more information.\n",
      "\n",
      "       credential.helper\n",
      "           Specify an external helper to be called when a username or password\n",
      "           credential is needed; the helper may consult external storage to\n",
      "           avoid prompting the user for the credentials. This is normally the\n",
      "           name of a credential helper with possible arguments, but may also be\n",
      "           an absolute path with arguments or, if preceded by !, shell commands.\n"
     ]
    },
    {
     "name": "stdout",
     "output_type": "stream",
     "text": [
      "\n",
      "           Note that multiple helpers may be defined. See gitcredentials(7) for\n",
      "           details and examples.\n",
      "\n",
      "       credential.useHttpPath\n",
      "           When acquiring credentials, consider the \"path\" component of an http\n",
      "           or https URL to be important. Defaults to false. See\n",
      "           gitcredentials(7) for more information.\n",
      "\n",
      "       credential.username\n",
      "           If no username is set for a network authentication, use this username\n",
      "           by default. See credential.<context>.* below, and gitcredentials(7).\n",
      "\n",
      "       credential.<url>.*\n",
      "           Any of the credential.* options above can be applied selectively to\n",
      "           some credentials. For example\n",
      "           \"credential.https://example.com.username\" would set the default\n",
      "           username only for https connections to example.com. See\n",
      "           gitcredentials(7) for details on how URLs are matched.\n",
      "\n",
      "       credentialCache.ignoreSIGHUP\n",
      "           Tell git-credential-cache—daemon to ignore SIGHUP, instead of\n",
      "           quitting.\n",
      "\n",
      "       credentialStore.lockTimeoutMS\n",
      "           The length of time, in milliseconds, for git-credential-store to\n",
      "           retry when trying to lock the credentials file. Value 0 means not to\n",
      "           retry at all; -1 means to try indefinitely. Default is 1000 (i.e.,\n",
      "           retry for 1s).\n",
      "\n",
      "       completion.commands\n",
      "           This is only used by git-completion.bash to add or remove commands\n",
      "           from the list of completed commands. Normally only porcelain commands\n",
      "           and a few select others are completed. You can add more commands,\n",
      "           separated by space, in this variable. Prefixing the command with -\n",
      "           will remove it from the existing list.\n",
      "\n",
      "       diff.autoRefreshIndex\n",
      "           When using git diff to compare with work tree files, do not consider\n",
      "           stat-only change as changed. Instead, silently run git update-index\n",
      "           --refresh to update the cached stat information for paths whose\n",
      "           contents in the work tree match the contents in the index. This\n",
      "           option defaults to true. Note that this affects only git diff\n",
      "           Porcelain, and not lower level diff commands such as git diff-files.\n",
      "\n",
      "       diff.dirstat\n",
      "           A comma separated list of --dirstat parameters specifying the default\n",
      "           behavior of the --dirstat option to git-diff(1) and friends. The\n",
      "           defaults can be overridden on the command line (using\n",
      "           --dirstat=<param1,param2,...>). The fallback defaults (when not\n",
      "           changed by diff.dirstat) are changes,noncumulative,3. The following\n",
      "           parameters are available:\n",
      "\n",
      "           changes\n",
      "               Compute the dirstat numbers by counting the lines that have been\n",
      "               removed from the source, or added to the destination. This\n",
      "               ignores the amount of pure code movements within a file. In other\n",
      "               words, rearranging lines in a file is not counted as much as\n",
      "               other changes. This is the default behavior when no parameter is\n",
      "               given.\n",
      "\n",
      "           lines\n",
      "               Compute the dirstat numbers by doing the regular line-based diff\n",
      "               analysis, and summing the removed/added line counts. (For binary\n",
      "               files, count 64-byte chunks instead, since binary files have no\n",
      "               natural concept of lines). This is a more expensive --dirstat\n",
      "               behavior than the changes behavior, but it does count rearranged\n",
      "               lines within a file as much as other changes. The resulting\n",
      "               output is consistent with what you get from the other --*stat\n",
      "               options.\n",
      "\n",
      "           files\n",
      "               Compute the dirstat numbers by counting the number of files\n",
      "               changed. Each changed file counts equally in the dirstat\n",
      "               analysis. This is the computationally cheapest --dirstat\n",
      "               behavior, since it does not have to look at the file contents at\n",
      "               all.\n",
      "\n",
      "           cumulative\n",
      "               Count changes in a child directory for the parent directory as\n",
      "               well. Note that when using cumulative, the sum of the percentages\n",
      "               reported may exceed 100%. The default (non-cumulative) behavior\n",
      "               can be specified with the noncumulative parameter.\n",
      "\n",
      "           <limit>\n",
      "               An integer parameter specifies a cut-off percent (3% by default).\n",
      "               Directories contributing less than this percentage of the changes\n",
      "               are not shown in the output.\n",
      "\n",
      "           Example: The following will count changed files, while ignoring\n",
      "           directories with less than 10% of the total amount of changed files,\n",
      "           and accumulating child directory counts in the parent directories:\n",
      "           files,10,cumulative.\n",
      "\n",
      "       diff.statGraphWidth\n",
      "           Limit the width of the graph part in --stat output. If set, applies\n",
      "           to all commands generating --stat output except format-patch.\n",
      "\n",
      "       diff.context\n",
      "           Generate diffs with <n> lines of context instead of the default of 3.\n",
      "           This value is overridden by the -U option.\n",
      "\n",
      "       diff.interHunkContext\n",
      "           Show the context between diff hunks, up to the specified number of\n",
      "           lines, thereby fusing the hunks that are close to each other. This\n",
      "           value serves as the default for the --inter-hunk-context command line\n",
      "           option.\n",
      "\n",
      "       diff.external\n",
      "           If this config variable is set, diff generation is not performed\n",
      "           using the internal diff machinery, but using the given command. Can\n",
      "           be overridden with the ‘GIT_EXTERNAL_DIFF’ environment variable. The\n",
      "           command is called with parameters as described under \"git Diffs\" in\n",
      "           git(1). Note: if you want to use an external diff program only on a\n",
      "           subset of your files, you might want to use gitattributes(5) instead.\n",
      "\n",
      "       diff.ignoreSubmodules\n",
      "           Sets the default value of --ignore-submodules. Note that this affects\n",
      "           only git diff Porcelain, and not lower level diff commands such as\n",
      "           git diff-files.  git checkout and git switch also honor this setting\n",
      "           when reporting uncommitted changes. Setting it to all disables the\n",
      "           submodule summary normally shown by git commit and git status when\n",
      "           status.submoduleSummary is set unless it is overridden by using the\n",
      "           --ignore-submodules command-line option. The git submodule commands\n",
      "           are not affected by this setting. By default this is set to untracked\n",
      "           so that any untracked submodules are ignored.\n",
      "\n",
      "       diff.mnemonicPrefix\n",
      "           If set, git diff uses a prefix pair that is different from the\n",
      "           standard \"a/\" and \"b/\" depending on what is being compared. When this\n",
      "           configuration is in effect, reverse diff output also swaps the order\n",
      "           of the prefixes:\n",
      "\n",
      "           git diff\n",
      "               compares the (i)ndex and the (w)ork tree;\n",
      "\n",
      "           git diff HEAD\n",
      "               compares a (c)ommit and the (w)ork tree;\n",
      "\n",
      "           git diff --cached\n",
      "               compares a (c)ommit and the (i)ndex;\n",
      "\n",
      "           git diff HEAD:file1 file2\n",
      "               compares an (o)bject and a (w)ork tree entity;\n",
      "\n",
      "           git diff --no-index a b\n",
      "               compares two non-git things (1) and (2).\n",
      "\n",
      "       diff.noprefix\n",
      "           If set, git diff does not show any source or destination prefix.\n",
      "\n",
      "       diff.relative\n",
      "           If set to true, git diff does not show changes outside of the\n",
      "           directory and show pathnames relative to the current directory.\n",
      "\n",
      "       diff.orderFile\n",
      "           File indicating how to order files within a diff. See the -O option\n",
      "           to git-diff(1) for details. If diff.orderFile is a relative pathname,\n",
      "           it is treated as relative to the top of the working tree.\n",
      "\n",
      "       diff.renameLimit\n",
      "           The number of files to consider when performing the copy/rename\n",
      "           detection; equivalent to the git diff option -l. This setting has no\n",
      "           effect if rename detection is turned off.\n",
      "\n",
      "       diff.renames\n",
      "           Whether and how Git detects renames. If set to \"false\", rename\n"
     ]
    },
    {
     "name": "stdout",
     "output_type": "stream",
     "text": [
      "           detection is disabled. If set to \"true\", basic rename detection is\n",
      "           enabled. If set to \"copies\" or \"copy\", Git will detect copies, as\n",
      "           well. Defaults to true. Note that this affects only git diff\n",
      "           Porcelain like git-diff(1) and git-log(1), and not lower level\n",
      "           commands such as git-diff-files(1).\n",
      "\n",
      "       diff.suppressBlankEmpty\n",
      "           A boolean to inhibit the standard behavior of printing a space before\n",
      "           each empty output line. Defaults to false.\n",
      "\n",
      "       diff.submodule\n",
      "           Specify the format in which differences in submodules are shown. The\n",
      "           \"short\" format just shows the names of the commits at the beginning\n",
      "           and end of the range. The \"log\" format lists the commits in the range\n",
      "           like git-submodule(1) summary does. The \"diff\" format shows an inline\n",
      "           diff of the changed contents of the submodule. Defaults to \"short\".\n",
      "\n",
      "       diff.wordRegex\n",
      "           A POSIX Extended Regular Expression used to determine what is a\n",
      "           \"word\" when performing word-by-word difference calculations.\n",
      "           Character sequences that match the regular expression are \"words\",\n",
      "           all other characters are ignorable whitespace.\n",
      "\n",
      "       diff.<driver>.command\n",
      "           The custom diff driver command. See gitattributes(5) for details.\n",
      "\n",
      "       diff.<driver>.xfuncname\n",
      "           The regular expression that the diff driver should use to recognize\n",
      "           the hunk header. A built-in pattern may also be used. See\n",
      "           gitattributes(5) for details.\n",
      "\n",
      "       diff.<driver>.binary\n",
      "           Set this option to true to make the diff driver treat files as\n",
      "           binary. See gitattributes(5) for details.\n",
      "\n",
      "       diff.<driver>.textconv\n",
      "           The command that the diff driver should call to generate the\n",
      "           text-converted version of a file. The result of the conversion is\n",
      "           used to generate a human-readable diff. See gitattributes(5) for\n",
      "           details.\n",
      "\n",
      "       diff.<driver>.wordRegex\n",
      "           The regular expression that the diff driver should use to split words\n",
      "           in a line. See gitattributes(5) for details.\n",
      "\n",
      "       diff.<driver>.cachetextconv\n",
      "           Set this option to true to make the diff driver cache the text\n",
      "           conversion outputs. See gitattributes(5) for details.\n",
      "\n",
      "       diff.tool\n",
      "           Controls which diff tool is used by git-difftool(1). This variable\n",
      "           overrides the value configured in merge.tool. The list below shows\n",
      "           the valid built-in values. Any other value is treated as a custom\n",
      "           diff tool and requires that a corresponding difftool.<tool>.cmd\n",
      "           variable is defined.\n",
      "\n",
      "       diff.guitool\n",
      "           Controls which diff tool is used by git-difftool(1) when the -g/--gui\n",
      "           flag is specified. This variable overrides the value configured in\n",
      "           merge.guitool. The list below shows the valid built-in values. Any\n",
      "           other value is treated as a custom diff tool and requires that a\n",
      "           corresponding difftool.<guitool>.cmd variable is defined.\n",
      "\n",
      "           •   araxis\n",
      "\n",
      "           •   bc\n",
      "\n",
      "           •   bc3\n",
      "\n",
      "           •   bc4\n",
      "\n",
      "           •   codecompare\n",
      "\n",
      "           •   deltawalker\n",
      "\n",
      "           •   diffmerge\n",
      "\n",
      "           •   diffuse\n",
      "\n",
      "           •   ecmerge\n",
      "\n",
      "           •   emerge\n",
      "\n",
      "           •   examdiff\n",
      "\n",
      "           •   guiffy\n",
      "\n",
      "           •   gvimdiff\n",
      "\n",
      "           •   gvimdiff2\n",
      "\n",
      "           •   gvimdiff3\n",
      "\n",
      "           •   kdiff3\n",
      "\n",
      "           •   kompare\n",
      "\n",
      "           •   meld\n",
      "\n",
      "           •   nvimdiff\n",
      "\n",
      "           •   nvimdiff2\n",
      "\n",
      "           •   nvimdiff3\n",
      "\n",
      "           •   opendiff\n",
      "\n",
      "           •   p4merge\n",
      "\n",
      "           •   smerge\n",
      "\n",
      "           •   tkdiff\n",
      "\n",
      "           •   vimdiff\n",
      "\n",
      "           •   vimdiff2\n",
      "\n",
      "           •   vimdiff3\n",
      "\n",
      "           •   winmerge\n",
      "\n",
      "           •   xxdiff\n",
      "\n",
      "       diff.indentHeuristic\n",
      "           Set this option to false to disable the default heuristics that shift\n",
      "           diff hunk boundaries to make patches easier to read.\n",
      "\n",
      "       diff.algorithm\n",
      "           Choose a diff algorithm. The variants are as follows:\n",
      "\n",
      "           default, myers\n",
      "               The basic greedy diff algorithm. Currently, this is the default.\n",
      "\n",
      "           minimal\n",
      "               Spend extra time to make sure the smallest possible diff is\n",
      "               produced.\n",
      "\n",
      "           patience\n",
      "               Use \"patience diff\" algorithm when generating patches.\n",
      "\n",
      "           histogram\n",
      "               This algorithm extends the patience algorithm to \"support\n",
      "               low-occurrence common elements\".\n",
      "\n",
      "       diff.wsErrorHighlight\n",
      "           Highlight whitespace errors in the context, old or new lines of the\n",
      "           diff. Multiple values are separated by comma, none resets previous\n",
      "           values, default reset the list to new and all is a shorthand for\n",
      "           old,new,context. The whitespace errors are colored with\n",
      "           color.diff.whitespace. The command line option\n",
      "           --ws-error-highlight=<kind> overrides this setting.\n",
      "\n",
      "       diff.colorMoved\n",
      "           If set to either a valid <mode> or a true value, moved lines in a\n",
      "           diff are colored differently, for details of valid modes see\n",
      "           --color-moved in git-diff(1). If simply set to true the default color\n",
      "           mode will be used. When set to false, moved lines are not colored.\n",
      "\n",
      "       diff.colorMovedWS\n",
      "           When moved lines are colored using e.g. the diff.colorMoved setting,\n",
      "           this option controls the <mode> how spaces are treated for details of\n",
      "           valid modes see --color-moved-ws in git-diff(1).\n",
      "\n",
      "       difftool.<tool>.path\n",
      "           Override the path for the given tool. This is useful in case your\n",
      "           tool is not in the PATH.\n",
      "\n",
      "       difftool.<tool>.cmd\n",
      "           Specify the command to invoke the specified diff tool. The specified\n",
      "           command is evaluated in shell with the following variables available:\n",
      "           LOCAL is set to the name of the temporary file containing the\n",
      "           contents of the diff pre-image and REMOTE is set to the name of the\n",
      "           temporary file containing the contents of the diff post-image.\n",
      "\n",
      "       difftool.prompt\n",
      "           Prompt before each invocation of the diff tool.\n",
      "\n",
      "       extensions.objectFormat\n",
      "           Specify the hash algorithm to use. The acceptable values are sha1 and\n",
      "           sha256. If not specified, sha1 is assumed. It is an error to specify\n",
      "           this key unless core.repositoryFormatVersion is 1.\n",
      "\n",
      "           Note that this setting should only be set by git-init(1) or git-\n",
      "           clone(1). Trying to change it after initialization will not work and\n",
      "           will produce hard-to-diagnose issues.\n",
      "\n",
      "       fastimport.unpackLimit\n",
      "           If the number of objects imported by git-fast-import(1) is below this\n",
      "           limit, then the objects will be unpacked into loose object files.\n",
      "           However if the number of imported objects equals or exceeds this\n",
      "           limit then the pack will be stored as a pack. Storing the pack from a\n",
      "           fast-import can make the import operation complete faster, especially\n",
      "           on slow filesystems. If not set, the value of transfer.unpackLimit is\n",
      "           used instead.\n",
      "\n",
      "       feature.*\n",
      "           The config settings that start with feature. modify the defaults of a\n",
      "           group of other config settings. These groups are created by the Git\n",
      "           developer community as recommended defaults and are subject to\n",
      "           change. In particular, new config options may be added with different\n",
      "           defaults.\n",
      "\n",
      "       feature.experimental\n",
      "           Enable config options that are new to Git, and are being considered\n",
      "           for future defaults. Config settings included here may be added or\n",
      "           removed with each release, including minor version updates. These\n",
      "           settings may have unintended interactions since they are so new.\n",
      "           Please enable this setting if you are interested in providing\n",
      "           feedback on experimental features. The new default values are:\n",
      "\n",
      "           •   fetch.negotiationAlgorithm=skipping may improve fetch negotiation\n",
      "               times by skipping more commits at a time, reducing the number of\n"
     ]
    },
    {
     "name": "stdout",
     "output_type": "stream",
     "text": [
      "               round trips.\n",
      "\n",
      "       feature.manyFiles\n",
      "           Enable config options that optimize for repos with many files in the\n",
      "           working directory. With many files, commands such as git status and\n",
      "           git checkout may be slow and these new defaults improve performance:\n",
      "\n",
      "           •   index.version=4 enables path-prefix compression in the index.\n",
      "\n",
      "           •   core.untrackedCache=true enables the untracked cache. This\n",
      "               setting assumes that mtime is working on your machine.\n",
      "\n",
      "       fetch.recurseSubmodules\n",
      "           This option controls whether git fetch (and the underlying fetch in\n",
      "           git pull) will recursively fetch into populated submodules. This\n",
      "           option can be set either to a boolean value or to on-demand. Setting\n",
      "           it to a boolean changes the behavior of fetch and pull to recurse\n",
      "           unconditionally into submodules when set to true or to not recurse at\n",
      "           all when set to false. When set to on-demand, fetch and pull will\n",
      "           only recurse into a populated submodule when its superproject\n",
      "           retrieves a commit that updates the submodule’s reference. Defaults\n",
      "           to on-demand, or to the value of submodule.recurse if set.\n",
      "\n",
      "       fetch.fsckObjects\n",
      "           If it is set to true, git-fetch-pack will check all fetched objects.\n",
      "           See transfer.fsckObjects for what’s checked. Defaults to false. If\n",
      "           not set, the value of transfer.fsckObjects is used instead.\n",
      "\n",
      "       fetch.fsck.<msg-id>\n",
      "           Acts like fsck.<msg-id>, but is used by git-fetch-pack(1) instead of\n",
      "           git-fsck(1). See the fsck.<msg-id> documentation for details.\n",
      "\n",
      "       fetch.fsck.skipList\n",
      "           Acts like fsck.skipList, but is used by git-fetch-pack(1) instead of\n",
      "           git-fsck(1). See the fsck.skipList documentation for details.\n",
      "\n",
      "       fetch.unpackLimit\n",
      "           If the number of objects fetched over the Git native transfer is\n",
      "           below this limit, then the objects will be unpacked into loose object\n",
      "           files. However if the number of received objects equals or exceeds\n",
      "           this limit then the received pack will be stored as a pack, after\n",
      "           adding any missing delta bases. Storing the pack from a push can make\n",
      "           the push operation complete faster, especially on slow filesystems.\n",
      "           If not set, the value of transfer.unpackLimit is used instead.\n",
      "\n",
      "       fetch.prune\n",
      "           If true, fetch will automatically behave as if the --prune option was\n",
      "           given on the command line. See also remote.<name>.prune and the\n",
      "           PRUNING section of git-fetch(1).\n",
      "\n",
      "       fetch.pruneTags\n",
      "           If true, fetch will automatically behave as if the\n",
      "           refs/tags/*:refs/tags/* refspec was provided when pruning, if not set\n",
      "           already. This allows for setting both this option and fetch.prune to\n",
      "           maintain a 1=1 mapping to upstream refs. See also\n",
      "           remote.<name>.pruneTags and the PRUNING section of git-fetch(1).\n",
      "\n",
      "       fetch.output\n",
      "           Control how ref update status is printed. Valid values are full and\n",
      "           compact. Default value is full. See section OUTPUT in git-fetch(1)\n",
      "           for detail.\n",
      "\n",
      "       fetch.negotiationAlgorithm\n",
      "           Control how information about the commits in the local repository is\n",
      "           sent when negotiating the contents of the packfile to be sent by the\n",
      "           server. Set to \"skipping\" to use an algorithm that skips commits in\n",
      "           an effort to converge faster, but may result in a\n",
      "           larger-than-necessary packfile; or set to \"noop\" to not send any\n",
      "           information at all, which will almost certainly result in a\n",
      "           larger-than-necessary packfile, but will skip the negotiation step.\n",
      "           The default is \"default\" which instructs Git to use the default\n",
      "           algorithm that never skips commits (unless the server has\n",
      "           acknowledged it or one of its descendants). If feature.experimental\n",
      "           is enabled, then this setting defaults to \"skipping\". Unknown values\n",
      "           will cause git fetch to error out.\n",
      "\n",
      "           See also the --negotiation-tip option for git-fetch(1).\n",
      "\n",
      "       fetch.showForcedUpdates\n",
      "           Set to false to enable --no-show-forced-updates in git-fetch(1) and\n",
      "           git-pull(1) commands. Defaults to true.\n",
      "\n",
      "       fetch.parallel\n",
      "           Specifies the maximal number of fetch operations to be run in\n",
      "           parallel at a time (submodules, or remotes when the --multiple option\n",
      "           of git-fetch(1) is in effect).\n",
      "\n",
      "           A value of 0 will give some reasonable default. If unset, it defaults\n",
      "           to 1.\n",
      "\n",
      "           For submodules, this setting can be overridden using the\n",
      "           submodule.fetchJobs config setting.\n",
      "\n",
      "       fetch.writeCommitGraph\n",
      "           Set to true to write a commit-graph after every git fetch command\n",
      "           that downloads a pack-file from a remote. Using the --split option,\n",
      "           most executions will create a very small commit-graph file on top of\n",
      "           the existing commit-graph file(s). Occasionally, these files will\n",
      "           merge and the write may take longer. Having an updated commit-graph\n",
      "           file helps performance of many Git commands, including git\n",
      "           merge-base, git push -f, and git log --graph. Defaults to false.\n",
      "\n",
      "       format.attach\n",
      "           Enable multipart/mixed attachments as the default for format-patch.\n",
      "           The value can also be a double quoted string which will enable\n",
      "           attachments as the default and set the value as the boundary. See the\n",
      "           --attach option in git-format-patch(1).\n",
      "\n",
      "       format.from\n",
      "           Provides the default value for the --from option to format-patch.\n",
      "           Accepts a boolean value, or a name and email address. If false,\n",
      "           format-patch defaults to --no-from, using commit authors directly in\n",
      "           the \"From:\" field of patch mails. If true, format-patch defaults to\n",
      "           --from, using your committer identity in the \"From:\" field of patch\n",
      "           mails and including a \"From:\" field in the body of the patch mail if\n",
      "           different. If set to a non-boolean value, format-patch uses that\n",
      "           value instead of your committer identity. Defaults to false.\n",
      "\n",
      "       format.numbered\n",
      "           A boolean which can enable or disable sequence numbers in patch\n",
      "           subjects. It defaults to \"auto\" which enables it only if there is\n",
      "           more than one patch. It can be enabled or disabled for all messages\n",
      "           by setting it to \"true\" or \"false\". See --numbered option in git-\n",
      "           format-patch(1).\n",
      "\n",
      "       format.headers\n",
      "           Additional email headers to include in a patch to be submitted by\n",
      "           mail. See git-format-patch(1).\n",
      "\n",
      "       format.to, format.cc\n",
      "           Additional recipients to include in a patch to be submitted by mail.\n",
      "           See the --to and --cc options in git-format-patch(1).\n",
      "\n",
      "       format.subjectPrefix\n",
      "           The default for format-patch is to output files with the [PATCH]\n",
      "           subject prefix. Use this variable to change that prefix.\n",
      "\n",
      "       format.coverFromDescription\n",
      "           The default mode for format-patch to determine which parts of the\n",
      "           cover letter will be populated using the branch’s description. See\n",
      "           the --cover-from-description option in git-format-patch(1).\n",
      "\n",
      "       format.signature\n",
      "           The default for format-patch is to output a signature containing the\n",
      "           Git version number. Use this variable to change that default. Set\n",
      "           this variable to the empty string (\"\") to suppress signature\n",
      "           generation.\n",
      "\n",
      "       format.signatureFile\n",
      "           Works just like format.signature except the contents of the file\n",
      "           specified by this variable will be used as the signature.\n",
      "\n",
      "       format.suffix\n",
      "           The default for format-patch is to output files with the suffix\n",
      "           .patch. Use this variable to change that suffix (make sure to include\n",
      "           the dot if you want it).\n",
      "\n",
      "       format.encodeEmailHeaders\n",
      "           Encode email headers that have non-ASCII characters with \"Q-encoding\"\n"
     ]
    },
    {
     "name": "stdout",
     "output_type": "stream",
     "text": [
      "           (described in RFC 2047) for email transmission. Defaults to true.\n",
      "\n",
      "       format.pretty\n",
      "           The default pretty format for log/show/whatchanged command, See git-\n",
      "           log(1), git-show(1), git-whatchanged(1).\n",
      "\n",
      "       format.thread\n",
      "           The default threading style for git format-patch. Can be a boolean\n",
      "           value, or shallow or deep.  shallow threading makes every mail a\n",
      "           reply to the head of the series, where the head is chosen from the\n",
      "           cover letter, the --in-reply-to, and the first patch mail, in this\n",
      "           order.  deep threading makes every mail a reply to the previous one.\n",
      "           A true boolean value is the same as shallow, and a false value\n",
      "           disables threading.\n",
      "\n",
      "       format.signOff\n",
      "           A boolean value which lets you enable the -s/--signoff option of\n",
      "           format-patch by default.  Note: Adding the Signed-off-by trailer to a\n",
      "           patch should be a conscious act and means that you certify you have\n",
      "           the rights to submit this work under the same open source license.\n",
      "           Please see the SubmittingPatches document for further discussion.\n",
      "\n",
      "       format.coverLetter\n",
      "           A boolean that controls whether to generate a cover-letter when\n",
      "           format-patch is invoked, but in addition can be set to \"auto\", to\n",
      "           generate a cover-letter only when there’s more than one patch.\n",
      "           Default is false.\n",
      "\n",
      "       format.outputDirectory\n",
      "           Set a custom directory to store the resulting files instead of the\n",
      "           current working directory. All directory components will be created.\n",
      "\n",
      "       format.filenameMaxLength\n",
      "           The maximum length of the output filenames generated by the\n",
      "           format-patch command; defaults to 64. Can be overridden by the\n",
      "           --filename-max-length=<n> command line option.\n",
      "\n",
      "       format.useAutoBase\n",
      "           A boolean value which lets you enable the --base=auto option of\n",
      "           format-patch by default. Can also be set to \"whenAble\" to allow\n",
      "           enabling --base=auto if a suitable base is available, but to skip\n",
      "           adding base info otherwise without the format dying.\n",
      "\n",
      "       format.notes\n",
      "           Provides the default value for the --notes option to format-patch.\n",
      "           Accepts a boolean value, or a ref which specifies where to get notes.\n",
      "           If false, format-patch defaults to --no-notes. If true, format-patch\n",
      "           defaults to --notes. If set to a non-boolean value, format-patch\n",
      "           defaults to --notes=<ref>, where ref is the non-boolean value.\n",
      "           Defaults to false.\n",
      "\n",
      "           If one wishes to use the ref ref/notes/true, please use that literal\n",
      "           instead.\n",
      "\n",
      "           This configuration can be specified multiple times in order to allow\n",
      "           multiple notes refs to be included. In that case, it will behave\n",
      "           similarly to multiple --[no-]notes[=] options passed in. That is, a\n",
      "           value of true will show the default notes, a value of <ref> will also\n",
      "           show notes from that notes ref and a value of false will negate\n",
      "           previous configurations and not show notes.\n",
      "\n",
      "           For example,\n",
      "\n",
      "               [format]\n",
      "                       notes = true\n",
      "                       notes = foo\n",
      "                       notes = false\n",
      "                       notes = bar\n",
      "\n",
      "           will only show notes from refs/notes/bar.\n",
      "\n",
      "       filter.<driver>.clean\n",
      "           The command which is used to convert the content of a worktree file\n",
      "           to a blob upon checkin. See gitattributes(5) for details.\n",
      "\n",
      "       filter.<driver>.smudge\n",
      "           The command which is used to convert the content of a blob object to\n",
      "           a worktree file upon checkout. See gitattributes(5) for details.\n",
      "\n",
      "       fsck.<msg-id>\n",
      "           During fsck git may find issues with legacy data which wouldn’t be\n",
      "           generated by current versions of git, and which wouldn’t be sent over\n",
      "           the wire if transfer.fsckObjects was set. This feature is intended to\n",
      "           support working with legacy repositories containing such data.\n",
      "\n",
      "           Setting fsck.<msg-id> will be picked up by git-fsck(1), but to accept\n",
      "           pushes of such data set receive.fsck.<msg-id> instead, or to clone or\n",
      "           fetch it set fetch.fsck.<msg-id>.\n",
      "\n",
      "           The rest of the documentation discusses fsck.* for brevity, but the\n",
      "           same applies for the corresponding receive.fsck.* and\n",
      "           fetch.<msg-id>.*. variables.\n",
      "\n",
      "           Unlike variables like color.ui and core.editor the\n",
      "           receive.fsck.<msg-id> and fetch.fsck.<msg-id> variables will not fall\n",
      "           back on the fsck.<msg-id> configuration if they aren’t set. To\n",
      "           uniformly configure the same fsck settings in different circumstances\n",
      "           all three of them they must all set to the same values.\n",
      "\n",
      "           When fsck.<msg-id> is set, errors can be switched to warnings and\n",
      "           vice versa by configuring the fsck.<msg-id> setting where the\n",
      "           <msg-id> is the fsck message ID and the value is one of error, warn\n",
      "           or ignore. For convenience, fsck prefixes the error/warning with the\n",
      "           message ID, e.g. \"missingEmail: invalid author/committer line -\n",
      "           missing email\" means that setting fsck.missingEmail = ignore will\n",
      "           hide that issue.\n",
      "\n",
      "           In general, it is better to enumerate existing objects with problems\n",
      "           with fsck.skipList, instead of listing the kind of breakages these\n",
      "           problematic objects share to be ignored, as doing the latter will\n",
      "           allow new instances of the same breakages go unnoticed.\n",
      "\n",
      "           Setting an unknown fsck.<msg-id> value will cause fsck to die, but\n",
      "           doing the same for receive.fsck.<msg-id> and fetch.fsck.<msg-id> will\n",
      "           only cause git to warn.\n",
      "\n",
      "       fsck.skipList\n",
      "           The path to a list of object names (i.e. one unabbreviated SHA-1 per\n",
      "           line) that are known to be broken in a non-fatal way and should be\n",
      "           ignored. On versions of Git 2.20 and later comments (#), empty lines,\n",
      "           and any leading and trailing whitespace is ignored. Everything but a\n",
      "           SHA-1 per line will error out on older versions.\n",
      "\n",
      "           This feature is useful when an established project should be accepted\n",
      "           despite early commits containing errors that can be safely ignored\n",
      "           such as invalid committer email addresses. Note: corrupt objects\n",
      "           cannot be skipped with this setting.\n",
      "\n",
      "           Like fsck.<msg-id> this variable has corresponding\n",
      "           receive.fsck.skipList and fetch.fsck.skipList variants.\n",
      "\n",
      "           Unlike variables like color.ui and core.editor the\n",
      "           receive.fsck.skipList and fetch.fsck.skipList variables will not fall\n",
      "           back on the fsck.skipList configuration if they aren’t set. To\n",
      "           uniformly configure the same fsck settings in different circumstances\n",
      "           all three of them they must all set to the same values.\n",
      "\n",
      "           Older versions of Git (before 2.20) documented that the object names\n",
      "           list should be sorted. This was never a requirement, the object names\n",
      "           could appear in any order, but when reading the list we tracked\n",
      "           whether the list was sorted for the purposes of an internal binary\n",
      "           search implementation, which could save itself some work with an\n",
      "           already sorted list. Unless you had a humongous list there was no\n",
      "           reason to go out of your way to pre-sort the list. After Git version\n",
      "           2.20 a hash implementation is used instead, so there’s now no reason\n",
      "           to pre-sort the list.\n",
      "\n",
      "       gc.aggressiveDepth\n",
      "           The depth parameter used in the delta compression algorithm used by\n",
      "           git gc --aggressive. This defaults to 50, which is the default for\n",
      "           the --depth option when --aggressive isn’t in use.\n",
      "\n",
      "           See the documentation for the --depth option in git-repack(1) for\n",
      "           more details.\n",
      "\n",
      "       gc.aggressiveWindow\n",
      "           The window size parameter used in the delta compression algorithm\n",
      "           used by git gc --aggressive. This defaults to 250, which is a much\n"
     ]
    },
    {
     "name": "stdout",
     "output_type": "stream",
     "text": [
      "           more aggressive window size than the default --window of 10.\n",
      "\n",
      "           See the documentation for the --window option in git-repack(1) for\n",
      "           more details.\n",
      "\n",
      "       gc.auto\n",
      "           When there are approximately more than this many loose objects in the\n",
      "           repository, git gc --auto will pack them. Some Porcelain commands use\n",
      "           this command to perform a light-weight garbage collection from time\n",
      "           to time. The default value is 6700.\n",
      "\n",
      "           Setting this to 0 disables not only automatic packing based on the\n",
      "           number of loose objects, but any other heuristic git gc --auto will\n",
      "           otherwise use to determine if there’s work to do, such as\n",
      "           gc.autoPackLimit.\n",
      "\n",
      "       gc.autoPackLimit\n",
      "           When there are more than this many packs that are not marked with\n",
      "           *.keep file in the repository, git gc --auto consolidates them into\n",
      "           one larger pack. The default value is 50. Setting this to 0 disables\n",
      "           it. Setting gc.auto to 0 will also disable this.\n",
      "\n",
      "           See the gc.bigPackThreshold configuration variable below. When in\n",
      "           use, it’ll affect how the auto pack limit works.\n",
      "\n",
      "       gc.autoDetach\n",
      "           Make git gc --auto return immediately and run in background if the\n",
      "           system supports it. Default is true.\n",
      "\n",
      "       gc.bigPackThreshold\n",
      "           If non-zero, all packs larger than this limit are kept when git gc is\n",
      "           run. This is very similar to --keep-largest-pack except that all\n",
      "           packs that meet the threshold are kept, not just the largest pack.\n",
      "           Defaults to zero. Common unit suffixes of k, m, or g are supported.\n",
      "\n",
      "           Note that if the number of kept packs is more than gc.autoPackLimit,\n",
      "           this configuration variable is ignored, all packs except the base\n",
      "           pack will be repacked. After this the number of packs should go below\n",
      "           gc.autoPackLimit and gc.bigPackThreshold should be respected again.\n",
      "\n",
      "           If the amount of memory estimated for git repack to run smoothly is\n",
      "           not available and gc.bigPackThreshold is not set, the largest pack\n",
      "           will also be excluded (this is the equivalent of running git gc with\n",
      "           --keep-largest-pack).\n",
      "\n",
      "       gc.writeCommitGraph\n",
      "           If true, then gc will rewrite the commit-graph file when git-gc(1) is\n",
      "           run. When using git gc --auto the commit-graph will be updated if\n",
      "           housekeeping is required. Default is true. See git-commit-graph(1)\n",
      "           for details.\n",
      "\n",
      "       gc.logExpiry\n",
      "           If the file gc.log exists, then git gc --auto will print its content\n",
      "           and exit with status zero instead of running unless that file is more\n",
      "           than gc.logExpiry old. Default is \"1.day\". See gc.pruneExpire for\n",
      "           more ways to specify its value.\n",
      "\n",
      "       gc.packRefs\n",
      "           Running git pack-refs in a repository renders it unclonable by Git\n",
      "           versions prior to 1.5.1.2 over dumb transports such as HTTP. This\n",
      "           variable determines whether git gc runs git pack-refs. This can be\n",
      "           set to notbare to enable it within all non-bare repos or it can be\n",
      "           set to a boolean value. The default is true.\n",
      "\n",
      "       gc.pruneExpire\n",
      "           When git gc is run, it will call prune --expire 2.weeks.ago. Override\n",
      "           the grace period with this config variable. The value \"now\" may be\n",
      "           used to disable this grace period and always prune unreachable\n",
      "           objects immediately, or \"never\" may be used to suppress pruning. This\n",
      "           feature helps prevent corruption when git gc runs concurrently with\n",
      "           another process writing to the repository; see the \"NOTES\" section of\n",
      "           git-gc(1).\n",
      "\n",
      "       gc.worktreePruneExpire\n",
      "           When git gc is run, it calls git worktree prune --expire\n",
      "           3.months.ago. This config variable can be used to set a different\n",
      "           grace period. The value \"now\" may be used to disable the grace period\n",
      "           and prune $GIT_DIR/worktrees immediately, or \"never\" may be used to\n",
      "           suppress pruning.\n",
      "\n",
      "       gc.reflogExpire, gc.<pattern>.reflogExpire\n",
      "           git reflog expire removes reflog entries older than this time;\n",
      "           defaults to 90 days. The value \"now\" expires all entries immediately,\n",
      "           and \"never\" suppresses expiration altogether. With \"<pattern>\" (e.g.\n",
      "           \"refs/stash\") in the middle the setting applies only to the refs that\n",
      "           match the <pattern>.\n",
      "\n",
      "       gc.reflogExpireUnreachable, gc.<pattern>.reflogExpireUnreachable\n",
      "           git reflog expire removes reflog entries older than this time and are\n",
      "           not reachable from the current tip; defaults to 30 days. The value\n",
      "           \"now\" expires all entries immediately, and \"never\" suppresses\n",
      "           expiration altogether. With \"<pattern>\" (e.g. \"refs/stash\") in the\n",
      "           middle, the setting applies only to the refs that match the\n",
      "           <pattern>.\n",
      "\n",
      "           These types of entries are generally created as a result of using git\n",
      "           commit --amend or git rebase and are the commits prior to the amend\n",
      "           or rebase occurring. Since these changes are not part of the current\n",
      "           project most users will want to expire them sooner, which is why the\n",
      "           default is more aggressive than gc.reflogExpire.\n",
      "\n",
      "       gc.rerereResolved\n",
      "           Records of conflicted merge you resolved earlier are kept for this\n",
      "           many days when git rerere gc is run. You can also use more\n",
      "           human-readable \"1.month.ago\", etc. The default is 60 days. See git-\n",
      "           rerere(1).\n",
      "\n",
      "       gc.rerereUnresolved\n",
      "           Records of conflicted merge you have not resolved are kept for this\n",
      "           many days when git rerere gc is run. You can also use more\n",
      "           human-readable \"1.month.ago\", etc. The default is 15 days. See git-\n",
      "           rerere(1).\n",
      "\n",
      "       gitcvs.commitMsgAnnotation\n",
      "           Append this string to each commit message. Set to empty string to\n",
      "           disable this feature. Defaults to \"via git-CVS emulator\".\n",
      "\n",
      "       gitcvs.enabled\n",
      "           Whether the CVS server interface is enabled for this repository. See\n",
      "           git-cvsserver(1).\n",
      "\n",
      "       gitcvs.logFile\n",
      "           Path to a log file where the CVS server interface well... logs\n",
      "           various stuff. See git-cvsserver(1).\n",
      "\n",
      "       gitcvs.usecrlfattr\n",
      "           If true, the server will look up the end-of-line conversion\n",
      "           attributes for files to determine the -k modes to use. If the\n",
      "           attributes force Git to treat a file as text, the -k mode will be\n",
      "           left blank so CVS clients will treat it as text. If they suppress\n",
      "           text conversion, the file will be set with -kb mode, which suppresses\n",
      "           any newline munging the client might otherwise do. If the attributes\n",
      "           do not allow the file type to be determined, then gitcvs.allBinary is\n",
      "           used. See gitattributes(5).\n",
      "\n",
      "       gitcvs.allBinary\n",
      "           This is used if gitcvs.usecrlfattr does not resolve the correct -kb\n",
      "           mode to use. If true, all unresolved files are sent to the client in\n",
      "           mode -kb. This causes the client to treat them as binary files, which\n",
      "           suppresses any newline munging it otherwise might do. Alternatively,\n",
      "           if it is set to \"guess\", then the contents of the file are examined\n",
      "           to decide if it is binary, similar to core.autocrlf.\n",
      "\n",
      "       gitcvs.dbName\n",
      "           Database used by git-cvsserver to cache revision information derived\n",
      "           from the Git repository. The exact meaning depends on the used\n",
      "           database driver, for SQLite (which is the default driver) this is a\n",
      "           filename. Supports variable substitution (see git-cvsserver(1) for\n",
      "           details). May not contain semicolons (;). Default: %Ggitcvs.%m.sqlite\n",
      "\n",
      "       gitcvs.dbDriver\n",
      "           Used Perl DBI driver. You can specify any available driver for this\n",
      "           here, but it might not work. git-cvsserver is tested with\n",
      "           DBD::SQLite, reported to work with DBD::Pg, and reported not to work\n",
      "           with DBD::mysql. Experimental feature. May not contain double colons\n"
     ]
    },
    {
     "name": "stdout",
     "output_type": "stream",
     "text": [
      "           (:). Default: SQLite. See git-cvsserver(1).\n",
      "\n",
      "       gitcvs.dbUser, gitcvs.dbPass\n",
      "           Database user and password. Only useful if setting gitcvs.dbDriver,\n",
      "           since SQLite has no concept of database users and/or passwords.\n",
      "           gitcvs.dbUser supports variable substitution (see git-cvsserver(1)\n",
      "           for details).\n",
      "\n",
      "       gitcvs.dbTableNamePrefix\n",
      "           Database table name prefix. Prepended to the names of any database\n",
      "           tables used, allowing a single database to be used for several\n",
      "           repositories. Supports variable substitution (see git-cvsserver(1)\n",
      "           for details). Any non-alphabetic characters will be replaced with\n",
      "           underscores.\n",
      "\n",
      "       All gitcvs variables except for gitcvs.usecrlfattr and gitcvs.allBinary\n",
      "       can also be specified as gitcvs.<access_method>.<varname> (where\n",
      "       access_method is one of \"ext\" and \"pserver\") to make them apply only for\n",
      "       the given access method.\n",
      "\n",
      "       gitweb.category, gitweb.description, gitweb.owner, gitweb.url\n",
      "           See gitweb(1) for description.\n",
      "\n",
      "       gitweb.avatar, gitweb.blame, gitweb.grep, gitweb.highlight,\n",
      "       gitweb.patches, gitweb.pickaxe, gitweb.remote_heads, gitweb.showSizes,\n",
      "       gitweb.snapshot\n",
      "           See gitweb.conf(5) for description.\n",
      "\n",
      "       grep.lineNumber\n",
      "           If set to true, enable -n option by default.\n",
      "\n",
      "       grep.column\n",
      "           If set to true, enable the --column option by default.\n",
      "\n",
      "       grep.patternType\n",
      "           Set the default matching behavior. Using a value of basic, extended,\n",
      "           fixed, or perl will enable the --basic-regexp, --extended-regexp,\n",
      "           --fixed-strings, or --perl-regexp option accordingly, while the value\n",
      "           default will return to the default matching behavior.\n",
      "\n",
      "       grep.extendedRegexp\n",
      "           If set to true, enable --extended-regexp option by default. This\n",
      "           option is ignored when the grep.patternType option is set to a value\n",
      "           other than default.\n",
      "\n",
      "       grep.threads\n",
      "           Number of grep worker threads to use. See grep.threads in git-grep(1)\n",
      "           for more information.\n",
      "\n",
      "       grep.fallbackToNoIndex\n",
      "           If set to true, fall back to git grep --no-index if git grep is\n",
      "           executed outside of a git repository. Defaults to false.\n",
      "\n",
      "       gpg.program\n",
      "           Use this custom program instead of \"gpg\" found on $PATH when making\n",
      "           or verifying a PGP signature. The program must support the same\n",
      "           command-line interface as GPG, namely, to verify a detached\n",
      "           signature, \"gpg --verify $signature - <$file\" is run, and the program\n",
      "           is expected to signal a good signature by exiting with code 0, and to\n",
      "           generate an ASCII-armored detached signature, the standard input of\n",
      "           \"gpg -bsau $key\" is fed with the contents to be signed, and the\n",
      "           program is expected to send the result to its standard output.\n",
      "\n",
      "       gpg.format\n",
      "           Specifies which key format to use when signing with --gpg-sign.\n",
      "           Default is \"openpgp\" and another possible value is \"x509\".\n",
      "\n",
      "       gpg.<format>.program\n",
      "           Use this to customize the program used for the signing format you\n",
      "           chose. (see gpg.program and gpg.format) gpg.program can still be used\n",
      "           as a legacy synonym for gpg.openpgp.program. The default value for\n",
      "           gpg.x509.program is \"gpgsm\".\n",
      "\n",
      "       gpg.minTrustLevel\n",
      "           Specifies a minimum trust level for signature verification. If this\n",
      "           option is unset, then signature verification for merge operations\n",
      "           require a key with at least marginal trust. Other operations that\n",
      "           perform signature verification require a key with at least undefined\n",
      "           trust. Setting this option overrides the required trust-level for all\n",
      "           operations. Supported values, in increasing order of significance:\n",
      "\n",
      "           •   undefined\n",
      "\n",
      "           •   never\n",
      "\n",
      "           •   marginal\n",
      "\n",
      "           •   fully\n",
      "\n",
      "           •   ultimate\n",
      "\n",
      "       gui.commitMsgWidth\n",
      "           Defines how wide the commit message window is in the git-gui(1). \"75\"\n",
      "           is the default.\n",
      "\n",
      "       gui.diffContext\n",
      "           Specifies how many context lines should be used in calls to diff made\n",
      "           by the git-gui(1). The default is \"5\".\n",
      "\n",
      "       gui.displayUntracked\n",
      "           Determines if git-gui(1) shows untracked files in the file list. The\n",
      "           default is \"true\".\n",
      "\n",
      "       gui.encoding\n",
      "           Specifies the default encoding to use for displaying of file contents\n",
      "           in git-gui(1) and gitk(1). It can be overridden by setting the\n",
      "           encoding attribute for relevant files (see gitattributes(5)). If this\n",
      "           option is not set, the tools default to the locale encoding.\n",
      "\n",
      "       gui.matchTrackingBranch\n",
      "           Determines if new branches created with git-gui(1) should default to\n",
      "           tracking remote branches with matching names or not. Default:\n",
      "           \"false\".\n",
      "\n",
      "       gui.newBranchTemplate\n",
      "           Is used as suggested name when creating new branches using the git-\n",
      "           gui(1).\n",
      "\n",
      "       gui.pruneDuringFetch\n",
      "           \"true\" if git-gui(1) should prune remote-tracking branches when\n",
      "           performing a fetch. The default value is \"false\".\n",
      "\n",
      "       gui.trustmtime\n",
      "           Determines if git-gui(1) should trust the file modification timestamp\n",
      "           or not. By default the timestamps are not trusted.\n",
      "\n",
      "       gui.spellingDictionary\n",
      "           Specifies the dictionary used for spell checking commit messages in\n",
      "           the git-gui(1). When set to \"none\" spell checking is turned off.\n",
      "\n",
      "       gui.fastCopyBlame\n",
      "           If true, git gui blame uses -C instead of -C -C for original location\n",
      "           detection. It makes blame significantly faster on huge repositories\n",
      "           at the expense of less thorough copy detection.\n",
      "\n",
      "       gui.copyBlameThreshold\n",
      "           Specifies the threshold to use in git gui blame original location\n",
      "           detection, measured in alphanumeric characters. See the git-blame(1)\n",
      "           manual for more information on copy detection.\n"
     ]
    },
    {
     "name": "stderr",
     "output_type": "stream",
     "text": [
      "IOPub message rate exceeded.\n",
      "The notebook server will temporarily stop sending output\n",
      "to the client in order to avoid crashing it.\n",
      "To change this limit, set the config variable\n",
      "`--NotebookApp.iopub_msg_rate_limit`.\n",
      "\n",
      "Current values:\n",
      "NotebookApp.iopub_msg_rate_limit=1000.0 (msgs/sec)\n",
      "NotebookApp.rate_limit_window=3.0 (secs)\n",
      "\n"
     ]
    }
   ],
   "source": [
    "git config --help"
   ]
  },
  {
   "cell_type": "markdown",
   "metadata": {
    "slideshow": {
     "slide_type": "fragment"
    }
   },
   "source": [
    "Git ma bardzo dobrą dokumentacje dla każdego z jego `poleceń`. Wywołujemy ją komendą `git polecenie -h` lub `git polecenie --help`"
   ]
  },
  {
   "cell_type": "markdown",
   "metadata": {
    "slideshow": {
     "slide_type": "slide"
    }
   },
   "source": [
    "### Tworzenie repozytorium\n",
    "\n",
    "Utwórzmy nowe repozytorum Gita. W tym celu uruchommy terminal, przenieśmy się na Desktop, utwórzmy katalog repozytorium oraz wejdźmy do niego."
   ]
  },
  {
   "cell_type": "code",
   "execution_count": 9,
   "metadata": {
    "scrolled": false,
    "slideshow": {
     "slide_type": "fragment"
    }
   },
   "outputs": [],
   "source": [
    "cd ~/Desktop/"
   ]
  },
  {
   "cell_type": "code",
   "execution_count": 10,
   "metadata": {
    "scrolled": false,
    "slideshow": {
     "slide_type": "fragment"
    }
   },
   "outputs": [],
   "source": [
    "rm -rf repozytorium"
   ]
  },
  {
   "cell_type": "code",
   "execution_count": 11,
   "metadata": {
    "scrolled": false,
    "slideshow": {
     "slide_type": "fragment"
    }
   },
   "outputs": [],
   "source": [
    "mkdir repozytorium"
   ]
  },
  {
   "cell_type": "code",
   "execution_count": 12,
   "metadata": {
    "scrolled": false,
    "slideshow": {
     "slide_type": "fragment"
    }
   },
   "outputs": [],
   "source": [
    "cd repozytorium"
   ]
  },
  {
   "cell_type": "markdown",
   "metadata": {
    "slideshow": {
     "slide_type": "subslide"
    }
   },
   "source": [
    "Tak przygotowany katalog o nazwie repozytorium będzie naszym miejscem pracy."
   ]
  },
  {
   "cell_type": "code",
   "execution_count": 13,
   "metadata": {
    "scrolled": false,
    "slideshow": {
     "slide_type": "fragment"
    }
   },
   "outputs": [
    {
     "name": "stdout",
     "output_type": "stream",
     "text": [
      "total 0\n"
     ]
    }
   ],
   "source": [
    "ls -l"
   ]
  },
  {
   "cell_type": "markdown",
   "metadata": {
    "slideshow": {
     "slide_type": "fragment"
    }
   },
   "source": [
    "Samo repozytorium tworzymy poleceniem"
   ]
  },
  {
   "cell_type": "code",
   "execution_count": 14,
   "metadata": {
    "scrolled": false,
    "slideshow": {
     "slide_type": "fragment"
    }
   },
   "outputs": [
    {
     "name": "stdout",
     "output_type": "stream",
     "text": [
      "\u001b[33mhint: Using 'master' as the name for the initial branch. This default branch name\u001b[m\n",
      "\u001b[33mhint: is subject to change. To configure the initial branch name to use in all\u001b[m\n",
      "\u001b[33mhint: of your new repositories, which will suppress this warning, call:\u001b[m\n",
      "\u001b[33mhint: \u001b[m\n",
      "\u001b[33mhint: \tgit config --global init.defaultBranch <name>\u001b[m\n",
      "\u001b[33mhint: \u001b[m\n",
      "\u001b[33mhint: Names commonly chosen instead of 'master' are 'main', 'trunk' and\u001b[m\n",
      "\u001b[33mhint: 'development'. The just-created branch can be renamed via this command:\u001b[m\n",
      "\u001b[33mhint: \u001b[m\n",
      "\u001b[33mhint: \tgit branch -m <name>\u001b[m\n",
      "Initialized empty Git repository in /Users/miklesz/Desktop/repozytorium/.git/\n"
     ]
    }
   ],
   "source": [
    "git init"
   ]
  },
  {
   "cell_type": "markdown",
   "metadata": {
    "slideshow": {
     "slide_type": "subslide"
    }
   },
   "source": [
    "Sprawdźmy co zmieniło się w katalogu, w którym utworzyliśmy repozytorium poleceniem:"
   ]
  },
  {
   "cell_type": "code",
   "execution_count": 15,
   "metadata": {
    "scrolled": false,
    "slideshow": {
     "slide_type": "fragment"
    }
   },
   "outputs": [
    {
     "name": "stdout",
     "output_type": "stream",
     "text": [
      "total 0\n"
     ]
    }
   ],
   "source": [
    "ls -l"
   ]
  },
  {
   "cell_type": "markdown",
   "metadata": {
    "slideshow": {
     "slide_type": "fragment"
    }
   },
   "source": [
    "Katalog wygląda na pusty."
   ]
  },
  {
   "cell_type": "markdown",
   "metadata": {
    "slideshow": {
     "slide_type": "subslide"
    }
   },
   "source": [
    "Sprawdźmy jednak czy nie pojawiły się jakieś ukryte pliki lub katalogi poleceniem:"
   ]
  },
  {
   "cell_type": "code",
   "execution_count": 16,
   "metadata": {
    "scrolled": false,
    "slideshow": {
     "slide_type": "fragment"
    }
   },
   "outputs": [
    {
     "name": "stdout",
     "output_type": "stream",
     "text": [
      "total 0\n",
      "drwxr-xr-x@   3 miklesz  staff     96 Nov 19 20:15 .\n",
      "drwx------@ 693 miklesz  staff  22176 Nov 19 20:15 ..\n",
      "drwxr-xr-x@   9 miklesz  staff    288 Nov 19 20:15 .git\n"
     ]
    }
   ],
   "source": [
    "ls -al"
   ]
  },
  {
   "cell_type": "markdown",
   "metadata": {
    "slideshow": {
     "slide_type": "fragment"
    }
   },
   "source": [
    "Utworzony poleceniem `git init` katalog ukryty `.git` będzie zawierać wszystkie informacje, które Git zbiera o powstałym repozytorium. Jeżeli skasujemy ten podkatalog tj. `.git`, skasujemy wszystkie informacje o historii i zmianach naszym projekcie."
   ]
  },
  {
   "cell_type": "markdown",
   "metadata": {
    "slideshow": {
     "slide_type": "slide"
    }
   },
   "source": [
    "### Sprawdzanie statusu\n",
    "\n",
    "Sprawdźmy czy repozytorium Gita powstało oraz czy wszytko poszło dobrze:"
   ]
  },
  {
   "cell_type": "code",
   "execution_count": 17,
   "metadata": {
    "scrolled": true,
    "slideshow": {
     "slide_type": "fragment"
    }
   },
   "outputs": [
    {
     "name": "stdout",
     "output_type": "stream",
     "text": [
      "On branch master\n",
      "\n",
      "No commits yet\n",
      "\n",
      "nothing to commit (create/copy files and use \"git add\" to track)\n"
     ]
    }
   ],
   "source": [
    "git status"
   ]
  },
  {
   "cell_type": "markdown",
   "metadata": {
    "slideshow": {
     "slide_type": "slide"
    }
   },
   "source": [
    "> ##### Info\n",
    "> Poleceniem `git status` będziemy sprawdzać zmiany, które zrobiliśmy w naszym projekcie oraz ich status w repozytorium Gita."
   ]
  },
  {
   "cell_type": "markdown",
   "metadata": {
    "slideshow": {
     "slide_type": "slide"
    }
   },
   "source": [
    "### Śledzenie zmian\n",
    "\n",
    "Utwórzmy pierwszy plik w katalogu `repozytorium` o nazwie `pierwszy.txt`.\n",
    "\n",
    "Zapiszmy w zawartości pliku `pierwszy.txt` nasz pierwszy dzisiaj tekst:"
   ]
  },
  {
   "cell_type": "code",
   "execution_count": 18,
   "metadata": {
    "scrolled": false,
    "slideshow": {
     "slide_type": "fragment"
    }
   },
   "outputs": [],
   "source": [
    "echo \"Witaj świecie. Tutaj pierwszy plik.\" > pierwszy.txt"
   ]
  },
  {
   "cell_type": "code",
   "execution_count": 19,
   "metadata": {
    "scrolled": false,
    "slideshow": {
     "slide_type": "fragment"
    }
   },
   "outputs": [
    {
     "name": "stdout",
     "output_type": "stream",
     "text": [
      "Witaj świecie. Tutaj pierwszy plik.\n"
     ]
    }
   ],
   "source": [
    "cat pierwszy.txt"
   ]
  },
  {
   "cell_type": "markdown",
   "metadata": {
    "slideshow": {
     "slide_type": "subslide"
    }
   },
   "source": [
    "Sprawdźmy zawartość katalogu poleceniem:"
   ]
  },
  {
   "cell_type": "code",
   "execution_count": 20,
   "metadata": {
    "scrolled": false,
    "slideshow": {
     "slide_type": "fragment"
    }
   },
   "outputs": [
    {
     "name": "stdout",
     "output_type": "stream",
     "text": [
      "total 8\n",
      "drwxr-xr-x@   4 miklesz  staff    128 Nov 19 20:19 .\n",
      "drwx------@ 693 miklesz  staff  22176 Nov 19 20:19 ..\n",
      "drwxr-xr-x@   9 miklesz  staff    288 Nov 19 20:18 .git\n",
      "-rw-r--r--    1 miklesz  staff     37 Nov 19 20:19 pierwszy.txt\n"
     ]
    }
   ],
   "source": [
    "ls -la"
   ]
  },
  {
   "cell_type": "markdown",
   "metadata": {
    "slideshow": {
     "slide_type": "fragment"
    }
   },
   "source": [
    "Jak widzimy w katalogu pojawił się nam plik `pierwszy.txt`."
   ]
  },
  {
   "cell_type": "markdown",
   "metadata": {
    "slideshow": {
     "slide_type": "subslide"
    }
   },
   "source": [
    "Sprawdźmy o czym poinformuje nas Git poleceniem:"
   ]
  },
  {
   "cell_type": "code",
   "execution_count": 21,
   "metadata": {
    "scrolled": false,
    "slideshow": {
     "slide_type": "fragment"
    }
   },
   "outputs": [
    {
     "name": "stdout",
     "output_type": "stream",
     "text": [
      "On branch master\n",
      "\n",
      "No commits yet\n",
      "\n",
      "Untracked files:\n",
      "  (use \"git add <file>...\" to include in what will be committed)\n",
      "\t\u001b[31mpierwszy.txt\u001b[m\n",
      "\n",
      "nothing added to commit but untracked files present (use \"git add\" to track)\n"
     ]
    }
   ],
   "source": [
    "git status"
   ]
  },
  {
   "cell_type": "markdown",
   "metadata": {
    "slideshow": {
     "slide_type": "fragment"
    }
   },
   "source": [
    "Jak widać nasz plik `pierwszy.txt` nie jest jeszcze włożony do repozytorium i Git nie śledzi jego zmian. Możemy to zmienić poleceniem\n",
    "```sh\n",
    "git add <plik(i)>\n",
    "```"
   ]
  },
  {
   "cell_type": "code",
   "execution_count": 22,
   "metadata": {
    "scrolled": false,
    "slideshow": {
     "slide_type": "fragment"
    }
   },
   "outputs": [],
   "source": [
    "git add pierwszy.txt"
   ]
  },
  {
   "cell_type": "markdown",
   "metadata": {
    "slideshow": {
     "slide_type": "subslide"
    }
   },
   "source": [
    "Sprawdźmy jak zmienił się stan repozytorium:"
   ]
  },
  {
   "cell_type": "code",
   "execution_count": 23,
   "metadata": {
    "scrolled": false,
    "slideshow": {
     "slide_type": "fragment"
    }
   },
   "outputs": [
    {
     "name": "stdout",
     "output_type": "stream",
     "text": [
      "On branch master\n",
      "\n",
      "No commits yet\n",
      "\n",
      "Changes to be committed:\n",
      "  (use \"git rm --cached <file>...\" to unstage)\n",
      "\t\u001b[32mnew file:   pierwszy.txt\u001b[m\n",
      "\n"
     ]
    }
   ],
   "source": [
    "git status"
   ]
  },
  {
   "cell_type": "markdown",
   "metadata": {
    "slideshow": {
     "slide_type": "fragment"
    }
   },
   "source": [
    "W tej chwili Git już wie, że powinien śledzić zmiany w pliku `pierwszy.txt` i jest gotowy do dołożenia go do repozytorium. W tym celu wykonamy polecenie `git commit`:"
   ]
  },
  {
   "cell_type": "code",
   "execution_count": 24,
   "metadata": {
    "scrolled": false,
    "slideshow": {
     "slide_type": "fragment"
    }
   },
   "outputs": [
    {
     "name": "stdout",
     "output_type": "stream",
     "text": [
      "[master (root-commit) 1226fe1] Pierwsza wersja pliku pierwszy.txt\n",
      " 1 file changed, 1 insertion(+)\n",
      " create mode 100644 pierwszy.txt\n"
     ]
    }
   ],
   "source": [
    "git commit -m \"Pierwsza wersja pliku pierwszy.txt\""
   ]
  },
  {
   "cell_type": "markdown",
   "metadata": {
    "slideshow": {
     "slide_type": "subslide"
    }
   },
   "source": [
    "Sprawdźmy jak zmienił się stan repozytorium:"
   ]
  },
  {
   "cell_type": "code",
   "execution_count": 25,
   "metadata": {
    "scrolled": false,
    "slideshow": {
     "slide_type": "fragment"
    }
   },
   "outputs": [
    {
     "name": "stdout",
     "output_type": "stream",
     "text": [
      "On branch master\n",
      "nothing to commit, working tree clean\n"
     ]
    }
   ],
   "source": [
    "git status"
   ]
  },
  {
   "cell_type": "markdown",
   "metadata": {
    "slideshow": {
     "slide_type": "subslide"
    }
   },
   "source": [
    "Kolejne zmiany w repozytorium możemy sprawdzić poleceniem `git log`:"
   ]
  },
  {
   "cell_type": "code",
   "execution_count": 26,
   "metadata": {
    "scrolled": false,
    "slideshow": {
     "slide_type": "fragment"
    }
   },
   "outputs": [
    {
     "name": "stdout",
     "output_type": "stream",
     "text": [
      "\u001b[33mcommit 1226fe1854f7c5ac4ebaca6eb1d29b712f076463\u001b[m\u001b[33m (\u001b[m\u001b[1;36mHEAD -> \u001b[m\u001b[1;32mmaster\u001b[m\u001b[33m)\u001b[m\n",
      "Author: Mikołaj Leszczuk <leszczuk@agh.edu.pl>\n",
      "Date:   Fri Nov 19 20:28:08 2021 +0100\n",
      "\n",
      "    Pierwsza wersja pliku pierwszy.txt\n"
     ]
    }
   ],
   "source": [
    "git log"
   ]
  },
  {
   "cell_type": "markdown",
   "metadata": {
    "slideshow": {
     "slide_type": "fragment"
    }
   },
   "source": [
    "Każda taka zmiana zapisana w repozytorium nazywa się **`commit`**.\n",
    "\n",
    "Opcja `git log` ma również kilka wariantów np.:"
   ]
  },
  {
   "cell_type": "code",
   "execution_count": 27,
   "metadata": {
    "scrolled": false,
    "slideshow": {
     "slide_type": "fragment"
    }
   },
   "outputs": [
    {
     "name": "stdout",
     "output_type": "stream",
     "text": [
      "\u001b[33m1226fe1\u001b[m\u001b[33m (\u001b[m\u001b[1;36mHEAD -> \u001b[m\u001b[1;32mmaster\u001b[m\u001b[33m)\u001b[m Pierwsza wersja pliku pierwszy.txt\n"
     ]
    }
   ],
   "source": [
    "git log --oneline"
   ]
  },
  {
   "cell_type": "markdown",
   "metadata": {
    "slideshow": {
     "slide_type": "fragment"
    }
   },
   "source": [
    "Wyświetla ona tylko podstawowe informacje dla każdego \"commitu\"."
   ]
  },
  {
   "cell_type": "markdown",
   "metadata": {
    "slideshow": {
     "slide_type": "subslide"
    }
   },
   "source": [
    "Zmieńmy teraz plik `pierwszy.txt` i dodajmy kolejną linijkę:"
   ]
  },
  {
   "cell_type": "code",
   "execution_count": 28,
   "metadata": {
    "scrolled": false,
    "slideshow": {
     "slide_type": "fragment"
    }
   },
   "outputs": [],
   "source": [
    "echo \"Dziś jest piekny dzień.\" >> pierwszy.txt"
   ]
  },
  {
   "cell_type": "code",
   "execution_count": 29,
   "metadata": {
    "scrolled": false,
    "slideshow": {
     "slide_type": "fragment"
    }
   },
   "outputs": [
    {
     "name": "stdout",
     "output_type": "stream",
     "text": [
      "Witaj świecie. Tutaj pierwszy plik.\n",
      "Dziś jest piekny dzień.\n"
     ]
    }
   ],
   "source": [
    "cat pierwszy.txt"
   ]
  },
  {
   "cell_type": "markdown",
   "metadata": {
    "slideshow": {
     "slide_type": "subslide"
    }
   },
   "source": [
    "Sprawdźmy status repozytorium:"
   ]
  },
  {
   "cell_type": "code",
   "execution_count": 30,
   "metadata": {
    "scrolled": false,
    "slideshow": {
     "slide_type": "fragment"
    }
   },
   "outputs": [
    {
     "name": "stdout",
     "output_type": "stream",
     "text": [
      "On branch master\n",
      "Changes not staged for commit:\n",
      "  (use \"git add <file>...\" to update what will be committed)\n",
      "  (use \"git restore <file>...\" to discard changes in working directory)\n",
      "\t\u001b[31mmodified:   pierwszy.txt\u001b[m\n",
      "\n",
      "no changes added to commit (use \"git add\" and/or \"git commit -a\")\n"
     ]
    }
   ],
   "source": [
    "git status"
   ]
  },
  {
   "cell_type": "markdown",
   "metadata": {
    "slideshow": {
     "slide_type": "fragment"
    }
   },
   "source": [
    "Widzimy, że pojawiły się zmiany w pliku `pierwszy.txt`, których jeszcze nie zapisaliśmy do repozytorium."
   ]
  },
  {
   "cell_type": "markdown",
   "metadata": {
    "slideshow": {
     "slide_type": "subslide"
    }
   },
   "source": [
    "Informacja o wszystkich zmianach możemy wyświetlić poleceniem:"
   ]
  },
  {
   "cell_type": "code",
   "execution_count": 31,
   "metadata": {
    "scrolled": false,
    "slideshow": {
     "slide_type": "fragment"
    }
   },
   "outputs": [
    {
     "name": "stdout",
     "output_type": "stream",
     "text": [
      "\u001b[1mdiff --git a/pierwszy.txt b/pierwszy.txt\u001b[m\n",
      "\u001b[1mindex 73b3284..f5d2d9b 100644\u001b[m\n",
      "\u001b[1m--- a/pierwszy.txt\u001b[m\n",
      "\u001b[1m+++ b/pierwszy.txt\u001b[m\n",
      "\u001b[36m@@ -1 +1,2 @@\u001b[m\n",
      " Witaj świecie. Tutaj pierwszy plik.\u001b[m\n",
      "\u001b[32m+\u001b[m\u001b[32mDziś jest piekny dzień.\u001b[m\n"
     ]
    }
   ],
   "source": [
    "git diff"
   ]
  },
  {
   "cell_type": "markdown",
   "metadata": {
    "slideshow": {
     "slide_type": "fragment"
    }
   },
   "source": [
    "Dodajmy te zmiany do repozytorium poleceniem `git add pierwszy.txt`, a następnie `git commit -m \"Wiadomość\"`:"
   ]
  },
  {
   "cell_type": "code",
   "execution_count": 32,
   "metadata": {
    "scrolled": false,
    "slideshow": {
     "slide_type": "fragment"
    }
   },
   "outputs": [],
   "source": [
    "git add pierwszy.txt"
   ]
  },
  {
   "cell_type": "code",
   "execution_count": 33,
   "metadata": {
    "scrolled": false,
    "slideshow": {
     "slide_type": "fragment"
    }
   },
   "outputs": [
    {
     "name": "stdout",
     "output_type": "stream",
     "text": [
      "[master 76563d1] Pierwsza zmiana w pliku pierwszy.txt\n",
      " 1 file changed, 1 insertion(+)\n"
     ]
    }
   ],
   "source": [
    "git commit -m \"Pierwsza zmiana w pliku pierwszy.txt\""
   ]
  },
  {
   "cell_type": "markdown",
   "metadata": {
    "slideshow": {
     "slide_type": "slide"
    }
   },
   "source": [
    "#### Staging area\n",
    "\n",
    "Za każdym razem zanim zapiszemy zmiany w repozytorium poleceniem `git commit` wkładamy rzeczy gotowe do zapisu do tzw. \"staging area\" poleceniem `git add`.\n",
    "\n",
    "![](https://swcarpentry.github.io/git-novice/fig/git-staging-area.svg)"
   ]
  },
  {
   "cell_type": "markdown",
   "metadata": {
    "slideshow": {
     "slide_type": "subslide"
    }
   },
   "source": [
    "Dodajmy kolejną zmianę w pliku `pierwszy.txt`:"
   ]
  },
  {
   "cell_type": "code",
   "execution_count": 34,
   "metadata": {
    "scrolled": false,
    "slideshow": {
     "slide_type": "fragment"
    }
   },
   "outputs": [],
   "source": [
    "echo \"Poznajemy Git.\" >> pierwszy.txt"
   ]
  },
  {
   "cell_type": "code",
   "execution_count": 35,
   "metadata": {
    "scrolled": false,
    "slideshow": {
     "slide_type": "fragment"
    }
   },
   "outputs": [
    {
     "name": "stdout",
     "output_type": "stream",
     "text": [
      "Witaj świecie. Tutaj pierwszy plik.\n",
      "Dziś jest piekny dzień.\n",
      "Poznajemy Git.\n"
     ]
    }
   ],
   "source": [
    "cat pierwszy.txt"
   ]
  },
  {
   "cell_type": "markdown",
   "metadata": {
    "slideshow": {
     "slide_type": "fragment"
    }
   },
   "source": [
    "Sprawdźmy powstałe zmiany poleceniem:"
   ]
  },
  {
   "cell_type": "code",
   "execution_count": 36,
   "metadata": {
    "scrolled": false,
    "slideshow": {
     "slide_type": "fragment"
    }
   },
   "outputs": [
    {
     "name": "stdout",
     "output_type": "stream",
     "text": [
      "\u001b[1mdiff --git a/pierwszy.txt b/pierwszy.txt\u001b[m\n",
      "\u001b[1mindex f5d2d9b..46e566d 100644\u001b[m\n",
      "\u001b[1m--- a/pierwszy.txt\u001b[m\n",
      "\u001b[1m+++ b/pierwszy.txt\u001b[m\n",
      "\u001b[36m@@ -1,2 +1,3 @@\u001b[m\n",
      " Witaj świecie. Tutaj pierwszy plik.\u001b[m\n",
      " Dziś jest piekny dzień.\u001b[m\n",
      "\u001b[32m+\u001b[m\u001b[32mPoznajemy Git.\u001b[m\n"
     ]
    }
   ],
   "source": [
    "git diff"
   ]
  },
  {
   "cell_type": "markdown",
   "metadata": {
    "slideshow": {
     "slide_type": "subslide"
    }
   },
   "source": [
    "Dodajmy zmiany poleceniem:"
   ]
  },
  {
   "cell_type": "code",
   "execution_count": 37,
   "metadata": {
    "scrolled": false,
    "slideshow": {
     "slide_type": "fragment"
    }
   },
   "outputs": [],
   "source": [
    "git add pierwszy.txt"
   ]
  },
  {
   "cell_type": "markdown",
   "metadata": {
    "slideshow": {
     "slide_type": "fragment"
    }
   },
   "source": [
    "Sprawdźmy zmiany:"
   ]
  },
  {
   "cell_type": "code",
   "execution_count": 38,
   "metadata": {
    "scrolled": false,
    "slideshow": {
     "slide_type": "fragment"
    }
   },
   "outputs": [],
   "source": [
    "git diff"
   ]
  },
  {
   "cell_type": "markdown",
   "metadata": {
    "slideshow": {
     "slide_type": "subslide"
    }
   },
   "source": [
    "Sprawdźmy zmiany, które są już przygotowane do kolejnej wersji repozytorium:"
   ]
  },
  {
   "cell_type": "code",
   "execution_count": 39,
   "metadata": {
    "scrolled": false,
    "slideshow": {
     "slide_type": "fragment"
    }
   },
   "outputs": [
    {
     "name": "stdout",
     "output_type": "stream",
     "text": [
      "\u001b[1mdiff --git a/pierwszy.txt b/pierwszy.txt\u001b[m\n",
      "\u001b[1mindex f5d2d9b..46e566d 100644\u001b[m\n",
      "\u001b[1m--- a/pierwszy.txt\u001b[m\n",
      "\u001b[1m+++ b/pierwszy.txt\u001b[m\n",
      "\u001b[36m@@ -1,2 +1,3 @@\u001b[m\n",
      " Witaj świecie. Tutaj pierwszy plik.\u001b[m\n",
      " Dziś jest piekny dzień.\u001b[m\n",
      "\u001b[32m+\u001b[m\u001b[32mPoznajemy Git.\u001b[m\n"
     ]
    }
   ],
   "source": [
    "git diff --staged"
   ]
  },
  {
   "cell_type": "markdown",
   "metadata": {
    "slideshow": {
     "slide_type": "fragment"
    }
   },
   "source": [
    "I dodajmy je do repozytorium w drugiej operacji `commit`:"
   ]
  },
  {
   "cell_type": "code",
   "execution_count": 40,
   "metadata": {
    "scrolled": false,
    "slideshow": {
     "slide_type": "fragment"
    }
   },
   "outputs": [
    {
     "name": "stdout",
     "output_type": "stream",
     "text": [
      "[master 600f27d] Druga zmiana w pliku pierwszy.txt\n",
      " 1 file changed, 1 insertion(+)\n"
     ]
    }
   ],
   "source": [
    "git commit -m \"Druga zmiana w pliku pierwszy.txt\""
   ]
  },
  {
   "cell_type": "markdown",
   "metadata": {
    "slideshow": {
     "slide_type": "slide"
    }
   },
   "source": [
    "#### Poprawa w ostatniej zapisanej zmianie\n",
    "\n",
    "Czasem zdaża się, że zapomnieliśmy dodać czegoś do ostatniej operacji `commit`, wtedy zawsze możemy dodać brakujące pliki do staging area i wykonać polecenie:\n",
    "\n",
    "```sh\n",
    "git commit --amend\n",
    "```\n",
    "\n",
    "Gdy chcemy jedynie zmienić opis zmiany możemy wykonać polecenie:"
   ]
  },
  {
   "cell_type": "code",
   "execution_count": 41,
   "metadata": {
    "scrolled": false,
    "slideshow": {
     "slide_type": "fragment"
    }
   },
   "outputs": [
    {
     "name": "stdout",
     "output_type": "stream",
     "text": [
      "[master 4a5cbd6] Poprawiony opis zmiany\n",
      " Date: Fri Nov 19 20:42:36 2021 +0100\n",
      " 1 file changed, 1 insertion(+)\n"
     ]
    }
   ],
   "source": [
    "git commit --amend -m \"Poprawiony opis zmiany\""
   ]
  },
  {
   "cell_type": "markdown",
   "metadata": {
    "slideshow": {
     "slide_type": "slide"
    }
   },
   "source": [
    "### Sprawdzanie historii i przywracanie stanu\n",
    "\n",
    "W każdej chwili można sprawdzić historie projektu poleceniem `git log`, które wyświetli opisy kolejnych operacji `commit` do repozytorium."
   ]
  },
  {
   "cell_type": "code",
   "execution_count": 42,
   "metadata": {
    "scrolled": false,
    "slideshow": {
     "slide_type": "fragment"
    }
   },
   "outputs": [
    {
     "name": "stdout",
     "output_type": "stream",
     "text": [
      "\u001b[33mcommit 4a5cbd6f1f7bfb79056f90c37902e0ac0910e425\u001b[m\u001b[33m (\u001b[m\u001b[1;36mHEAD -> \u001b[m\u001b[1;32mmaster\u001b[m\u001b[33m)\u001b[m\n",
      "Author: Mikołaj Leszczuk <leszczuk@agh.edu.pl>\n",
      "Date:   Fri Nov 19 20:42:36 2021 +0100\n",
      "\n",
      "    Poprawiony opis zmiany\n",
      "\n",
      "\u001b[33mcommit 76563d1426b01f547bf9a5f5b54531a22766971d\u001b[m\n",
      "Author: Mikołaj Leszczuk <leszczuk@agh.edu.pl>\n",
      "Date:   Fri Nov 19 20:36:19 2021 +0100\n",
      "\n",
      "    Pierwsza zmiana w pliku pierwszy.txt\n",
      "\n",
      "\u001b[33mcommit 1226fe1854f7c5ac4ebaca6eb1d29b712f076463\u001b[m\n",
      "Author: Mikołaj Leszczuk <leszczuk@agh.edu.pl>\n",
      "Date:   Fri Nov 19 20:28:08 2021 +0100\n",
      "\n",
      "    Pierwsza wersja pliku pierwszy.txt\n"
     ]
    }
   ],
   "source": [
    "git log"
   ]
  },
  {
   "cell_type": "markdown",
   "metadata": {
    "slideshow": {
     "slide_type": "subslide"
    }
   },
   "source": [
    "W celu wyświetlenia zawartości każdej zapisanej zmiany w repozytorium (czyli operacji `commit`) możemy wydać polecenie\n",
    "```sh\n",
    "git show <hash-operacji-commit>\n",
    "```\n",
    "gdzie `<hash-operacji-commit>` jest unikalnym identyfikatorem danej zmiany w repozytorium, np. `dd6efe19bcf632eb3f43c0b5815fecbba6adc6d6`. Innym sposobem podejrzenia danej zmiany jest użycie aliasu `HEAD` lub `HEAD~x`, gdzie `HEAD` jest nazwą ostatniego zapisanej zmiany a `HEAD~x` nazwą `x+1` zmiany od końca, np. `HEAD~2` będzie trzecią zmianą od końca."
   ]
  },
  {
   "cell_type": "code",
   "execution_count": 43,
   "metadata": {
    "scrolled": false,
    "slideshow": {
     "slide_type": "subslide"
    }
   },
   "outputs": [
    {
     "name": "stdout",
     "output_type": "stream",
     "text": [
      "\u001b[33mcommit 1226fe1854f7c5ac4ebaca6eb1d29b712f076463\u001b[m\n",
      "Author: Mikołaj Leszczuk <leszczuk@agh.edu.pl>\n",
      "Date:   Fri Nov 19 20:28:08 2021 +0100\n",
      "\n",
      "    Pierwsza wersja pliku pierwszy.txt\n",
      "\n",
      "\u001b[1mdiff --git a/pierwszy.txt b/pierwszy.txt\u001b[m\n",
      "\u001b[1mnew file mode 100644\u001b[m\n",
      "\u001b[1mindex 0000000..73b3284\u001b[m\n",
      "\u001b[1m--- /dev/null\u001b[m\n",
      "\u001b[1m+++ b/pierwszy.txt\u001b[m\n",
      "\u001b[36m@@ -0,0 +1 @@\u001b[m\n",
      "\u001b[32m+\u001b[m\u001b[32mWitaj świecie. Tutaj pierwszy plik.\u001b[m\n"
     ]
    }
   ],
   "source": [
    "git show 1226fe1854f7c5ac4ebaca6eb1d29b712f076463"
   ]
  },
  {
   "cell_type": "code",
   "execution_count": 44,
   "metadata": {
    "scrolled": true,
    "slideshow": {
     "slide_type": "fragment"
    }
   },
   "outputs": [
    {
     "name": "stdout",
     "output_type": "stream",
     "text": [
      "\u001b[33mcommit 76563d1426b01f547bf9a5f5b54531a22766971d\u001b[m\n",
      "Author: Mikołaj Leszczuk <leszczuk@agh.edu.pl>\n",
      "Date:   Fri Nov 19 20:36:19 2021 +0100\n",
      "\n",
      "    Pierwsza zmiana w pliku pierwszy.txt\n",
      "\n",
      "\u001b[1mdiff --git a/pierwszy.txt b/pierwszy.txt\u001b[m\n",
      "\u001b[1mindex 73b3284..f5d2d9b 100644\u001b[m\n",
      "\u001b[1m--- a/pierwszy.txt\u001b[m\n",
      "\u001b[1m+++ b/pierwszy.txt\u001b[m\n",
      "\u001b[36m@@ -1 +1,2 @@\u001b[m\n",
      " Witaj świecie. Tutaj pierwszy plik.\u001b[m\n",
      "\u001b[32m+\u001b[m\u001b[32mDziś jest piekny dzień.\u001b[m\n"
     ]
    }
   ],
   "source": [
    "git show HEAD~1"
   ]
  },
  {
   "cell_type": "markdown",
   "metadata": {
    "slideshow": {
     "slide_type": "subslide"
    }
   },
   "source": [
    "Jeżeli chcemy zobaczyć jak zmienił się dany plik między zmianami w repozytorium możemy wykonać polecenie:\n",
    "```sh\n",
    "git diff <hash-1-operacji-commit> <hash-2-operacji-commit> <nazwa-pliku>\n",
    "```\n",
    "lub:\n",
    "```sh\n",
    "git diff <hash-operacji-commit> <nazwa-pliku>\n",
    "```\n",
    "w przypadku gdy chcemy sprawdzić tylko ostatni plik."
   ]
  },
  {
   "cell_type": "code",
   "execution_count": 45,
   "metadata": {
    "scrolled": false,
    "slideshow": {
     "slide_type": "subslide"
    }
   },
   "outputs": [
    {
     "name": "stdout",
     "output_type": "stream",
     "text": [
      "\u001b[1mdiff --git a/pierwszy.txt b/pierwszy.txt\u001b[m\n",
      "\u001b[1mindex f5d2d9b..46e566d 100644\u001b[m\n",
      "\u001b[1m--- a/pierwszy.txt\u001b[m\n",
      "\u001b[1m+++ b/pierwszy.txt\u001b[m\n",
      "\u001b[36m@@ -1,2 +1,3 @@\u001b[m\n",
      " Witaj świecie. Tutaj pierwszy plik.\u001b[m\n",
      " Dziś jest piekny dzień.\u001b[m\n",
      "\u001b[32m+\u001b[m\u001b[32mPoznajemy Git.\u001b[m\n"
     ]
    }
   ],
   "source": [
    "git diff HEAD~1 pierwszy.txt"
   ]
  },
  {
   "cell_type": "code",
   "execution_count": 46,
   "metadata": {
    "scrolled": false,
    "slideshow": {
     "slide_type": "fragment"
    }
   },
   "outputs": [
    {
     "name": "stdout",
     "output_type": "stream",
     "text": [
      "\u001b[1mdiff --git a/pierwszy.txt b/pierwszy.txt\u001b[m\n",
      "\u001b[1mindex 73b3284..46e566d 100644\u001b[m\n",
      "\u001b[1m--- a/pierwszy.txt\u001b[m\n",
      "\u001b[1m+++ b/pierwszy.txt\u001b[m\n",
      "\u001b[36m@@ -1 +1,3 @@\u001b[m\n",
      " Witaj świecie. Tutaj pierwszy plik.\u001b[m\n",
      "\u001b[32m+\u001b[m\u001b[32mDziś jest piekny dzień.\u001b[m\n",
      "\u001b[32m+\u001b[m\u001b[32mPoznajemy Git.\u001b[m\n"
     ]
    }
   ],
   "source": [
    "git diff HEAD~2 pierwszy.txt"
   ]
  },
  {
   "cell_type": "markdown",
   "metadata": {
    "slideshow": {
     "slide_type": "slide"
    }
   },
   "source": [
    "#### Przywracanie stanu z poprzedniej wersji repozytorium\n",
    "\n",
    "Jeżeli chcemy wrócić do poprzedniej wersji pliku powinniśmy wykonać polecenie:\n",
    "```sh\n",
    "git checkout <hash-operacji-commita> <nazwa-pliku>\n",
    "```\n",
    "gdzie `<hash-operacji-commit>` to nazwa zmiany, do której chcemy powrócić a `<nazwa-pliku>` to nazwa pliku, który chcemy przywrócić. W przypadku gdy po prostu chcemy wyczyścić zmiany w naszej przestrzeni roboczej i powrócić do ostatniej wersji zapisanego pliku w repozytorium używamy polecenia:\n",
    "```sh\n",
    "git checkout -- <nazwa-pliku>\n",
    "```\n",
    "ewentualnie:\n",
    "```sh\n",
    "git checkout HEAD <nazwa-pliku>\n",
    "```"
   ]
  },
  {
   "cell_type": "code",
   "execution_count": 47,
   "metadata": {
    "scrolled": false,
    "slideshow": {
     "slide_type": "subslide"
    }
   },
   "outputs": [
    {
     "name": "stdout",
     "output_type": "stream",
     "text": [
      "Updated 0 paths from 55205db\n"
     ]
    }
   ],
   "source": [
    "git checkout HEAD pierwszy.txt"
   ]
  },
  {
   "cell_type": "code",
   "execution_count": 48,
   "metadata": {
    "slideshow": {
     "slide_type": "fragment"
    }
   },
   "outputs": [
    {
     "name": "stdout",
     "output_type": "stream",
     "text": [
      "Witaj świecie. Tutaj pierwszy plik.\n",
      "Dziś jest piekny dzień.\n",
      "Poznajemy Git.\n"
     ]
    }
   ],
   "source": [
    "cat pierwszy.txt"
   ]
  },
  {
   "cell_type": "markdown",
   "metadata": {
    "slideshow": {
     "slide_type": "fragment"
    }
   },
   "source": [
    "![](https://hsf-training.github.io/analysis-essentials/_images/git-checkout.svg)"
   ]
  },
  {
   "cell_type": "markdown",
   "metadata": {
    "slideshow": {
     "slide_type": "subslide"
    }
   },
   "source": [
    "Poniższy rysunek wyjaśnia w formie graficznej jak działa repozytorum Gita:\n",
    "\n",
    "![](https://ucsbcarpentry.github.io/2019-10-24-gitbash/fig/git_staging.svg)"
   ]
  },
  {
   "cell_type": "markdown",
   "metadata": {
    "slideshow": {
     "slide_type": "slide"
    }
   },
   "source": [
    "### Ignorowanie plików i katalogów\n",
    "\n",
    "Nie zawsze chcemy by Git śledził wszystkie pliki, które są obecne w katalogu projektu. W tym celu tworzymy plik `.gitignore`, w którym zapisujemy wszystkie rzeczy, które mają być pomijane przez Gita."
   ]
  },
  {
   "cell_type": "code",
   "execution_count": null,
   "metadata": {
    "scrolled": false,
    "slideshow": {
     "slide_type": "fragment"
    }
   },
   "outputs": [],
   "source": [
    "touch ignored.txt"
   ]
  },
  {
   "cell_type": "code",
   "execution_count": null,
   "metadata": {
    "scrolled": true,
    "slideshow": {
     "slide_type": "fragment"
    }
   },
   "outputs": [],
   "source": [
    "ls -la"
   ]
  },
  {
   "cell_type": "code",
   "execution_count": null,
   "metadata": {
    "slideshow": {
     "slide_type": "subslide"
    }
   },
   "outputs": [],
   "source": [
    "git status"
   ]
  },
  {
   "cell_type": "code",
   "execution_count": null,
   "metadata": {
    "scrolled": false,
    "slideshow": {
     "slide_type": "fragment"
    }
   },
   "outputs": [],
   "source": [
    "echo \"ignored.txt\" > .gitignore"
   ]
  },
  {
   "cell_type": "code",
   "execution_count": null,
   "metadata": {
    "slideshow": {
     "slide_type": "fragment"
    }
   },
   "outputs": [],
   "source": [
    "cat .gitignore"
   ]
  },
  {
   "cell_type": "code",
   "execution_count": null,
   "metadata": {
    "scrolled": false,
    "slideshow": {
     "slide_type": "fragment"
    }
   },
   "outputs": [],
   "source": [
    "ls -al"
   ]
  },
  {
   "cell_type": "code",
   "execution_count": null,
   "metadata": {
    "scrolled": false,
    "slideshow": {
     "slide_type": "fragment"
    }
   },
   "outputs": [],
   "source": [
    "git add .gitignore"
   ]
  },
  {
   "cell_type": "code",
   "execution_count": null,
   "metadata": {
    "scrolled": false,
    "slideshow": {
     "slide_type": "subslide"
    }
   },
   "outputs": [],
   "source": [
    "git commit -m \"Ignoruj rzeczy, które zdefiniowalismy w pliku .gitignore\""
   ]
  },
  {
   "cell_type": "code",
   "execution_count": null,
   "metadata": {
    "scrolled": false,
    "slideshow": {
     "slide_type": "fragment"
    }
   },
   "outputs": [],
   "source": [
    "git status"
   ]
  },
  {
   "cell_type": "markdown",
   "metadata": {
    "slideshow": {
     "slide_type": "fragment"
    }
   },
   "source": [
    "W celu sprawdzenia plików i katalogów pomijanych przez gita wykonajmy polecenie `git status --ignored`:"
   ]
  },
  {
   "cell_type": "code",
   "execution_count": null,
   "metadata": {
    "scrolled": false,
    "slideshow": {
     "slide_type": "fragment"
    }
   },
   "outputs": [],
   "source": [
    "git status --ignored"
   ]
  },
  {
   "cell_type": "markdown",
   "metadata": {
    "slideshow": {
     "slide_type": "slide"
    }
   },
   "source": [
    "### Repozytoria zdalne"
   ]
  },
  {
   "cell_type": "markdown",
   "metadata": {
    "slideshow": {
     "slide_type": "slide"
    }
   },
   "source": [
    "#### Klonowanie repozytorium zdalnego\n",
    "\n",
    "Wiele repozytorium Gita jest przechowywane na serwerach zdalnych takich jak [GitHub](https://github.com/), [GitLab](https://gitlab.com/), [Bitbucket](https://bitbucket.org/) lub hostowane przez niezależne instytucje lub osoby np. [PLGrid](https://git.plgrid.pl/). Jeżeli chcemy pobrać takie repozytorium i utworzyć jego lokalną kopię powinniśmy wykonać polecenie:\n",
    "\n",
    "```sh\n",
    "git clone <url-do-repozytoium> <scieżka-na-lokalną-kopię>\n",
    "```"
   ]
  },
  {
   "cell_type": "markdown",
   "metadata": {
    "slideshow": {
     "slide_type": "slide"
    }
   },
   "source": [
    "#### Dodawanie repozytorium zdalnego\n",
    "\n",
    "Git umożliwia łączenie repozytorium lokalnego z repozytoriami zdalnymi umieszczonymi na serwerach repozytorium. W celu dodania zdalnego repozytorium (tzw. `remote`) należy wykonać polecenie:\n",
    "\n",
    "```sh\n",
    "git remote add <alias> <url-do-repozytorium>\n",
    "```\n",
    "\n",
    "Gdzie `<alias>` jest naszą lokalną etykietą zdalnego repozytorium a `<url-do-repozytorium>` to odnośnik do zdalnego repozytorium w postaci linka."
   ]
  },
  {
   "cell_type": "markdown",
   "metadata": {
    "slideshow": {
     "slide_type": "slide"
    }
   },
   "source": [
    "> ##### Odnośniki do repozytorium zdalnego\n",
    "> Repozytoria zdalne mogą być zdefiniowane przez odnośnik [`https://`](https://) (np. [`https://github.com/<username>/repo.git`](https://github.com/<username>/repo.git)) lub [`ssh`]() ([`git@github.com:<username>/repo.git`]()).\\\n",
    "> Przykładowo, repozytorium `Courses` użytkownika `miklesz` na [`GitHub`](https://github.com/) dodajemy do repozytorium"
   ]
  },
  {
   "cell_type": "markdown",
   "metadata": {
    "slideshow": {
     "slide_type": "subslide"
    }
   },
   "source": [
    "> * odnośnik [`https://`](https://)"
   ]
  },
  {
   "cell_type": "code",
   "execution_count": null,
   "metadata": {
    "scrolled": false,
    "slideshow": {
     "slide_type": "fragment"
    }
   },
   "outputs": [],
   "source": [
    "git remote add courses-https https://github.com/miklesz/Courses.git"
   ]
  },
  {
   "cell_type": "markdown",
   "metadata": {
    "slideshow": {
     "slide_type": "fragment"
    }
   },
   "source": [
    "> * odnośnik [`ssh`]()"
   ]
  },
  {
   "cell_type": "code",
   "execution_count": null,
   "metadata": {
    "scrolled": false,
    "slideshow": {
     "slide_type": "fragment"
    }
   },
   "outputs": [],
   "source": [
    "git remote add courses-ssh git@github.com:miklesz/Courses.git"
   ]
  },
  {
   "cell_type": "markdown",
   "metadata": {
    "slideshow": {
     "slide_type": "subslide"
    }
   },
   "source": [
    "> Dla każdego zdalnego repozytorium mamy dwa odnośniki\n",
    "> * `fetch` do pobierania zmian z repozytorium zdalnego i dodawania ich do repozytorium lokalnego\n",
    "> * `push` do wysyłania zmian z repozytorium lokalnego do repozytorium zdalnego"
   ]
  },
  {
   "cell_type": "markdown",
   "metadata": {
    "slideshow": {
     "slide_type": "subslide"
    }
   },
   "source": [
    "Sprawdzamy repozytoria zdalne skonfigurowane dla naszego lokalnego repozytorium poleceniem `git remote -v`:"
   ]
  },
  {
   "cell_type": "code",
   "execution_count": null,
   "metadata": {
    "scrolled": false,
    "slideshow": {
     "slide_type": "fragment"
    }
   },
   "outputs": [],
   "source": [
    "git remote -v"
   ]
  },
  {
   "cell_type": "markdown",
   "metadata": {
    "slideshow": {
     "slide_type": "slide"
    }
   },
   "source": [
    "### Modyfikacja parametrów repozytorium zdalnego"
   ]
  },
  {
   "cell_type": "markdown",
   "metadata": {
    "slideshow": {
     "slide_type": "subslide"
    }
   },
   "source": [
    "Jeżeli repozytorium zdalne zmieniło swój adres na `<nowy-url>` możemy go zmienić poleceniem:\n",
    "\n",
    "```sh\n",
    "git remote set-url <alias> <nowy-url>\n",
    "```\n",
    "\n",
    "Usuwanie informacji o zdalnym repozytorium z naszego lokalnego umożliwia komenda:\n",
    "\n",
    "```sh\n",
    "git remote del <alias-do-repozytoium>\n",
    "```\n",
    "\n",
    "W celu wypchnięcia nowych zmian zapisanych w commitach z repozytorium lokalnego należy użyć komendy `git push`:\n",
    "\n",
    "```sh\n",
    "git push <alias-do-repozytorium> <gałąź>\n",
    "```\n",
    "\n",
    "Do pobrania zmian z zdalnego repozytorium służy komenda `git pull`:\n",
    "\n",
    "```sh\n",
    "git pull <alias-do-repozytorium> <gałąź>\n",
    "```"
   ]
  },
  {
   "cell_type": "markdown",
   "metadata": {
    "slideshow": {
     "slide_type": "slide"
    }
   },
   "source": [
    "### Gałęzie"
   ]
  },
  {
   "cell_type": "markdown",
   "metadata": {
    "slideshow": {
     "slide_type": "subslide"
    }
   },
   "source": [
    "Gałęziami nazywamy równorzędne wersje projektu, najczęściej rozwijające pewne funkcjonalności (lub np. łatające błędy) poza główną linią projektu. Najczęściej te gałęzi są później dołączane do głównej linii (`master`) projektu.\n",
    "\n",
    "Utworzenie nowej gałęzi:\n",
    "\n",
    "```sh\n",
    "git branch <nazwa-gałęzi>\n",
    "```\n",
    "\n",
    "Wyświetlenie gałęzi lokalnych w repozytorium:\n",
    "\n",
    "```sh\n",
    "git branch nowa-funkcja\n",
    "git branch\n",
    "* master\n",
    "  nowa-funkcja\n",
    "```\n",
    "\n",
    "Zmiana aktualnej gałęzi:\n",
    "\n",
    "```sh\n",
    "git checkout <nazwa-gałęzi>\n",
    "```"
   ]
  },
  {
   "cell_type": "markdown",
   "metadata": {
    "slideshow": {
     "slide_type": "slide"
    }
   },
   "source": [
    "### Konflikty"
   ]
  },
  {
   "cell_type": "markdown",
   "metadata": {
    "slideshow": {
     "slide_type": "subslide"
    }
   },
   "source": [
    "Konfliktem nazywamy równorzędne zmiany w tych samych liniach kodu. Przykładowo chcemy połączyć zmiany od współpracownika A oraz od współpracownika B, ale niestety te zmiany zaszły na tych samych liniach w tym samym pliku. Jak wtedy mamy zdecydować, która zmiana powinna zostać?\n",
    "\n",
    "![](https://imperialcollegelondon.github.io/git-novice/fig/conflict.svg)\n",
    "\n",
    "Serwisy typu GitHub, GitLab czy BitBucket często wyświetlają informacje o możliwości zmerge'owania (przyłączenia) innej gałęzi bez konfliktów, ewentualnie wyświetlają te konflikty."
   ]
  },
  {
   "cell_type": "markdown",
   "metadata": {
    "slideshow": {
     "slide_type": "subslide"
    }
   },
   "source": [
    "Konflikt możemy wywołać również na swoim komputerze, bez uczestnictwa drugiej osoby. Wystarczy do tego użyć gałęzi:"
   ]
  },
  {
   "cell_type": "markdown",
   "metadata": {
    "slideshow": {
     "slide_type": "fragment"
    }
   },
   "source": [
    "* przejdź na gałąź master (`git checkout master`)"
   ]
  },
  {
   "cell_type": "code",
   "execution_count": null,
   "metadata": {
    "scrolled": false,
    "slideshow": {
     "slide_type": "fragment"
    }
   },
   "outputs": [],
   "source": [
    "git checkout master"
   ]
  },
  {
   "cell_type": "markdown",
   "metadata": {
    "slideshow": {
     "slide_type": "subslide"
    }
   },
   "source": [
    "* utwórz gałąź np. konflikt (`git branch konflikt`)"
   ]
  },
  {
   "cell_type": "code",
   "execution_count": null,
   "metadata": {
    "scrolled": false,
    "slideshow": {
     "slide_type": "fragment"
    }
   },
   "outputs": [],
   "source": [
    "git branch konflikt"
   ]
  },
  {
   "cell_type": "markdown",
   "metadata": {
    "slideshow": {
     "slide_type": "subslide"
    }
   },
   "source": [
    "* wyedytuj istniejący plik, np. `pierwszy.txt`"
   ]
  },
  {
   "cell_type": "code",
   "execution_count": null,
   "metadata": {
    "slideshow": {
     "slide_type": "fragment"
    }
   },
   "outputs": [],
   "source": [
    "cat pierwszy.txt"
   ]
  },
  {
   "cell_type": "code",
   "execution_count": null,
   "metadata": {
    "scrolled": false,
    "slideshow": {
     "slide_type": "fragment"
    }
   },
   "outputs": [],
   "source": [
    "echo \"to jest treść z gałęzi master\" > pierwszy.txt"
   ]
  },
  {
   "cell_type": "code",
   "execution_count": null,
   "metadata": {
    "scrolled": false,
    "slideshow": {
     "slide_type": "fragment"
    }
   },
   "outputs": [],
   "source": [
    "cat pierwszy.txt"
   ]
  },
  {
   "cell_type": "markdown",
   "metadata": {
    "slideshow": {
     "slide_type": "subslide"
    }
   },
   "source": [
    "* zapisz zmiany (`git add pierwszy.txt`, `git commit`)"
   ]
  },
  {
   "cell_type": "code",
   "execution_count": null,
   "metadata": {
    "scrolled": false,
    "slideshow": {
     "slide_type": "fragment"
    }
   },
   "outputs": [],
   "source": [
    "git add pierwszy.txt"
   ]
  },
  {
   "cell_type": "code",
   "execution_count": null,
   "metadata": {
    "scrolled": false,
    "slideshow": {
     "slide_type": "fragment"
    }
   },
   "outputs": [],
   "source": [
    "git commit -m \"Zapisujemy zmiany\""
   ]
  },
  {
   "cell_type": "markdown",
   "metadata": {
    "slideshow": {
     "slide_type": "subslide"
    }
   },
   "source": [
    "* przejdź na gałąź konflikt (`git checkout konflikt`)"
   ]
  },
  {
   "cell_type": "code",
   "execution_count": null,
   "metadata": {
    "scrolled": false,
    "slideshow": {
     "slide_type": "fragment"
    }
   },
   "outputs": [],
   "source": [
    "git checkout konflikt"
   ]
  },
  {
   "cell_type": "markdown",
   "metadata": {
    "slideshow": {
     "slide_type": "subslide"
    }
   },
   "source": [
    "* wyedytuj ten sam plik `pierwszy.txt`, najlepiej wprowadzając inne zmiany"
   ]
  },
  {
   "cell_type": "code",
   "execution_count": null,
   "metadata": {
    "slideshow": {
     "slide_type": "fragment"
    }
   },
   "outputs": [],
   "source": [
    "cat pierwszy.txt"
   ]
  },
  {
   "cell_type": "code",
   "execution_count": null,
   "metadata": {
    "scrolled": false,
    "slideshow": {
     "slide_type": "fragment"
    }
   },
   "outputs": [],
   "source": [
    "echo \"to jest inna treść z gałęzi konflikt\" > pierwszy.txt"
   ]
  },
  {
   "cell_type": "code",
   "execution_count": null,
   "metadata": {
    "scrolled": false,
    "slideshow": {
     "slide_type": "fragment"
    }
   },
   "outputs": [],
   "source": [
    "cat pierwszy.txt"
   ]
  },
  {
   "cell_type": "markdown",
   "metadata": {
    "slideshow": {
     "slide_type": "subslide"
    }
   },
   "source": [
    "* zapisz zmiany (`git add pierwszy.txt`, `git commit`)"
   ]
  },
  {
   "cell_type": "code",
   "execution_count": null,
   "metadata": {
    "scrolled": false,
    "slideshow": {
     "slide_type": "fragment"
    }
   },
   "outputs": [],
   "source": [
    "git add pierwszy.txt"
   ]
  },
  {
   "cell_type": "code",
   "execution_count": null,
   "metadata": {
    "scrolled": false,
    "slideshow": {
     "slide_type": "fragment"
    }
   },
   "outputs": [],
   "source": [
    "git commit -m \"Zapisujemy inne zmiany\""
   ]
  },
  {
   "cell_type": "markdown",
   "metadata": {
    "slideshow": {
     "slide_type": "subslide"
    }
   },
   "source": [
    "* przejdź z powrotem na gałąź master (`git checkout master`)"
   ]
  },
  {
   "cell_type": "code",
   "execution_count": null,
   "metadata": {
    "scrolled": false,
    "slideshow": {
     "slide_type": "fragment"
    }
   },
   "outputs": [],
   "source": [
    "git checkout master"
   ]
  },
  {
   "cell_type": "markdown",
   "metadata": {
    "slideshow": {
     "slide_type": "subslide"
    }
   },
   "source": [
    "* dokonaj przyłączenia gałęzi konflikt (`git merge konflikt`)"
   ]
  },
  {
   "cell_type": "code",
   "execution_count": null,
   "metadata": {
    "scrolled": false,
    "slideshow": {
     "slide_type": "fragment"
    }
   },
   "outputs": [],
   "source": [
    "git merge konflikt"
   ]
  },
  {
   "cell_type": "markdown",
   "metadata": {
    "slideshow": {
     "slide_type": "subslide"
    }
   },
   "source": [
    "Powstanie konflikt na pliku `pierwszy.txt`. Informacje z `git status` pozwolą na jego rozwiązanie:"
   ]
  },
  {
   "cell_type": "code",
   "execution_count": null,
   "metadata": {
    "scrolled": false,
    "slideshow": {
     "slide_type": "fragment"
    }
   },
   "outputs": [],
   "source": [
    "git status"
   ]
  },
  {
   "cell_type": "markdown",
   "metadata": {
    "slideshow": {
     "slide_type": "subslide"
    }
   },
   "source": [
    "Konflikt oznaczany jest w następujący sposób:"
   ]
  },
  {
   "cell_type": "code",
   "execution_count": null,
   "metadata": {
    "scrolled": false,
    "slideshow": {
     "slide_type": "fragment"
    }
   },
   "outputs": [],
   "source": [
    "cat pierwszy.txt"
   ]
  },
  {
   "cell_type": "markdown",
   "metadata": {
    "slideshow": {
     "slide_type": "fragment"
    }
   },
   "source": [
    "`<<<<<<<`, `=======` i `>>>>>>>` są markerami konfliktu. Należy wybrać jedną wersję (pomiędzy `<<<<<<<` i `=======` ALBO pomiędzy `=======` i `>>>>>>>`) i resztę linii skasować."
   ]
  },
  {
   "cell_type": "markdown",
   "metadata": {
    "slideshow": {
     "slide_type": "subslide"
    }
   },
   "source": [
    "W powyższym przykładzie, po wyczyszczeniu konfliktu, plik wyglądałby następująco (wybrana wersja z gałęzi `konflikt`):"
   ]
  },
  {
   "cell_type": "code",
   "execution_count": null,
   "metadata": {
    "scrolled": false,
    "slideshow": {
     "slide_type": "fragment"
    }
   },
   "outputs": [],
   "source": [
    "echo \"to jest inna treść z gałęzi konflikt\" > pierwszy.txt"
   ]
  },
  {
   "cell_type": "code",
   "execution_count": null,
   "metadata": {
    "scrolled": false,
    "slideshow": {
     "slide_type": "fragment"
    }
   },
   "outputs": [],
   "source": [
    "cat pierwszy.txt"
   ]
  },
  {
   "cell_type": "markdown",
   "metadata": {
    "slideshow": {
     "slide_type": "subslide"
    }
   },
   "source": [
    "Dalsze kroki pokaże nam `git status`:"
   ]
  },
  {
   "cell_type": "code",
   "execution_count": null,
   "metadata": {
    "scrolled": false,
    "slideshow": {
     "slide_type": "fragment"
    }
   },
   "outputs": [],
   "source": [
    "git status"
   ]
  },
  {
   "cell_type": "markdown",
   "metadata": {
    "slideshow": {
     "slide_type": "subslide"
    }
   },
   "source": [
    "Należy oznaczyć **ręcznie**, że plik ma rozwiązany konflikt:"
   ]
  },
  {
   "cell_type": "code",
   "execution_count": null,
   "metadata": {
    "scrolled": false,
    "slideshow": {
     "slide_type": "fragment"
    }
   },
   "outputs": [],
   "source": [
    "git add pierwszy.txt"
   ]
  },
  {
   "cell_type": "markdown",
   "metadata": {
    "slideshow": {
     "slide_type": "fragment"
    }
   },
   "source": [
    "I kontynuować przyłączanie zgodnie z instrukcjami z `git status`:"
   ]
  },
  {
   "cell_type": "code",
   "execution_count": null,
   "metadata": {
    "scrolled": false,
    "slideshow": {
     "slide_type": "fragment"
    }
   },
   "outputs": [],
   "source": [
    "git status"
   ]
  },
  {
   "cell_type": "code",
   "execution_count": null,
   "metadata": {
    "scrolled": false,
    "slideshow": {
     "slide_type": "fragment"
    }
   },
   "outputs": [],
   "source": [
    "git commit -m \"Merge branch 'konflikt'\""
   ]
  },
  {
   "cell_type": "code",
   "execution_count": null,
   "metadata": {
    "scrolled": false,
    "slideshow": {
     "slide_type": "skip"
    }
   },
   "outputs": [],
   "source": []
  }
 ],
 "metadata": {
  "celltoolbar": "Slideshow",
  "kernelspec": {
   "display_name": "Bash",
   "language": "bash",
   "name": "bash"
  },
  "language_info": {
   "codemirror_mode": "shell",
   "file_extension": ".sh",
   "mimetype": "text/x-sh",
   "name": "bash"
  }
 },
 "nbformat": 4,
 "nbformat_minor": 4
}
