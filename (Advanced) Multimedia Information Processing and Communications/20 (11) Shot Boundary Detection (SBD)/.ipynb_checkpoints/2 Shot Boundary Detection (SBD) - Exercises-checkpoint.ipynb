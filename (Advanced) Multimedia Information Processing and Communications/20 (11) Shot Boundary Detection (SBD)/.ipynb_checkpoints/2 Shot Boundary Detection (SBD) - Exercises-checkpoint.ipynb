{
 "cells": [
  {
   "cell_type": "markdown",
   "id": "6fa64895",
   "metadata": {
    "slideshow": {
     "slide_type": "slide"
    }
   },
   "source": [
    "# Shot Boundary Detection (SBD) - Exercises\n",
    "\n",
    "_Authors: Mikołaj Leszczuk_\n",
    "\n",
    "[http://qoe.agh.edu.pl](http://qoe.agh.edu.pl)"
   ]
  },
  {
   "cell_type": "markdown",
   "id": "e5e37145",
   "metadata": {
    "slideshow": {
     "slide_type": "slide"
    }
   },
   "source": [
    "## Purpose of the Exercise"
   ]
  },
  {
   "cell_type": "markdown",
   "id": "33d4297f",
   "metadata": {
    "slideshow": {
     "slide_type": "fragment"
    }
   },
   "source": [
    "The purpose of this exercise is acquiring the practice in opportunities for video content analysis. An example of video content analysis is automatic Shot Boundary Detection (SBD). SBD is commonly used in case of creating video summarizations. "
   ]
  },
  {
   "cell_type": "markdown",
   "id": "916b060c",
   "metadata": {
    "slideshow": {
     "slide_type": "slide"
    }
   },
   "source": [
    "## Needed Knowledge"
   ]
  },
  {
   "cell_type": "markdown",
   "id": "9f7f5aed",
   "metadata": {
    "slideshow": {
     "slide_type": "fragment"
    }
   },
   "source": [
    "Before starting exercise, one should possess knowledge in the following topics: \n",
    "* SBD basics (why it is used) \n",
    "* SBD methods (general information) \n",
    "* Applications for SBD used during the exercise "
   ]
  },
  {
   "cell_type": "code",
   "execution_count": null,
   "id": "32762557",
   "metadata": {
    "slideshow": {
     "slide_type": "slide"
    }
   },
   "outputs": [],
   "source": []
  },
  {
   "cell_type": "code",
   "execution_count": null,
   "id": "a64b23cc",
   "metadata": {
    "slideshow": {
     "slide_type": "skip"
    }
   },
   "outputs": [],
   "source": []
  }
 ],
 "metadata": {
  "celltoolbar": "Slideshow",
  "kernelspec": {
   "display_name": "Python 3 (ipykernel)",
   "language": "python",
   "name": "python3"
  },
  "language_info": {
   "codemirror_mode": {
    "name": "ipython",
    "version": 3
   },
   "file_extension": ".py",
   "mimetype": "text/x-python",
   "name": "python",
   "nbconvert_exporter": "python",
   "pygments_lexer": "ipython3",
   "version": "3.10.7"
  }
 },
 "nbformat": 4,
 "nbformat_minor": 5
}
