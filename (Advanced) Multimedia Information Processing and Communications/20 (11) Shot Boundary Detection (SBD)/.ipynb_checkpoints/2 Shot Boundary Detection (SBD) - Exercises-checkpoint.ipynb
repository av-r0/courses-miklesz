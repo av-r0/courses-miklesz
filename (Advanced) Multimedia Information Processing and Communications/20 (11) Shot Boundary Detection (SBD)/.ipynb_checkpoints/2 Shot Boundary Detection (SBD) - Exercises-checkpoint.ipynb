{
 "cells": [
  {
   "cell_type": "markdown",
   "id": "6fa64895",
   "metadata": {
    "slideshow": {
     "slide_type": "slide"
    }
   },
   "source": [
    "# Shot Boundary Detection (SBD) - Exercises\n",
    "\n",
    "_Authors: Mikołaj Leszczuk_\n",
    "\n",
    "[http://qoe.agh.edu.pl](http://qoe.agh.edu.pl)"
   ]
  },
  {
   "cell_type": "markdown",
   "id": "cce5c565",
   "metadata": {
    "slideshow": {
     "slide_type": "slide"
    }
   },
   "source": [
    "## Purpose of the Exercise"
   ]
  },
  {
   "cell_type": "markdown",
   "id": "52a6e6b3",
   "metadata": {
    "slideshow": {
     "slide_type": "fragment"
    }
   },
   "source": [
    "The purpose of this exercise is acquiring the practice in opportunities for video content analysis. An example of video content analysis is automatic Shot Boundary Detection (SBD). SBD is commonly used in case of creating video summarizations. "
   ]
  },
  {
   "cell_type": "markdown",
   "id": "4db9778c",
   "metadata": {
    "slideshow": {
     "slide_type": "slide"
    }
   },
   "source": [
    "## Needed Knowledge"
   ]
  },
  {
   "cell_type": "markdown",
   "id": "d5692dd9",
   "metadata": {
    "slideshow": {
     "slide_type": "fragment"
    }
   },
   "source": [
    "Before starting exercise, one should possess knowledge in the following topics: \n",
    "* SBD basics (why it is used) \n",
    "* SBD methods (general information) \n",
    "* Applications for SBD used during the exercise "
   ]
  },
  {
   "cell_type": "markdown",
   "id": "ff823313",
   "metadata": {
    "slideshow": {
     "slide_type": "slide"
    }
   },
   "source": [
    "## Work Environment"
   ]
  },
  {
   "cell_type": "markdown",
   "id": "68e52dba",
   "metadata": {
    "slideshow": {
     "slide_type": "fragment"
    }
   },
   "source": [
    "We will use the following solution for SBD: [PySceneDetect](http://scenedetect.com/en/latest/) ([the PySceneDetect Python API (the *scenedetect* module)](https://scenedetect.com/projects/Manual/en/latest/))."
   ]
  },
  {
   "cell_type": "code",
   "execution_count": null,
   "id": "81867679",
   "metadata": {
    "slideshow": {
     "slide_type": "subslide"
    }
   },
   "outputs": [],
   "source": [
    "pip install pip --upgrade"
   ]
  },
  {
   "cell_type": "code",
   "execution_count": null,
   "id": "8e1d76a2",
   "metadata": {
    "slideshow": {
     "slide_type": "subslide"
    }
   },
   "outputs": [],
   "source": [
    "pip install scenedetect --upgrade"
   ]
  },
  {
   "cell_type": "markdown",
   "id": "78aa4217",
   "metadata": {
    "slideshow": {
     "slide_type": "slide"
    }
   },
   "source": [
    "## Execution of the Exercise"
   ]
  },
  {
   "cell_type": "markdown",
   "id": "292be10a",
   "metadata": {
    "slideshow": {
     "slide_type": "fragment"
    }
   },
   "source": [
    "The first task is the preparation of a video, which will be used for testing SBD systems. You may use files with videos (like: [UGS05.mpg](UGS05.mpg)); alternatively, it is possible to find video files (having numerous, easy to distinguish, shots) on the Internet. The proposes files are preferred as they are accompanied by manually created reference shot positions (`ref_*.csv` files, column: `manual_past_f_num`). Please be aware that not all video formats and codecs are handled by the programs used for the exercise. The videos should not be too long as the exercise duration is limited. In the case of long videos, it is acceptable to analyze only a part of a video. The audio track is not used; thus, also it is not needed."
   ]
  },
  {
   "cell_type": "markdown",
   "id": "d6115d54",
   "metadata": {
    "slideshow": {
     "slide_type": "fragment"
    }
   },
   "source": [
    "If the reference shot positions are not available, you should oversee the video to obtain real shot boundaries. Please note that different programs may use numbering of frame numbers starting from `0` or `1`, in case of incompatibility, you should apply the appropriate translation."
   ]
  },
  {
   "cell_type": "markdown",
   "id": "0e96a5c2",
   "metadata": {
    "slideshow": {
     "slide_type": "subslide"
    }
   },
   "source": [
    "The next steps are a try of automatic SBD in the video, and then, a determination of the accuracy of SBD."
   ]
  },
  {
   "cell_type": "markdown",
   "id": "b70467dd",
   "metadata": {
    "slideshow": {
     "slide_type": "fragment"
    }
   },
   "source": [
    "To get started, the **`scenedetect.detect()`** function takes a path to a video and a [scene detector object](https://scenedetect.com/projects/Manual/en/latest/api/detectors.html#scenedetect-detectors), and returns a list of start/end timecodes. For detecting fast cuts (shot changes), we use the **`ContentDetector`**:"
   ]
  },
  {
   "cell_type": "code",
   "execution_count": null,
   "id": "eecf9e3d",
   "metadata": {
    "slideshow": {
     "slide_type": "fragment"
    }
   },
   "outputs": [],
   "source": [
    "from scenedetect import detect, ContentDetector\n",
    "shot_list = detect(\n",
    "    video_path='UGS05.mpg',\n",
    "    detector=ContentDetector(),\n",
    "    stats_file_path='stats_file.txt',\n",
    "    show_progress=True,\n",
    ")"
   ]
  },
  {
   "cell_type": "markdown",
   "id": "ffc6ecb6",
   "metadata": {
    "slideshow": {
     "slide_type": "fragment"
    }
   },
   "source": [
    "Note that when calling **`detect`** we set `stats_file_path='stats_file.txt'` save per-frame metrics to [stats_file.txt](stats_file.txt) and we set `show_progress=True` to display a progress bar with estimated time remaining."
   ]
  },
  {
   "cell_type": "markdown",
   "id": "b15d1679",
   "metadata": {
    "slideshow": {
     "slide_type": "subslide"
    }
   },
   "source": [
    "`shot_list` is now a list of **`FrameTimecode`** pairs representing the start/end of each shot (try printing `shot_list`). "
   ]
  },
  {
   "cell_type": "code",
   "execution_count": null,
   "id": "09f841dc",
   "metadata": {
    "slideshow": {
     "slide_type": "fragment"
    }
   },
   "outputs": [],
   "source": [
    "shot_list"
   ]
  },
  {
   "cell_type": "markdown",
   "id": "307ecf6d",
   "metadata": {
    "slideshow": {
     "slide_type": "subslide"
    }
   },
   "source": [
    "Next, let’s print the shot list in a more readable format by iterating over it:"
   ]
  },
  {
   "cell_type": "code",
   "execution_count": null,
   "id": "78a6758b",
   "metadata": {
    "slideshow": {
     "slide_type": "fragment"
    }
   },
   "outputs": [],
   "source": [
    "for i, shot in enumerate(shot_list):\n",
    "    print('Shot %2d: Start %s / Frame %d, End %s / Frame %d' % (\n",
    "        i+1,\n",
    "        shot[0].get_timecode(), shot[0].get_frames(),\n",
    "        shot[1].get_timecode(), shot[1].get_frames(),))"
   ]
  },
  {
   "cell_type": "markdown",
   "id": "86e6c739",
   "metadata": {
    "slideshow": {
     "slide_type": "slide"
    }
   },
   "source": [
    "## Next Steps"
   ]
  },
  {
   "cell_type": "markdown",
   "id": "f159ec8e",
   "metadata": {
    "slideshow": {
     "slide_type": "fragment"
    }
   },
   "source": [
    "Let us use methods presented in the lecture for determining the accuracy of SBD (in particular, let us try to assess the accuracy of SBD using Precision and Recall metrics). "
   ]
  },
  {
   "cell_type": "code",
   "execution_count": null,
   "id": "9d13550e",
   "metadata": {
    "slideshow": {
     "slide_type": "fragment"
    }
   },
   "outputs": [],
   "source": [
    "positives = [shot[1].get_frames() for shot in shot_list]\n",
    "print(positives)"
   ]
  },
  {
   "cell_type": "code",
   "execution_count": null,
   "id": "d8f90664",
   "metadata": {
    "slideshow": {
     "slide_type": "fragment"
    }
   },
   "outputs": [],
   "source": [
    "with open('ref_UGS05.csv') as file_object:\n",
    "    ground_truth = [int(line) for line in file_object.readlines()[1:]]\n",
    "print(ground_truth)"
   ]
  },
  {
   "cell_type": "markdown",
   "id": "d8a90f91",
   "metadata": {
    "slideshow": {
     "slide_type": "subslide"
    }
   },
   "source": [
    "Obtaining lists of true positives and false positives:"
   ]
  },
  {
   "cell_type": "code",
   "execution_count": null,
   "id": "5459b4bd",
   "metadata": {
    "slideshow": {
     "slide_type": "fragment"
    }
   },
   "outputs": [],
   "source": [
    "true_positives = []\n",
    "false_positives = []\n",
    "for positive in positives:\n",
    "    if positive in ground_truth:\n",
    "        true_positives.append(positive)\n",
    "    else:\n",
    "        false_positives.append(positive)"
   ]
  },
  {
   "cell_type": "code",
   "execution_count": null,
   "id": "222816b8",
   "metadata": {
    "slideshow": {
     "slide_type": "fragment"
    }
   },
   "outputs": [],
   "source": [
    "print(true_positives)"
   ]
  },
  {
   "cell_type": "code",
   "execution_count": null,
   "id": "41a584b3",
   "metadata": {
    "slideshow": {
     "slide_type": "fragment"
    }
   },
   "outputs": [],
   "source": [
    "print(false_positives)"
   ]
  },
  {
   "cell_type": "markdown",
   "id": "3b512a3a",
   "metadata": {
    "slideshow": {
     "slide_type": "subslide"
    }
   },
   "source": [
    "Obtaining values of $t_p$ and $f_p$:"
   ]
  },
  {
   "cell_type": "code",
   "execution_count": null,
   "id": "179c6f25",
   "metadata": {
    "slideshow": {
     "slide_type": "fragment"
    }
   },
   "outputs": [],
   "source": [
    "tp = len(true_positives)\n",
    "print(tp)"
   ]
  },
  {
   "cell_type": "code",
   "execution_count": null,
   "id": "cad24eb4",
   "metadata": {
    "slideshow": {
     "slide_type": "fragment"
    }
   },
   "outputs": [],
   "source": [
    "fp = len(false_positives)\n",
    "print(fp)"
   ]
  },
  {
   "cell_type": "markdown",
   "id": "a9f51b67",
   "metadata": {
    "slideshow": {
     "slide_type": "subslide"
    }
   },
   "source": [
    "Obtaining list of false negatives:"
   ]
  },
  {
   "cell_type": "code",
   "execution_count": null,
   "id": "32feddb8",
   "metadata": {
    "slideshow": {
     "slide_type": "fragment"
    }
   },
   "outputs": [],
   "source": [
    "false_negatives = [\n",
    "    false_negative for false_negative in ground_truth if false_negative not in positives\n",
    "]\n",
    "print(false_negatives)"
   ]
  },
  {
   "cell_type": "markdown",
   "id": "6f380d9c",
   "metadata": {
    "slideshow": {
     "slide_type": "subslide"
    }
   },
   "source": [
    "Ontaining value of $f_n$:"
   ]
  },
  {
   "cell_type": "code",
   "execution_count": null,
   "id": "f1e2fafe",
   "metadata": {
    "slideshow": {
     "slide_type": "fragment"
    }
   },
   "outputs": [],
   "source": [
    "fn = len(false_negatives)\n",
    "print(fn)"
   ]
  },
  {
   "cell_type": "markdown",
   "id": "44025ae4",
   "metadata": {
    "slideshow": {
     "slide_type": "fragment"
    }
   },
   "source": [
    "Ontaining value of $t_n$:"
   ]
  },
  {
   "cell_type": "code",
   "execution_count": null,
   "id": "fae3e0e2",
   "metadata": {
    "slideshow": {
     "slide_type": "fragment"
    }
   },
   "outputs": [],
   "source": [
    "with open('stats_file.txt') as file_object:\n",
    "    tn = len(file_object.readlines()) - tp - fp - fn\n",
    "print(tn)"
   ]
  },
  {
   "cell_type": "markdown",
   "id": "3e789bd1",
   "metadata": {
    "slideshow": {
     "slide_type": "subslide"
    }
   },
   "source": [
    "Obtaining values of Precision, Recall and Accuracy:"
   ]
  },
  {
   "cell_type": "code",
   "execution_count": null,
   "id": "857e381d",
   "metadata": {
    "slideshow": {
     "slide_type": "fragment"
    }
   },
   "outputs": [],
   "source": [
    "p = tp / (tp + fp)\n",
    "print(p)"
   ]
  },
  {
   "cell_type": "code",
   "execution_count": null,
   "id": "92486567",
   "metadata": {
    "slideshow": {
     "slide_type": "fragment"
    }
   },
   "outputs": [],
   "source": [
    "r = tp / (tp + fn)\n",
    "print(r)"
   ]
  },
  {
   "cell_type": "code",
   "execution_count": null,
   "id": "472b0b94",
   "metadata": {
    "slideshow": {
     "slide_type": "fragment"
    }
   },
   "outputs": [],
   "source": [
    "a = (tp + tn) / (tp + tn + fp + fn)\n",
    "print(a)"
   ]
  },
  {
   "cell_type": "markdown",
   "id": "19433898",
   "metadata": {
    "slideshow": {
     "slide_type": "subslide"
    }
   },
   "source": [
    "If time permits, after testing SBD for video content with easily detectable shot boundaries, please try downloading the video (or videos) where shot boundaries are not so visible. Please do the tests for these videos as well."
   ]
  },
  {
   "cell_type": "markdown",
   "id": "b893ca96",
   "metadata": {
    "slideshow": {
     "slide_type": "slide"
    }
   },
   "source": [
    "## Report"
   ]
  },
  {
   "cell_type": "markdown",
   "id": "d06d8dc6",
   "metadata": {
    "slideshow": {
     "slide_type": "fragment"
    }
   },
   "source": [
    "In a report (if required – please check) please consider methods presented in the lecture for determining the accuracy of SBD."
   ]
  },
  {
   "cell_type": "code",
   "execution_count": null,
   "id": "a64b23cc",
   "metadata": {
    "slideshow": {
     "slide_type": "skip"
    }
   },
   "outputs": [],
   "source": []
  }
 ],
 "metadata": {
  "celltoolbar": "Slideshow",
  "kernelspec": {
   "display_name": "Python 3 (ipykernel)",
   "language": "python",
   "name": "python3"
  },
  "language_info": {
   "codemirror_mode": {
    "name": "ipython",
    "version": 3
   },
   "file_extension": ".py",
   "mimetype": "text/x-python",
   "name": "python",
   "nbconvert_exporter": "python",
   "pygments_lexer": "ipython3",
   "version": "3.10.7"
  }
 },
 "nbformat": 4,
 "nbformat_minor": 5
}
