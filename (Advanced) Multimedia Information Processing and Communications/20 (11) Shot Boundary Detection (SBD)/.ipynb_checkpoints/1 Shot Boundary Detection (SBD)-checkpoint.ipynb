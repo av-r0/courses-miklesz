{
 "cells": [
  {
   "cell_type": "markdown",
   "id": "6fa64895",
   "metadata": {
    "slideshow": {
     "slide_type": "slide"
    }
   },
   "source": [
    "# Shot Boundary Detection (SBD)\n",
    "\n",
    "_Authors: Mikołaj Leszczuk, Jakub Nawała_\n",
    "\n",
    "[http://qoe.agh.edu.pl](http://qoe.agh.edu.pl)"
   ]
  },
  {
   "cell_type": "code",
   "execution_count": null,
   "id": "0ed72d3c",
   "metadata": {
    "slideshow": {
     "slide_type": "subslide"
    }
   },
   "outputs": [],
   "source": [
    "import matplotlib.pyplot as plt"
   ]
  },
  {
   "cell_type": "markdown",
   "id": "74d215a5",
   "metadata": {
    "slideshow": {
     "slide_type": "slide"
    }
   },
   "source": [
    "## Video Summarization"
   ]
  },
  {
   "cell_type": "markdown",
   "id": "4141d15a",
   "metadata": {
    "slideshow": {
     "slide_type": "fragment"
    }
   },
   "source": [
    "![](https://upload.wikimedia.org/wikipedia/en/8/85/Terminator2poster.jpg)"
   ]
  },
  {
   "cell_type": "markdown",
   "id": "1f0c4255",
   "metadata": {
    "slideshow": {
     "slide_type": "subslide"
    }
   },
   "source": [
    "* Movie time: **137 minutes (about 2 and a half hours)**\n",
    "* Trailer time: **2-3 minutes**\n",
    "* Trailer creation is **laborious**\n",
    "* Could it be created **automatically**?\n",
    "* What **quality** would it have?"
   ]
  },
  {
   "cell_type": "markdown",
   "id": "721b5c65",
   "metadata": {
    "slideshow": {
     "slide_type": "slide"
    }
   },
   "source": [
    "## [Example Summarization](Terminator/Summarizing_01-TZI-trailer_terminator2_2006_04_05b.mp4)"
   ]
  },
  {
   "attachments": {},
   "cell_type": "markdown",
   "id": "0848fe6b",
   "metadata": {
    "slideshow": {
     "slide_type": "slide"
    }
   },
   "source": [
    "## From Full Video to Summarization"
   ]
  },
  {
   "cell_type": "markdown",
   "id": "8958561f",
   "metadata": {
    "slideshow": {
     "slide_type": "fragment"
    }
   },
   "source": [
    "![](from.svg)"
   ]
  },
  {
   "cell_type": "markdown",
   "id": "14c6a1d0",
   "metadata": {
    "slideshow": {
     "slide_type": "slide"
    }
   },
   "source": [
    "![](structural.png)"
   ]
  },
  {
   "cell_type": "markdown",
   "id": "1cc721ba",
   "metadata": {
    "slideshow": {
     "slide_type": "slide"
    }
   },
   "source": [
    "## **SB** Types"
   ]
  },
  {
   "cell_type": "markdown",
   "id": "b52ded19",
   "metadata": {
    "slideshow": {
     "slide_type": "fragment"
    }
   },
   "source": [
    "* Abrupt cut:\n",
    "![](sb_1_1.png)"
   ]
  },
  {
   "cell_type": "markdown",
   "id": "4e3e8ed4",
   "metadata": {
    "slideshow": {
     "slide_type": "fragment"
    }
   },
   "source": [
    "* Dissolve:\n",
    "![](sb_1_2.png)"
   ]
  },
  {
   "cell_type": "markdown",
   "id": "bd9854b1",
   "metadata": {
    "slideshow": {
     "slide_type": "subslide"
    }
   },
   "source": [
    "* Fade out:\n",
    "![](sb_2_1.png)"
   ]
  },
  {
   "cell_type": "markdown",
   "id": "b028cdb9",
   "metadata": {
    "slideshow": {
     "slide_type": "fragment"
    }
   },
   "source": [
    "* Fade in:\n",
    "![](sb_2_2.png)"
   ]
  },
  {
   "cell_type": "markdown",
   "id": "52d17810",
   "metadata": {
    "slideshow": {
     "slide_type": "slide"
    }
   },
   "source": [
    "## Distinction from **SB**-Like Events"
   ]
  },
  {
   "cell_type": "markdown",
   "id": "01fee0f3",
   "metadata": {
    "slideshow": {
     "slide_type": "fragment"
    }
   },
   "source": [
    "* Camera movements (including pans):\n",
    "![](dist_1.png)"
   ]
  },
  {
   "cell_type": "markdown",
   "id": "5f8d7dcb",
   "metadata": {
    "slideshow": {
     "slide_type": "fragment"
    }
   },
   "source": [
    "* Background movements"
   ]
  },
  {
   "cell_type": "markdown",
   "id": "22d0c510",
   "metadata": {
    "slideshow": {
     "slide_type": "fragment"
    }
   },
   "source": [
    "* Object movements"
   ]
  },
  {
   "cell_type": "markdown",
   "id": "0ee0f530",
   "metadata": {
    "slideshow": {
     "slide_type": "fragment"
    }
   },
   "source": [
    "* Zoom:\n",
    "![](dist_2.png)"
   ]
  },
  {
   "cell_type": "markdown",
   "id": "2bffe71f",
   "metadata": {
    "slideshow": {
     "slide_type": "slide"
    }
   },
   "source": [
    "## Two Kinds of Possible Errors (Wrong Sensitivity)"
   ]
  },
  {
   "attachments": {},
   "cell_type": "markdown",
   "id": "ce8a4c57",
   "metadata": {
    "slideshow": {
     "slide_type": "slide"
    }
   },
   "source": [
    "### Detected non-existing **SB**"
   ]
  },
  {
   "cell_type": "markdown",
   "id": "90efdb68",
   "metadata": {
    "slideshow": {
     "slide_type": "fragment"
    }
   },
   "source": [
    "![](two_1.png)"
   ]
  },
  {
   "cell_type": "markdown",
   "id": "29d5e19f",
   "metadata": {
    "slideshow": {
     "slide_type": "slide"
    }
   },
   "source": [
    "### Not detected existing **SB**"
   ]
  },
  {
   "cell_type": "markdown",
   "id": "f98951db",
   "metadata": {
    "slideshow": {
     "slide_type": "fragment"
    }
   },
   "source": [
    "![](two_2.png)"
   ]
  },
  {
   "cell_type": "markdown",
   "id": "f979c9e5",
   "metadata": {
    "slideshow": {
     "slide_type": "slide"
    }
   },
   "source": [
    "## Accuracy Evaluations (Output Parameters)"
   ]
  },
  {
   "cell_type": "markdown",
   "id": "eb90ad8d",
   "metadata": {
    "slideshow": {
     "slide_type": "subslide"
    }
   },
   "source": [
    "![](https://upload.wikimedia.org/wikipedia/commons/2/26/Precisionrecall.svg)"
   ]
  },
  {
   "cell_type": "markdown",
   "id": "933e6733",
   "metadata": {
    "slideshow": {
     "slide_type": "subslide"
    }
   },
   "source": [
    "* Precision: $P=\\frac{t_p}{t_p+f_p}$\n",
    "* Recall: $R=\\frac{t_p}{t_p+f_n}$\n",
    "* Accuracy: $A=\\frac{t_p+t_n}{t_p+t_n+f_p+f_n}$"
   ]
  },
  {
   "attachments": {},
   "cell_type": "markdown",
   "id": "98650454",
   "metadata": {
    "slideshow": {
     "slide_type": "slide"
    }
   },
   "source": [
    "## Uncompressed Pixel-Based Comparison **SBD** Method"
   ]
  },
  {
   "cell_type": "markdown",
   "id": "0c5b1a0b",
   "metadata": {
    "slideshow": {
     "slide_type": "fragment"
    }
   },
   "source": [
    "* $AD$ (Average Difference) - simplest, fastest\n",
    "* $PSNR$ (Peak Signal to Noise Ratio) - most commonly used"
   ]
  },
  {
   "cell_type": "markdown",
   "id": "8d535377",
   "metadata": {
    "slideshow": {
     "slide_type": "fragment"
    }
   },
   "source": [
    "* $MAE$ (Mean Absolute Error)\n",
    "* $MSE$ (Mean Square Error)\n",
    "* $PSE$ (Peak Square Error)\n",
    "* $RMSE$ (Root Mean-Square Error)"
   ]
  },
  {
   "cell_type": "markdown",
   "id": "739f1cf7",
   "metadata": {
    "slideshow": {
     "slide_type": "subslide"
    }
   },
   "source": [
    "* Comparison of every relevant pixel\n",
    "* Assumptions\n",
    "  * $i$ - frame number\n",
    "  * $M$ - frame width\n",
    "  * $N$ - frame height\n",
    "  * $f_i(m,n), 1\\leq{}m\\leq{}M, 1\\leq{}n\\leq{}N$ - luminance function"
   ]
  },
  {
   "cell_type": "markdown",
   "id": "7b16b397",
   "metadata": {
    "slideshow": {
     "slide_type": "slide"
    }
   },
   "source": [
    "## **SBD** - $AD$"
   ]
  },
  {
   "cell_type": "markdown",
   "id": "49bba673",
   "metadata": {
    "slideshow": {
     "slide_type": "fragment"
    }
   },
   "source": [
    "* Averaged difference of each pixel\n",
    "* $AD=\\frac{1}{MN}\\sum^{M-1}_{i=0}\\sum^{N-1}_{i=0}|I(i,j)-K(i,j)|$\n",
    "* $AD=0$ for no differences (two identical frames)"
   ]
  },
  {
   "cell_type": "markdown",
   "id": "e1df651e",
   "metadata": {
    "slideshow": {
     "slide_type": "slide"
    }
   },
   "source": [
    "## **SBD** - $PSNR$"
   ]
  },
  {
   "cell_type": "markdown",
   "id": "39e1cb0c",
   "metadata": {
    "slideshow": {
     "slide_type": "fragment"
    }
   },
   "source": [
    "* $MSE=\\frac{1}{MN}\\sum^{M-1}_{i=0}\\sum^{N-1}_{i=0}[I(i,j)-K(i,j)]^2$\n",
    "* $PSNR=10\\cdot{}log_{10}(\\frac{MAX^2_I}{MSE})=20\\cdot{}log_{10}(\\frac{MAX_I}{\\sqrt{MSE}})=\\\\=20\\cdot{}log_{10}(MAX_I)-10\\cdot{}log_{10}(MSE)$\n",
    "* True for 8-bit data (max luminance, $MAX_I$, 255)\n",
    "* $PSNR=\\infty$ for no differences (two identical frames)"
   ]
  },
  {
   "cell_type": "markdown",
   "id": "288092b0",
   "metadata": {
    "slideshow": {
     "slide_type": "slide"
    }
   },
   "source": [
    "## $AD$ and $PSNR$ on Visible $SB$"
   ]
  },
  {
   "cell_type": "code",
   "execution_count": null,
   "id": "c9430999",
   "metadata": {
    "slideshow": {
     "slide_type": "fragment"
    }
   },
   "outputs": [],
   "source": [
    "frame_numbers = range(30)\n",
    "ads = [\n",
    "    15, 15, 12, 10, 15, 12, 10, 10, 10, 10, 13, 15, 10, 10, 11,\n",
    "    55, 12, 10,  5, 10, 14, 10,  5, 10, 11, 12, 10,  5, 10, 15\n",
    "]\n",
    "psnrs = [\n",
    "    38, 38, 45, 44, 45, 36, 40, 35, 36, 44, 45, 42, 41, 39, 37,\n",
    "    10, 45, 43, 44, 36, 41, 37, 41, 35, 43, 45, 43, 45, 43, 44,\n",
    "]\n",
    "plt.plot(frame_numbers, ads, frame_numbers, psnrs)\n",
    "plt.legend(('AD', 'PSNR [db]'));"
   ]
  },
  {
   "cell_type": "code",
   "execution_count": null,
   "id": "4725c662",
   "metadata": {
    "slideshow": {
     "slide_type": "subslide"
    }
   },
   "outputs": [],
   "source": [
    "plt.plot(frame_numbers, ads, frame_numbers, psnrs)\n",
    "plt.legend(('AD', 'PSNR [db]'));"
   ]
  },
  {
   "cell_type": "markdown",
   "id": "35679dc1",
   "metadata": {
    "slideshow": {
     "slide_type": "fragment"
    }
   },
   "source": [
    "* Consecutive frames within shot:\n",
    "  * $AD$ ↓\n",
    "  * $PSNR$ ↑\n",
    "* Abrupt **SB**:\n",
    "  * $AD$ ↑\n",
    "  * $PSNR$ ↓\n",
    "* **Basic criterion for detecting SB**"
   ]
  },
  {
   "cell_type": "markdown",
   "id": "b91b8043",
   "metadata": {
    "slideshow": {
     "slide_type": "slide"
    }
   },
   "source": [
    "## $AD$ and $PSNR$ on Ambiguous $SB$"
   ]
  },
  {
   "cell_type": "code",
   "execution_count": null,
   "id": "698e2b79",
   "metadata": {
    "slideshow": {
     "slide_type": "fragment"
    }
   },
   "outputs": [],
   "source": [
    "frame_numbers = range(30)\n",
    "ads = [\n",
    "    58, 52, 57, 53, 55, 42, 50, 48, 44, 40, 36, 40, 34, 33, 25,\n",
    "    55, 12, 10,  5, 10, 14, 10,  5, 10, 11, 12, 10,  5, 10, 15\n",
    "]\n",
    "psnrs = [\n",
    "     9, 12,  6, 13,  5, 15, 21, 23, 19, 25, 29, 26, 25, 27, 35,\n",
    "    10, 45, 43, 44, 36, 41, 37, 41, 35, 43, 45, 43, 45, 43, 44,\n",
    "]\n",
    "plt.plot(frame_numbers, ads, frame_numbers, psnrs)\n",
    "plt.legend(('AD', 'PSNR [db]'));"
   ]
  },
  {
   "cell_type": "code",
   "execution_count": null,
   "id": "d24dadca",
   "metadata": {
    "slideshow": {
     "slide_type": "subslide"
    }
   },
   "outputs": [],
   "source": [
    "plt.plot(frame_numbers, ads, frame_numbers, psnrs)\n",
    "plt.legend(('AD', 'PSNR [db]'));"
   ]
  },
  {
   "cell_type": "markdown",
   "id": "b104e240",
   "metadata": {
    "slideshow": {
     "slide_type": "fragment"
    }
   },
   "source": [
    "* Consecutive frames within shot but moving camera/background:\n",
    "  * $AD$ ↑\n",
    "  * $PSNR$ ↓\n",
    "* Transitional **SB**:\n",
    "  * $AD$ ↓\n",
    "  * $PSNR$ ↑\n",
    "* **Thresholds cannot be set**"
   ]
  },
  {
   "cell_type": "markdown",
   "id": "0cbf1137",
   "metadata": {
    "slideshow": {
     "slide_type": "slide"
    }
   },
   "source": [
    "## Over-Sensitivity of Pixel Methods"
   ]
  },
  {
   "cell_type": "markdown",
   "id": "8e6035be",
   "metadata": {
    "slideshow": {
     "slide_type": "fragment"
    }
   },
   "source": [
    "* Affecting effects:\n",
    "  * Camera motions\n",
    "  * Object motions\n",
    "  * Rotations\n",
    "  * Zooms\n",
    "  * Fades"
   ]
  },
  {
   "cell_type": "markdown",
   "id": "677d71e2",
   "metadata": {
    "slideshow": {
     "slide_type": "subslide"
    }
   },
   "source": [
    "* Example:\n",
    "![](over.png)"
   ]
  },
  {
   "cell_type": "markdown",
   "id": "2edb049c",
   "metadata": {
    "slideshow": {
     "slide_type": "fragment"
    }
   },
   "source": [
    "* Other methods required"
   ]
  },
  {
   "cell_type": "markdown",
   "id": "36537093",
   "metadata": {
    "slideshow": {
     "slide_type": "slide"
    }
   },
   "source": [
    "## $dAD$ and $dPSNR$ Approach"
   ]
  },
  {
   "cell_type": "code",
   "execution_count": null,
   "id": "cbf304a5",
   "metadata": {
    "slideshow": {
     "slide_type": "fragment"
    }
   },
   "outputs": [],
   "source": [
    "dads = []\n",
    "dpsnrs = []\n",
    "for i in frame_numbers[1:]:\n",
    "    dads.append(ads[i - 1] - ads[i])\n",
    "    dpsnrs.append(psnrs[i - 1] - psnrs[i])\n",
    "plt.plot(frame_numbers[1:], dads, frame_numbers[1:], dpsnrs)\n",
    "plt.legend(('AD', 'PSNR [db]'));"
   ]
  },
  {
   "cell_type": "code",
   "execution_count": null,
   "id": "90827f04",
   "metadata": {
    "slideshow": {
     "slide_type": "subslide"
    }
   },
   "outputs": [],
   "source": [
    "plt.plot(frame_numbers[1:], dads, frame_numbers[1:], dpsnrs)\n",
    "plt.legend(('AD', 'PSNR [db]'));"
   ]
  },
  {
   "cell_type": "markdown",
   "id": "44c24882",
   "metadata": {
    "slideshow": {
     "slide_type": "fragment"
    }
   },
   "source": [
    "* Dynamics of $AD$/$PSNR$ changes ($dAD$/$dPSNR$) considered as well\n",
    "* **SB** ↔ two peaks:\n",
    "  * First in direction of $AD$/$PSNR$ change\n",
    "  * Then in opposite direction\n",
    "* **Most visible SB detected** (except very slow transitions)\n",
    "* Example $AD$ and $dAD$ thresholds for 8-bit data (max luminance of 255):\n",
    "  * $AD\\geq+34$\n",
    "  * $dAD\\geq\\pm14$"
   ]
  },
  {
   "cell_type": "code",
   "execution_count": null,
   "id": "a64b23cc",
   "metadata": {
    "slideshow": {
     "slide_type": "skip"
    }
   },
   "outputs": [],
   "source": []
  }
 ],
 "metadata": {
  "celltoolbar": "Slideshow",
  "kernelspec": {
   "display_name": "Python 3 (ipykernel)",
   "language": "python",
   "name": "python3"
  },
  "language_info": {
   "codemirror_mode": {
    "name": "ipython",
    "version": 3
   },
   "file_extension": ".py",
   "mimetype": "text/x-python",
   "name": "python",
   "nbconvert_exporter": "python",
   "pygments_lexer": "ipython3",
   "version": "3.10.7"
  }
 },
 "nbformat": 4,
 "nbformat_minor": 5
}
