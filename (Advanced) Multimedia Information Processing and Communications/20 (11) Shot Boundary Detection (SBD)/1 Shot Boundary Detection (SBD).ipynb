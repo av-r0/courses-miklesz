{
 "cells": [
  {
   "cell_type": "markdown",
   "id": "0d91ff38",
   "metadata": {
    "slideshow": {
     "slide_type": "slide"
    }
   },
   "source": [
    "# Shot Boundary Detection (SBD)\n",
    "\n",
    "_Authors: Mikołaj Leszczuk, Jakub Nawała_\n",
    "\n",
    "[http://qoe.agh.edu.pl](http://qoe.agh.edu.pl)"
   ]
  },
  {
   "cell_type": "markdown",
   "id": "353a7659",
   "metadata": {
    "slideshow": {
     "slide_type": "slide"
    }
   },
   "source": [
    "## Video Summarization"
   ]
  },
  {
   "cell_type": "markdown",
   "id": "8da36838",
   "metadata": {
    "slideshow": {
     "slide_type": "fragment"
    }
   },
   "source": [
    "![](https://upload.wikimedia.org/wikipedia/en/8/85/Terminator2poster.jpg)"
   ]
  },
  {
   "attachments": {},
   "cell_type": "markdown",
   "id": "7d0756ed",
   "metadata": {
    "slideshow": {
     "slide_type": "fragment"
    }
   },
   "source": [
    "* Movie time: **137 minutes (about 2 and a half hours)**\n",
    "* Trailer time: **2-3 minutes**\n",
    "* Trailer creation is **laborious**\n",
    "* Could it be created **automatically**?\n",
    "* What **quality** would it have?"
   ]
  },
  {
   "cell_type": "code",
   "execution_count": null,
   "id": "a033ffd4",
   "metadata": {},
   "outputs": [],
   "source": []
  }
 ],
 "metadata": {
  "celltoolbar": "Slideshow",
  "kernelspec": {
   "display_name": "Python 3 (ipykernel)",
   "language": "python",
   "name": "python3"
  },
  "language_info": {
   "codemirror_mode": {
    "name": "ipython",
    "version": 3
   },
   "file_extension": ".py",
   "mimetype": "text/x-python",
   "name": "python",
   "nbconvert_exporter": "python",
   "pygments_lexer": "ipython3",
   "version": "3.10.7"
  }
 },
 "nbformat": 4,
 "nbformat_minor": 5
}
