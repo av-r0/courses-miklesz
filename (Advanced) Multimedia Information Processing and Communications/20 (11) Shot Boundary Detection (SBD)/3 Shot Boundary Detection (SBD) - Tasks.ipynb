{
 "cells": [
  {
   "cell_type": "markdown",
   "id": "6fa64895",
   "metadata": {
    "slideshow": {
     "slide_type": "slide"
    }
   },
   "source": [
    "# Shot Boundary Detection (SBD) - Exercises\n",
    "\n",
    "_Authors: Mikołaj Leszczuk_\n",
    "\n",
    "[http://qoe.agh.edu.pl](http://qoe.agh.edu.pl)"
   ]
  },
  {
   "cell_type": "markdown",
   "id": "cce5c565",
   "metadata": {
    "slideshow": {
     "slide_type": "slide"
    }
   },
   "source": [
    "## Purpose of the Exercise"
   ]
  },
  {
   "cell_type": "markdown",
   "id": "52a6e6b3",
   "metadata": {
    "slideshow": {
     "slide_type": "fragment"
    }
   },
   "source": [
    "The purpose of this exercise is acquiring the practice in opportunities for video content analysis. An example of video content analysis is automatic Shot Boundary Detection (SBD). SBD is commonly used in case of creating video summarizations. "
   ]
  },
  {
   "cell_type": "markdown",
   "id": "4db9778c",
   "metadata": {
    "slideshow": {
     "slide_type": "slide"
    }
   },
   "source": [
    "## Needed Knowledge"
   ]
  },
  {
   "cell_type": "markdown",
   "id": "d5692dd9",
   "metadata": {
    "slideshow": {
     "slide_type": "fragment"
    }
   },
   "source": [
    "Before starting exercise, one should possess knowledge in the following topics: \n",
    "* SBD basics (why it is used) \n",
    "* SBD methods (general information) \n",
    "* Applications for SBD used during the exercise "
   ]
  },
  {
   "cell_type": "markdown",
   "id": "78aa4217",
   "metadata": {
    "slideshow": {
     "slide_type": "slide"
    }
   },
   "source": [
    "## Execution of the Exercise"
   ]
  },
  {
   "cell_type": "markdown",
   "id": "292be10a",
   "metadata": {
    "slideshow": {
     "slide_type": "fragment"
    }
   },
   "source": [
    "The first task is the preparation of a video, which will be used for testing SBD systems. You may use files with videos; alternatively, it is possible to find video files (having numerous, easy to distinguish, shots) on the Internet. "
   ]
  },
  {
   "cell_type": "code",
   "execution_count": null,
   "id": "a64b23cc",
   "metadata": {
    "slideshow": {
     "slide_type": "skip"
    }
   },
   "outputs": [],
   "source": []
  }
 ],
 "metadata": {
  "celltoolbar": "Slideshow",
  "kernelspec": {
   "display_name": "Python 3 (ipykernel)",
   "language": "python",
   "name": "python3"
  },
  "language_info": {
   "codemirror_mode": {
    "name": "ipython",
    "version": 3
   },
   "file_extension": ".py",
   "mimetype": "text/x-python",
   "name": "python",
   "nbconvert_exporter": "python",
   "pygments_lexer": "ipython3",
   "version": "3.10.7"
  }
 },
 "nbformat": 4,
 "nbformat_minor": 5
}
