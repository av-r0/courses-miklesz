{
 "cells": [
  {
   "cell_type": "markdown",
   "id": "8e07295b",
   "metadata": {
    "slideshow": {
     "slide_type": "slide"
    }
   },
   "source": [
    "# Digital Image Filters (in Practice)\n",
    "\n",
    "## Introduction to Image Processing Using Matlab\n",
    "\n",
    "_Authors: Mikołaj Leszczuk, Zbigniew Hulicki, Jakub Nawała_\n",
    "\n",
    "[http://qoe.agh.edu.pl](http://qoe.agh.edu.pl)"
   ]
  },
  {
   "cell_type": "markdown",
   "id": "69cdd990",
   "metadata": {
    "slideshow": {
     "slide_type": "slide"
    }
   },
   "source": [
    "## Theoretical Fundamentals"
   ]
  },
  {
   "cell_type": "markdown",
   "id": "bc0e9513",
   "metadata": {
    "slideshow": {
     "slide_type": "fragment"
    }
   },
   "source": [
    "Digital filters are a central part of many signal processing systems. Image filtering is a mathematical operation on pixels of the source image, which results in a new, transformed image being produced. Its primary usage is to extract properties of the input image. Those are usually used in further processing steps. "
   ]
  },
  {
   "cell_type": "markdown",
   "id": "eefbbabc",
   "metadata": {
    "slideshow": {
     "slide_type": "fragment"
    }
   },
   "source": [
    "We can perform filtration in a spatial domain or the frequency domain. In the first case, a convolution operation between a matrix (called “kernel”) and the input image is applied (for the sake of correctness, we are using a discrete convolution, where both operands have a finite number of points). In the second case, a frequency domain representation of the input image is multiplied with a given filter characteristic. The filtering effect depends on the size and type of filter. "
   ]
  },
  {
   "cell_type": "markdown",
   "id": "45307fe2",
   "metadata": {
    "slideshow": {
     "slide_type": "subslide"
    }
   },
   "source": [
    "We can distinguish two (2) general types of frequency domain filters:"
   ]
  },
  {
   "cell_type": "markdown",
   "id": "ec053d25",
   "metadata": {
    "slideshow": {
     "slide_type": "fragment"
    }
   },
   "source": [
    "1. A low-pass filter – used for the removal of picture elements being a part of high-frequency spatial features (such as large colour differences between adjacent pixels), while leaving low-frequency features (e.g. large shapes without details) intact. Most of the noise present in images is contained in spatial characteristics of high frequency. Thus, such a low-pass filter may be used to compensate for this."
   ]
  },
  {
   "cell_type": "markdown",
   "id": "ff308a5d",
   "metadata": {
    "slideshow": {
     "slide_type": "fragment"
    }
   },
   "source": [
    "2.\tA high-pass filter – acts in a manner opposite to the low pass filter. It attenuates low-frequency features while reinforcing high-frequency ones. This behaviour highlights picture elements of high spatial frequency by increasing their visibility (e.g. brightness or colour). In practice, this corresponds to the emphasis of sharp edges of objects."
   ]
  },
  {
   "cell_type": "markdown",
   "id": "f7327056",
   "metadata": {
    "slideshow": {
     "slide_type": "subslide"
    }
   },
   "source": [
    "If it comes to spatial domain filters, those may be divided into linear and nonlinear . For linear filters, a kernel defines a type. By choosing the size and values of its cells, we may achieve various effects. For example, one can smooth (see Fig. 1) or sharpen the image. In some more advanced cases, it is also possible to find edges and other more sophisticated features.\n",
    "\n",
    "| abc | abc |\n",
    "+-------+-------+\n",
    "|$$1/9$$|$$1/9$$|\n",
    "+-------+-------+\n",
    "|       |\n",
    "\n",
    "| | | |\n",
    "| -- | -- | -- |\n",
    "| $$\\frac{1}{9}$$ | $$\\frac{1}{9}$$ | $$\\frac{1}{9}$$ |\n",
    "| $$\\frac{1}{9}$$ | $$\\frac{1}{9}$$ | $$\\frac{1}{9}$$ |\n",
    "| $$\\frac{1}{9}$$ | $$\\frac{1}{9}$$ | $$\\frac{1}{9}$$ |\n"
   ]
  },
  {
   "cell_type": "code",
   "execution_count": null,
   "id": "beae6ed7",
   "metadata": {},
   "outputs": [],
   "source": []
  },
  {
   "cell_type": "code",
   "execution_count": null,
   "id": "b4541818",
   "metadata": {
    "slideshow": {
     "slide_type": "skip"
    }
   },
   "outputs": [],
   "source": []
  }
 ],
 "metadata": {
  "celltoolbar": "Slideshow",
  "kernelspec": {
   "display_name": "Python 3 (ipykernel)",
   "language": "python",
   "name": "python3"
  },
  "language_info": {
   "codemirror_mode": {
    "name": "ipython",
    "version": 3
   },
   "file_extension": ".py",
   "mimetype": "text/x-python",
   "name": "python",
   "nbconvert_exporter": "python",
   "pygments_lexer": "ipython3",
   "version": "3.10.7"
  }
 },
 "nbformat": 4,
 "nbformat_minor": 5
}
