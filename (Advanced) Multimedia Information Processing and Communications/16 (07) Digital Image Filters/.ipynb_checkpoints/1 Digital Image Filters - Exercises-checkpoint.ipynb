{
 "cells": [
  {
   "cell_type": "markdown",
   "id": "01351777",
   "metadata": {},
   "source": [
    "# Digital Image Filters (in Practice)\n",
    "\n",
    "## Introduction to Image Processing Using Matlab\n",
    "\n",
    "_Authors: Mikołaj Leszczuk, Zbigniew Hulicki, Jakub Nawała_\n",
    "\n",
    "[http://qoe.agh.edu.pl](http://qoe.agh.edu.pl)"
   ]
  },
  {
   "cell_type": "code",
   "execution_count": null,
   "id": "8d8734aa",
   "metadata": {},
   "outputs": [],
   "source": []
  }
 ],
 "metadata": {
  "kernelspec": {
   "display_name": "Python 3 (ipykernel)",
   "language": "python",
   "name": "python3"
  },
  "language_info": {
   "codemirror_mode": {
    "name": "ipython",
    "version": 3
   },
   "file_extension": ".py",
   "mimetype": "text/x-python",
   "name": "python",
   "nbconvert_exporter": "python",
   "pygments_lexer": "ipython3",
   "version": "3.10.7"
  }
 },
 "nbformat": 4,
 "nbformat_minor": 5
}
