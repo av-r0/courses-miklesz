{
 "cells": [
  {
   "cell_type": "markdown",
   "id": "c8c1c34c",
   "metadata": {
    "slideshow": {
     "slide_type": "slide"
    }
   },
   "source": [
    "# Machine Learning\n",
    "\n",
    "_Leszek Frąś, Mikołaj Leszczuk_\n",
    "\n",
    "![](https://carlolepelaars.nl/wp-content/uploads/2018/10/frabz-Machine-Learning-What-society-thinks-I-do-What-my-friends-thinks-f0e58e-700x510.jpg)"
   ]
  },
  {
   "cell_type": "markdown",
   "id": "39c804cd",
   "metadata": {
    "slideshow": {
     "slide_type": "slide"
    }
   },
   "source": [
    "## Konspekt"
   ]
  },
  {
   "cell_type": "markdown",
   "id": "64e7ab0e",
   "metadata": {
    "slideshow": {
     "slide_type": "fragment"
    }
   },
   "source": [
    "* Czym jest uczenie maszynowe?\n",
    "* Dlaczego warto korzystać z uczenia maszynowego?\n",
    "* Rodzaje systemów uczenia maszynowego\n",
    "* Jak rozróżnić?\n",
    "* Precision i recall"
   ]
  },
  {
   "cell_type": "markdown",
   "id": "1776f13d",
   "metadata": {
    "slideshow": {
     "slide_type": "slide"
    }
   },
   "source": [
    "## Czym jest uczenie maszynowe?"
   ]
  },
  {
   "cell_type": "markdown",
   "id": "6ff2fb15",
   "metadata": {
    "slideshow": {
     "slide_type": "fragment"
    }
   },
   "source": [
    "\"Uczenie maszynowe to dziedzina nauki dająca komputerom możliwość uczenia się bez konieczności ich jawnego programowania...\" Arthur Samuel, 1959.\n",
    "\n",
    "A bardziej technicznie:\n",
    "\n",
    "\"Mówimy ze program komputerowy uczy się na podstawie doświadczenia $E$ w odniesieniu do jakiegoś zadania $T$ i pewnej miary wydajności $P$, jeśli jego wydajność (mierzona przez $P$) wobec zadania $T$ wzrasta z nabywaniem doświadczenia $E$...\", Tom Mitchell, 1997."
   ]
  },
  {
   "cell_type": "markdown",
   "id": "d8b7eea0",
   "metadata": {
    "slideshow": {
     "slide_type": "slide"
    }
   },
   "source": [
    "## Dlaczego warto korzystać z uczenia maszynowego?"
   ]
  },
  {
   "cell_type": "markdown",
   "id": "541397cd",
   "metadata": {
    "slideshow": {
     "slide_type": "fragment"
    }
   },
   "source": [
    "![](https://raw.githubusercontent.com/miklesz/Courses/main/Machine%20Learning/ml1.png)"
   ]
  },
  {
   "cell_type": "markdown",
   "id": "d03f97c2",
   "metadata": {
    "slideshow": {
     "slide_type": "subslide"
    }
   },
   "source": [
    "Zadanie: napisać filtr spamu, przy pomocy tradydycyjnych technik programistycznych\n",
    "1. Zastanowienie jak wygląda klsyczny spam - powtarzające się wyrażenia: okazja, darmowe, bonus, promocja, gratis, bez limitów. Występowanie: temat wiadomości\n",
    "2. Napisanie algorytmu wykrywającego każdy z zaobserwowanych szablonów. Program oznaczałby wiadomość jako spam, jeśli wykryłby jeden z kilku określonych wzorców.\n",
    "3. Testowanie programu, ciągłe powtarzanie kroków 1. i 2."
   ]
  },
  {
   "cell_type": "markdown",
   "id": "bd559f27",
   "metadata": {
    "slideshow": {
     "slide_type": "subslide"
    }
   },
   "source": [
    "=> a co jeśli spamerzy zauważyli by blokowanie algorytmu wykrywającego nieporządane mejle?\n",
    "\n",
    "Próby omijania filtrów: wkomponowywanie białych znaków, znaków specjalnych\n",
    "\n",
    "=> należy non stop uwzględniać nowe zmiany poprzez dopisywanie nowych reguł...\n",
    "\n",
    "Najlepsze rozwiązanie?\n",
    "\n",
    "Stworzenie samouczącego się algorytmu, na podstawie przykładów i kombinacji z nim związanych."
   ]
  },
  {
   "cell_type": "markdown",
   "id": "ff7d4cc5",
   "metadata": {
    "slideshow": {
     "slide_type": "subslide"
    }
   },
   "source": [
    "![](https://raw.githubusercontent.com/miklesz/Courses/main/Machine%20Learning/ml2.png)"
   ]
  },
  {
   "cell_type": "markdown",
   "id": "9dfc0f28",
   "metadata": {
    "slideshow": {
     "slide_type": "subslide"
    }
   },
   "source": [
    "Wykorzystanie technik uczenia maszynowego do analizowania olbrzymich ilości danych może pomóc w wykrywaniem nieoczywistych wzorców. Proces nazywa się wydobywaniem danych (data mining).\n",
    "\n",
    "Uczenie maszynowe nadaje się do:\n",
    "1. Problemów, które wymagają częstego dostrajania algorytmu lub korzystania z długich list reguł\n",
    "2. Złożonych problemów, trudnych do rozwiązania tradycyjnymi metodami.\n",
    "3. Zmiennych środowisk wpływających na problematykę.\n",
    "4. Pomagania człowiekowu w analizowaniu skomplikowanych zagadnień i olbrzymich ilości danych."
   ]
  },
  {
   "cell_type": "markdown",
   "id": "3f98a1f3",
   "metadata": {
    "slideshow": {
     "slide_type": "slide"
    }
   },
   "source": [
    "## Rodzaje systemów uczenia maszynowego"
   ]
  },
  {
   "cell_type": "markdown",
   "id": "81537215",
   "metadata": {
    "slideshow": {
     "slide_type": "slide"
    }
   },
   "source": [
    "### Uczenie nadzorowane"
   ]
  },
  {
   "cell_type": "markdown",
   "id": "e8cb0ef5",
   "metadata": {
    "slideshow": {
     "slide_type": "fragment"
    }
   },
   "source": [
    "=> dane są oznakowane, jest zbiór uczący oraz zbiór weryfikacyjny"
   ]
  },
  {
   "cell_type": "markdown",
   "id": "e586ccbf",
   "metadata": {
    "slideshow": {
     "slide_type": "fragment"
    }
   },
   "source": [
    "* metoda k-najbliższych sąsiadów\n",
    "* regresja liniowa\n",
    "* regresja logistyczna\n",
    "* maszyna wektorów nośnych\n",
    "* drzewa decyzyjne i losowe lasy\n",
    "* sieci neuronowe"
   ]
  },
  {
   "cell_type": "markdown",
   "id": "f6095278",
   "metadata": {
    "slideshow": {
     "slide_type": "slide"
    }
   },
   "source": [
    "### Uczenie nienadzorowane"
   ]
  },
  {
   "cell_type": "markdown",
   "id": "c7558726",
   "metadata": {
    "slideshow": {
     "slide_type": "fragment"
    }
   },
   "source": [
    "=> dane uczące są nieoznakowane; program uczy się bez nauczyciela"
   ]
  },
  {
   "cell_type": "markdown",
   "id": "9e6c077b",
   "metadata": {
    "slideshow": {
     "slide_type": "fragment"
    }
   },
   "source": [
    "* metoda k-średnich lub centroidów (ang. _k-means_)\n",
    "* hierarchiczna analiza skupień (ang. _Hierarchical Cluster Analysis_, HCA)\n",
    "* wykrywawenie anomali i nowości (ang. _anomaly detection and novelety detection_)\n",
    "* wizualiacja i redukcje wymiarowości"
   ]
  },
  {
   "cell_type": "markdown",
   "id": "f776dae7",
   "metadata": {
    "slideshow": {
     "slide_type": "slide"
    }
   },
   "source": [
    "## Jak rozróżnić?"
   ]
  },
  {
   "cell_type": "markdown",
   "id": "5bb1f55a",
   "metadata": {
    "slideshow": {
     "slide_type": "fragment"
    }
   },
   "source": [
    "Dobry przykładem jest analiza skupień...\n",
    "\n",
    "(źródło: Uczenie maszynowe z użyciem Scikit-Learn i Tensorflow, Aureilen Geron, 2020, Gliwice)"
   ]
  },
  {
   "cell_type": "markdown",
   "id": "11877792",
   "metadata": {
    "slideshow": {
     "slide_type": "subslide"
    }
   },
   "source": [
    "![](https://raw.githubusercontent.com/miklesz/Courses/main/Machine%20Learning/ml3.jpeg)"
   ]
  },
  {
   "cell_type": "markdown",
   "id": "82fd38d6",
   "metadata": {
    "slideshow": {
     "slide_type": "subslide"
    }
   },
   "source": [
    "lub wykrywanie anomalii:\n",
    "\n",
    "(źródło: Uczenie maszynowe z użyciem Scikit-Learn i Tensorflow, Aureilen Geron, 2020, Gliwice)"
   ]
  },
  {
   "cell_type": "markdown",
   "id": "92864429",
   "metadata": {
    "slideshow": {
     "slide_type": "subslide"
    }
   },
   "source": [
    "![](https://raw.githubusercontent.com/miklesz/Courses/main/Machine%20Learning/ml4.jpeg)"
   ]
  },
  {
   "cell_type": "markdown",
   "id": "9acdd176",
   "metadata": {
    "slideshow": {
     "slide_type": "subslide"
    }
   },
   "source": [
    "Oczywiście jest wiele innych rodzajów \"uczenia\" maszynowego:"
   ]
  },
  {
   "cell_type": "code",
   "execution_count": null,
   "id": "ffe9449b",
   "metadata": {},
   "outputs": [],
   "source": []
  }
 ],
 "metadata": {
  "celltoolbar": "Slideshow",
  "kernelspec": {
   "display_name": "Python 3 (ipykernel)",
   "language": "python",
   "name": "python3"
  },
  "language_info": {
   "codemirror_mode": {
    "name": "ipython",
    "version": 3
   },
   "file_extension": ".py",
   "mimetype": "text/x-python",
   "name": "python",
   "nbconvert_exporter": "python",
   "pygments_lexer": "ipython3",
   "version": "3.10.2"
  }
 },
 "nbformat": 4,
 "nbformat_minor": 5
}
