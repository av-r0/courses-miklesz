{
 "cells": [
  {
   "cell_type": "markdown",
   "id": "e6cbfd09",
   "metadata": {
    "slideshow": {
     "slide_type": "slide"
    }
   },
   "source": [
    "# Machine Learning\n",
    "\n",
    "_Leszek Frąś, Mikołaj Leszczuk_\n",
    "\n",
    "![](https://carlolepelaars.nl/wp-content/uploads/2018/10/frabz-Machine-Learning-What-society-thinks-I-do-What-my-friends-thinks-f0e58e-700x510.jpg)"
   ]
  },
  {
   "cell_type": "markdown",
   "id": "938dddc3",
   "metadata": {
    "slideshow": {
     "slide_type": "slide"
    }
   },
   "source": [
    "## Konspekt"
   ]
  },
  {
   "cell_type": "markdown",
   "id": "603c6678",
   "metadata": {
    "slideshow": {
     "slide_type": "fragment"
    }
   },
   "source": [
    "* Czym jest uczenie maszynowe?\n",
    "* Dlaczego warto korzystać z uczenia maszynowego?\n",
    "* Rodzaje systemów uczenia maszynowego\n",
    "* Jak rozróżnić?\n",
    "* Precision i recall"
   ]
  },
  {
   "cell_type": "markdown",
   "id": "cd66cfa5",
   "metadata": {
    "slideshow": {
     "slide_type": "slide"
    }
   },
   "source": [
    "## Czym jest uczenie maszynowe?"
   ]
  },
  {
   "cell_type": "markdown",
   "id": "52d80bc2",
   "metadata": {
    "slideshow": {
     "slide_type": "fragment"
    }
   },
   "source": [
    "\"Uczenie maszynowe to dziedzina nauki dająca komputerom możliwość uczenia się bez konieczności ich jawnego programowania...\" Arthur Samuel, 1959.\n",
    "\n",
    "A bardziej technicznie:\n",
    "\n",
    "\"Mówimy ze program komputerowy uczy się na podstawie doświadczenia $E$ w odniesieniu do jakiegoś zadania $T$ i pewnej miary wydajności $P$, jeśli jego wydajność (mierzona przez $P$) wobec zadania $T$ wzrasta z nabywaniem doświadczenia $E$...\", Tom Mitchell, 1997."
   ]
  },
  {
   "cell_type": "markdown",
   "id": "39678a3a",
   "metadata": {
    "slideshow": {
     "slide_type": "slide"
    }
   },
   "source": [
    "## Dlaczego warto korzystać z uczenia maszynowego?"
   ]
  },
  {
   "cell_type": "markdown",
   "id": "864959db",
   "metadata": {
    "slideshow": {
     "slide_type": "fragment"
    }
   },
   "source": [
    "![](https://raw.githubusercontent.com/miklesz/Courses/main/Machine%20Learning/ml1.png)"
   ]
  },
  {
   "cell_type": "markdown",
   "id": "b50e5c03",
   "metadata": {
    "slideshow": {
     "slide_type": "subslide"
    }
   },
   "source": [
    "Zadanie: napisać filtr spamu, przy pomocy tradydycyjnych technik programistycznych\n",
    "1. Zastanowienie jak wygląda klsyczny spam - powtarzające się wyrażenia: okazja, darmowe, bonus, promocja, gratis, bez limitów. Występowanie: temat wiadomości\n",
    "2. Napisanie algorytmu wykrywającego każdy z zaobserwowanych szablonów. Program oznaczałby wiadomość jako spam, jeśli wykryłby jeden z kilku określonych wzorców.\n",
    "3. Testowanie programu, ciągłe powtarzanie kroków 1. i 2."
   ]
  },
  {
   "cell_type": "markdown",
   "id": "c80c1881",
   "metadata": {
    "slideshow": {
     "slide_type": "subslide"
    }
   },
   "source": [
    "=> a co jeśli spamerzy zauważyli by blokowanie algorytmu wykrywającego nieporządane mejle?\n",
    "\n",
    "Próby omijania filtrów: wkomponowywanie białych znaków, znaków specjalnych\n",
    "\n",
    "=> należy non stop uwzględniać nowe zmiany poprzez dopisywanie nowych reguł...\n",
    "\n",
    "Najlepsze rozwiązanie?\n",
    "\n",
    "Stworzenie samouczącego się algorytmu, na podstawie przykładów i kombinacji z nim związanych."
   ]
  },
  {
   "cell_type": "markdown",
   "id": "509a4b99",
   "metadata": {
    "slideshow": {
     "slide_type": "subslide"
    }
   },
   "source": [
    "![](https://raw.githubusercontent.com/miklesz/Courses/main/Machine%20Learning/ml2.png)"
   ]
  },
  {
   "cell_type": "markdown",
   "id": "70a922fa",
   "metadata": {
    "slideshow": {
     "slide_type": "subslide"
    }
   },
   "source": [
    "Wykorzystanie technik uczenia maszynowego do analizowania olbrzymich ilości danych może pomóc w wykrywaniem nieoczywistych wzorców. Proces nazywa się wydobywaniem danych (data mining).\n",
    "\n",
    "Uczenie maszynowe nadaje się do:\n",
    "1. Problemów, które wymagają częstego dostrajania algorytmu lub korzystania z długich list reguł\n",
    "2. Złożonych problemów, trudnych do rozwiązania tradycyjnymi metodami.\n",
    "3. Zmiennych środowisk wpływających na problematykę.\n",
    "4. Pomagania człowiekowu w analizowaniu skomplikowanych zagadnień i olbrzymich ilości danych."
   ]
  },
  {
   "cell_type": "markdown",
   "id": "f7412013",
   "metadata": {
    "slideshow": {
     "slide_type": "slide"
    }
   },
   "source": [
    "## Rodzaje systemów uczenia maszynowego"
   ]
  },
  {
   "cell_type": "markdown",
   "id": "047de01d",
   "metadata": {
    "slideshow": {
     "slide_type": "slide"
    }
   },
   "source": [
    "### Uczenie nadzorowane"
   ]
  },
  {
   "cell_type": "markdown",
   "id": "fc63f485",
   "metadata": {
    "slideshow": {
     "slide_type": "fragment"
    }
   },
   "source": [
    "=> dane są oznakowane, jest zbiór uczący oraz zbiór weryfikacyjny"
   ]
  },
  {
   "cell_type": "markdown",
   "id": "dac2a43d",
   "metadata": {
    "slideshow": {
     "slide_type": "fragment"
    }
   },
   "source": [
    "* metoda k-najbliższych sąsiadów\n",
    "* regresja liniowa\n",
    "* regresja logistyczna\n",
    "* maszyna wektorów nośnych\n",
    "* drzewa decyzyjne i losowe lasy\n",
    "* sieci neuronowe"
   ]
  },
  {
   "cell_type": "markdown",
   "id": "efbde386",
   "metadata": {
    "slideshow": {
     "slide_type": "slide"
    }
   },
   "source": [
    "### Uczenie nienadzorowane"
   ]
  },
  {
   "cell_type": "markdown",
   "id": "8b756e68",
   "metadata": {
    "slideshow": {
     "slide_type": "fragment"
    }
   },
   "source": [
    "=> dane uczące są nieoznakowane; program uczy się bez nauczyciela"
   ]
  },
  {
   "cell_type": "markdown",
   "id": "5e9919d4",
   "metadata": {
    "slideshow": {
     "slide_type": "fragment"
    }
   },
   "source": [
    "* metoda k-średnich lub centroidów (ang. _k-means_)\n",
    "* hierarchiczna analiza skupień (ang. _Hierarchical Cluster Analysis_, HCA)\n",
    "* wykrywawenie anomali i nowości (ang. _anomaly detection and novelety detection_)\n",
    "* wizualiacja i redukcje wymiarowości"
   ]
  },
  {
   "cell_type": "markdown",
   "id": "edfad7f2",
   "metadata": {
    "slideshow": {
     "slide_type": "slide"
    }
   },
   "source": [
    "## Jak rozróżnić?"
   ]
  },
  {
   "cell_type": "markdown",
   "id": "dc762187",
   "metadata": {
    "slideshow": {
     "slide_type": "fragment"
    }
   },
   "source": [
    "Dobry przykładem jest analiza skupień...\n",
    "\n",
    "(źródło: Uczenie maszynowe z użyciem Scikit-Learn i Tensorflow, Aureilen Geron, 2020, Gliwice)"
   ]
  },
  {
   "cell_type": "markdown",
   "id": "4ba476f6",
   "metadata": {
    "slideshow": {
     "slide_type": "subslide"
    }
   },
   "source": [
    "![](https://raw.githubusercontent.com/miklesz/Courses/main/Machine%20Learning/ml3.jpeg)"
   ]
  },
  {
   "cell_type": "markdown",
   "id": "feb420a8",
   "metadata": {
    "slideshow": {
     "slide_type": "subslide"
    }
   },
   "source": [
    "lub wykrywanie anomalii:\n",
    "\n",
    "(źródło: Uczenie maszynowe z użyciem Scikit-Learn i Tensorflow, Aureilen Geron, 2020, Gliwice)"
   ]
  },
  {
   "cell_type": "markdown",
   "id": "9e71cb52",
   "metadata": {
    "slideshow": {
     "slide_type": "subslide"
    }
   },
   "source": [
    "![](https://raw.githubusercontent.com/miklesz/Courses/main/Machine%20Learning/ml4.jpeg)"
   ]
  },
  {
   "cell_type": "markdown",
   "id": "8da3d93f",
   "metadata": {
    "slideshow": {
     "slide_type": "subslide"
    }
   },
   "source": [
    "Oczywiście jest wiele innych rodzajów \"uczenia\" maszynowego:"
   ]
  },
  {
   "cell_type": "markdown",
   "id": "fa79865b",
   "metadata": {
    "slideshow": {
     "slide_type": "fragment"
    }
   },
   "source": [
    "* Uczenie przez wzmacnianie (ang. _reinforcement learning_):"
   ]
  },
  {
   "cell_type": "markdown",
   "id": "f90b49ec",
   "metadata": {
    "slideshow": {
     "slide_type": "fragment"
    }
   },
   "source": [
    "System uczący (zwany agentem) obserwuje środowisko i na tej podstawie wykonuje pewne czynności, a take odbiera nagrody lub kary.\n",
    "\n",
    "(źródło: Uczenie maszynowe z użyciem Scikit-Learn i Tensorflow, Aureilen Geron, 2020, Gliwice)"
   ]
  },
  {
   "cell_type": "markdown",
   "id": "9cb189c3",
   "metadata": {
    "slideshow": {
     "slide_type": "subslide"
    }
   },
   "source": [
    "![](https://raw.githubusercontent.com/miklesz/Courses/main/Machine%20Learning/ml5_0.png)"
   ]
  },
  {
   "cell_type": "markdown",
   "id": "90ab2d8a",
   "metadata": {
    "slideshow": {
     "slide_type": "subslide"
    }
   },
   "source": [
    "![](https://raw.githubusercontent.com/miklesz/Courses/main/Machine%20Learning/ml5_1.png)"
   ]
  },
  {
   "cell_type": "markdown",
   "id": "96eb315c",
   "metadata": {
    "slideshow": {
     "slide_type": "subslide"
    }
   },
   "source": [
    "![](https://raw.githubusercontent.com/miklesz/Courses/main/Machine%20Learning/ml5_2.png)"
   ]
  },
  {
   "cell_type": "markdown",
   "id": "5d55da51",
   "metadata": {
    "slideshow": {
     "slide_type": "subslide"
    }
   },
   "source": [
    "* Uczenie wsadowe:"
   ]
  },
  {
   "cell_type": "markdown",
   "id": "3b334614",
   "metadata": {
    "slideshow": {
     "slide_type": "fragment"
    }
   },
   "source": [
    "Do nauki rozpoznawanie (klasyfikacji) wykorzystywane są wszystkie dostępne dane. System nie jest w stanie trenować przyrostowo, do jego nauki poświęca się dużej ilości czasu i zasobów."
   ]
  },
  {
   "cell_type": "markdown",
   "id": "463ed821",
   "metadata": {
    "slideshow": {
     "slide_type": "subslide"
    }
   },
   "source": [
    "* Uczenie przyrostowe:"
   ]
  },
  {
   "cell_type": "markdown",
   "id": "4cbb8247",
   "metadata": {
    "slideshow": {
     "slide_type": "fragment"
    }
   },
   "source": [
    "System jest trenowany na bieżąco przez sekwencyjnie dostarczane dane, które mogą być pojedyncze lub przyjmować postać minipakietów (niewielkich zbiorów)."
   ]
  },
  {
   "cell_type": "markdown",
   "id": "0c023ae3",
   "metadata": {
    "slideshow": {
     "slide_type": "slide"
    }
   },
   "source": [
    "## Precision i recall"
   ]
  },
  {
   "cell_type": "markdown",
   "id": "b450549d",
   "metadata": {
    "slideshow": {
     "slide_type": "fragment"
    }
   },
   "source": [
    "W **rozpoznawaniu wzorców**, **odzyskiwaniu** i **klasyfikowaniu informacji (uczeniu maszynowym)**, **precision** i **recall** to metryki wydajności, które mają zastosowanie do danych pobieranych z **kolekcji**, **korpusu** lub **przestrzeni próbek**."
   ]
  },
  {
   "cell_type": "markdown",
   "id": "01715821",
   "metadata": {
    "slideshow": {
     "slide_type": "fragment"
    }
   },
   "source": [
    "**Precision** (nazywana również **dodatnią wartością predykcyjną**) to ułamek odpowiednich instancji wśród pobranych instancji, natomiast **recall** (znane również jako **czułość**) to ułamek istotnych instancji, które zostały pobrane. Zarówno precyzja, jak i przypomnienie są zatem oparte na **trafności**."
   ]
  },
  {
   "cell_type": "markdown",
   "id": "e8c8b52e",
   "metadata": {
    "slideshow": {
     "slide_type": "subslide"
    }
   },
   "source": [
    "![](https://upload.wikimedia.org/wikipedia/commons/2/26/Precisionrecall.svg)"
   ]
  },
  {
   "cell_type": "markdown",
   "id": "01b13ce2",
   "metadata": {
    "slideshow": {
     "slide_type": "slide"
    }
   },
   "source": [
    "## Las losowy"
   ]
  },
  {
   "cell_type": "markdown",
   "id": "5e38836b",
   "metadata": {
    "slideshow": {
     "slide_type": "slide"
    }
   },
   "source": [
    "### Wstęp teoretyczny "
   ]
  },
  {
   "cell_type": "markdown",
   "id": "1f1fcc82",
   "metadata": {
    "slideshow": {
     "slide_type": "fragment"
    }
   },
   "source": [
    "**Las losowy**, losowy las decyzyjny – metoda zespołowa uczenia maszynowego dla **klasyfikacji**, **regresji** i innych zadań, która polega na konstruowaniu wielu **drzew decyzyjnych** w czasie uczenia i generowaniu klasy, która jest **dominantą** klas (klasyfikacja) lub przewidywaną średnią (regresja) poszczególnych drzew. Losowe lasy decyzyjne poprawiają tendencję drzew decyzyjnych do **nadmiernego dopasowywania** się do zestawu treningowego."
   ]
  },
  {
   "cell_type": "markdown",
   "id": "4674c9f8",
   "metadata": {
    "slideshow": {
     "slide_type": "subslide"
    }
   },
   "source": [
    "Schemat losowego lasu decyzyjnego:\n",
    "\n",
    "![Schemat losowego lasu decyzyjnego](https://upload.wikimedia.org/wikipedia/commons/7/76/Random_forest_diagram_complete.png)"
   ]
  },
  {
   "cell_type": "markdown",
   "id": "d937f49a",
   "metadata": {
    "slideshow": {
     "slide_type": "slide"
    }
   },
   "source": [
    "### Budowanie modelu klasyfikacji dla zbioru danych \"**_Iris_**\""
   ]
  },
  {
   "cell_type": "markdown",
   "id": "590a4b17",
   "metadata": {},
   "source": [
    "(źródło: Chanin Nantasenamat, <i>Data Professor YouTube channel, http://youtube.com/dataprofessor </i>)"
   ]
  },
  {
   "cell_type": "markdown",
   "id": "a4c01430",
   "metadata": {
    "slideshow": {
     "slide_type": "subslide"
    }
   },
   "source": [
    "W tym notatniku Jupytera będziemy budować model klasyfikacji dla zbioru danych \"**_Iris_**\" (kosaciec, irys) przy użyciu algorytmu losowego lasu.\n",
    "\n",
    "![](https://upload.wikimedia.org/wikipedia/commons/thumb/4/4c/Iris_sibirica_060603.jpg/672px-Iris_sibirica_060603.jpg)"
   ]
  },
  {
   "cell_type": "markdown",
   "id": "503896eb",
   "metadata": {
    "slideshow": {
     "slide_type": "slide"
    }
   },
   "source": [
    "#### Importowanie bibliotek"
   ]
  },
  {
   "cell_type": "code",
   "execution_count": null,
   "id": "979c492e",
   "metadata": {
    "slideshow": {
     "slide_type": "fragment"
    }
   },
   "outputs": [],
   "source": [
    "from sklearn import datasets\n",
    "from sklearn.model_selection import train_test_split\n",
    "from sklearn.ensemble import RandomForestClassifier\n",
    "from sklearn.datasets import make_classification"
   ]
  },
  {
   "cell_type": "markdown",
   "id": "4abaeb48",
   "metadata": {
    "slideshow": {
     "slide_type": "slide"
    }
   },
   "source": [
    "#### Załadowanie zestawu danych \"**_Iris_**\""
   ]
  },
  {
   "cell_type": "code",
   "execution_count": null,
   "id": "84201dee",
   "metadata": {
    "slideshow": {
     "slide_type": "fragment"
    }
   },
   "outputs": [],
   "source": [
    "iris = datasets.load_iris()"
   ]
  },
  {
   "cell_type": "markdown",
   "id": "894bac5e",
   "metadata": {
    "slideshow": {
     "slide_type": "slide"
    }
   },
   "source": [
    "#### Funkcje wejściowe\n"
   ]
  },
  {
   "cell_type": "markdown",
   "id": "faa30bfe",
   "metadata": {
    "slideshow": {
     "slide_type": "fragment"
    }
   },
   "source": [
    "Zestaw danych \"**_Iris_**\" zawiera 4 cechy wejściowe i 1 zmienną wyjściową (etykieta klasy)."
   ]
  },
  {
   "cell_type": "markdown",
   "id": "13c39272",
   "metadata": {
    "slideshow": {
     "slide_type": "slide"
    }
   },
   "source": [
    "##### Funkcje wejściowe"
   ]
  },
  {
   "cell_type": "code",
   "execution_count": null,
   "id": "d3cde0ad",
   "metadata": {
    "scrolled": true,
    "slideshow": {
     "slide_type": "fragment"
    }
   },
   "outputs": [],
   "source": [
    "print(iris.feature_names)"
   ]
  },
  {
   "cell_type": "markdown",
   "id": "5339821a",
   "metadata": {
    "slideshow": {
     "slide_type": "fragment"
    }
   },
   "source": [
    "```python\n",
    "[\n",
    "    'długość kielicha (cm)',\n",
    "    'szerokość kielicha (cm)',\n",
    "    'długość płatka (cm)',\n",
    "    'szerokość płatka (cm)'\n",
    "]\n",
    "```"
   ]
  },
  {
   "cell_type": "markdown",
   "id": "9f69ea70",
   "metadata": {
    "slideshow": {
     "slide_type": "slide"
    }
   },
   "source": [
    "##### Funkcje wyjściowe"
   ]
  },
  {
   "cell_type": "code",
   "execution_count": null,
   "id": "ddc047f3",
   "metadata": {
    "slideshow": {
     "slide_type": "fragment"
    }
   },
   "outputs": [],
   "source": [
    "print(iris.target_names)"
   ]
  },
  {
   "cell_type": "markdown",
   "id": "347f34ab",
   "metadata": {
    "slideshow": {
     "slide_type": "slide"
    }
   },
   "source": [
    "###### _Iris setosa_"
   ]
  },
  {
   "cell_type": "markdown",
   "id": "11032762",
   "metadata": {
    "slideshow": {
     "slide_type": "fragment"
    }
   },
   "source": [
    "![](https://upload.wikimedia.org/wikipedia/commons/thumb/a/a7/Irissetosa1.jpg/800px-Irissetosa1.jpg)"
   ]
  },
  {
   "cell_type": "markdown",
   "id": "64b63404",
   "metadata": {
    "slideshow": {
     "slide_type": "slide"
    }
   },
   "source": [
    "###### _Iris versicolor_"
   ]
  },
  {
   "cell_type": "markdown",
   "id": "4e551d9e",
   "metadata": {
    "slideshow": {
     "slide_type": "fragment"
    }
   },
   "source": [
    "![](https://upload.wikimedia.org/wikipedia/commons/thumb/2/27/Blue_Flag%2C_Ottawa.jpg/600px-Blue_Flag%2C_Ottawa.jpg)"
   ]
  },
  {
   "cell_type": "markdown",
   "id": "4032bf00",
   "metadata": {
    "slideshow": {
     "slide_type": "slide"
    }
   },
   "source": [
    "###### _Iris virginica_"
   ]
  },
  {
   "cell_type": "markdown",
   "id": "5caae2d8",
   "metadata": {
    "slideshow": {
     "slide_type": "fragment"
    }
   },
   "source": [
    "![](https://upload.wikimedia.org/wikipedia/commons/thumb/f/f8/Iris_virginica_2.jpg/600px-Iris_virginica_2.jpg)"
   ]
  },
  {
   "cell_type": "markdown",
   "id": "35bea7f1",
   "metadata": {
    "slideshow": {
     "slide_type": "slide"
    }
   },
   "source": [
    "#### Spojrzenie na dane"
   ]
  },
  {
   "cell_type": "markdown",
   "id": "6f826a12",
   "metadata": {
    "slideshow": {
     "slide_type": "slide"
    }
   },
   "source": [
    "##### Funkcje wejściowe"
   ]
  },
  {
   "cell_type": "code",
   "execution_count": null,
   "id": "e6ecf09b",
   "metadata": {
    "slideshow": {
     "slide_type": "fragment"
    }
   },
   "outputs": [],
   "source": [
    "iris.data"
   ]
  },
  {
   "cell_type": "markdown",
   "id": "9261978d",
   "metadata": {
    "slideshow": {
     "slide_type": "slide"
    }
   },
   "source": [
    "##### Zmienna wyjściowa (etykieta klasy)"
   ]
  },
  {
   "cell_type": "code",
   "execution_count": null,
   "id": "f53d02a1",
   "metadata": {
    "slideshow": {
     "slide_type": "fragment"
    }
   },
   "outputs": [],
   "source": [
    "iris.target"
   ]
  },
  {
   "cell_type": "markdown",
   "id": "af3ab263",
   "metadata": {
    "slideshow": {
     "slide_type": "slide"
    }
   },
   "source": [
    "##### Przypisywanie zmiennych *wejściowych* i *wyjściowych*"
   ]
  },
  {
   "cell_type": "markdown",
   "id": "cd197345",
   "metadata": {
    "slideshow": {
     "slide_type": "fragment"
    }
   },
   "source": [
    "Przypiszmy 4 zmienne wejściowe do `X`, a zmienną wyjściową (etykieta klasy) do `Y`."
   ]
  },
  {
   "cell_type": "code",
   "execution_count": 23,
   "id": "a1d6f122",
   "metadata": {
    "slideshow": {
     "slide_type": "fragment"
    }
   },
   "outputs": [],
   "source": [
    "X = iris.data\n",
    "Y = iris.target"
   ]
  },
  {
   "cell_type": "markdown",
   "id": "e38f283f",
   "metadata": {
    "slideshow": {
     "slide_type": "slide"
    }
   },
   "source": [
    "##### Przyjrzyjmy się wymiarowi danych"
   ]
  },
  {
   "cell_type": "code",
   "execution_count": 24,
   "id": "6d10bcee",
   "metadata": {
    "slideshow": {
     "slide_type": "fragment"
    }
   },
   "outputs": [
    {
     "data": {
      "text/plain": [
       "(150, 4)"
      ]
     },
     "execution_count": 24,
     "metadata": {},
     "output_type": "execute_result"
    }
   ],
   "source": [
    "X.shape"
   ]
  },
  {
   "cell_type": "code",
   "execution_count": 25,
   "id": "ea05f956",
   "metadata": {
    "slideshow": {
     "slide_type": "fragment"
    }
   },
   "outputs": [
    {
     "data": {
      "text/plain": [
       "(150,)"
      ]
     },
     "execution_count": 25,
     "metadata": {},
     "output_type": "execute_result"
    }
   ],
   "source": [
    "Y.shape"
   ]
  },
  {
   "cell_type": "markdown",
   "id": "1a1a3236",
   "metadata": {
    "slideshow": {
     "slide_type": "slide"
    }
   },
   "source": [
    "#### Zbudujmy model klasyfikacji za pomocą losowego lasu"
   ]
  },
  {
   "cell_type": "code",
   "execution_count": 26,
   "id": "a53f0428",
   "metadata": {
    "slideshow": {
     "slide_type": "fragment"
    }
   },
   "outputs": [],
   "source": [
    "clf = RandomForestClassifier()"
   ]
  },
  {
   "cell_type": "code",
   "execution_count": 27,
   "id": "f744a27f",
   "metadata": {
    "slideshow": {
     "slide_type": "fragment"
    }
   },
   "outputs": [
    {
     "data": {
      "text/plain": [
       "RandomForestClassifier()"
      ]
     },
     "execution_count": 27,
     "metadata": {},
     "output_type": "execute_result"
    }
   ],
   "source": [
    "clf.fit(X, Y)"
   ]
  },
  {
   "cell_type": "markdown",
   "id": "8c63d46f",
   "metadata": {
    "slideshow": {
     "slide_type": "slide"
    }
   },
   "source": [
    "## 6. Feature Importance"
   ]
  },
  {
   "cell_type": "code",
   "execution_count": null,
   "id": "745b84f2",
   "metadata": {},
   "outputs": [],
   "source": [
    "print(clf.feature_importances_)"
   ]
  },
  {
   "cell_type": "markdown",
   "id": "3ec79314",
   "metadata": {},
   "source": [
    "## 7. Make Prediction"
   ]
  },
  {
   "cell_type": "code",
   "execution_count": null,
   "id": "06964435",
   "metadata": {},
   "outputs": [],
   "source": [
    "X[0]"
   ]
  },
  {
   "cell_type": "code",
   "execution_count": null,
   "id": "313dae7d",
   "metadata": {},
   "outputs": [],
   "source": [
    "print(clf.predict([[5.1, 3.5, 1.4, 0.2]]))"
   ]
  },
  {
   "cell_type": "code",
   "execution_count": null,
   "id": "3bdf8eec",
   "metadata": {},
   "outputs": [],
   "source": [
    "print(clf.predict(X[[0]]))"
   ]
  },
  {
   "cell_type": "code",
   "execution_count": null,
   "id": "4eb6c499",
   "metadata": {},
   "outputs": [],
   "source": [
    "print(clf.predict_proba(X[[0]]))"
   ]
  },
  {
   "cell_type": "code",
   "execution_count": null,
   "id": "6c61e9f5",
   "metadata": {},
   "outputs": [],
   "source": [
    "clf.fit(iris.data, iris.target_names[iris.target])"
   ]
  },
  {
   "cell_type": "markdown",
   "id": "f31bae26",
   "metadata": {},
   "source": [
    "## 8. Data split (80/20 ratio)"
   ]
  },
  {
   "cell_type": "code",
   "execution_count": null,
   "id": "2eeadc1d",
   "metadata": {},
   "outputs": [],
   "source": [
    "X_train, X_test, Y_train, Y_test = train_test_split(X, Y, test_size=0.2)"
   ]
  },
  {
   "cell_type": "code",
   "execution_count": null,
   "id": "2fb1ff5b",
   "metadata": {},
   "outputs": [],
   "source": [
    "X_train.shape, Y_train.shape"
   ]
  },
  {
   "cell_type": "code",
   "execution_count": null,
   "id": "521e5a8d",
   "metadata": {},
   "outputs": [],
   "source": [
    "X_test.shape, Y_test.shape"
   ]
  },
  {
   "cell_type": "markdown",
   "id": "84c92ef9",
   "metadata": {},
   "source": [
    "## 9. Rebuild the Random Forest Model"
   ]
  },
  {
   "cell_type": "code",
   "execution_count": null,
   "id": "8d67803d",
   "metadata": {},
   "outputs": [],
   "source": [
    "clf.fit(X_train, Y_train)"
   ]
  },
  {
   "cell_type": "markdown",
   "id": "2b0ae6aa",
   "metadata": {},
   "source": [
    "### 9.1. Performs prediction on single sample from the data set"
   ]
  },
  {
   "cell_type": "code",
   "execution_count": null,
   "id": "6ed586c5",
   "metadata": {},
   "outputs": [],
   "source": [
    "print(clf.predict([[5.1, 3.5, 1.4, 0.2]]))"
   ]
  },
  {
   "cell_type": "code",
   "execution_count": null,
   "id": "0f8c92e5",
   "metadata": {},
   "outputs": [],
   "source": [
    "print(clf.predict_proba([[5.1, 3.5, 1.4, 0.2]]))"
   ]
  },
  {
   "cell_type": "markdown",
   "id": "b263a26d",
   "metadata": {},
   "source": [
    "### 9.2. Performs prediction on the test set"
   ]
  },
  {
   "cell_type": "markdown",
   "id": "3276f646",
   "metadata": {},
   "source": [
    "#### *Predicted class labels*"
   ]
  },
  {
   "cell_type": "code",
   "execution_count": null,
   "id": "6946650c",
   "metadata": {},
   "outputs": [],
   "source": [
    "print(clf.predict(X_test))"
   ]
  },
  {
   "cell_type": "markdown",
   "id": "29405add",
   "metadata": {},
   "source": [
    "#### *Actual class labels*"
   ]
  },
  {
   "cell_type": "code",
   "execution_count": null,
   "id": "63c525c6",
   "metadata": {},
   "outputs": [],
   "source": [
    "print(Y_test)"
   ]
  },
  {
   "cell_type": "markdown",
   "id": "f9ab8c18",
   "metadata": {},
   "source": [
    "## 10. Model Performance"
   ]
  },
  {
   "cell_type": "code",
   "execution_count": null,
   "id": "40d1edef",
   "metadata": {},
   "outputs": [],
   "source": [
    "print(clf.score(X_test, Y_test))"
   ]
  },
  {
   "cell_type": "code",
   "execution_count": null,
   "id": "d5ca3347",
   "metadata": {},
   "outputs": [],
   "source": []
  }
 ],
 "metadata": {
  "celltoolbar": "Slideshow",
  "kernelspec": {
   "display_name": "Python 3 (ipykernel)",
   "language": "python",
   "name": "python3"
  },
  "language_info": {
   "codemirror_mode": {
    "name": "ipython",
    "version": 3
   },
   "file_extension": ".py",
   "mimetype": "text/x-python",
   "name": "python",
   "nbconvert_exporter": "python",
   "pygments_lexer": "ipython3",
   "version": "3.10.2"
  }
 },
 "nbformat": 4,
 "nbformat_minor": 5
}
