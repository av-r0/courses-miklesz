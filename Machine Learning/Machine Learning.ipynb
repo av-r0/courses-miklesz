{
 "cells": [
  {
   "cell_type": "markdown",
   "id": "07db7ee8",
   "metadata": {
    "slideshow": {
     "slide_type": "slide"
    }
   },
   "source": [
    "# Machine Learning\n",
    "\n",
    "_Leszek Frąś, Mikołaj Leszczuk_\n",
    "\n",
    "![](https://carlolepelaars.nl/wp-content/uploads/2018/10/frabz-Machine-Learning-What-society-thinks-I-do-What-my-friends-thinks-f0e58e-700x510.jpg)"
   ]
  },
  {
   "cell_type": "markdown",
   "id": "4f2d199b",
   "metadata": {
    "slideshow": {
     "slide_type": "slide"
    }
   },
   "source": [
    "## Konspekt"
   ]
  },
  {
   "cell_type": "markdown",
   "id": "4fd04665",
   "metadata": {
    "slideshow": {
     "slide_type": "fragment"
    }
   },
   "source": [
    "* Czym jest uczenie maszynowe?\n",
    "* Dlaczego warto korzystać z uczenia maszynowego?\n",
    "* Rodzaje systemów uczenia maszynowego\n",
    "* Jak rozróżnić?\n",
    "* Precision i recall"
   ]
  },
  {
   "cell_type": "markdown",
   "id": "06be7262",
   "metadata": {
    "slideshow": {
     "slide_type": "slide"
    }
   },
   "source": [
    "## Czym jest uczenie maszynowe?"
   ]
  },
  {
   "cell_type": "markdown",
   "id": "bbb5e9bf",
   "metadata": {
    "slideshow": {
     "slide_type": "fragment"
    }
   },
   "source": [
    "\"Uczenie maszynowe to dziedzina nauki dająca komputerom możliwość uczenia się bez konieczności ich jawnego programowania...\" Arthur Samuel, 1959.\n",
    "\n",
    "A bardziej technicznie:\n",
    "\n",
    "\"Mówimy ze program komputerowy uczy się na podstawie doświadczenia $E$ w odniesieniu do jakiegoś zadania $T$ i pewnej miary wydajności $P$, jeśli jego wydajność (mierzona przez $P$) wobec zadania $T$ wzrasta z nabywaniem doświadczenia $E$...\", Tom Mitchell, 1997."
   ]
  },
  {
   "cell_type": "markdown",
   "id": "ad289c4b",
   "metadata": {
    "slideshow": {
     "slide_type": "slide"
    }
   },
   "source": [
    "## Dlaczego warto korzystać z uczenia maszynowego?"
   ]
  },
  {
   "cell_type": "code",
   "execution_count": null,
   "id": "8b953035",
   "metadata": {},
   "outputs": [],
   "source": []
  },
  {
   "cell_type": "code",
   "execution_count": null,
   "id": "30862db8",
   "metadata": {},
   "outputs": [],
   "source": []
  }
 ],
 "metadata": {
  "celltoolbar": "Slideshow",
  "kernelspec": {
   "display_name": "Python 3 (ipykernel)",
   "language": "python",
   "name": "python3"
  },
  "language_info": {
   "codemirror_mode": {
    "name": "ipython",
    "version": 3
   },
   "file_extension": ".py",
   "mimetype": "text/x-python",
   "name": "python",
   "nbconvert_exporter": "python",
   "pygments_lexer": "ipython3",
   "version": "3.10.2"
  }
 },
 "nbformat": 4,
 "nbformat_minor": 5
}
