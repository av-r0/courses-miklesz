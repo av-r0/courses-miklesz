{
 "cells": [
  {
   "cell_type": "markdown",
   "id": "8e41228f",
   "metadata": {
    "slideshow": {
     "slide_type": "slide"
    }
   },
   "source": [
    "# Machine Learning - przykład rzeczywisty\n",
    "_Mikołaj Leszczuk_\n",
    "![](https://miro.medium.com/max/1400/1*hXK4F_vFtG-fh2BrxDolFg.jpeg)"
   ]
  },
  {
   "cell_type": "markdown",
   "id": "88fe8a86",
   "metadata": {
    "slideshow": {
     "slide_type": "slide"
    }
   },
   "source": [
    "## Konspekt"
   ]
  },
  {
   "cell_type": "markdown",
   "id": "18b4e1bd",
   "metadata": {
    "slideshow": {
     "slide_type": "fragment"
    }
   },
   "source": [
    "* Rozpoznawanie treści generowanych profesjonalnie (ang. _Professionally-Generated Content_, PGC) i treści generowanych przez użytkowników (ang. _User-Generated Content_, UGC)\n",
    "* Precision, recall i f-measure\n",
    "* Wizualizacja"
   ]
  },
  {
   "cell_type": "markdown",
   "id": "e0ae7cbb",
   "metadata": {
    "slideshow": {
     "slide_type": "slide"
    }
   },
   "source": [
    "## Rozpoznawanie treści generowanych profesjonalnie (ang. _Professionally-Generated Content_, PGC) i treści generowanych przez użytkowników (ang. _User-Generated Content_, UGC)"
   ]
  },
  {
   "cell_type": "markdown",
   "id": "a8178ae9",
   "metadata": {
    "slideshow": {
     "slide_type": "subslide"
    }
   },
   "source": [
    "Według Cisco:\n",
    "* 3-krotny wzrost ruchu IP w ciągu ostatnich 5 lat (od 2017 r.)\n",
    "* 82% całego ruchu IP stanowi ruch wideo IP (w 2022 r.)"
   ]
  },
  {
   "cell_type": "markdown",
   "id": "9457d3a6",
   "metadata": {
    "slideshow": {
     "slide_type": "subslide"
    }
   },
   "source": [
    "![](https://raw.githubusercontent.com/miklesz/Courses/main/Machine%20Learning/cisco1.png)"
   ]
  },
  {
   "cell_type": "markdown",
   "id": "da8553e1",
   "metadata": {
    "slideshow": {
     "slide_type": "subslide"
    }
   },
   "source": [
    "Według Cisco:\n",
    "* przeciętny internauta generuje 84,6 GB ruchu miesięcznie (w 2022 r.)\n",
    "* wzrost o 194% z 28,8 GB w 2017 r."
   ]
  },
  {
   "cell_type": "markdown",
   "id": "353f818b",
   "metadata": {
    "slideshow": {
     "slide_type": "subslide"
    }
   },
   "source": [
    "![](https://raw.githubusercontent.com/miklesz/Courses/main/Machine%20Learning/cisco2.png)"
   ]
  },
  {
   "cell_type": "markdown",
   "id": "dc96b65f",
   "metadata": {
    "slideshow": {
     "slide_type": "subslide"
    }
   },
   "source": [
    "Ale jak zdecydować, czy treść jest generowana profesjonalnie (ang. _Professionally-Generated Content_, PGC), czy też treści jest generowana przez użytkowników (ang. _User-Generated Content_, UGC)?"
   ]
  },
  {
   "cell_type": "markdown",
   "id": "40cc570f",
   "metadata": {
    "slideshow": {
     "slide_type": "fragment"
    }
   },
   "source": [
    "Będziemy budować model klasyfikacji PGC i UGC dla zbioru danych wartości [wskaźników wizyjnych](https://qoe.agh.edu.pl/pl/indicators/) przy użyciu algorytmu drzewa decyzyjnego."
   ]
  },
  {
   "cell_type": "markdown",
   "id": "54b0bfd9",
   "metadata": {
    "slideshow": {
     "slide_type": "slide"
    }
   },
   "source": [
    "### Importowanie bibliotek"
   ]
  },
  {
   "cell_type": "code",
   "execution_count": null,
   "id": "fb21b5d0",
   "metadata": {
    "slideshow": {
     "slide_type": "fragment"
    }
   },
   "outputs": [],
   "source": [
    "from sklearn.model_selection import train_test_split\n",
    "from sklearn.ensemble import RandomForestClassifier\n",
    "from sklearn.tree import DecisionTreeClassifier\n",
    "from numpy import genfromtxt"
   ]
  },
  {
   "cell_type": "markdown",
   "id": "313f917e",
   "metadata": {
    "slideshow": {
     "slide_type": "slide"
    }
   },
   "source": [
    "### Załadowanie zestawu danych [wskaźników wizyjnych](https://qoe.agh.edu.pl/pl/indicators/) i przypisywanie zmiennych *wejściowych* i *wyjściowych*"
   ]
  },
  {
   "cell_type": "markdown",
   "id": "f515a255",
   "metadata": {
    "slideshow": {
     "slide_type": "fragment"
    }
   },
   "source": [
    "Przypiszmy zmienne wejściowe do `X`, a zmienną wyjściową (etykieta klasy) do `Y`."
   ]
  },
  {
   "cell_type": "code",
   "execution_count": null,
   "id": "5e2da400",
   "metadata": {
    "slideshow": {
     "slide_type": "fragment"
    }
   },
   "outputs": [],
   "source": [
    "X = genfromtxt('all_DB_data.csv', delimiter=',')\n",
    "Y = genfromtxt('all_DB_target.csv', delimiter=',')"
   ]
  },
  {
   "cell_type": "markdown",
   "id": "e7ac916a",
   "metadata": {
    "slideshow": {
     "slide_type": "slide"
    }
   },
   "source": [
    "### Spojrzenie na dane\n"
   ]
  },
  {
   "cell_type": "markdown",
   "id": "5923b08a",
   "metadata": {
    "slideshow": {
     "slide_type": "fragment"
    }
   },
   "source": [
    "Zestaw danych [wskaźników wizyjnych](https://qoe.agh.edu.pl/pl/indicators/) zawiera 10 cech wejściowych i 1 zmienną wyjściową (etykieta klasy)."
   ]
  },
  {
   "cell_type": "markdown",
   "id": "bb6528bd",
   "metadata": {
    "slideshow": {
     "slide_type": "slide"
    }
   },
   "source": [
    "#### Funkcje wejściowe"
   ]
  },
  {
   "cell_type": "code",
   "execution_count": null,
   "id": "151ccfd4",
   "metadata": {
    "scrolled": true,
    "slideshow": {
     "slide_type": "fragment"
    }
   },
   "outputs": [],
   "source": [
    "print(X)"
   ]
  },
  {
   "cell_type": "markdown",
   "id": "394ea549",
   "metadata": {
    "slideshow": {
     "slide_type": "fragment"
    }
   },
   "source": [
    "```python\n",
    "[\n",
    "    'Blockiness',\n",
    "    'SA',\n",
    "    'Blockloss', \n",
    "    'Blur',\n",
    "    'TA',\n",
    "    'Exposure',\n",
    "    'Contrast',\n",
    "    'Noise',\n",
    "    'Slice',\n",
    "    'Flickering'\n",
    "]\n",
    "```"
   ]
  },
  {
   "cell_type": "markdown",
   "id": "215f6882",
   "metadata": {
    "slideshow": {
     "slide_type": "slide"
    }
   },
   "source": [
    "#### Funkcje (zmienne) wyjściowe (etykieta klasy)"
   ]
  },
  {
   "cell_type": "code",
   "execution_count": null,
   "id": "5c8638b6",
   "metadata": {
    "slideshow": {
     "slide_type": "fragment"
    }
   },
   "outputs": [],
   "source": [
    "print(Y)"
   ]
  },
  {
   "cell_type": "markdown",
   "id": "e7e5ee2b",
   "metadata": {
    "slideshow": {
     "slide_type": "slide"
    }
   },
   "source": [
    "##### Treści generowane profesjonalnie (ang. _Professionally-Generated Content_, PGC)"
   ]
  },
  {
   "cell_type": "markdown",
   "id": "7d823ff3",
   "metadata": {
    "slideshow": {
     "slide_type": "subslide"
    }
   },
   "source": [
    "![](https://raw.githubusercontent.com/miklesz/Courses/main/Machine%20Learning/full-pgc.png)"
   ]
  },
  {
   "cell_type": "markdown",
   "id": "50e3679c",
   "metadata": {
    "slideshow": {
     "slide_type": "slide"
    }
   },
   "source": [
    "##### Treści generowane przez użytkowników (ang. _User-Generated Content_, UGC)"
   ]
  },
  {
   "cell_type": "markdown",
   "id": "b6a50808",
   "metadata": {
    "slideshow": {
     "slide_type": "subslide"
    }
   },
   "source": [
    "![](https://raw.githubusercontent.com/miklesz/Courses/main/Machine%20Learning/full-ugc.png)"
   ]
  },
  {
   "cell_type": "markdown",
   "id": "e98dd8a6",
   "metadata": {
    "slideshow": {
     "slide_type": "slide"
    }
   },
   "source": [
    "#### Przyjrzyjmy się wymiarowi danych"
   ]
  },
  {
   "cell_type": "code",
   "execution_count": null,
   "id": "e491cb0b",
   "metadata": {
    "slideshow": {
     "slide_type": "fragment"
    }
   },
   "outputs": [],
   "source": [
    "X.shape"
   ]
  },
  {
   "cell_type": "code",
   "execution_count": null,
   "id": "c844aa83",
   "metadata": {
    "slideshow": {
     "slide_type": "fragment"
    }
   },
   "outputs": [],
   "source": [
    "Y.shape"
   ]
  },
  {
   "cell_type": "markdown",
   "id": "34b69c0e",
   "metadata": {
    "slideshow": {
     "slide_type": "slide"
    }
   },
   "source": [
    "### Zbudujmy model klasyfikacji za pomocą lasu losowego"
   ]
  },
  {
   "cell_type": "code",
   "execution_count": null,
   "id": "bb51b510",
   "metadata": {
    "slideshow": {
     "slide_type": "fragment"
    }
   },
   "outputs": [],
   "source": [
    "clf = RandomForestClassifier()"
   ]
  },
  {
   "cell_type": "code",
   "execution_count": null,
   "id": "07be9252",
   "metadata": {
    "slideshow": {
     "slide_type": "fragment"
    }
   },
   "outputs": [],
   "source": [
    "clf.fit(X, Y)"
   ]
  },
  {
   "cell_type": "markdown",
   "id": "50a0a81a",
   "metadata": {
    "slideshow": {
     "slide_type": "slide"
    }
   },
   "source": [
    "### Znaczenie funkcji"
   ]
  },
  {
   "cell_type": "code",
   "execution_count": null,
   "id": "3638895b",
   "metadata": {
    "slideshow": {
     "slide_type": "fragment"
    }
   },
   "outputs": [],
   "source": [
    "print(clf.feature_importances_)"
   ]
  },
  {
   "cell_type": "markdown",
   "id": "d5867c8a",
   "metadata": {
    "slideshow": {
     "slide_type": "slide"
    }
   },
   "source": [
    "### Podział danych (stosunek 80/20)"
   ]
  },
  {
   "cell_type": "code",
   "execution_count": null,
   "id": "b9df87e2",
   "metadata": {
    "slideshow": {
     "slide_type": "fragment"
    }
   },
   "outputs": [],
   "source": [
    "X_train, X_test, Y_train, Y_test = train_test_split(X, Y, test_size=0.2)"
   ]
  },
  {
   "cell_type": "code",
   "execution_count": null,
   "id": "844b67f6",
   "metadata": {
    "slideshow": {
     "slide_type": "fragment"
    }
   },
   "outputs": [],
   "source": [
    "X_train.shape, Y_train.shape"
   ]
  },
  {
   "cell_type": "code",
   "execution_count": null,
   "id": "6c6a8311",
   "metadata": {
    "slideshow": {
     "slide_type": "fragment"
    }
   },
   "outputs": [],
   "source": [
    "X_test.shape, Y_test.shape"
   ]
  },
  {
   "cell_type": "markdown",
   "id": "cc13a213",
   "metadata": {
    "slideshow": {
     "slide_type": "slide"
    }
   },
   "source": [
    "### Przebudujmy model drzewa decyzyjnego i  wykonajmy prognozę na zbiorze testowym"
   ]
  },
  {
   "cell_type": "code",
   "execution_count": null,
   "id": "3e29d9fc",
   "metadata": {
    "slideshow": {
     "slide_type": "fragment"
    }
   },
   "outputs": [],
   "source": [
    "clf.fit(X_train, Y_train)"
   ]
  },
  {
   "cell_type": "markdown",
   "id": "e8d9b2a0",
   "metadata": {
    "slideshow": {
     "slide_type": "subslide"
    }
   },
   "source": [
    "#### *Przewidywane etykiety klas*"
   ]
  },
  {
   "cell_type": "code",
   "execution_count": null,
   "id": "17ab5b81",
   "metadata": {
    "slideshow": {
     "slide_type": "fragment"
    }
   },
   "outputs": [],
   "source": [
    "print(clf.predict(X_test))"
   ]
  },
  {
   "cell_type": "markdown",
   "id": "18e5fe54",
   "metadata": {
    "slideshow": {
     "slide_type": "fragment"
    }
   },
   "source": [
    "#### *Rzeczywiste etykiety klas*"
   ]
  },
  {
   "cell_type": "code",
   "execution_count": null,
   "id": "505de01d",
   "metadata": {
    "slideshow": {
     "slide_type": "fragment"
    }
   },
   "outputs": [],
   "source": [
    "print(Y_test)"
   ]
  },
  {
   "cell_type": "markdown",
   "id": "2f62870b",
   "metadata": {
    "slideshow": {
     "slide_type": "slide"
    }
   },
   "source": [
    "### Wydajność modelu"
   ]
  },
  {
   "cell_type": "code",
   "execution_count": null,
   "id": "8bda262d",
   "metadata": {
    "slideshow": {
     "slide_type": "fragment"
    }
   },
   "outputs": [],
   "source": [
    "print(clf.score(X_test, Y_test))"
   ]
  },
  {
   "cell_type": "markdown",
   "id": "ec3d5485",
   "metadata": {
    "slideshow": {
     "slide_type": "slide"
    }
   },
   "source": [
    "### Zbudujmy model klasyfikacji za pomocą drzewa decyzyjnego"
   ]
  },
  {
   "cell_type": "code",
   "execution_count": null,
   "id": "ca164ba7",
   "metadata": {
    "slideshow": {
     "slide_type": "fragment"
    }
   },
   "outputs": [],
   "source": [
    "clf = DecisionTreeClassifier()"
   ]
  },
  {
   "cell_type": "code",
   "execution_count": null,
   "id": "204a9343",
   "metadata": {
    "slideshow": {
     "slide_type": "fragment"
    }
   },
   "outputs": [],
   "source": [
    "clf.fit(X, Y)"
   ]
  },
  {
   "cell_type": "markdown",
   "id": "73567d60",
   "metadata": {
    "slideshow": {
     "slide_type": "slide"
    }
   },
   "source": [
    "### Znaczenie funkcji"
   ]
  },
  {
   "cell_type": "code",
   "execution_count": null,
   "id": "514d3d3d",
   "metadata": {
    "slideshow": {
     "slide_type": "fragment"
    }
   },
   "outputs": [],
   "source": [
    "print(clf.feature_importances_)"
   ]
  },
  {
   "cell_type": "markdown",
   "id": "1c75f846",
   "metadata": {
    "slideshow": {
     "slide_type": "slide"
    }
   },
   "source": [
    "### Podział danych (stosunek 80/20)"
   ]
  },
  {
   "cell_type": "code",
   "execution_count": null,
   "id": "0c11d8f1",
   "metadata": {
    "slideshow": {
     "slide_type": "fragment"
    }
   },
   "outputs": [],
   "source": [
    "X_train, X_test, Y_train, Y_test = train_test_split(X, Y, test_size=0.2)"
   ]
  },
  {
   "cell_type": "code",
   "execution_count": null,
   "id": "844b67f6",
   "metadata": {
    "slideshow": {
     "slide_type": "fragment"
    }
   },
   "outputs": [],
   "source": [
    "X_train.shape, Y_train.shape"
   ]
  },
  {
   "cell_type": "code",
   "execution_count": null,
   "id": "6c6a8311",
   "metadata": {
    "slideshow": {
     "slide_type": "fragment"
    }
   },
   "outputs": [],
   "source": [
    "X_test.shape, Y_test.shape"
   ]
  },
  {
   "cell_type": "markdown",
   "id": "cc13a213",
   "metadata": {
    "slideshow": {
     "slide_type": "slide"
    }
   },
   "source": [
    "### Przebudujmy model drzewa decyzyjnego i  wykonajmy prognozę na zbiorze testowym"
   ]
  },
  {
   "cell_type": "code",
   "execution_count": null,
   "id": "3e29d9fc",
   "metadata": {
    "slideshow": {
     "slide_type": "fragment"
    }
   },
   "outputs": [],
   "source": [
    "clf.fit(X_train, Y_train)"
   ]
  },
  {
   "cell_type": "markdown",
   "id": "e8d9b2a0",
   "metadata": {
    "slideshow": {
     "slide_type": "subslide"
    }
   },
   "source": [
    "#### *Przewidywane etykiety klas*"
   ]
  },
  {
   "cell_type": "code",
   "execution_count": null,
   "id": "17ab5b81",
   "metadata": {
    "slideshow": {
     "slide_type": "fragment"
    }
   },
   "outputs": [],
   "source": [
    "print(clf.predict(X_test))"
   ]
  },
  {
   "cell_type": "markdown",
   "id": "18e5fe54",
   "metadata": {
    "slideshow": {
     "slide_type": "fragment"
    }
   },
   "source": [
    "#### *Rzeczywiste etykiety klas*"
   ]
  },
  {
   "cell_type": "code",
   "execution_count": null,
   "id": "505de01d",
   "metadata": {
    "slideshow": {
     "slide_type": "fragment"
    }
   },
   "outputs": [],
   "source": [
    "print(Y_test)"
   ]
  },
  {
   "cell_type": "markdown",
   "id": "2f62870b",
   "metadata": {
    "slideshow": {
     "slide_type": "slide"
    }
   },
   "source": [
    "### Wydajność modelu"
   ]
  },
  {
   "cell_type": "code",
   "execution_count": null,
   "id": "8bda262d",
   "metadata": {
    "slideshow": {
     "slide_type": "fragment"
    }
   },
   "outputs": [],
   "source": [
    "print(clf.score(X_test, Y_test))"
   ]
  },
  {
   "cell_type": "markdown",
   "id": "3e0e4d40",
   "metadata": {
    "slideshow": {
     "slide_type": "slide"
    }
   },
   "source": [
    "## Precision, recall i f-measure"
   ]
  },
  {
   "cell_type": "markdown",
   "id": "193a4fed",
   "metadata": {
    "slideshow": {
     "slide_type": "fragment"
    }
   },
   "source": [
    "W **rozpoznawaniu wzorców**, **odzyskiwaniu** i **klasyfikowaniu informacji (uczeniu maszynowym)**, **precision** i **recall** to metryki wydajności, które mają zastosowanie do danych pobieranych z **kolekcji**, **korpusu** lub **przestrzeni próbek**."
   ]
  },
  {
   "cell_type": "markdown",
   "id": "41b45385",
   "metadata": {
    "slideshow": {
     "slide_type": "fragment"
    }
   },
   "source": [
    "**Precision** (nazywana również **dodatnią wartością predykcyjną**) to ułamek odpowiednich instancji wśród pobranych instancji, natomiast **recall** (znane również jako **czułość**) to ułamek istotnych instancji, które zostały pobrane. Zarówno precyzja, jak i przypomnienie są zatem oparte na **trafności**."
   ]
  },
  {
   "cell_type": "markdown",
   "id": "62e0e734",
   "metadata": {
    "slideshow": {
     "slide_type": "subslide"
    }
   },
   "source": [
    "![](https://upload.wikimedia.org/wikipedia/commons/2/26/Precisionrecall.svg)"
   ]
  },
  {
   "cell_type": "markdown",
   "id": "a3ccbf4d",
   "metadata": {
    "slideshow": {
     "slide_type": "subslide"
    }
   },
   "source": [
    "**Czułość i swoistość (testu diagnostycznego)** – wartości opisujące zdolność testu do wykrycia badanej cechy (czułość) lub wykrycia jej braku (swoistość). Pojęcia czułości i swoistości stosuje się głównie w **badaniach naukowych** oraz **diagnostyce medycznej**."
   ]
  },
  {
   "cell_type": "markdown",
   "id": "ecb9a992",
   "metadata": {
    "slideshow": {
     "slide_type": "fragment"
    }
   },
   "source": [
    "**Czułość testu** to stosunek wyników prawdziwie dodatnich do sumy prawdziwie dodatnich i fałszywie ujemnych. Czułość 100% w przypadku testu medycznego oznaczałaby, że wszystkie osoby chore lub ogólnie z konkretnymi poszukiwanymi zaburzeniami zostaną rozpoznane. Pojęcie interpretuje się jako zdolność testu do prawidłowego rozpoznania choroby tam, gdzie ona występuje."
   ]
  },
  {
   "cell_type": "markdown",
   "id": "99d49c3a",
   "metadata": {
    "slideshow": {
     "slide_type": "fragment"
    }
   },
   "source": [
    "**Swoistość testu** to stosunek wyników prawdziwie ujemnych do sumy prawdziwie ujemnych i fałszywie dodatnich. Swoistość 100% oznaczałaby, że wszyscy ludzie zdrowi w wykonanym teście diagnostycznym zostaną oznaczeni jako zdrowi."
   ]
  },
  {
   "cell_type": "markdown",
   "id": "ed2f7d92",
   "metadata": {
    "slideshow": {
     "slide_type": "subslide"
    }
   },
   "source": [
    "![](https://upload.wikimedia.org/wikipedia/commons/5/5a/Sensitivity_and_specificity_1.01.svg)"
   ]
  },
  {
   "cell_type": "markdown",
   "id": "14571161",
   "metadata": {
    "slideshow": {
     "slide_type": "subslide"
    }
   },
   "source": [
    "Miarą, która łączy precision i recall, jest średnia harmoniczna precision i recall - f-measure:"
   ]
  },
  {
   "cell_type": "markdown",
   "id": "f1376848",
   "metadata": {
    "slideshow": {
     "slide_type": "fragment"
    }
   },
   "source": [
    "![](https://wikimedia.org/api/rest_v1/media/math/render/svg/dd577aee2dd35c5b0e349327528a5ac606c7bbbf)"
   ]
  },
  {
   "cell_type": "markdown",
   "id": "52e79a40",
   "metadata": {
    "slideshow": {
     "slide_type": "subslide"
    }
   },
   "source": [
    "[sklearn.metrics.precision_recall_fscore_support](https://scikit-learn.org/stable/modules/generated/sklearn.metrics.precision_recall_fscore_support.html)"
   ]
  },
  {
   "cell_type": "code",
   "execution_count": null,
   "id": "615c19f0",
   "metadata": {
    "slideshow": {
     "slide_type": "fragment"
    }
   },
   "outputs": [],
   "source": [
    "from sklearn.metrics import precision_recall_fscore_support"
   ]
  },
  {
   "cell_type": "code",
   "execution_count": null,
   "id": "769c7f7a",
   "metadata": {
    "slideshow": {
     "slide_type": "fragment"
    }
   },
   "outputs": [],
   "source": [
    "precision_recall_fscore_support(Y_test, clf.predict(X_test), average='binary')"
   ]
  },
  {
   "cell_type": "markdown",
   "id": "7d70f507",
   "metadata": {
    "slideshow": {
     "slide_type": "slide"
    }
   },
   "source": [
    "## Wizualizacja"
   ]
  },
  {
   "cell_type": "markdown",
   "id": "e47321dd",
   "metadata": {
    "slideshow": {
     "slide_type": "slide"
    }
   },
   "source": [
    "### Drukowanie reprezentacji tekstowej"
   ]
  },
  {
   "cell_type": "markdown",
   "id": "b46a0bf5",
   "metadata": {
    "slideshow": {
     "slide_type": "fragment"
    }
   },
   "source": [
    "Eksportowanie Drzewa Decyzyjnego do reprezentacji tekstowej może być przydatne podczas pracy na aplikacjach bez interfejsu użytkownika lub gdy chcemy zapisywać informacje o modelu do pliku tekstowego. Można sprawdzić szczegóły dotyczące `export_text` w [dokumentacji](https://scikit-learn.org/stable/modules/generated/sklearn.tree.export_text.html#sklearn.tree.export_text) `sklearn`."
   ]
  },
  {
   "cell_type": "code",
   "execution_count": null,
   "id": "94a11285",
   "metadata": {
    "slideshow": {
     "slide_type": "fragment"
    }
   },
   "outputs": [],
   "source": [
    "from sklearn import tree"
   ]
  },
  {
   "cell_type": "code",
   "execution_count": null,
   "id": "f923710b",
   "metadata": {
    "slideshow": {
     "slide_type": "subslide"
    }
   },
   "outputs": [],
   "source": [
    "text_representation = tree.export_text(\n",
    "    clf,\n",
    "    feature_names=[\n",
    "        'Blockiness',\n",
    "        'SA',\n",
    "        'Blockloss',\n",
    "        'Blur',\n",
    "        'TA',\n",
    "        'Exposure',\n",
    "        'Contrast',\n",
    "        'Noise',\n",
    "        'Slice',\n",
    "        'Flickering'\n",
    "    ]\n",
    ")"
   ]
  },
  {
   "cell_type": "code",
   "execution_count": null,
   "id": "c140c99e",
   "metadata": {
    "slideshow": {
     "slide_type": "subslide"
    }
   },
   "outputs": [],
   "source": [
    "print(text_representation)"
   ]
  },
  {
   "cell_type": "markdown",
   "id": "3fca3dc3",
   "metadata": {
    "slideshow": {
     "slide_type": "slide"
    }
   },
   "source": [
    "### Wykreślanie drzewa decyzyjnego z pakietem `dtreeviz`"
   ]
  },
  {
   "cell_type": "markdown",
   "id": "8ecec0a4",
   "metadata": {
    "slideshow": {
     "slide_type": "fragment"
    }
   },
   "source": [
    "Pakiet `dtreeviz` jest dostępny na [github](https://github.com/parrt/dtreeviz). Można go zainstalować za pomocą `pip install dtreeviz`. Wymaga [zainstalowania](https://graphviz.org/download/) programu `graphviz`."
   ]
  },
  {
   "cell_type": "code",
   "execution_count": null,
   "id": "5c1bb328",
   "metadata": {
    "slideshow": {
     "slide_type": "fragment"
    }
   },
   "outputs": [],
   "source": [
    "from dtreeviz.trees import dtreeviz"
   ]
  },
  {
   "cell_type": "markdown",
   "id": "05158585",
   "metadata": {
    "slideshow": {
     "slide_type": "subslide"
    }
   },
   "source": [
    "Aby wykreślić drzewo, po prostu uruchomia się:"
   ]
  },
  {
   "cell_type": "code",
   "execution_count": null,
   "id": "e50c0fcf",
   "metadata": {
    "slideshow": {
     "slide_type": "fragment"
    }
   },
   "outputs": [],
   "source": [
    "viz = dtreeviz(\n",
    "    clf,\n",
    "    X_test,\n",
    "    Y_test,\n",
    "    target_name=\"target\",\n",
    "    feature_names=[\n",
    "        'Blockiness',\n",
    "        'SA',\n",
    "        'Blockloss',\n",
    "        'Blur',\n",
    "        'TA',\n",
    "        'Exposure',\n",
    "        'Contrast',\n",
    "        'Noise',\n",
    "        'Slice',\n",
    "        'Flickering'\n",
    "    ],\n",
    "    class_names=['PGC', 'UGC']\n",
    ")"
   ]
  },
  {
   "cell_type": "markdown",
   "id": "c61d5855",
   "metadata": {
    "slideshow": {
     "slide_type": "subslide"
    }
   },
   "source": [
    "Zapisywanie wizualizacji do pliku:"
   ]
  },
  {
   "cell_type": "code",
   "execution_count": null,
   "id": "c110dc2d",
   "metadata": {
    "slideshow": {
     "slide_type": "fragment"
    }
   },
   "outputs": [],
   "source": [
    "viz.save(\"decision_tree.svg\")"
   ]
  },
  {
   "cell_type": "markdown",
   "id": "f658c376",
   "metadata": {
    "slideshow": {
     "slide_type": "fragment"
    }
   },
   "source": [
    "![](decision_tree.svg)"
   ]
  },
  {
   "cell_type": "code",
   "execution_count": null,
   "id": "f20f3737",
   "metadata": {
    "slideshow": {
     "slide_type": "skip"
    }
   },
   "outputs": [],
   "source": []
  }
 ],
 "metadata": {
  "celltoolbar": "Slideshow",
  "kernelspec": {
   "display_name": "Python 3 (ipykernel)",
   "language": "python",
   "name": "python3"
  },
  "language_info": {
   "codemirror_mode": {
    "name": "ipython",
    "version": 3
   },
   "file_extension": ".py",
   "mimetype": "text/x-python",
   "name": "python",
   "nbconvert_exporter": "python",
   "pygments_lexer": "ipython3",
   "version": "3.10.4"
  }
 },
 "nbformat": 4,
 "nbformat_minor": 5
}
