{
 "cells": [
  {
   "cell_type": "markdown",
   "id": "4d7b534f",
   "metadata": {
    "slideshow": {
     "slide_type": "slide"
    }
   },
   "source": [
    "# Machine Learning\n",
    "\n",
    "_Leszek Frąś, Mikołaj Leszczuk_\n",
    "\n",
    "![](https://carlolepelaars.nl/wp-content/uploads/2018/10/frabz-Machine-Learning-What-society-thinks-I-do-What-my-friends-thinks-f0e58e-700x510.jpg)"
   ]
  },
  {
   "cell_type": "markdown",
   "id": "834e810e",
   "metadata": {
    "slideshow": {
     "slide_type": "slide"
    }
   },
   "source": [
    "## Konspekt"
   ]
  },
  {
   "cell_type": "markdown",
   "id": "e7a69d8d",
   "metadata": {
    "slideshow": {
     "slide_type": "fragment"
    }
   },
   "source": [
    "* Czym jest uczenie maszynowe?\n",
    "* Dlaczego warto korzystać z uczenia maszynowego?\n",
    "* Rodzaje systemów uczenia maszynowego\n",
    "* Jak rozróżnić?\n",
    "* Drzewo decyzyjne\n",
    "* Las losowy\n",
    "* Rozpoznawanie treści generowanych przez użytkowników (ang. _User-Generated Content_, UGC)\n",
    "* Precision i recall\n",
    "* Wizualizacja"
   ]
  },
  {
   "cell_type": "markdown",
   "id": "9088cd3f",
   "metadata": {
    "slideshow": {
     "slide_type": "slide"
    }
   },
   "source": [
    "## Czym jest uczenie maszynowe?"
   ]
  },
  {
   "cell_type": "markdown",
   "id": "c773c56e",
   "metadata": {
    "slideshow": {
     "slide_type": "fragment"
    }
   },
   "source": [
    "\"Uczenie maszynowe to dziedzina nauki dająca komputerom możliwość uczenia się bez konieczności ich jawnego programowania...\" Arthur Samuel, 1959.\n",
    "\n",
    "A bardziej technicznie:\n",
    "\n",
    "\"Mówimy ze program komputerowy uczy się na podstawie doświadczenia $E$ w odniesieniu do jakiegoś zadania $T$ i pewnej miary wydajności $P$, jeśli jego wydajność (mierzona przez $P$) wobec zadania $T$ wzrasta z nabywaniem doświadczenia $E$...\", Tom Mitchell, 1997."
   ]
  },
  {
   "cell_type": "markdown",
   "id": "1c27f411",
   "metadata": {
    "slideshow": {
     "slide_type": "slide"
    }
   },
   "source": [
    "## Dlaczego warto korzystać z uczenia maszynowego?"
   ]
  },
  {
   "cell_type": "markdown",
   "id": "1adf2fb0",
   "metadata": {
    "slideshow": {
     "slide_type": "fragment"
    }
   },
   "source": [
    "![](https://raw.githubusercontent.com/miklesz/Courses/main/Machine%20Learning/ml1.png)"
   ]
  },
  {
   "cell_type": "markdown",
   "id": "2ad9a58a",
   "metadata": {
    "slideshow": {
     "slide_type": "subslide"
    }
   },
   "source": [
    "Zadanie: napisać filtr spamu, przy pomocy tradydycyjnych technik programistycznych\n",
    "1. Zastanowienie jak wygląda klsyczny spam - powtarzające się wyrażenia: okazja, darmowe, bonus, promocja, gratis, bez limitów. Występowanie: temat wiadomości\n",
    "2. Napisanie algorytmu wykrywającego każdy z zaobserwowanych szablonów. Program oznaczałby wiadomość jako spam, jeśli wykryłby jeden z kilku określonych wzorców.\n",
    "3. Testowanie programu, ciągłe powtarzanie kroków 1. i 2."
   ]
  },
  {
   "cell_type": "markdown",
   "id": "bb6c8567",
   "metadata": {
    "slideshow": {
     "slide_type": "subslide"
    }
   },
   "source": [
    "=> a co jeśli spamerzy zauważyli by blokowanie algorytmu wykrywającego nieporządane mejle?\n",
    "\n",
    "Próby omijania filtrów: wkomponowywanie białych znaków, znaków specjalnych\n",
    "\n",
    "=> należy non stop uwzględniać nowe zmiany poprzez dopisywanie nowych reguł...\n",
    "\n",
    "Najlepsze rozwiązanie?\n",
    "\n",
    "Stworzenie samouczącego się algorytmu, na podstawie przykładów i kombinacji z nim związanych."
   ]
  },
  {
   "cell_type": "markdown",
   "id": "187d399e",
   "metadata": {
    "slideshow": {
     "slide_type": "subslide"
    }
   },
   "source": [
    "![](https://raw.githubusercontent.com/miklesz/Courses/main/Machine%20Learning/ml2.png)"
   ]
  },
  {
   "cell_type": "markdown",
   "id": "694dbd11",
   "metadata": {
    "slideshow": {
     "slide_type": "subslide"
    }
   },
   "source": [
    "Wykorzystanie technik uczenia maszynowego do analizowania olbrzymich ilości danych może pomóc w wykrywaniem nieoczywistych wzorców. Proces nazywa się wydobywaniem danych (data mining).\n",
    "\n",
    "Uczenie maszynowe nadaje się do:\n",
    "1. Problemów, które wymagają częstego dostrajania algorytmu lub korzystania z długich list reguł\n",
    "2. Złożonych problemów, trudnych do rozwiązania tradycyjnymi metodami.\n",
    "3. Zmiennych środowisk wpływających na problematykę.\n",
    "4. Pomagania człowiekowu w analizowaniu skomplikowanych zagadnień i olbrzymich ilości danych."
   ]
  },
  {
   "cell_type": "markdown",
   "id": "5c3d6c29",
   "metadata": {
    "slideshow": {
     "slide_type": "slide"
    }
   },
   "source": [
    "## Rodzaje systemów uczenia maszynowego"
   ]
  },
  {
   "cell_type": "markdown",
   "id": "4048d848",
   "metadata": {
    "slideshow": {
     "slide_type": "slide"
    }
   },
   "source": [
    "### Uczenie nadzorowane"
   ]
  },
  {
   "cell_type": "markdown",
   "id": "d3dc995c",
   "metadata": {
    "slideshow": {
     "slide_type": "fragment"
    }
   },
   "source": [
    "=> dane są oznakowane, jest zbiór uczący oraz zbiór weryfikacyjny"
   ]
  },
  {
   "cell_type": "markdown",
   "id": "4936dfca",
   "metadata": {
    "slideshow": {
     "slide_type": "fragment"
    }
   },
   "source": [
    "* metoda k-najbliższych sąsiadów\n",
    "* regresja liniowa\n",
    "* regresja logistyczna\n",
    "* maszyna wektorów nośnych\n",
    "* drzewa decyzyjne i losowe lasy\n",
    "* sieci neuronowe"
   ]
  },
  {
   "cell_type": "markdown",
   "id": "e367b855",
   "metadata": {
    "slideshow": {
     "slide_type": "slide"
    }
   },
   "source": [
    "### Uczenie nienadzorowane"
   ]
  },
  {
   "cell_type": "markdown",
   "id": "bebfc6f2",
   "metadata": {
    "slideshow": {
     "slide_type": "fragment"
    }
   },
   "source": [
    "=> dane uczące są nieoznakowane; program uczy się bez nauczyciela"
   ]
  },
  {
   "cell_type": "markdown",
   "id": "759b7a29",
   "metadata": {
    "slideshow": {
     "slide_type": "fragment"
    }
   },
   "source": [
    "* metoda k-średnich lub centroidów (ang. _k-means_)\n",
    "* hierarchiczna analiza skupień (ang. _Hierarchical Cluster Analysis_, HCA)\n",
    "* wykrywawenie anomali i nowości (ang. _anomaly detection and novelety detection_)\n",
    "* wizualiacja i redukcje wymiarowości"
   ]
  },
  {
   "cell_type": "markdown",
   "id": "1ae513c6",
   "metadata": {
    "slideshow": {
     "slide_type": "slide"
    }
   },
   "source": [
    "## Jak rozróżnić?"
   ]
  },
  {
   "cell_type": "markdown",
   "id": "b1a3d9d4",
   "metadata": {
    "slideshow": {
     "slide_type": "fragment"
    }
   },
   "source": [
    "Dobry przykładem jest analiza skupień...\n",
    "\n",
    "(źródło: Uczenie maszynowe z użyciem Scikit-Learn i Tensorflow, Aureilen Geron, 2020, Gliwice)"
   ]
  },
  {
   "cell_type": "markdown",
   "id": "43031603",
   "metadata": {
    "slideshow": {
     "slide_type": "subslide"
    }
   },
   "source": [
    "![](https://raw.githubusercontent.com/miklesz/Courses/main/Machine%20Learning/ml3.jpeg)"
   ]
  },
  {
   "cell_type": "markdown",
   "id": "faff9a57",
   "metadata": {
    "slideshow": {
     "slide_type": "subslide"
    }
   },
   "source": [
    "lub wykrywanie anomalii:\n",
    "\n",
    "(źródło: Uczenie maszynowe z użyciem Scikit-Learn i Tensorflow, Aureilen Geron, 2020, Gliwice)"
   ]
  },
  {
   "cell_type": "markdown",
   "id": "79fb9a9d",
   "metadata": {
    "slideshow": {
     "slide_type": "subslide"
    }
   },
   "source": [
    "![](https://raw.githubusercontent.com/miklesz/Courses/main/Machine%20Learning/ml4.jpeg)"
   ]
  },
  {
   "cell_type": "markdown",
   "id": "7bf679b2",
   "metadata": {
    "slideshow": {
     "slide_type": "subslide"
    }
   },
   "source": [
    "Oczywiście jest wiele innych rodzajów \"uczenia\" maszynowego:"
   ]
  },
  {
   "cell_type": "markdown",
   "id": "7482160a",
   "metadata": {
    "slideshow": {
     "slide_type": "fragment"
    }
   },
   "source": [
    "* Uczenie przez wzmacnianie (ang. _reinforcement learning_):"
   ]
  },
  {
   "cell_type": "markdown",
   "id": "e8182bd9",
   "metadata": {
    "slideshow": {
     "slide_type": "fragment"
    }
   },
   "source": [
    "System uczący (zwany agentem) obserwuje środowisko i na tej podstawie wykonuje pewne czynności, a take odbiera nagrody lub kary.\n",
    "\n",
    "(źródło: Uczenie maszynowe z użyciem Scikit-Learn i Tensorflow, Aureilen Geron, 2020, Gliwice)"
   ]
  },
  {
   "cell_type": "markdown",
   "id": "bd13490a",
   "metadata": {
    "slideshow": {
     "slide_type": "subslide"
    }
   },
   "source": [
    "![](https://raw.githubusercontent.com/miklesz/Courses/main/Machine%20Learning/ml5_0.png)"
   ]
  },
  {
   "cell_type": "markdown",
   "id": "17d07c1e",
   "metadata": {
    "slideshow": {
     "slide_type": "subslide"
    }
   },
   "source": [
    "![](https://raw.githubusercontent.com/miklesz/Courses/main/Machine%20Learning/ml5_1.png)"
   ]
  },
  {
   "cell_type": "markdown",
   "id": "0777d381",
   "metadata": {
    "slideshow": {
     "slide_type": "subslide"
    }
   },
   "source": [
    "![](https://raw.githubusercontent.com/miklesz/Courses/main/Machine%20Learning/ml5_2.png)"
   ]
  },
  {
   "cell_type": "markdown",
   "id": "b61cad7f",
   "metadata": {
    "slideshow": {
     "slide_type": "subslide"
    }
   },
   "source": [
    "* Uczenie wsadowe:"
   ]
  },
  {
   "cell_type": "markdown",
   "id": "f757c2cc",
   "metadata": {
    "slideshow": {
     "slide_type": "fragment"
    }
   },
   "source": [
    "Do nauki rozpoznawanie (klasyfikacji) wykorzystywane są wszystkie dostępne dane. System nie jest w stanie trenować przyrostowo, do jego nauki poświęca się dużej ilości czasu i zasobów."
   ]
  },
  {
   "cell_type": "markdown",
   "id": "7fac190d",
   "metadata": {
    "slideshow": {
     "slide_type": "subslide"
    }
   },
   "source": [
    "* Uczenie przyrostowe:"
   ]
  },
  {
   "cell_type": "markdown",
   "id": "09fcecec",
   "metadata": {
    "slideshow": {
     "slide_type": "fragment"
    }
   },
   "source": [
    "System jest trenowany na bieżąco przez sekwencyjnie dostarczane dane, które mogą być pojedyncze lub przyjmować postać minipakietów (niewielkich zbiorów)."
   ]
  },
  {
   "cell_type": "markdown",
   "id": "e30ff02c",
   "metadata": {
    "slideshow": {
     "slide_type": "slide"
    }
   },
   "source": [
    "## Precision i recall"
   ]
  },
  {
   "cell_type": "markdown",
   "id": "d98a803e",
   "metadata": {
    "slideshow": {
     "slide_type": "fragment"
    }
   },
   "source": [
    "W **rozpoznawaniu wzorców**, **odzyskiwaniu** i **klasyfikowaniu informacji (uczeniu maszynowym)**, **precision** i **recall** to metryki wydajności, które mają zastosowanie do danych pobieranych z **kolekcji**, **korpusu** lub **przestrzeni próbek**."
   ]
  },
  {
   "cell_type": "markdown",
   "id": "06cebae4",
   "metadata": {
    "slideshow": {
     "slide_type": "fragment"
    }
   },
   "source": [
    "**Precision** (nazywana również **dodatnią wartością predykcyjną**) to ułamek odpowiednich instancji wśród pobranych instancji, natomiast **recall** (znane również jako **czułość**) to ułamek istotnych instancji, które zostały pobrane. Zarówno precyzja, jak i przypomnienie są zatem oparte na **trafności**."
   ]
  },
  {
   "cell_type": "markdown",
   "id": "6393d489",
   "metadata": {
    "slideshow": {
     "slide_type": "subslide"
    }
   },
   "source": [
    "![](https://upload.wikimedia.org/wikipedia/commons/2/26/Precisionrecall.svg)"
   ]
  },
  {
   "cell_type": "markdown",
   "id": "5db8f04e",
   "metadata": {
    "slideshow": {
     "slide_type": "slide"
    }
   },
   "source": [
    "## Drzewo decyzyjne"
   ]
  },
  {
   "cell_type": "markdown",
   "id": "a9417959",
   "metadata": {
    "slideshow": {
     "slide_type": "slide"
    }
   },
   "source": [
    "### Wstęp teoretyczny "
   ]
  },
  {
   "cell_type": "markdown",
   "id": "67903d35",
   "metadata": {
    "slideshow": {
     "slide_type": "fragment"
    }
   },
   "source": [
    "**Drzewo decyzyjne** – graficzna metoda wspomagania **procesu decyzyjnego**, stosowana w **teorii decyzji**. **Algorytm** drzew decyzyjnych jest również stosowany w **uczeniu maszynowym** do pozyskiwania wiedzy na podstawie przykładów."
   ]
  },
  {
   "cell_type": "markdown",
   "id": "3b1bd972",
   "metadata": {
    "slideshow": {
     "slide_type": "subslide"
    }
   },
   "source": [
    "W **teorii decyzji** drzewo decyzyjne jest **drzewem decyzji** i ich możliwych konsekwencji (**stanów natury**). Zadaniem drzew decyzyjnych może być zarówno stworzenie planu, jak i rozwiązanie problemu decyzyjnego."
   ]
  },
  {
   "cell_type": "markdown",
   "id": "eb4a9a55",
   "metadata": {
    "slideshow": {
     "slide_type": "fragment"
    }
   },
   "source": [
    "Metoda drzew decyzyjnych jest szczególnie przydatna w problemach decyzyjnych z licznymi, rozgałęziającymi się wariantami oraz w przypadku podejmowania decyzji w warunkach **ryzyka**."
   ]
  },
  {
   "cell_type": "markdown",
   "id": "84b4beff",
   "metadata": {
    "slideshow": {
     "slide_type": "slide"
    }
   },
   "source": [
    "#### Konstruowanie drzewa decyzyjnego"
   ]
  },
  {
   "cell_type": "markdown",
   "id": "38e63d71",
   "metadata": {
    "slideshow": {
     "slide_type": "fragment"
    }
   },
   "source": [
    "Rozpocznijmy od przykładu, który rozwiążemy przy pomocy drzewa decyzyjnego."
   ]
  },
  {
   "cell_type": "markdown",
   "id": "e4d99297",
   "metadata": {
    "slideshow": {
     "slide_type": "slide"
    }
   },
   "source": [
    "##### Przykładowy problem decyzyjny"
   ]
  },
  {
   "cell_type": "markdown",
   "id": "ae663a29",
   "metadata": {
    "slideshow": {
     "slide_type": "fragment"
    }
   },
   "source": [
    "_Student Leszek obudził się 25 minut przed egzaminem. Profesor był formalistą i nawet minuta spóźnienia wykluczała możliwość pisania egzaminu, Leszkowi groziła więc sesja poprawkowa. Sprawa była jednak znacznie bardziej skomplikowana, gdyż Leszek miał zamiar wyjechać do pracy do Stanów Zjednoczonych, zaś wcześniejszy powrót we wrześniu oznaczałby dla niego utratę 4000 zł zarobków. Jeżeli jednak zdążyłby dotrzeć na czas, to rodzice w nagrodę za dobre oceny kupiliby mu prezent (zazwyczaj wartości 500 zł)._"
   ]
  },
  {
   "cell_type": "markdown",
   "id": "07b14e6d",
   "metadata": {
    "slideshow": {
     "slide_type": "subslide"
    }
   },
   "source": [
    "_Leszek musiał więc starannie przemyśleć, w jaki sposób dotrzeć do szkoły. Autobus nie wchodził w grę, jazda nim zajmowała co najmniej 40 minut. Pozostawała jeszcze inna możliwość – pożyczyć samochód ojca. Samochód ten jednak był w kiepskim stanie i szanse na dojechanie do szkoły wynosiły 90%, zaś w przypadku awarii Leszek musiałby pokryć część kosztów naprawy, gdyż ojciec od dawna winił go za zły stan samochodu (3 tys. zł). Oprócz tego musiał zdecydować, czy opłaca się jechać przez miasto szybko, czy wolno. Przy wolnej jeździe dotarłby na czas z prawdopodobieństwem 60%, natomiast przy szybkiej zdążyłby na pewno (Leszek potrafił naprawdę szybko jeździć). Mógł jednak zostać zatrzymany przez patrol policji, co groziło mandatem w wysokości 500 zł (prawdopodobieństwa trafienia na patrol – 20%)._"
   ]
  },
  {
   "cell_type": "markdown",
   "id": "1004b25c",
   "metadata": {
    "slideshow": {
     "slide_type": "subslide"
    }
   },
   "source": [
    "_Druga możliwość to wynajęcie taksówki, za którą trzeba będzie zapłacić 30 zł. Jednak taksówkę trzeba będzie znaleźć w ciągu kilku minut, co można wykonać z prawdopodobieństwem sukcesu 80% (jeżeli nie będzie taksówki w pobliżu, Leszek już nie zdąży). Aby ponaglić kierowcę, Leszek może wręczyć napiwek w wysokości 20 zł, co zwiększy szanse na dotarcie na czas do 85% (w przeciwnym wypadku tylko 70%)._"
   ]
  },
  {
   "cell_type": "markdown",
   "id": "d1efe7dd",
   "metadata": {
    "slideshow": {
     "slide_type": "fragment"
    }
   },
   "source": [
    "Jaką decyzję powinien podjąć Leszek?"
   ]
  },
  {
   "cell_type": "markdown",
   "id": "c211a5ff",
   "metadata": {
    "slideshow": {
     "slide_type": "slide"
    }
   },
   "source": [
    "##### Budowanie drzewa"
   ]
  },
  {
   "cell_type": "markdown",
   "id": "acc071fd",
   "metadata": {
    "slideshow": {
     "slide_type": "fragment"
    }
   },
   "source": [
    "Drzewo składa się z węzłów (decyzji i stanów natury) i gałęzi (możliwych wariantów). Tradycyjnie decyzje oznaczamy prostokątami, natomiast stany natury kołami."
   ]
  },
  {
   "cell_type": "markdown",
   "id": "f92a1c2c",
   "metadata": {
    "slideshow": {
     "slide_type": "subslide"
    }
   },
   "source": [
    "Konstrukcję drzewa rozpoczynamy od korzenia. Na początku Leszek ma do wyboru: samochód lub taksówkę:"
   ]
  },
  {
   "cell_type": "markdown",
   "id": "60929795",
   "metadata": {
    "slideshow": {
     "slide_type": "fragment"
    }
   },
   "source": [
    "![](https://upload.wikimedia.org/wikipedia/commons/thumb/9/94/Drzewo_decyzyjne_-_etap_1.svg/300px-Drzewo_decyzyjne_-_etap_1.svg.png)"
   ]
  },
  {
   "cell_type": "markdown",
   "id": "7befd77e",
   "metadata": {
    "slideshow": {
     "slide_type": "subslide"
    }
   },
   "source": [
    "Rozpatrzmy węzeł samochód. Mamy do czynienia z dwoma stanami natury: samochód zepsuje się lub dojedzie. Sytuacja, w której samochód zepsuje się, jest jednocześnie węzłem końcowym, gdyż Leszek nie ma już żadnego wyboru:"
   ]
  },
  {
   "cell_type": "markdown",
   "id": "3b306fca",
   "metadata": {
    "slideshow": {
     "slide_type": "fragment"
    }
   },
   "source": [
    "![](https://upload.wikimedia.org/wikipedia/commons/thumb/0/02/Drzewo_decyzyjne_-_etap_2.svg/300px-Drzewo_decyzyjne_-_etap_2.svg.png)"
   ]
  },
  {
   "cell_type": "markdown",
   "id": "8f762f8e",
   "metadata": {
    "slideshow": {
     "slide_type": "subslide"
    }
   },
   "source": [
    "W ten sposób kontynuujemy konstrukcję całego drzewa."
   ]
  },
  {
   "cell_type": "markdown",
   "id": "006d046c",
   "metadata": {
    "slideshow": {
     "slide_type": "fragment"
    }
   },
   "source": [
    "W prawidłowo skonstruowanym drzewie węzły decyzyjne i stanów natury powinny występować na przemian, zaś każda ścieżka powinna być zakończona węzłem końcowym."
   ]
  },
  {
   "cell_type": "markdown",
   "id": "12e27d6e",
   "metadata": {
    "slideshow": {
     "slide_type": "slide"
    }
   },
   "source": [
    "#### Rozwiązywanie problemu decyzyjnego"
   ]
  },
  {
   "cell_type": "markdown",
   "id": "353800bd",
   "metadata": {
    "slideshow": {
     "slide_type": "fragment"
    }
   },
   "source": [
    "Rozwiązywanie problemu przy pomocy drzewa decyzyjnego rozpoczynamy od węzłów końcowych tego drzewa, przypisując im końcowe wypłaty. Przykładowo, dla sekwencji: taksówka → znajdzie → napiwek → zdąży, końcowa wypłata wynosi 4000 zł (zarobek w Stanach) + 500 zł (prezent) − 30 zł (koszt taksówki) − 20 zł (napiwek) = 4450 zł."
   ]
  },
  {
   "cell_type": "markdown",
   "id": "8d854116",
   "metadata": {
    "slideshow": {
     "slide_type": "fragment"
    }
   },
   "source": [
    "Następnym krokiem jest zaznaczenie przy gałęziach wychodzących ze stanów natury odpowiadających im prawdopodobieństw. Na przykład dla węzła nr 6 prawdopodobieństwa wynoszą: policja – 0,2, uda się – 0,8."
   ]
  },
  {
   "cell_type": "markdown",
   "id": "050e460e",
   "metadata": {
    "slideshow": {
     "slide_type": "subslide"
    }
   },
   "source": [
    "Kolejny krok to wyznaczenie dla każdego węzła – stanu natury wartości oczekiwanej. Np. dla węzła nr 6 wartość oczekiwana wyniesie: 0,2 · (−500) zł + 0,8 · 4500 zł = 3500 zł. Przy każdym węźle decyzyjnym zapisujemy największą wartość z wyznaczonych wartości oczekiwanych (odpowiada to najkorzystniejszej decyzji). Teraz podczas cofania się po drzewie do korzenia wypełniamy kolejno wszystkie węzły."
   ]
  },
  {
   "cell_type": "markdown",
   "id": "5f3fd290",
   "metadata": {
    "slideshow": {
     "slide_type": "fragment"
    }
   },
   "source": [
    "Optymalna ścieżka decyzji jest wyznaczona przez największe wartości oczekiwane."
   ]
  },
  {
   "cell_type": "markdown",
   "id": "d87c938e",
   "metadata": {
    "slideshow": {
     "slide_type": "fragment"
    }
   },
   "source": [
    "W podanym przykładzie z obliczeń wynika, że Leszek powinien poszukać taksówki i dać taksówkarzowi napiwek."
   ]
  },
  {
   "cell_type": "markdown",
   "id": "a98226c2",
   "metadata": {
    "slideshow": {
     "slide_type": "slide"
    }
   },
   "source": [
    "### Budowanie modelu klasyfikacji dla zbioru danych \"**_Iris_**\""
   ]
  },
  {
   "cell_type": "markdown",
   "id": "ebbe6559",
   "metadata": {},
   "source": [
    "(na podstawie: Chanin Nantasenamat, <i>Data Professor YouTube channel, http://youtube.com/dataprofessor</i>)"
   ]
  },
  {
   "cell_type": "markdown",
   "id": "36bbe3a1",
   "metadata": {
    "slideshow": {
     "slide_type": "subslide"
    }
   },
   "source": [
    "Będziemy budować model klasyfikacji dla zbioru danych \"**_Iris_**\" (kosaciec, irys) przy użyciu algorytmu drzewa decyzyjnego.\n",
    "\n",
    "![](https://upload.wikimedia.org/wikipedia/commons/thumb/4/4c/Iris_sibirica_060603.jpg/672px-Iris_sibirica_060603.jpg)"
   ]
  },
  {
   "cell_type": "markdown",
   "id": "416fa017",
   "metadata": {
    "slideshow": {
     "slide_type": "slide"
    }
   },
   "source": [
    "#### Importowanie bibliotek"
   ]
  },
  {
   "cell_type": "code",
   "execution_count": null,
   "id": "427f1cc9",
   "metadata": {
    "slideshow": {
     "slide_type": "fragment"
    }
   },
   "outputs": [],
   "source": [
    "from sklearn import datasets\n",
    "from sklearn.model_selection import train_test_split\n",
    "from sklearn.tree import DecisionTreeClassifier\n",
    "from sklearn.datasets import make_classification"
   ]
  },
  {
   "cell_type": "markdown",
   "id": "b7a94773",
   "metadata": {
    "slideshow": {
     "slide_type": "slide"
    }
   },
   "source": [
    "#### Załadowanie zestawu danych \"**_Iris_**\""
   ]
  },
  {
   "cell_type": "code",
   "execution_count": null,
   "id": "2ddfab4b",
   "metadata": {
    "slideshow": {
     "slide_type": "fragment"
    }
   },
   "outputs": [],
   "source": [
    "iris = datasets.load_iris()"
   ]
  },
  {
   "cell_type": "markdown",
   "id": "c4b4da16",
   "metadata": {
    "slideshow": {
     "slide_type": "slide"
    }
   },
   "source": [
    "#### Funkcje wejściowe\n"
   ]
  },
  {
   "cell_type": "markdown",
   "id": "dae1f69e",
   "metadata": {
    "slideshow": {
     "slide_type": "fragment"
    }
   },
   "source": [
    "Zestaw danych \"**_Iris_**\" zawiera 4 cechy wejściowe i 1 zmienną wyjściową (etykieta klasy)."
   ]
  },
  {
   "cell_type": "markdown",
   "id": "502e56c5",
   "metadata": {
    "slideshow": {
     "slide_type": "slide"
    }
   },
   "source": [
    "##### Funkcje wejściowe"
   ]
  },
  {
   "cell_type": "code",
   "execution_count": null,
   "id": "a12a00cd",
   "metadata": {
    "scrolled": true,
    "slideshow": {
     "slide_type": "fragment"
    }
   },
   "outputs": [],
   "source": [
    "print(iris.feature_names)"
   ]
  },
  {
   "cell_type": "markdown",
   "id": "52704834",
   "metadata": {
    "slideshow": {
     "slide_type": "fragment"
    }
   },
   "source": [
    "```python\n",
    "[\n",
    "    'długość kielicha (cm)',\n",
    "    'szerokość kielicha (cm)',\n",
    "    'długość płatka (cm)',\n",
    "    'szerokość płatka (cm)'\n",
    "]\n",
    "```"
   ]
  },
  {
   "cell_type": "markdown",
   "id": "ca56a112",
   "metadata": {
    "slideshow": {
     "slide_type": "slide"
    }
   },
   "source": [
    "##### Funkcje wyjściowe"
   ]
  },
  {
   "cell_type": "code",
   "execution_count": null,
   "id": "960091cc",
   "metadata": {
    "slideshow": {
     "slide_type": "fragment"
    }
   },
   "outputs": [],
   "source": [
    "print(iris.target_names)"
   ]
  },
  {
   "cell_type": "markdown",
   "id": "53e46f22",
   "metadata": {
    "slideshow": {
     "slide_type": "slide"
    }
   },
   "source": [
    "###### _Iris setosa_"
   ]
  },
  {
   "cell_type": "markdown",
   "id": "3fe2afce",
   "metadata": {
    "slideshow": {
     "slide_type": "fragment"
    }
   },
   "source": [
    "![](https://upload.wikimedia.org/wikipedia/commons/thumb/a/a7/Irissetosa1.jpg/800px-Irissetosa1.jpg)"
   ]
  },
  {
   "cell_type": "markdown",
   "id": "e74e9197",
   "metadata": {
    "slideshow": {
     "slide_type": "slide"
    }
   },
   "source": [
    "###### _Iris versicolor_"
   ]
  },
  {
   "cell_type": "markdown",
   "id": "2e31ac49",
   "metadata": {
    "slideshow": {
     "slide_type": "fragment"
    }
   },
   "source": [
    "![](https://upload.wikimedia.org/wikipedia/commons/thumb/2/27/Blue_Flag%2C_Ottawa.jpg/600px-Blue_Flag%2C_Ottawa.jpg)"
   ]
  },
  {
   "cell_type": "markdown",
   "id": "46e78bb9",
   "metadata": {
    "slideshow": {
     "slide_type": "slide"
    }
   },
   "source": [
    "###### _Iris virginica_"
   ]
  },
  {
   "cell_type": "markdown",
   "id": "f65705ef",
   "metadata": {
    "slideshow": {
     "slide_type": "fragment"
    }
   },
   "source": [
    "![](https://upload.wikimedia.org/wikipedia/commons/thumb/f/f8/Iris_virginica_2.jpg/600px-Iris_virginica_2.jpg)"
   ]
  },
  {
   "cell_type": "markdown",
   "id": "feb83ee9",
   "metadata": {
    "slideshow": {
     "slide_type": "slide"
    }
   },
   "source": [
    "#### Spojrzenie na dane"
   ]
  },
  {
   "cell_type": "markdown",
   "id": "a802e6a6",
   "metadata": {
    "slideshow": {
     "slide_type": "slide"
    }
   },
   "source": [
    "##### Funkcje wejściowe"
   ]
  },
  {
   "cell_type": "code",
   "execution_count": null,
   "id": "3d00c73a",
   "metadata": {
    "slideshow": {
     "slide_type": "fragment"
    }
   },
   "outputs": [],
   "source": [
    "iris.data"
   ]
  },
  {
   "cell_type": "markdown",
   "id": "9682de15",
   "metadata": {
    "slideshow": {
     "slide_type": "slide"
    }
   },
   "source": [
    "##### Zmienna wyjściowa (etykieta klasy)"
   ]
  },
  {
   "cell_type": "code",
   "execution_count": null,
   "id": "328a5b1c",
   "metadata": {
    "slideshow": {
     "slide_type": "fragment"
    }
   },
   "outputs": [],
   "source": [
    "iris.target"
   ]
  },
  {
   "cell_type": "markdown",
   "id": "30117efa",
   "metadata": {
    "slideshow": {
     "slide_type": "slide"
    }
   },
   "source": [
    "##### Przypisywanie zmiennych *wejściowych* i *wyjściowych*"
   ]
  },
  {
   "cell_type": "markdown",
   "id": "b06b3eaa",
   "metadata": {
    "slideshow": {
     "slide_type": "fragment"
    }
   },
   "source": [
    "Przypiszmy 4 zmienne wejściowe do `X`, a zmienną wyjściową (etykieta klasy) do `Y`."
   ]
  },
  {
   "cell_type": "code",
   "execution_count": null,
   "id": "eddafd60",
   "metadata": {
    "slideshow": {
     "slide_type": "fragment"
    }
   },
   "outputs": [],
   "source": [
    "X = iris.data\n",
    "Y = iris.target"
   ]
  },
  {
   "cell_type": "markdown",
   "id": "d6ea9b1d",
   "metadata": {
    "slideshow": {
     "slide_type": "slide"
    }
   },
   "source": [
    "##### Przyjrzyjmy się wymiarowi danych"
   ]
  },
  {
   "cell_type": "code",
   "execution_count": null,
   "id": "70e424c3",
   "metadata": {
    "slideshow": {
     "slide_type": "fragment"
    }
   },
   "outputs": [],
   "source": [
    "X.shape"
   ]
  },
  {
   "cell_type": "code",
   "execution_count": null,
   "id": "a4ab4e08",
   "metadata": {
    "slideshow": {
     "slide_type": "fragment"
    }
   },
   "outputs": [],
   "source": [
    "Y.shape"
   ]
  },
  {
   "cell_type": "markdown",
   "id": "75004f6e",
   "metadata": {
    "slideshow": {
     "slide_type": "slide"
    }
   },
   "source": [
    "#### Zbudujmy model klasyfikacji za pomocą drzewa decyzyjnego"
   ]
  },
  {
   "cell_type": "code",
   "execution_count": null,
   "id": "dbe72ebd",
   "metadata": {
    "slideshow": {
     "slide_type": "fragment"
    }
   },
   "outputs": [],
   "source": [
    "clf = DecisionTreeClassifier()"
   ]
  },
  {
   "cell_type": "code",
   "execution_count": null,
   "id": "90acb81f",
   "metadata": {
    "slideshow": {
     "slide_type": "fragment"
    }
   },
   "outputs": [],
   "source": [
    "clf.fit(X, Y)"
   ]
  },
  {
   "cell_type": "markdown",
   "id": "3a8efbeb",
   "metadata": {
    "slideshow": {
     "slide_type": "slide"
    }
   },
   "source": [
    "#### Znaczenie funkcji"
   ]
  },
  {
   "cell_type": "code",
   "execution_count": null,
   "id": "b9ecf09d",
   "metadata": {
    "slideshow": {
     "slide_type": "fragment"
    }
   },
   "outputs": [],
   "source": [
    "print(clf.feature_importances_)"
   ]
  },
  {
   "cell_type": "markdown",
   "id": "7ba54be1",
   "metadata": {
    "slideshow": {
     "slide_type": "slide"
    }
   },
   "source": [
    "#### Dokonujemy prognozy"
   ]
  },
  {
   "cell_type": "code",
   "execution_count": null,
   "id": "564ad21d",
   "metadata": {
    "slideshow": {
     "slide_type": "fragment"
    }
   },
   "outputs": [],
   "source": [
    "X[0]"
   ]
  },
  {
   "cell_type": "code",
   "execution_count": null,
   "id": "351b745a",
   "metadata": {
    "slideshow": {
     "slide_type": "fragment"
    }
   },
   "outputs": [],
   "source": [
    "print(clf.predict([[5.1, 3.5, 1.4, 0.2]]))"
   ]
  },
  {
   "cell_type": "code",
   "execution_count": null,
   "id": "27520b99",
   "metadata": {
    "slideshow": {
     "slide_type": "fragment"
    }
   },
   "outputs": [],
   "source": [
    "print(clf.predict(X[[0]]))"
   ]
  },
  {
   "cell_type": "code",
   "execution_count": null,
   "id": "98bd917b",
   "metadata": {
    "slideshow": {
     "slide_type": "fragment"
    }
   },
   "outputs": [],
   "source": [
    "print(clf.predict_proba(X[[0]]))"
   ]
  },
  {
   "cell_type": "code",
   "execution_count": null,
   "id": "cf7f5b0f",
   "metadata": {
    "slideshow": {
     "slide_type": "fragment"
    }
   },
   "outputs": [],
   "source": [
    "clf.fit(iris.data, iris.target_names[iris.target])"
   ]
  },
  {
   "cell_type": "markdown",
   "id": "ee06224a",
   "metadata": {
    "slideshow": {
     "slide_type": "slide"
    }
   },
   "source": [
    "#### Podział danych (stosunek 80/20)"
   ]
  },
  {
   "cell_type": "code",
   "execution_count": null,
   "id": "e72ee1ee",
   "metadata": {
    "slideshow": {
     "slide_type": "fragment"
    }
   },
   "outputs": [],
   "source": [
    "X_train, X_test, Y_train, Y_test = train_test_split(X, Y, test_size=0.2)"
   ]
  },
  {
   "cell_type": "code",
   "execution_count": null,
   "id": "b07e9fc7",
   "metadata": {
    "slideshow": {
     "slide_type": "fragment"
    }
   },
   "outputs": [],
   "source": [
    "X_train.shape, Y_train.shape"
   ]
  },
  {
   "cell_type": "code",
   "execution_count": null,
   "id": "9f0ccd49",
   "metadata": {
    "slideshow": {
     "slide_type": "fragment"
    }
   },
   "outputs": [],
   "source": [
    "X_test.shape, Y_test.shape"
   ]
  },
  {
   "cell_type": "markdown",
   "id": "b0d9c287",
   "metadata": {
    "slideshow": {
     "slide_type": "slide"
    }
   },
   "source": [
    "#### Przebudujmy model drzewa decyzyjnego"
   ]
  },
  {
   "cell_type": "code",
   "execution_count": null,
   "id": "2f62f85e",
   "metadata": {
    "slideshow": {
     "slide_type": "fragment"
    }
   },
   "outputs": [],
   "source": [
    "clf.fit(X_train, Y_train)"
   ]
  },
  {
   "cell_type": "markdown",
   "id": "5d6e1679",
   "metadata": {
    "slideshow": {
     "slide_type": "slide"
    }
   },
   "source": [
    "##### Wykonajmy prognozę na pojedynczej próbce ze zbioru danych"
   ]
  },
  {
   "cell_type": "code",
   "execution_count": null,
   "id": "76b025e2",
   "metadata": {
    "slideshow": {
     "slide_type": "fragment"
    }
   },
   "outputs": [],
   "source": [
    "print(clf.predict([[5.1, 3.5, 1.4, 0.2]]))"
   ]
  },
  {
   "cell_type": "code",
   "execution_count": null,
   "id": "c053f62b",
   "metadata": {
    "slideshow": {
     "slide_type": "fragment"
    }
   },
   "outputs": [],
   "source": [
    "print(clf.predict_proba([[5.1, 3.5, 1.4, 0.2]]))"
   ]
  },
  {
   "cell_type": "markdown",
   "id": "6a15efde",
   "metadata": {
    "slideshow": {
     "slide_type": "slide"
    }
   },
   "source": [
    "##### Wykonajmy prognozę na zbiorze testowym"
   ]
  },
  {
   "cell_type": "markdown",
   "id": "e2296806",
   "metadata": {
    "slideshow": {
     "slide_type": "fragment"
    }
   },
   "source": [
    "###### *Przewidywane etykiety klas*"
   ]
  },
  {
   "cell_type": "code",
   "execution_count": null,
   "id": "96be9175",
   "metadata": {
    "slideshow": {
     "slide_type": "fragment"
    }
   },
   "outputs": [],
   "source": [
    "print(clf.predict(X_test))"
   ]
  },
  {
   "cell_type": "markdown",
   "id": "2b4d52b3",
   "metadata": {
    "slideshow": {
     "slide_type": "fragment"
    }
   },
   "source": [
    "###### *Rzeczywiste etykiety klas*"
   ]
  },
  {
   "cell_type": "code",
   "execution_count": null,
   "id": "9d40f72e",
   "metadata": {
    "slideshow": {
     "slide_type": "fragment"
    }
   },
   "outputs": [],
   "source": [
    "print(Y_test)"
   ]
  },
  {
   "cell_type": "markdown",
   "id": "30df6862",
   "metadata": {
    "slideshow": {
     "slide_type": "slide"
    }
   },
   "source": [
    "#### Wydajność modelu"
   ]
  },
  {
   "cell_type": "code",
   "execution_count": null,
   "id": "10bd992b",
   "metadata": {
    "slideshow": {
     "slide_type": "fragment"
    }
   },
   "outputs": [],
   "source": [
    "print(clf.score(X_test, Y_test))"
   ]
  },
  {
   "cell_type": "markdown",
   "id": "532fbd25",
   "metadata": {
    "slideshow": {
     "slide_type": "slide"
    }
   },
   "source": [
    "## Las losowy"
   ]
  },
  {
   "cell_type": "markdown",
   "id": "73431d77",
   "metadata": {
    "slideshow": {
     "slide_type": "slide"
    }
   },
   "source": [
    "### Wstęp teoretyczny "
   ]
  },
  {
   "cell_type": "markdown",
   "id": "63fcc55e",
   "metadata": {
    "slideshow": {
     "slide_type": "fragment"
    }
   },
   "source": [
    "**Las losowy**, losowy las decyzyjny – metoda zespołowa uczenia maszynowego dla **klasyfikacji**, **regresji** i innych zadań, która polega na konstruowaniu wielu **drzew decyzyjnych** w czasie uczenia i generowaniu klasy, która jest **dominantą** klas (klasyfikacja) lub przewidywaną średnią (regresja) poszczególnych drzew. Losowe lasy decyzyjne poprawiają tendencję drzew decyzyjnych do **nadmiernego dopasowywania** się do zestawu treningowego."
   ]
  },
  {
   "cell_type": "markdown",
   "id": "5f413c0d",
   "metadata": {
    "slideshow": {
     "slide_type": "subslide"
    }
   },
   "source": [
    "Schemat losowego lasu decyzyjnego:\n",
    "\n",
    "![Schemat losowego lasu decyzyjnego](https://upload.wikimedia.org/wikipedia/commons/7/76/Random_forest_diagram_complete.png)"
   ]
  },
  {
   "cell_type": "markdown",
   "id": "1df199e9",
   "metadata": {
    "slideshow": {
     "slide_type": "slide"
    }
   },
   "source": [
    "### Budowanie modelu klasyfikacji dla zbioru danych \"**_Iris_**\""
   ]
  },
  {
   "cell_type": "markdown",
   "id": "6be4a1b2",
   "metadata": {},
   "source": [
    "(na podstawie: Chanin Nantasenamat, <i>Data Professor YouTube channel, http://youtube.com/dataprofessor</i>)"
   ]
  },
  {
   "cell_type": "markdown",
   "id": "eddc1c00",
   "metadata": {
    "slideshow": {
     "slide_type": "fragment"
    }
   },
   "source": [
    "Będziemy budować model klasyfikacji dla zbioru danych \"**_Iris_**\" przy użyciu algorytmu losowego lasu."
   ]
  },
  {
   "cell_type": "markdown",
   "id": "5d8725fc",
   "metadata": {
    "slideshow": {
     "slide_type": "slide"
    }
   },
   "source": [
    "#### Importowanie bibliotek"
   ]
  },
  {
   "cell_type": "code",
   "execution_count": null,
   "id": "ba398e2c",
   "metadata": {
    "slideshow": {
     "slide_type": "fragment"
    }
   },
   "outputs": [],
   "source": [
    "from sklearn import datasets\n",
    "from sklearn.model_selection import train_test_split\n",
    "from sklearn.ensemble import RandomForestClassifier\n",
    "from sklearn.datasets import make_classification"
   ]
  },
  {
   "cell_type": "markdown",
   "id": "11795d7a",
   "metadata": {
    "slideshow": {
     "slide_type": "slide"
    }
   },
   "source": [
    "#### Załadowanie zestawu danych \"**_Iris_**\""
   ]
  },
  {
   "cell_type": "code",
   "execution_count": null,
   "id": "a49869fd",
   "metadata": {
    "slideshow": {
     "slide_type": "fragment"
    }
   },
   "outputs": [],
   "source": [
    "iris = datasets.load_iris()"
   ]
  },
  {
   "cell_type": "markdown",
   "id": "dea3eb5f",
   "metadata": {
    "slideshow": {
     "slide_type": "slide"
    }
   },
   "source": [
    "##### Przypisywanie zmiennych *wejściowych* i *wyjściowych*"
   ]
  },
  {
   "cell_type": "markdown",
   "id": "a78736c5",
   "metadata": {
    "slideshow": {
     "slide_type": "fragment"
    }
   },
   "source": [
    "Przypiszmy 4 zmienne wejściowe do `X`, a zmienną wyjściową (etykieta klasy) do `Y`."
   ]
  },
  {
   "cell_type": "code",
   "execution_count": null,
   "id": "3e2982bd",
   "metadata": {
    "slideshow": {
     "slide_type": "fragment"
    }
   },
   "outputs": [],
   "source": [
    "X = iris.data\n",
    "Y = iris.target"
   ]
  },
  {
   "cell_type": "markdown",
   "id": "d040bebb",
   "metadata": {
    "slideshow": {
     "slide_type": "slide"
    }
   },
   "source": [
    "#### Zbudujmy model klasyfikacji za pomocą losowego lasu"
   ]
  },
  {
   "cell_type": "code",
   "execution_count": null,
   "id": "d8302a41",
   "metadata": {
    "slideshow": {
     "slide_type": "fragment"
    }
   },
   "outputs": [],
   "source": [
    "clf = RandomForestClassifier()"
   ]
  },
  {
   "cell_type": "code",
   "execution_count": null,
   "id": "e40d9d55",
   "metadata": {
    "slideshow": {
     "slide_type": "fragment"
    }
   },
   "outputs": [],
   "source": [
    "clf.fit(X, Y)"
   ]
  },
  {
   "cell_type": "markdown",
   "id": "5e3c31dd",
   "metadata": {
    "slideshow": {
     "slide_type": "slide"
    }
   },
   "source": [
    "#### Znaczenie funkcji"
   ]
  },
  {
   "cell_type": "code",
   "execution_count": null,
   "id": "721456a0",
   "metadata": {
    "slideshow": {
     "slide_type": "fragment"
    }
   },
   "outputs": [],
   "source": [
    "print(clf.feature_importances_)"
   ]
  },
  {
   "cell_type": "markdown",
   "id": "109a2b66",
   "metadata": {
    "slideshow": {
     "slide_type": "slide"
    }
   },
   "source": [
    "#### Dokonujemy prognozy"
   ]
  },
  {
   "cell_type": "code",
   "execution_count": null,
   "id": "593b3447",
   "metadata": {
    "slideshow": {
     "slide_type": "fragment"
    }
   },
   "outputs": [],
   "source": [
    "X[0]"
   ]
  },
  {
   "cell_type": "code",
   "execution_count": null,
   "id": "58e9de8a",
   "metadata": {
    "slideshow": {
     "slide_type": "fragment"
    }
   },
   "outputs": [],
   "source": [
    "print(clf.predict([[5.1, 3.5, 1.4, 0.2]]))"
   ]
  },
  {
   "cell_type": "code",
   "execution_count": null,
   "id": "5114b682",
   "metadata": {
    "slideshow": {
     "slide_type": "fragment"
    }
   },
   "outputs": [],
   "source": [
    "print(clf.predict(X[[0]]))"
   ]
  },
  {
   "cell_type": "code",
   "execution_count": null,
   "id": "47a9f43a",
   "metadata": {
    "slideshow": {
     "slide_type": "fragment"
    }
   },
   "outputs": [],
   "source": [
    "print(clf.predict_proba(X[[0]]))"
   ]
  },
  {
   "cell_type": "code",
   "execution_count": null,
   "id": "04877fbd",
   "metadata": {
    "slideshow": {
     "slide_type": "fragment"
    }
   },
   "outputs": [],
   "source": [
    "clf.fit(iris.data, iris.target_names[iris.target])"
   ]
  },
  {
   "cell_type": "markdown",
   "id": "6c338d5d",
   "metadata": {
    "slideshow": {
     "slide_type": "slide"
    }
   },
   "source": [
    "#### Podział danych (stosunek 80/20)"
   ]
  },
  {
   "cell_type": "code",
   "execution_count": null,
   "id": "76868ae6",
   "metadata": {
    "slideshow": {
     "slide_type": "fragment"
    }
   },
   "outputs": [],
   "source": [
    "X_train, X_test, Y_train, Y_test = train_test_split(X, Y, test_size=0.2)"
   ]
  },
  {
   "cell_type": "code",
   "execution_count": null,
   "id": "87c23320",
   "metadata": {
    "slideshow": {
     "slide_type": "fragment"
    }
   },
   "outputs": [],
   "source": [
    "X_train.shape, Y_train.shape"
   ]
  },
  {
   "cell_type": "code",
   "execution_count": null,
   "id": "5fb553f8",
   "metadata": {
    "slideshow": {
     "slide_type": "fragment"
    }
   },
   "outputs": [],
   "source": [
    "X_test.shape, Y_test.shape"
   ]
  },
  {
   "cell_type": "markdown",
   "id": "0be1f765",
   "metadata": {
    "slideshow": {
     "slide_type": "slide"
    }
   },
   "source": [
    "#### Przebudujmy model losowego lasu"
   ]
  },
  {
   "cell_type": "code",
   "execution_count": null,
   "id": "a16d7a06",
   "metadata": {
    "slideshow": {
     "slide_type": "fragment"
    }
   },
   "outputs": [],
   "source": [
    "clf.fit(X_train, Y_train)"
   ]
  },
  {
   "cell_type": "markdown",
   "id": "9966974c",
   "metadata": {
    "slideshow": {
     "slide_type": "slide"
    }
   },
   "source": [
    "##### Wykonajmy prognozę na pojedynczej próbce ze zbioru danych"
   ]
  },
  {
   "cell_type": "code",
   "execution_count": null,
   "id": "7bb012e6",
   "metadata": {
    "slideshow": {
     "slide_type": "fragment"
    }
   },
   "outputs": [],
   "source": [
    "print(clf.predict([[5.1, 3.5, 1.4, 0.2]]))"
   ]
  },
  {
   "cell_type": "code",
   "execution_count": null,
   "id": "208287ee",
   "metadata": {
    "slideshow": {
     "slide_type": "fragment"
    }
   },
   "outputs": [],
   "source": [
    "print(clf.predict_proba([[5.1, 3.5, 1.4, 0.2]]))"
   ]
  },
  {
   "cell_type": "markdown",
   "id": "b4140dca",
   "metadata": {
    "slideshow": {
     "slide_type": "slide"
    }
   },
   "source": [
    "##### Wykonajmy prognozę na zbiorze testowym"
   ]
  },
  {
   "cell_type": "markdown",
   "id": "168e3b81",
   "metadata": {
    "slideshow": {
     "slide_type": "fragment"
    }
   },
   "source": [
    "###### *Przewidywane etykiety klas*"
   ]
  },
  {
   "cell_type": "code",
   "execution_count": null,
   "id": "420ce953",
   "metadata": {
    "slideshow": {
     "slide_type": "fragment"
    }
   },
   "outputs": [],
   "source": [
    "print(clf.predict(X_test))"
   ]
  },
  {
   "cell_type": "markdown",
   "id": "c77cb616",
   "metadata": {
    "slideshow": {
     "slide_type": "fragment"
    }
   },
   "source": [
    "###### *Rzeczywiste etykiety klas*"
   ]
  },
  {
   "cell_type": "code",
   "execution_count": null,
   "id": "cb87e113",
   "metadata": {
    "slideshow": {
     "slide_type": "fragment"
    }
   },
   "outputs": [],
   "source": [
    "print(Y_test)"
   ]
  },
  {
   "cell_type": "markdown",
   "id": "7cb8d440",
   "metadata": {
    "slideshow": {
     "slide_type": "slide"
    }
   },
   "source": [
    "#### Wydajność modelu"
   ]
  },
  {
   "cell_type": "code",
   "execution_count": null,
   "id": "cac68c92",
   "metadata": {
    "slideshow": {
     "slide_type": "fragment"
    }
   },
   "outputs": [],
   "source": [
    "print(clf.score(X_test, Y_test))"
   ]
  },
  {
   "cell_type": "markdown",
   "id": "5eb30abc",
   "metadata": {
    "slideshow": {
     "slide_type": "slide"
    }
   },
   "source": [
    "## Rozpoznawanie treści generowanych przez użytkowników (ang. _User-Generated Content_, UGC)"
   ]
  },
  {
   "cell_type": "markdown",
   "id": "3f35d36f",
   "metadata": {
    "slideshow": {
     "slide_type": "subslide"
    }
   },
   "source": [
    "Będziemy budować model klasyfikacji dla zbioru danych \"**_Iris_**\" (kosaciec, irys) przy użyciu algorytmu drzewa decyzyjnego.\n",
    "\n",
    "![](https://upload.wikimedia.org/wikipedia/commons/thumb/4/4c/Iris_sibirica_060603.jpg/672px-Iris_sibirica_060603.jpg)"
   ]
  },
  {
   "cell_type": "markdown",
   "id": "a4680d42",
   "metadata": {
    "slideshow": {
     "slide_type": "slide"
    }
   },
   "source": [
    "#### Importowanie bibliotek"
   ]
  },
  {
   "cell_type": "code",
   "execution_count": null,
   "id": "26c46981",
   "metadata": {
    "slideshow": {
     "slide_type": "fragment"
    }
   },
   "outputs": [],
   "source": [
    "from sklearn import datasets\n",
    "from sklearn.model_selection import train_test_split\n",
    "from sklearn.tree import DecisionTreeClassifier\n",
    "from sklearn.datasets import make_classification"
   ]
  },
  {
   "cell_type": "markdown",
   "id": "f59906e4",
   "metadata": {
    "slideshow": {
     "slide_type": "slide"
    }
   },
   "source": [
    "#### Załadowanie zestawu danych \"**_Iris_**\""
   ]
  },
  {
   "cell_type": "code",
   "execution_count": null,
   "id": "12be3acc",
   "metadata": {
    "slideshow": {
     "slide_type": "fragment"
    }
   },
   "outputs": [],
   "source": [
    "iris = datasets.load_iris()"
   ]
  },
  {
   "cell_type": "markdown",
   "id": "d72dc973",
   "metadata": {
    "slideshow": {
     "slide_type": "slide"
    }
   },
   "source": [
    "#### Funkcje wejściowe\n"
   ]
  },
  {
   "cell_type": "markdown",
   "id": "a2ee1f65",
   "metadata": {
    "slideshow": {
     "slide_type": "fragment"
    }
   },
   "source": [
    "Zestaw danych \"**_Iris_**\" zawiera 4 cechy wejściowe i 1 zmienną wyjściową (etykieta klasy)."
   ]
  },
  {
   "cell_type": "markdown",
   "id": "87249a4d",
   "metadata": {
    "slideshow": {
     "slide_type": "slide"
    }
   },
   "source": [
    "##### Funkcje wejściowe"
   ]
  },
  {
   "cell_type": "code",
   "execution_count": null,
   "id": "65d55e9c",
   "metadata": {
    "scrolled": true,
    "slideshow": {
     "slide_type": "fragment"
    }
   },
   "outputs": [],
   "source": [
    "print(iris.feature_names)"
   ]
  },
  {
   "cell_type": "markdown",
   "id": "b5be668f",
   "metadata": {
    "slideshow": {
     "slide_type": "fragment"
    }
   },
   "source": [
    "```python\n",
    "[\n",
    "    'długość kielicha (cm)',\n",
    "    'szerokość kielicha (cm)',\n",
    "    'długość płatka (cm)',\n",
    "    'szerokość płatka (cm)'\n",
    "]\n",
    "```"
   ]
  },
  {
   "cell_type": "markdown",
   "id": "556cd184",
   "metadata": {
    "slideshow": {
     "slide_type": "slide"
    }
   },
   "source": [
    "##### Funkcje wyjściowe"
   ]
  },
  {
   "cell_type": "code",
   "execution_count": null,
   "id": "bc1b0f79",
   "metadata": {
    "slideshow": {
     "slide_type": "fragment"
    }
   },
   "outputs": [],
   "source": [
    "print(iris.target_names)"
   ]
  },
  {
   "cell_type": "markdown",
   "id": "af5b7cf7",
   "metadata": {
    "slideshow": {
     "slide_type": "slide"
    }
   },
   "source": [
    "###### _Iris setosa_"
   ]
  },
  {
   "cell_type": "markdown",
   "id": "03e467bf",
   "metadata": {
    "slideshow": {
     "slide_type": "fragment"
    }
   },
   "source": [
    "![](https://upload.wikimedia.org/wikipedia/commons/thumb/a/a7/Irissetosa1.jpg/800px-Irissetosa1.jpg)"
   ]
  },
  {
   "cell_type": "markdown",
   "id": "c13931c2",
   "metadata": {
    "slideshow": {
     "slide_type": "slide"
    }
   },
   "source": [
    "###### _Iris versicolor_"
   ]
  },
  {
   "cell_type": "markdown",
   "id": "0b206163",
   "metadata": {
    "slideshow": {
     "slide_type": "fragment"
    }
   },
   "source": [
    "![](https://upload.wikimedia.org/wikipedia/commons/thumb/2/27/Blue_Flag%2C_Ottawa.jpg/600px-Blue_Flag%2C_Ottawa.jpg)"
   ]
  },
  {
   "cell_type": "markdown",
   "id": "fe04ee11",
   "metadata": {
    "slideshow": {
     "slide_type": "slide"
    }
   },
   "source": [
    "###### _Iris virginica_"
   ]
  },
  {
   "cell_type": "markdown",
   "id": "4481d397",
   "metadata": {
    "slideshow": {
     "slide_type": "fragment"
    }
   },
   "source": [
    "![](https://upload.wikimedia.org/wikipedia/commons/thumb/f/f8/Iris_virginica_2.jpg/600px-Iris_virginica_2.jpg)"
   ]
  },
  {
   "cell_type": "markdown",
   "id": "1af3f5ff",
   "metadata": {
    "slideshow": {
     "slide_type": "slide"
    }
   },
   "source": [
    "#### Spojrzenie na dane"
   ]
  },
  {
   "cell_type": "markdown",
   "id": "9bc7cdb3",
   "metadata": {
    "slideshow": {
     "slide_type": "slide"
    }
   },
   "source": [
    "##### Funkcje wejściowe"
   ]
  },
  {
   "cell_type": "code",
   "execution_count": null,
   "id": "87200d1d",
   "metadata": {
    "slideshow": {
     "slide_type": "fragment"
    }
   },
   "outputs": [],
   "source": [
    "iris.data"
   ]
  },
  {
   "cell_type": "markdown",
   "id": "a8395c08",
   "metadata": {
    "slideshow": {
     "slide_type": "slide"
    }
   },
   "source": [
    "##### Zmienna wyjściowa (etykieta klasy)"
   ]
  },
  {
   "cell_type": "code",
   "execution_count": null,
   "id": "b60f39bd",
   "metadata": {
    "slideshow": {
     "slide_type": "fragment"
    }
   },
   "outputs": [],
   "source": [
    "iris.target"
   ]
  },
  {
   "cell_type": "markdown",
   "id": "3f07c3d7",
   "metadata": {
    "slideshow": {
     "slide_type": "slide"
    }
   },
   "source": [
    "##### Przypisywanie zmiennych *wejściowych* i *wyjściowych*"
   ]
  },
  {
   "cell_type": "markdown",
   "id": "8072e930",
   "metadata": {
    "slideshow": {
     "slide_type": "fragment"
    }
   },
   "source": [
    "Przypiszmy 4 zmienne wejściowe do `X`, a zmienną wyjściową (etykieta klasy) do `Y`."
   ]
  },
  {
   "cell_type": "code",
   "execution_count": null,
   "id": "83327fe5",
   "metadata": {
    "slideshow": {
     "slide_type": "fragment"
    }
   },
   "outputs": [],
   "source": [
    "X = iris.data\n",
    "Y = iris.target"
   ]
  },
  {
   "cell_type": "markdown",
   "id": "d4db9fdd",
   "metadata": {
    "slideshow": {
     "slide_type": "slide"
    }
   },
   "source": [
    "##### Przyjrzyjmy się wymiarowi danych"
   ]
  },
  {
   "cell_type": "code",
   "execution_count": null,
   "id": "3f3cebbc",
   "metadata": {
    "slideshow": {
     "slide_type": "fragment"
    }
   },
   "outputs": [],
   "source": [
    "X.shape"
   ]
  },
  {
   "cell_type": "code",
   "execution_count": null,
   "id": "dcaafaf0",
   "metadata": {
    "slideshow": {
     "slide_type": "fragment"
    }
   },
   "outputs": [],
   "source": [
    "Y.shape"
   ]
  },
  {
   "cell_type": "markdown",
   "id": "720e5a06",
   "metadata": {
    "slideshow": {
     "slide_type": "slide"
    }
   },
   "source": [
    "#### Zbudujmy model klasyfikacji za pomocą drzewa decyzyjnego"
   ]
  },
  {
   "cell_type": "code",
   "execution_count": null,
   "id": "1b7293b0",
   "metadata": {
    "slideshow": {
     "slide_type": "fragment"
    }
   },
   "outputs": [],
   "source": [
    "clf = DecisionTreeClassifier()"
   ]
  },
  {
   "cell_type": "code",
   "execution_count": null,
   "id": "8c7f1237",
   "metadata": {
    "slideshow": {
     "slide_type": "fragment"
    }
   },
   "outputs": [],
   "source": [
    "clf.fit(X, Y)"
   ]
  },
  {
   "cell_type": "markdown",
   "id": "45c07d5b",
   "metadata": {
    "slideshow": {
     "slide_type": "slide"
    }
   },
   "source": [
    "#### Znaczenie funkcji"
   ]
  },
  {
   "cell_type": "code",
   "execution_count": null,
   "id": "551bf986",
   "metadata": {
    "slideshow": {
     "slide_type": "fragment"
    }
   },
   "outputs": [],
   "source": [
    "print(clf.feature_importances_)"
   ]
  },
  {
   "cell_type": "markdown",
   "id": "467e8b15",
   "metadata": {
    "slideshow": {
     "slide_type": "slide"
    }
   },
   "source": [
    "#### Dokonujemy prognozy"
   ]
  },
  {
   "cell_type": "code",
   "execution_count": null,
   "id": "b3fa5f14",
   "metadata": {
    "slideshow": {
     "slide_type": "fragment"
    }
   },
   "outputs": [],
   "source": [
    "X[0]"
   ]
  },
  {
   "cell_type": "code",
   "execution_count": null,
   "id": "28cf6427",
   "metadata": {
    "slideshow": {
     "slide_type": "fragment"
    }
   },
   "outputs": [],
   "source": [
    "print(clf.predict([[5.1, 3.5, 1.4, 0.2]]))"
   ]
  },
  {
   "cell_type": "code",
   "execution_count": null,
   "id": "bd6af6dc",
   "metadata": {
    "slideshow": {
     "slide_type": "fragment"
    }
   },
   "outputs": [],
   "source": [
    "print(clf.predict(X[[0]]))"
   ]
  },
  {
   "cell_type": "code",
   "execution_count": null,
   "id": "94b71abf",
   "metadata": {
    "slideshow": {
     "slide_type": "fragment"
    }
   },
   "outputs": [],
   "source": [
    "print(clf.predict_proba(X[[0]]))"
   ]
  },
  {
   "cell_type": "code",
   "execution_count": null,
   "id": "9bb0536b",
   "metadata": {
    "slideshow": {
     "slide_type": "fragment"
    }
   },
   "outputs": [],
   "source": [
    "clf.fit(iris.data, iris.target_names[iris.target])"
   ]
  },
  {
   "cell_type": "markdown",
   "id": "146fe27b",
   "metadata": {
    "slideshow": {
     "slide_type": "slide"
    }
   },
   "source": [
    "#### Podział danych (stosunek 80/20)"
   ]
  },
  {
   "cell_type": "code",
   "execution_count": null,
   "id": "a9694c5f",
   "metadata": {
    "slideshow": {
     "slide_type": "fragment"
    }
   },
   "outputs": [],
   "source": [
    "X_train, X_test, Y_train, Y_test = train_test_split(X, Y, test_size=0.2)"
   ]
  },
  {
   "cell_type": "code",
   "execution_count": null,
   "id": "082a59e8",
   "metadata": {
    "slideshow": {
     "slide_type": "fragment"
    }
   },
   "outputs": [],
   "source": [
    "X_train.shape, Y_train.shape"
   ]
  },
  {
   "cell_type": "code",
   "execution_count": null,
   "id": "3e631ac8",
   "metadata": {
    "slideshow": {
     "slide_type": "fragment"
    }
   },
   "outputs": [],
   "source": [
    "X_test.shape, Y_test.shape"
   ]
  },
  {
   "cell_type": "markdown",
   "id": "93cc9376",
   "metadata": {
    "slideshow": {
     "slide_type": "slide"
    }
   },
   "source": [
    "#### Przebudujmy model drzewa decyzyjnego"
   ]
  },
  {
   "cell_type": "code",
   "execution_count": null,
   "id": "eb1cb002",
   "metadata": {
    "slideshow": {
     "slide_type": "fragment"
    }
   },
   "outputs": [],
   "source": [
    "clf.fit(X_train, Y_train)"
   ]
  },
  {
   "cell_type": "markdown",
   "id": "dc0487e8",
   "metadata": {
    "slideshow": {
     "slide_type": "slide"
    }
   },
   "source": [
    "##### Wykonajmy prognozę na pojedynczej próbce ze zbioru danych"
   ]
  },
  {
   "cell_type": "code",
   "execution_count": null,
   "id": "05c15819",
   "metadata": {
    "slideshow": {
     "slide_type": "fragment"
    }
   },
   "outputs": [],
   "source": [
    "print(clf.predict([[5.1, 3.5, 1.4, 0.2]]))"
   ]
  },
  {
   "cell_type": "code",
   "execution_count": null,
   "id": "9477618a",
   "metadata": {
    "slideshow": {
     "slide_type": "fragment"
    }
   },
   "outputs": [],
   "source": [
    "print(clf.predict_proba([[5.1, 3.5, 1.4, 0.2]]))"
   ]
  },
  {
   "cell_type": "markdown",
   "id": "dd7ae488",
   "metadata": {
    "slideshow": {
     "slide_type": "slide"
    }
   },
   "source": [
    "##### Wykonajmy prognozę na zbiorze testowym"
   ]
  },
  {
   "cell_type": "markdown",
   "id": "1d650801",
   "metadata": {
    "slideshow": {
     "slide_type": "fragment"
    }
   },
   "source": [
    "###### *Przewidywane etykiety klas*"
   ]
  },
  {
   "cell_type": "code",
   "execution_count": null,
   "id": "fc6cc358",
   "metadata": {
    "slideshow": {
     "slide_type": "fragment"
    }
   },
   "outputs": [],
   "source": [
    "print(clf.predict(X_test))"
   ]
  },
  {
   "cell_type": "markdown",
   "id": "b3dfe864",
   "metadata": {
    "slideshow": {
     "slide_type": "fragment"
    }
   },
   "source": [
    "###### *Rzeczywiste etykiety klas*"
   ]
  },
  {
   "cell_type": "code",
   "execution_count": null,
   "id": "62088ba2",
   "metadata": {
    "slideshow": {
     "slide_type": "fragment"
    }
   },
   "outputs": [],
   "source": [
    "print(Y_test)"
   ]
  },
  {
   "cell_type": "markdown",
   "id": "e2f3b51b",
   "metadata": {
    "slideshow": {
     "slide_type": "slide"
    }
   },
   "source": [
    "#### Wydajność modelu"
   ]
  },
  {
   "cell_type": "code",
   "execution_count": null,
   "id": "df8f846c",
   "metadata": {
    "slideshow": {
     "slide_type": "fragment"
    }
   },
   "outputs": [],
   "source": [
    "print(clf.score(X_test, Y_test))"
   ]
  },
  {
   "cell_type": "code",
   "execution_count": null,
   "id": "6a2fd3d7",
   "metadata": {
    "slideshow": {
     "slide_type": "skip"
    }
   },
   "outputs": [],
   "source": []
  }
 ],
 "metadata": {
  "celltoolbar": "Slideshow",
  "kernelspec": {
   "display_name": "Python 3 (ipykernel)",
   "language": "python",
   "name": "python3"
  },
  "language_info": {
   "codemirror_mode": {
    "name": "ipython",
    "version": 3
   },
   "file_extension": ".py",
   "mimetype": "text/x-python",
   "name": "python",
   "nbconvert_exporter": "python",
   "pygments_lexer": "ipython3",
   "version": "3.10.2"
  }
 },
 "nbformat": 4,
 "nbformat_minor": 5
}
