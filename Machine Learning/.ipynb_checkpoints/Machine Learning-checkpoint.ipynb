{
 "cells": [
  {
   "cell_type": "markdown",
   "id": "0db498d3",
   "metadata": {
    "slideshow": {
     "slide_type": "slide"
    }
   },
   "source": [
    "# Machine Learning\n",
    "\n",
    "_Leszek Frąś, Mikołaj Leszczuk_\n",
    "\n",
    "![](https://carlolepelaars.nl/wp-content/uploads/2018/10/frabz-Machine-Learning-What-society-thinks-I-do-What-my-friends-thinks-f0e58e-700x510.jpg)"
   ]
  },
  {
   "cell_type": "markdown",
   "id": "7b5c9859",
   "metadata": {
    "slideshow": {
     "slide_type": "slide"
    }
   },
   "source": [
    "## Konspekt"
   ]
  },
  {
   "cell_type": "markdown",
   "id": "ca375db3",
   "metadata": {
    "slideshow": {
     "slide_type": "fragment"
    }
   },
   "source": [
    "* Czym jest uczenie maszynowe?\n",
    "* Dlaczego warto korzystać z uczenia maszynowego?\n",
    "* Rodzaje systemów uczenia maszynowego\n",
    "* Jak rozróżnić?\n",
    "* Precision i recall"
   ]
  },
  {
   "cell_type": "markdown",
   "id": "31b3b954",
   "metadata": {
    "slideshow": {
     "slide_type": "slide"
    }
   },
   "source": [
    "## Czym jest uczenie maszynowe?"
   ]
  },
  {
   "cell_type": "markdown",
   "id": "14a7d456",
   "metadata": {
    "slideshow": {
     "slide_type": "fragment"
    }
   },
   "source": [
    "\"Uczenie maszynowe to dziedzina nauki dająca komputerom możliwość uczenia się bez konieczności ich jawnego programowania...\" Arthur Samuel, 1959.\n",
    "\n",
    "A bardziej technicznie:\n",
    "\n",
    "\"Mówimy ze program komputerowy uczy się na podstawie doświadczenia $E$ w odniesieniu do jakiegoś zadania $T$ i pewnej miary wydajności $P$, jeśli jego wydajność (mierzona przez $P$) wobec zadania $T$ wzrasta z nabywaniem doświadczenia $E$...\", Tom Mitchell, 1997."
   ]
  },
  {
   "cell_type": "markdown",
   "id": "826e1fa7",
   "metadata": {
    "slideshow": {
     "slide_type": "slide"
    }
   },
   "source": [
    "## Dlaczego warto korzystać z uczenia maszynowego?"
   ]
  },
  {
   "cell_type": "markdown",
   "id": "ae67c741",
   "metadata": {
    "slideshow": {
     "slide_type": "fragment"
    }
   },
   "source": [
    "![](https://raw.githubusercontent.com/miklesz/Courses/main/Machine%20Learning/ml1.png)"
   ]
  },
  {
   "cell_type": "markdown",
   "id": "61873802",
   "metadata": {
    "slideshow": {
     "slide_type": "subslide"
    }
   },
   "source": [
    "Zadanie: napisać filtr spamu, przy pomocy tradydycyjnych technik programistycznych\n",
    "1. Zastanowienie jak wygląda klsyczny spam - powtarzające się wyrażenia: okazja, darmowe, bonus, promocja, gratis, bez limitów. Występowanie: temat wiadomości\n",
    "2. Napisanie algorytmu wykrywającego każdy z zaobserwowanych szablonów. Program oznaczałby wiadomość jako spam, jeśli wykryłby jeden z kilku określonych wzorców.\n",
    "3. Testowanie programu, ciągłe powtarzanie kroków 1. i 2."
   ]
  },
  {
   "cell_type": "markdown",
   "id": "c24932bc",
   "metadata": {
    "slideshow": {
     "slide_type": "subslide"
    }
   },
   "source": [
    "=> a co jeśli spamerzy zauważyli by blokowanie algorytmu wykrywającego nieporządane mejle?\n",
    "\n",
    "Próby omijania filtrów: wkomponowywanie białych znaków, znaków specjalnych\n",
    "\n",
    "=> należy non stop uwzględniać nowe zmiany poprzez dopisywanie nowych reguł...\n",
    "\n",
    "Najlepsze rozwiązanie?\n",
    "\n",
    "Stworzenie samouczącego się algorytmu, na podstawie przykładów i kombinacji z nim związanych."
   ]
  },
  {
   "cell_type": "markdown",
   "id": "0feb94ad",
   "metadata": {
    "slideshow": {
     "slide_type": "subslide"
    }
   },
   "source": [
    "![](https://raw.githubusercontent.com/miklesz/Courses/main/Machine%20Learning/ml2.png)"
   ]
  },
  {
   "cell_type": "markdown",
   "id": "326d3216",
   "metadata": {
    "slideshow": {
     "slide_type": "subslide"
    }
   },
   "source": [
    "Wykorzystanie technik uczenia maszynowego do analizowania olbrzymich ilości danych może pomóc w wykrywaniem nieoczywistych wzorców. Proces nazywa się wydobywaniem danych (data mining).\n",
    "\n",
    "Uczenie maszynowe nadaje się do:\n",
    "1. Problemów, które wymagają częstego dostrajania algorytmu lub korzystania z długich list reguł\n",
    "2. Złożonych problemów, trudnych do rozwiązania tradycyjnymi metodami.\n",
    "3. Zmiennych środowisk wpływających na problematykę.\n",
    "4. Pomagania człowiekowu w analizowaniu skomplikowanych zagadnień i olbrzymich ilości danych."
   ]
  },
  {
   "cell_type": "markdown",
   "id": "ceb18a5d",
   "metadata": {
    "slideshow": {
     "slide_type": "slide"
    }
   },
   "source": [
    "## Rodzaje systemów uczenia maszynowego"
   ]
  },
  {
   "cell_type": "markdown",
   "id": "0f4e06e5",
   "metadata": {
    "slideshow": {
     "slide_type": "slide"
    }
   },
   "source": [
    "### Uczenie nadzorowane"
   ]
  },
  {
   "cell_type": "markdown",
   "id": "6dcad2c7",
   "metadata": {
    "slideshow": {
     "slide_type": "fragment"
    }
   },
   "source": [
    "=> dane są oznakowane, jest zbiór uczący oraz zbiór weryfikacyjny"
   ]
  },
  {
   "cell_type": "markdown",
   "id": "89c1e874",
   "metadata": {
    "slideshow": {
     "slide_type": "fragment"
    }
   },
   "source": [
    "* metoda k-najbliższych sąsiadów\n",
    "* regresja liniowa\n",
    "* regresja logistyczna\n",
    "* maszyna wektorów nośnych\n",
    "* drzewa decyzyjne i losowe lasy\n",
    "* sieci neuronowe"
   ]
  },
  {
   "cell_type": "markdown",
   "id": "ba904343",
   "metadata": {
    "slideshow": {
     "slide_type": "slide"
    }
   },
   "source": [
    "### Uczenie nienadzorowane"
   ]
  },
  {
   "cell_type": "markdown",
   "id": "63b528f5",
   "metadata": {
    "slideshow": {
     "slide_type": "fragment"
    }
   },
   "source": [
    "=> dane uczące są nieoznakowane; program uczy się bez nauczyciela"
   ]
  },
  {
   "cell_type": "markdown",
   "id": "00dd0814",
   "metadata": {
    "slideshow": {
     "slide_type": "fragment"
    }
   },
   "source": [
    "* metoda k-średnich lub centroidów (ang. _k-means_)\n",
    "* hierarchiczna analiza skupień (ang. _Hierarchical Cluster Analysis_, HCA)\n",
    "* wykrywawenie anomali i nowości (ang. _anomaly detection and novelety detection_)\n",
    "* wizualiacja i redukcje wymiarowości"
   ]
  },
  {
   "cell_type": "code",
   "execution_count": null,
   "id": "b83437a5",
   "metadata": {},
   "outputs": [],
   "source": []
  }
 ],
 "metadata": {
  "celltoolbar": "Slideshow",
  "kernelspec": {
   "display_name": "Python 3 (ipykernel)",
   "language": "python",
   "name": "python3"
  },
  "language_info": {
   "codemirror_mode": {
    "name": "ipython",
    "version": 3
   },
   "file_extension": ".py",
   "mimetype": "text/x-python",
   "name": "python",
   "nbconvert_exporter": "python",
   "pygments_lexer": "ipython3",
   "version": "3.10.2"
  }
 },
 "nbformat": 4,
 "nbformat_minor": 5
}
