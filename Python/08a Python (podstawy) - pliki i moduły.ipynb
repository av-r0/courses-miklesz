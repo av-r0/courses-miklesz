{
 "cells": [
  {
   "cell_type": "markdown",
   "metadata": {
    "slideshow": {
     "slide_type": "slide"
    }
   },
   "source": [
    "# Python (podstawy) - pliki i moduły\n",
    "_Mikołaj Leszczuk_\n",
    "![](https://inventyourshit.com/wp-content/uploads/2020/11/4lmoe3.jpg)"
   ]
  },
  {
   "cell_type": "markdown",
   "metadata": {
    "slideshow": {
     "slide_type": "slide"
    }
   },
   "source": [
    "## Konspekt"
   ]
  },
  {
   "cell_type": "markdown",
   "metadata": {
    "slideshow": {
     "slide_type": "fragment"
    }
   },
   "source": [
    "* Operacje na plikach\n",
    "  * Otwieranie i czytanie\n",
    "  * Zapis do pliku\n",
    "  * Zamykanie pliku\n",
    "  * Zautomatyzowany dostęp do pliku\n",
    "* Moduły\n",
    "  * Import modułu\n",
    "  * Wyszukiwanie modułów\n",
    "  * Używanie modułu jako skryptu"
   ]
  },
  {
   "cell_type": "markdown",
   "metadata": {
    "slideshow": {
     "slide_type": "slide"
    }
   },
   "source": [
    "## Operacje na plikach"
   ]
  },
  {
   "cell_type": "markdown",
   "metadata": {
    "slideshow": {
     "slide_type": "slide"
    }
   },
   "source": [
    "### Otwieranie i czytanie"
   ]
  },
  {
   "cell_type": "markdown",
   "metadata": {
    "slideshow": {
     "slide_type": "fragment"
    }
   },
   "source": [
    "```python\n",
    "f = open('write_file_name', 'w')\n",
    "f = open('append_file_name', 'a')\n",
    "f = open('read_file_name', 'r')\n",
    "\n",
    "f.read()\n",
    "\n",
    "f.readline()\n",
    "```"
   ]
  },
  {
   "cell_type": "markdown",
   "metadata": {
    "slideshow": {
     "slide_type": "slide"
    }
   },
   "source": [
    "### Zapis do pliku"
   ]
  },
  {
   "cell_type": "markdown",
   "metadata": {
    "slideshow": {
     "slide_type": "fragment"
    }
   },
   "source": [
    "```python\n",
    "f.write('Witaj\\n’) \n",
    "value = 42 \n",
    "f.write(value) \n",
    "\n",
    ">>>Traceback (most recent call last): \n",
    ">>> File \"<stdin>\", line 1, in <module> \n",
    ">>>TypeError: must be str, not int \n",
    "\n",
    "s = str(value) \n",
    "f.write(s)\n",
    "```"
   ]
  },
  {
   "cell_type": "markdown",
   "metadata": {
    "slideshow": {
     "slide_type": "slide"
    }
   },
   "source": [
    "### Zamykanie pliku"
   ]
  },
  {
   "cell_type": "markdown",
   "metadata": {
    "slideshow": {
     "slide_type": "fragment"
    }
   },
   "source": [
    "```python\n",
    "f.close()\n",
    "```"
   ]
  },
  {
   "cell_type": "markdown",
   "metadata": {
    "slideshow": {
     "slide_type": "slide"
    }
   },
   "source": [
    "### Poruszamy się po plikach – seek"
   ]
  },
  {
   "cell_type": "markdown",
   "metadata": {
    "slideshow": {
     "slide_type": "subslide"
    }
   },
   "source": [
    "* Metoda pliku Pythona\n",
    "```python\n",
    "fileObject.seek(offset[, whence])\n",
    "```\n",
    "ustawia aktualną pozycję pliku na przesunięcie\n",
    "* Argument `whence` jest opcjonalny:\n",
    "  * `0` – oznacza bezwzględne pozycjonowanie pliku (taką przyjmuje wartość domyślną)\n",
    "  * `1` – oznacza szukanie względem bieżącej pozycji\n",
    "  * `2` – oznacza szukanie względem końca pliku\n",
    "```python\n",
    "f.seek(0) # na początek\n",
    "f.seek(0, 2) # na koniec\n",
    "```"
   ]
  },
  {
   "cell_type": "markdown",
   "metadata": {
    "slideshow": {
     "slide_type": "slide"
    }
   },
   "source": [
    "### Przykład"
   ]
  },
  {
   "cell_type": "markdown",
   "metadata": {
    "slideshow": {
     "slide_type": "subslide"
    }
   },
   "source": [
    "`text.txt`:\n",
    "```\n",
    "Co to jest język Python?\n",
    "Python jest szeroko stosowanym dynamicznym językiem programowania wysokiego poziomu, ogólnego przeznaczenia. Jego filozofia projektowania kładzie nacisk na czytelność kodu, a jego składnia pozwala programistom na wyrażanie koncepcji w mniejszej liczbie wierszy kodu niż jest to możliwe w językach takich jak C++ lub Java.\n",
    "Python obsługuje wiele paradygmatów programowania, w tym programowanie obiektowe, imperatywne i funkcjonalne oraz style proceduralne. Posiada dynamiczny system typów i automatyczne zarządzanie pamięcią oraz dużą i wszechstronną bibliotekę standardową.\n",
    "Najlepszym sposobem nauki języka Python są ćwiczenia i pytania z ćwiczeniami.\n",
    "```"
   ]
  },
  {
   "cell_type": "code",
   "execution_count": null,
   "metadata": {
    "scrolled": true,
    "slideshow": {
     "slide_type": "subslide"
    }
   },
   "outputs": [],
   "source": [
    "# Otwórz plik\n",
    "fo = open(\"text.txt\", \"r\")\n",
    "print(\"Nazwa pliku: \", fo.name)\n",
    "\n",
    "line = fo.readline()\n",
    "print(\"Czytaj linię: >\" + line + \"<\")\n",
    "\n",
    "# Ponownie ustaw wskaźnik na początek\n",
    "fo.seek(0, 0)  # fo.seek(0)\n",
    "line = fo.readline()\n",
    "print(\"Czytaj linię: >\" + line + \"<\")\n",
    "\n",
    "# Zamknij otwarty plik\n",
    "fo.close()"
   ]
  },
  {
   "cell_type": "markdown",
   "metadata": {
    "slideshow": {
     "slide_type": "slide"
    }
   },
   "source": [
    "### Poruszamy się po plikach – tell"
   ]
  },
  {
   "cell_type": "markdown",
   "metadata": {
    "slideshow": {
     "slide_type": "fragment"
    }
   },
   "source": [
    "* Metoda pliku Pythona\n",
    "```python\n",
    "fileObject.tell()\n",
    "```\n",
    "zwraca bieżącą pozycję wskaźnika odczytu / zapisu pliku w pliku\n",
    "* Argumentów – brak\n",
    "```python\n",
    "f.tell()\n",
    "```"
   ]
  },
  {
   "cell_type": "markdown",
   "metadata": {
    "slideshow": {
     "slide_type": "slide"
    }
   },
   "source": [
    "### Przykład"
   ]
  },
  {
   "cell_type": "code",
   "execution_count": null,
   "metadata": {
    "slideshow": {
     "slide_type": "fragment"
    }
   },
   "outputs": [],
   "source": [
    "# Otwórz plik\n",
    "fo = open(\"text.txt\", \"r\")\n",
    "print(\"Nazwa pliku: \", fo.name)\n",
    "\n",
    "# Uzyskaj aktualną pozycję pliku.\n",
    "pos = fo.tell()\n",
    "print(\"Aktualna pozycja: \" + str(pos))\n",
    "\n",
    "line = fo.readline()\n",
    "print(\"Czytaj linię: >\" + line + \"<\")\n",
    "\n",
    "# Uzyskaj aktualną pozycję pliku.\n",
    "pos = fo.tell()\n",
    "print(\"Aktualna pozycja: \" + str(pos))\n",
    "\n",
    "# Zamknij otwarty plik\n",
    "fo.close()"
   ]
  },
  {
   "cell_type": "markdown",
   "metadata": {
    "slideshow": {
     "slide_type": "slide"
    }
   },
   "source": [
    "## Moduły"
   ]
  },
  {
   "cell_type": "markdown",
   "metadata": {
    "slideshow": {
     "slide_type": "slide"
    }
   },
   "source": [
    "### Import modułów"
   ]
  },
  {
   "cell_type": "markdown",
   "metadata": {
    "slideshow": {
     "slide_type": "fragment"
    }
   },
   "source": [
    "* Moduł importujemy poleceniem\n",
    "```python\n",
    "import <nazwa-modułu>\n",
    "```\n",
    "* lub\n",
    "```python\n",
    "import <nazwa-modułu> as <alias>\n",
    "```\n",
    "* Dla Pythona dostępnych jest wiele różnych modułów."
   ]
  },
  {
   "cell_type": "markdown",
   "metadata": {
    "slideshow": {
     "slide_type": "slide"
    }
   },
   "source": [
    "### Import modułów – przykład"
   ]
  },
  {
   "cell_type": "markdown",
   "metadata": {
    "slideshow": {
     "slide_type": "fragment"
    }
   },
   "source": [
    "* W poniższym przykładzie ładujemy moduł os\n",
    "* To jest skrót od **Systemu Operacyjnego** (ang. **_Operating System_**), więc możesz wykonywać zadania systemowe\n",
    "```python\n",
    "import os\n",
    "os.system(\"dir\")    # Windows\n",
    "os.system(\"ls\")     # UNIX\n",
    "```\n",
    "* Korzystając z tego modułu, wywołujemy jedną z jego funkcji o nazwie `system` (uruchamia polecenie)"
   ]
  },
  {
   "cell_type": "markdown",
   "metadata": {
    "slideshow": {
     "slide_type": "subslide"
    }
   },
   "source": [
    "* W tym przypadku po prostu wyświetli listę plików w katalogu:\n",
    "  * Polecenie `dir` \t– Windows\n",
    "  * Polecenie `ls`\t– UNIX"
   ]
  },
  {
   "cell_type": "code",
   "execution_count": null,
   "metadata": {
    "scrolled": true,
    "slideshow": {
     "slide_type": "fragment"
    }
   },
   "outputs": [],
   "source": [
    "import os\n",
    "# os.system(\"dir\")    # Windows\n",
    "os.system(\"ls\")     # UNIX"
   ]
  },
  {
   "cell_type": "markdown",
   "metadata": {
    "slideshow": {
     "slide_type": "slide"
    }
   },
   "source": [
    "### Uzyskiwanie określonych funkcji z modułu"
   ]
  },
  {
   "cell_type": "markdown",
   "metadata": {
    "slideshow": {
     "slide_type": "fragment"
    }
   },
   "source": [
    "* Możemy też zaimportować (uzyskać) niektóre (określone) obiekty (funkcje) z modułu\n",
    "```python\n",
    "from module import <obiekt1>, <obiekt2>, <obiekt3>\n",
    "```"
   ]
  },
  {
   "cell_type": "markdown",
   "metadata": {
    "slideshow": {
     "slide_type": "slide"
    }
   },
   "source": [
    "### Uzyskiwanie określonych funkcji z modułu – przykład"
   ]
  },
  {
   "cell_type": "markdown",
   "metadata": {
    "slideshow": {
     "slide_type": "fragment"
    }
   },
   "source": [
    "* Istnieje moduł o nazwie `time`, który ma wszelkiego rodzaju funkcje związane z czasem: pobierz datę, godzinę, minutę, sekundę i tak dalej\n",
    "* To całkiem sporo funkcji\n",
    "* Powiedzmy, że chcesz, aby program odczekał 2 sekundy\n",
    "* Jeśli chcesz, możesz zaimportować określoną funkcję zamiast całego modułu"
   ]
  },
  {
   "cell_type": "code",
   "execution_count": null,
   "metadata": {
    "slideshow": {
     "slide_type": "subslide"
    }
   },
   "outputs": [],
   "source": [
    "# import time\n",
    "# print(\"Dobranoc\")\n",
    "# time.sleep(2)\n",
    "# print(\"Dzień dobry\")\n",
    "\n",
    "from time import sleep\n",
    "print(\"Dobranoc\")\n",
    "sleep(2)\n",
    "print(\"Dzień dobry\")"
   ]
  },
  {
   "cell_type": "markdown",
   "metadata": {
    "slideshow": {
     "slide_type": "slide"
    }
   },
   "source": [
    "### Importowanie wszystkich funkcji z modułu (z przykładem)"
   ]
  },
  {
   "cell_type": "markdown",
   "metadata": {
    "slideshow": {
     "slide_type": "subslide"
    }
   },
   "source": [
    "* ***Możliwe jest importowanie wielu (wszystkich) funkcji z modułów***\n",
    "  * _Nie należy stosować polecenia – nie jest to zalecane_\n",
    "  ```python\n",
    "  from module import *\n",
    "  ```\n",
    "  * _ponieważ może ono spowodować kolizję nazw pomiędzy funkcjami z różnych modułów_\n",
    "* Poniższy przykład importuje cały moduł czasu (wszystkie funkcje), którego możesz następnie użyć"
   ]
  },
  {
   "cell_type": "code",
   "execution_count": null,
   "metadata": {
    "slideshow": {
     "slide_type": "fragment"
    }
   },
   "outputs": [],
   "source": [
    "from time import *\n",
    "print('Dobranoc')\n",
    "sleep(2)\n",
    "print('Dzień dobry')"
   ]
  },
  {
   "cell_type": "markdown",
   "metadata": {
    "slideshow": {
     "slide_type": "slide"
    }
   },
   "source": [
    "### Dostępność obiektów z załadowanych modułów"
   ]
  },
  {
   "cell_type": "markdown",
   "metadata": {
    "slideshow": {
     "slide_type": "fragment"
    }
   },
   "source": [
    "* Obiekty z załadowanych modułów dostępne są przez strukturę:\n",
    "  * `nazwa-modułu.obiekt`, lub\n",
    "  * `obiekt`, gdy importowaliśmy pojedyncze obiekty"
   ]
  },
  {
   "cell_type": "markdown",
   "metadata": {
    "slideshow": {
     "slide_type": "subslide"
    }
   },
   "source": [
    "* Lista funkcji w module:\n",
    "  * Aby zobaczyć wszystkie funkcje w module, uruchom interpreter Pythona i wpisz:"
   ]
  },
  {
   "cell_type": "markdown",
   "metadata": {
    "slideshow": {
     "slide_type": "fragment"
    }
   },
   "source": [
    "```sh\n",
    "python\n",
    "```"
   ]
  },
  {
   "cell_type": "code",
   "execution_count": null,
   "metadata": {
    "slideshow": {
     "slide_type": "subslide"
    }
   },
   "outputs": [],
   "source": [
    "import os\n",
    "print(dir(os))"
   ]
  },
  {
   "cell_type": "markdown",
   "metadata": {
    "slideshow": {
     "slide_type": "subslide"
    }
   },
   "source": [
    "* Spowoduje to wyświetlenie wszystkich funkcji i klas w module:\n",
    "![](https://cdn.journaldev.com/wp-content/uploads/2019/06/python-os-module.jpg)"
   ]
  },
  {
   "cell_type": "markdown",
   "metadata": {
    "slideshow": {
     "slide_type": "slide"
    }
   },
   "source": [
    "### Tworzenie modułu (z przykładem)"
   ]
  },
  {
   "cell_type": "markdown",
   "metadata": {
    "slideshow": {
     "slide_type": "fragment"
    }
   },
   "source": [
    "* Aby utworzyć moduł, utwórz plik w języku Python\n",
    "* Następnie zaimportuj go jak każdy inny moduł\n",
    "* Stwórz swój moduł (`fruit.py`)"
   ]
  },
  {
   "cell_type": "code",
   "execution_count": null,
   "metadata": {
    "slideshow": {
     "slide_type": "fragment"
    }
   },
   "outputs": [],
   "source": [
    "def lemon(l):\n",
    "    print('Lemoniada nr', l)"
   ]
  },
  {
   "cell_type": "markdown",
   "metadata": {
    "slideshow": {
     "slide_type": "subslide"
    }
   },
   "source": [
    "* Następnie stwórz swój program (`example.py`) i wywołaj funkcję:"
   ]
  },
  {
   "cell_type": "code",
   "execution_count": null,
   "metadata": {
    "slideshow": {
     "slide_type": "fragment"
    }
   },
   "outputs": [],
   "source": [
    "import fruit\n",
    "# from fruit import lemon\n",
    "\n",
    "fruit.lemon(5)\n",
    "# lemon(5)"
   ]
  },
  {
   "cell_type": "markdown",
   "metadata": {
    "slideshow": {
     "slide_type": "slide"
    }
   },
   "source": [
    "### Wyszukiwanie modułów"
   ]
  },
  {
   "cell_type": "markdown",
   "metadata": {
    "slideshow": {
     "slide_type": "subslide"
    }
   },
   "source": [
    "* Interpreter Pythona wyszukuje moduły w kolejności:\n",
    "  * Katalog, w którym jest uruchamiany skrypt (może być to katalog bieżący)\n",
    "  * Następnie w katalogach zawartych w zmiennej systemowej '`PYTHONPATH`’\n",
    "  * W katalogach systemowych `PATH`\n",
    "* Nie znaleziono modułu Pythona?\n",
    "  * Jeśli pojawi się błąd „`ImportError: No module named`”, oznacza to, że moduł nie jest zainstalowany\n",
    "  * Możesz zainstalować moduł zewnętrzny za pomocą menedżera pakietów"
   ]
  },
  {
   "cell_type": "markdown",
   "metadata": {
    "slideshow": {
     "slide_type": "slide"
    }
   },
   "source": [
    "### Używanie modułu jako skryptu"
   ]
  },
  {
   "cell_type": "markdown",
   "metadata": {
    "slideshow": {
     "slide_type": "fragment"
    }
   },
   "source": [
    "```sh\n",
    "python my.py <argumenty>\n",
    "```\n",
    "* Moduł `my` jest wykonywany tak jak przy wykonaniu `import my` przy czym nazwa modułu `__name__` jest ustawiana na `__main__`\n",
    "```python\n",
    "if __name__ == \"__main__\":\n",
    "    import sys\n",
    "    my_func(int(sys.argv[1]))\n",
    "```"
   ]
  },
  {
   "cell_type": "markdown",
   "metadata": {
    "slideshow": {
     "slide_type": "slide"
    }
   },
   "source": [
    "### Używanie modułu jako skryptu – przykład"
   ]
  },
  {
   "cell_type": "markdown",
   "metadata": {
    "slideshow": {
     "slide_type": "fragment"
    }
   },
   "source": [
    "```python\n",
    "def lemon(l):\n",
    "    print('Lemoniada nr', l)\n",
    "\n",
    "    \n",
    "if __name__ == \"__main__\":\n",
    "    import sys\n",
    "    lemon(int(sys.argv[1]))\n",
    "```"
   ]
  },
  {
   "cell_type": "code",
   "execution_count": null,
   "metadata": {
    "slideshow": {
     "slide_type": "skip"
    }
   },
   "outputs": [],
   "source": []
  }
 ],
 "metadata": {
  "celltoolbar": "Slideshow",
  "kernelspec": {
   "display_name": "Python 3 (ipykernel)",
   "language": "python",
   "name": "python3"
  },
  "language_info": {
   "codemirror_mode": {
    "name": "ipython",
    "version": 3
   },
   "file_extension": ".py",
   "mimetype": "text/x-python",
   "name": "python",
   "nbconvert_exporter": "python",
   "pygments_lexer": "ipython3",
   "version": "3.10.4"
  }
 },
 "nbformat": 4,
 "nbformat_minor": 4
}
