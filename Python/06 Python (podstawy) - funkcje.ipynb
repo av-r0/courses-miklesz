{
 "cells": [
  {
   "cell_type": "markdown",
   "metadata": {
    "slideshow": {
     "slide_type": "slide"
    }
   },
   "source": [
    "# Python (podstawy) - funkcje\n",
    "_Mikołaj Leszczuk_\n",
    "![](https://benjdd.com/assets/memes/teach-functions.jpg)"
   ]
  },
  {
   "cell_type": "markdown",
   "metadata": {
    "slideshow": {
     "slide_type": "slide"
    }
   },
   "source": [
    "## Funkcje"
   ]
  },
  {
   "cell_type": "markdown",
   "metadata": {
    "slideshow": {
     "slide_type": "fragment"
    }
   },
   "source": [
    "Funkcje służą do wykonywania określonych operacji, które mogą być wykonywane w jednym programie wielokrotnie.\n",
    "\n",
    "Do tej pory używaliśmy funkcji wbudowanych w język takich jak `print()` czy `len()`.\n",
    "\n",
    "Każda funkcja ma `nazwę()`, a w nawiasach okrągłych może mieć listę argumentów, które przyjmuje."
   ]
  },
  {
   "cell_type": "markdown",
   "metadata": {
    "slideshow": {
     "slide_type": "subslide"
    }
   },
   "source": [
    "Instrukcja `def` definiuje funkcję lub metodę. Instrukcje tworzące ciało funkcji zaczynają się od następnego wiersza i muszą być wcięte. Przykład:\n",
    "\n",
    "Program do drukowania „`Hello world!`” a następnie „`Wikipedia`” w następnym wierszu."
   ]
  },
  {
   "cell_type": "code",
   "execution_count": 1,
   "metadata": {
    "slideshow": {
     "slide_type": "fragment"
    }
   },
   "outputs": [
    {
     "name": "stdout",
     "output_type": "stream",
     "text": [
      "Hello world!\n",
      "Wikipedia\n"
     ]
    }
   ],
   "source": [
    "def simple_function():\n",
    "    print('Hello world!')\n",
    "    print('Wikipedia')\n",
    "\n",
    "    \n",
    "simple_function()"
   ]
  },
  {
   "cell_type": "markdown",
   "metadata": {
    "slideshow": {
     "slide_type": "subslide"
    }
   },
   "source": [
    "Instrukcja `return` służy do zwracania wartości z funkcji."
   ]
  },
  {
   "cell_type": "markdown",
   "metadata": {
    "slideshow": {
     "slide_type": "fragment"
    }
   },
   "source": [
    "**Przykład**\n",
    "\n",
    "Wyjdź z funkcji i zwróć sumę:"
   ]
  },
  {
   "cell_type": "code",
   "execution_count": 2,
   "metadata": {
    "slideshow": {
     "slide_type": "fragment"
    }
   },
   "outputs": [
    {
     "name": "stdout",
     "output_type": "stream",
     "text": [
      "6\n"
     ]
    }
   ],
   "source": [
    "def my_function():\n",
    "    return 3+3\n",
    "\n",
    "\n",
    "print(my_function())"
   ]
  },
  {
   "cell_type": "markdown",
   "metadata": {
    "slideshow": {
     "slide_type": "subslide"
    }
   },
   "source": [
    "Argument (parametr aktualny), to element składni w języku programowania Python, który w wyniku wywołania podprogramu (funkcji), zostaje utożsamiony (skojarzony) z określonym parametrem podprogramu (funkcji)."
   ]
  },
  {
   "cell_type": "code",
   "execution_count": 12,
   "metadata": {
    "slideshow": {
     "slide_type": "fragment"
    }
   },
   "outputs": [
    {
     "name": "stdout",
     "output_type": "stream",
     "text": [
      "x = 2 , y = 3\n",
      "5\n"
     ]
    }
   ],
   "source": [
    "def add(x, y):\n",
    "    print('x =', x, ', y =', y)\n",
    "    return x + y\n",
    "\n",
    "\n",
    "print(add(2, 3))\n",
    "# print(add(x = 2, y = 3))"
   ]
  },
  {
   "cell_type": "markdown",
   "metadata": {
    "slideshow": {
     "slide_type": "slide"
    }
   },
   "source": [
    "## Docstring"
   ]
  },
  {
   "cell_type": "markdown",
   "metadata": {
    "slideshow": {
     "slide_type": "fragment"
    }
   },
   "source": [
    "Funkcja może zawierać informacje dokumentujące jej działanie.\n",
    "\n",
    "Należy je podać w potrójnych cudzysłowach `\"\"\"` w linijkach następujących po linijce definiującej nazwę funkcji i jej argumenty."
   ]
  },
  {
   "cell_type": "code",
   "execution_count": 13,
   "metadata": {
    "slideshow": {
     "slide_type": "fragment"
    }
   },
   "outputs": [],
   "source": [
    "def my_function():\n",
    "    \"\"\"Dokumentacja funkcji\"\"\""
   ]
  },
  {
   "cell_type": "code",
   "execution_count": 17,
   "metadata": {
    "slideshow": {
     "slide_type": "fragment"
    }
   },
   "outputs": [
    {
     "name": "stdout",
     "output_type": "stream",
     "text": [
      "Help on function my_function in module __main__:\n",
      "\n",
      "my_function()\n",
      "    Dokumentacja funkcji\n",
      "\n"
     ]
    }
   ],
   "source": [
    "help(my_function)"
   ]
  },
  {
   "cell_type": "markdown",
   "metadata": {
    "slideshow": {
     "slide_type": "slide"
    }
   },
   "source": [
    "## Rekurencja/rekursja (ang. _recursion_)"
   ]
  },
  {
   "cell_type": "markdown",
   "metadata": {
    "slideshow": {
     "slide_type": "fragment"
    }
   },
   "source": [
    "Odwoływanie się do samej siebie np.: funkcji, lub definicji.\n",
    "\n",
    "Prosty przykład reguły:\n",
    "* Każdy ojciec jest starszy od swojego syna\n",
    "* Każdy ojciec jest czyimś synem"
   ]
  },
  {
   "cell_type": "markdown",
   "metadata": {
    "slideshow": {
     "slide_type": "fragment"
    }
   },
   "source": [
    "Przykład rekurencji w sztuce użytkowej ([Efekt Droste](https://pl.wikipedia.org/wiki/Efekt_Droste)):"
   ]
  },
  {
   "cell_type": "markdown",
   "metadata": {
    "slideshow": {
     "slide_type": "subslide"
    }
   },
   "source": [
    "![Przykład rekurencji w sztuce użytkowej (Efekt Droste)](https://upload.wikimedia.org/wikipedia/commons/thumb/0/0f/Droste_cacao_100gr_blikje%2C_foto_02.JPG/675px-Droste_cacao_100gr_blikje%2C_foto_02.JPG)"
   ]
  },
  {
   "cell_type": "markdown",
   "metadata": {
    "slideshow": {
     "slide_type": "slide"
    }
   },
   "source": [
    "### Zadanie o rozmnażaniu się królików"
   ]
  },
  {
   "cell_type": "markdown",
   "metadata": {
    "slideshow": {
     "slide_type": "fragment"
    }
   },
   "source": [
    "![](https://www.petsial.com/wp-content/uploads/2019/02/Do-Rabbits-Need-To-Live-In-Pairs.jpg)"
   ]
  },
  {
   "cell_type": "markdown",
   "metadata": {
    "slideshow": {
     "slide_type": "subslide"
    }
   },
   "source": [
    "* Piszemy program\n",
    "* Potrzebujemy w nim wielokrotnie dowiedzieć się…\n",
    "* **Ile par królików może spłodzić jedna para w ciągu roku?**\n",
    "* **Jeśli:**\n",
    "  * **Każda para rodzi nową parę w ciągu miesiąca**\n",
    "  * **Para staje się płodną po miesiącu**\n",
    "  * **Króliki nie zdychają**"
   ]
  },
  {
   "cell_type": "markdown",
   "metadata": {
    "slideshow": {
     "slide_type": "slide"
    }
   },
   "source": [
    "### Rozwiązanie zadania o rozmnażaniu się królików"
   ]
  },
  {
   "cell_type": "markdown",
   "metadata": {
    "slideshow": {
     "slide_type": "fragment"
    }
   },
   "source": [
    "1. miesiąc: **1** para królików rodzi nową parę królików; razem: **2** pary królików\n",
    "1. miesiąc: **2** pary królików plus **1** nowa para królików; razem: **3** pary królików\n",
    "1. miesiąc: **3** pary królików plus **2** urodzone; razem: **5** par królików\n",
    "1. miesiąc: **5** par królików plus **3** urodzone; razem: **8** par królików\n",
    "1. miesiąc: **8** par królików plus **5** urodzonych. Razem: **13** par królików\n",
    "1. I tak dalej"
   ]
  },
  {
   "cell_type": "markdown",
   "metadata": {
    "slideshow": {
     "slide_type": "slide"
    }
   },
   "source": [
    "### Kolejne liczby tworzą nam kolejne liczby ciągu Fibonacciego!"
   ]
  },
  {
   "cell_type": "markdown",
   "metadata": {
    "slideshow": {
     "slide_type": "fragment"
    }
   },
   "source": [
    "Wykres funkcji dla pierwszych ośmiu wyrazów ciągu Fibonacciego:\n",
    "\n",
    "![Wykres funkcji dla pierwszych ośmiu wyrazów ciągu Fibonacciego](https://upload.wikimedia.org/wikipedia/commons/3/3e/First_members_of_Fibonacci_sequence.svg)"
   ]
  },
  {
   "cell_type": "markdown",
   "metadata": {
    "slideshow": {
     "slide_type": "slide"
    }
   },
   "source": [
    "### Ciąg Fibonacciego"
   ]
  },
  {
   "cell_type": "markdown",
   "metadata": {
    "slideshow": {
     "slide_type": "fragment"
    }
   },
   "source": [
    "* Ciąg został omówiony w roku 1202 przez **Leonarda z Pizy**, zwanego Fibonaccim, w dziele **_Liber Abaci_ (Księga Liczydeł)** jako rozwiązanie zadania o rozmnażaniu się królików\n",
    "* Nazwę „ciąg Fibonacciego” spopularyzował w XIX w. **Édouard Lucas**"
   ]
  },
  {
   "cell_type": "markdown",
   "metadata": {
    "slideshow": {
     "slide_type": "subslide"
    }
   },
   "source": [
    "Fibonacci na rycinie z I benefattori dell'umanità:\n",
    "\n",
    "![Fibonacci na rycinie z I benefattori dell'umanità](https://upload.wikimedia.org/wikipedia/commons/a/a2/Fibonacci.jpg)"
   ]
  },
  {
   "cell_type": "markdown",
   "metadata": {
    "slideshow": {
     "slide_type": "subslide"
    }
   },
   "source": [
    "* Definicja funkcji składa się z linijki\n",
    "```python\n",
    "def fibbonaci_numbers(n)\n",
    "```\n",
    "która definiuje nazwę funkcji (w tym przypadku `fibbonaci_numbers`) oraz jej argumenty podane w nawiasach okrągłych (w tym przypadku `n`)\n",
    "* W kolejnych linijkach, które muszą być jednokrotnie wcięte podane jest tzw. ciało funkcji czyli wszystkie operacje wykonywane wewnątrz funkcji\n",
    "* Wszystkie zmienne utworzone w funkcji są dostępne tylko z w jej wnętrzu\n",
    "* Funkcja może zwracać jakiś obiekt, do tego służy instrukcja\n",
    "```python\n",
    "return <objekt>\n",
    "```"
   ]
  },
  {
   "cell_type": "code",
   "execution_count": 27,
   "metadata": {
    "slideshow": {
     "slide_type": "subslide"
    }
   },
   "outputs": [],
   "source": [
    "def fibbonaci_numbers(n):\n",
    "    ''' zwraca liczby Fibonacciego mniejsze od n '''\n",
    "    wynik = []\n",
    "    a, b = 0, 1\n",
    "    while a < n:\n",
    "    # while len(wynik) < n:\n",
    "        wynik.append(a)\n",
    "        a, b = b, a+b\n",
    "    return wynik"
   ]
  },
  {
   "cell_type": "markdown",
   "metadata": {
    "slideshow": {
     "slide_type": "slide"
    }
   },
   "source": [
    "### Wywołanie funkcji"
   ]
  },
  {
   "cell_type": "code",
   "execution_count": 28,
   "metadata": {
    "slideshow": {
     "slide_type": "fragment"
    }
   },
   "outputs": [
    {
     "name": "stdout",
     "output_type": "stream",
     "text": [
      "[0, 1, 1, 2, 3, 5, 8]\n",
      " zwraca liczby Fibonacciego mniejsze od n \n"
     ]
    }
   ],
   "source": [
    "x = fibbonaci_numbers(10)\n",
    "print(x)\n",
    "print(fibbonaci_numbers.__doc__)"
   ]
  },
  {
   "cell_type": "markdown",
   "metadata": {
    "slideshow": {
     "slide_type": "slide"
    }
   },
   "source": [
    "## Ćwiczenia"
   ]
  },
  {
   "cell_type": "markdown",
   "metadata": {
    "slideshow": {
     "slide_type": "slide"
    }
   },
   "source": [
    "### Funkcja w Pythonie do obliczania długości łańcucha"
   ]
  },
  {
   "cell_type": "markdown",
   "metadata": {
    "slideshow": {
     "slide_type": "slide"
    }
   },
   "source": [
    "#### Ćwiczenie"
   ]
  },
  {
   "cell_type": "markdown",
   "metadata": {
    "slideshow": {
     "slide_type": "fragment"
    }
   },
   "source": [
    "Napisz funkcję w Pythonie do obliczania długości łańcucha znaków."
   ]
  },
  {
   "cell_type": "markdown",
   "metadata": {
    "slideshow": {
     "slide_type": "slide"
    }
   },
   "source": [
    "#### Rozwiązanie"
   ]
  },
  {
   "cell_type": "code",
   "execution_count": 29,
   "metadata": {
    "slideshow": {
     "slide_type": "fragment"
    }
   },
   "outputs": [
    {
     "name": "stdout",
     "output_type": "stream",
     "text": [
      "6\n"
     ]
    }
   ],
   "source": [
    "def string_length(str1):\n",
    "    count = 0\n",
    "    for char in str1:\n",
    "        count += 1\n",
    "    return count\n",
    "\n",
    "\n",
    "print(string_length('Python'))"
   ]
  },
  {
   "cell_type": "markdown",
   "metadata": {
    "slideshow": {
     "slide_type": "slide"
    }
   },
   "source": [
    "### Funkcja w Pythonie, która zsumuje wszystkie elementy na liście"
   ]
  },
  {
   "cell_type": "markdown",
   "metadata": {
    "slideshow": {
     "slide_type": "slide"
    }
   },
   "source": [
    "#### Ćwiczenie"
   ]
  },
  {
   "cell_type": "markdown",
   "metadata": {
    "slideshow": {
     "slide_type": "fragment"
    }
   },
   "source": [
    "Napisz funkcję w Pythonie, która zsumuje wszystkie elementy na liście."
   ]
  },
  {
   "cell_type": "markdown",
   "metadata": {
    "slideshow": {
     "slide_type": "slide"
    }
   },
   "source": [
    "#### Rozwiązanie"
   ]
  },
  {
   "cell_type": "code",
   "execution_count": 30,
   "metadata": {
    "slideshow": {
     "slide_type": "fragment"
    }
   },
   "outputs": [
    {
     "name": "stdout",
     "output_type": "stream",
     "text": [
      "-5\n"
     ]
    }
   ],
   "source": [
    "def sum_list(items):\n",
    "    sum_numbers = 0\n",
    "    for x in items:\n",
    "        sum_numbers += x\n",
    "    return sum_numbers\n",
    "\n",
    "\n",
    "print(sum_list([1, 2, -8]))"
   ]
  },
  {
   "cell_type": "markdown",
   "metadata": {
    "slideshow": {
     "slide_type": "slide"
    }
   },
   "source": [
    "### Funkcja w Pythonie, który mnoży wszystkie elementy na liście"
   ]
  },
  {
   "cell_type": "markdown",
   "metadata": {
    "slideshow": {
     "slide_type": "slide"
    }
   },
   "source": [
    "#### Ćwiczenie"
   ]
  },
  {
   "cell_type": "markdown",
   "metadata": {
    "slideshow": {
     "slide_type": "fragment"
    }
   },
   "source": [
    "Napisz funkcję w Pythonie, który mnoży wszystkie elementy na liście."
   ]
  },
  {
   "cell_type": "markdown",
   "metadata": {
    "slideshow": {
     "slide_type": "slide"
    }
   },
   "source": [
    "#### Rozwiązanie"
   ]
  },
  {
   "cell_type": "code",
   "execution_count": 31,
   "metadata": {
    "slideshow": {
     "slide_type": "fragment"
    }
   },
   "outputs": [
    {
     "name": "stdout",
     "output_type": "stream",
     "text": [
      "-16\n"
     ]
    }
   ],
   "source": [
    "def multiply_list(items):\n",
    "    tot = items[0]\n",
    "    for x in items[1:]:\n",
    "        tot *= x\n",
    "    return tot\n",
    "\n",
    "\n",
    "print(multiply_list([1, 2, -8]))"
   ]
  },
  {
   "cell_type": "markdown",
   "metadata": {
    "slideshow": {
     "slide_type": "slide"
    }
   },
   "source": [
    "### Funkcja w Pythonie, aby uzyskać największą liczbę z listy"
   ]
  },
  {
   "cell_type": "markdown",
   "metadata": {
    "slideshow": {
     "slide_type": "slide"
    }
   },
   "source": [
    "#### Ćwiczenie"
   ]
  },
  {
   "cell_type": "markdown",
   "metadata": {
    "slideshow": {
     "slide_type": "fragment"
    }
   },
   "source": [
    "Napisz funkcję w Pythonie, aby uzyskać największą liczbę z listy."
   ]
  },
  {
   "cell_type": "markdown",
   "metadata": {
    "slideshow": {
     "slide_type": "slide"
    }
   },
   "source": [
    "#### Rozwiązanie"
   ]
  },
  {
   "cell_type": "code",
   "execution_count": 32,
   "metadata": {
    "slideshow": {
     "slide_type": "fragment"
    }
   },
   "outputs": [
    {
     "name": "stdout",
     "output_type": "stream",
     "text": [
      "2\n"
     ]
    }
   ],
   "source": [
    "def max_num_in_list(lista):\n",
    "    maks = lista[0]\n",
    "    for a in lista[1:]:\n",
    "        if a > maks:\n",
    "            maks = a\n",
    "    return maks\n",
    "\n",
    "\n",
    "print(max_num_in_list([1, 2, -8, 0]))"
   ]
  },
  {
   "cell_type": "markdown",
   "metadata": {
    "slideshow": {
     "slide_type": "slide"
    }
   },
   "source": [
    "### Funkcja w Pythonie, który zlicza liczbę znaków (częstotliwość znaków) w ciągu znaków"
   ]
  },
  {
   "cell_type": "markdown",
   "metadata": {
    "slideshow": {
     "slide_type": "slide"
    }
   },
   "source": [
    "#### Ćwiczenie"
   ]
  },
  {
   "cell_type": "markdown",
   "metadata": {
    "slideshow": {
     "slide_type": "fragment"
    }
   },
   "source": [
    "Napisz funkcję w Pythonie, który zlicza liczbę znaków (częstotliwość znaków) w ciągu tekstowym.\n",
    "\n",
    "Przykładowy ciąg tekstowy: `google.com`\n",
    "\n",
    "Oczekiwany wynik: `{'o': 3, 'g': 2, '.': 1, 'e': 1, 'l': 1, 'm': 1, 'c': 1}`"
   ]
  },
  {
   "cell_type": "markdown",
   "metadata": {
    "slideshow": {
     "slide_type": "slide"
    }
   },
   "source": [
    "#### Rozwiązanie"
   ]
  },
  {
   "cell_type": "code",
   "execution_count": 33,
   "metadata": {
    "slideshow": {
     "slide_type": "fragment"
    }
   },
   "outputs": [
    {
     "name": "stdout",
     "output_type": "stream",
     "text": [
      "{'g': 2, 'o': 3, 'l': 1, 'e': 1, '.': 1, 'c': 1, 'm': 1}\n"
     ]
    }
   ],
   "source": [
    "def char_frequency(str1):\n",
    "    dict = {}\n",
    "    for n in str1:\n",
    "        keys = dict.keys()\n",
    "        if n in keys:\n",
    "            dict[n] += 1\n",
    "        else:\n",
    "            dict[n] = 1\n",
    "    return dict\n",
    "\n",
    "\n",
    "print(char_frequency('google.com'))"
   ]
  },
  {
   "cell_type": "markdown",
   "metadata": {
    "slideshow": {
     "slide_type": "slide"
    }
   },
   "source": [
    "### Funkcja w Pythonie do zliczania ciągów znaków, w których długość ciągu wynosi 2 lub więcej, a pierwszy i ostatni znak są takie same z podanej listy ciągów"
   ]
  },
  {
   "cell_type": "markdown",
   "metadata": {
    "slideshow": {
     "slide_type": "slide"
    }
   },
   "source": [
    "#### Ćwiczenie"
   ]
  },
  {
   "cell_type": "markdown",
   "metadata": {
    "slideshow": {
     "slide_type": "fragment"
    }
   },
   "source": [
    "Napisz funkcję w Pythonie, który zlicza ciągi znaków, w których długość ciągu wynosi `2` lub więcej, a pierwszy i ostatni znak są takie same z podanej listy ciągów.\n",
    "\n",
    "Przykładowa lista : `['abc', 'xyz', 'aba', '1221']`\n",
    "\n",
    "Oczekiwany wynik: `2`"
   ]
  },
  {
   "cell_type": "markdown",
   "metadata": {
    "slideshow": {
     "slide_type": "slide"
    }
   },
   "source": [
    "#### Rozwiązanie"
   ]
  },
  {
   "cell_type": "code",
   "execution_count": 34,
   "metadata": {
    "slideshow": {
     "slide_type": "fragment"
    }
   },
   "outputs": [
    {
     "name": "stdout",
     "output_type": "stream",
     "text": [
      "2\n"
     ]
    }
   ],
   "source": [
    "def match_words(words):\n",
    "    ctr = 0\n",
    "    \n",
    "    for word in words:\n",
    "        if len(word) >= 2 and word[0] == word[-1]:\n",
    "            ctr += 1\n",
    "    return ctr\n",
    "\n",
    "print(match_words(['abc', 'xyz', 'aba', '1221']))"
   ]
  },
  {
   "cell_type": "markdown",
   "metadata": {
    "slideshow": {
     "slide_type": "slide"
    }
   },
   "source": [
    "### Funkcja Pythona do pobrania listy, posortowanej w porządku rosnącym według ostatniego elementu w każdej krotce z podanej listy niepustych krotek"
   ]
  },
  {
   "cell_type": "markdown",
   "metadata": {
    "slideshow": {
     "slide_type": "slide"
    }
   },
   "source": [
    "#### Ćwiczenie"
   ]
  },
  {
   "cell_type": "markdown",
   "metadata": {
    "slideshow": {
     "slide_type": "fragment"
    }
   },
   "source": [
    "Napisz funkcję w Pythonie, aby uzyskać listę posortowaną w porządku rosnącym według ostatniego elementu w każdej krotce z podanej listy niepustych krotek.\n",
    "\n",
    "Przykładowa lista: `[(2, 5), (1, 2), (4, 4), (2, 3), (2, 1)]`\n",
    "\n",
    "Oczekiwany wynik : `[(2, 1), (1, 2), (2, 3), (4, 4), (2, 5)]`"
   ]
  },
  {
   "cell_type": "markdown",
   "metadata": {
    "slideshow": {
     "slide_type": "slide"
    }
   },
   "source": [
    "#### Rozwiązanie"
   ]
  },
  {
   "cell_type": "code",
   "execution_count": 35,
   "metadata": {
    "slideshow": {
     "slide_type": "fragment"
    }
   },
   "outputs": [
    {
     "name": "stdout",
     "output_type": "stream",
     "text": [
      "[(2, 1), (1, 2), (2, 3), (4, 4), (2, 5)]\n"
     ]
    }
   ],
   "source": [
    "def last(n):\n",
    "    return n[-1]\n",
    "\n",
    "def sort_list_last(tuples):\n",
    "    return sorted(tuples, key=last)\n",
    "\n",
    "print(sort_list_last([(2, 5), (1, 2), (4, 4), (2, 3), (2, 1)]))"
   ]
  },
  {
   "cell_type": "markdown",
   "metadata": {
    "slideshow": {
     "slide_type": "slide"
    }
   },
   "source": [
    "### Funkcja Pythona do pobrania ciągu znaków złożonego z pierwszych `2` i ostatnich `2` znaków z podanego ciągu"
   ]
  },
  {
   "cell_type": "markdown",
   "metadata": {
    "slideshow": {
     "slide_type": "slide"
    }
   },
   "source": [
    "#### Ćwiczenie"
   ]
  },
  {
   "cell_type": "markdown",
   "metadata": {
    "slideshow": {
     "slide_type": "fragment"
    }
   },
   "source": [
    "Napisz funkcję w Pythonie, aby uzyskać łańcuch składający się z pierwszych `2` i ostatnich `2` znaków z danego łańcucha. Jeśli długość ciągu jest mniejsza niż `2`, zwróć zamiast tego pusty ciąg.\n",
    "\n",
    "Przykładowy ciąg : `Python`\n",
    "\n",
    "Oczekiwany wynik: `Pyon`\n",
    "\n",
    "Przykładowy ciąg : `Py`\n",
    "\n",
    "Oczekiwany wynik: `PyPy`\n",
    "\n",
    "Przykładowy ciąg : `P`\n",
    "\n",
    "Oczekiwany wynik: pusty ciąg"
   ]
  },
  {
   "cell_type": "markdown",
   "metadata": {
    "slideshow": {
     "slide_type": "slide"
    }
   },
   "source": [
    "#### Rozwiązanie"
   ]
  },
  {
   "cell_type": "code",
   "execution_count": 1,
   "metadata": {
    "slideshow": {
     "slide_type": "fragment"
    }
   },
   "outputs": [],
   "source": [
    "def string_both_ends(str):\n",
    "    if len(str) < 2:\n",
    "        return ''\n",
    "    return str[:2] + str[-2:]"
   ]
  },
  {
   "cell_type": "code",
   "execution_count": 2,
   "metadata": {
    "slideshow": {
     "slide_type": "fragment"
    }
   },
   "outputs": [
    {
     "name": "stdout",
     "output_type": "stream",
     "text": [
      "Pyon\n"
     ]
    }
   ],
   "source": [
    "print(string_both_ends('Python'))"
   ]
  },
  {
   "cell_type": "code",
   "execution_count": 3,
   "metadata": {
    "slideshow": {
     "slide_type": "fragment"
    }
   },
   "outputs": [
    {
     "name": "stdout",
     "output_type": "stream",
     "text": [
      "PyPy\n"
     ]
    }
   ],
   "source": [
    "print(string_both_ends('Py'))"
   ]
  },
  {
   "cell_type": "code",
   "execution_count": 4,
   "metadata": {
    "slideshow": {
     "slide_type": "fragment"
    }
   },
   "outputs": [
    {
     "name": "stdout",
     "output_type": "stream",
     "text": [
      "\n"
     ]
    }
   ],
   "source": [
    "print(string_both_ends('P'))"
   ]
  },
  {
   "cell_type": "markdown",
   "metadata": {
    "slideshow": {
     "slide_type": "slide"
    }
   },
   "source": [
    "### Silnia"
   ]
  },
  {
   "cell_type": "markdown",
   "metadata": {
    "slideshow": {
     "slide_type": "slide"
    }
   },
   "source": [
    "#### Ćwiczenie"
   ]
  },
  {
   "cell_type": "markdown",
   "metadata": {
    "slideshow": {
     "slide_type": "fragment"
    }
   },
   "source": [
    "Napisz program, policzy silnię dla liczby n tj.\n",
    "\n",
    "`n! = 1*2*3*4...*(n-2)*(n-1)*n`\n",
    "\n",
    "Zrób to przez napisanie funkcji, która rekurencyjne będzie się odwoływała do samej siebie do momentu gdy będzie liczyła silnie dla `1`, która wynosi `1`."
   ]
  },
  {
   "cell_type": "markdown",
   "metadata": {
    "slideshow": {
     "slide_type": "slide"
    }
   },
   "source": [
    "#### Rozwiązanie"
   ]
  },
  {
   "cell_type": "code",
   "execution_count": 11,
   "metadata": {
    "slideshow": {
     "slide_type": "fragment"
    }
   },
   "outputs": [],
   "source": [
    "def recur_factorial(n):\n",
    "    if n == 1:\n",
    "        return n\n",
    "    return n * recur_factorial(n-1)"
   ]
  },
  {
   "cell_type": "code",
   "execution_count": 12,
   "metadata": {
    "slideshow": {
     "slide_type": "fragment"
    }
   },
   "outputs": [
    {
     "name": "stdout",
     "output_type": "stream",
     "text": [
      "5040\n"
     ]
    }
   ],
   "source": [
    "print(recur_factorial(7))"
   ]
  },
  {
   "cell_type": "markdown",
   "metadata": {
    "slideshow": {
     "slide_type": "slide"
    }
   },
   "source": [
    "### Rekurencyjny ciąg Fibonacciego"
   ]
  },
  {
   "cell_type": "markdown",
   "metadata": {
    "slideshow": {
     "slide_type": "slide"
    }
   },
   "source": [
    "#### Ćwiczenie"
   ]
  },
  {
   "cell_type": "markdown",
   "metadata": {
    "slideshow": {
     "slide_type": "fragment"
    }
   },
   "source": [
    "Rekurencyjny ciąg Fibonacciego w Pythonie."
   ]
  },
  {
   "cell_type": "markdown",
   "metadata": {
    "slideshow": {
     "slide_type": "slide"
    }
   },
   "source": [
    "#### Rozwiązanie"
   ]
  },
  {
   "cell_type": "code",
   "execution_count": 15,
   "metadata": {
    "slideshow": {
     "slide_type": "fragment"
    }
   },
   "outputs": [
    {
     "name": "stdout",
     "output_type": "stream",
     "text": [
      "0\n",
      "1\n",
      "1\n",
      "2\n",
      "3\n",
      "5\n",
      "8\n",
      "13\n",
      "21\n",
      "34\n",
      "55\n",
      "89\n",
      "144\n",
      "233\n",
      "377\n"
     ]
    }
   ],
   "source": [
    "def recur_fibo(n):\n",
    "    if n <= 1:\n",
    "        return n\n",
    "    else:\n",
    "        return recur_fibo(n-1) + recur_fibo(n-2)\n",
    "    \n",
    "\n",
    "for i in range(15):\n",
    "    print(recur_fibo(i))"
   ]
  },
  {
   "cell_type": "markdown",
   "metadata": {
    "slideshow": {
     "slide_type": "slide"
    }
   },
   "source": [
    "## Zadanie utwalające"
   ]
  },
  {
   "cell_type": "markdown",
   "metadata": {
    "slideshow": {
     "slide_type": "slide"
    }
   },
   "source": [
    "### Funkcja w Pythonie, aby uzyskać najmniejszą liczbę z listy"
   ]
  },
  {
   "cell_type": "markdown",
   "metadata": {
    "slideshow": {
     "slide_type": "slide"
    }
   },
   "source": [
    "#### Zadanie"
   ]
  },
  {
   "cell_type": "markdown",
   "metadata": {
    "slideshow": {
     "slide_type": "fragment"
    }
   },
   "source": [
    "Napisz funkcję w Pythonie, aby uzyskać najmniejszą liczbę z listy."
   ]
  },
  {
   "cell_type": "markdown",
   "metadata": {
    "slideshow": {
     "slide_type": "slide"
    }
   },
   "source": [
    "#### Rozwiązanie"
   ]
  },
  {
   "cell_type": "code",
   "execution_count": null,
   "metadata": {
    "slideshow": {
     "slide_type": "fragment"
    }
   },
   "outputs": [],
   "source": [
    "def smallest_num_in_list( list ):\n",
    "    min = list[ 0 ]\n",
    "    for a in list[1:]:\n",
    "        if a < min:\n",
    "            min = a\n",
    "    return min\n",
    "print(smallest_num_in_list([1, 2, -8, 0]))"
   ]
  },
  {
   "cell_type": "code",
   "execution_count": null,
   "metadata": {
    "slideshow": {
     "slide_type": "skip"
    }
   },
   "outputs": [],
   "source": []
  }
 ],
 "metadata": {
  "celltoolbar": "Slideshow",
  "kernelspec": {
   "display_name": "Python 3 (ipykernel)",
   "language": "python",
   "name": "python3"
  },
  "language_info": {
   "codemirror_mode": {
    "name": "ipython",
    "version": 3
   },
   "file_extension": ".py",
   "mimetype": "text/x-python",
   "name": "python",
   "nbconvert_exporter": "python",
   "pygments_lexer": "ipython3",
   "version": "3.9.7"
  }
 },
 "nbformat": 4,
 "nbformat_minor": 4
}
