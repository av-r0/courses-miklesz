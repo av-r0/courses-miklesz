{
 "cells": [
  {
   "cell_type": "markdown",
   "metadata": {
    "slideshow": {
     "slide_type": "slide"
    }
   },
   "source": [
    "# Python (podstawy) - wyjątki\n",
    "_Mikołaj Leszczuk_\n",
    "![](https://inventyourshit.com/wp-content/uploads/2020/11/4mfiyy.jpg)"
   ]
  },
  {
   "cell_type": "markdown",
   "metadata": {
    "slideshow": {
     "slide_type": "slide"
    }
   },
   "source": [
    "## Konspekt"
   ]
  },
  {
   "cell_type": "markdown",
   "metadata": {
    "slideshow": {
     "slide_type": "fragment"
    }
   },
   "source": [
    "* Wyjątki\n",
    "* Obsługa"
   ]
  },
  {
   "cell_type": "markdown",
   "metadata": {
    "slideshow": {
     "slide_type": "slide"
    }
   },
   "source": [
    "## Wyjątki"
   ]
  },
  {
   "cell_type": "markdown",
   "metadata": {
    "slideshow": {
     "slide_type": "slide"
    }
   },
   "source": [
    "### Wyjątki, ang. _Exception_"
   ]
  },
  {
   "cell_type": "markdown",
   "metadata": {
    "slideshow": {
     "slide_type": "fragment"
    }
   },
   "source": [
    "* Mechanizm **przepływu sterowania** używany w **procesorach** oraz współczesnych **językach programowania** do obsługi zdarzeń wyjątkowych, a w szczególności błędów, których wystąpienie zmienia prawidłowy przebieg wykonywania programu.\n",
    "* W momencie zajścia niespodziewanego zdarzenia generowany jest wyjątek, który musi zostać obsłużony przez zapamiętanie bieżącego stanu programu i przejście do **procedury** jego obsługi."
   ]
  },
  {
   "cell_type": "markdown",
   "metadata": {
    "slideshow": {
     "slide_type": "slide"
    }
   },
   "source": [
    "* W niektórych sytuacjach po obsłużeniu wyjątku można powrócić do wykonywania przerwanego kodu, korzystając z zapamiętanych informacji stanu.\n",
    "* Przykładowo obsługa błędu braku **strony pamięci** polega najczęściej na pobraniu brakującej strony z **pliku wymiany**, co umożliwia kontynuowanie pracy programu, natomiast błąd dzielenia przez zero powoduje, że wykonywanie dalszych obliczeń nie ma sensu i musi zostać definitywnie przerwane."
   ]
  },
  {
   "cell_type": "markdown",
   "metadata": {
    "slideshow": {
     "slide_type": "slide"
    }
   },
   "source": [
    "### Wyjątki w procesorach "
   ]
  },
  {
   "cell_type": "markdown",
   "metadata": {
    "slideshow": {
     "slide_type": "fragment"
    }
   },
   "source": [
    "* Wyjątki w procesorach są zdarzeniami, których wynikiem jest przerwanie wykonania bieżącego strumienia instrukcji i przekazanie sterowania do oprogramowania systemowego w celu programowej reakcji na zdarzenie\n",
    "* Wyjątki dzielą się na synchroniczne, obsługiwane bezpośrednio po wystąpieniu, oraz asynchroniczne, których obsługa może, w zależności od bieżącego priorytetu procesora, zostać opóźniona\n",
    "* Do wyjątków asynchronicznych należą przerwania\n",
    "* Wyjątki synchroniczne – to:\n",
    "  * Pułapki (traps) i \n",
    "  * Błędy (faults, aborts, errors)"
   ]
  },
  {
   "cell_type": "markdown",
   "metadata": {
    "slideshow": {
     "slide_type": "slide"
    }
   },
   "source": [
    "* Przerwania mogą być generowane:\n",
    "  * Sprzętowo przez sterowniki urządzeń zewnętrznych, oraz \n",
    "  * Programowo przez procesor – w nowocześniejszych architekturach (np. ARM)\n",
    "* Pułapki są generowane przez jednostkę wykonawczą procesora w wyniku wykonania instrukcji, na końcu jej wykonania"
   ]
  },
  {
   "cell_type": "markdown",
   "metadata": {
    "slideshow": {
     "slide_type": "slide"
    }
   },
   "source": [
    "* Pułapki służą do trzech celów:\n",
    "  * Wywołania przez program użytkowy usług systemu operacyjnego – instrukcja SVC (ARM), INT (x86), SYSCALL (x86) itp. (pułapka wywołania systemu była dawniej niezbyt fortunnie nazywana „przerwaniem programowym”)\n",
    "  * Sygnalizacji niepoprawnego z punktu widzenia programisty wykonania programu (np. pułapka przy nadmiarze operacji arytmetycznej)\n",
    "  * Wspomagania debugowania programów (pułapka śledzenia)"
   ]
  },
  {
   "cell_type": "markdown",
   "metadata": {
    "slideshow": {
     "slide_type": "slide"
    }
   },
   "source": [
    "* Przy wystąpieniu pułapki wykonanie instrukcji, która ją spowodowała, zostaje normalnie zakończone\n",
    "* Błędy mogą być generowane przez procesor lub jego otoczenie \n",
    "* Charakterystyczną cechą błędów jest to, że uniemożliwiają one zakończenie wykonania instrukcji, podczas której wystąpiły\n",
    "* Są to np.:\n",
    "  * Błąd wyrównania danych, sygnalizowany przez jednostkę wykonawczą\n",
    "  * Błąd niezidentyfikowanej instrukcji lub niedozwolonej instrukcji\n",
    "  * Błędy dostępu do pamięci, sygnalizowane przez jednostkę zarządzania pamięcią (stronicowania lub segmentacji)"
   ]
  },
  {
   "cell_type": "markdown",
   "metadata": {
    "slideshow": {
     "slide_type": "slide"
    }
   },
   "source": [
    "### Wyjątki w językach programowania"
   ]
  },
  {
   "cell_type": "markdown",
   "metadata": {
    "slideshow": {
     "slide_type": "fragment"
    }
   },
   "source": [
    "* W **językach programowania** wsparcie dla wyjątków realizowane jest na poziomie składni i semantyki danego języka\n",
    "* Zgłoszenie sytuacji wyjątkowej możliwe jest w dowolnym miejscu kodu"
   ]
  },
  {
   "cell_type": "markdown",
   "metadata": {
    "slideshow": {
     "slide_type": "slide"
    }
   },
   "source": [
    "### Wyjątki w Pythonie"
   ]
  },
  {
   "cell_type": "markdown",
   "metadata": {
    "slideshow": {
     "slide_type": "fragment"
    }
   },
   "source": [
    "* Gdy interpreter Pythona zauważy w programie błąd, tworzy wyjątek z opisem błędu"
   ]
  },
  {
   "cell_type": "code",
   "execution_count": 1,
   "metadata": {
    "scrolled": true,
    "slideshow": {
     "slide_type": "slide"
    }
   },
   "outputs": [
    {
     "ename": "ZeroDivisionError",
     "evalue": "division by zero",
     "output_type": "error",
     "traceback": [
      "\u001b[0;31m---------------------------------------------------------------------------\u001b[0m",
      "\u001b[0;31mZeroDivisionError\u001b[0m                         Traceback (most recent call last)",
      "\u001b[0;32m/var/folders/_p/66rl240s45j0d661qs7f096c0000gn/T/ipykernel_68704/2266035131.py\u001b[0m in \u001b[0;36m<module>\u001b[0;34m\u001b[0m\n\u001b[0;32m----> 1\u001b[0;31m \u001b[0mprint\u001b[0m\u001b[0;34m(\u001b[0m\u001b[0;36m5\u001b[0m \u001b[0;34m*\u001b[0m \u001b[0;34m(\u001b[0m\u001b[0;36m1\u001b[0m \u001b[0;34m/\u001b[0m \u001b[0;36m0\u001b[0m\u001b[0;34m)\u001b[0m\u001b[0;34m)\u001b[0m\u001b[0;34m\u001b[0m\u001b[0;34m\u001b[0m\u001b[0m\n\u001b[0m",
      "\u001b[0;31mZeroDivisionError\u001b[0m: division by zero"
     ]
    }
   ],
   "source": [
    "print(5 * (1 / 0))"
   ]
  },
  {
   "cell_type": "code",
   "execution_count": 4,
   "metadata": {
    "scrolled": true,
    "slideshow": {
     "slide_type": "fragment"
    }
   },
   "outputs": [
    {
     "ename": "NameError",
     "evalue": "name 'x' is not defined",
     "output_type": "error",
     "traceback": [
      "\u001b[0;31m---------------------------------------------------------------------------\u001b[0m",
      "\u001b[0;31mNameError\u001b[0m                                 Traceback (most recent call last)",
      "\u001b[0;32m/var/folders/_p/66rl240s45j0d661qs7f096c0000gn/T/ipykernel_68704/2610747636.py\u001b[0m in \u001b[0;36m<module>\u001b[0;34m\u001b[0m\n\u001b[0;32m----> 1\u001b[0;31m \u001b[0mprint\u001b[0m\u001b[0;34m(\u001b[0m\u001b[0;36m4\u001b[0m \u001b[0;34m+\u001b[0m \u001b[0mx\u001b[0m \u001b[0;34m*\u001b[0m \u001b[0;36m3\u001b[0m\u001b[0;34m)\u001b[0m\u001b[0;34m\u001b[0m\u001b[0;34m\u001b[0m\u001b[0m\n\u001b[0m",
      "\u001b[0;31mNameError\u001b[0m: name 'x' is not defined"
     ]
    }
   ],
   "source": [
    "print(4 + x * 3)"
   ]
  },
  {
   "cell_type": "code",
   "execution_count": 5,
   "metadata": {
    "scrolled": true,
    "slideshow": {
     "slide_type": "fragment"
    }
   },
   "outputs": [
    {
     "ename": "TypeError",
     "evalue": "can only concatenate str (not \"int\") to str",
     "output_type": "error",
     "traceback": [
      "\u001b[0;31m---------------------------------------------------------------------------\u001b[0m",
      "\u001b[0;31mTypeError\u001b[0m                                 Traceback (most recent call last)",
      "\u001b[0;32m/var/folders/_p/66rl240s45j0d661qs7f096c0000gn/T/ipykernel_68704/1773586646.py\u001b[0m in \u001b[0;36m<module>\u001b[0;34m\u001b[0m\n\u001b[0;32m----> 1\u001b[0;31m \u001b[0mprint\u001b[0m\u001b[0;34m(\u001b[0m\u001b[0;34m'2'\u001b[0m \u001b[0;34m+\u001b[0m \u001b[0;36m2\u001b[0m\u001b[0;34m)\u001b[0m\u001b[0;34m\u001b[0m\u001b[0;34m\u001b[0m\u001b[0m\n\u001b[0m",
      "\u001b[0;31mTypeError\u001b[0m: can only concatenate str (not \"int\") to str"
     ]
    }
   ],
   "source": [
    "print('2' + 2)"
   ]
  },
  {
   "cell_type": "markdown",
   "metadata": {
    "slideshow": {
     "slide_type": "slide"
    }
   },
   "source": [
    "### Lista wbudowanych wyjątków Pythona"
   ]
  },
  {
   "cell_type": "markdown",
   "metadata": {
    "slideshow": {
     "slide_type": "slide"
    }
   },
   "source": [
    "![](https://images1.arabicprogrammer.com/66/8e/8e9ad449be8f27467ffcdfbb93f695a2.JPEG)"
   ]
  },
  {
   "cell_type": "markdown",
   "metadata": {
    "slideshow": {
     "slide_type": "slide"
    }
   },
   "source": [
    "## Obsługa"
   ]
  },
  {
   "cell_type": "markdown",
   "metadata": {
    "slideshow": {
     "slide_type": "slide"
    }
   },
   "source": [
    "### Wyjątki i obsługa błędów w Pythonie"
   ]
  },
  {
   "cell_type": "markdown",
   "metadata": {
    "slideshow": {
     "slide_type": "slide"
    }
   },
   "source": [
    "![Wyjątki Pythona](https://files.realpython.com/media/try_except_else_finally.a7fac6c36c55.png)"
   ]
  },
  {
   "cell_type": "markdown",
   "metadata": {
    "slideshow": {
     "slide_type": "slide"
    }
   },
   "source": [
    "### Podstawowa obsługa"
   ]
  },
  {
   "cell_type": "markdown",
   "metadata": {
    "slideshow": {
     "slide_type": "fragment"
    }
   },
   "source": [
    "* Podniesiony wyjątek można przechwycić i obsłużyć przy pomocy struktury:\n",
    "```python\n",
    "try:\n",
    "\t...\n",
    "\t<linie kodu> \n",
    "except Exception as err: \n",
    "\t<obsługa wyjątku>\n",
    "```\n",
    "* Możemy również podnieść wyjątek przez `raise`\n"
   ]
  },
  {
   "cell_type": "markdown",
   "metadata": {
    "slideshow": {
     "slide_type": "slide"
    }
   },
   "source": [
    "### Na przykład"
   ]
  },
  {
   "cell_type": "code",
   "execution_count": 6,
   "metadata": {
    "slideshow": {
     "slide_type": "fragment"
    }
   },
   "outputs": [
    {
     "name": "stdout",
     "output_type": "stream",
     "text": [
      "Błąd systemu: [Errno 2] No such file or directory: 'plik.txt'\n"
     ]
    }
   ],
   "source": [
    "import sys\n",
    "try:\n",
    "    f = open(\"plik.txt\")\n",
    "    s = f.readline()\n",
    "    i = int(s.strip())  # Usuń spacje\n",
    "    print(i)\n",
    "except OSError as err:\n",
    "    print(\"Błąd systemu: {0}\".format(err))\n",
    "except ValueError:\n",
    "    print(\"Nie można dokonać konwersji.\")\n",
    "except:     # PEP 8: E722 nie używaj pustego 'except'\n",
    "    print(\"Nieoczekiwany wyjątek:\", sys.exc_info()[0])\n",
    "    raise"
   ]
  },
  {
   "cell_type": "markdown",
   "metadata": {
    "slideshow": {
     "slide_type": "slide"
    }
   },
   "source": [
    "### Słowo kluczowe `else`"
   ]
  },
  {
   "cell_type": "markdown",
   "metadata": {
    "slideshow": {
     "slide_type": "fragment"
    }
   },
   "source": [
    "* Do struktury\\\n",
    "`try\n",
    "except`\\\n",
    "można dodać również słowo kluczowe `else`, które wykona kod, tylko wtedy gdy nie pojawi się wyjątek\n",
    "* Innymi słowy możesz użyć słowa kluczowego `else`, aby zdefiniować blok kodu do wykonania, jeśli nie zostaną zgłoszone żadne błędy\n",
    "* Struktury tej można użyć np.: przy otwieraniu plików"
   ]
  },
  {
   "cell_type": "markdown",
   "metadata": {
    "slideshow": {
     "slide_type": "slide"
    }
   },
   "source": [
    "### Przykład"
   ]
  },
  {
   "cell_type": "code",
   "execution_count": 9,
   "metadata": {
    "slideshow": {
     "slide_type": "fragment"
    }
   },
   "outputs": [
    {
     "name": "stdout",
     "output_type": "stream",
     "text": [
      "Dzień dobry\n",
      "Nic nie poszło źle\n"
     ]
    }
   ],
   "source": [
    "try:\n",
    "    print(\"Dzień dobry\")\n",
    "except:\n",
    "    print(\"Coś poszło nie tak\")\n",
    "else:\n",
    "    print(\"Nic nie poszło źle\")"
   ]
  },
  {
   "cell_type": "markdown",
   "metadata": {
    "slideshow": {
     "slide_type": "slide"
    }
   },
   "source": [
    "### Słowo kluczowe `finally`"
   ]
  },
  {
   "cell_type": "markdown",
   "metadata": {
    "slideshow": {
     "slide_type": "slide"
    }
   },
   "source": [
    "* Do struktury\\\n",
    "`try\n",
    "except`\\\n",
    "można również dodać słowo kluczowe `finally`, które wskaże blok, który zawsze zostanie wykonany niezależnie od tego:\n",
    "  * Czy wyjątek się pojawi\n",
    "  * Czy nie\n",
    "\n",
    "```python\n",
    "try:\n",
    "    operacja_która_może_wyrzucić_ioerror()\n",
    "except IOError:\n",
    "    obsłuż_jakoś_wyjątek()\n",
    "else:    # nie chcemy złapać IOError, jeśli jest podniesiony\n",
    "    kolejna_operacja_która_może_wyrzucić_ioerror()\n",
    "finally:\n",
    "    coś_co_my_zawsze_trzeba_zrobić()\n",
    "```"
   ]
  },
  {
   "cell_type": "markdown",
   "metadata": {
    "slideshow": {
     "slide_type": "slide"
    }
   },
   "source": [
    "* Innymi słowy, blok `finally`, jeśli został określony, zostanie wykonany niezależnie od tego, czy blok `try` wywoła błąd, czy nie"
   ]
  },
  {
   "cell_type": "markdown",
   "metadata": {
    "slideshow": {
     "slide_type": "slide"
    }
   },
   "source": [
    "### Przykład"
   ]
  },
  {
   "cell_type": "code",
   "execution_count": 12,
   "metadata": {
    "slideshow": {
     "slide_type": "fragment"
    }
   },
   "outputs": [
    {
     "name": "stdout",
     "output_type": "stream",
     "text": [
      "x\n",
      "Klauzula „try except” jest zakończona\n"
     ]
    }
   ],
   "source": [
    "try:\n",
    "    print(\"x\")\n",
    "except:\n",
    "    print(\"Coś poszło nie tak\")\n",
    "finally:\n",
    "    print(\"Klauzula „try except” jest zakończona\")"
   ]
  },
  {
   "cell_type": "markdown",
   "metadata": {
    "slideshow": {
     "slide_type": "slide"
    }
   },
   "source": [
    "### Podnieś wyjątek"
   ]
  },
  {
   "cell_type": "markdown",
   "metadata": {
    "slideshow": {
     "slide_type": "fragment"
    }
   },
   "source": [
    "* Jako programista Pythona możesz zgłosić wyjątek, jeśli wystąpi warunek\n",
    "* Aby zgłosić (lub podnieść) wyjątek, użyj słowa kluczowego `raise`\n",
    "* Słowo kluczowe `raise` jest używane do zgłaszania wyjątku\n",
    "* Możesz zdefiniować rodzaj błędu, który należy zgłosić, oraz tekst do wydrukowania dla użytkownika\n",
    "* Przykłady:\n",
    "  1. Wywołaj błąd i zatrzymaj program, jeśli `x` jest mniejsze niż `0`\n",
    "  1. Podnieś `TypeError`, jeśli `x` nie jest liczbą całkowitą (`int`)"
   ]
  },
  {
   "cell_type": "markdown",
   "metadata": {
    "slideshow": {
     "slide_type": "slide"
    }
   },
   "source": [
    "### Przykład 1"
   ]
  },
  {
   "cell_type": "code",
   "execution_count": 15,
   "metadata": {
    "slideshow": {
     "slide_type": "fragment"
    }
   },
   "outputs": [
    {
     "ename": "Exception",
     "evalue": "Przepraszamy, brak liczb poniżej zera",
     "output_type": "error",
     "traceback": [
      "\u001b[0;31m---------------------------------------------------------------------------\u001b[0m",
      "\u001b[0;31mException\u001b[0m                                 Traceback (most recent call last)",
      "\u001b[0;32m/var/folders/_p/66rl240s45j0d661qs7f096c0000gn/T/ipykernel_68704/1199129598.py\u001b[0m in \u001b[0;36m<module>\u001b[0;34m\u001b[0m\n\u001b[1;32m      2\u001b[0m \u001b[0;34m\u001b[0m\u001b[0m\n\u001b[1;32m      3\u001b[0m \u001b[0;32mif\u001b[0m \u001b[0mx\u001b[0m \u001b[0;34m<\u001b[0m \u001b[0;36m0\u001b[0m\u001b[0;34m:\u001b[0m\u001b[0;34m\u001b[0m\u001b[0;34m\u001b[0m\u001b[0m\n\u001b[0;32m----> 4\u001b[0;31m     \u001b[0;32mraise\u001b[0m \u001b[0mException\u001b[0m\u001b[0;34m(\u001b[0m\u001b[0;34m\"Przepraszamy, brak liczb poniżej zera\"\u001b[0m\u001b[0;34m)\u001b[0m\u001b[0;34m\u001b[0m\u001b[0;34m\u001b[0m\u001b[0m\n\u001b[0m",
      "\u001b[0;31mException\u001b[0m: Przepraszamy, brak liczb poniżej zera"
     ]
    }
   ],
   "source": [
    "x = -1\n",
    "\n",
    "if x < 0:\n",
    "    raise Exception(\"Przepraszamy, brak liczb poniżej zera\")"
   ]
  },
  {
   "cell_type": "markdown",
   "metadata": {
    "slideshow": {
     "slide_type": "slide"
    }
   },
   "source": [
    "### Przykład 2"
   ]
  },
  {
   "cell_type": "code",
   "execution_count": 18,
   "metadata": {
    "slideshow": {
     "slide_type": "fragment"
    }
   },
   "outputs": [
    {
     "ename": "TypeError",
     "evalue": "Dozwolone są tylko liczby całkowite",
     "output_type": "error",
     "traceback": [
      "\u001b[0;31m---------------------------------------------------------------------------\u001b[0m",
      "\u001b[0;31mTypeError\u001b[0m                                 Traceback (most recent call last)",
      "\u001b[0;32m/var/folders/_p/66rl240s45j0d661qs7f096c0000gn/T/ipykernel_68704/231364070.py\u001b[0m in \u001b[0;36m<module>\u001b[0;34m\u001b[0m\n\u001b[1;32m      3\u001b[0m \u001b[0;34m\u001b[0m\u001b[0m\n\u001b[1;32m      4\u001b[0m \u001b[0;32mif\u001b[0m \u001b[0;32mnot\u001b[0m \u001b[0mtype\u001b[0m\u001b[0;34m(\u001b[0m\u001b[0mx\u001b[0m\u001b[0;34m)\u001b[0m \u001b[0;32mis\u001b[0m \u001b[0mint\u001b[0m\u001b[0;34m:\u001b[0m\u001b[0;34m\u001b[0m\u001b[0;34m\u001b[0m\u001b[0m\n\u001b[0;32m----> 5\u001b[0;31m     \u001b[0;32mraise\u001b[0m \u001b[0mTypeError\u001b[0m\u001b[0;34m(\u001b[0m\u001b[0;34m\"Dozwolone są tylko liczby całkowite\"\u001b[0m\u001b[0;34m)\u001b[0m\u001b[0;34m\u001b[0m\u001b[0;34m\u001b[0m\u001b[0m\n\u001b[0m",
      "\u001b[0;31mTypeError\u001b[0m: Dozwolone są tylko liczby całkowite"
     ]
    }
   ],
   "source": [
    "# x = 1\n",
    "x = \"dzień dobry\"\n",
    "\n",
    "if not type(x) is int:\n",
    "    raise TypeError(\"Dozwolone są tylko liczby całkowite\")"
   ]
  },
  {
   "cell_type": "markdown",
   "metadata": {
    "slideshow": {
     "slide_type": "slide"
    }
   },
   "source": [
    "## Ćwiczenia"
   ]
  },
  {
   "cell_type": "markdown",
   "metadata": {
    "slideshow": {
     "slide_type": "slide"
    }
   },
   "source": [
    "### Błędy i wyjątki"
   ]
  },
  {
   "cell_type": "markdown",
   "metadata": {
    "slideshow": {
     "slide_type": "slide"
    }
   },
   "source": [
    "#### Ćwiczenie"
   ]
  },
  {
   "cell_type": "markdown",
   "metadata": {
    "slideshow": {
     "slide_type": "fragment"
    }
   },
   "source": [
    "Podczas pisania funkcji najlepiej jest przeprowadzić walidację liczb.\n",
    "\n",
    "Jeśli użytkownicy wprowadzą tekst, pojawi się błąd podczas próby konwersji na `int`.\n",
    "\n",
    "Napisz program, który poprosi użytkownika o podanie dwóch liczb.\n",
    "\n",
    "Dodaj i wydrukuj wynik.\n",
    "\n",
    "Jeśli nie zostanie wprowadzona liczba, zwróć komunikat o błędzie i poproś ponownie."
   ]
  },
  {
   "cell_type": "markdown",
   "metadata": {
    "slideshow": {
     "slide_type": "slide"
    }
   },
   "source": [
    "#### Rozwiązanie"
   ]
  },
  {
   "cell_type": "code",
   "execution_count": null,
   "metadata": {
    "slideshow": {
     "slide_type": "fragment"
    }
   },
   "outputs": [],
   "source": [
    "while True:\n",
    "    try:\n",
    "        num1 = int(input(\"Numer 1: \"))\n",
    "        num2 = int(input(\"Numer 2: \"))\n",
    "        print(\"W sumie jest {}\".format(num1 + num2))\n",
    "        break\n",
    "    except ValueError:\n",
    "        print(\"Wprowadź dane liczbowe\")"
   ]
  },
  {
   "cell_type": "markdown",
   "metadata": {
    "slideshow": {
     "slide_type": "slide"
    }
   },
   "source": [
    "### Wyjątek `ZeroDivisionError` z instrukcjami `try except`"
   ]
  },
  {
   "cell_type": "markdown",
   "metadata": {
    "slideshow": {
     "slide_type": "slide"
    }
   },
   "source": [
    "#### Ćwiczenie"
   ]
  },
  {
   "cell_type": "markdown",
   "metadata": {
    "slideshow": {
     "slide_type": "fragment"
    }
   },
   "source": [
    "Podziel przez siebie dwie liczby\n",
    "\n",
    "Umieść:\n",
    "\n",
    "```python\n",
    "result = \"Nie możesz podzielić przez 0\"\n",
    "```\n",
    "\n",
    "we właściwym miejscu, aby program uniknął `ZeroDivisionError`\n",
    "\n",
    "* Podpowiedź 1: Po prostu umieść przypisanie wartości dla wyniku po linii `Except`\n",
    "* Podpowiedź 2: Zwróć uwagę na wcięcia"
   ]
  },
  {
   "cell_type": "markdown",
   "metadata": {
    "slideshow": {
     "slide_type": "slide"
    }
   },
   "source": [
    "#### Rozwiązanie"
   ]
  },
  {
   "cell_type": "code",
   "execution_count": null,
   "metadata": {
    "slideshow": {
     "slide_type": "fragment"
    }
   },
   "outputs": [],
   "source": [
    "a = 5\n",
    "b = 0\n",
    "try:\n",
    "    result = a / b\n",
    "except ZeroDivisionError:\n",
    "    result = \"Nie możesz podzielić przez 0\"\n",
    "\n",
    "print(result)"
   ]
  },
  {
   "cell_type": "markdown",
   "metadata": {
    "slideshow": {
     "slide_type": "slide"
    }
   },
   "source": [
    "### Polecenie `except`, który nic nie robi"
   ]
  },
  {
   "cell_type": "markdown",
   "metadata": {
    "slideshow": {
     "slide_type": "slide"
    }
   },
   "source": [
    "#### Ćwiczenie"
   ]
  },
  {
   "cell_type": "markdown",
   "metadata": {
    "slideshow": {
     "slide_type": "fragment"
    }
   },
   "source": [
    "Napisz dowolny kod.\n",
    "\n",
    "Wychwyć w nim wyjątek, ale nic nie rób."
   ]
  },
  {
   "cell_type": "markdown",
   "metadata": {
    "slideshow": {
     "slide_type": "slide"
    }
   },
   "source": [
    "#### Rozwiązanie"
   ]
  },
  {
   "cell_type": "code",
   "execution_count": null,
   "metadata": {
    "slideshow": {
     "slide_type": "fragment"
    }
   },
   "outputs": [],
   "source": [
    "a = [1, 3, 5]\n",
    "try:\n",
    "    a.get()  # zwraca wartość pozycji z określonym kluczem\n",
    "except:\n",
    "    pass\n",
    "\n",
    "print(a)"
   ]
  },
  {
   "cell_type": "markdown",
   "metadata": {
    "slideshow": {
     "slide_type": "slide"
    }
   },
   "source": [
    "### Wyjątek `Exception` z instrukcjami `try except`"
   ]
  },
  {
   "cell_type": "markdown",
   "metadata": {
    "slideshow": {
     "slide_type": "slide"
    }
   },
   "source": [
    "#### Ćwiczenie"
   ]
  },
  {
   "cell_type": "markdown",
   "metadata": {
    "slideshow": {
     "slide_type": "fragment"
    }
   },
   "source": [
    "Spróbuj dodać `int` do ciągu.\n",
    "\n",
    "Umieść:\n",
    "\n",
    "```python\n",
    "msg = \"Nie możesz dodać int do string\"\n",
    "```\n",
    "\n",
    "aby program uniknął błędu `BaseException`.\n",
    "\n",
    "Możesz użyć wyjątku `Exception`, chociaż zwykle powinno się ostrożnie używać tak potężnych instrukcji wyjątków."
   ]
  },
  {
   "cell_type": "markdown",
   "metadata": {
    "slideshow": {
     "slide_type": "slide"
    }
   },
   "source": [
    "#### Rozwiązanie"
   ]
  },
  {
   "cell_type": "code",
   "execution_count": null,
   "metadata": {
    "slideshow": {
     "slide_type": "fragment"
    }
   },
   "outputs": [],
   "source": [
    "a = \"Hello World!\"\n",
    "try:\n",
    "    a + 10\n",
    "except Exception:  # Zbyt szeroka klauzula wyjątku\n",
    "    msg = \"Nie możesz dodać int do string\"\n",
    "    \n",
    "print(msg)"
   ]
  },
  {
   "cell_type": "markdown",
   "metadata": {
    "slideshow": {
     "slide_type": "slide"
    }
   },
   "source": [
    "### Wyjątek `IndexError` w instrukcjach `try except`"
   ]
  },
  {
   "cell_type": "markdown",
   "metadata": {
    "slideshow": {
     "slide_type": "slide"
    }
   },
   "source": [
    "#### Ćwiczenie"
   ]
  },
  {
   "cell_type": "markdown",
   "metadata": {
    "slideshow": {
     "slide_type": "fragment"
    }
   },
   "source": [
    "Stwórz trójelementową listę.\n",
    "\n",
    "Spróbuj wydrukować piąty element.\n",
    "\n",
    "Umieść:\n",
    "\n",
    "```python\n",
    "msg = \"Jesteś poza zakresem listy\"\n",
    "```\n",
    "\n",
    "aby uniknąć wyjątku `IndexError`."
   ]
  },
  {
   "cell_type": "markdown",
   "metadata": {
    "slideshow": {
     "slide_type": "slide"
    }
   },
   "source": [
    "#### Rozwiązanie"
   ]
  },
  {
   "cell_type": "code",
   "execution_count": null,
   "metadata": {
    "slideshow": {
     "slide_type": "fragment"
    }
   },
   "outputs": [],
   "source": [
    "lst = [5, 10, 20]\n",
    "\n",
    "try:\n",
    "    print(lst[5])\n",
    "except IndexError as error:\n",
    "    msg = \"Jesteś poza zakresem listy (\" + str(error) + \")\"\n",
    "    print(msg)"
   ]
  },
  {
   "cell_type": "markdown",
   "metadata": {
    "slideshow": {
     "slide_type": "slide"
    }
   },
   "source": [
    "### Słowo kluczowe `else`"
   ]
  },
  {
   "cell_type": "markdown",
   "metadata": {
    "slideshow": {
     "slide_type": "slide"
    }
   },
   "source": [
    "#### Ćwiczenie"
   ]
  },
  {
   "cell_type": "markdown",
   "metadata": {
    "slideshow": {
     "slide_type": "fragment"
    }
   },
   "source": [
    "Spróbuj otworzyć do czytania plik (podpowiedź: `f = open(arg, \"r\")`).\n",
    "\n",
    "W razie braku możliwości otwarcia pliku, obsłuż wyjątek.\n",
    "\n",
    "W przeciwnym przypadku wypisz:\n",
    "\n",
    "* Nazwę pliku;\n",
    "* Liczbę wierszy (podpowiedź: `len(f.readlines()`).\n",
    "\n",
    "Na koniec zamknij ten plik (podpowiedź: `f.close()`)."
   ]
  },
  {
   "cell_type": "markdown",
   "metadata": {
    "slideshow": {
     "slide_type": "slide"
    }
   },
   "source": [
    "#### Rozwiązanie"
   ]
  },
  {
   "cell_type": "code",
   "execution_count": null,
   "metadata": {
    "slideshow": {
     "slide_type": "slide"
    }
   },
   "outputs": [],
   "source": [
    "arg = \"nieistniejacy_plik\"\n",
    "try:\n",
    "    f = open(arg, \"r\")\n",
    "except IOError:\n",
    "    print(\"Nie mogę otworzyć {}\".format(arg))\n",
    "else:\n",
    "    print(\" {} ma {} wierszy\".format(arg, len(f.readlines())))\n",
    "    f.close()"
   ]
  },
  {
   "cell_type": "code",
   "execution_count": null,
   "metadata": {
    "slideshow": {
     "slide_type": "slide"
    }
   },
   "outputs": [],
   "source": [
    "arg = \"07 Python (podstawy) - wyjątki.ipynb\"\n",
    "try:\n",
    "    f = open(arg, \"r\")\n",
    "except IOError:\n",
    "    print(\"Nie mogę otworzyć {}\".format(arg))\n",
    "else:\n",
    "    print(\" {} ma {} wierszy\".format(arg, len(f.readlines())))\n",
    "    f.close()"
   ]
  },
  {
   "cell_type": "markdown",
   "metadata": {
    "slideshow": {
     "slide_type": "slide"
    }
   },
   "source": [
    "### Słowo kluczowe `finally`"
   ]
  },
  {
   "cell_type": "markdown",
   "metadata": {
    "slideshow": {
     "slide_type": "slide"
    }
   },
   "source": [
    "#### Ćwiczenie"
   ]
  },
  {
   "cell_type": "markdown",
   "metadata": {
    "slideshow": {
     "slide_type": "fragment"
    }
   },
   "source": [
    "Użyj `finally` do zamykania obiektów i czyszczenia zasobów.\n",
    "\n",
    "Spróbuj otworzyć i zapisać (podpowiedź: `write`) w pliku, którego nie można zapisać.\n",
    "\n",
    "Zapewnij, aby program mógł kontynuować bez pozostawiania otwartego obiektu pliku."
   ]
  },
  {
   "cell_type": "markdown",
   "metadata": {
    "slideshow": {
     "slide_type": "slide"
    }
   },
   "source": [
    "#### Rozwiązanie"
   ]
  },
  {
   "cell_type": "code",
   "execution_count": null,
   "metadata": {
    "slideshow": {
     "slide_type": "fragment"
    }
   },
   "outputs": [],
   "source": [
    "try:\n",
    "    f = open(\"demofile.txt\", \"r\")\n",
    "    f.write(\"Lorum Ipsum\")\n",
    "except:\n",
    "    print(\"Coś poszło nie tak podczas zapisywania do pliku\")\n",
    "finally:\n",
    "    f.close()"
   ]
  },
  {
   "cell_type": "markdown",
   "metadata": {
    "slideshow": {
     "slide_type": "slide"
    }
   },
   "source": [
    "#### Ćwiczenie"
   ]
  },
  {
   "cell_type": "markdown",
   "metadata": {
    "slideshow": {
     "slide_type": "fragment"
    }
   },
   "source": [
    "Napisz funkcję dzielącą jej argument pierwszy przez drugi.\n",
    "\n",
    "Spróbuj wykonać działanie i zwrócić wynik.\n",
    "\n",
    "W przypadku błędu dzielenia przez zero, wypisz komunikat o błędzie.\n",
    "\n",
    "Wypisz komunikat, który zawsze się wypisze.\n",
    "\n",
    "Wywołaj funkcję z różnymi argumentami."
   ]
  },
  {
   "cell_type": "markdown",
   "metadata": {
    "slideshow": {
     "slide_type": "slide"
    }
   },
   "source": [
    "#### Rozwiązanie"
   ]
  },
  {
   "cell_type": "code",
   "execution_count": null,
   "metadata": {
    "slideshow": {
     "slide_type": "fragment"
    }
   },
   "outputs": [],
   "source": [
    "def divide(a, b):\n",
    "    try:\n",
    "        c = a / b\n",
    "        return c\n",
    "    except ZeroDivisionError:\n",
    "        print(\"Próba dzielenia przez zero\")\n",
    "    finally:\n",
    "        print(\"Zawsze wykonujemy klauzule 'finally'\")\n",
    "\n",
    "print(divide(1, 2))"
   ]
  },
  {
   "cell_type": "markdown",
   "metadata": {
    "slideshow": {
     "slide_type": "slide"
    }
   },
   "source": [
    "#### Ćwiczenie"
   ]
  },
  {
   "cell_type": "markdown",
   "metadata": {
    "slideshow": {
     "slide_type": "fragment"
    }
   },
   "source": [
    "Użyj wszystkie 4 elementy struktury obsługi wyjątków przy otwieraniu plików.\n",
    "\n",
    "Spróbuj otworzyć do czytania plik.\n",
    "\n",
    "W razie braku możliwości otwarcia pliku, obsłuż wyjątek.\n",
    "\n",
    "W przeciwnym przypadku wypisz:\n",
    "\n",
    "* Nazwę pliku;\n",
    "* Liczbę wierszy.\n",
    "\n",
    "Na koniec zamknij ten plik.\n",
    "\n",
    "Jeżeli dany plik nie jest zamknięty (podpowiedź: `f.closed`), to go zamknij."
   ]
  },
  {
   "cell_type": "markdown",
   "metadata": {
    "slideshow": {
     "slide_type": "slide"
    }
   },
   "source": [
    "#### Rozwiązanie"
   ]
  },
  {
   "cell_type": "code",
   "execution_count": null,
   "metadata": {
    "slideshow": {
     "slide_type": "slide"
    }
   },
   "outputs": [],
   "source": [
    "arg = \"nieistniejacy_plik\"\n",
    "try:\n",
    "    f = open(arg, \"r\")\n",
    "except IOError:\n",
    "    print(\"Nie mogę otworzyć {}\".format(arg))\n",
    "else:\n",
    "    print(\" {} ma {} wierszy\".format(arg, len(f.readlines())))\n",
    "    f.close()\n",
    "finally:\n",
    "    if not f.closed:\n",
    "        f.close()"
   ]
  },
  {
   "cell_type": "code",
   "execution_count": null,
   "metadata": {
    "slideshow": {
     "slide_type": "slide"
    }
   },
   "outputs": [],
   "source": [
    "arg = \"07 Python (podstawy) - wyjątki.ipynb\"\n",
    "try:\n",
    "    f = open(arg, \"r\")\n",
    "except IOError:\n",
    "    print(\"Nie mogę otworzyć {}\".format(arg))\n",
    "else:\n",
    "    print(\" {} ma {} wierszy\".format(arg, len(f.readlines())))\n",
    "    f.close()\n",
    "finally:\n",
    "    if not f.closed:\n",
    "        f.close()"
   ]
  },
  {
   "cell_type": "code",
   "execution_count": null,
   "metadata": {
    "slideshow": {
     "slide_type": "skip"
    }
   },
   "outputs": [],
   "source": []
  }
 ],
 "metadata": {
  "celltoolbar": "Slideshow",
  "kernelspec": {
   "display_name": "Python 3 (ipykernel)",
   "language": "python",
   "name": "python3"
  },
  "language_info": {
   "codemirror_mode": {
    "name": "ipython",
    "version": 3
   },
   "file_extension": ".py",
   "mimetype": "text/x-python",
   "name": "python",
   "nbconvert_exporter": "python",
   "pygments_lexer": "ipython3",
   "version": "3.8.11"
  }
 },
 "nbformat": 4,
 "nbformat_minor": 4
}
