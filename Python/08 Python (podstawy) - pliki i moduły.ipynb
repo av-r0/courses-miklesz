{
 "cells": [
  {
   "cell_type": "markdown",
   "metadata": {
    "slideshow": {
     "slide_type": "slide"
    }
   },
   "source": [
    "# Python (podstawy) - pliki i moduły\n",
    "_Mikołaj Leszczuk_\n",
    "![](https://inventyourshit.com/wp-content/uploads/2020/11/4lmoe3.jpg)"
   ]
  },
  {
   "cell_type": "markdown",
   "metadata": {
    "slideshow": {
     "slide_type": "slide"
    }
   },
   "source": [
    "## Konspekt"
   ]
  },
  {
   "cell_type": "markdown",
   "metadata": {
    "slideshow": {
     "slide_type": "slide"
    }
   },
   "source": [
    "* Operacje na plikach\n",
    "  * Otwieranie i czytanie\n",
    "  * Zapis do pliku\n",
    "  * Zamykanie pliku\n",
    "  * Zautomatyzowany dostęp do pliku"
   ]
  },
  {
   "cell_type": "markdown",
   "metadata": {
    "slideshow": {
     "slide_type": "subslide"
    }
   },
   "source": [
    "* Moduły i biblioteki\n",
    "  * Import modułu\n",
    "    * Wyszukiwanie modułów\n",
    "  * Używanie modułu jako skryptu\n",
    "    * Instalowanie dodatkowych modułów\n",
    "      * Instalacja przy użyciu PyPI\n",
    "      * Instalacja przy użyciu Conda"
   ]
  },
  {
   "cell_type": "markdown",
   "metadata": {
    "slideshow": {
     "slide_type": "slide"
    }
   },
   "source": [
    "## Operacje na plikach"
   ]
  },
  {
   "cell_type": "markdown",
   "metadata": {
    "slideshow": {
     "slide_type": "slide"
    }
   },
   "source": [
    "### Otwieranie i czytanie"
   ]
  },
  {
   "cell_type": "markdown",
   "metadata": {
    "slideshow": {
     "slide_type": "fragment"
    }
   },
   "source": [
    "```python\n",
    "f = open('write_file_name', 'w')\n",
    "f = open('append_file_name', 'a')\n",
    "f = open('read_file_name', 'r')\n",
    "\n",
    "f.read()\n",
    "\n",
    "f.readline()\n",
    "```"
   ]
  },
  {
   "cell_type": "markdown",
   "metadata": {
    "slideshow": {
     "slide_type": "slide"
    }
   },
   "source": [
    "### Zapis do pliku"
   ]
  },
  {
   "cell_type": "markdown",
   "metadata": {
    "slideshow": {
     "slide_type": "fragment"
    }
   },
   "source": [
    "```python\n",
    "f.write('Witaj\\n’) \n",
    "value = 42 \n",
    "f.write(value) \n",
    "\n",
    ">>>Traceback (most recent call last): \n",
    ">>> File \"<stdin>\", line 1, in <module> \n",
    ">>>TypeError: must be str, not int \n",
    "\n",
    "s = str(value) \n",
    "f.write(s)\n",
    "```"
   ]
  },
  {
   "cell_type": "markdown",
   "metadata": {
    "slideshow": {
     "slide_type": "slide"
    }
   },
   "source": [
    "### Zamykanie pliku"
   ]
  },
  {
   "cell_type": "markdown",
   "metadata": {
    "slideshow": {
     "slide_type": "fragment"
    }
   },
   "source": [
    "```python\n",
    "f.close()\n",
    "```"
   ]
  },
  {
   "cell_type": "markdown",
   "metadata": {
    "slideshow": {
     "slide_type": "slide"
    }
   },
   "source": [
    "### Poruszamy się po plikach – seek"
   ]
  },
  {
   "cell_type": "markdown",
   "metadata": {
    "slideshow": {
     "slide_type": "subslide"
    }
   },
   "source": [
    "* Metoda pliku Pythona\n",
    "```python\n",
    "fileObject.seek(offset[, whence])\n",
    "```\n",
    "ustawia aktualną pozycję pliku na przesunięcie\n",
    "* Argument `whence` jest opcjonalny:\n",
    "  * `0` – oznacza bezwzględne pozycjonowanie pliku (taką przyjmuje wartość domyślną)\n",
    "  * `1` – oznacza szukanie względem bieżącej pozycji\n",
    "  * `2` – oznacza szukanie względem końca pliku\n",
    "```python\n",
    "f.seek(0) # na początek\n",
    "f.seek(0, 2) # na koniec\n",
    "```"
   ]
  },
  {
   "cell_type": "markdown",
   "metadata": {
    "slideshow": {
     "slide_type": "slide"
    }
   },
   "source": [
    "### Przykład"
   ]
  },
  {
   "cell_type": "markdown",
   "metadata": {
    "slideshow": {
     "slide_type": "subslide"
    }
   },
   "source": [
    "`text.txt`:\n",
    "```\n",
    "Co to jest język Python?\n",
    "Python jest szeroko stosowanym dynamicznym językiem programowania wysokiego poziomu, ogólnego przeznaczenia. Jego filozofia projektowania kładzie nacisk na czytelność kodu, a jego składnia pozwala programistom na wyrażanie koncepcji w mniejszej liczbie wierszy kodu niż jest to możliwe w językach takich jak C++ lub Java.\n",
    "Python obsługuje wiele paradygmatów programowania, w tym programowanie obiektowe, imperatywne i funkcjonalne oraz style proceduralne. Posiada dynamiczny system typów i automatyczne zarządzanie pamięcią oraz dużą i wszechstronną bibliotekę standardową.\n",
    "Najlepszym sposobem nauki języka Python są ćwiczenia i pytania z ćwiczeniami.\n",
    "```"
   ]
  },
  {
   "cell_type": "code",
   "execution_count": 3,
   "metadata": {
    "scrolled": true,
    "slideshow": {
     "slide_type": "subslide"
    }
   },
   "outputs": [
    {
     "name": "stdout",
     "output_type": "stream",
     "text": [
      "Nazwa pliku:  text.txt\n",
      "Czytaj linię: >Co to jest język Python?\n",
      "<\n",
      "Czytaj linię: >Co to jest język Python?\n",
      "<\n"
     ]
    }
   ],
   "source": [
    "# Otwórz plik\n",
    "fo = open(\"text.txt\", \"r\")\n",
    "print(\"Nazwa pliku: \", fo.name)\n",
    "\n",
    "line = fo.readline()\n",
    "print(\"Czytaj linię: >\" + line + \"<\")\n",
    "\n",
    "# Ponownie ustaw wskaźnik na początek\n",
    "fo.seek(0, 0)  # fo.seek(0)\n",
    "line = fo.readline()\n",
    "print(\"Czytaj linię: >\" + line + \"<\")\n",
    "\n",
    "# Zamknij otwarty plik\n",
    "fo.close()"
   ]
  },
  {
   "cell_type": "markdown",
   "metadata": {
    "slideshow": {
     "slide_type": "slide"
    }
   },
   "source": [
    "### Poruszamy się po plikach – tell"
   ]
  },
  {
   "cell_type": "markdown",
   "metadata": {
    "slideshow": {
     "slide_type": "fragment"
    }
   },
   "source": [
    "* Metoda pliku Pythona\n",
    "```python\n",
    "fileObject.tell()\n",
    "```\n",
    "zwraca bieżącą pozycję wskaźnika odczytu / zapisu pliku w pliku\n",
    "* Argumentów – brak\n",
    "```python\n",
    "f.tell()\n",
    "```"
   ]
  },
  {
   "cell_type": "markdown",
   "metadata": {
    "slideshow": {
     "slide_type": "slide"
    }
   },
   "source": [
    "### Przykład"
   ]
  },
  {
   "cell_type": "code",
   "execution_count": 4,
   "metadata": {
    "slideshow": {
     "slide_type": "fragment"
    }
   },
   "outputs": [
    {
     "name": "stdout",
     "output_type": "stream",
     "text": [
      "Nazwa pliku:  text.txt\n",
      "Aktualna pozycja: 0\n",
      "Czytaj linię: >Co to jest język Python?\n",
      "<\n",
      "Aktualna pozycja: 26\n"
     ]
    }
   ],
   "source": [
    "# Otwórz plik\n",
    "fo = open(\"text.txt\", \"r\")\n",
    "print(\"Nazwa pliku: \", fo.name)\n",
    "\n",
    "# Uzyskaj aktualną pozycję pliku.\n",
    "pos = fo.tell()\n",
    "print(\"Aktualna pozycja: \" + str(pos))\n",
    "\n",
    "line = fo.readline()\n",
    "print(\"Czytaj linię: >\" + line + \"<\")\n",
    "\n",
    "# Uzyskaj aktualną pozycję pliku.\n",
    "pos = fo.tell()\n",
    "print(\"Aktualna pozycja: \" + str(pos))\n",
    "\n",
    "# Zamknij otwarty plik\n",
    "fo.close()"
   ]
  },
  {
   "cell_type": "markdown",
   "metadata": {
    "slideshow": {
     "slide_type": "slide"
    }
   },
   "source": [
    "## Ćwiczenia"
   ]
  },
  {
   "cell_type": "markdown",
   "metadata": {
    "slideshow": {
     "slide_type": "slide"
    }
   },
   "source": [
    "### Odczytywanie i wyświetlanie całego pliku tekstowego"
   ]
  },
  {
   "cell_type": "markdown",
   "metadata": {
    "slideshow": {
     "slide_type": "slide"
    }
   },
   "source": [
    "#### Ćwiczenie"
   ]
  },
  {
   "cell_type": "markdown",
   "metadata": {
    "slideshow": {
     "slide_type": "fragment"
    }
   },
   "source": [
    "Napisz program w Pythonie, aby odczytać i wyświetlić cały plik tekstowy."
   ]
  },
  {
   "cell_type": "markdown",
   "metadata": {
    "slideshow": {
     "slide_type": "slide"
    }
   },
   "source": [
    "#### Rozwiązanie"
   ]
  },
  {
   "cell_type": "code",
   "execution_count": 5,
   "metadata": {
    "slideshow": {
     "slide_type": "fragment"
    }
   },
   "outputs": [
    {
     "name": "stdout",
     "output_type": "stream",
     "text": [
      "Co to jest język Python?\n",
      "Python jest szeroko stosowanym dynamicznym językiem programowania wysokiego poziomu, ogólnego przeznaczenia. Jego filozofia projektowania kładzie nacisk na czytelność kodu, a jego składnia pozwala programistom na wyrażanie koncepcji w mniejszej liczbie wierszy kodu niż jest to możliwe w językach takich jak C++ lub Java.\n",
      "Python obsługuje wiele paradygmatów programowania, w tym programowanie obiektowe, imperatywne i funkcjonalne oraz style proceduralne. Posiada dynamiczny system typów i automatyczne zarządzanie pamięcią oraz dużą i wszechstronną bibliotekę standardową.\n",
      "Najlepszym sposobem nauki języka Python są ćwiczenia i pytania z ćwiczeniami.\n"
     ]
    }
   ],
   "source": [
    "def file_read(fname):\n",
    "    txt = open(fname)\n",
    "    print(txt.read())\n",
    "    \n",
    "\n",
    "file_read('text.txt')"
   ]
  },
  {
   "cell_type": "markdown",
   "metadata": {
    "slideshow": {
     "slide_type": "slide"
    }
   },
   "source": [
    "### Odczytywanie pliku wiersz po wierszu i zapisywanie go na liście"
   ]
  },
  {
   "cell_type": "markdown",
   "metadata": {
    "slideshow": {
     "slide_type": "slide"
    }
   },
   "source": [
    "#### Ćwiczenie"
   ]
  },
  {
   "cell_type": "markdown",
   "metadata": {
    "slideshow": {
     "slide_type": "fragment"
    }
   },
   "source": [
    "Napisz program w Pythonie, który odczyta plik tekstowy wiersz po wierszu i zapisze go na liście `content_list`.\n",
    "\n",
    "`content_list` to lista zawierająca przeczytane wiersze.\n",
    "\n",
    "Możesz skorzystać z podpowiedzi (podanej dalej)."
   ]
  },
  {
   "cell_type": "markdown",
   "metadata": {
    "slideshow": {
     "slide_type": "slide"
    }
   },
   "source": [
    "#### Podpowiedź"
   ]
  },
  {
   "cell_type": "markdown",
   "metadata": {
    "slideshow": {
     "slide_type": "fragment"
    }
   },
   "source": [
    "Instrukcja `with` w Pythonie jest używana w obsłudze wyjątków, aby kod był czystszy i bardziej czytelny. Upraszcza zarządzanie wspólnymi zasobami, takimi jak strumienie plików. Zwróć uwagę na następujący przykład kodu, w jaki sposób użycie instrukcji `with` sprawia, że kod jest czystszy."
   ]
  },
  {
   "cell_type": "code",
   "execution_count": 6,
   "metadata": {
    "slideshow": {
     "slide_type": "subslide"
    }
   },
   "outputs": [],
   "source": [
    "# obsługa plików"
   ]
  },
  {
   "cell_type": "code",
   "execution_count": 7,
   "metadata": {
    "slideshow": {
     "slide_type": "fragment"
    }
   },
   "outputs": [],
   "source": [
    "# 1) bez użycia instrukcji with\n",
    "file = open('file_path', 'w')\n",
    "file.write('hello world !')\n",
    "file.close()"
   ]
  },
  {
   "cell_type": "code",
   "execution_count": 8,
   "metadata": {
    "slideshow": {
     "slide_type": "fragment"
    }
   },
   "outputs": [],
   "source": [
    "# 2) bez użycia instrukcji with\n",
    "file = open('file_path', 'w')\n",
    "try:\n",
    "    file.write('hello world')\n",
    "finally:\n",
    "    file.close()"
   ]
  },
  {
   "cell_type": "code",
   "execution_count": 9,
   "metadata": {
    "slideshow": {
     "slide_type": "fragment"
    }
   },
   "outputs": [],
   "source": [
    "# używanie instrukcji with\n",
    "with open('file_path', 'w') as file:\n",
    "\tfile.write('hello world !')"
   ]
  },
  {
   "cell_type": "markdown",
   "metadata": {
    "slideshow": {
     "slide_type": "subslide"
    }
   },
   "source": [
    "Zauważ, że w przeciwieństwie do pierwszych dwóch implementacji, nie ma potrzeby wywoływania `file.close()` podczas używania instrukcji `with`. Sama instrukcja `with` zapewnia właściwe pozyskiwanie i uwalnianie zasobów. Wyjątek podczas wywołania `file` w pierwszej implementacji może uniemożliwić poprawne zamknięcie pliku, co może wprowadzić kilka błędów w kodzie, np. wiele zmian w plikach nie będzie obowiązywać, dopóki plik nie zostanie poprawnie zamknięty."
   ]
  },
  {
   "cell_type": "markdown",
   "metadata": {
    "slideshow": {
     "slide_type": "subslide"
    }
   },
   "source": [
    "Drugie podejście w powyższym przykładzie zajmuje się wszystkimi wyjątkami, ale użycie instrukcji with sprawia, że kod jest zwarty i znacznie bardziej czytelny. W ten sposób instrukcja `with` pomaga uniknąć błędów i wycieków, zapewniając, że zasób zostanie prawidłowo wydany, gdy kod korzystający z zasobu zostanie całkowicie wykonany. Instrukcja `with` jest powszechnie używana ze strumieniami plików, jak pokazano powyżej oraz z blokadami, gniazdami, podprocesami i telnetami itp."
   ]
  },
  {
   "cell_type": "markdown",
   "metadata": {
    "slideshow": {
     "slide_type": "slide"
    }
   },
   "source": [
    "#### Rozwiązanie"
   ]
  },
  {
   "cell_type": "code",
   "execution_count": 10,
   "metadata": {
    "slideshow": {
     "slide_type": "fragment"
    }
   },
   "outputs": [
    {
     "name": "stdout",
     "output_type": "stream",
     "text": [
      "['Co to jest język Python?\\n', 'Python jest szeroko stosowanym dynamicznym językiem programowania wysokiego poziomu, ogólnego przeznaczenia. Jego filozofia projektowania kładzie nacisk na czytelność kodu, a jego składnia pozwala programistom na wyrażanie koncepcji w mniejszej liczbie wierszy kodu niż jest to możliwe w językach takich jak C++ lub Java.\\n', 'Python obsługuje wiele paradygmatów programowania, w tym programowanie obiektowe, imperatywne i funkcjonalne oraz style proceduralne. Posiada dynamiczny system typów i automatyczne zarządzanie pamięcią oraz dużą i wszechstronną bibliotekę standardową.\\n', 'Najlepszym sposobem nauki języka Python są ćwiczenia i pytania z ćwiczeniami.']\n"
     ]
    }
   ],
   "source": [
    "def file_read(fname):\n",
    "    with open(fname) as f:\n",
    "        # Content_list to lista zawierająca przeczytane wiersze.\n",
    "        content_list = f.readlines()\n",
    "    print(content_list)\n",
    "        \n",
    "        \n",
    "file_read('text.txt')"
   ]
  },
  {
   "cell_type": "markdown",
   "metadata": {
    "slideshow": {
     "slide_type": "slide"
    }
   },
   "source": [
    "### Odczytywanie wszystkich wierszy pliku i zapisywanie go w zmiennej"
   ]
  },
  {
   "cell_type": "markdown",
   "metadata": {
    "slideshow": {
     "slide_type": "slide"
    }
   },
   "source": [
    "#### Ćwiczenie"
   ]
  },
  {
   "cell_type": "markdown",
   "metadata": {
    "slideshow": {
     "slide_type": "fragment"
    }
   },
   "source": [
    "Napisz program w Pythonie, który odczyta wszystkie wiersze pliku tekstowego, zapisz go w zmiennej."
   ]
  },
  {
   "cell_type": "markdown",
   "metadata": {
    "slideshow": {
     "slide_type": "slide"
    }
   },
   "source": [
    "#### Rozwiązanie"
   ]
  },
  {
   "cell_type": "code",
   "execution_count": null,
   "metadata": {
    "slideshow": {
     "slide_type": "fragment"
    }
   },
   "outputs": [],
   "source": [
    "def file_read(fname):\n",
    "    with open(fname, \"r\") as myfile:\n",
    "        data = myfile.read()\n",
    "        print(data)\n",
    "\n",
    "        \n",
    "file_read('text.txt')"
   ]
  },
  {
   "cell_type": "markdown",
   "metadata": {
    "slideshow": {
     "slide_type": "slide"
    }
   },
   "source": [
    "### Odczytywanie pliku wiersz po wierszu i zapisywanie go w tablicy"
   ]
  },
  {
   "cell_type": "markdown",
   "metadata": {
    "slideshow": {
     "slide_type": "slide"
    }
   },
   "source": [
    "#### Ćwiczenie"
   ]
  },
  {
   "cell_type": "markdown",
   "metadata": {
    "slideshow": {
     "slide_type": "fragment"
    }
   },
   "source": [
    "Napisz program w Pythonie, który odczyta plik tekstowy wiersz po wierszu, zapisz go w tablicy `content_array`.\n",
    "\n",
    "`content_array` to lista zawierająca przeczytane wiersze."
   ]
  },
  {
   "cell_type": "markdown",
   "metadata": {
    "slideshow": {
     "slide_type": "slide"
    }
   },
   "source": [
    "#### Rozwiązanie"
   ]
  },
  {
   "cell_type": "code",
   "execution_count": null,
   "metadata": {
    "slideshow": {
     "slide_type": "fragment"
    }
   },
   "outputs": [],
   "source": [
    "content_array = []\n",
    "with open('text.txt') as f:\n",
    "    # Content_array to lista zawierająca przeczytane wiersze.\n",
    "    for line in f:\n",
    "        content_array.append(line)\n",
    "print(content_array)"
   ]
  },
  {
   "cell_type": "markdown",
   "metadata": {
    "slideshow": {
     "slide_type": "slide"
    }
   },
   "source": [
    "### Znajdywanie najdłuższych słów w pliku"
   ]
  },
  {
   "cell_type": "markdown",
   "metadata": {
    "slideshow": {
     "slide_type": "slide"
    }
   },
   "source": [
    "#### Ćwiczenie"
   ]
  },
  {
   "cell_type": "markdown",
   "metadata": {
    "slideshow": {
     "slide_type": "fragment"
    }
   },
   "source": [
    "Napisz program w Pythonie, który znajdzie najdłuższe słowa w pliku tekstowym."
   ]
  },
  {
   "cell_type": "markdown",
   "metadata": {
    "slideshow": {
     "slide_type": "slide"
    }
   },
   "source": [
    "#### Rozwiązanie"
   ]
  },
  {
   "cell_type": "code",
   "execution_count": 11,
   "metadata": {
    "slideshow": {
     "slide_type": "fragment"
    }
   },
   "outputs": [
    {
     "name": "stdout",
     "output_type": "stream",
     "text": [
      "['przeznaczenia.', 'programowania,']\n"
     ]
    }
   ],
   "source": [
    "def longest_word(filename):\n",
    "    with open(filename, 'r') as infile:\n",
    "        words = infile.read().split()\n",
    "    max_len = len(max(words, key=len))\n",
    "    return [word for word in words if len(word) == max_len]\n",
    "\n",
    "\n",
    "print(longest_word('text.txt'))"
   ]
  },
  {
   "cell_type": "markdown",
   "metadata": {
    "slideshow": {
     "slide_type": "slide"
    }
   },
   "source": [
    "### Zapisywanie listy do pliku"
   ]
  },
  {
   "cell_type": "markdown",
   "metadata": {
    "slideshow": {
     "slide_type": "slide"
    }
   },
   "source": [
    "#### Ćwiczenie"
   ]
  },
  {
   "cell_type": "markdown",
   "metadata": {
    "slideshow": {
     "slide_type": "fragment"
    }
   },
   "source": [
    "Napisz program w Pythonie, który zapisze listę do pliku."
   ]
  },
  {
   "cell_type": "markdown",
   "metadata": {
    "slideshow": {
     "slide_type": "slide"
    }
   },
   "source": [
    "#### Rozwiązanie"
   ]
  },
  {
   "cell_type": "code",
   "execution_count": 12,
   "metadata": {
    "slideshow": {
     "slide_type": "fragment"
    }
   },
   "outputs": [
    {
     "name": "stdout",
     "output_type": "stream",
     "text": [
      "Red\n",
      "Green\n",
      "White\n",
      "Black\n",
      "Pink\n",
      "Yellow\n",
      "\n"
     ]
    }
   ],
   "source": [
    "color = ['Red', 'Green', 'White', 'Black', 'Pink', 'Yellow']\n",
    "myfile = open('abc.txt', \"w\")\n",
    "for c in color:\n",
    "    myfile.write(str(c) + \"\\n\")\n",
    "myfile.close()\n",
    "    \n",
    "content = open('abc.txt')\n",
    "print(content.read())"
   ]
  },
  {
   "cell_type": "markdown",
   "metadata": {
    "slideshow": {
     "slide_type": "slide"
    }
   },
   "source": [
    "### Ocenianie, czy plik jest zamknięty, czy nie"
   ]
  },
  {
   "cell_type": "markdown",
   "metadata": {
    "slideshow": {
     "slide_type": "slide"
    }
   },
   "source": [
    "#### Ćwiczenie"
   ]
  },
  {
   "cell_type": "markdown",
   "metadata": {
    "slideshow": {
     "slide_type": "fragment"
    }
   },
   "source": [
    "Napisz program w Pythonie, aby ocenić, czy plik jest zamknięty, czy nie."
   ]
  },
  {
   "cell_type": "markdown",
   "metadata": {
    "slideshow": {
     "slide_type": "slide"
    }
   },
   "source": [
    "#### Rozwiązanie"
   ]
  },
  {
   "cell_type": "code",
   "execution_count": 14,
   "metadata": {
    "slideshow": {
     "slide_type": "fragment"
    }
   },
   "outputs": [
    {
     "name": "stdout",
     "output_type": "stream",
     "text": [
      "False\n",
      "True\n"
     ]
    }
   ],
   "source": [
    "f = open('abc.txt', 'r')\n",
    "print(f.closed)\n",
    "if not f.closed:\n",
    "    f.close()\n",
    "print(f.closed)"
   ]
  },
  {
   "cell_type": "markdown",
   "metadata": {
    "slideshow": {
     "slide_type": "slide"
    }
   },
   "source": [
    "### Zautomatyzowany dostęp do pliku"
   ]
  },
  {
   "cell_type": "markdown",
   "metadata": {
    "slideshow": {
     "slide_type": "slide"
    }
   },
   "source": [
    "#### Zadanie"
   ]
  },
  {
   "cell_type": "markdown",
   "metadata": {
    "slideshow": {
     "slide_type": "fragment"
    }
   },
   "source": [
    "* Napisz program, który otworzy plik [sonety.txt](https://github.com/miklesz/Courses/blob/main/Python/sonety.txt) i sprawdzi liczbę słów w całym tekście\n",
    "* Dodatkowo, napisz funkcję, która zlicza słowa tylko w co 7 linijce tekstu"
   ]
  },
  {
   "cell_type": "markdown",
   "metadata": {
    "slideshow": {
     "slide_type": "slide"
    }
   },
   "source": [
    "## Moduły i biblioteki"
   ]
  },
  {
   "cell_type": "markdown",
   "metadata": {
    "slideshow": {
     "slide_type": "fragment"
    }
   },
   "source": [
    "Dodatkowe funkcje Pythona zawarte są w modułach, z których:\n",
    "    \n",
    "* Część jest dostarczona w każdej instalacji Pythona – tak zwana biblioteka „standardowa”;\n",
    "* Reszta możliwa do doinstalowania – tak zwana biblioteka „zewnętrzna” (a raczej biblioteki „zewnętrzne”)."
   ]
  },
  {
   "cell_type": "markdown",
   "metadata": {
    "slideshow": {
     "slide_type": "slide"
    }
   },
   "source": [
    "### Biblioteka „standardowa”"
   ]
  },
  {
   "cell_type": "markdown",
   "metadata": {
    "slideshow": {
     "slide_type": "fragment"
    }
   },
   "source": [
    "* Python posiada rozbudowaną **bibliotekę standardową**, umożliwiającą jego stosowanie do wielu zadań\n",
    "* Twórcy języka stosują politykę tzw. **_Batteries Included_**, czyli dostarczenia wraz z pakietem instalacyjnym możliwie dużej liczby narzędzi\n",
    "* Moduły standardowej biblioteki można uzupełniać modułami pisanymi:\n",
    "  * C, lub\n",
    "  * Pythonie"
   ]
  },
  {
   "cell_type": "markdown",
   "metadata": {
    "slideshow": {
     "slide_type": "subslide"
    }
   },
   "source": [
    "* Biblioteka standardowa jest szczególnie dobrze dostosowana do tworzenia aplikacji sieciowych, jako że obsługuje znaczną liczbę standardowych formatów i protokołów (np. **MIME**, **HTTP**)\n",
    "* Dołączone są także moduły do tworzenia **GUI** (na bazie **Tcl**/**Tk**), obróbki **wyrażeń regularnych**, nawet prosty serwer **WWW** z obsługą **CGI**"
   ]
  },
  {
   "cell_type": "markdown",
   "metadata": {
    "slideshow": {
     "slide_type": "subslide"
    }
   },
   "source": [
    "* Większa część biblioteki standardowej dostępna jest na wszystkich platformach, dzięki czemu nawet duże aplikacje mogą często być uruchamiane bez konieczności modyfikacji:\n",
    "  * Na **Uniksach**,\n",
    "  * Pod **Windows**,\n",
    "  * Na **Macintoshu**, i \n",
    "  * Innych platformach\n",
    "* Przeciwnie, niż np. dla **Javy**, nie ogranicza się zestawu dostępnych funkcji do części wspólnej dla różnych platform; np. na **uniksach** dostępna jest funkcja `os.fork()`, choć nie ma jej np. w **Windows**"
   ]
  },
  {
   "cell_type": "markdown",
   "metadata": {
    "slideshow": {
     "slide_type": "slide"
    }
   },
   "source": [
    "### Biblioteki „zewnętrzne”"
   ]
  },
  {
   "cell_type": "markdown",
   "metadata": {
    "slideshow": {
     "slide_type": "fragment"
    }
   },
   "source": [
    "* Podobnie, jak w wypadku innych języków, opracowany został szereg standardów tworzenia **API** pomocniczego, np. sterowników **relacyjnych baz danych**\n",
    "* Ze względu na w pełni dynamiczny system typów nie ma konieczności dołączania do biblioteki standardowej „interfejsu bazowego”, jak to ma miejsce np. w przypadku **JDBC**\n",
    "* Twórca biblioteki zewnętrznej musi po prostu zapewnić, by stworzone przez niego moduły, funkcje i klasy posiadały odpowiednie atrybuty"
   ]
  },
  {
   "cell_type": "markdown",
   "metadata": {
    "slideshow": {
     "slide_type": "slide"
    }
   },
   "source": [
    "### Import modułu"
   ]
  },
  {
   "cell_type": "markdown",
   "metadata": {
    "slideshow": {
     "slide_type": "slide"
    }
   },
   "source": [
    "### Moduły i pakiety Pythona – wprowadzenie"
   ]
  },
  {
   "cell_type": "markdown",
   "metadata": {
    "slideshow": {
     "slide_type": "fragment"
    }
   },
   "source": [
    "* Moduły mogą mieć jedną lub więcej funkcji\n",
    "* Pomagają w uporządkowaniu kodu\n",
    "* Zamiast jednego długiego pliku Pythona możesz mieć kilka plików (modułów)\n",
    "* Moduł to plik Pythona zawierający funkcje lub klasy\n",
    "* Program w języku Python może używać jednego lub więcej modułów"
   ]
  },
  {
   "cell_type": "markdown",
   "metadata": {
    "slideshow": {
     "slide_type": "subslide"
    }
   },
   "source": [
    "* Co to jest moduł?\n",
    "  * W Pythonie dostępnych jest wiele modułów (czasami nazywanych bibliotekami)\n",
    "  * Korzystając z tych modułów, możesz kodować znacznie szybciej\n",
    "  * Pomyśl o nich jak o klockach konstrukcyjnych, zawierają duże zestawy funkcji (czasem klas), które zapewniają dodatkowe funkcje"
   ]
  },
  {
   "cell_type": "markdown",
   "metadata": {
    "slideshow": {
     "slide_type": "slide"
    }
   },
   "source": [
    "### Import modułów"
   ]
  },
  {
   "cell_type": "markdown",
   "metadata": {
    "slideshow": {
     "slide_type": "fragment"
    }
   },
   "source": [
    "* Moduł importujemy poleceniem\n",
    "```python\n",
    "import <nazwa-modułu>\n",
    "```\n",
    "* lub\n",
    "```python\n",
    "import <nazwa-modułu> as <alias>\n",
    "```\n",
    "* Dla Pythona dostępnych jest wiele różnych modułów."
   ]
  },
  {
   "cell_type": "markdown",
   "metadata": {
    "slideshow": {
     "slide_type": "slide"
    }
   },
   "source": [
    "### Import modułów – przykład"
   ]
  },
  {
   "cell_type": "markdown",
   "metadata": {
    "slideshow": {
     "slide_type": "fragment"
    }
   },
   "source": [
    "* W poniższym przykładzie ładujemy moduł os\n",
    "* To jest skrót od **Systemu Operacyjnego** (ang. **_Operating System_**), więc możesz wykonywać zadania systemowe\n",
    "```python\n",
    "import os\n",
    "os.system(\"dir\")    # Windows\n",
    "os.system(\"ls\")     # UNIX\n",
    "```\n",
    "* Korzystając z tego modułu, wywołujemy jedną z jego funkcji o nazwie `system` (uruchamia polecenie)"
   ]
  },
  {
   "cell_type": "markdown",
   "metadata": {
    "slideshow": {
     "slide_type": "subslide"
    }
   },
   "source": [
    "* W tym przypadku po prostu wyświetli listę plików w katalogu:\n",
    "  * Polecenie `dir` \t– Windows\n",
    "  * Polecenie `ls`\t– UNIX"
   ]
  },
  {
   "cell_type": "code",
   "execution_count": 15,
   "metadata": {
    "scrolled": true,
    "slideshow": {
     "slide_type": "fragment"
    }
   },
   "outputs": [
    {
     "name": "stdout",
     "output_type": "stream",
     "text": [
      "01a Python (podstawy) - wstęp do programowania.ipynb\n",
      "01b Python (podstawy) - wstęp do programowania.ipynb\n",
      "02a Python (podstawy) - wstęp do Pythona.ipynb\n",
      "02b Python (podstawy) - wstęp do Pythona.ipynb\n",
      "03 Python (podstawy) - środowiska programistyczne.ipynb\n",
      "04 Python (podstawy) - typy danych.ipynb\n",
      "05 Python (podstawy) - elementy języka.ipynb\n",
      "06 Python (podstawy) - funkcje.ipynb\n",
      "07 Python (podstawy) - wyjątki.ipynb\n",
      "08 Python (podstawy) - pliki i moduły.ipynb\n",
      "09 Python (programowanie funkcyjne) - funkcje.ipynb\n",
      "10 Python (OOP) - obiekty.ipynb\n",
      "11 Python (OOP) - klasy.ipynb\n",
      "12 Python (OOP) - dziedziczenie.ipynb\n",
      "13 Python (OOP) - zaawansowana obiektowość.ipynb\n",
      "14 Python (OOP) - metody specjalne.ipynb\n",
      "15 Python (OOP) - iterowanie.ipynb\n",
      "16 Python (OOP) - modelowanie.ipynb\n",
      "Python (programowanie funkcyjne) - prework.pptx\n",
      "Untitled.ipynb\n",
      "__pycache__\n",
      "abc.txt\n",
      "bank.py\n",
      "demofile.txt\n",
      "file_path\n",
      "fruit.py\n",
      "sonety.txt\n",
      "test.txt\n",
      "text.txt\n"
     ]
    },
    {
     "data": {
      "text/plain": [
       "0"
      ]
     },
     "execution_count": 15,
     "metadata": {},
     "output_type": "execute_result"
    }
   ],
   "source": [
    "import os\n",
    "# os.system(\"dir\")    # Windows\n",
    "os.system(\"ls\")     # UNIX"
   ]
  },
  {
   "cell_type": "markdown",
   "metadata": {
    "slideshow": {
     "slide_type": "slide"
    }
   },
   "source": [
    "### Uzyskiwanie określonych funkcji z modułu"
   ]
  },
  {
   "cell_type": "markdown",
   "metadata": {
    "slideshow": {
     "slide_type": "fragment"
    }
   },
   "source": [
    "* Możemy też zaimportować (uzyskać) niektóre (określone) obiekty (funkcje) z modułu\n",
    "```python\n",
    "from module import <obiekt1>, <obiekt2>, <obiekt3>\n",
    "```"
   ]
  },
  {
   "cell_type": "markdown",
   "metadata": {
    "slideshow": {
     "slide_type": "slide"
    }
   },
   "source": [
    "### Uzyskiwanie określonych funkcji z modułu – przykład"
   ]
  },
  {
   "cell_type": "markdown",
   "metadata": {
    "slideshow": {
     "slide_type": "fragment"
    }
   },
   "source": [
    "* Istnieje moduł o nazwie `time`, który ma wszelkiego rodzaju funkcje związane z czasem: pobierz datę, godzinę, minutę, sekundę i tak dalej\n",
    "* To całkiem sporo funkcji\n",
    "* Powiedzmy, że chcesz, aby program odczekał 2 sekundy\n",
    "* Jeśli chcesz, możesz zaimportować określoną funkcję zamiast całego modułu"
   ]
  },
  {
   "cell_type": "code",
   "execution_count": 19,
   "metadata": {
    "slideshow": {
     "slide_type": "subslide"
    }
   },
   "outputs": [
    {
     "name": "stdout",
     "output_type": "stream",
     "text": [
      "Dobranoc\n",
      "Dzień dobry\n"
     ]
    }
   ],
   "source": [
    "# import time\n",
    "# print(\"Dobranoc\")\n",
    "# time.sleep(2)\n",
    "# print(\"Dzień dobry\")\n",
    "\n",
    "from time import sleep\n",
    "print(\"Dobranoc\")\n",
    "sleep(2)\n",
    "print(\"Dzień dobry\")"
   ]
  },
  {
   "cell_type": "markdown",
   "metadata": {
    "slideshow": {
     "slide_type": "slide"
    }
   },
   "source": [
    "### Importowanie wszystkich funkcji z modułu (z przykładem)"
   ]
  },
  {
   "cell_type": "markdown",
   "metadata": {
    "slideshow": {
     "slide_type": "subslide"
    }
   },
   "source": [
    "* ***Możliwe jest importowanie wielu (wszystkich) funkcji z modułów***\n",
    "  * _Nie należy stosować polecenia – nie jest to zalecane_\n",
    "  ```python\n",
    "  from module import *\n",
    "  ```\n",
    "  * _ponieważ może ono spowodować kolizję nazw pomiędzy funkcjami z różnych modułów_\n",
    "* Poniższy przykład importuje cały moduł czasu (wszystkie funkcje), którego możesz następnie użyć"
   ]
  },
  {
   "cell_type": "code",
   "execution_count": 20,
   "metadata": {
    "slideshow": {
     "slide_type": "fragment"
    }
   },
   "outputs": [
    {
     "name": "stdout",
     "output_type": "stream",
     "text": [
      "Dobranoc\n",
      "Dzień dobry\n"
     ]
    }
   ],
   "source": [
    "from time import *\n",
    "print('Dobranoc')\n",
    "sleep(2)\n",
    "print('Dzień dobry')"
   ]
  },
  {
   "cell_type": "markdown",
   "metadata": {
    "slideshow": {
     "slide_type": "slide"
    }
   },
   "source": [
    "### Dostępność obiektów z załadowanych modułów"
   ]
  },
  {
   "cell_type": "markdown",
   "metadata": {
    "slideshow": {
     "slide_type": "fragment"
    }
   },
   "source": [
    "* Obiekty z załadowanych modułów dostępne są przez strukturę:\n",
    "  * `nazwa-modułu.obiekt`, lub\n",
    "  * `obiekt`, gdy importowaliśmy pojedyncze obiekty"
   ]
  },
  {
   "cell_type": "markdown",
   "metadata": {
    "slideshow": {
     "slide_type": "subslide"
    }
   },
   "source": [
    "* Lista funkcji w module:\n",
    "  * Aby zobaczyć wszystkie funkcje w module, uruchom interpreter Pythona i wpisz:"
   ]
  },
  {
   "cell_type": "markdown",
   "metadata": {
    "slideshow": {
     "slide_type": "fragment"
    }
   },
   "source": [
    "```sh\n",
    "python\n",
    "```"
   ]
  },
  {
   "cell_type": "code",
   "execution_count": 25,
   "metadata": {
    "slideshow": {
     "slide_type": "subslide"
    }
   },
   "outputs": [
    {
     "name": "stdout",
     "output_type": "stream",
     "text": [
      "['CLD_CONTINUED', 'CLD_DUMPED', 'CLD_EXITED', 'CLD_KILLED', 'CLD_STOPPED', 'CLD_TRAPPED', 'DirEntry', 'EX_CANTCREAT', 'EX_CONFIG', 'EX_DATAERR', 'EX_IOERR', 'EX_NOHOST', 'EX_NOINPUT', 'EX_NOPERM', 'EX_NOUSER', 'EX_OK', 'EX_OSERR', 'EX_OSFILE', 'EX_PROTOCOL', 'EX_SOFTWARE', 'EX_TEMPFAIL', 'EX_UNAVAILABLE', 'EX_USAGE', 'F_LOCK', 'F_OK', 'F_TEST', 'F_TLOCK', 'F_ULOCK', 'GenericAlias', 'Mapping', 'MutableMapping', 'NGROUPS_MAX', 'O_ACCMODE', 'O_APPEND', 'O_ASYNC', 'O_CLOEXEC', 'O_CREAT', 'O_DIRECTORY', 'O_DSYNC', 'O_EXCL', 'O_EXLOCK', 'O_NDELAY', 'O_NOCTTY', 'O_NOFOLLOW', 'O_NONBLOCK', 'O_RDONLY', 'O_RDWR', 'O_SHLOCK', 'O_SYNC', 'O_TRUNC', 'O_WRONLY', 'POSIX_SPAWN_CLOSE', 'POSIX_SPAWN_DUP2', 'POSIX_SPAWN_OPEN', 'PRIO_PGRP', 'PRIO_PROCESS', 'PRIO_USER', 'P_ALL', 'P_NOWAIT', 'P_NOWAITO', 'P_PGID', 'P_PID', 'P_WAIT', 'PathLike', 'RTLD_GLOBAL', 'RTLD_LAZY', 'RTLD_LOCAL', 'RTLD_NODELETE', 'RTLD_NOLOAD', 'RTLD_NOW', 'R_OK', 'SCHED_FIFO', 'SCHED_OTHER', 'SCHED_RR', 'SEEK_CUR', 'SEEK_END', 'SEEK_SET', 'ST_NOSUID', 'ST_RDONLY', 'TMP_MAX', 'WCONTINUED', 'WCOREDUMP', 'WEXITED', 'WEXITSTATUS', 'WIFCONTINUED', 'WIFEXITED', 'WIFSIGNALED', 'WIFSTOPPED', 'WNOHANG', 'WNOWAIT', 'WSTOPPED', 'WSTOPSIG', 'WTERMSIG', 'WUNTRACED', 'W_OK', 'X_OK', '_Environ', '__all__', '__builtins__', '__cached__', '__doc__', '__file__', '__loader__', '__name__', '__package__', '__spec__', '_check_methods', '_execvpe', '_exists', '_exit', '_fspath', '_fwalk', '_get_exports_list', '_spawnvef', '_walk', '_wrap_close', 'abc', 'abort', 'access', 'altsep', 'chdir', 'chflags', 'chmod', 'chown', 'chroot', 'close', 'closerange', 'confstr', 'confstr_names', 'cpu_count', 'ctermid', 'curdir', 'defpath', 'device_encoding', 'devnull', 'dup', 'dup2', 'environ', 'environb', 'error', 'execl', 'execle', 'execlp', 'execlpe', 'execv', 'execve', 'execvp', 'execvpe', 'extsep', 'fchdir', 'fchmod', 'fchown', 'fdopen', 'fork', 'forkpty', 'fpathconf', 'fsdecode', 'fsencode', 'fspath', 'fstat', 'fstatvfs', 'fsync', 'ftruncate', 'fwalk', 'get_blocking', 'get_exec_path', 'get_inheritable', 'get_terminal_size', 'getcwd', 'getcwdb', 'getegid', 'getenv', 'getenvb', 'geteuid', 'getgid', 'getgrouplist', 'getgroups', 'getloadavg', 'getlogin', 'getpgid', 'getpgrp', 'getpid', 'getppid', 'getpriority', 'getsid', 'getuid', 'initgroups', 'isatty', 'kill', 'killpg', 'lchflags', 'lchmod', 'lchown', 'linesep', 'link', 'listdir', 'lockf', 'lseek', 'lstat', 'major', 'makedev', 'makedirs', 'minor', 'mkdir', 'mkfifo', 'mknod', 'name', 'nice', 'open', 'openpty', 'pardir', 'path', 'pathconf', 'pathconf_names', 'pathsep', 'pipe', 'popen', 'posix_spawn', 'posix_spawnp', 'pread', 'putenv', 'pwrite', 'read', 'readlink', 'readv', 'register_at_fork', 'remove', 'removedirs', 'rename', 'renames', 'replace', 'rmdir', 'scandir', 'sched_get_priority_max', 'sched_get_priority_min', 'sched_yield', 'sendfile', 'sep', 'set_blocking', 'set_inheritable', 'setegid', 'seteuid', 'setgid', 'setgroups', 'setpgid', 'setpgrp', 'setpriority', 'setregid', 'setreuid', 'setsid', 'setuid', 'spawnl', 'spawnle', 'spawnlp', 'spawnlpe', 'spawnv', 'spawnve', 'spawnvp', 'spawnvpe', 'st', 'stat', 'stat_result', 'statvfs', 'statvfs_result', 'strerror', 'supports_bytes_environ', 'supports_dir_fd', 'supports_effective_ids', 'supports_fd', 'supports_follow_symlinks', 'symlink', 'sync', 'sys', 'sysconf', 'sysconf_names', 'system', 'tcgetpgrp', 'tcsetpgrp', 'terminal_size', 'times', 'times_result', 'truncate', 'ttyname', 'umask', 'uname', 'uname_result', 'unlink', 'unsetenv', 'urandom', 'utime', 'wait', 'wait3', 'wait4', 'waitpid', 'waitstatus_to_exitcode', 'walk', 'write', 'writev']\n"
     ]
    }
   ],
   "source": [
    "import os\n",
    "print(dir(os))"
   ]
  },
  {
   "cell_type": "markdown",
   "metadata": {
    "slideshow": {
     "slide_type": "subslide"
    }
   },
   "source": [
    "* Spowoduje to wyświetlenie wszystkich funkcji i klas w module:\n",
    "![](https://cdn.journaldev.com/wp-content/uploads/2019/06/python-os-module.jpg)"
   ]
  },
  {
   "cell_type": "markdown",
   "metadata": {
    "slideshow": {
     "slide_type": "slide"
    }
   },
   "source": [
    "### Importowanie modułu"
   ]
  },
  {
   "cell_type": "markdown",
   "metadata": {
    "slideshow": {
     "slide_type": "slide"
    }
   },
   "source": [
    "#### Ćwiczenie"
   ]
  },
  {
   "cell_type": "markdown",
   "metadata": {
    "slideshow": {
     "slide_type": "fragment"
    }
   },
   "source": [
    "Zaimportuj moduł matematyczny i wywołaj funkcję sinusoidalną."
   ]
  },
  {
   "cell_type": "markdown",
   "metadata": {
    "slideshow": {
     "slide_type": "slide"
    }
   },
   "source": [
    "#### Rozwiązanie"
   ]
  },
  {
   "cell_type": "code",
   "execution_count": 26,
   "metadata": {
    "slideshow": {
     "slide_type": "fragment"
    }
   },
   "outputs": [
    {
     "name": "stdout",
     "output_type": "stream",
     "text": [
      "Wartość sinusa pi/6 to : 0.49999999999999994\n"
     ]
    }
   ],
   "source": [
    "# Kod Pythona demonstrujący działanie sin()\n",
    "\n",
    "# importowanie \"math\" dla operacji matematycznych\n",
    "import math\n",
    "\n",
    "a = math.pi / 6\n",
    "\n",
    "# zwracanie wartości sinusa pi/6\n",
    "print (\"Wartość sinusa pi/6 to :\", math.sin(a))"
   ]
  },
  {
   "cell_type": "markdown",
   "metadata": {
    "slideshow": {
     "slide_type": "slide"
    }
   },
   "source": [
    "### Tworzenie modułu (z przykładem)"
   ]
  },
  {
   "cell_type": "markdown",
   "metadata": {
    "slideshow": {
     "slide_type": "fragment"
    }
   },
   "source": [
    "* Aby utworzyć moduł, utwórz plik w języku Python\n",
    "* Następnie zaimportuj go jak każdy inny moduł\n",
    "* Stwórz swój moduł (`fruit.py`)"
   ]
  },
  {
   "cell_type": "code",
   "execution_count": 27,
   "metadata": {
    "slideshow": {
     "slide_type": "fragment"
    }
   },
   "outputs": [],
   "source": [
    "def lemon(l):\n",
    "    print('Lemoniada nr', l)"
   ]
  },
  {
   "cell_type": "markdown",
   "metadata": {
    "slideshow": {
     "slide_type": "subslide"
    }
   },
   "source": [
    "* Następnie stwórz swój program (`example.py`) i wywołaj funkcję:"
   ]
  },
  {
   "cell_type": "code",
   "execution_count": 30,
   "metadata": {
    "slideshow": {
     "slide_type": "fragment"
    }
   },
   "outputs": [
    {
     "name": "stdout",
     "output_type": "stream",
     "text": [
      "Lemoniada nr 5\n"
     ]
    }
   ],
   "source": [
    "import fruit\n",
    "# from fruit import lemon\n",
    "\n",
    "fruit.lemon(5)\n",
    "# lemon(5)"
   ]
  },
  {
   "cell_type": "markdown",
   "metadata": {
    "slideshow": {
     "slide_type": "slide"
    }
   },
   "source": [
    "### Wyszukiwanie modułów"
   ]
  },
  {
   "cell_type": "markdown",
   "metadata": {
    "slideshow": {
     "slide_type": "subslide"
    }
   },
   "source": [
    "* Interpreter Pythona wyszukuje moduły w kolejności:\n",
    "  * Katalog, w którym jest uruchamiany skrypt (może być to katalog bieżący)\n",
    "  * Następnie w katalogach zawartych w zmiennej systemowej '`PYTHONPATH`’\n",
    "  * W katalogach systemowych `PATH`\n",
    "* Nie znaleziono modułu Pythona?\n",
    "  * Jeśli pojawi się błąd „`ImportError: No module named`”, oznacza to, że moduł nie jest zainstalowany\n",
    "  * Możesz zainstalować moduł zewnętrzny za pomocą menedżera pakietów (o tym później)"
   ]
  },
  {
   "cell_type": "markdown",
   "metadata": {
    "slideshow": {
     "slide_type": "slide"
    }
   },
   "source": [
    "### Używanie modułu jako skryptu"
   ]
  },
  {
   "cell_type": "markdown",
   "metadata": {
    "slideshow": {
     "slide_type": "fragment"
    }
   },
   "source": [
    "```sh\n",
    "python my.py <argumenty>\n",
    "```\n",
    "* Moduł `my` jest wykonywany tak jak przy wykonaniu `import my` przy czym nazwa modułu `__name__` jest ustawiana na `__main__`\n",
    "```python\n",
    "if __name__ == \"__main__\":\n",
    "    import sys\n",
    "    my_func(int(sys.argv[1]))\n",
    "```"
   ]
  },
  {
   "cell_type": "markdown",
   "metadata": {
    "slideshow": {
     "slide_type": "slide"
    }
   },
   "source": [
    "### Używanie modułu jako skryptu – przykład"
   ]
  },
  {
   "cell_type": "markdown",
   "metadata": {
    "slideshow": {
     "slide_type": "fragment"
    }
   },
   "source": [
    "```python\n",
    "def lemon(l):\n",
    "    print('Lemoniada nr', l)\n",
    "\n",
    "    \n",
    "if __name__ == \"__main__\":\n",
    "    import sys\n",
    "    lemon(int(sys.argv[1]))\n",
    "```"
   ]
  },
  {
   "cell_type": "markdown",
   "metadata": {
    "slideshow": {
     "slide_type": "slide"
    }
   },
   "source": [
    "### Instalowanie dodatkowych modułów"
   ]
  },
  {
   "cell_type": "markdown",
   "metadata": {
    "slideshow": {
     "slide_type": "fragment"
    }
   },
   "source": [
    "* Dodatkowe moduły można znaleźć poprzez stronę **Python Package Index** oraz zainstalować używając:\n",
    "  * Programu **PyPI** udostępnianego przez **Python Package Index**\n",
    "  * Środowiska **conda**, która dostarcza pakiety **Anaconda**\n",
    "  * Systemowych paczek Pythona w przypadku Linuksa\n",
    "  * Środowisk **Homebrew** lub **MacPorts** dla macOS\n",
    "* Wszystkie te sposoby umożliwiają automatyczne zarządzanie wszystkimi zależnościami między pakietami"
   ]
  },
  {
   "cell_type": "markdown",
   "metadata": {
    "slideshow": {
     "slide_type": "slide"
    }
   },
   "source": [
    "### Python Package Index"
   ]
  },
  {
   "cell_type": "markdown",
   "metadata": {
    "slideshow": {
     "slide_type": "-"
    }
   },
   "source": [
    "![Logo for Python Package Index (PyPI)](https://upload.wikimedia.org/wikipedia/commons/6/64/PyPI_logo.svg)"
   ]
  },
  {
   "cell_type": "markdown",
   "metadata": {
    "slideshow": {
     "slide_type": "subslide"
    }
   },
   "source": [
    "* Indeks pakietów Python, w skrócie **PyPI** i znany również jako **Cheese Shop**\n",
    "* Oficjalne **repozytorium oprogramowania** dla **Pythona**\n",
    "* Jest analogiczny do **CPAN**, repozytorium dla **Perla**\n",
    "* Niektórzy menedżerowie pakietów, w tym **pip**, używają PyPI jako domyślnego źródła pakietów i ich zależności\n",
    "* URL: https://pypi.org"
   ]
  },
  {
   "cell_type": "markdown",
   "metadata": {
    "slideshow": {
     "slide_type": "slide"
    }
   },
   "source": [
    "### PyPI"
   ]
  },
  {
   "cell_type": "markdown",
   "metadata": {
    "slideshow": {
     "slide_type": "fragment"
    }
   },
   "source": [
    "* **pip** to **de facto** standardowy **system zarządzania pakietami** używany do instalowania i zarządzania **pakietami oprogramowania** napisanymi w języku **Python**\n",
    "* Wiele pakietów można znaleźć w domyślnym źródle pakietów i ich zależnościach – **Python Package Index**"
   ]
  },
  {
   "cell_type": "markdown",
   "metadata": {
    "slideshow": {
     "slide_type": "subslide"
    }
   },
   "source": [
    "![pip --help](https://upload.wikimedia.org/wikipedia/commons/0/02/Pip_help.png)"
   ]
  },
  {
   "cell_type": "markdown",
   "metadata": {
    "slideshow": {
     "slide_type": "subslide"
    }
   },
   "source": [
    "* Większość dystrybucji Pythona pochodzi z preinstalowanym pipem\n",
    "* Najpowszechniejszym zastosowaniem **pip** jest instalacja z **Python Package Index** przy użyciu **specyfikatora wymagań**\n",
    "* Ogólnie rzecz biorąc, specyfikator wymagań składa się z nazwy projektu, po której następuje opcjonalny **specyfikator wersji**\n",
    "* Strona internetowa: https://pip.pypa.io/"
   ]
  },
  {
   "cell_type": "markdown",
   "metadata": {
    "slideshow": {
     "slide_type": "slide"
    }
   },
   "source": [
    "### Instalacja przy użyciu PyPI"
   ]
  },
  {
   "cell_type": "markdown",
   "metadata": {
    "slideshow": {
     "slide_type": "fragment"
    }
   },
   "source": [
    "* Wyszukujemy paczkę przy przez komendę\n",
    "```sh\n",
    "pip search <paczka>\n",
    "```\n",
    "* Instalujemy paczkę przez komendę\n",
    "```sh\n",
    "pip install <paczka>\n",
    "```"
   ]
  },
  {
   "cell_type": "markdown",
   "metadata": {
    "slideshow": {
     "slide_type": "fragment"
    }
   },
   "source": [
    "![An output of pip install virtualenv](https://upload.wikimedia.org/wikipedia/commons/7/7f/Pip_install_virtualenv.png)"
   ]
  },
  {
   "cell_type": "markdown",
   "metadata": {
    "slideshow": {
     "slide_type": "slide"
    }
   },
   "source": [
    "### Conda (menedżer pakietów)"
   ]
  },
  {
   "cell_type": "markdown",
   "metadata": {},
   "source": [
    "![Logo of the conda package manager](https://upload.wikimedia.org/wikipedia/commons/e/ea/Conda_logo.svg)"
   ]
  },
  {
   "cell_type": "markdown",
   "metadata": {
    "slideshow": {
     "slide_type": "subslide"
    }
   },
   "source": [
    "* **Menedżer pakietów i system zarządzania środowiskiem:**\n",
    "  * **Open-source**\n",
    "  * **Wieloplatformowy**\n",
    "  * **Niezależny od języka**\n",
    "* Początkowo część **dystrybucji Anaconda Python** opracowanej przez Anaconda Inc.\n",
    "* Okazała się, że być użyteczna samodzielnie i do innych celów niż Python\n",
    "* Została więc wydzielona jako osobny pakiet\n",
    "* Wydana na **licencji BSD**\n",
    "* Strona internetowa: https://conda.io/"
   ]
  },
  {
   "cell_type": "markdown",
   "metadata": {
    "slideshow": {
     "slide_type": "slide"
    }
   },
   "source": [
    "### Anaconda"
   ]
  },
  {
   "cell_type": "markdown",
   "metadata": {},
   "source": [
    "![Anaconda Logo](https://upload.wikimedia.org/wikipedia/en/c/cd/Anaconda_Logo.png)"
   ]
  },
  {
   "cell_type": "markdown",
   "metadata": {
    "slideshow": {
     "slide_type": "subslide"
    }
   },
   "source": [
    "* Darmowa i otwarta dystrybucja języków programowania:\n",
    "  * Python\n",
    "  * R\n",
    "* Do obliczeń naukowych\n",
    "* Ma na celu uproszczenie:\n",
    "  * Zarządzania pakietami\n",
    "  * Wdrażania\n",
    "* Obejmuje pakiety danych naukowych odpowiednie dla systemów:\n",
    "  * Windows\n",
    "  * Linux\n",
    "  * macOS\n",
    "* Strona internetowa: https://conda.io/"
   ]
  },
  {
   "cell_type": "markdown",
   "metadata": {
    "slideshow": {
     "slide_type": "slide"
    }
   },
   "source": [
    "### Instalacja przy użyciu Conda"
   ]
  },
  {
   "cell_type": "markdown",
   "metadata": {
    "slideshow": {
     "slide_type": "fragment"
    }
   },
   "source": [
    "* Conda umożliwia użytkownikom łatwe instalowanie różnych wersji pakietów oprogramowania **binarnego** i wszelkich wymaganych bibliotek odpowiednich dla ich **platformy komputerowej**\n",
    "* Ponadto umożliwia użytkownikom przełączanie się między wersjami pakietów oraz pobieranie i instalowanie aktualizacji z repozytorium oprogramowania\n",
    "* Wyszukujemy paczkę przy przez komendę\n",
    "```sh\n",
    "conda search <paczka>\n",
    "```\n",
    "* Instalujemy paczkę przez komendę\n",
    "```sh\n",
    "conda install <paczka>\n",
    "```"
   ]
  },
  {
   "cell_type": "markdown",
   "metadata": {
    "slideshow": {
     "slide_type": "slide"
    }
   },
   "source": [
    "### Homebrew (menedżer pakietów)"
   ]
  },
  {
   "cell_type": "markdown",
   "metadata": {},
   "source": [
    "![Homebrew logo](https://upload.wikimedia.org/wikipedia/commons/thumb/9/95/Homebrew_logo.svg/398px-Homebrew_logo.svg.png)"
   ]
  },
  {
   "cell_type": "markdown",
   "metadata": {
    "slideshow": {
     "slide_type": "subslide"
    }
   },
   "source": [
    "* **Darmowy system zarządzania pakietami** oprogramowania typu **open source**, który upraszcza instalację oprogramowania w systemie operacyjnym:\n",
    "  * **MacOS Apple**\n",
    "  * **Linux**\n",
    "* Nazwa ma sugerować pomysł budowy oprogramowania na komputerze Mac w zależności od upodobań\n",
    "* Strona internetowa: https://brew.sh/"
   ]
  },
  {
   "cell_type": "markdown",
   "metadata": {
    "slideshow": {
     "slide_type": "slide"
    }
   },
   "source": [
    "### MacPorts (zwany dawniej DarwinPorts)"
   ]
  },
  {
   "cell_type": "markdown",
   "metadata": {},
   "source": [
    "![An SVG recreation of the MacPorts Logo, published by Vincent Habchi.](https://upload.wikimedia.org/wikipedia/commons/f/f5/MacPorts_Logo.svg)"
   ]
  },
  {
   "cell_type": "markdown",
   "metadata": {
    "slideshow": {
     "slide_type": "fragment"
    }
   },
   "source": [
    "* Projekt **FLOSS** (ang. **_free and open-source software_**) na licencji BSD \n",
    "* Upraszcza instalację innego oprogramowania **open source** na systemach:\n",
    "  * **macOS**\n",
    "  * **Darwin**\n",
    "* Podobny do projektu **Fink** lub innych **kolekcji portów** znanych z **BSD**\n",
    "* Strona internetowa: https://macports.org/"
   ]
  },
  {
   "cell_type": "code",
   "execution_count": null,
   "metadata": {
    "slideshow": {
     "slide_type": "skip"
    }
   },
   "outputs": [],
   "source": []
  }
 ],
 "metadata": {
  "celltoolbar": "Slideshow",
  "kernelspec": {
   "display_name": "Python 3 (ipykernel)",
   "language": "python",
   "name": "python3"
  },
  "language_info": {
   "codemirror_mode": {
    "name": "ipython",
    "version": 3
   },
   "file_extension": ".py",
   "mimetype": "text/x-python",
   "name": "python",
   "nbconvert_exporter": "python",
   "pygments_lexer": "ipython3",
   "version": "3.9.7"
  }
 },
 "nbformat": 4,
 "nbformat_minor": 4
}
