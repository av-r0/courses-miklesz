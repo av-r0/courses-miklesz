{
 "cells": [
  {
   "cell_type": "markdown",
   "metadata": {
    "slideshow": {
     "slide_type": "slide"
    }
   },
   "source": [
    "# Python (podstawy) - elementy języka\n",
    "_Mikołaj Leszczuk_\n",
    "![](https://pics.me.me/thumb_r-programmerhumor-ph-u-abhijitjadhavaj-•-13h-indentation-checking-in-python-is-66725448.png)"
   ]
  },
  {
   "cell_type": "markdown",
   "metadata": {
    "slideshow": {
     "slide_type": "slide"
    }
   },
   "source": [
    "## Operatory"
   ]
  },
  {
   "cell_type": "markdown",
   "metadata": {
    "slideshow": {
     "slide_type": "slide"
    }
   },
   "source": [
    "#### Typy operatorów"
   ]
  },
  {
   "cell_type": "markdown",
   "metadata": {
    "slideshow": {
     "slide_type": "fragment"
    }
   },
   "source": [
    "* Arytmetyczne:\n",
    "  * Dodawania: `+`\n",
    "  * Odejmowania: `-`\n",
    "  * Mnożenia: `*`\n",
    "  * Dzielenia: `/`\n",
    "  * Dzielenia modulo (reszta z dzielenia): `%`\n",
    "  * Dzielenia całkowitego: `//`\n",
    "  * Potęgowania: `**`"
   ]
  },
  {
   "cell_type": "markdown",
   "metadata": {
    "slideshow": {
     "slide_type": "slide"
    }
   },
   "source": [
    "* Porównania `a` i `b`\n",
    "  * `a` i `b` jest równe: `==`\n",
    "  * `a` i `b` są różne:  `!=`, `<>`\n",
    "  * `a` większe od: `b >`\n",
    "  * `a` mniejsze od: `b <`\n",
    "  * `a` większe lub równe:  `b >=`\n",
    "  * `a` mniejsze lub równe: `b <=`\n",
    "* Przypisania\n",
    "  * przypisz do lewej strony wartość z prawej strony: `=`\n",
    "  * dodaj do lewej strony wartość z prawej strony: `+= . . .`\n",
    "* Bitowe\n",
    "* Logiczne: `and`, `or`, `not`"
   ]
  },
  {
   "cell_type": "markdown",
   "metadata": {
    "slideshow": {
     "slide_type": "slide"
    }
   },
   "source": [
    "#### Zadanie"
   ]
  },
  {
   "cell_type": "markdown",
   "metadata": {
    "slideshow": {
     "slide_type": "fragment"
    }
   },
   "source": [
    "* Napisz program, który:\n",
    "  * Będzie prosił użytkownika o podanie dwóch liczb, i\n",
    "  * Wypisze:\n",
    "    * Wynik ich dzielenia,\n",
    "    * Resztę z dzielenia, oraz \n",
    "    * Wynik dzielenia całkowitego"
   ]
  },
  {
   "cell_type": "markdown",
   "metadata": {
    "slideshow": {
     "slide_type": "slide"
    }
   },
   "source": [
    "## Struktura przez wcięcia"
   ]
  },
  {
   "cell_type": "markdown",
   "metadata": {
    "slideshow": {
     "slide_type": "fragment"
    }
   },
   "source": [
    "* Cechą wyróżniającą **Pythona** spośród innych języków jest stosowanie wcięć do wydzielania bloków kodu\n",
    "* Jest to cecha unikatowa wśród powszechnie stosowanych języków programowania, jako pierwsza rzucająca się w oczy programistom niepiszącym w **Pythonie**\n",
    "* W językach programowania wywodzących strukturę blokową od **Algola** (niekoniecznie bezpośrednio) – np. **Pascalu**, **C**, czy **Perlu** – bloki kodu zaznaczane są klamrami lub słowami kluczowymi:\n",
    "  * C i Perl używają `{` `}`,\n",
    "  * Pascal używa `begin` i `end`"
   ]
  },
  {
   "cell_type": "markdown",
   "metadata": {
    "slideshow": {
     "slide_type": "slide"
    }
   },
   "source": [
    "* Jednakże we wszystkich tych językach programiści tradycyjnie stosują wcięcia, by wyróżnić bloki w otaczającym kodzie\n",
    "* Natomiast **Python** dziedziczy cechę mniej znanego języka **ABC** – zamiast interpunkcji czy słów kluczowych używa samych wcięć do zaznaczania bloków\n",
    "* Wyjaśnić to można na prostym przykładzie zamieszczonym na kolejnym slajdzie\n",
    "* Przedstawiona jest w nim funkcja licząca silnię w **C** i w **Pythonie**:"
   ]
  },
  {
   "cell_type": "markdown",
   "metadata": {
    "slideshow": {
     "slide_type": "slide"
    }
   },
   "source": [
    "##### Silnia w C (zapisana bez wcięć):"
   ]
  },
  {
   "cell_type": "markdown",
   "metadata": {
    "slideshow": {
     "slide_type": "fragment"
    }
   },
   "source": [
    "```C\n",
    "int silnia(int x) { \n",
    "\tif (x == 0) return 1; \n",
    "\telse return x * silnia(x-1); }\n",
    "```"
   ]
  },
  {
   "cell_type": "markdown",
   "metadata": {
    "slideshow": {
     "slide_type": "slide"
    }
   },
   "source": [
    "##### Silnia w Pythonie:"
   ]
  },
  {
   "cell_type": "markdown",
   "metadata": {
    "slideshow": {
     "slide_type": "fragment"
    }
   },
   "source": [
    "```python\n",
    "def silnia(x):\n",
    "\tif x == 0: \n",
    "\t\treturn 1 \n",
    "\telse: \n",
    "\t\treturn x * silnia(x - 1)\n",
    "```"
   ]
  },
  {
   "cell_type": "markdown",
   "metadata": {
    "slideshow": {
     "slide_type": "slide"
    }
   },
   "source": [
    "* Dla niektórych programistów przyzwyczajonych do języków stylistycznie wzorowanych na **Algolu**, gdzie spacja nie ma znaczenia składniowego, może to być mylące\n",
    "* Spotyka się czasem niepochlebne porównanie do sztywnego systemu kolumnowego kart perforowanych stosowanego w czasach **fortranowych**\n",
    "* Istotnie, w swoim czasie możliwość stosowania zapisu, w którym decydujące były jedynie symbole, była dużym postępem\n",
    "* Jednak dla programistów piszących w Pythonie stosowanie składniowo znaczących wcięć jest po prostu przedłużeniem konwencji, która i tak jest stosowana np. w **C**"
   ]
  },
  {
   "cell_type": "markdown",
   "metadata": {
    "slideshow": {
     "slide_type": "slide"
    }
   },
   "source": [
    "* Zwolennicy tego języka zwracają także uwagę na wadę „swobodnej” składni, polegającą na tym, że skoro wcięcia kodu są ignorowane, nie można wymusić jednej dobrej konwencji (stąd też konflikty między programistami, dotyczące stosowania **spacji** (i różnej ich liczby) lub **tabulatorów**, tzw. **_indentation wars_**)\n",
    "* Nieprawidłowo wcięty kod może być mylący, gdyż czytający go programista i kompilator mogą go różnie zinterpretować"
   ]
  },
  {
   "cell_type": "markdown",
   "metadata": {
    "slideshow": {
     "slide_type": "slide"
    }
   },
   "source": [
    "## Instrukcje warunkowe"
   ]
  },
  {
   "cell_type": "markdown",
   "metadata": {
    "slideshow": {
     "slide_type": "fragment"
    }
   },
   "source": [
    "```python\n",
    "if punkty >= 90:\n",
    "    ocena = '5'\n",
    "elif punkty >= 75:    \n",
    "    ocena = '4'\n",
    "elif punkty >= 60:\n",
    "    ocena = '3'\n",
    "else:\n",
    "    ocena = '2'\n",
    "```"
   ]
  },
  {
   "cell_type": "markdown",
   "metadata": {
    "slideshow": {
     "slide_type": "slide"
    }
   },
   "source": [
    "#### Ćwiczenie instrukcji `if`"
   ]
  },
  {
   "cell_type": "markdown",
   "metadata": {
    "slideshow": {
     "slide_type": "fragment"
    }
   },
   "source": [
    "* Przypisz `8` do zmiennej `x` i `15` do zmiennej `y`\n",
    "* Utwórz 2 instrukcje warunkowe\n",
    "* Niech pierwsza wypisze: „Co najmniej jeden z warunków jest spełniony”, jeśli `x` jest większe niż `3` lub `y` jest parzyste\n",
    "* Niech drugi wypisze „Żaden warunek nie jest spełniony”, jeśli `x` jest mniejsze lub równe `3`, a `y` jest nieparzyste\n",
    "* Zmień wartości przypisane do `x` i `y` i ponownie uruchom komórkę, aby sprawdzić, czy kod nadal działa"
   ]
  },
  {
   "cell_type": "markdown",
   "metadata": {
    "slideshow": {
     "slide_type": "slide"
    }
   },
   "source": [
    "#### Rozwiązanie ćwiczenia instrukcji `if`"
   ]
  },
  {
   "cell_type": "markdown",
   "metadata": {
    "slideshow": {
     "slide_type": "fragment"
    }
   },
   "source": [
    "* To ćwiczenie można podzielić na dwa podzadania\n",
    "```python\n",
    "if x > 3 or y % 2 == 0:\n",
    "    print(\"Co najmniej jeden z warunków jest spełniony\")\n",
    "```\n",
    "* Teraz druga część ćwiczenia\n",
    "```python\n",
    "if x <= 3 and y % 2 == 1:\n",
    "    print(\"Żaden warunek nie jest spełniony\")\n",
    "```"
   ]
  },
  {
   "cell_type": "markdown",
   "metadata": {
    "slideshow": {
     "slide_type": "slide"
    }
   },
   "source": [
    "## Operatory logiczne `not`, `and`, `or`"
   ]
  },
  {
   "cell_type": "markdown",
   "metadata": {
    "slideshow": {
     "slide_type": "slide"
    }
   },
   "source": [
    "#### Operator logiczny `not`"
   ]
  },
  {
   "cell_type": "markdown",
   "metadata": {
    "slideshow": {
     "slide_type": "fragment"
    }
   },
   "source": [
    "* Jeśli chcemy, aby coś było `False`, możemy tego użyć `not`\n",
    "* Jest to operator logiczny:"
   ]
  },
  {
   "cell_type": "code",
   "execution_count": null,
   "metadata": {
    "slideshow": {
     "slide_type": "fragment"
    }
   },
   "outputs": [],
   "source": [
    "x = False\n",
    "if not x :\n",
    "    print(\"warunek spełniony\")\n",
    "else:\n",
    "    print(\"warunek niespełniony\")"
   ]
  },
  {
   "cell_type": "markdown",
   "metadata": {
    "slideshow": {
     "slide_type": "slide"
    }
   },
   "source": [
    "#### Operatory logiczne `and`, `or`"
   ]
  },
  {
   "cell_type": "markdown",
   "metadata": {
    "slideshow": {
     "slide_type": "fragment"
    }
   },
   "source": [
    "* Zasada działania tych operatorów odrobinę różni się od analogicznych operatorów znanych z innych języków programowania\n",
    "* Przede wszystkim: operatory zwracają ostatnią wartość, która je spełnia\n",
    "* Niech zostanie to zobrazowane na przykładach:"
   ]
  },
  {
   "cell_type": "code",
   "execution_count": null,
   "metadata": {
    "slideshow": {
     "slide_type": "fragment"
    }
   },
   "outputs": [],
   "source": [
    "niepusta_wartosc = 0 or 0.0 or \"\" or [] or \"test\" or [123]"
   ]
  },
  {
   "cell_type": "code",
   "execution_count": null,
   "metadata": {
    "slideshow": {
     "slide_type": "fragment"
    }
   },
   "outputs": [],
   "source": [
    "niepusta_wartosc"
   ]
  },
  {
   "cell_type": "markdown",
   "metadata": {
    "slideshow": {
     "slide_type": "slide"
    }
   },
   "source": [
    "* Operator `or` działa tak, że jeżeli jakakolwiek wartość go spełnia, to operator „działa”\n",
    "* W przeciwieństwie do operatora `and`, który musi mieć wszystkie wartości, aby „zadziałać”\n",
    "* Wtedy ostatnia wartość, która go spełnia, jest zwrócona:"
   ]
  },
  {
   "cell_type": "code",
   "execution_count": null,
   "metadata": {
    "slideshow": {
     "slide_type": "fragment"
    }
   },
   "outputs": [],
   "source": [
    "kazda_wartosc = \"test\" and [123]"
   ]
  },
  {
   "cell_type": "code",
   "execution_count": null,
   "metadata": {
    "slideshow": {
     "slide_type": "fragment"
    }
   },
   "outputs": [],
   "source": [
    "kazda_wartosc"
   ]
  },
  {
   "cell_type": "markdown",
   "metadata": {
    "slideshow": {
     "slide_type": "slide"
    }
   },
   "source": [
    "* Dodatkowe przykłady"
   ]
  },
  {
   "cell_type": "code",
   "execution_count": null,
   "metadata": {
    "slideshow": {
     "slide_type": "fragment"
    }
   },
   "outputs": [],
   "source": [
    "\"test\" or 0"
   ]
  },
  {
   "cell_type": "code",
   "execution_count": null,
   "metadata": {
    "slideshow": {
     "slide_type": "fragment"
    }
   },
   "outputs": [],
   "source": [
    "[] and \"test\""
   ]
  },
  {
   "cell_type": "markdown",
   "metadata": {
    "slideshow": {
     "slide_type": "fragment"
    }
   },
   "source": [
    "* Pusty string, pusta lista, pusty słownik, pusty zbiór i wartości liczbowe zero (np. `0`, `0.0`) są rozumiane logicznie jak `False` w Pythonie, dlatego operator and w powyższym przykładzie zwraca `[]` – pierwszy element, który jest fałszywy i nie spełni tego operatora"
   ]
  },
  {
   "cell_type": "markdown",
   "metadata": {
    "slideshow": {
     "slide_type": "slide"
    }
   },
   "source": [
    "#### Przykład – `and`"
   ]
  },
  {
   "cell_type": "markdown",
   "metadata": {
    "slideshow": {
     "slide_type": "fragment"
    }
   },
   "source": [
    "* Zwróć `True`, jeśli oba stwierdzenia są prawdziwe\n",
    "* `x > 3` i `x < 10`\n",
    "* Spróbuj!"
   ]
  },
  {
   "cell_type": "markdown",
   "metadata": {
    "slideshow": {
     "slide_type": "slide"
    }
   },
   "source": [
    "#### Spróbuj – `and`"
   ]
  },
  {
   "cell_type": "code",
   "execution_count": null,
   "metadata": {
    "slideshow": {
     "slide_type": "fragment"
    }
   },
   "outputs": [],
   "source": [
    "x = 5"
   ]
  },
  {
   "cell_type": "code",
   "execution_count": null,
   "metadata": {
    "slideshow": {
     "slide_type": "fragment"
    }
   },
   "outputs": [],
   "source": [
    "print(x > 3 and x < 10)\n",
    "# zwraca True, ponieważ 5 jest większe niż 3 AND 5 jest mniejsze niż 10"
   ]
  },
  {
   "cell_type": "markdown",
   "metadata": {
    "slideshow": {
     "slide_type": "slide"
    }
   },
   "source": [
    "#### Przykład – `or`"
   ]
  },
  {
   "cell_type": "markdown",
   "metadata": {
    "slideshow": {
     "slide_type": "fragment"
    }
   },
   "source": [
    "* Zwróć wartość `True`, jeśli jedno ze stwierdzeń jest prawdziwe\n",
    "* `x > 4` lub `x < 3`\n",
    "* Spróbuj!\n"
   ]
  },
  {
   "cell_type": "markdown",
   "metadata": {
    "slideshow": {
     "slide_type": "slide"
    }
   },
   "source": [
    "#### Spróbuj – `or`"
   ]
  },
  {
   "cell_type": "code",
   "execution_count": null,
   "metadata": {
    "slideshow": {
     "slide_type": "fragment"
    }
   },
   "outputs": [],
   "source": [
    "x = 5"
   ]
  },
  {
   "cell_type": "code",
   "execution_count": null,
   "metadata": {
    "slideshow": {
     "slide_type": "fragment"
    }
   },
   "outputs": [],
   "source": [
    "print(x > 4 or x < 3)\n",
    "# zwraca True, ponieważ jeden z warunków jest spełniony (5 jest większe niż 3, ale 5 jest nie mniejsze niż 4)"
   ]
  },
  {
   "cell_type": "markdown",
   "metadata": {
    "slideshow": {
     "slide_type": "slide"
    }
   },
   "source": [
    "#### Przykład – `not`"
   ]
  },
  {
   "cell_type": "markdown",
   "metadata": {
    "slideshow": {
     "slide_type": "fragment"
    }
   },
   "source": [
    "* Odwróć wynik, zwróć `False`, jeśli wynik jest prawdziwy\n",
    "* nie ( `x > 3` i `x < 10` )\n",
    "* Spróbuj!"
   ]
  },
  {
   "cell_type": "markdown",
   "metadata": {
    "slideshow": {
     "slide_type": "slide"
    }
   },
   "source": [
    "#### Spróbuj – `not`"
   ]
  },
  {
   "cell_type": "code",
   "execution_count": null,
   "metadata": {
    "slideshow": {
     "slide_type": "fragment"
    }
   },
   "outputs": [],
   "source": [
    "x = 5"
   ]
  },
  {
   "cell_type": "code",
   "execution_count": null,
   "metadata": {
    "slideshow": {
     "slide_type": "fragment"
    }
   },
   "outputs": [],
   "source": [
    "print(not(x > 3 and x < 10))\n",
    "# zwraca False, ponieważ not służy do odwrócenia wyniku"
   ]
  },
  {
   "cell_type": "markdown",
   "metadata": {
    "slideshow": {
     "slide_type": "slide"
    }
   },
   "source": [
    "## Operatory liniowe (trójskładnikowe)"
   ]
  },
  {
   "cell_type": "markdown",
   "metadata": {
    "slideshow": {
     "slide_type": "fragment"
    }
   },
   "source": [
    "* Operatory trójskładnikowe są w Pythonie bardziej znane jako wyrażenia warunkowe\n",
    "* Te operatory oceniają coś na podstawie warunku, który jest prawdziwy lub nie\n",
    "* Stały się częścią Pythona w wersji 2.4\n",
    "* Na następnych slajdach – plan i przykład użycia tych wyrażeń warunkowych"
   ]
  },
  {
   "cell_type": "markdown",
   "metadata": {
    "slideshow": {
     "slide_type": "slide"
    }
   },
   "source": [
    "#### Plan warunkowego operatora liniowego `if`-`else`"
   ]
  },
  {
   "cell_type": "markdown",
   "metadata": {
    "slideshow": {
     "slide_type": "fragment"
    }
   },
   "source": [
    "```python\n",
    "value_if_true if condition else value_if_false\n",
    "```"
   ]
  },
  {
   "cell_type": "markdown",
   "metadata": {
    "slideshow": {
     "slide_type": "slide"
    }
   },
   "source": [
    "#### Przykład warunkowego operatora liniowego `if`-`else` "
   ]
  },
  {
   "cell_type": "markdown",
   "metadata": {
    "slideshow": {
     "slide_type": "fragment"
    }
   },
   "source": [
    "```python\n",
    "wartosc = \"warunek spełniony\" if warunek else \"warunek niespełniony\"\n",
    "```"
   ]
  },
  {
   "cell_type": "markdown",
   "metadata": {
    "slideshow": {
     "slide_type": "slide"
    }
   },
   "source": [
    "#### Operator trójskładnikowy"
   ]
  },
  {
   "cell_type": "markdown",
   "metadata": {
    "slideshow": {
     "slide_type": "fragment"
    }
   },
   "source": [
    "* Pozwala szybko przetestować warunek zamiast wielowierszowej instrukcji `if`\n",
    "* Często może być niezwykle pomocny i może sprawić, że kod będzie zwarty, ale nadal będzie możliwy do utrzymania\n",
    "* Inny, bardziej niejasny i rzadko używany przykład dotyczy krotek\n",
    "* Oto przykładowy kod..."
   ]
  },
  {
   "cell_type": "markdown",
   "metadata": {
    "slideshow": {
     "slide_type": "slide"
    }
   },
   "source": [
    "#### Plan"
   ]
  },
  {
   "cell_type": "markdown",
   "metadata": {
    "slideshow": {
     "slide_type": "fragment"
    }
   },
   "source": [
    "```python\n",
    "(if_test_is_false, if_test_is_true)[test]\n",
    "```"
   ]
  },
  {
   "cell_type": "markdown",
   "metadata": {
    "slideshow": {
     "slide_type": "slide"
    }
   },
   "source": [
    "#### Przykład"
   ]
  },
  {
   "cell_type": "code",
   "execution_count": null,
   "metadata": {
    "slideshow": {
     "slide_type": "fragment"
    }
   },
   "outputs": [],
   "source": [
    "nice = True"
   ]
  },
  {
   "cell_type": "code",
   "execution_count": null,
   "metadata": {
    "slideshow": {
     "slide_type": "fragment"
    }
   },
   "outputs": [],
   "source": [
    "personality = (\"wredny\", \"miły\")[nice]"
   ]
  },
  {
   "cell_type": "code",
   "execution_count": null,
   "metadata": {
    "slideshow": {
     "slide_type": "fragment"
    }
   },
   "outputs": [],
   "source": [
    "print(\"Kot jest\", personality)  # Wyjście: Kot jest miły"
   ]
  },
  {
   "cell_type": "markdown",
   "metadata": {
    "slideshow": {
     "slide_type": "slide"
    }
   },
   "source": [
    "## Pętle"
   ]
  },
  {
   "cell_type": "markdown",
   "metadata": {
    "slideshow": {
     "slide_type": "fragment"
    }
   },
   "source": [
    "* Jeżeli chcemy wykonać pewne działania na każdym elemencie listy, napisu, zbioru, krotki lub innego obiektu iterowalnego (np. otwartego pliku) możemy wykorzystać strukturę pętli, w której każdy kolejny element jest przetwarzany i wykonywane są instrukcje zawarte wewnątrz wciętego bloku\n",
    "* Rozróżniamy kilka rodzajów pętli"
   ]
  },
  {
   "cell_type": "markdown",
   "metadata": {
    "slideshow": {
     "slide_type": "slide"
    }
   },
   "source": [
    "### Pętla dla – `for`"
   ]
  },
  {
   "cell_type": "markdown",
   "metadata": {
    "slideshow": {
     "slide_type": "fragment"
    }
   },
   "source": [
    "```python\n",
    "for el in iterable:\n",
    "    print(\"pracujemy na\", iterable.index(el),\"elemencie o wartości\", el, \"z obiektu iterowanego\", iterable)\n",
    "```"
   ]
  },
  {
   "cell_type": "markdown",
   "metadata": {
    "slideshow": {
     "slide_type": "slide"
    }
   },
   "source": [
    "#### Przykłady"
   ]
  },
  {
   "cell_type": "code",
   "execution_count": null,
   "metadata": {
    "slideshow": {
     "slide_type": "fragment"
    }
   },
   "outputs": [],
   "source": [
    "string = 'Python'\n",
    "\n",
    "# Pętla:\n",
    "for litera in string:\n",
    "    print('litera:', litera)\n",
    "\n",
    "# Gdyby nie było pętli:\n",
    "# litera = string[0]    \n",
    "# print('litera:', litera)\n",
    "# litera = string[1]    \n",
    "# print('litera:', litera)\n",
    "# litera = string[2]    \n",
    "# print('litera:', litera)\n",
    "# litera = string[3]    \n",
    "# print('litera:', litera)\n",
    "# litera = string[4]    \n",
    "# print('litera:', litera)\n",
    "# litera = string[5]    \n",
    "# print('litera:', litera)"
   ]
  },
  {
   "cell_type": "code",
   "execution_count": null,
   "metadata": {
    "slideshow": {
     "slide_type": "subslide"
    }
   },
   "outputs": [],
   "source": [
    "warzywa = ['marchew', 'kalafior', 'kapusta']\n",
    "for warzywo in warzywa:\n",
    "    print('warzywo:', warzywo)"
   ]
  },
  {
   "cell_type": "markdown",
   "metadata": {
    "slideshow": {
     "slide_type": "slide"
    }
   },
   "source": [
    "#### Zadanie"
   ]
  },
  {
   "cell_type": "markdown",
   "metadata": {
    "slideshow": {
     "slide_type": "fragment"
    }
   },
   "source": [
    "* Utwórz listę zawierającą imiona wszystkich kursantów\n",
    "* Następnie ją posortuj alfabetycznie, oraz\n",
    "* Policz ile z osób na liście jest kobietami\n",
    "* W tym celu możesz sprawdzić czy imię kończy się na „`a`”"
   ]
  },
  {
   "cell_type": "markdown",
   "metadata": {
    "slideshow": {
     "slide_type": "slide"
    }
   },
   "source": [
    "### Zakres `range()`"
   ]
  },
  {
   "cell_type": "markdown",
   "metadata": {
    "slideshow": {
     "slide_type": "slide"
    }
   },
   "source": [
    "#### Funkcja `range()` w języku Python wyjaśniona na przykładzie "
   ]
  },
  {
   "cell_type": "markdown",
   "metadata": {
    "slideshow": {
     "slide_type": "fragment"
    }
   },
   "source": [
    "* Funkcja wbudowana `range()` generuje **liczby całkowite między podaną liczbą całkowitą początkową a liczbą całkowitą zatrzymania**, tj. zwraca obiekt zakresu\n",
    "* Używając pętli for, możemy iterować po sekwencji liczb utworzonych przez funkcję `range()`\n",
    "* Zrozummy, jak korzystać z funkcji `range()` w Pythonie na prostym przykładzie, wraz z wynikiem"
   ]
  },
  {
   "cell_type": "code",
   "execution_count": null,
   "metadata": {
    "slideshow": {
     "slide_type": "fragment"
    }
   },
   "outputs": [],
   "source": [
    "print(\"Przykład range() w Pythonie\")\n",
    "print(\"Uzyskaj liczby z zakresu od 0 do 5\")\n",
    "for i in range(6):\n",
    "    print(i, end=', ')"
   ]
  },
  {
   "cell_type": "markdown",
   "metadata": {
    "slideshow": {
     "slide_type": "slide"
    }
   },
   "source": [
    "![](https://pynative.com/wp-content/uploads/2018/10/python_range.png)"
   ]
  },
  {
   "cell_type": "markdown",
   "metadata": {
    "slideshow": {
     "slide_type": "fragment"
    }
   },
   "source": [
    "* Uwaga: Otrzymaliśmy liczby całkowite od `0` do `5`, ponieważ funkcja `range()` nie zawiera ostatniej (końcowej) liczby w wyniku"
   ]
  },
  {
   "cell_type": "markdown",
   "metadata": {
    "slideshow": {
     "slide_type": "slide"
    }
   },
   "source": [
    "* Składnia i argumenty funkcji `range()`\n",
    "```python\n",
    "range(start, stop[, step])\n",
    "```\n",
    "* Potrzeba trzech argumentów. Z trzech 2 argumentów są opcjonalne. Oznacza to, że `start` i `step` to argumenty opcjonalne.\n",
    "  * Argument **`start`** to numer początkowy sekwencji. tj. dolna granica; domyślnie zaczyna się od `0`, jeśli nie zostanie określony\n",
    "  * Argument **`stop`** to górna granica. tj. generuje liczby do tej liczby, `range()` nie uwzględnia tej liczby w wyniku\n",
    "  * Argument **`step`** jest różnicą między każdą liczbą w wyniku; domyślna wartość kroku to `1`, jeśli nie zostanie określona"
   ]
  },
  {
   "cell_type": "markdown",
   "metadata": {
    "slideshow": {
     "slide_type": "slide"
    }
   },
   "source": [
    "#### Zakres `range()`"
   ]
  },
  {
   "cell_type": "markdown",
   "metadata": {
    "slideshow": {
     "slide_type": "fragment"
    }
   },
   "source": [
    "* Funkcja `range()`"
   ]
  },
  {
   "cell_type": "code",
   "execution_count": null,
   "metadata": {
    "slideshow": {
     "slide_type": "fragment"
    }
   },
   "outputs": [],
   "source": [
    "for i in range(5):\n",
    "    print(i)"
   ]
  },
  {
   "cell_type": "code",
   "execution_count": null,
   "metadata": {
    "slideshow": {
     "slide_type": "fragment"
    }
   },
   "outputs": [],
   "source": [
    "for i in range(2, 11, 2):\n",
    "    print(i)"
   ]
  },
  {
   "cell_type": "code",
   "execution_count": null,
   "metadata": {
    "slideshow": {
     "slide_type": "fragment"
    }
   },
   "outputs": [],
   "source": [
    "print(list(range(2, 11, 2)))"
   ]
  },
  {
   "cell_type": "markdown",
   "metadata": {
    "slideshow": {
     "slide_type": "slide"
    }
   },
   "source": [
    "#### Pytanie ćwiczeniowe: Po pomyślnym wykonaniu pętli `for` wyświetl w jednym ciągu instrukcji komunikat „`Gotowe!`”"
   ]
  },
  {
   "cell_type": "markdown",
   "metadata": {
    "slideshow": {
     "slide_type": "slide"
    }
   },
   "source": [
    "* Na przykład następująca pętla zostanie wykonana bez żadnego błędu:"
   ]
  },
  {
   "cell_type": "code",
   "execution_count": null,
   "metadata": {
    "slideshow": {
     "slide_type": "fragment"
    }
   },
   "outputs": [],
   "source": [
    "for i in range(5):\n",
    "    print(i)"
   ]
  },
  {
   "cell_type": "markdown",
   "metadata": {
    "slideshow": {
     "slide_type": "fragment"
    }
   },
   "source": [
    "* Tak więc oczekiwany wynik powinien wyglądać następująco:\n",
    "```\n",
    "0\n",
    "1\n",
    "2\n",
    "3\n",
    "4\n",
    "Gotowe!\n",
    "```"
   ]
  },
  {
   "cell_type": "markdown",
   "metadata": {
    "slideshow": {
     "slide_type": "slide"
    }
   },
   "source": [
    "#### Rozwiązanie"
   ]
  },
  {
   "cell_type": "code",
   "execution_count": null,
   "metadata": {
    "slideshow": {
     "slide_type": "fragment"
    }
   },
   "outputs": [],
   "source": [
    "for i in range(5):\n",
    "    print(i)\n",
    "else:\n",
    "    print(\"Gotowe!\")"
   ]
  },
  {
   "cell_type": "markdown",
   "metadata": {
    "slideshow": {
     "slide_type": "slide"
    }
   },
   "source": [
    "### Pętla dopóki – `while`"
   ]
  },
  {
   "cell_type": "code",
   "execution_count": null,
   "metadata": {
    "slideshow": {
     "slide_type": "fragment"
    }
   },
   "outputs": [],
   "source": [
    "liczby = list()\n",
    "i = 2\n",
    "while i < 11:\n",
    "    liczby.append(i)\n",
    "    i += 2\n",
    "print(liczby) # [2, 4, 6, 8, 10]"
   ]
  },
  {
   "cell_type": "code",
   "execution_count": null,
   "metadata": {
    "slideshow": {
     "slide_type": "fragment"
    }
   },
   "outputs": [],
   "source": [
    "lines = list()\n",
    "print('Wprowadź tekst po linijce.')\n",
    "print('Żeby zakończyć wprowadź pustą linię.')\n",
    "line = input('Następna linijka: ')\n",
    "while line != '':\n",
    "    lines.append(line)\n",
    "    line = input('Następna linijka: ')  # reset\n",
    "print(lines)"
   ]
  },
  {
   "cell_type": "markdown",
   "metadata": {
    "slideshow": {
     "slide_type": "slide"
    }
   },
   "source": [
    "### Sterowanie pętlami"
   ]
  },
  {
   "cell_type": "markdown",
   "metadata": {
    "slideshow": {
     "slide_type": "slide"
    }
   },
   "source": [
    "#### Przerwanie pętli"
   ]
  },
  {
   "cell_type": "code",
   "execution_count": null,
   "metadata": {
    "slideshow": {
     "slide_type": "slide"
    }
   },
   "outputs": [],
   "source": [
    "for n in range(2, 100):\n",
    "    for x in range(2, n):\n",
    "        if n % x == 0:\n",
    "            break\n",
    "    else: # normalny koniec pętli\n",
    "        print(n, 'jest liczbą pierwszą')"
   ]
  },
  {
   "cell_type": "markdown",
   "metadata": {
    "slideshow": {
     "slide_type": "slide"
    }
   },
   "source": [
    "#### Przeskoczenie do następnej iteracji"
   ]
  },
  {
   "cell_type": "code",
   "execution_count": null,
   "metadata": {
    "slideshow": {
     "slide_type": "fragment"
    }
   },
   "outputs": [],
   "source": [
    "for num in range(1, 20):\n",
    "    if not num % 2:  # num % 2 == 0\n",
    "        print('Kolejna liczba parzysta:', num)\n",
    "        continue\n",
    "    print('Kolejna liczba:', num)"
   ]
  },
  {
   "cell_type": "markdown",
   "metadata": {
    "slideshow": {
     "slide_type": "slide"
    }
   },
   "source": [
    "#### Zadanie"
   ]
  },
  {
   "cell_type": "markdown",
   "metadata": {
    "slideshow": {
     "slide_type": "fragment"
    }
   },
   "source": [
    "* Napisz program, który policzy największy wspólny dzielnik dwóch liczb podanych przez użytkownika\n",
    "* W tym celu użyj operatora `%` oraz pętli `for`"
   ]
  },
  {
   "cell_type": "markdown",
   "metadata": {
    "slideshow": {
     "slide_type": "slide"
    }
   },
   "source": [
    "### Pass"
   ]
  },
  {
   "cell_type": "markdown",
   "metadata": {
    "slideshow": {
     "slide_type": "fragment"
    }
   },
   "source": [
    "* Z instrukcją pass nie jest związana jakakolwiek operacja – jej wykonanie nie powoduje żadnych skutków\n",
    "* Przydatna jest w roli wypełniacza, jeśli składnia wymaga obecności instrukcji, lecz nie jest potrzebne wykonanie żadnego kodu, np:"
   ]
  },
  {
   "cell_type": "code",
   "execution_count": null,
   "metadata": {
    "slideshow": {
     "slide_type": "fragment"
    }
   },
   "outputs": [],
   "source": [
    "while True:\n",
    "    pass # aktywne oczekiwanie"
   ]
  },
  {
   "cell_type": "markdown",
   "metadata": {
    "slideshow": {
     "slide_type": "slide"
    }
   },
   "source": [
    "#### Ćwiczenie"
   ]
  },
  {
   "cell_type": "markdown",
   "metadata": {
    "slideshow": {
     "slide_type": "fragment"
    }
   },
   "source": [
    "* Zobaczmy ćwiczenie, które pomoże lepiej zrozumieć instrukcję `pass`\n",
    "* Umieść instrukcję `pass`, aby blok `if` nie zgłaszał błędu"
   ]
  },
  {
   "cell_type": "code",
   "execution_count": null,
   "metadata": {
    "slideshow": {
     "slide_type": "fragment"
    }
   },
   "outputs": [],
   "source": [
    "name = input(\"Proszę wpisać swoje imię.\")\n",
    "# Wpisz swoją odpowiedź tutaj.\n",
    "\n",
    "if len(name) > 0:\n",
    "    print(name)\n",
    "else:"
   ]
  },
  {
   "cell_type": "markdown",
   "metadata": {
    "slideshow": {
     "slide_type": "slide"
    }
   },
   "source": [
    "* Wskazówka: instrukcja `pass` jest symbolem zastępczym w Pythonie, dzięki czemu pewne struktury można pozostawić niedokończone bez zgłaszania błędu"
   ]
  },
  {
   "cell_type": "markdown",
   "metadata": {
    "slideshow": {
     "slide_type": "slide"
    }
   },
   "source": [
    "#### Rozwiązanie"
   ]
  },
  {
   "cell_type": "code",
   "execution_count": null,
   "metadata": {
    "slideshow": {
     "slide_type": "fragment"
    }
   },
   "outputs": [],
   "source": [
    "name = input(\"Proszę wpisać swoje imię.\")\n",
    "# Wpisz swoją odpowiedź tutaj.\n",
    "\n",
    "if len(name) > 0:\n",
    "    print(name)\n",
    "else:\n",
    "    pass"
   ]
  },
  {
   "cell_type": "markdown",
   "metadata": {
    "slideshow": {
     "slide_type": "slide"
    }
   },
   "source": [
    "#### Podmiana zawartości zmiennych"
   ]
  },
  {
   "cell_type": "code",
   "execution_count": null,
   "metadata": {
    "slideshow": {
     "slide_type": "fragment"
    }
   },
   "outputs": [],
   "source": [
    "a = \"Python\"\n",
    "b = 317"
   ]
  },
  {
   "cell_type": "code",
   "execution_count": null,
   "metadata": {
    "slideshow": {
     "slide_type": "fragment"
    }
   },
   "outputs": [],
   "source": [
    "print(\"a: {}, b: {}\".format(a,b))"
   ]
  },
  {
   "cell_type": "code",
   "execution_count": null,
   "metadata": {
    "slideshow": {
     "slide_type": "fragment"
    }
   },
   "outputs": [],
   "source": [
    "b, a = a, b"
   ]
  },
  {
   "cell_type": "code",
   "execution_count": null,
   "metadata": {
    "slideshow": {
     "slide_type": "fragment"
    }
   },
   "outputs": [],
   "source": [
    "print(\"a: {}, b: {}\".format(a,b))"
   ]
  },
  {
   "cell_type": "markdown",
   "metadata": {
    "slideshow": {
     "slide_type": "slide"
    }
   },
   "source": [
    "## Ćwiczenie"
   ]
  },
  {
   "cell_type": "markdown",
   "metadata": {
    "slideshow": {
     "slide_type": "slide"
    }
   },
   "source": [
    "#### Znajdź liczby, które są podzielne przez 7 i są wielokrotnością 5 w zakresie"
   ]
  },
  {
   "cell_type": "markdown",
   "metadata": {
    "slideshow": {
     "slide_type": "fragment"
    }
   },
   "source": [
    "* Napisz program w Pythonie, aby znaleźć liczby podzielne przez `7` i będące wielokrotnością `5` między `1500` a `2700` (obie uwzględnione)"
   ]
  },
  {
   "cell_type": "markdown",
   "metadata": {
    "slideshow": {
     "slide_type": "slide"
    }
   },
   "source": [
    "![](https://www.w3resource.com/w3r_images/python-conditional-image-exercise-1.png)"
   ]
  },
  {
   "cell_type": "markdown",
   "metadata": {
    "slideshow": {
     "slide_type": "slide"
    }
   },
   "source": [
    "#### Przykładowe rozwiązanie"
   ]
  },
  {
   "cell_type": "markdown",
   "metadata": {
    "slideshow": {
     "slide_type": "fragment"
    }
   },
   "source": [
    "* Przykładowy kod Pythona i dane wyjściowe:"
   ]
  },
  {
   "cell_type": "code",
   "execution_count": null,
   "metadata": {
    "scrolled": true,
    "slideshow": {
     "slide_type": "fragment"
    }
   },
   "outputs": [],
   "source": [
    "nl = []\n",
    "for x in range(1500, 2701):\n",
    "    if x % 7 == 0 and x % 5 == 0:\n",
    "        nl.append(str(x))\n",
    "# print(nl)\n",
    "print(';'.join(nl))"
   ]
  },
  {
   "cell_type": "markdown",
   "metadata": {
    "slideshow": {
     "slide_type": "slide"
    }
   },
   "source": [
    "* Schemat blokowy:"
   ]
  },
  {
   "cell_type": "markdown",
   "metadata": {
    "slideshow": {
     "slide_type": "fragment"
    }
   },
   "source": [
    "![](https://www.w3resource.com/w3r_images/python-conditional-exercise-1.png)"
   ]
  },
  {
   "cell_type": "code",
   "execution_count": null,
   "metadata": {
    "slideshow": {
     "slide_type": "skip"
    }
   },
   "outputs": [],
   "source": []
  }
 ],
 "metadata": {
  "celltoolbar": "Slideshow",
  "kernelspec": {
   "display_name": "Python 3 (ipykernel)",
   "language": "python",
   "name": "python3"
  },
  "language_info": {
   "codemirror_mode": {
    "name": "ipython",
    "version": 3
   },
   "file_extension": ".py",
   "mimetype": "text/x-python",
   "name": "python",
   "nbconvert_exporter": "python",
   "pygments_lexer": "ipython3",
   "version": "3.8.11"
  }
 },
 "nbformat": 4,
 "nbformat_minor": 4
}
