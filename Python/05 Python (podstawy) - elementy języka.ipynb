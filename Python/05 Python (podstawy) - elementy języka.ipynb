{
 "cells": [
  {
   "cell_type": "markdown",
   "metadata": {
    "slideshow": {
     "slide_type": "slide"
    }
   },
   "source": [
    "# Python (podstawy) - elementy języka\n",
    "_Mikołaj Leszczuk_\n",
    "![](https://pics.me.me/thumb_r-programmerhumor-ph-u-abhijitjadhavaj-•-13h-indentation-checking-in-python-is-66725448.png)"
   ]
  },
  {
   "cell_type": "code",
   "execution_count": null,
   "metadata": {},
   "outputs": [],
   "source": []
  },
  {
   "cell_type": "markdown",
   "metadata": {
    "slideshow": {
     "slide_type": "slide"
    }
   },
   "source": [
    "## Operatory"
   ]
  },
  {
   "cell_type": "markdown",
   "metadata": {
    "slideshow": {
     "slide_type": "slide"
    }
   },
   "source": [
    "#### Typy operatorów"
   ]
  },
  {
   "cell_type": "markdown",
   "metadata": {
    "slideshow": {
     "slide_type": "fragment"
    }
   },
   "source": [
    "* Arytmetyczne:\n",
    "  * Dodawania: `+`\n",
    "  * Odejmowania: `-`\n",
    "  * Mnożenia: `*`\n",
    "  * Dzielenia: `/`\n",
    "  * Dzielenia modulo (reszta z dzielenia): `%`\n",
    "  * Dzielenia całkowitego: `//`\n",
    "  * Potęgowania: `**`"
   ]
  },
  {
   "cell_type": "markdown",
   "metadata": {
    "slideshow": {
     "slide_type": "subslide"
    }
   },
   "source": [
    "* Porównania `a` i `b`\n",
    "  * `a` i `b` jest równe: `==`\n",
    "  * `a` i `b` są różne:  `!=`\n",
    "  * `a` większe od: `b >`\n",
    "  * `a` mniejsze od: `b <`\n",
    "  * `a` większe lub równe:  `b >=`\n",
    "  * `a` mniejsze lub równe: `b <=`\n",
    "* Przypisania\n",
    "  * przypisz do lewej strony wartość z prawej strony: `=`\n",
    "  * dodaj do lewej strony wartość z prawej strony: `+= . . .`\n",
    "* Bitowe\n",
    "* Logiczne: `and`, `or`, `not`"
   ]
  },
  {
   "cell_type": "markdown",
   "metadata": {
    "slideshow": {
     "slide_type": "slide"
    }
   },
   "source": [
    "## Struktura przez wcięcia"
   ]
  },
  {
   "cell_type": "markdown",
   "metadata": {
    "slideshow": {
     "slide_type": "subslide"
    }
   },
   "source": [
    "* Cechą wyróżniającą **Pythona** spośród innych języków jest stosowanie wcięć do wydzielania bloków kodu\n",
    "* Jest to cecha unikatowa wśród powszechnie stosowanych języków programowania, jako pierwsza rzucająca się w oczy programistom niepiszącym w **Pythonie**\n",
    "* W językach programowania wywodzących strukturę blokową od **Algola** (niekoniecznie bezpośrednio) – np. **Pascalu**, **C**, czy **Perlu** – bloki kodu zaznaczane są klamrami lub słowami kluczowymi:\n",
    "  * C i Perl używają `{` `}`,\n",
    "  * Pascal używa `begin` i `end`"
   ]
  },
  {
   "cell_type": "markdown",
   "metadata": {
    "slideshow": {
     "slide_type": "subslide"
    }
   },
   "source": [
    "* Jednakże we wszystkich tych językach programiści tradycyjnie stosują wcięcia, by wyróżnić bloki w otaczającym kodzie\n",
    "* Natomiast **Python** dziedziczy cechę mniej znanego języka **ABC** – zamiast interpunkcji czy słów kluczowych używa samych wcięć do zaznaczania bloków\n",
    "* Wyjaśnić to można na prostym przykładzie zamieszczonym na kolejnym slajdzie\n",
    "* Przedstawiona jest w nim funkcja licząca silnię w **C** i w **Pythonie**"
   ]
  },
  {
   "cell_type": "markdown",
   "metadata": {
    "slideshow": {
     "slide_type": "subslide"
    }
   },
   "source": [
    "**Silnia w C (zapisana bez wcięć):**\n",
    "\n",
    "```C\n",
    "int silnia(int x) { \n",
    "\tif (x == 0) return 1; \n",
    "\telse return x * silnia(x-1); }\n",
    "```\n",
    "\n",
    "**Silnia w Pythonie:**\n",
    "\n",
    "```python\n",
    "def silnia(x):\n",
    "\tif x == 0: \n",
    "\t\treturn 1 \n",
    "\telse: \n",
    "\t\treturn x * silnia(x - 1)\n",
    "```"
   ]
  },
  {
   "cell_type": "markdown",
   "metadata": {
    "slideshow": {
     "slide_type": "subslide"
    }
   },
   "source": [
    "* Dla niektórych programistów przyzwyczajonych do języków stylistycznie wzorowanych na **Algolu**, gdzie spacja nie ma znaczenia składniowego, może to być mylące\n",
    "* Spotyka się czasem niepochlebne porównanie do sztywnego systemu kolumnowego kart perforowanych stosowanego w czasach **fortranowych**\n",
    "* Istotnie, w swoim czasie możliwość stosowania zapisu, w którym decydujące były jedynie symbole, była dużym postępem\n",
    "* Jednak dla programistów piszących w Pythonie stosowanie składniowo znaczących wcięć jest po prostu przedłużeniem konwencji, która i tak jest stosowana np. w **C**"
   ]
  },
  {
   "cell_type": "markdown",
   "metadata": {
    "slideshow": {
     "slide_type": "subslide"
    }
   },
   "source": [
    "* Zwolennicy tego języka zwracają także uwagę na wadę „swobodnej” składni, polegającą na tym, że skoro wcięcia kodu są ignorowane, nie można wymusić jednej dobrej konwencji (stąd też konflikty między programistami, dotyczące stosowania **spacji** (i różnej ich liczby) lub **tabulatorów**, tzw. [**_indentation wars_**](https://www.wykop.pl/wpis/32266253/pasta-heheszki-mecz-humorinformatykow-pewnego-piek/))\n",
    "* Nieprawidłowo wcięty kod może być mylący, gdyż czytający go programista i kompilator mogą go różnie zinterpretować"
   ]
  },
  {
   "cell_type": "markdown",
   "metadata": {
    "slideshow": {
     "slide_type": "slide"
    }
   },
   "source": [
    "## Instrukcje warunkowe"
   ]
  },
  {
   "cell_type": "markdown",
   "metadata": {
    "slideshow": {
     "slide_type": "fragment"
    }
   },
   "source": [
    "```python\n",
    "if punkty >= 90:\n",
    "    ocena = '5'\n",
    "elif punkty >= 75:    \n",
    "    ocena = '4'\n",
    "elif punkty >= 60:\n",
    "    ocena = '3'\n",
    "else:\n",
    "    ocena = '2'\n",
    "```"
   ]
  },
  {
   "cell_type": "markdown",
   "metadata": {
    "slideshow": {
     "slide_type": "slide"
    }
   },
   "source": [
    "## Operatory logiczne `not`, `and`, `or`"
   ]
  },
  {
   "cell_type": "markdown",
   "metadata": {
    "slideshow": {
     "slide_type": "slide"
    }
   },
   "source": [
    "### Operator logiczny `not`"
   ]
  },
  {
   "cell_type": "markdown",
   "metadata": {
    "slideshow": {
     "slide_type": "fragment"
    }
   },
   "source": [
    "* Jeśli chcemy, aby coś było `False`, możemy tego użyć `not`\n",
    "* Jest to operator logiczny:"
   ]
  },
  {
   "cell_type": "code",
   "execution_count": null,
   "metadata": {
    "slideshow": {
     "slide_type": "fragment"
    }
   },
   "outputs": [],
   "source": [
    "x = False\n",
    "if not x:\n",
    "    print(\"warunek spełniony\")\n",
    "else:\n",
    "    print(\"warunek niespełniony\")"
   ]
  },
  {
   "cell_type": "markdown",
   "metadata": {
    "slideshow": {
     "slide_type": "slide"
    }
   },
   "source": [
    "### Operatory logiczne `and`, `or`"
   ]
  },
  {
   "cell_type": "markdown",
   "metadata": {
    "slideshow": {
     "slide_type": "fragment"
    }
   },
   "source": [
    "* Zasada działania tych operatorów odrobinę różni się od analogicznych operatorów znanych z innych języków programowania\n",
    "* Przede wszystkim: operatory zwracają wystarczającą wartość, która je spełnia\n",
    "* Niech zostanie to zobrazowane na przykładach:"
   ]
  },
  {
   "cell_type": "code",
   "execution_count": null,
   "metadata": {
    "slideshow": {
     "slide_type": "fragment"
    }
   },
   "outputs": [],
   "source": [
    "niepusta_wartosc = 0 or 0.0 or \"\" or [] or \"test\" or [123]"
   ]
  },
  {
   "cell_type": "code",
   "execution_count": null,
   "metadata": {
    "slideshow": {
     "slide_type": "fragment"
    }
   },
   "outputs": [],
   "source": [
    "print(niepusta_wartosc)"
   ]
  },
  {
   "cell_type": "markdown",
   "metadata": {
    "slideshow": {
     "slide_type": "subslide"
    }
   },
   "source": [
    "* Operator `or` działa tak, że jeżeli jakakolwiek wartość go spełnia, to operator „działa”\n",
    "* W przeciwieństwie do operatora `and`, który musi mieć wszystkie wartości, aby „zadziałać”\n",
    "* Wtedy ostatnia wartość, która go spełnia, jest zwrócona:"
   ]
  },
  {
   "cell_type": "code",
   "execution_count": null,
   "metadata": {
    "slideshow": {
     "slide_type": "fragment"
    }
   },
   "outputs": [],
   "source": [
    "kazda_wartosc = \"test\" and [123]"
   ]
  },
  {
   "cell_type": "code",
   "execution_count": null,
   "metadata": {
    "slideshow": {
     "slide_type": "fragment"
    }
   },
   "outputs": [],
   "source": [
    "print(kazda_wartosc)"
   ]
  },
  {
   "cell_type": "markdown",
   "metadata": {
    "slideshow": {
     "slide_type": "subslide"
    }
   },
   "source": [
    "* Dodatkowe przykłady"
   ]
  },
  {
   "cell_type": "code",
   "execution_count": null,
   "metadata": {
    "slideshow": {
     "slide_type": "fragment"
    }
   },
   "outputs": [],
   "source": [
    "print(\"test\" or 0)"
   ]
  },
  {
   "cell_type": "code",
   "execution_count": null,
   "metadata": {
    "slideshow": {
     "slide_type": "fragment"
    }
   },
   "outputs": [],
   "source": [
    "print([] and \"test\")"
   ]
  },
  {
   "cell_type": "markdown",
   "metadata": {
    "slideshow": {
     "slide_type": "fragment"
    }
   },
   "source": [
    "* Pusty string, pusta lista, pusty słownik, pusty zbiór i wartości liczbowe zero (np. `0`, `0.0`) są rozumiane logicznie jak `False` w Pythonie, dlatego operator and w powyższym przykładzie zwraca `[]` – pierwszy element, który jest fałszywy i nie spełni tego operatora"
   ]
  },
  {
   "cell_type": "markdown",
   "metadata": {
    "slideshow": {
     "slide_type": "slide"
    }
   },
   "source": [
    "## Operatory liniowe/trójskładnikowe"
   ]
  },
  {
   "cell_type": "markdown",
   "metadata": {
    "slideshow": {
     "slide_type": "fragment"
    }
   },
   "source": [
    "* Operatory liniowe/trójskładnikowe są w Pythonie bardziej znane jako wyrażenia warunkowe\n",
    "* Te operatory oceniają coś na podstawie warunku, który jest prawdziwy lub nie\n",
    "* Stały się częścią Pythona w wersji 2.4\n",
    "* Na następnych slajdach – plan i przykład użycia tych wyrażeń warunkowych"
   ]
  },
  {
   "cell_type": "markdown",
   "metadata": {
    "slideshow": {
     "slide_type": "slide"
    }
   },
   "source": [
    "### Warunkowy operator liniowy `if`-`else`"
   ]
  },
  {
   "cell_type": "markdown",
   "metadata": {
    "slideshow": {
     "slide_type": "slide"
    }
   },
   "source": [
    "#### Plan"
   ]
  },
  {
   "cell_type": "markdown",
   "metadata": {
    "slideshow": {
     "slide_type": "fragment"
    }
   },
   "source": [
    "```python\n",
    "value_if_true if condition else value_if_false\n",
    "```"
   ]
  },
  {
   "cell_type": "markdown",
   "metadata": {
    "slideshow": {
     "slide_type": "slide"
    }
   },
   "source": [
    "#### Przykład"
   ]
  },
  {
   "cell_type": "code",
   "execution_count": null,
   "metadata": {
    "slideshow": {
     "slide_type": "fragment"
    }
   },
   "outputs": [],
   "source": [
    "wartosc = \"warunek spełniony\" if True else \"warunek niespełniony\"\n",
    "\n",
    "# wartosc = \"warunek niespełniony\"\n",
    "# if True: wartosc = \"warunek spełniony\"\n",
    "\n",
    "print(wartosc)"
   ]
  },
  {
   "cell_type": "markdown",
   "metadata": {
    "slideshow": {
     "slide_type": "slide"
    }
   },
   "source": [
    "### Operator trójskładnikowy"
   ]
  },
  {
   "cell_type": "markdown",
   "metadata": {
    "slideshow": {
     "slide_type": "fragment"
    }
   },
   "source": [
    "* Pozwala szybko przetestować warunek zamiast wielowierszowej instrukcji `if`\n",
    "* Często może być niezwykle pomocny i może sprawić, że kod będzie zwarty, ale nadal będzie możliwy do utrzymania\n",
    "* Inny, bardziej niejasny i rzadko używany przykład dotyczy krotek\n",
    "* Oto przykładowy kod..."
   ]
  },
  {
   "cell_type": "markdown",
   "metadata": {
    "slideshow": {
     "slide_type": "slide"
    }
   },
   "source": [
    "#### Plan"
   ]
  },
  {
   "cell_type": "markdown",
   "metadata": {
    "slideshow": {
     "slide_type": "fragment"
    }
   },
   "source": [
    "```python\n",
    "(if_test_is_false, if_test_is_true)[test]\n",
    "```"
   ]
  },
  {
   "cell_type": "markdown",
   "metadata": {
    "slideshow": {
     "slide_type": "slide"
    }
   },
   "source": [
    "#### Przykład"
   ]
  },
  {
   "cell_type": "code",
   "execution_count": null,
   "metadata": {
    "slideshow": {
     "slide_type": "fragment"
    }
   },
   "outputs": [],
   "source": [
    "nice = True"
   ]
  },
  {
   "cell_type": "code",
   "execution_count": null,
   "metadata": {
    "slideshow": {
     "slide_type": "fragment"
    }
   },
   "outputs": [],
   "source": [
    "personality = (\"wredny\", \"miły\")[nice]"
   ]
  },
  {
   "cell_type": "code",
   "execution_count": null,
   "metadata": {
    "slideshow": {
     "slide_type": "fragment"
    }
   },
   "outputs": [],
   "source": [
    "print(\"Kot jest\", personality)  # Wyjście: Kot jest miły"
   ]
  },
  {
   "cell_type": "markdown",
   "metadata": {
    "slideshow": {
     "slide_type": "slide"
    }
   },
   "source": [
    "## Pętle"
   ]
  },
  {
   "cell_type": "markdown",
   "metadata": {
    "slideshow": {
     "slide_type": "fragment"
    }
   },
   "source": [
    "* Jeżeli chcemy wykonać pewne działania na każdym elemencie listy, napisu, zbioru, krotki lub innego obiektu iterowalnego (np. otwartego pliku) możemy wykorzystać strukturę pętli, w której każdy kolejny element jest przetwarzany i wykonywane są instrukcje zawarte wewnątrz wciętego bloku\n",
    "* Rozróżniamy kilka rodzajów pętli"
   ]
  },
  {
   "cell_type": "markdown",
   "metadata": {
    "slideshow": {
     "slide_type": "slide"
    }
   },
   "source": [
    "### Pętla dla – `for`"
   ]
  },
  {
   "cell_type": "markdown",
   "metadata": {
    "slideshow": {
     "slide_type": "fragment"
    }
   },
   "source": [
    "```python\n",
    "for el in iterable:\n",
    "    print(\"pracujemy na\", iterable.index(el),\"elemencie o wartości\", el, \"z obiektu iterowanego\", iterable)\n",
    "```"
   ]
  },
  {
   "cell_type": "markdown",
   "metadata": {
    "slideshow": {
     "slide_type": "slide"
    }
   },
   "source": [
    "#### Przykłady"
   ]
  },
  {
   "cell_type": "code",
   "execution_count": null,
   "metadata": {
    "slideshow": {
     "slide_type": "fragment"
    }
   },
   "outputs": [],
   "source": [
    "string = 'Python'\n",
    "for litera in string:\n",
    "    print('litera:', litera)\n",
    "# litera = string[0]\n",
    "# print('litera:', litera)\n",
    "# litera = string[1]    \n",
    "# print('litera:', litera)\n",
    "# litera = string[2]    \n",
    "# print('litera:', litera)\n",
    "# litera = string[3]    \n",
    "# print('litera:', litera)\n",
    "# litera = string[4]    \n",
    "# print('litera:', litera)\n",
    "# litera = string[5]    \n",
    "# print('litera:', litera)"
   ]
  },
  {
   "cell_type": "code",
   "execution_count": null,
   "metadata": {
    "slideshow": {
     "slide_type": "subslide"
    }
   },
   "outputs": [],
   "source": [
    "warzywa = ['marchew', 'kalafior', 'kapusta']\n",
    "for warzywo in warzywa:\n",
    "    print('warzywo:', warzywo)"
   ]
  },
  {
   "cell_type": "markdown",
   "metadata": {
    "slideshow": {
     "slide_type": "slide"
    }
   },
   "source": [
    "### Zakres `range()`"
   ]
  },
  {
   "cell_type": "markdown",
   "metadata": {
    "slideshow": {
     "slide_type": "slide"
    }
   },
   "source": [
    "#### Funkcja `range()` w języku Python wyjaśniona na przykładzie "
   ]
  },
  {
   "cell_type": "markdown",
   "metadata": {
    "slideshow": {
     "slide_type": "fragment"
    }
   },
   "source": [
    "* Funkcja wbudowana `range()` generuje **liczby całkowite między podaną liczbą całkowitą początkową a liczbą całkowitą zatrzymania**, tj. zwraca obiekt zakresu\n",
    "* Używając pętli for, możemy iterować po sekwencji liczb utworzonych przez funkcję `range()`\n",
    "* Zrozummy, jak korzystać z funkcji `range()` w Pythonie na prostym przykładzie, wraz z wynikiem"
   ]
  },
  {
   "cell_type": "code",
   "execution_count": null,
   "metadata": {
    "slideshow": {
     "slide_type": "subslide"
    }
   },
   "outputs": [],
   "source": [
    "print(\"Przykład range() w Pythonie\")\n",
    "print(\"Uzyskaj liczby z zakresu od 0 do 5\")\n",
    "for i in range(6):    \n",
    "    print(i, end=', ')"
   ]
  },
  {
   "cell_type": "markdown",
   "metadata": {
    "slideshow": {
     "slide_type": "slide"
    }
   },
   "source": [
    "![](https://pynative.com/wp-content/uploads/2018/10/python_range.png)"
   ]
  },
  {
   "cell_type": "markdown",
   "metadata": {
    "slideshow": {
     "slide_type": "fragment"
    }
   },
   "source": [
    "* Uwaga: Otrzymaliśmy liczby całkowite od `0` do `5`, ponieważ funkcja `range()` nie zawiera ostatniej (końcowej) liczby w wyniku"
   ]
  },
  {
   "cell_type": "markdown",
   "metadata": {
    "slideshow": {
     "slide_type": "slide"
    }
   },
   "source": [
    "* Składnia i argumenty funkcji `range()`\n",
    "```python\n",
    "range(start, stop[, step])\n",
    "```\n",
    "* Potrzeba trzech argumentów. Z trzech 2 argumentów są opcjonalne. Oznacza to, że `start` i `step` to argumenty opcjonalne.\n",
    "  * Argument **`start`** to numer początkowy sekwencji. tj. dolna granica; domyślnie zaczyna się od `0`, jeśli nie zostanie określony\n",
    "  * Argument **`stop`** to górna granica. tj. generuje liczby do tej liczby, `range()` nie uwzględnia tej liczby w wyniku\n",
    "  * Argument **`step`** jest różnicą między każdą liczbą w wyniku; domyślna wartość kroku to `1`, jeśli nie zostanie określona"
   ]
  },
  {
   "cell_type": "markdown",
   "metadata": {
    "slideshow": {
     "slide_type": "slide"
    }
   },
   "source": [
    "#### Zakres `range()`"
   ]
  },
  {
   "cell_type": "markdown",
   "metadata": {
    "slideshow": {
     "slide_type": "fragment"
    }
   },
   "source": [
    "* Funkcja `range()`"
   ]
  },
  {
   "cell_type": "code",
   "execution_count": null,
   "metadata": {
    "slideshow": {
     "slide_type": "fragment"
    }
   },
   "outputs": [],
   "source": [
    "for i in range(5):\n",
    "    print(i)"
   ]
  },
  {
   "cell_type": "code",
   "execution_count": null,
   "metadata": {
    "slideshow": {
     "slide_type": "fragment"
    }
   },
   "outputs": [],
   "source": [
    "for i in range(2, 11, 2):\n",
    "    print(i)"
   ]
  },
  {
   "cell_type": "code",
   "execution_count": null,
   "metadata": {
    "slideshow": {
     "slide_type": "subslide"
    }
   },
   "outputs": [],
   "source": [
    "print(range(2, 11, 2))\n",
    "\n",
    "lista = list(range(2, 11, 2))\n",
    "print(lista)"
   ]
  },
  {
   "cell_type": "markdown",
   "metadata": {
    "slideshow": {
     "slide_type": "slide"
    }
   },
   "source": [
    "### Pętla dopóki – `while`"
   ]
  },
  {
   "cell_type": "code",
   "execution_count": null,
   "metadata": {
    "slideshow": {
     "slide_type": "fragment"
    }
   },
   "outputs": [],
   "source": [
    "liczby = list()  # []\n",
    "i = 2\n",
    "while i < 11:\n",
    "    liczby.append(i)\n",
    "    i += 2\n",
    "print(liczby)  # [2, 4, 6, 8, 10]"
   ]
  },
  {
   "cell_type": "code",
   "execution_count": null,
   "metadata": {
    "slideshow": {
     "slide_type": "subslide"
    }
   },
   "outputs": [],
   "source": [
    "lines = list()\n",
    "print('Wprowadź tekst po linijce.')\n",
    "print('Żeby zakończyć wprowadź pustą linię.')\n",
    "line = input('Następna linijka: ')\n",
    "while line != '':\n",
    "    lines.append(line)\n",
    "    line = input('Następna linijka: ')  # reset\n",
    "print(lines)"
   ]
  },
  {
   "cell_type": "markdown",
   "metadata": {
    "slideshow": {
     "slide_type": "slide"
    }
   },
   "source": [
    "### Sterowanie pętlami"
   ]
  },
  {
   "cell_type": "markdown",
   "metadata": {
    "slideshow": {
     "slide_type": "slide"
    }
   },
   "source": [
    "#### Przerwanie pętli"
   ]
  },
  {
   "cell_type": "code",
   "execution_count": null,
   "metadata": {
    "slideshow": {
     "slide_type": "fragment"
    }
   },
   "outputs": [],
   "source": [
    "# Użycie instrukcji break wewnątrz pętli\n",
    "\n",
    "for val in \"string\":\n",
    "    if val == \"i\":\n",
    "        break\n",
    "    print(val)\n",
    "\n",
    "print(\"Koniec\")"
   ]
  },
  {
   "cell_type": "markdown",
   "metadata": {
    "slideshow": {
     "slide_type": "slide"
    }
   },
   "source": [
    "#### Używanie instrukcji warunkowej `else` z pętlą `for` w Pythonie"
   ]
  },
  {
   "cell_type": "markdown",
   "metadata": {
    "slideshow": {
     "slide_type": "fragment"
    }
   },
   "source": [
    "W większości języków programowania (C/C++, Java, itp.) użycie instrukcji `else` zostało ograniczone do instrukcji warunkowych `if`. Ale Python pozwala nam również na użycie warunku `else` z pętlami `for`.\n",
    "\n",
    "> Blok `else` tuż po `for`/`while` jest wykonywany tylko wtedy, gdy pętla NIE jest zakończona instrukcją `break`."
   ]
  },
  {
   "cell_type": "markdown",
   "metadata": {
    "slideshow": {
     "slide_type": "subslide"
    }
   },
   "source": [
    "**Blok `else` jest wykonywany w poniższym programie Pythona 3.x:**"
   ]
  },
  {
   "cell_type": "code",
   "execution_count": null,
   "metadata": {
    "slideshow": {
     "slide_type": "fragment"
    }
   },
   "outputs": [],
   "source": [
    "for i in range(1, 4):\n",
    "    print(i)\n",
    "else:  # Wykonane, ponieważ nie ma break w for\n",
    "    print(\"Bez break\")"
   ]
  },
  {
   "cell_type": "markdown",
   "metadata": {
    "slideshow": {
     "slide_type": "fragment"
    }
   },
   "source": [
    "**Blok `else` NIE jest wykonywany w poniższym programie Pythona 3.x:**"
   ]
  },
  {
   "cell_type": "code",
   "execution_count": null,
   "metadata": {
    "slideshow": {
     "slide_type": "fragment"
    }
   },
   "outputs": [],
   "source": [
    "for i in range(1, 4):\n",
    "    print(i)\n",
    "    break\n",
    "else:  # Niewykonane, ponieważ jest break w for\n",
    "    print(\"Bez break\")"
   ]
  },
  {
   "cell_type": "code",
   "execution_count": null,
   "metadata": {
    "slideshow": {
     "slide_type": "subslide"
    }
   },
   "outputs": [],
   "source": [
    "for n in range(2, 100):\n",
    "    for x in range(2, n):\n",
    "        if n % x == 0:\n",
    "            break\n",
    "    else: # normalny koniec pętli\n",
    "        print(n, 'jest liczbą pierwszą')"
   ]
  },
  {
   "cell_type": "markdown",
   "metadata": {
    "slideshow": {
     "slide_type": "slide"
    }
   },
   "source": [
    "#### Przeskoczenie do następnej iteracji"
   ]
  },
  {
   "cell_type": "code",
   "execution_count": null,
   "metadata": {
    "slideshow": {
     "slide_type": "fragment"
    }
   },
   "outputs": [],
   "source": [
    "for num in range(1, 20):\n",
    "    if not num % 2:  # num % 2 == 0\n",
    "        print('Kolejna liczba parzysta:', num)\n",
    "        continue\n",
    "    print('Kolejna liczba:', num)"
   ]
  },
  {
   "cell_type": "markdown",
   "metadata": {
    "slideshow": {
     "slide_type": "slide"
    }
   },
   "source": [
    "## Pass"
   ]
  },
  {
   "cell_type": "markdown",
   "metadata": {
    "slideshow": {
     "slide_type": "fragment"
    }
   },
   "source": [
    "* Z instrukcją pass nie jest związana jakakolwiek operacja – jej wykonanie nie powoduje żadnych skutków\n",
    "* Przydatna jest w roli wypełniacza, jeśli składnia wymaga obecności instrukcji, lecz nie jest potrzebne wykonanie żadnego kodu, np:"
   ]
  },
  {
   "cell_type": "code",
   "execution_count": null,
   "metadata": {
    "slideshow": {
     "slide_type": "fragment"
    }
   },
   "outputs": [],
   "source": [
    "for i in range(10):\n",
    "    pass\n",
    "print(\"Pętla wykonana\")"
   ]
  },
  {
   "cell_type": "markdown",
   "metadata": {
    "slideshow": {
     "slide_type": "slide"
    }
   },
   "source": [
    "## Podmiana zawartości zmiennych"
   ]
  },
  {
   "cell_type": "code",
   "execution_count": null,
   "metadata": {
    "slideshow": {
     "slide_type": "fragment"
    }
   },
   "outputs": [],
   "source": [
    "a = \"Python\"\n",
    "b = 317"
   ]
  },
  {
   "cell_type": "code",
   "execution_count": null,
   "metadata": {
    "slideshow": {
     "slide_type": "fragment"
    }
   },
   "outputs": [],
   "source": [
    "print(\"a: {}, b: {}\".format(a, b))"
   ]
  },
  {
   "cell_type": "code",
   "execution_count": null,
   "metadata": {
    "slideshow": {
     "slide_type": "fragment"
    }
   },
   "outputs": [],
   "source": [
    "b, a = a, b"
   ]
  },
  {
   "cell_type": "code",
   "execution_count": null,
   "metadata": {
    "slideshow": {
     "slide_type": "fragment"
    }
   },
   "outputs": [],
   "source": [
    "print(\"a: {}, b: {}\".format(a, b))"
   ]
  },
  {
   "cell_type": "markdown",
   "metadata": {
    "slideshow": {
     "slide_type": "slide"
    }
   },
   "source": [
    "## Ćwiczenia"
   ]
  },
  {
   "cell_type": "markdown",
   "metadata": {
    "slideshow": {
     "slide_type": "slide"
    }
   },
   "source": [
    "### Zadanie"
   ]
  },
  {
   "cell_type": "markdown",
   "metadata": {
    "slideshow": {
     "slide_type": "fragment"
    }
   },
   "source": [
    "Napisz program, który:\n",
    "* Będzie prosił użytkownika o podanie dwóch liczb, i\n",
    "* Wypisze:\n",
    "    * Wynik ich dzielenia,\n",
    "    * Resztę z dzielenia, oraz \n",
    "    * Wynik dzielenia całkowitego"
   ]
  },
  {
   "cell_type": "markdown",
   "metadata": {
    "slideshow": {
     "slide_type": "slide"
    }
   },
   "source": [
    "### `and`"
   ]
  },
  {
   "cell_type": "markdown",
   "metadata": {
    "slideshow": {
     "slide_type": "slide"
    }
   },
   "source": [
    "#### Przykład – `and`"
   ]
  },
  {
   "cell_type": "markdown",
   "metadata": {
    "slideshow": {
     "slide_type": "fragment"
    }
   },
   "source": [
    "* Zwróć `True`, jeśli oba stwierdzenia są prawdziwe\n",
    "* `x > 3` i `x < 10`\n",
    "* Spróbuj!"
   ]
  },
  {
   "cell_type": "markdown",
   "metadata": {
    "slideshow": {
     "slide_type": "slide"
    }
   },
   "source": [
    "#### Spróbuj – `and`"
   ]
  },
  {
   "cell_type": "code",
   "execution_count": null,
   "metadata": {
    "slideshow": {
     "slide_type": "fragment"
    }
   },
   "outputs": [],
   "source": [
    "x = 5"
   ]
  },
  {
   "cell_type": "code",
   "execution_count": null,
   "metadata": {
    "slideshow": {
     "slide_type": "fragment"
    }
   },
   "outputs": [],
   "source": [
    "print(x > 3 and x < 10)\n",
    "# zwraca True, ponieważ 5 jest większe niż 3 AND 5 jest mniejsze niż 10"
   ]
  },
  {
   "cell_type": "markdown",
   "metadata": {
    "slideshow": {
     "slide_type": "slide"
    }
   },
   "source": [
    "### `or`"
   ]
  },
  {
   "cell_type": "markdown",
   "metadata": {
    "slideshow": {
     "slide_type": "slide"
    }
   },
   "source": [
    "#### Przykład – `or`"
   ]
  },
  {
   "cell_type": "markdown",
   "metadata": {
    "slideshow": {
     "slide_type": "fragment"
    }
   },
   "source": [
    "* Zwróć wartość `True`, jeśli jedno ze stwierdzeń jest prawdziwe\n",
    "* `x > 4` lub `x < 3`\n",
    "* Spróbuj!\n"
   ]
  },
  {
   "cell_type": "markdown",
   "metadata": {
    "slideshow": {
     "slide_type": "slide"
    }
   },
   "source": [
    "#### Spróbuj – `or`"
   ]
  },
  {
   "cell_type": "code",
   "execution_count": null,
   "metadata": {
    "slideshow": {
     "slide_type": "fragment"
    }
   },
   "outputs": [],
   "source": [
    "x = 5"
   ]
  },
  {
   "cell_type": "code",
   "execution_count": null,
   "metadata": {
    "slideshow": {
     "slide_type": "fragment"
    }
   },
   "outputs": [],
   "source": [
    "print(x > 4 or x < 3)\n",
    "# zwraca True, ponieważ jeden z warunków jest spełniony (5 jest większe niż 3, ale 5 jest nie mniejsze niż 4)"
   ]
  },
  {
   "cell_type": "markdown",
   "metadata": {
    "slideshow": {
     "slide_type": "slide"
    }
   },
   "source": [
    "### `not`"
   ]
  },
  {
   "cell_type": "markdown",
   "metadata": {
    "slideshow": {
     "slide_type": "slide"
    }
   },
   "source": [
    "#### Przykład – `not`"
   ]
  },
  {
   "cell_type": "markdown",
   "metadata": {
    "slideshow": {
     "slide_type": "fragment"
    }
   },
   "source": [
    "* Odwróć wynik, zwróć `False`, jeśli wynik jest prawdziwy\n",
    "* nie ( `x > 3` i `x < 10` )\n",
    "* Spróbuj!"
   ]
  },
  {
   "cell_type": "markdown",
   "metadata": {
    "slideshow": {
     "slide_type": "slide"
    }
   },
   "source": [
    "#### Spróbuj – `not`"
   ]
  },
  {
   "cell_type": "code",
   "execution_count": null,
   "metadata": {
    "slideshow": {
     "slide_type": "fragment"
    }
   },
   "outputs": [],
   "source": [
    "x = 5"
   ]
  },
  {
   "cell_type": "code",
   "execution_count": null,
   "metadata": {
    "slideshow": {
     "slide_type": "fragment"
    }
   },
   "outputs": [],
   "source": [
    "print(not(x > 3 and x < 10))\n",
    "# zwraca False, ponieważ not służy do odwrócenia wyniku"
   ]
  },
  {
   "cell_type": "markdown",
   "metadata": {
    "slideshow": {
     "slide_type": "slide"
    }
   },
   "source": [
    "### Instrukcja `if`"
   ]
  },
  {
   "cell_type": "markdown",
   "metadata": {
    "slideshow": {
     "slide_type": "slide"
    }
   },
   "source": [
    "#### Ćwiczenie instrukcji `if`"
   ]
  },
  {
   "cell_type": "markdown",
   "metadata": {
    "slideshow": {
     "slide_type": "fragment"
    }
   },
   "source": [
    "* Przypisz `8` do zmiennej `x` i `15` do zmiennej `y`\n",
    "* Utwórz 2 instrukcje warunkowe\n",
    "* Niech pierwsza wypisze: „Co najmniej jeden z warunków jest spełniony”, jeśli `x` jest większe niż `3` lub `y` jest parzyste\n",
    "* Niech drugi wypisze „Żaden warunek nie jest spełniony”, jeśli `x` jest mniejsze lub równe `3`, a `y` jest nieparzyste\n",
    "* Zmień wartości przypisane do `x` i `y` i ponownie uruchom komórkę, aby sprawdzić, czy kod nadal działa"
   ]
  },
  {
   "cell_type": "markdown",
   "metadata": {
    "slideshow": {
     "slide_type": "slide"
    }
   },
   "source": [
    "#### Rozwiązanie ćwiczenia instrukcji `if`"
   ]
  },
  {
   "cell_type": "markdown",
   "metadata": {
    "slideshow": {
     "slide_type": "fragment"
    }
   },
   "source": [
    "* To ćwiczenie można podzielić na dwa podzadania\n",
    "```python\n",
    "if x > 3 or y % 2 == 0:\n",
    "    print(\"Co najmniej jeden z warunków jest spełniony\")\n",
    "```\n",
    "* Teraz druga część ćwiczenia\n",
    "```python\n",
    "if x <= 3 and y % 2 == 1:\n",
    "    print(\"Żaden warunek nie jest spełniony\")\n",
    "```"
   ]
  },
  {
   "cell_type": "markdown",
   "metadata": {
    "slideshow": {
     "slide_type": "slide"
    }
   },
   "source": [
    "### Zadanie"
   ]
  },
  {
   "cell_type": "markdown",
   "metadata": {
    "slideshow": {
     "slide_type": "fragment"
    }
   },
   "source": [
    "* Utwórz listę zawierającą imiona wszystkich kursantów\n",
    "* Następnie ją posortuj alfabetycznie, oraz\n",
    "* Policz ile z osób na liście jest kobietami\n",
    "* W tym celu możesz sprawdzić czy imię kończy się na „`a`”"
   ]
  },
  {
   "cell_type": "markdown",
   "metadata": {
    "slideshow": {
     "slide_type": "slide"
    }
   },
   "source": [
    "### Po pomyślnym wykonaniu (bez `break`) pętli `for` wyświetl komunikat „`Gotowe!`”"
   ]
  },
  {
   "cell_type": "markdown",
   "metadata": {
    "slideshow": {
     "slide_type": "slide"
    }
   },
   "source": [
    "#### Pytanie ćwiczeniowe"
   ]
  },
  {
   "cell_type": "markdown",
   "metadata": {
    "slideshow": {
     "slide_type": "slide"
    }
   },
   "source": [
    "* Na przykład następująca pętla zostanie wykonana bez żadnego przerwania:"
   ]
  },
  {
   "cell_type": "code",
   "execution_count": null,
   "metadata": {
    "slideshow": {
     "slide_type": "fragment"
    }
   },
   "outputs": [],
   "source": [
    "for i in range(5):\n",
    "    print(i)"
   ]
  },
  {
   "cell_type": "markdown",
   "metadata": {
    "slideshow": {
     "slide_type": "fragment"
    }
   },
   "source": [
    "* Tak więc oczekiwany wynik powinien wyglądać następująco:\n",
    "```\n",
    "0\n",
    "1\n",
    "2\n",
    "3\n",
    "4\n",
    "Gotowe!\n",
    "```"
   ]
  },
  {
   "cell_type": "markdown",
   "metadata": {
    "slideshow": {
     "slide_type": "slide"
    }
   },
   "source": [
    "#### Rozwiązanie"
   ]
  },
  {
   "cell_type": "code",
   "execution_count": null,
   "metadata": {
    "slideshow": {
     "slide_type": "fragment"
    }
   },
   "outputs": [],
   "source": [
    "for i in range(5):\n",
    "    print(i)\n",
    "else:\n",
    "    print(\"Gotowe!\")"
   ]
  },
  {
   "cell_type": "markdown",
   "metadata": {
    "slideshow": {
     "slide_type": "slide"
    }
   },
   "source": [
    "### Zamień dwie listy na słownik"
   ]
  },
  {
   "cell_type": "markdown",
   "metadata": {
    "slideshow": {
     "slide_type": "slide"
    }
   },
   "source": [
    "#### Ćwiczenie"
   ]
  },
  {
   "cell_type": "markdown",
   "metadata": {
    "slideshow": {
     "slide_type": "fragment"
    }
   },
   "source": [
    "**Poniżej znajdują się dwie listy**. Napisz program w Pythonie konwertujący je na słownik w taki sposób, że pozycja z listy 1 jest kluczem, a pozycja z listy 2 jest wartością"
   ]
  },
  {
   "cell_type": "code",
   "execution_count": null,
   "metadata": {
    "slideshow": {
     "slide_type": "fragment"
    }
   },
   "outputs": [],
   "source": [
    "keys = ['Dziesieć', 'Dwadzieścia', 'Trzydzieści']\n",
    "values = [10, 20, 30]"
   ]
  },
  {
   "cell_type": "markdown",
   "metadata": {
    "slideshow": {
     "slide_type": "fragment"
    }
   },
   "source": [
    "**Oczekiwany wynik**:"
   ]
  },
  {
   "cell_type": "markdown",
   "metadata": {
    "slideshow": {
     "slide_type": "fragment"
    }
   },
   "source": [
    "```python\n",
    "{'Dziesieć': 10, 'Dwadzieścia': 20, 'Trzydzieści': 30}\n",
    "```"
   ]
  },
  {
   "cell_type": "markdown",
   "metadata": {
    "slideshow": {
     "slide_type": "slide"
    }
   },
   "source": [
    "#### Wskazówka"
   ]
  },
  {
   "cell_type": "markdown",
   "metadata": {
    "slideshow": {
     "slide_type": "fragment"
    }
   },
   "source": [
    "Wykonaj iterację listy za pomocą pętli `for` i funkcji `range()`. W każdej iteracji dodaj nową parę klucz-wartość do `dict` za pomocą metody `update()`."
   ]
  },
  {
   "cell_type": "markdown",
   "metadata": {
    "slideshow": {
     "slide_type": "slide"
    }
   },
   "source": [
    "#### Rozwiązanie"
   ]
  },
  {
   "cell_type": "markdown",
   "metadata": {
    "slideshow": {
     "slide_type": "subslide"
    }
   },
   "source": [
    "**Rozwiązanie**: Używanie pętli i metody `update()` słownika:"
   ]
  },
  {
   "cell_type": "code",
   "execution_count": null,
   "metadata": {
    "slideshow": {
     "slide_type": "fragment"
    }
   },
   "outputs": [],
   "source": [
    "keys = ['Dziesieć', 'Dwadzieścia', 'Trzydzieści']\n",
    "values = [10, 20, 30]\n",
    "\n",
    "# pusty słownik\n",
    "res_dict = dict()\n",
    "\n",
    "for i in range(len(keys)):\n",
    "    res_dict.update({keys[i]: values[i]})\n",
    "print(res_dict)"
   ]
  },
  {
   "cell_type": "markdown",
   "metadata": {
    "slideshow": {
     "slide_type": "slide"
    }
   },
   "source": [
    "### Ćwiczenie"
   ]
  },
  {
   "cell_type": "markdown",
   "metadata": {
    "slideshow": {
     "slide_type": "fragment"
    }
   },
   "source": [
    "* Zobaczmy ćwiczenie, które pomoże lepiej zrozumieć instrukcję `pass`\n",
    "* Umieść instrukcję `pass`, aby blok `if` nie zgłaszał błędu"
   ]
  },
  {
   "cell_type": "code",
   "execution_count": null,
   "metadata": {
    "slideshow": {
     "slide_type": "fragment"
    }
   },
   "outputs": [],
   "source": [
    "name = input(\"Proszę wpisać swoje imię.\")\n",
    "# Wpisz swoją odpowiedź tutaj.\n",
    "\n",
    "if len(name) > 0:\n",
    "    print(name)\n",
    "else:"
   ]
  },
  {
   "cell_type": "markdown",
   "metadata": {
    "slideshow": {
     "slide_type": "subslide"
    }
   },
   "source": [
    "* Wskazówka: instrukcja `pass` jest symbolem zastępczym w Pythonie, dzięki czemu pewne struktury można pozostawić niedokończone bez zgłaszania błędu"
   ]
  },
  {
   "cell_type": "markdown",
   "metadata": {
    "slideshow": {
     "slide_type": "slide"
    }
   },
   "source": [
    "#### Rozwiązanie"
   ]
  },
  {
   "cell_type": "code",
   "execution_count": null,
   "metadata": {
    "slideshow": {
     "slide_type": "fragment"
    }
   },
   "outputs": [],
   "source": [
    "name = input(\"Proszę wpisać swoje imię.\")\n",
    "# Wpisz swoją odpowiedź tutaj.\n",
    "\n",
    "if len(name) > 0:\n",
    "    print(name)\n",
    "else:\n",
    "    pass"
   ]
  },
  {
   "cell_type": "markdown",
   "metadata": {
    "slideshow": {
     "slide_type": "slide"
    }
   },
   "source": [
    "### Znajdź liczby, które są podzielne przez 7 i są wielokrotnością 5 w zakresie"
   ]
  },
  {
   "cell_type": "markdown",
   "metadata": {
    "slideshow": {
     "slide_type": "fragment"
    }
   },
   "source": [
    "* Napisz program w Pythonie, aby znaleźć liczby podzielne przez `7` i będące wielokrotnością `5` między `1500` a `2700` (obie uwzględnione)"
   ]
  },
  {
   "cell_type": "markdown",
   "metadata": {
    "slideshow": {
     "slide_type": "subslide"
    }
   },
   "source": [
    "![](https://www.w3resource.com/w3r_images/python-conditional-image-exercise-1.png)"
   ]
  },
  {
   "cell_type": "markdown",
   "metadata": {
    "slideshow": {
     "slide_type": "slide"
    }
   },
   "source": [
    "### Przykładowe rozwiązanie"
   ]
  },
  {
   "cell_type": "markdown",
   "metadata": {
    "slideshow": {
     "slide_type": "fragment"
    }
   },
   "source": [
    "* Przykładowy kod Pythona i dane wyjściowe:"
   ]
  },
  {
   "cell_type": "code",
   "execution_count": null,
   "metadata": {
    "scrolled": true,
    "slideshow": {
     "slide_type": "fragment"
    }
   },
   "outputs": [],
   "source": [
    "nl = []\n",
    "for x in range(1500, 2701):\n",
    "    if x % 7 == 0 and x % 5 == 0:\n",
    "        nl.append(str(x))\n",
    "# print(nl)\n",
    "print(';'.join(nl))"
   ]
  },
  {
   "cell_type": "markdown",
   "metadata": {
    "slideshow": {
     "slide_type": "subslide"
    }
   },
   "source": [
    "* Schemat blokowy:"
   ]
  },
  {
   "cell_type": "markdown",
   "metadata": {
    "slideshow": {
     "slide_type": "fragment"
    }
   },
   "source": [
    "![](https://www.w3resource.com/w3r_images/python-conditional-exercise-1.png)"
   ]
  },
  {
   "cell_type": "markdown",
   "metadata": {
    "slideshow": {
     "slide_type": "slide"
    }
   },
   "source": [
    "### Zadanie"
   ]
  },
  {
   "cell_type": "markdown",
   "metadata": {
    "slideshow": {
     "slide_type": "fragment"
    }
   },
   "source": [
    "* Napisz program, który policzy największy wspólny dzielnik dwóch liczb podanych przez użytkownika\n",
    "* W tym celu użyj operatora `%` oraz pętli `for`"
   ]
  },
  {
   "cell_type": "markdown",
   "metadata": {
    "slideshow": {
     "slide_type": "slide"
    }
   },
   "source": [
    "### Wydrukuj pierwsze 10 liczb naturalnych za pomocą pętli `while`"
   ]
  },
  {
   "cell_type": "markdown",
   "metadata": {
    "slideshow": {
     "slide_type": "fragment"
    }
   },
   "source": [
    "**Oczekiwany wynik:**\n",
    "\n",
    "```\n",
    "1\n",
    "2\n",
    "3\n",
    "4\n",
    "5\n",
    "6\n",
    "7\n",
    "8\n",
    "9\n",
    "10\n",
    "```"
   ]
  },
  {
   "cell_type": "markdown",
   "metadata": {
    "slideshow": {
     "slide_type": "slide"
    }
   },
   "source": [
    "#### Rozwiązanie"
   ]
  },
  {
   "cell_type": "code",
   "execution_count": null,
   "metadata": {
    "slideshow": {
     "slide_type": "fragment"
    }
   },
   "outputs": [],
   "source": [
    "# Program: Wydrukuj pierwsze 10 liczb naturalnych\n",
    "i = 1\n",
    "while i <= 10:\n",
    "    print(i)\n",
    "    i += 1"
   ]
  },
  {
   "cell_type": "markdown",
   "metadata": {
    "slideshow": {
     "slide_type": "slide"
    }
   },
   "source": [
    "### Ćwiczenie: Wydrukuj następujący wzór"
   ]
  },
  {
   "cell_type": "markdown",
   "metadata": {
    "slideshow": {
     "slide_type": "fragment"
    }
   },
   "source": [
    "Napisz program, który wydrukuje następujący wzór liczbowy za pomocą pętli.\n",
    "\n",
    "```\n",
    "1 \n",
    "1 2 \n",
    "1 2 3 \n",
    "1 2 3 4 \n",
    "1 2 3 4 5\n",
    "```"
   ]
  },
  {
   "cell_type": "markdown",
   "metadata": {
    "slideshow": {
     "slide_type": "slide"
    }
   },
   "source": [
    "#### Wskazówka"
   ]
  },
  {
   "cell_type": "markdown",
   "metadata": {
    "slideshow": {
     "slide_type": "subslide"
    }
   },
   "source": [
    "* Określ liczbę wierszy, tj. 5, ponieważ wzór zawiera pięć wierszy\n",
    "* Uruchom zewnętrzną pętlę 5 razy, używając pętli `for` i funkcji `range()`\n",
    "* Uruchom wewnętrzną pętlę `i+1` razy używając pętli `for` i funkcji `range()`\n",
    "  * W pierwszej iteracji pętli zewnętrznej pętla wewnętrzna wykona 1 raz\n",
    "  * W drugiej iteracji pętli zewnętrznej pętla wewnętrzna wykona 2 razy\n",
    "  * W trzeciej iteracji zewnętrznej pętli pętla wewnętrzna zostanie wykonana 3 razy i tak dalej aż do rzędu 5\n",
    "* Wypisz wartość `j` w każdej iteracji pętli wewnętrznej (`j` jest zmienną iteratora pętli wewnętrznej)\n",
    "* Wyświetlaj pustą linię na końcu każdej iteracji zewnętrznej pętli (pusta linia po każdym wierszu)"
   ]
  },
  {
   "cell_type": "markdown",
   "metadata": {
    "slideshow": {
     "slide_type": "slide"
    }
   },
   "source": [
    "#### Rozwiązanie"
   ]
  },
  {
   "cell_type": "code",
   "execution_count": null,
   "metadata": {
    "slideshow": {
     "slide_type": "fragment"
    }
   },
   "outputs": [],
   "source": [
    "print(\"Wzór liczb \")\n",
    "\n",
    "# Zdecyduj o liczbie wierszy. (powyżej wzór zawiera 5 rzędów)\n",
    "row = 5\n",
    "# start: 1\n",
    "# stop: row+1 (range nigdy nie zawiera liczby stop w wyniku)\n",
    "# step: 1\n",
    "# uruchom pętlę 5 razy\n",
    "for i in range(1, row + 1, 1):\n",
    "    # Uruchom pętlę wewnętrzną i+1 razy\n",
    "    for j in range(1, i + 1):\n",
    "        print(j, end=' ')\n",
    "    # pusta linia po każdym rzędzie\n",
    "    print(\"\")"
   ]
  },
  {
   "cell_type": "markdown",
   "metadata": {
    "slideshow": {
     "slide_type": "slide"
    }
   },
   "source": [
    "### Ćwiczenie: Oblicz sumę wszystkich liczb od 1 do podanej liczby"
   ]
  },
  {
   "cell_type": "markdown",
   "metadata": {
    "slideshow": {
     "slide_type": "fragment"
    }
   },
   "source": [
    "Napisz program akceptujący liczbę od użytkownika i obliczający sumę wszystkich liczb od 1 do podanej liczby\n",
    "\n",
    "Na przykład, jeśli użytkownik wpisał **10**, wynik powinien wynosić **55** (`1+2+3+4+5+6+7+8+9+10`)\n",
    "\n",
    "Oczekiwany wynik:\n",
    "\n",
    "```\n",
    "Wpisz numer 10\n",
    "\n",
    "Suma to: 55\n",
    "```"
   ]
  },
  {
   "cell_type": "markdown",
   "metadata": {
    "slideshow": {
     "slide_type": "slide"
    }
   },
   "source": [
    "#### Wskazówka"
   ]
  },
  {
   "cell_type": "markdown",
   "metadata": {
    "slideshow": {
     "slide_type": "subslide"
    }
   },
   "source": [
    "**Podejście 1**: Użyj pętli `for` i funkcji `range()`\n",
    "\n",
    "* Utwórz zmienną `s = 0`, aby przechowywać sumę wszystkich liczb\n",
    "* Użyj wbudowanej funkcji `input()` Pythona 3, aby pobrać dane wejściowe od użytkownika\n",
    "* Konwertuj dane wejściowe użytkownika na typ całkowity za pomocą konstruktora `int()` i zapisz je w zmiennej `n`\n",
    "* Uruchom pętlę `n` razy, używając pętli `for` i funkcji `range()`\n",
    "* W każdej iteracji pętli dodaj bieżącą liczbę (`i`) do zmiennej `s`\n",
    "* Użyj funkcji `print()`, aby wyświetlić zmienną `s` na ekranie\n",
    "\n",
    "**Podejście 2**: Użyj wbudowanej funkcji `sum()`. Funkcja `sum()` oblicza sumę liczb z listy lub zakresu"
   ]
  },
  {
   "cell_type": "markdown",
   "metadata": {
    "slideshow": {
     "slide_type": "slide"
    }
   },
   "source": [
    "#### Rozwiązanie"
   ]
  },
  {
   "cell_type": "markdown",
   "metadata": {
    "slideshow": {
     "slide_type": "fragment"
    }
   },
   "source": [
    "**Rozwiązanie 1**: Użycie pętli `for` i funkcji `range()`"
   ]
  },
  {
   "cell_type": "code",
   "execution_count": null,
   "metadata": {
    "slideshow": {
     "slide_type": "fragment"
    }
   },
   "outputs": [],
   "source": [
    "# s: przechowuj sumę wszystkich liczb\n",
    "s = 0\n",
    "n = int(input(\"Wpisz numer \"))\n",
    "# uruchom pętlę n razy\n",
    "# stop: n+1 (ponieważ range nigdy nie zawiera numeru stopu w wyniku)\n",
    "for i in range(1, n + 1, 1):\n",
    "    # dodaj bieżącą liczbę do zmiennej sumy\n",
    "    s += i\n",
    "print(\"\\n\")\n",
    "print(\"Suma to:\", s)"
   ]
  },
  {
   "cell_type": "markdown",
   "metadata": {
    "slideshow": {
     "slide_type": "subslide"
    }
   },
   "source": [
    "**Rozwiązanie 2**: Użycie wbudowanej funkcji `sum()`"
   ]
  },
  {
   "cell_type": "code",
   "execution_count": null,
   "metadata": {
    "slideshow": {
     "slide_type": "fragment"
    }
   },
   "outputs": [],
   "source": [
    "n = int(input(\"Wpisz numer \"))\n",
    "# przekaż zakres liczb do funkcji sum()\n",
    "x = sum(range(1, n + 1))\n",
    "print(\"\\n\")\n",
    "print('Suma to:', x)"
   ]
  },
  {
   "cell_type": "markdown",
   "metadata": {
    "slideshow": {
     "slide_type": "slide"
    }
   },
   "source": [
    "### Ćwiczenie: Napisz program wypisujący tabliczkę mnożenia podanej liczby"
   ]
  },
  {
   "cell_type": "markdown",
   "metadata": {
    "slideshow": {
     "slide_type": "fragment"
    }
   },
   "source": [
    "Na przykład `num = 2`, więc wyjście powinno być\n",
    "```\n",
    "2\n",
    "4\n",
    "6\n",
    "8\n",
    "10\n",
    "12\n",
    "14\n",
    "16\n",
    "18\n",
    "20\n",
    "```"
   ]
  },
  {
   "cell_type": "markdown",
   "metadata": {
    "slideshow": {
     "slide_type": "slide"
    }
   },
   "source": [
    "#### Wskazówka"
   ]
  },
  {
   "cell_type": "markdown",
   "metadata": {
    "slideshow": {
     "slide_type": "fragment"
    }
   },
   "source": [
    "* Ustaw `n = 2`\n",
    "* Użyj pętli `for` do iteracji pierwszych 10 liczb\n",
    "* W każdej iteracji pomnóż 2 przez aktualną liczbę. (`p = n * i`)\n",
    "* Drukuj `p`"
   ]
  },
  {
   "cell_type": "markdown",
   "metadata": {
    "slideshow": {
     "slide_type": "slide"
    }
   },
   "source": [
    "#### Rozwiązanie"
   ]
  },
  {
   "cell_type": "code",
   "execution_count": null,
   "metadata": {
    "slideshow": {
     "slide_type": "fragment"
    }
   },
   "outputs": [],
   "source": [
    "n = 2\n",
    "# stop: 11 (ponieważ range nigdy nie zawiera numeru stopu w wyniku)\n",
    "# uruchom pętlę 10 razy\n",
    "for i in range(1, 11, 1):\n",
    "    # 2 * i (aktualna liczba)\n",
    "    product = n * i\n",
    "    print(product)"
   ]
  },
  {
   "cell_type": "markdown",
   "metadata": {
    "slideshow": {
     "slide_type": "slide"
    }
   },
   "source": [
    "### Ćwiczenie: Wyświetl liczby z listy za pomocą pętli"
   ]
  },
  {
   "cell_type": "markdown",
   "metadata": {
    "slideshow": {
     "slide_type": "subslide"
    }
   },
   "source": [
    "Napisz program wyświetlający tylko te liczby z listy, które spełniają następujące warunki\n",
    "\n",
    "* Liczba musi być podzielna przez pięć\n",
    "* Jeśli liczba jest większa niż 150, pomiń ją i przejdź do następnej liczby\n",
    "* Jeśli liczba jest większa niż 500, zatrzymaj pętlę\n",
    "\n",
    "**Dane:**\n",
    "\n",
    "```python\n",
    "numbers = [12, 75, 150, 180, 145, 525, 50]\n",
    "```\n",
    "\n",
    "**Oczekiwany wynik:**\n",
    "\n",
    "```\n",
    "75\n",
    "150\n",
    "145\n",
    "```"
   ]
  },
  {
   "cell_type": "markdown",
   "metadata": {
    "slideshow": {
     "slide_type": "slide"
    }
   },
   "source": [
    "#### Wskazówka"
   ]
  },
  {
   "cell_type": "markdown",
   "metadata": {
    "slideshow": {
     "slide_type": "fragment"
    }
   },
   "source": [
    "* Użyj pętli `for` do iteracji każdego elementu listy\n",
    "* Użyj instrukcji `break`, aby przerwać pętlę, jeśli bieżąca liczba jest większa niż 500\n",
    "* Użyj instrukcji `continue`, aby przejść do następnej liczby, jeśli bieżąca liczba jest większa niż 150\n",
    "* Użyj warunku `number % 5 == 0`, aby sprawdzić, czy liczba jest podzielna przez 5"
   ]
  },
  {
   "cell_type": "markdown",
   "metadata": {
    "slideshow": {
     "slide_type": "slide"
    }
   },
   "source": [
    "#### Rozwiązanie"
   ]
  },
  {
   "cell_type": "code",
   "execution_count": null,
   "metadata": {
    "slideshow": {
     "slide_type": "fragment"
    }
   },
   "outputs": [],
   "source": [
    "numbers = [12, 75, 150, 180, 145, 525, 50]\n",
    "# iteruj każdy element listy\n",
    "for item in numbers:\n",
    "    if item > 500:\n",
    "        break\n",
    "    elif item > 150:\n",
    "        continue\n",
    "    # sprawdź, czy liczba jest podzielna przez 5\n",
    "    elif item % 5 == 0:\n",
    "        print(item)"
   ]
  },
  {
   "cell_type": "markdown",
   "metadata": {
    "slideshow": {
     "slide_type": "slide"
    }
   },
   "source": [
    "### Ćwiczenie: Policz całkowitą liczbę cyfr w liczbie"
   ]
  },
  {
   "cell_type": "markdown",
   "metadata": {
    "slideshow": {
     "slide_type": "fragment"
    }
   },
   "source": [
    "Napisz program do zliczania całkowitej liczby cyfr w liczbie za pomocą pętli `while`.\n",
    "\n",
    "Na przykład liczba to **75869**, więc wynik powinien wynosić **5**."
   ]
  },
  {
   "cell_type": "markdown",
   "metadata": {
    "slideshow": {
     "slide_type": "slide"
    }
   },
   "source": [
    "#### Wskazówka"
   ]
  },
  {
   "cell_type": "markdown",
   "metadata": {
    "slideshow": {
     "slide_type": "fragment"
    }
   },
   "source": [
    "* Ustaw `counter = 0`\n",
    "* Uruchom pętlę `while` do `number != 0`\n",
    "* W każdej iteracji pętli\n",
    "  * Zmniejsz ostatnią cyfrę liczby, używając dzielenia całkowitego, czyli bez reszty (`number = number // 10`)\n",
    "  * Dokonaj przyrostu `counter` o 1\n",
    "* Wydrukuj `counter`"
   ]
  },
  {
   "cell_type": "markdown",
   "metadata": {
    "slideshow": {
     "slide_type": "slide"
    }
   },
   "source": [
    "#### Rozwiązanie"
   ]
  },
  {
   "cell_type": "code",
   "execution_count": null,
   "metadata": {
    "slideshow": {
     "slide_type": "fragment"
    }
   },
   "outputs": [],
   "source": [
    "num = 75869\n",
    "count = 0\n",
    "while num != 0:\n",
    "    # dzielenie całkowite, czyli bez reszty\n",
    "    # aby zmniejszyć ostatnią cyfrę z liczby\n",
    "    num = num // 10\n",
    "\n",
    "    # fokonaj przyrostu licznika o 1\n",
    "    count = count + 1\n",
    "print(\"Całkowita liczba cyfr to:\", count)"
   ]
  },
  {
   "cell_type": "markdown",
   "metadata": {
    "slideshow": {
     "slide_type": "slide"
    }
   },
   "source": [
    "### Ćwiczenie: Wydrukuj następujący wzór"
   ]
  },
  {
   "cell_type": "markdown",
   "metadata": {
    "slideshow": {
     "slide_type": "fragment"
    }
   },
   "source": [
    "Napisz program, w którym użyjesz pętli `for` do wydrukowania następującego wzorca liczb odwrotnych\n",
    "\n",
    "```\n",
    "5 4 3 2 1\n",
    "4 3 2 1\n",
    "3 2 1\n",
    "2 1\n",
    "1\n",
    "```"
   ]
  },
  {
   "cell_type": "markdown",
   "metadata": {
    "slideshow": {
     "slide_type": "slide"
    }
   },
   "source": [
    "#### Wskazówka"
   ]
  },
  {
   "cell_type": "markdown",
   "metadata": {
    "slideshow": {
     "slide_type": "fragment"
    }
   },
   "source": [
    "* Ustaw `row = 5`, ponieważ powyższy wzór zawiera pięć rzędów\n",
    "* Utwórz zewnętrzną pętlę do iteracji liczb od 1 do 5 za pomocą pętli `for` i funkcji `range()`\n",
    "* Utwórz pętlę wewnętrzną wewnątrz pętli zewnętrznej w taki sposób, aby w każdej iteracji pętli zewnętrznej iteracja pętli wewnętrznej była redukowana o `i`. `i` to aktualny numer zewnętrznej pętli.\n",
    "* W każdej iteracji pętli wewnętrznej wydrukuj zmienną iteratora pętli wewnętrznej (`j`)"
   ]
  },
  {
   "cell_type": "markdown",
   "metadata": {
    "slideshow": {
     "slide_type": "subslide"
    }
   },
   "source": [
    "Zauważ, że:\n",
    "\n",
    "* W pierwszej iteracji pętli zewnętrznej pętla wewnętrzna wykonuje się pięć razy.\n",
    "* W drugiej iteracji pętli zewnętrznej pętla wewnętrzna wykonuje się cztery razy.\n",
    "* W ostatniej iteracji pętli zewnętrznej pętla wewnętrzna zostanie wykonana tylko raz"
   ]
  },
  {
   "cell_type": "markdown",
   "metadata": {
    "slideshow": {
     "slide_type": "slide"
    }
   },
   "source": [
    "#### Rozwiązanie"
   ]
  },
  {
   "cell_type": "code",
   "execution_count": null,
   "metadata": {
    "slideshow": {
     "slide_type": "fragment"
    }
   },
   "outputs": [],
   "source": [
    "n = 5\n",
    "k = 5\n",
    "for i in range(0, n+1):\n",
    "    for j in range(k-i, 0, -1):\n",
    "        print(j, end=' ')\n",
    "    print()"
   ]
  },
  {
   "cell_type": "code",
   "execution_count": null,
   "metadata": {
    "slideshow": {
     "slide_type": "skip"
    }
   },
   "outputs": [],
   "source": []
  }
 ],
 "metadata": {
  "celltoolbar": "Slideshow",
  "kernelspec": {
   "display_name": "Python 3 (ipykernel)",
   "language": "python",
   "name": "python3"
  },
  "language_info": {
   "codemirror_mode": {
    "name": "ipython",
    "version": 3
   },
   "file_extension": ".py",
   "mimetype": "text/x-python",
   "name": "python",
   "nbconvert_exporter": "python",
   "pygments_lexer": "ipython3",
   "version": "3.10.4"
  }
 },
 "nbformat": 4,
 "nbformat_minor": 4
}
