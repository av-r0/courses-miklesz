{
 "cells": [
  {
   "cell_type": "markdown",
   "metadata": {
    "slideshow": {
     "slide_type": "slide"
    }
   },
   "source": [
    "# Python (podstawy) - wyjątki\n",
    "_Mikołaj Leszczuk_\n",
    "![](https://inventyourshit.com/wp-content/uploads/2020/11/4mfiyy.jpg)"
   ]
  },
  {
   "cell_type": "markdown",
   "metadata": {
    "slideshow": {
     "slide_type": "slide"
    }
   },
   "source": [
    "## Konspekt"
   ]
  },
  {
   "cell_type": "markdown",
   "metadata": {
    "slideshow": {
     "slide_type": "fragment"
    }
   },
   "source": [
    "* Wyjątki\n",
    "* Obsługa"
   ]
  },
  {
   "cell_type": "markdown",
   "metadata": {
    "slideshow": {
     "slide_type": "slide"
    }
   },
   "source": [
    "## Wyjątki"
   ]
  },
  {
   "cell_type": "markdown",
   "metadata": {
    "slideshow": {
     "slide_type": "slide"
    }
   },
   "source": [
    "### Wyjątki, ang. _Exception_"
   ]
  },
  {
   "cell_type": "markdown",
   "metadata": {
    "slideshow": {
     "slide_type": "fragment"
    }
   },
   "source": [
    "* Mechanizm **przepływu sterowania** używany w **procesorach** oraz współczesnych **językach programowania** do obsługi zdarzeń wyjątkowych, a w szczególności błędów, których wystąpienie zmienia prawidłowy przebieg wykonywania programu.\n",
    "* W momencie zajścia niespodziewanego zdarzenia generowany jest wyjątek, który musi zostać obsłużony przez zapamiętanie bieżącego stanu programu i przejście do **procedury** jego obsługi."
   ]
  },
  {
   "cell_type": "markdown",
   "metadata": {
    "slideshow": {
     "slide_type": "subslide"
    }
   },
   "source": [
    "* W niektórych sytuacjach po obsłużeniu wyjątku można powrócić do wykonywania przerwanego kodu, korzystając z zapamiętanych informacji stanu.\n",
    "* Przykładowo obsługa błędu braku **strony pamięci** polega najczęściej na pobraniu brakującej strony z **pliku wymiany**, co umożliwia kontynuowanie pracy programu, natomiast błąd dzielenia przez zero powoduje, że wykonywanie dalszych obliczeń nie ma sensu i musi zostać definitywnie przerwane."
   ]
  },
  {
   "cell_type": "markdown",
   "metadata": {
    "slideshow": {
     "slide_type": "slide"
    }
   },
   "source": [
    "### Wyjątki w procesorach "
   ]
  },
  {
   "cell_type": "markdown",
   "metadata": {
    "slideshow": {
     "slide_type": "fragment"
    }
   },
   "source": [
    "* Wyjątki w procesorach są zdarzeniami, których wynikiem jest przerwanie wykonania bieżącego strumienia instrukcji i przekazanie sterowania do oprogramowania systemowego w celu programowej reakcji na zdarzenie\n",
    "* Wyjątki dzielą się na synchroniczne, obsługiwane bezpośrednio po wystąpieniu, oraz asynchroniczne, których obsługa może, w zależności od bieżącego priorytetu procesora, zostać opóźniona\n",
    "* Do wyjątków asynchronicznych należą przerwania\n",
    "* Wyjątki synchroniczne – to:\n",
    "  * Pułapki (traps) i \n",
    "  * Błędy (faults, aborts, errors)"
   ]
  },
  {
   "cell_type": "markdown",
   "metadata": {
    "slideshow": {
     "slide_type": "subslide"
    }
   },
   "source": [
    "* Przerwania mogą być generowane:\n",
    "  * Sprzętowo przez sterowniki urządzeń zewnętrznych, oraz \n",
    "  * Programowo przez procesor – w nowocześniejszych architekturach (np. ARM)\n",
    "* Pułapki są generowane przez jednostkę wykonawczą procesora w wyniku wykonania instrukcji, na końcu jej wykonania"
   ]
  },
  {
   "cell_type": "markdown",
   "metadata": {
    "slideshow": {
     "slide_type": "subslide"
    }
   },
   "source": [
    "* Pułapki służą do trzech celów:\n",
    "  * Wywołania przez program użytkowy usług systemu operacyjnego – instrukcja SVC (ARM), INT (x86), SYSCALL (x86) itp. (pułapka wywołania systemu była dawniej niezbyt fortunnie nazywana „przerwaniem programowym”)\n",
    "  * Sygnalizacji niepoprawnego z punktu widzenia programisty wykonania programu (np. pułapka przy nadmiarze operacji arytmetycznej)\n",
    "  * Wspomagania debugowania programów (pułapka śledzenia)"
   ]
  },
  {
   "cell_type": "markdown",
   "metadata": {
    "slideshow": {
     "slide_type": "subslide"
    }
   },
   "source": [
    "* Przy wystąpieniu pułapki wykonanie instrukcji, która ją spowodowała, zostaje normalnie zakończone\n",
    "* Błędy mogą być generowane przez procesor lub jego otoczenie \n",
    "* Charakterystyczną cechą błędów jest to, że uniemożliwiają one zakończenie wykonania instrukcji, podczas której wystąpiły\n",
    "* Są to np.:\n",
    "  * Błąd wyrównania danych, sygnalizowany przez jednostkę wykonawczą\n",
    "  * Błąd niezidentyfikowanej instrukcji lub niedozwolonej instrukcji\n",
    "  * Błędy dostępu do pamięci, sygnalizowane przez jednostkę zarządzania pamięcią (stronicowania lub segmentacji)"
   ]
  },
  {
   "cell_type": "markdown",
   "metadata": {
    "slideshow": {
     "slide_type": "slide"
    }
   },
   "source": [
    "### Wyjątki w językach programowania"
   ]
  },
  {
   "cell_type": "markdown",
   "metadata": {
    "slideshow": {
     "slide_type": "fragment"
    }
   },
   "source": [
    "* W **językach programowania** wsparcie dla wyjątków realizowane jest na poziomie składni i semantyki danego języka\n",
    "* Zgłoszenie sytuacji wyjątkowej możliwe jest w dowolnym miejscu kodu"
   ]
  },
  {
   "cell_type": "markdown",
   "metadata": {
    "slideshow": {
     "slide_type": "slide"
    }
   },
   "source": [
    "### Wyjątki w Pythonie"
   ]
  },
  {
   "cell_type": "markdown",
   "metadata": {
    "slideshow": {
     "slide_type": "fragment"
    }
   },
   "source": [
    "* Gdy interpreter Pythona zauważy w programie błąd, tworzy wyjątek z opisem błędu"
   ]
  },
  {
   "cell_type": "code",
   "execution_count": null,
   "metadata": {
    "scrolled": false,
    "slideshow": {
     "slide_type": "subslide"
    }
   },
   "outputs": [],
   "source": [
    "print(5 * (1 / 0))"
   ]
  },
  {
   "cell_type": "code",
   "execution_count": null,
   "metadata": {
    "scrolled": true,
    "slideshow": {
     "slide_type": "subslide"
    }
   },
   "outputs": [],
   "source": [
    "print(4 + xyz * 3)"
   ]
  },
  {
   "cell_type": "code",
   "execution_count": null,
   "metadata": {
    "scrolled": true,
    "slideshow": {
     "slide_type": "subslide"
    }
   },
   "outputs": [],
   "source": [
    "print('2' + 2)"
   ]
  },
  {
   "cell_type": "markdown",
   "metadata": {
    "slideshow": {
     "slide_type": "slide"
    }
   },
   "source": [
    "### [Lista wbudowanych wyjątków Pythona](https://docs.python.org/3.11/library/exceptions.html#exception-hierarchy)"
   ]
  },
  {
   "cell_type": "markdown",
   "metadata": {
    "slideshow": {
     "slide_type": "slide"
    }
   },
   "source": [
    "## Obsługa"
   ]
  },
  {
   "cell_type": "markdown",
   "metadata": {
    "slideshow": {
     "slide_type": "slide"
    }
   },
   "source": [
    "### Wyjątki i obsługa błędów w Pythonie"
   ]
  },
  {
   "cell_type": "markdown",
   "metadata": {
    "slideshow": {
     "slide_type": "subslide"
    }
   },
   "source": [
    "![Wyjątki Pythona](https://files.realpython.com/media/try_except_else_finally.a7fac6c36c55.png)"
   ]
  },
  {
   "cell_type": "markdown",
   "metadata": {
    "slideshow": {
     "slide_type": "slide"
    }
   },
   "source": [
    "### Podstawowa obsługa"
   ]
  },
  {
   "cell_type": "markdown",
   "metadata": {
    "slideshow": {
     "slide_type": "fragment"
    }
   },
   "source": [
    "* Podniesiony wyjątek można przechwycić i obsłużyć przy pomocy struktury:\n",
    "```python\n",
    "try:\n",
    "\t...\n",
    "\t<linie kodu> \n",
    "except Exception as err: \n",
    "\t<obsługa wyjątku>\n",
    "```\n",
    "* Możemy również podnieść wyjątek przez `raise`\n"
   ]
  },
  {
   "cell_type": "markdown",
   "metadata": {
    "slideshow": {
     "slide_type": "slide"
    }
   },
   "source": [
    "### Na przykład"
   ]
  },
  {
   "cell_type": "code",
   "execution_count": null,
   "metadata": {
    "slideshow": {
     "slide_type": "fragment"
    }
   },
   "outputs": [],
   "source": [
    "import sys\n",
    "try:\n",
    "    f = open(\"plik.txt\")\n",
    "    s = f.readline()\n",
    "    i = int(s.strip())  # Usuń spacje\n",
    "    print(i)\n",
    "except OSError as err:\n",
    "    print(\"Błąd systemu:\", err)\n",
    "except ValueError:\n",
    "    print(\"Nie można dokonać konwersji.\")\n",
    "except:     # PEP 8: E722 nie używaj pustego 'except'\n",
    "    print(\"Nieoczekiwany wyjątek:\", sys.exc_info()[0])\n",
    "    raise"
   ]
  },
  {
   "cell_type": "markdown",
   "metadata": {
    "slideshow": {
     "slide_type": "slide"
    }
   },
   "source": [
    "### Słowo kluczowe `else`"
   ]
  },
  {
   "cell_type": "markdown",
   "metadata": {
    "slideshow": {
     "slide_type": "fragment"
    }
   },
   "source": [
    "* Do struktury\\\n",
    "`try\n",
    "except`\\\n",
    "można dodać również słowo kluczowe `else`, które wykona kod, tylko wtedy gdy nie pojawi się wyjątek\n",
    "* Innymi słowy możesz użyć słowa kluczowego `else`, aby zdefiniować blok kodu do wykonania, jeśli nie zostaną zgłoszone żadne błędy\n",
    "* Struktury tej można użyć np.: przy otwieraniu plików"
   ]
  },
  {
   "cell_type": "markdown",
   "metadata": {
    "slideshow": {
     "slide_type": "slide"
    }
   },
   "source": [
    "### Przykład"
   ]
  },
  {
   "cell_type": "code",
   "execution_count": null,
   "metadata": {
    "scrolled": true,
    "slideshow": {
     "slide_type": "fragment"
    }
   },
   "outputs": [],
   "source": [
    "try:\n",
    "    print(\"Dzień dobry\")\n",
    "except:\n",
    "    print(\"Coś poszło nie tak\")\n",
    "else:\n",
    "    print(\"Nic nie poszło źle\")"
   ]
  },
  {
   "cell_type": "markdown",
   "metadata": {
    "slideshow": {
     "slide_type": "slide"
    }
   },
   "source": [
    "### Słowo kluczowe `finally`"
   ]
  },
  {
   "cell_type": "markdown",
   "metadata": {
    "slideshow": {
     "slide_type": "subslide"
    }
   },
   "source": [
    "* Do struktury\\\n",
    "`try\n",
    "except`\\\n",
    "można również dodać słowo kluczowe `finally`, które wskaże blok, który zawsze zostanie wykonany niezależnie od tego:\n",
    "  * Czy wyjątek się pojawi\n",
    "  * Czy nie\n",
    "\n",
    "```python\n",
    "try:\n",
    "    operacja_która_może_wyrzucić_ioerror()\n",
    "except IOError:\n",
    "    obsłuż_jakoś_wyjątek()\n",
    "else:    # nie chcemy złapać IOError, jeśli jest podniesiony\n",
    "    kolejna_operacja_która_może_wyrzucić_ioerror()\n",
    "finally:\n",
    "    coś_co_zawsze_trzeba_zrobić()\n",
    "```"
   ]
  },
  {
   "cell_type": "markdown",
   "metadata": {
    "slideshow": {
     "slide_type": "subslide"
    }
   },
   "source": [
    "* Innymi słowy, blok `finally`, jeśli został określony, zostanie wykonany niezależnie od tego, czy blok `try` wywoła błąd, czy nie"
   ]
  },
  {
   "cell_type": "markdown",
   "metadata": {
    "slideshow": {
     "slide_type": "slide"
    }
   },
   "source": [
    "### Przykład 1"
   ]
  },
  {
   "cell_type": "code",
   "execution_count": null,
   "metadata": {
    "slideshow": {
     "slide_type": "fragment"
    }
   },
   "outputs": [],
   "source": [
    "try:\n",
    "    print(\"x\")\n",
    "except:\n",
    "    print(\"Coś poszło nie tak\")\n",
    "finally:\n",
    "    print(\"Klauzula 'try except' jest zakończona\")"
   ]
  },
  {
   "cell_type": "markdown",
   "metadata": {
    "slideshow": {
     "slide_type": "slide"
    }
   },
   "source": [
    "### Przykład 2"
   ]
  },
  {
   "cell_type": "markdown",
   "metadata": {
    "slideshow": {
     "slide_type": "fragment"
    }
   },
   "source": [
    "Spróbujmy otworzyć i zapisać plik, do którego nie można zapisywać:"
   ]
  },
  {
   "cell_type": "code",
   "execution_count": null,
   "metadata": {
    "slideshow": {
     "slide_type": "fragment"
    }
   },
   "outputs": [],
   "source": [
    "# Blok try zgłosi błąd podczas próby zapisu do pliku tylko do odczytu::\n",
    "\n",
    "try:\n",
    "    file = open(\"demofile.txt\", \"r\")\n",
    "    try:\n",
    "        file.write(\"Lorum Ipsum\")\n",
    "    except:\n",
    "        print(\"Coś poszło nie tak podczas ZAPISYWANIA do pliku\")\n",
    "    finally:\n",
    "        file.close()\n",
    "except:\n",
    "    print(\"Coś poszło nie tak podczas OTWIERANIA pliku\")"
   ]
  },
  {
   "cell_type": "markdown",
   "metadata": {
    "slideshow": {
     "slide_type": "slide"
    }
   },
   "source": [
    "### Podnieś wyjątek"
   ]
  },
  {
   "cell_type": "markdown",
   "metadata": {
    "slideshow": {
     "slide_type": "fragment"
    }
   },
   "source": [
    "* Jako programista Pythona możesz zgłosić wyjątek, jeśli wystąpi warunek\n",
    "* Aby zgłosić (lub podnieść) wyjątek, użyj słowa kluczowego `raise`\n",
    "* Słowo kluczowe `raise` jest używane do zgłaszania wyjątku\n",
    "* Możesz zdefiniować rodzaj błędu, który należy zgłosić, oraz tekst do wydrukowania dla użytkownika\n",
    "* Przykłady:\n",
    "  1. Wywołaj błąd i zatrzymaj program, jeśli `x` jest mniejsze niż `0`\n",
    "  1. Podnieś `TypeError`, jeśli `x` nie jest liczbą całkowitą (`int`)"
   ]
  },
  {
   "cell_type": "markdown",
   "metadata": {
    "slideshow": {
     "slide_type": "slide"
    }
   },
   "source": [
    "### Przykład 1 - Wywołaj błąd i zatrzymaj program, jeśli `x` jest mniejsze niż `0`"
   ]
  },
  {
   "cell_type": "code",
   "execution_count": null,
   "metadata": {
    "slideshow": {
     "slide_type": "fragment"
    }
   },
   "outputs": [],
   "source": [
    "x = -1\n",
    "\n",
    "if x < 0:\n",
    "    raise Exception(\"Przepraszamy, brak liczb poniżej zera\")"
   ]
  },
  {
   "cell_type": "markdown",
   "metadata": {
    "slideshow": {
     "slide_type": "slide"
    }
   },
   "source": [
    "### Przykład 2 - Podnieś `TypeError`, jeśli `x` nie jest liczbą całkowitą (`int`)"
   ]
  },
  {
   "cell_type": "code",
   "execution_count": null,
   "metadata": {
    "slideshow": {
     "slide_type": "fragment"
    }
   },
   "outputs": [],
   "source": [
    "# x = 1\n",
    "x = \"dzień dobry\"\n",
    "\n",
    "if not type(x) is int:\n",
    "    raise TypeError(\"Dozwolone są tylko liczby całkowite\")"
   ]
  },
  {
   "cell_type": "code",
   "execution_count": null,
   "metadata": {
    "slideshow": {
     "slide_type": "skip"
    }
   },
   "outputs": [],
   "source": []
  }
 ],
 "metadata": {
  "celltoolbar": "Slideshow",
  "kernelspec": {
   "display_name": "Python 3 (ipykernel)",
   "language": "python",
   "name": "python3"
  },
  "language_info": {
   "codemirror_mode": {
    "name": "ipython",
    "version": 3
   },
   "file_extension": ".py",
   "mimetype": "text/x-python",
   "name": "python",
   "nbconvert_exporter": "python",
   "pygments_lexer": "ipython3",
   "version": "3.10.9"
  }
 },
 "nbformat": 4,
 "nbformat_minor": 4
}
