{
 "cells": [
  {
   "cell_type": "markdown",
   "id": "7867809b",
   "metadata": {
    "slideshow": {
     "slide_type": "slide"
    }
   },
   "source": [
    "# Matplotlib\n",
    "\n",
    "_Mikołaj Leszczuk_\n",
    "\n",
    "![](https://i.imgflip.com/o5hw1.jpg)"
   ]
  },
  {
   "cell_type": "markdown",
   "id": "da2e9993",
   "metadata": {
    "slideshow": {
     "slide_type": "slide"
    }
   },
   "source": [
    "## Konspekt\n",
    "\n",
    "* Matplotlib 3D\n",
    "* Figury interaktywne\n",
    "* Ćwiczenia"
   ]
  },
  {
   "cell_type": "markdown",
   "id": "6804c89e",
   "metadata": {
    "slideshow": {
     "slide_type": "slide"
    }
   },
   "source": [
    "## Matplotlib 3D"
   ]
  },
  {
   "cell_type": "code",
   "execution_count": null,
   "id": "f4214ea7",
   "metadata": {
    "slideshow": {
     "slide_type": "fragment"
    }
   },
   "outputs": [],
   "source": [
    "import matplotlib.pyplot as plt\n",
    "from matplotlib import cm\n",
    "from matplotlib.ticker import LinearLocator\n",
    "import numpy as np"
   ]
  },
  {
   "cell_type": "markdown",
   "id": "2b128bec",
   "metadata": {
    "slideshow": {
     "slide_type": "slide"
    }
   },
   "source": [
    "### Powierzchnia 3D (mapa kolorów)"
   ]
  },
  {
   "cell_type": "markdown",
   "id": "019cebe6",
   "metadata": {
    "slideshow": {
     "slide_type": "fragment"
    }
   },
   "source": [
    "Demonstracja kreślenia powierzchni 3D pokolorowanej za pomocą chłodno-ciepłej mapy kolorów. Powierzchnia jest zrobiona nieprzezroczystą za pomocą `antialiased=False`.\n",
    "\n",
    "Pokazanie również użycia `LinearLocator` i niestandardowego formatowania etykiet znaczników osi Z."
   ]
  },
  {
   "cell_type": "code",
   "execution_count": null,
   "id": "cce55a42",
   "metadata": {
    "slideshow": {
     "slide_type": "subslide"
    }
   },
   "outputs": [],
   "source": [
    "fig, ax = plt.subplots(subplot_kw={\"projection\": \"3d\"})\n",
    "\n",
    "plt.show()"
   ]
  },
  {
   "cell_type": "markdown",
   "id": "f9635a54",
   "metadata": {
    "slideshow": {
     "slide_type": "fragment"
    }
   },
   "source": [
    "Tworzenie danych:"
   ]
  },
  {
   "cell_type": "code",
   "execution_count": null,
   "id": "ae15379c",
   "metadata": {
    "slideshow": {
     "slide_type": "fragment"
    }
   },
   "outputs": [],
   "source": [
    "X = np.arange(-5, 5, 0.25)\n",
    "Y = np.arange(-5, 5, 0.25)\n",
    "X, Y = np.meshgrid(X, Y)\n",
    "R = np.sqrt(X**2 + Y**2)\n",
    "Z = np.sin(R)"
   ]
  },
  {
   "cell_type": "markdown",
   "id": "3da4606b",
   "metadata": {
    "slideshow": {
     "slide_type": "subslide"
    }
   },
   "source": [
    "Wykreślanie powierzchni:"
   ]
  },
  {
   "cell_type": "code",
   "execution_count": null,
   "id": "30682dae",
   "metadata": {
    "slideshow": {
     "slide_type": "fragment"
    }
   },
   "outputs": [],
   "source": [
    "fig, ax = plt.subplots(subplot_kw={\"projection\": \"3d\"})\n",
    "\n",
    "surf = ax.plot_surface(X, Y, Z, cmap=cm.coolwarm, linewidth=0, antialiased=False)\n",
    "\n",
    "plt.show()"
   ]
  },
  {
   "cell_type": "markdown",
   "id": "3f728dea",
   "metadata": {
    "slideshow": {
     "slide_type": "subslide"
    }
   },
   "source": [
    "Dostosowanie osi Z:"
   ]
  },
  {
   "cell_type": "code",
   "execution_count": null,
   "id": "d40b9fa5",
   "metadata": {
    "slideshow": {
     "slide_type": "fragment"
    }
   },
   "outputs": [],
   "source": [
    "fig, ax = plt.subplots(subplot_kw={\"projection\": \"3d\"})\n",
    "\n",
    "ax.set_zlim(-1.01, 1.01)\n",
    "ax.zaxis.set_major_locator(LinearLocator(10))\n",
    "ax.zaxis.set_major_formatter('{x:.02f}')\n",
    "\n",
    "surf = ax.plot_surface(X, Y, Z, cmap=cm.coolwarm, linewidth=0, antialiased=False)\n",
    "\n",
    "plt.show()"
   ]
  },
  {
   "cell_type": "markdown",
   "id": "eb988026",
   "metadata": {
    "slideshow": {
     "slide_type": "subslide"
    }
   },
   "source": [
    "Dodawanie paseka kolorów, który odwzorowuje wartości na kolory:"
   ]
  },
  {
   "cell_type": "code",
   "execution_count": null,
   "id": "c05f4fbb",
   "metadata": {
    "slideshow": {
     "slide_type": "fragment"
    }
   },
   "outputs": [],
   "source": [
    "fig, ax = plt.subplots(subplot_kw={\"projection\": \"3d\"})\n",
    "\n",
    "ax.set_zlim(-1.01, 1.01)\n",
    "ax.zaxis.set_major_locator(LinearLocator(10))\n",
    "ax.zaxis.set_major_formatter('{x:.02f}')\n",
    "\n",
    "surf = ax.plot_surface(X, Y, Z, cmap=cm.coolwarm, linewidth=0, antialiased=False)\n",
    "\n",
    "fig.colorbar(surf, shrink=0.5, aspect=5)\n",
    "\n",
    "plt.show()"
   ]
  },
  {
   "cell_type": "markdown",
   "id": "a2d961eb",
   "metadata": {
    "slideshow": {
     "slide_type": "slide"
    }
   },
   "source": [
    "### Trójkątne powierzchnie 3D"
   ]
  },
  {
   "cell_type": "markdown",
   "id": "21ba728d",
   "metadata": {
    "slideshow": {
     "slide_type": "fragment"
    }
   },
   "source": [
    "Wykreślanie powierzchni 3D (jak w chipsie ziemniaczanym \"Pringles\") z trójkątną siatką.\n",
    "\n",
    "![](https://upload.wikimedia.org/wikipedia/commons/thumb/8/89/Pringles_chips.JPG/471px-Pringles_chips.JPG)"
   ]
  },
  {
   "cell_type": "markdown",
   "id": "255f4769",
   "metadata": {
    "slideshow": {
     "slide_type": "subslide"
    }
   },
   "source": [
    "Utworzenie przestrzenii promieni i kątów (pominięto promień $r=0$, aby wyeliminować duplikację):"
   ]
  },
  {
   "cell_type": "code",
   "execution_count": null,
   "id": "f3c1e198",
   "metadata": {
    "slideshow": {
     "slide_type": "fragment"
    }
   },
   "outputs": [],
   "source": [
    "n_radii = 8  # liczba promieni\n",
    "n_angles = 36  # liczba kątów"
   ]
  },
  {
   "cell_type": "code",
   "execution_count": null,
   "id": "fdd6ea4d",
   "metadata": {
    "slideshow": {
     "slide_type": "fragment"
    }
   },
   "outputs": [],
   "source": [
    "radii = np.linspace(0.125, 1.0, n_radii)\n",
    "angles = np.linspace(0, 2*np.pi, n_angles, endpoint=False)[..., np.newaxis]"
   ]
  },
  {
   "cell_type": "markdown",
   "id": "a4a29373",
   "metadata": {
    "slideshow": {
     "slide_type": "fragment"
    }
   },
   "source": [
    "Zamienianie współrzędnych biegunowych $(radii, angles)$ na współrzędne kartezjańskie $(x, y)$, przy czym $(0, 0)$ jest dodawany ręcznie na tym etapie, więc nie będzie zduplikowanych punktów na płaszczyźnie $(x, y)$:"
   ]
  },
  {
   "cell_type": "code",
   "execution_count": null,
   "id": "8391c8b5",
   "metadata": {
    "slideshow": {
     "slide_type": "fragment"
    }
   },
   "outputs": [],
   "source": [
    "x = np.append(0, (radii*np.cos(angles)).flatten())\n",
    "y = np.append(0, (radii*np.sin(angles)).flatten())"
   ]
  },
  {
   "cell_type": "markdown",
   "id": "6e17c800",
   "metadata": {
    "slideshow": {
     "slide_type": "subslide"
    }
   },
   "source": [
    "Obliczenie $z$, aby utworzyć powierzchnię jak w chipsie ziemniaczanym \"Pringles\":"
   ]
  },
  {
   "cell_type": "code",
   "execution_count": null,
   "id": "245dca75",
   "metadata": {
    "slideshow": {
     "slide_type": "fragment"
    }
   },
   "outputs": [],
   "source": [
    "z = np.sin(-x*y)"
   ]
  },
  {
   "cell_type": "code",
   "execution_count": null,
   "id": "2fac0ed6",
   "metadata": {
    "slideshow": {
     "slide_type": "subslide"
    }
   },
   "outputs": [],
   "source": [
    "ax = plt.figure().add_subplot(projection='3d')\n",
    "\n",
    "plt.show()"
   ]
  },
  {
   "cell_type": "code",
   "execution_count": null,
   "id": "8cd887bc",
   "metadata": {
    "slideshow": {
     "slide_type": "subslide"
    }
   },
   "outputs": [],
   "source": [
    "ax = plt.figure().add_subplot(projection='3d')\n",
    "\n",
    "ax.plot_trisurf(x, y, z, linewidth=0.2, antialiased=True)\n",
    "\n",
    "plt.show()"
   ]
  },
  {
   "cell_type": "markdown",
   "id": "f57cb249",
   "metadata": {
    "slideshow": {
     "slide_type": "slide"
    }
   },
   "source": [
    "## Figury interaktywne"
   ]
  },
  {
   "cell_type": "markdown",
   "id": "c852ac01",
   "metadata": {
    "slideshow": {
     "slide_type": "fragment"
    }
   },
   "source": [
    "Podczas pracy z danymi interaktywność może być nieoceniona. Narzędzia do panoramowania/powiększania i lokalizacji myszy wbudowane w okna GUI Matplotlib są często wystarczające, ale można również użyć systemu zdarzeń do tworzenia niestandardowych narzędzi do eksploracji danych."
   ]
  },
  {
   "cell_type": "markdown",
   "id": "4a3ca823",
   "metadata": {
    "slideshow": {
     "slide_type": "fragment"
    }
   },
   "source": [
    "Matplotlib jest dostarczany z powiązaniami **backendów** z kilkoma zestawami narzędzi GUI (Qt, Tk, Wx, GTK, macOS, JavaScript), a pakiety stron trzecich zapewniają powiązania z **kivy** i **Jupyter Lab**. Aby figury reagowały na zdarzenia myszy, klawiatury i malowania, pętla zdarzeń GUI musi być zintegrowana z interaktywnym monitem. Zaleca się używanie IPythona."
   ]
  },
  {
   "cell_type": "markdown",
   "id": "7194b90f",
   "metadata": {
    "slideshow": {
     "slide_type": "slide"
    }
   },
   "source": [
    "### Integracja z IPythonem"
   ]
  },
  {
   "cell_type": "markdown",
   "id": "685baec8",
   "metadata": {
    "slideshow": {
     "slide_type": "fragment"
    }
   },
   "source": [
    "Zaleca się używanie IPython do interaktywnej powłoki. Oprócz wszystkich swoich funkcji, zapewnia również, że pętla zdarzeń zestawu narzędzi GUI jest prawidłowo zintegrowana z wierszem poleceń."
   ]
  },
  {
   "cell_type": "markdown",
   "id": "7ab4a124",
   "metadata": {
    "slideshow": {
     "slide_type": "fragment"
    }
   },
   "source": [
    "Aby skonfigurować integrację i włączyć **tryb interaktywny**, używamy `%matplotlib`."
   ]
  },
  {
   "cell_type": "markdown",
   "id": "b9ab1428",
   "metadata": {
    "slideshow": {
     "slide_type": "slide"
    }
   },
   "source": [
    "### Jupyter Notebook"
   ]
  },
  {
   "cell_type": "markdown",
   "id": "6e3c94d0",
   "metadata": {
    "slideshow": {
     "slide_type": "fragment"
    }
   },
   "source": [
    "W tym przykładzie tworzymy i modyfikujemy figurę za pomocą Jupyter Notebook. Rysunek jest wyświetlany w oknie GUI."
   ]
  },
  {
   "cell_type": "markdown",
   "id": "745937ef",
   "metadata": {
    "slideshow": {
     "slide_type": "fragment"
    }
   },
   "source": [
    "Aby uzyskać interaktywne figury w \"klasycznym\" Jupyter Notebook, możemy użyć:"
   ]
  },
  {
   "cell_type": "code",
   "execution_count": null,
   "id": "951e4d6e",
   "metadata": {
    "slideshow": {
     "slide_type": "fragment"
    }
   },
   "outputs": [],
   "source": [
    "%matplotlib notebook"
   ]
  },
  {
   "cell_type": "markdown",
   "id": "4f55d752",
   "metadata": {
    "slideshow": {
     "slide_type": "fragment"
    }
   },
   "source": [
    "Korzysta to z backendu dostarczonego przez Matplotlib."
   ]
  },
  {
   "cell_type": "markdown",
   "id": "599e5483",
   "metadata": {
    "slideshow": {
     "slide_type": "subslide"
    }
   },
   "source": [
    "Utwórzenie nowego okna figury:"
   ]
  },
  {
   "cell_type": "code",
   "execution_count": null,
   "id": "538f7a1e",
   "metadata": {
    "slideshow": {
     "slide_type": "fragment"
    }
   },
   "outputs": [],
   "source": [
    "fig, ax = plt.subplots()"
   ]
  },
  {
   "cell_type": "markdown",
   "id": "13ac2b11",
   "metadata": {
    "slideshow": {
     "slide_type": "subslide"
    }
   },
   "source": [
    "Dodanie wykresu liniowego danych do okna:"
   ]
  },
  {
   "cell_type": "code",
   "execution_count": null,
   "id": "221ed75d",
   "metadata": {
    "slideshow": {
     "slide_type": "fragment"
    }
   },
   "outputs": [],
   "source": [
    "ln, = ax.plot(range(5))"
   ]
  },
  {
   "cell_type": "markdown",
   "id": "18f576ca",
   "metadata": {
    "slideshow": {
     "slide_type": "fragment"
    }
   },
   "source": [
    "Zmienienie koloru linii z niebieskiego na pomarańczowy:"
   ]
  },
  {
   "cell_type": "code",
   "execution_count": null,
   "id": "1798edd5",
   "metadata": {
    "slideshow": {
     "slide_type": "fragment"
    }
   },
   "outputs": [],
   "source": [
    "ln.set_color('orange')"
   ]
  },
  {
   "cell_type": "markdown",
   "id": "aaf2c9ad",
   "metadata": {
    "slideshow": {
     "slide_type": "slide"
    }
   },
   "source": [
    "### Przykład"
   ]
  },
  {
   "cell_type": "markdown",
   "id": "908b9068",
   "metadata": {
    "slideshow": {
     "slide_type": "fragment"
    }
   },
   "source": [
    "Wizualizacja trzech parametrów: VMAF (ang. _Video Multi-Method Assessment Fusion_), obciążenia CPU (ang. _Central Processing Unit_) oraz przepływności wyjściowej strumienia."
   ]
  },
  {
   "cell_type": "markdown",
   "id": "7fc3fd72",
   "metadata": {
    "slideshow": {
     "slide_type": "fragment"
    }
   },
   "source": [
    "[CSV](surface_no_placebo.csv)"
   ]
  },
  {
   "cell_type": "markdown",
   "id": "0ff93b00",
   "metadata": {
    "slideshow": {
     "slide_type": "subslide"
    }
   },
   "source": [
    "Import z biblioteki standardowej:"
   ]
  },
  {
   "cell_type": "code",
   "execution_count": null,
   "id": "0f80953e",
   "metadata": {
    "slideshow": {
     "slide_type": "fragment"
    }
   },
   "outputs": [],
   "source": [
    "import csv"
   ]
  },
  {
   "cell_type": "markdown",
   "id": "4b4dc7ea",
   "metadata": {
    "slideshow": {
     "slide_type": "fragment"
    }
   },
   "source": [
    "Powiązany import stron trzecich:"
   ]
  },
  {
   "cell_type": "code",
   "execution_count": null,
   "id": "090e1dcc",
   "metadata": {
    "slideshow": {
     "slide_type": "fragment"
    }
   },
   "outputs": [],
   "source": [
    "import matplotlib.pyplot as plt\n",
    "from matplotlib import cm"
   ]
  },
  {
   "cell_type": "code",
   "execution_count": null,
   "id": "9e8365b7",
   "metadata": {
    "slideshow": {
     "slide_type": "fragment"
    }
   },
   "outputs": [],
   "source": [
    "%matplotlib notebook"
   ]
  },
  {
   "cell_type": "markdown",
   "id": "101ba0f5",
   "metadata": {
    "slideshow": {
     "slide_type": "subslide"
    }
   },
   "source": [
    "Czytanie danych:"
   ]
  },
  {
   "cell_type": "code",
   "execution_count": null,
   "id": "5392d6dd",
   "metadata": {
    "slideshow": {
     "slide_type": "fragment"
    }
   },
   "outputs": [],
   "source": [
    "x_list, y_list, z_list = [], [], []\n",
    "with open(file='surface_no_placebo.csv', newline='') as csv_file:\n",
    "    csv_reader = csv.reader(csv_file, delimiter=',', quotechar='|')\n",
    "    next(csv_reader)  # Pomijanie nagłówka\n",
    "    for row in csv_reader:\n",
    "        x_value = float(row[0])*100\n",
    "        y_value = int(row[1])/1_000_000\n",
    "        z_value = float(row[3])\n",
    "        x_list.append(x_value)\n",
    "        y_list.append(y_value)\n",
    "        z_list.append(z_value)"
   ]
  },
  {
   "cell_type": "code",
   "execution_count": null,
   "id": "49dbc854",
   "metadata": {
    "slideshow": {
     "slide_type": "subslide"
    }
   },
   "outputs": [],
   "source": [
    "fig, ax = plt.subplots(subplot_kw={\"projection\": \"3d\"})"
   ]
  },
  {
   "cell_type": "markdown",
   "id": "f49c2425",
   "metadata": {
    "slideshow": {
     "slide_type": "subslide"
    }
   },
   "source": [
    "Wykreślanie powierzchni:"
   ]
  },
  {
   "cell_type": "code",
   "execution_count": null,
   "id": "358e4300",
   "metadata": {
    "slideshow": {
     "slide_type": "fragment"
    }
   },
   "outputs": [],
   "source": [
    "surf = ax.plot_trisurf(x_list, y_list, z_list, cmap=cm.viridis)"
   ]
  },
  {
   "cell_type": "markdown",
   "id": "1e37b45f",
   "metadata": {
    "slideshow": {
     "slide_type": "fragment"
    }
   },
   "source": [
    "Dostosowywanie osi:"
   ]
  },
  {
   "cell_type": "code",
   "execution_count": null,
   "id": "6615391f",
   "metadata": {},
   "outputs": [],
   "source": [
    "ax.set_xlim(763.3587786, 72.99270073)\n",
    "ax.set_title('VMAF vs. CPU vs. przepływność')\n",
    "ax.set_xlabel('CPU [%]')\n",
    "ax.set_ylabel('Przepływność [Mb/s]')\n",
    "ax.set_zlabel('VMAF');"
   ]
  },
  {
   "cell_type": "markdown",
   "id": "283de24a",
   "metadata": {
    "slideshow": {
     "slide_type": "slide"
    }
   },
   "source": [
    "## Ćwiczenia"
   ]
  },
  {
   "cell_type": "code",
   "execution_count": null,
   "id": "1a5431f2",
   "metadata": {},
   "outputs": [],
   "source": [
    "%matplotlib inline"
   ]
  },
  {
   "cell_type": "markdown",
   "id": "0b9a0c84",
   "metadata": {
    "slideshow": {
     "slide_type": "slide"
    }
   },
   "source": [
    "### Narysuj linię z odpowiednią etykietą na osi x, osi y i tytułem"
   ]
  },
  {
   "cell_type": "markdown",
   "id": "81850326",
   "metadata": {
    "slideshow": {
     "slide_type": "slide"
    }
   },
   "source": [
    "#### Ćwiczenie"
   ]
  },
  {
   "cell_type": "markdown",
   "id": "3d709094",
   "metadata": {
    "slideshow": {
     "slide_type": "fragment"
    }
   },
   "source": [
    "Napisz program w Pythonie, który narysuje linię z odpowiednią etykietą na osi x, osi y i tytule."
   ]
  },
  {
   "cell_type": "markdown",
   "id": "e8d47c82",
   "metadata": {
    "slideshow": {
     "slide_type": "subslide"
    }
   },
   "source": [
    "Przykładowy wynik:"
   ]
  },
  {
   "cell_type": "markdown",
   "id": "0d83527b",
   "metadata": {
    "slideshow": {
     "slide_type": "fragment"
    }
   },
   "source": [
    "![](https://www.w3resource.com/w3r_images/matplotlib-basic-exercise-1.png)"
   ]
  },
  {
   "cell_type": "markdown",
   "id": "bf59f2ae",
   "metadata": {
    "slideshow": {
     "slide_type": "slide"
    }
   },
   "source": [
    "#### Rozwiązanie"
   ]
  },
  {
   "cell_type": "code",
   "execution_count": null,
   "id": "4c8e1190",
   "metadata": {
    "slideshow": {
     "slide_type": "subslide"
    }
   },
   "outputs": [],
   "source": [
    "import matplotlib.pyplot as plt\n",
    "X = range(1, 50)\n",
    "Y = [value * 3 for value in X]\n",
    "print(\"Wartości X:\", *range(1,50))\n",
    "print(\"Wartości Y (trzy razy X):\", Y)\n",
    "plt.plot(X, Y)  # Wykreśl linie i/lub znaczniki do osi.\n",
    "plt.xlabel('x - axis')  # Ustaw etykietę osi x bieżącej osi.\n",
    "plt.ylabel('y - axis')  # Ustaw etykietę osi y bieżącej osi.\n",
    "plt.title('Draw a line.')  # Ustaw tytuł\n",
    "plt.show()  # Pokaż figurę."
   ]
  },
  {
   "cell_type": "markdown",
   "id": "cbab4bd9",
   "metadata": {
    "slideshow": {
     "slide_type": "slide"
    }
   },
   "source": [
    "### Narysuj linię używając podanych wartości osi z odpowiednią etykietą na osi x, osi y i tytule"
   ]
  },
  {
   "cell_type": "markdown",
   "id": "c6942abc",
   "metadata": {
    "slideshow": {
     "slide_type": "slide"
    }
   },
   "source": [
    "#### Ćwiczenie"
   ]
  },
  {
   "cell_type": "markdown",
   "id": "eb349082",
   "metadata": {
    "slideshow": {
     "slide_type": "fragment"
    }
   },
   "source": [
    "Napisz program w Pythonie, który narysuje linię przy użyciu podanych wartości osi z odpowiednią etykietą na osi x, osi y i tytule."
   ]
  },
  {
   "cell_type": "markdown",
   "id": "fc629ef5",
   "metadata": {
    "slideshow": {
     "slide_type": "subslide"
    }
   },
   "source": [
    "Przykładowy wynik:"
   ]
  },
  {
   "attachments": {},
   "cell_type": "markdown",
   "id": "152d28cb",
   "metadata": {
    "slideshow": {
     "slide_type": "fragment"
    }
   },
   "source": [
    "![](https://www.w3resource.com/w3r_images/matplotlib-basic-exercise-2.png)"
   ]
  },
  {
   "cell_type": "markdown",
   "id": "36cf2873",
   "metadata": {
    "slideshow": {
     "slide_type": "slide"
    }
   },
   "source": [
    "#### Rozwiązanie"
   ]
  },
  {
   "cell_type": "code",
   "execution_count": null,
   "id": "3bc620d5",
   "metadata": {
    "slideshow": {
     "slide_type": "subslide"
    }
   },
   "outputs": [],
   "source": [
    "import matplotlib.pyplot as plt\n",
    "x = [1,2,3]  # wartości osi x\n",
    "y = [2,4,1]  # wartości osi y\n",
    "plt.plot(x, y)  # Wykreśl linie i/lub znaczniki do osi.\n",
    "plt.xlabel('x - axis')  # Ustaw etykietę osi x bieżącej osi.\n",
    "plt.ylabel('y - axis')  # Ustaw etykietę osi y bieżącej osi.\n",
    "plt.title('Sample graph!')  # Ustaw tytuł\n",
    "plt.show()  # Pokaż figurę."
   ]
  },
  {
   "cell_type": "markdown",
   "id": "fe04dae3",
   "metadata": {
    "slideshow": {
     "slide_type": "slide"
    }
   },
   "source": [
    "### Narysuj linię korzystając z podanych wartości osi pobranych z pliku tekstowego, z odpowiednią etykietą w osi x, osi y oraz tytułem"
   ]
  },
  {
   "cell_type": "markdown",
   "id": "d3c4383b",
   "metadata": {
    "slideshow": {
     "slide_type": "slide"
    }
   },
   "source": [
    "#### Ćwiczenie"
   ]
  },
  {
   "cell_type": "markdown",
   "id": "f9929b24",
   "metadata": {
    "slideshow": {
     "slide_type": "fragment"
    }
   },
   "source": [
    "Napisz program w Pythonie, który narysuje linię przy użyciu podanych wartości osi z odpowiednią etykietą na osi x, osi y i tytule.\n",
    "\n",
    "[test.txt](test.txt)"
   ]
  },
  {
   "cell_type": "markdown",
   "id": "03869b1d",
   "metadata": {
    "slideshow": {
     "slide_type": "subslide"
    }
   },
   "source": [
    "Przykładowy wynik:"
   ]
  },
  {
   "attachments": {},
   "cell_type": "markdown",
   "id": "8b5d0f83",
   "metadata": {
    "slideshow": {
     "slide_type": "fragment"
    }
   },
   "source": [
    "![](https://www.w3resource.com/w3r_images/matplotlib-basic-exercise-3.png)"
   ]
  },
  {
   "cell_type": "markdown",
   "id": "97616d64",
   "metadata": {
    "slideshow": {
     "slide_type": "slide"
    }
   },
   "source": [
    "#### Rozwiązanie"
   ]
  },
  {
   "cell_type": "code",
   "execution_count": null,
   "id": "41755b82",
   "metadata": {
    "slideshow": {
     "slide_type": "subslide"
    }
   },
   "outputs": [],
   "source": [
    "import matplotlib.pyplot as plt\n",
    "with open(\"test.txt\") as f:\n",
    "    data = f.read()\n",
    "data = data.split('\\n')\n",
    "x = [int(row.split(' ')[0]) for row in data]\n",
    "y = [int(row.split(' ')[1]) for row in data]\n",
    "plt.plot(x, y)  # Wykreśl linie i/lub znaczniki do osi.\n",
    "plt.xlabel('x - axis')  # Ustaw etykietę osi x bieżącej osi.\n",
    "plt.ylabel('y - axis')  # Ustaw etykietę osi y bieżącej osi.\n",
    "plt.title('Sample graph!')  # Ustaw tytuł\n",
    "plt.show()  # Pokaż figurę."
   ]
  },
  {
   "cell_type": "markdown",
   "id": "150ffe92",
   "metadata": {
    "slideshow": {
     "slide_type": "slide"
    }
   },
   "source": [
    "### Rysuj wykresy liniowe danych finansowych Alphabet Inc. od 3 października 2016 r. do 7 października 2016 r."
   ]
  },
  {
   "cell_type": "markdown",
   "id": "a6d8ac39",
   "metadata": {
    "slideshow": {
     "slide_type": "slide"
    }
   },
   "source": [
    "#### Ćwiczenie"
   ]
  },
  {
   "cell_type": "markdown",
   "id": "6dfefc75",
   "metadata": {
    "slideshow": {
     "slide_type": "fragment"
    }
   },
   "source": [
    "Napisz program w języku Python do rysowania wykresów liniowych danych finansowych firmy Alphabet Inc. w okresie od 3 października 2016 r. do 7 października 2016 r.\n",
    "\n",
    "Przykładowe dane finansowe ([fdata.csv](fdata.csv)):"
   ]
  },
  {
   "cell_type": "markdown",
   "id": "54963405",
   "metadata": {
    "slideshow": {
     "slide_type": "subslide"
    }
   },
   "source": [
    "Przykładowy wynik:"
   ]
  },
  {
   "attachments": {},
   "cell_type": "markdown",
   "id": "1454cefd",
   "metadata": {
    "slideshow": {
     "slide_type": "fragment"
    }
   },
   "source": [
    "![](https://www.w3resource.com/w3r_images/matplotlib-basic-exercise-4.png)"
   ]
  },
  {
   "cell_type": "markdown",
   "id": "a978d409",
   "metadata": {
    "slideshow": {
     "slide_type": "slide"
    }
   },
   "source": [
    "#### Rozwiązanie"
   ]
  },
  {
   "cell_type": "code",
   "execution_count": null,
   "id": "fc19d297",
   "metadata": {
    "slideshow": {
     "slide_type": "subslide"
    }
   },
   "outputs": [],
   "source": [
    "import matplotlib.pyplot as plt\n",
    "import pandas as pd\n",
    "df = pd.read_csv('fdata.csv', sep=',', parse_dates=True, index_col=0)\n",
    "df.plot()\n",
    "plt.show()"
   ]
  },
  {
   "cell_type": "markdown",
   "id": "6b06d840",
   "metadata": {
    "slideshow": {
     "slide_type": "slide"
    }
   },
   "source": [
    "### Wykreśl dwie lub więcej linii na tej samej podziałce z odpowiednimi legendami każdej linii"
   ]
  },
  {
   "cell_type": "markdown",
   "id": "f689d836",
   "metadata": {
    "slideshow": {
     "slide_type": "slide"
    }
   },
   "source": [
    "#### Ćwiczenie"
   ]
  },
  {
   "cell_type": "markdown",
   "id": "7847f09b",
   "metadata": {
    "slideshow": {
     "slide_type": "fragment"
    }
   },
   "source": [
    "Napisz program w Pythonie, który wykreśli dwie lub więcej linii na tym samym wykresie z odpowiednią legendą każdej linii."
   ]
  },
  {
   "cell_type": "markdown",
   "id": "2eda0f65",
   "metadata": {
    "slideshow": {
     "slide_type": "subslide"
    }
   },
   "source": [
    "Przykładowy wynik:"
   ]
  },
  {
   "attachments": {},
   "cell_type": "markdown",
   "id": "084680fe",
   "metadata": {
    "slideshow": {
     "slide_type": "fragment"
    }
   },
   "source": [
    "![](https://www.w3resource.com/w3r_images/matplotlib-basic-exercise-5.png)"
   ]
  },
  {
   "cell_type": "markdown",
   "id": "e1941d4f",
   "metadata": {
    "slideshow": {
     "slide_type": "slide"
    }
   },
   "source": [
    "#### Rozwiązanie"
   ]
  },
  {
   "cell_type": "code",
   "execution_count": null,
   "id": "6390a17c",
   "metadata": {
    "slideshow": {
     "slide_type": "subslide"
    }
   },
   "outputs": [],
   "source": [
    "import matplotlib.pyplot as plt\n",
    "# punkty linii 1\n",
    "x1 = [10,20,30]\n",
    "y1 = [20,40,10]\n",
    "plt.plot(x1, y1, label = \"line 1\")  # kreślenie punktów linii 1\n",
    "# punkty linii 2\n",
    "x2 = [10,20,30]\n",
    "y2 = [40,10,30]\n",
    "plt.plot(x2, y2, label = \"line 2\")  # kreślenie punktów linii 1\n",
    "plt.xlabel('x - axis')  # Ustaw etykietę osi x bieżącej osi.\n",
    "plt.ylabel('y - axis')  # Ustaw etykietę osi y bieżącej osi.\n",
    "# Ustaw tytuł aktualnych osi.\n",
    "plt.title('Two or more lines on same plot with suitable legends ')\n",
    "plt.legend()  # pokaż legendę na podziałce\n",
    "plt.show()  # Wyświetl figurę."
   ]
  },
  {
   "cell_type": "markdown",
   "id": "c287f49a",
   "metadata": {
    "slideshow": {
     "slide_type": "slide"
    }
   },
   "source": [
    "### Narysuj dwie lub więcej linii z legendami, różnymi szerokościami i kolorami"
   ]
  },
  {
   "cell_type": "markdown",
   "id": "6e3097ca",
   "metadata": {
    "slideshow": {
     "slide_type": "slide"
    }
   },
   "source": [
    "#### Ćwiczenie"
   ]
  },
  {
   "cell_type": "markdown",
   "id": "7821ef20",
   "metadata": {
    "slideshow": {
     "slide_type": "fragment"
    }
   },
   "source": [
    "Napisz program w Pythonie, który wykreśli dwie lub więcej linii z legendami, o różnych szerokościach i kolorach."
   ]
  },
  {
   "cell_type": "markdown",
   "id": "7caee497",
   "metadata": {
    "slideshow": {
     "slide_type": "subslide"
    }
   },
   "source": [
    "Przykładowy wynik:"
   ]
  },
  {
   "attachments": {},
   "cell_type": "markdown",
   "id": "41fdc4ff",
   "metadata": {
    "slideshow": {
     "slide_type": "fragment"
    }
   },
   "source": [
    "![](https://www.w3resource.com/w3r_images/matplotlib-basic-exercise-6.png)"
   ]
  },
  {
   "cell_type": "markdown",
   "id": "c94dd351",
   "metadata": {
    "slideshow": {
     "slide_type": "slide"
    }
   },
   "source": [
    "#### Rozwiązanie"
   ]
  },
  {
   "cell_type": "code",
   "execution_count": null,
   "id": "aed0f005",
   "metadata": {
    "slideshow": {
     "slide_type": "subslide"
    }
   },
   "outputs": [],
   "source": [
    "import matplotlib.pyplot as plt\n",
    "# punkty linii 1\n",
    "x1 = [10,20,30]\n",
    "y1 = [20,40,10]\n",
    "# punkty linii 2\n",
    "x2 = [10,20,30]\n",
    "y2 = [40,10,30]\n",
    "plt.xlabel('x - axis')  # Ustaw etykietę osi x bieżącej osi.\n",
    "plt.ylabel('y - axis')  # Ustaw etykietę osi y bieżącej osi.\n",
    "# Ustaw tytuł\n",
    "plt.title('Two or more lines with different widths and colors with suitable legends ')\n",
    "# Pokaż figurę.\n",
    "plt.plot(x1,y1, color='blue', linewidth = 3,  label = 'line1-width-3')\n",
    "plt.plot(x2,y2, color='red', linewidth = 5,  label = 'line2-width-5')\n",
    "plt.legend()  # pokaż legendę na podziałce\n",
    "plt.show()"
   ]
  },
  {
   "cell_type": "markdown",
   "id": "7ca57c0a",
   "metadata": {
    "slideshow": {
     "slide_type": "slide"
    }
   },
   "source": [
    "### Narysuj dwie lub więcej linii w różnych stylach"
   ]
  },
  {
   "cell_type": "markdown",
   "id": "1c920adc",
   "metadata": {
    "slideshow": {
     "slide_type": "slide"
    }
   },
   "source": [
    "#### Ćwiczenie"
   ]
  },
  {
   "cell_type": "markdown",
   "id": "f61aea69",
   "metadata": {
    "slideshow": {
     "slide_type": "fragment"
    }
   },
   "source": [
    "Napisz program w Pythonie, który wykreśli dwie lub więcej linii w różnych stylach."
   ]
  },
  {
   "cell_type": "markdown",
   "id": "1acbf6f3",
   "metadata": {
    "slideshow": {
     "slide_type": "subslide"
    }
   },
   "source": [
    "Przykładowy wynik:"
   ]
  },
  {
   "attachments": {},
   "cell_type": "markdown",
   "id": "9c9d3bb7",
   "metadata": {
    "slideshow": {
     "slide_type": "fragment"
    }
   },
   "source": [
    "![](https://www.w3resource.com/w3r_images/matplotlib-basic-exercise-7.png)"
   ]
  },
  {
   "cell_type": "markdown",
   "id": "8f9fd040",
   "metadata": {
    "slideshow": {
     "slide_type": "slide"
    }
   },
   "source": [
    "#### Rozwiązanie"
   ]
  },
  {
   "cell_type": "code",
   "execution_count": null,
   "id": "4a21de09",
   "metadata": {
    "slideshow": {
     "slide_type": "subslide"
    }
   },
   "outputs": [],
   "source": [
    "import matplotlib.pyplot as plt\n",
    "# punkty linii 1\n",
    "x1 = [10,20,30]\n",
    "y1 = [20,40,10]\n",
    "# punkty linii 2\n",
    "x2 = [10,20,30]\n",
    "y2 = [40,10,30]\n",
    "plt.xlabel('x - axis')  # Ustaw etykietę osi x bieżącej osi.\n",
    "plt.ylabel('y - axis')  # Ustaw etykietę osi y bieżącej osi.\n",
    "# Wykreśl linie i/lub znaczniki do osi.\n",
    "plt.plot(x1,y1, color='blue', linewidth = 3,  label = 'line1-dotted',linestyle='dotted')\n",
    "plt.plot(x2,y2, color='red', linewidth = 5,  label = 'line2-dashed', linestyle='dashed')\n",
    "plt.title(\"Plot with two or more lines with different styles\")  # Ustaw tytuł\n",
    "plt.legend()  # pokaż legendę na podziałce\n",
    "plt.show()  # funkcja, aby pokazać podziałkę"
   ]
  },
  {
   "cell_type": "markdown",
   "id": "b4a15efd",
   "metadata": {
    "slideshow": {
     "slide_type": "slide"
    }
   },
   "source": [
    "### Wykreśl dwie lub więcej linii i ustaw znaczniki linii"
   ]
  },
  {
   "cell_type": "markdown",
   "id": "fcb6e657",
   "metadata": {
    "slideshow": {
     "slide_type": "slide"
    }
   },
   "source": [
    "#### Ćwiczenie"
   ]
  },
  {
   "cell_type": "markdown",
   "id": "84355b04",
   "metadata": {
    "slideshow": {
     "slide_type": "fragment"
    }
   },
   "source": [
    "Napisz program w Pythonie, który kreśli dwie lub więcej linii i ustawia znaczniki linii."
   ]
  },
  {
   "cell_type": "markdown",
   "id": "5e66eefd",
   "metadata": {
    "slideshow": {
     "slide_type": "subslide"
    }
   },
   "source": [
    "Przykładowy wynik:"
   ]
  },
  {
   "attachments": {},
   "cell_type": "markdown",
   "id": "d70845d5",
   "metadata": {
    "slideshow": {
     "slide_type": "fragment"
    }
   },
   "source": [
    "![](https://www.w3resource.com/w3r_images/matplotlib-basic-exercise-8.png)"
   ]
  },
  {
   "cell_type": "markdown",
   "id": "13dc678d",
   "metadata": {
    "slideshow": {
     "slide_type": "slide"
    }
   },
   "source": [
    "#### Rozwiązanie"
   ]
  },
  {
   "cell_type": "code",
   "execution_count": null,
   "id": "7e0bab44",
   "metadata": {
    "slideshow": {
     "slide_type": "subslide"
    }
   },
   "outputs": [],
   "source": [
    "import matplotlib.pyplot as plt\n",
    "x = [1,4,5,6,7]  # wartości osi x\n",
    "y = [2,6,3,6,3]  # wartości osi y\n",
    "\n",
    "# wykreślanie punktów\n",
    "plt.plot(x, y, color='red', linestyle='dashdot', linewidth = 3,\n",
    "         marker='o', markerfacecolor='blue', markersize=12)\n",
    "plt.ylim(1,8)  # Ustaw granice y aktualnych osi.\n",
    "plt.xlim(1,8)  # Ustaw granice x aktualnych osi.\n",
    "\n",
    "plt.xlabel('x - axis')  # nazwanie osi X\n",
    "plt.ylabel('y - axis')  # nazwanie osi Y\n",
    "\n",
    "plt.title('Display marker')  # nadawanie tytułu wykresowi\n",
    "plt.show()  # funkcja, aby pokazać podziałkę"
   ]
  },
  {
   "cell_type": "markdown",
   "id": "cb5bc67f",
   "metadata": {
    "slideshow": {
     "slide_type": "slide"
    }
   },
   "source": [
    "### Wyświetl aktualne wartości limitów osi i ustaw nowe wartości osi"
   ]
  },
  {
   "cell_type": "markdown",
   "id": "9e84e256",
   "metadata": {
    "slideshow": {
     "slide_type": "slide"
    }
   },
   "source": [
    "#### Ćwiczenie"
   ]
  },
  {
   "cell_type": "markdown",
   "id": "23aa1de4",
   "metadata": {
    "slideshow": {
     "slide_type": "fragment"
    }
   },
   "source": [
    "Napisz program w języku Python, który będzie wyświetlał bieżące wartości graniczne osi i ustawiał nowe wartości osi."
   ]
  },
  {
   "cell_type": "markdown",
   "id": "2b08340f",
   "metadata": {
    "slideshow": {
     "slide_type": "subslide"
    }
   },
   "source": [
    "Przykładowy wynik:"
   ]
  },
  {
   "attachments": {},
   "cell_type": "markdown",
   "id": "ebf49ef4",
   "metadata": {
    "slideshow": {
     "slide_type": "fragment"
    }
   },
   "source": [
    "`(-1.4000000000000004, 51.4, -4.2, 154.2)`\n",
    "![](https://www.w3resource.com/w3r_images/matplotlib-basic-exercise-9.png)"
   ]
  },
  {
   "cell_type": "markdown",
   "id": "7a769bc1",
   "metadata": {
    "slideshow": {
     "slide_type": "slide"
    }
   },
   "source": [
    "#### Rozwiązanie"
   ]
  },
  {
   "cell_type": "code",
   "execution_count": null,
   "id": "d90fce96",
   "metadata": {
    "slideshow": {
     "slide_type": "subslide"
    }
   },
   "outputs": [],
   "source": [
    "import matplotlib.pyplot as plt\n",
    "X = range(1, 50)\n",
    "Y = [value * 3 for value in X]\n",
    "plt.plot(X, Y)\n",
    "plt.xlabel('x - axis')\n",
    "plt.ylabel('y - axis')\n",
    "plt.title('Draw a line.')\n",
    "print(plt.axis())  # pokazuje aktualne wartości limitów osi\n",
    "# ustaw nowe limity osi\n",
    "# Limit osi x 0 do 100\n",
    "# Limit osi y 0 do 200\n",
    "plt.axis([0, 100, 0, 200]) \n",
    "plt.show()  # Wyświetl figurę."
   ]
  },
  {
   "cell_type": "markdown",
   "id": "9179fe9a",
   "metadata": {
    "slideshow": {
     "slide_type": "slide"
    }
   },
   "source": [
    "### Wykreśl kilka linii z różnymi stylami formatu w jednym poleceniu za pomocą tablic"
   ]
  },
  {
   "cell_type": "markdown",
   "id": "7dd3074a",
   "metadata": {
    "slideshow": {
     "slide_type": "slide"
    }
   },
   "source": [
    "#### Ćwiczenie"
   ]
  },
  {
   "cell_type": "markdown",
   "id": "2d1e5130",
   "metadata": {
    "slideshow": {
     "slide_type": "fragment"
    }
   },
   "source": [
    "Napisz program w Pythonie, który będzie kreślił kilka linii z różnymi stylami formatu w jednym poleceniu za pomocą tablic."
   ]
  },
  {
   "cell_type": "markdown",
   "id": "c57659bc",
   "metadata": {
    "slideshow": {
     "slide_type": "subslide"
    }
   },
   "source": [
    "Przykładowy wynik:"
   ]
  },
  {
   "attachments": {},
   "cell_type": "markdown",
   "id": "58178f26",
   "metadata": {
    "slideshow": {
     "slide_type": "fragment"
    }
   },
   "source": [
    "![](https://www.w3resource.com/w3r_images/matplotlib-basic-exercise-11.png)"
   ]
  },
  {
   "cell_type": "markdown",
   "id": "19e638e9",
   "metadata": {
    "slideshow": {
     "slide_type": "slide"
    }
   },
   "source": [
    "#### Rozwiązanie"
   ]
  },
  {
   "cell_type": "code",
   "execution_count": null,
   "id": "2cea4749",
   "metadata": {
    "slideshow": {
     "slide_type": "subslide"
    }
   },
   "outputs": [],
   "source": [
    "import numpy as np\n",
    "import matplotlib.pyplot as plt\n",
    "\n",
    "# Czas próbkowania w odstępach 200ms\n",
    "t = np.arange(0., 5., 0.2)\n",
    "\n",
    "# zielone kreski, niebieskie kwadraty i czerwone trójkąty\n",
    "plt.plot(t, t, 'g--', t, t**2, 'bs', t, t**3, 'r^')\n",
    "plt.show()"
   ]
  },
  {
   "cell_type": "markdown",
   "id": "35f80eea",
   "metadata": {
    "slideshow": {
     "slide_type": "slide"
    }
   },
   "source": [
    "### Utwórz wiele podziałek"
   ]
  },
  {
   "cell_type": "markdown",
   "id": "939e4c56",
   "metadata": {
    "slideshow": {
     "slide_type": "slide"
    }
   },
   "source": [
    "#### Ćwiczenie"
   ]
  },
  {
   "cell_type": "markdown",
   "id": "0f445017",
   "metadata": {
    "slideshow": {
     "slide_type": "fragment"
    }
   },
   "source": [
    "Napisz program w Pythonie do tworzenia wielu wykresów"
   ]
  },
  {
   "cell_type": "markdown",
   "id": "7adc30a1",
   "metadata": {
    "slideshow": {
     "slide_type": "subslide"
    }
   },
   "source": [
    "Przykładowy wynik:"
   ]
  },
  {
   "attachments": {},
   "cell_type": "markdown",
   "id": "2bb7c960",
   "metadata": {
    "slideshow": {
     "slide_type": "fragment"
    }
   },
   "source": [
    "![](https://www.w3resource.com/w3r_images/matplotlib-basic-exercise-15.png)"
   ]
  },
  {
   "cell_type": "markdown",
   "id": "81c24af5",
   "metadata": {
    "slideshow": {
     "slide_type": "slide"
    }
   },
   "source": [
    "#### Rozwiązanie"
   ]
  },
  {
   "cell_type": "code",
   "execution_count": null,
   "id": "a09c55b8",
   "metadata": {
    "slideshow": {
     "slide_type": "subslide"
    }
   },
   "outputs": [],
   "source": [
    "import matplotlib.pyplot as plt\n",
    "fig = plt.figure()\n",
    "fig.subplots_adjust(bottom=0.020, left=0.020, top = 0.900, right=0.800)\n",
    "\n",
    "plt.subplot(2, 1, 1)\n",
    "plt.xticks(()), plt.yticks(())\n",
    "\n",
    "plt.subplot(2, 3, 4)\n",
    "plt.xticks(()), plt.yticks(())\n",
    "\n",
    "plt.subplot(2, 3, 5)\n",
    "plt.xticks(()), plt.yticks(())\n",
    "\n",
    "plt.subplot(2, 3, 6)\n",
    "plt.xticks(()), plt.yticks(())\n",
    "\n",
    "plt.show()"
   ]
  },
  {
   "cell_type": "markdown",
   "id": "a108acae",
   "metadata": {
    "slideshow": {
     "slide_type": "slide"
    }
   },
   "source": [
    "### Wyświetl wykres słupkowy popularności języków programowania"
   ]
  },
  {
   "cell_type": "markdown",
   "id": "45e27645",
   "metadata": {
    "slideshow": {
     "slide_type": "slide"
    }
   },
   "source": [
    "#### Ćwiczenie"
   ]
  },
  {
   "cell_type": "markdown",
   "id": "5957a63f",
   "metadata": {
    "slideshow": {
     "slide_type": "fragment"
    }
   },
   "source": [
    "Napisz programowanie w Pythonie, aby wyświetlić wykres słupkowy popularności języków programowania.\n",
    "\n",
    "Przykładowe dane:\n",
    "\n",
    "Języki programowania: `'Java', 'Python', 'PHP', 'JavaScript', 'C#', 'C++'`\n",
    "\n",
    "Popularność: `22.2, 17.6, 8.8, 8, 7.7, 6.7`"
   ]
  },
  {
   "cell_type": "markdown",
   "id": "3ebf7706",
   "metadata": {
    "slideshow": {
     "slide_type": "subslide"
    }
   },
   "source": [
    "Przykładowy wynik:"
   ]
  },
  {
   "attachments": {},
   "cell_type": "markdown",
   "id": "06f19f8c",
   "metadata": {
    "slideshow": {
     "slide_type": "fragment"
    }
   },
   "source": [
    "![](https://www.w3resource.com/w3r_images/matplotlib-barchart-exercise-1.png)"
   ]
  },
  {
   "cell_type": "markdown",
   "id": "5318f16e",
   "metadata": {
    "slideshow": {
     "slide_type": "slide"
    }
   },
   "source": [
    "#### Rozwiązanie"
   ]
  },
  {
   "cell_type": "code",
   "execution_count": null,
   "id": "08ebee8a",
   "metadata": {
    "slideshow": {
     "slide_type": "subslide"
    }
   },
   "outputs": [],
   "source": [
    "import matplotlib.pyplot as plt\n",
    "x = ['Java', 'Python', 'PHP', 'JavaScript', 'C#', 'C++']\n",
    "popularity = [22.2, 17.6, 8.8, 8, 7.7, 6.7]\n",
    "x_pos = [i for i, _ in enumerate(x)]\n",
    "plt.bar(x_pos, popularity, color='blue')\n",
    "plt.xlabel(\"Languages\")\n",
    "plt.ylabel(\"Popularity\")\n",
    "plt.title(\"PopularitY of Programming Language\\n\" + \"Worldwide, Oct 2017 compared to a year ago\")\n",
    "plt.xticks(x_pos, x)\n",
    "plt.minorticks_on()  # Włącz siatkę\n",
    "plt.grid(which='major', linestyle='-', linewidth='0.5', color='red')\n",
    "# Dostosuj mniejszą siatkę\n",
    "plt.grid(which='minor', linestyle=':', linewidth='0.5', color='black')\n",
    "plt.show()"
   ]
  },
  {
   "cell_type": "markdown",
   "id": "e4a78481",
   "metadata": {
    "slideshow": {
     "slide_type": "slide"
    }
   },
   "source": [
    "### Wyświetl poziomy wykres słupkowy popularności języków programowania"
   ]
  },
  {
   "cell_type": "markdown",
   "id": "12bd1479",
   "metadata": {
    "slideshow": {
     "slide_type": "slide"
    }
   },
   "source": [
    "#### Ćwiczenie"
   ]
  },
  {
   "cell_type": "markdown",
   "id": "815bc69b",
   "metadata": {
    "slideshow": {
     "slide_type": "fragment"
    }
   },
   "source": [
    "Napisz program w Pythonie wyświetlający poziomy wykres słupkowy popularności języków programowania.\n",
    "\n",
    "Przykładowe dane:\n",
    "\n",
    "Języki programowania: `'Java', 'Python', 'PHP', 'JS', 'C#', 'C++'`\n",
    "\n",
    "Popularność: `22.2, 17.6, 8.8, 8, 7.7, 6.7`"
   ]
  },
  {
   "cell_type": "markdown",
   "id": "35ece406",
   "metadata": {
    "slideshow": {
     "slide_type": "subslide"
    }
   },
   "source": [
    "Przykładowy wynik:"
   ]
  },
  {
   "attachments": {},
   "cell_type": "markdown",
   "id": "eb57dee1",
   "metadata": {
    "slideshow": {
     "slide_type": "fragment"
    }
   },
   "source": [
    "![](https://www.w3resource.com/w3r_images/matplotlib-barchart-exercise-2.png)"
   ]
  },
  {
   "cell_type": "markdown",
   "id": "f54f77b8",
   "metadata": {
    "slideshow": {
     "slide_type": "slide"
    }
   },
   "source": [
    "#### Rozwiązanie"
   ]
  },
  {
   "cell_type": "code",
   "execution_count": null,
   "id": "b481ccf9",
   "metadata": {
    "slideshow": {
     "slide_type": "subslide"
    }
   },
   "outputs": [],
   "source": [
    "import matplotlib.pyplot as plt\n",
    "x = ['Java', 'Python', 'PHP', 'JS', 'C#', 'C++']\n",
    "popularity = [22.2, 17.6, 8.8, 8, 7.7, 6.7]\n",
    "x_pos = [i for i, _ in enumerate(x)]\n",
    "plt.barh(x_pos, popularity, color='green')\n",
    "plt.xlabel(\"Popularity\")\n",
    "plt.ylabel(\"Languages\")\n",
    "plt.title(\"PopularitY of Programming Language\\n\" + \"Worldwide, Oct 2017 compared to a year ago\")\n",
    "plt.yticks(x_pos, x)\n",
    "plt.minorticks_on()  # Włącz siatkę\n",
    "plt.grid(which='major', linestyle='-', linewidth='0.5', color='red')\n",
    "# Dostosuj mniejszą siatkę\n",
    "plt.grid(which='minor', linestyle=':', linewidth='0.5', color='black')\n",
    "plt.show()"
   ]
  },
  {
   "cell_type": "markdown",
   "id": "655c8a91",
   "metadata": {
    "slideshow": {
     "slide_type": "slide"
    }
   },
   "source": [
    "### Wyświetl wykres słupkowy popularności języków programowania"
   ]
  },
  {
   "cell_type": "markdown",
   "id": "15a36c54",
   "metadata": {
    "slideshow": {
     "slide_type": "slide"
    }
   },
   "source": [
    "#### Ćwiczenie"
   ]
  },
  {
   "cell_type": "markdown",
   "id": "974ff9ef",
   "metadata": {
    "slideshow": {
     "slide_type": "fragment"
    }
   },
   "source": [
    "Napisz program w Pythonie wyświetlający poziomy wykres słupkowy popularności języków programowania.\n",
    "\n",
    "Przykładowe dane:\n",
    "\n",
    "Języki programowania: `'Java', 'Python', 'PHP', 'JavaScript', 'C#', 'C++'`\n",
    "\n",
    "Popularność: `22.2, 17.6, 8.8, 8, 7.7, 6.7`"
   ]
  },
  {
   "cell_type": "markdown",
   "id": "ed6b2bf1",
   "metadata": {
    "slideshow": {
     "slide_type": "subslide"
    }
   },
   "source": [
    "Przykładowy wynik:"
   ]
  },
  {
   "attachments": {},
   "cell_type": "markdown",
   "id": "8ee69305",
   "metadata": {
    "slideshow": {
     "slide_type": "fragment"
    }
   },
   "source": [
    "![](https://www.w3resource.com/w3r_images/matplotlib-barchart-exercise-3.png)"
   ]
  },
  {
   "cell_type": "markdown",
   "id": "83fd1154",
   "metadata": {
    "slideshow": {
     "slide_type": "slide"
    }
   },
   "source": [
    "#### Rozwiązanie"
   ]
  },
  {
   "cell_type": "code",
   "execution_count": null,
   "id": "0c9d162e",
   "metadata": {
    "slideshow": {
     "slide_type": "subslide"
    }
   },
   "outputs": [],
   "source": [
    "import matplotlib.pyplot as plt\n",
    "x = ['Java', 'Python', 'PHP', 'JavaScript', 'C#', 'C++']\n",
    "popularity = [22.2, 17.6, 8.8, 8, 7.7, 6.7]\n",
    "x_pos = [i for i, _ in enumerate(x)]\n",
    "\n",
    "plt.bar(x_pos, popularity, color=(0.4, 0.6, 0.8, 1.0))\n",
    "\n",
    "plt.xlabel(\"Languages\")\n",
    "plt.ylabel(\"Popularity\")\n",
    "plt.title(\"PopularitY of Programming Language\\n\" + \"Worldwide, Oct 2017 compared to a year ago\")\n",
    "plt.xticks(x_pos, x)\n",
    "plt.minorticks_on()  # Włącz siatkę\n",
    "plt.grid(which='major', linestyle='-', linewidth='0.5', color='red')\n",
    "# Dostosuj mniejszą siatkę\n",
    "plt.grid(which='minor', linestyle=':', linewidth='0.5', color='black')\n",
    "plt.show()"
   ]
  },
  {
   "cell_type": "markdown",
   "id": "35228366",
   "metadata": {
    "slideshow": {
     "slide_type": "slide"
    }
   },
   "source": [
    "### Wyświetl wykres słupkowy popularności języków programowania, używając innego koloru dla każdego słupka"
   ]
  },
  {
   "cell_type": "markdown",
   "id": "9e284408",
   "metadata": {
    "slideshow": {
     "slide_type": "slide"
    }
   },
   "source": [
    "#### Ćwiczenie"
   ]
  },
  {
   "cell_type": "markdown",
   "id": "d6a4d09a",
   "metadata": {
    "slideshow": {
     "slide_type": "fragment"
    }
   },
   "source": [
    "Napisz program w Pythonie wyświetlający wykres słupkowy popularności języków programowania. Użyj innego koloru dla każdego paska.\n",
    "\n",
    "Przykładowe dane:\n",
    "\n",
    "Języki programowania: `'Java', 'Python', 'PHP', 'JavaScript', 'C#', 'C++'`\n",
    "\n",
    "Popularność: `22.2, 17.6, 8.8, 8, 7.7, 6.7`"
   ]
  },
  {
   "cell_type": "markdown",
   "id": "55b8e9ab",
   "metadata": {
    "slideshow": {
     "slide_type": "subslide"
    }
   },
   "source": [
    "Przykładowy wynik:"
   ]
  },
  {
   "attachments": {},
   "cell_type": "markdown",
   "id": "e9e08d13",
   "metadata": {
    "slideshow": {
     "slide_type": "fragment"
    }
   },
   "source": [
    "![](https://www.w3resource.com/w3r_images/matplotlib-barchart-exercise-4.png)"
   ]
  },
  {
   "cell_type": "markdown",
   "id": "9630c126",
   "metadata": {
    "slideshow": {
     "slide_type": "slide"
    }
   },
   "source": [
    "#### Rozwiązanie"
   ]
  },
  {
   "cell_type": "code",
   "execution_count": null,
   "id": "b56ddc1f",
   "metadata": {
    "slideshow": {
     "slide_type": "subslide"
    }
   },
   "outputs": [],
   "source": [
    "import matplotlib.pyplot as plt\n",
    "x = ['Java', 'Python', 'PHP', 'JavaScript', 'C#', 'C++']\n",
    "popularity = [22.2, 17.6, 8.8, 8, 7.7, 6.7]\n",
    "x_pos = [i for i, _ in enumerate(x)]\n",
    "\n",
    "plt.bar(x_pos, popularity, color=['red', 'black', 'green', 'blue', 'yellow', 'cyan'])\n",
    "\n",
    "plt.xlabel(\"Languages\")\n",
    "plt.ylabel(\"Popularity\")\n",
    "plt.title(\"PopularitY of Programming Language\\n\" + \"Worldwide, Oct 2017 compared to a year ago\")\n",
    "plt.xticks(x_pos, x)\n",
    "plt.minorticks_on()  # Włącz siatkę\n",
    "plt.grid(which='major', linestyle='-', linewidth='0.5', color='red')\n",
    "# Dostosuj mniejszą siatkę\n",
    "plt.grid(which='minor', linestyle=':', linewidth='0.5', color='black')\n",
    "plt.show()"
   ]
  },
  {
   "cell_type": "code",
   "execution_count": null,
   "id": "fd3b18fb",
   "metadata": {
    "slideshow": {
     "slide_type": "skip"
    }
   },
   "outputs": [],
   "source": []
  }
 ],
 "metadata": {
  "celltoolbar": "Slideshow",
  "kernelspec": {
   "display_name": "Python 3 (ipykernel)",
   "language": "python",
   "name": "python3"
  },
  "language_info": {
   "codemirror_mode": {
    "name": "ipython",
    "version": 3
   },
   "file_extension": ".py",
   "mimetype": "text/x-python",
   "name": "python",
   "nbconvert_exporter": "python",
   "pygments_lexer": "ipython3",
   "version": "3.10.2"
  }
 },
 "nbformat": 4,
 "nbformat_minor": 5
}
