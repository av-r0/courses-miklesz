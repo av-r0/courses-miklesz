{
 "cells": [
  {
   "cell_type": "markdown",
   "id": "9027fbfe",
   "metadata": {
    "slideshow": {
     "slide_type": "slide"
    }
   },
   "source": [
    "# Matplotlib\n",
    "\n",
    "_Szymon Sapkowski, Mikołaj Leszczuk_\n",
    "\n",
    "![](https://i.imgflip.com/o5hw1.jpg)"
   ]
  },
  {
   "cell_type": "markdown",
   "id": "5c06fd4e",
   "metadata": {
    "slideshow": {
     "slide_type": "slide"
    }
   },
   "source": [
    "## Konspekt\n",
    "\n",
    "* Matplotlib\n",
    "* Matplotlib 3D\n",
    "* Figury interaktywne\n",
    "* Ćwiczenia"
   ]
  },
  {
   "cell_type": "markdown",
   "id": "a555353f",
   "metadata": {
    "slideshow": {
     "slide_type": "slide"
    }
   },
   "source": [
    "## Matplotlib"
   ]
  },
  {
   "cell_type": "markdown",
   "id": "a08920a0",
   "metadata": {
    "slideshow": {
     "slide_type": "fragment"
    }
   },
   "source": [
    "Biblioteka `matplotlib` jest podstawową biblioteką do tworzenia wizualizacji w Pythonie. Jego największymi zaletami są uniwersalność i powszechność - w internecie znajdziemy mnóstwo informacji na temat tego jak używać tego pakietu i tworzyć w nim wizualizacje."
   ]
  },
  {
   "cell_type": "code",
   "execution_count": null,
   "id": "3c7a5058",
   "metadata": {
    "slideshow": {
     "slide_type": "fragment"
    }
   },
   "outputs": [],
   "source": [
    "import numpy as np\n",
    "import pandas as pd\n",
    "import matplotlib as mpl\n",
    "import matplotlib.pyplot as plt"
   ]
  },
  {
   "cell_type": "code",
   "execution_count": null,
   "id": "ca6286d7",
   "metadata": {
    "slideshow": {
     "slide_type": "fragment"
    }
   },
   "outputs": [],
   "source": [
    "%matplotlib inline"
   ]
  },
  {
   "cell_type": "markdown",
   "id": "7483885f",
   "metadata": {
    "slideshow": {
     "slide_type": "subslide"
    }
   },
   "source": [
    "Korzystać z `plt.style` możemy w łatwy sposób wybrać jeden z gotowych stylów wykresów."
   ]
  },
  {
   "cell_type": "code",
   "execution_count": null,
   "id": "6c01ca3f",
   "metadata": {
    "slideshow": {
     "slide_type": "fragment"
    }
   },
   "outputs": [],
   "source": [
    "plt.style.use('ggplot')"
   ]
  },
  {
   "cell_type": "code",
   "execution_count": null,
   "id": "5acf439d",
   "metadata": {
    "slideshow": {
     "slide_type": "subslide"
    }
   },
   "outputs": [],
   "source": [
    "for i in range(4):\n",
    "    plt.plot(np.random.rand(10))"
   ]
  },
  {
   "cell_type": "code",
   "execution_count": null,
   "id": "b1309490",
   "metadata": {
    "slideshow": {
     "slide_type": "subslide"
    }
   },
   "outputs": [],
   "source": [
    "import numpy as np\n",
    "x = np.linspace(0, 10, 100)\n",
    "\n",
    "fig = plt.figure()\n",
    "plt.plot(x, np.sin(x), '-')\n",
    "plt.plot(x, np.cos(x), '--');"
   ]
  },
  {
   "cell_type": "markdown",
   "id": "3a23ac9d",
   "metadata": {
    "slideshow": {
     "slide_type": "slide"
    }
   },
   "source": [
    "### Zapisywanie wykresu do pliku"
   ]
  },
  {
   "cell_type": "code",
   "execution_count": null,
   "id": "3903aebf",
   "metadata": {
    "slideshow": {
     "slide_type": "fragment"
    }
   },
   "outputs": [],
   "source": [
    "fig.savefig('my_figure.png')"
   ]
  },
  {
   "cell_type": "code",
   "execution_count": null,
   "id": "678894f6",
   "metadata": {
    "slideshow": {
     "slide_type": "fragment"
    }
   },
   "outputs": [],
   "source": [
    "from IPython.display import Image\n",
    "Image('my_figure.png')"
   ]
  },
  {
   "cell_type": "markdown",
   "id": "0bec73c4",
   "metadata": {
    "slideshow": {
     "slide_type": "subslide"
    }
   },
   "source": [
    "Z racji tego, że matplotlib powstał jako alternatywa dla użytkowników programu MATLAB, istnieje w nim interfejs `pyplot`, który jest analogią do interfejsu istniejącego w MATLAB."
   ]
  },
  {
   "cell_type": "code",
   "execution_count": null,
   "id": "07ca11c7",
   "metadata": {
    "slideshow": {
     "slide_type": "fragment"
    }
   },
   "outputs": [],
   "source": [
    "plt.figure()  # stwórz nowy obiekt\n",
    "# tworzenie pierwszego wykresu\n",
    "plt.subplot(2, 1, 1)  # (wiersze, kolumny, numer panelu)\n",
    "plt.plot(x, np.sin(x))\n",
    "# tworzenie drugiego wykresu\n",
    "plt.subplot(2, 1, 2) \n",
    "plt.plot(x, np.cos(x));"
   ]
  },
  {
   "cell_type": "markdown",
   "id": "c20085e3",
   "metadata": {
    "slideshow": {
     "slide_type": "subslide"
    }
   },
   "source": [
    "Innym istniejącym interfejsem jest bardziej techniczny interfejs powiązany z obiektami pythonowymi:"
   ]
  },
  {
   "cell_type": "code",
   "execution_count": null,
   "id": "3761f766",
   "metadata": {
    "slideshow": {
     "slide_type": "fragment"
    }
   },
   "outputs": [],
   "source": [
    "fig, ax = plt.subplots(2)\n",
    "\n",
    "ax[0].plot(x, np.sin(x))\n",
    "ax[1].plot(x, np.cos(x));"
   ]
  },
  {
   "cell_type": "markdown",
   "id": "fba97c86",
   "metadata": {
    "slideshow": {
     "slide_type": "slide"
    }
   },
   "source": [
    "### Proste wykresy liniowe"
   ]
  },
  {
   "cell_type": "markdown",
   "id": "d7cde8e0",
   "metadata": {
    "slideshow": {
     "slide_type": "fragment"
    }
   },
   "source": [
    "W Matplotlib obiekt typu `plt.Figure` przechowuje wszelkie informacje o wyresie (osie, obrazy, tekst, oznaczenia). Obiekty typu `plt.Axes` natomiast reprezentują dane reprezentowane na wykresie."
   ]
  },
  {
   "cell_type": "code",
   "execution_count": null,
   "id": "0d892729",
   "metadata": {
    "slideshow": {
     "slide_type": "fragment"
    }
   },
   "outputs": [],
   "source": [
    "fig = plt.figure()\n",
    "ax = plt.axes()"
   ]
  },
  {
   "cell_type": "markdown",
   "id": "dbfb9fb9",
   "metadata": {
    "slideshow": {
     "slide_type": "subslide"
    }
   },
   "source": [
    "Kiedy osie są gotowe możemy użyć na nich metody `plot` aby narysować wykres:"
   ]
  },
  {
   "cell_type": "code",
   "execution_count": null,
   "id": "70bc0e3c",
   "metadata": {
    "slideshow": {
     "slide_type": "fragment"
    }
   },
   "outputs": [],
   "source": [
    "fig = plt.figure()\n",
    "ax = plt.axes()\n",
    "\n",
    "x = np.linspace(0, 10, 1000)\n",
    "ax.plot(x, np.sin(x));"
   ]
  },
  {
   "cell_type": "markdown",
   "id": "14b65f50",
   "metadata": {
    "slideshow": {
     "slide_type": "subslide"
    }
   },
   "source": [
    "Lub analogicznie korzystając z drugiego interfejsu:"
   ]
  },
  {
   "cell_type": "code",
   "execution_count": null,
   "id": "8b9d692e",
   "metadata": {
    "slideshow": {
     "slide_type": "fragment"
    }
   },
   "outputs": [],
   "source": [
    "# Tutaj fig i ax są tworzone za nas:\n",
    "\n",
    "plt.plot(x, np.sin(x));"
   ]
  },
  {
   "cell_type": "markdown",
   "id": "ba980447",
   "metadata": {
    "slideshow": {
     "slide_type": "subslide"
    }
   },
   "source": [
    "Jeżeli chcemy kilka serii danych na raz możemy używać `plt.plot` wiele razy:"
   ]
  },
  {
   "cell_type": "code",
   "execution_count": null,
   "id": "4756831c",
   "metadata": {
    "slideshow": {
     "slide_type": "fragment"
    }
   },
   "outputs": [],
   "source": [
    "plt.plot(x, np.sin(x))\n",
    "plt.plot(x, np.cos(x));"
   ]
  },
  {
   "cell_type": "markdown",
   "id": "6fff7c9e",
   "metadata": {
    "slideshow": {
     "slide_type": "subslide"
    }
   },
   "source": [
    "Aby zarządzać kolorami możemy użyć parametru `color`, oto kilka sposobów używania go:"
   ]
  },
  {
   "cell_type": "code",
   "execution_count": null,
   "id": "43a4db5e",
   "metadata": {
    "slideshow": {
     "slide_type": "fragment"
    }
   },
   "outputs": [],
   "source": [
    "plt.plot(x, np.sin(x - 0), color='blue')        # nazwa koloru\n",
    "plt.plot(x, np.sin(x - 1), color='g')           # kod koloru (rgbcmyk)\n",
    "plt.plot(x, np.sin(x - 2), color='0.75')        # grayscale (0-1)\n",
    "plt.plot(x, np.sin(x - 3), color='#FFDD44')     # hex RRGGBB\n",
    "plt.plot(x, np.sin(x - 4), color=(1.0,0.2,0.3)) # trójka reprezentująca wartości RGB\n",
    "plt.plot(x, np.sin(x - 5), color='chartreuse'); # nazwy z HTML"
   ]
  },
  {
   "cell_type": "markdown",
   "id": "5ba2d30b",
   "metadata": {
    "slideshow": {
     "slide_type": "subslide"
    }
   },
   "source": [
    "Analogicznie możemy definiować styl linii za pomocą `linestyle`"
   ]
  },
  {
   "cell_type": "code",
   "execution_count": null,
   "id": "e9c15715",
   "metadata": {
    "slideshow": {
     "slide_type": "fragment"
    }
   },
   "outputs": [],
   "source": [
    "plt.plot(x, x + 0, linestyle='solid')\n",
    "plt.plot(x, x + 1, linestyle='dashed')\n",
    "plt.plot(x, x + 2, linestyle='dashdot')\n",
    "plt.plot(x, x + 3, linestyle='dotted');\n",
    "\n",
    "# Lub korzystając ze skrótów:\n",
    "plt.plot(x, x + 4, linestyle='-')  \n",
    "plt.plot(x, x + 5, linestyle='--') \n",
    "plt.plot(x, x + 6, linestyle='-.') \n",
    "plt.plot(x, x + 7, linestyle=':');"
   ]
  },
  {
   "cell_type": "markdown",
   "id": "8ccdd316",
   "metadata": {
    "slideshow": {
     "slide_type": "subslide"
    }
   },
   "source": [
    "Możemy też łączyć ze sobą te komendy:"
   ]
  },
  {
   "cell_type": "code",
   "execution_count": null,
   "id": "427ccb49",
   "metadata": {
    "slideshow": {
     "slide_type": "fragment"
    }
   },
   "outputs": [],
   "source": [
    "plt.plot(x, x + 0, '-g')\n",
    "plt.plot(x, x + 1, '--c')\n",
    "plt.plot(x, x + 2, '-.k')\n",
    "plt.plot(x, x + 3, ':r');"
   ]
  },
  {
   "cell_type": "markdown",
   "id": "ecc9552b",
   "metadata": {
    "slideshow": {
     "slide_type": "slide"
    }
   },
   "source": [
    "### Ustawianie zakresu osi"
   ]
  },
  {
   "cell_type": "code",
   "execution_count": null,
   "id": "e1b84a4a",
   "metadata": {
    "slideshow": {
     "slide_type": "fragment"
    }
   },
   "outputs": [],
   "source": [
    "plt.plot(x, np.sin(x))\n",
    "\n",
    "plt.xlim(-2, 12)  # zakres osi OX\n",
    "plt.ylim(-1.5, 1.5);  # zakres osi OY"
   ]
  },
  {
   "cell_type": "code",
   "execution_count": null,
   "id": "c7c987f2",
   "metadata": {
    "slideshow": {
     "slide_type": "subslide"
    }
   },
   "outputs": [],
   "source": [
    "plt.plot(x, np.sin(x))\n",
    "\n",
    "plt.xlim(10, 0)  # możemy ustawić zakres od prawej do lewej\n",
    "plt.ylim(1.2, -1.2);"
   ]
  },
  {
   "cell_type": "code",
   "execution_count": null,
   "id": "c89a2055",
   "metadata": {
    "slideshow": {
     "slide_type": "fragment"
    }
   },
   "outputs": [],
   "source": [
    "plt.plot(x, np.sin(x))\n",
    "plt.axis([-1, 11, -1.5, 1.5]);  # plt.axis pozwala nam ustawić wszystko na raz"
   ]
  },
  {
   "cell_type": "markdown",
   "id": "8a7fb2ad",
   "metadata": {
    "slideshow": {
     "slide_type": "subslide"
    }
   },
   "source": [
    "Dodatkowo korzystając z `plt.axis` możemy korzystać z gotowych ustawień takich jak:"
   ]
  },
  {
   "cell_type": "code",
   "execution_count": null,
   "id": "6a97096b",
   "metadata": {
    "slideshow": {
     "slide_type": "fragment"
    }
   },
   "outputs": [],
   "source": [
    "plt.plot(x, np.sin(x))\n",
    "plt.axis('tight');"
   ]
  },
  {
   "cell_type": "code",
   "execution_count": null,
   "id": "ae7ab580",
   "metadata": {
    "slideshow": {
     "slide_type": "subslide"
    }
   },
   "outputs": [],
   "source": [
    "plt.plot(x, np.sin(x))\n",
    "plt.axis('equal');"
   ]
  },
  {
   "cell_type": "markdown",
   "id": "e261b7d1",
   "metadata": {
    "slideshow": {
     "slide_type": "subslide"
    }
   },
   "source": [
    "Aby sprawdzić inne możliwości można zajrzeć do dokumentacji:"
   ]
  },
  {
   "cell_type": "code",
   "execution_count": null,
   "id": "3f5d91f9",
   "metadata": {
    "slideshow": {
     "slide_type": "subslide"
    }
   },
   "outputs": [],
   "source": [
    "help(plt.axis)"
   ]
  },
  {
   "cell_type": "markdown",
   "id": "e1d16abc",
   "metadata": {
    "slideshow": {
     "slide_type": "slide"
    }
   },
   "source": [
    "### Dodawanie oznaczeń do wykresów"
   ]
  },
  {
   "cell_type": "code",
   "execution_count": null,
   "id": "c55ccf8e",
   "metadata": {
    "slideshow": {
     "slide_type": "fragment"
    }
   },
   "outputs": [],
   "source": [
    "plt.plot(x, np.sin(x))\n",
    "plt.title(\"A Sine Curve\")\n",
    "plt.xlabel(\"x\")  \n",
    "plt.ylabel(\"sin(x)\");"
   ]
  },
  {
   "cell_type": "markdown",
   "id": "f0054551",
   "metadata": {
    "slideshow": {
     "slide_type": "subslide"
    }
   },
   "source": [
    "Kiedy pokazujemy więcej niż jedną serie danych możemy skorzystać z `plt.legend` aby dodać legendę do wykresu:"
   ]
  },
  {
   "cell_type": "code",
   "execution_count": null,
   "id": "427bf2f1",
   "metadata": {
    "slideshow": {
     "slide_type": "fragment"
    }
   },
   "outputs": [],
   "source": [
    "plt.plot(x, np.sin(x), '-g', label='sin(x)')\n",
    "plt.plot(x, np.cos(x), ':b', label='cos(x)')\n",
    "plt.axis('equal')\n",
    "\n",
    "plt.legend();"
   ]
  },
  {
   "cell_type": "markdown",
   "id": "89bb5a13",
   "metadata": {
    "slideshow": {
     "slide_type": "subslide"
    }
   },
   "source": [
    "Jeżeli korzystamy z obiektowego interfejsu nazwy metod mogą być trochę inne:\n",
    "\n",
    "- `plt.xlabel()` → `ax.set_xlabel()`\n",
    "- `plt.ylabel()` → `ax.set_ylabel()`\n",
    "- `plt.xlim()` → `ax.set_xlim()`\n",
    "- `plt.ylim()` → `ax.set_ylim()`\n",
    "- `plt.title()` → `ax.set_title()`\n"
   ]
  },
  {
   "cell_type": "markdown",
   "id": "f116dc00",
   "metadata": {
    "slideshow": {
     "slide_type": "subslide"
    }
   },
   "source": [
    "Aby ułatwić sobie pracę możemy skorzystać z `ax.set` i ustawić wszystko za jednym razem:"
   ]
  },
  {
   "cell_type": "code",
   "execution_count": null,
   "id": "9a7241e2",
   "metadata": {
    "slideshow": {
     "slide_type": "fragment"
    }
   },
   "outputs": [],
   "source": [
    "ax = plt.axes()\n",
    "ax.plot(x, np.sin(x))\n",
    "ax.set(xlim=(0, 10), ylim=(-2, 2),\n",
    "       xlabel='x', ylabel='sin(x)',\n",
    "       title='A Simple Plot');"
   ]
  },
  {
   "cell_type": "markdown",
   "id": "2122da52",
   "metadata": {
    "slideshow": {
     "slide_type": "slide"
    }
   },
   "source": [
    "### Wykresy kropkowe (scatter plots)"
   ]
  },
  {
   "cell_type": "markdown",
   "id": "d906a030",
   "metadata": {
    "slideshow": {
     "slide_type": "fragment"
    }
   },
   "source": [
    "Wykresy kropkowe tworzymy dokładnie tak jak liniowe, zmieniamy jedynie symbol który jest używany do rysowania:"
   ]
  },
  {
   "cell_type": "code",
   "execution_count": null,
   "id": "c37b5b0e",
   "metadata": {
    "slideshow": {
     "slide_type": "fragment"
    }
   },
   "outputs": [],
   "source": [
    "x = np.linspace(0, 10, 30)\n",
    "y = np.sin(x)\n",
    "plt.plot(x, y, 'o', color='black');"
   ]
  },
  {
   "cell_type": "markdown",
   "id": "6ecb536c",
   "metadata": {
    "slideshow": {
     "slide_type": "subslide"
    }
   },
   "source": [
    "Istnieje wiele rodzajów symboli jakich możemy używać:"
   ]
  },
  {
   "cell_type": "code",
   "execution_count": null,
   "id": "52ff8377",
   "metadata": {
    "slideshow": {
     "slide_type": "fragment"
    }
   },
   "outputs": [],
   "source": [
    "rng = np.random.RandomState(0)\n",
    "for marker in ['o', '.', ',', 'x', '+', 'v', '^', '<', '>', 's', 'd']:\n",
    "    plt.plot(rng.rand(5), rng.rand(5), marker,\n",
    "             label=\"marker='{0}'\".format(marker))\n",
    "plt.legend(numpoints=1)\n",
    "plt.xlim(0, 1.8);"
   ]
  },
  {
   "cell_type": "markdown",
   "id": "cf43ca28",
   "metadata": {
    "slideshow": {
     "slide_type": "subslide"
    }
   },
   "source": [
    "Co więcej symbole można ze sobą łączyć:"
   ]
  },
  {
   "cell_type": "code",
   "execution_count": null,
   "id": "421e5003",
   "metadata": {
    "slideshow": {
     "slide_type": "fragment"
    }
   },
   "outputs": [],
   "source": [
    "plt.plot(x, y, '-o', color='red');"
   ]
  },
  {
   "cell_type": "markdown",
   "id": "8182c81a",
   "metadata": {
    "slideshow": {
     "slide_type": "subslide"
    }
   },
   "source": [
    "Funkcja `plot` posiada wiele argumentów służacych do modyfikowania stylu linii i punktów:"
   ]
  },
  {
   "cell_type": "code",
   "execution_count": null,
   "id": "c01e22a9",
   "metadata": {
    "slideshow": {
     "slide_type": "fragment"
    }
   },
   "outputs": [],
   "source": [
    "plt.plot(x, y, '-p', color='gray',\n",
    "         markersize=15, linewidth=4,\n",
    "         markerfacecolor='white',\n",
    "         markeredgecolor='gray',\n",
    "         markeredgewidth=2)\n",
    "plt.ylim(-1.2, 1.2);"
   ]
  },
  {
   "cell_type": "markdown",
   "id": "7a6d17cd",
   "metadata": {
    "slideshow": {
     "slide_type": "subslide"
    }
   },
   "source": [
    "Jeżeli chcemy tworzyć bardziej skomplikowane wykresy kropkowe, możemy skorzystać z `plt.scatter` które daje nam możliwość ustalania stylu dla każdej obserwacji:"
   ]
  },
  {
   "cell_type": "code",
   "execution_count": null,
   "id": "68c6e9bb",
   "metadata": {
    "slideshow": {
     "slide_type": "subslide"
    }
   },
   "outputs": [],
   "source": [
    "rng = np.random.RandomState(0)\n",
    "x = rng.randn(100)\n",
    "y = rng.randn(100)\n",
    "colors = rng.rand(100)\n",
    "sizes = 1000 * rng.rand(100)\n",
    "\n",
    "plt.scatter(x, y, c=colors, s=sizes, alpha=0.3,\n",
    "            cmap='viridis')\n",
    "plt.colorbar();  # show color scale"
   ]
  },
  {
   "cell_type": "markdown",
   "id": "86186bbe",
   "metadata": {
    "slideshow": {
     "slide_type": "subslide"
    }
   },
   "source": [
    "Przykład użycia tych parametrów na zbiorze Iris, zawierającym obserwacje trzech rodzajów kwiatów. W ten  sposób możemy pokazać wielowymiarowość danych - każda kropka oznacza jedną obserwacje, jej położenie mówi o rozmiarze liści, rozmiar kropki mówi o rozmiarze płatka kwiatu, a kolor przedstawia jego rodzaj."
   ]
  },
  {
   "cell_type": "code",
   "execution_count": null,
   "id": "06921cb2",
   "metadata": {
    "slideshow": {
     "slide_type": "fragment"
    }
   },
   "outputs": [],
   "source": [
    "from sklearn.datasets import load_iris\n",
    "iris = load_iris()\n",
    "feat = iris.data.T  # features\n",
    "plt.scatter(feat[0], feat[1], alpha=0.2, s=100*feat[3], c=iris.target, cmap='viridis')\n",
    "plt.xlabel(iris.feature_names[0])\n",
    "plt.ylabel(iris.feature_names[1]);"
   ]
  },
  {
   "cell_type": "markdown",
   "id": "7961928c",
   "metadata": {
    "slideshow": {
     "slide_type": "slide"
    }
   },
   "source": [
    "### Wizualizacja błędów"
   ]
  },
  {
   "cell_type": "markdown",
   "id": "5f6fb6a0",
   "metadata": {
    "slideshow": {
     "slide_type": "fragment"
    }
   },
   "source": [
    "Każdy wykonany pomiar jest zawsze obarczony błędem. Pokazywanie przedziałów ufności pozwala ukazać pełniejszy obraz sytuacji."
   ]
  },
  {
   "cell_type": "code",
   "execution_count": null,
   "id": "6ce8f9ea",
   "metadata": {
    "slideshow": {
     "slide_type": "fragment"
    }
   },
   "outputs": [],
   "source": [
    "x = np.linspace(0, 10, 50)\n",
    "dy = 0.8\n",
    "y = np.sin(x) + dy * np.random.randn(50)\n",
    "\n",
    "plt.errorbar(x, y, yerr=dy, fmt='.k');  # fmt oznacza kod formatu"
   ]
  },
  {
   "cell_type": "markdown",
   "id": "fccba7ee",
   "metadata": {
    "slideshow": {
     "slide_type": "subslide"
    }
   },
   "source": [
    "Funkcja `errorbar` pozwala również na modyfikowanie stylu samych słupków błedów:"
   ]
  },
  {
   "cell_type": "code",
   "execution_count": null,
   "id": "e9216787",
   "metadata": {
    "slideshow": {
     "slide_type": "fragment"
    }
   },
   "outputs": [],
   "source": [
    "plt.errorbar(x, y, yerr=dy, fmt='o', color='black',\n",
    "             ecolor='lightgray', elinewidth=3, capsize=0);"
   ]
  },
  {
   "cell_type": "markdown",
   "id": "0d85095b",
   "metadata": {
    "slideshow": {
     "slide_type": "slide"
    }
   },
   "source": [
    "### Tworzenie histogramów"
   ]
  },
  {
   "cell_type": "markdown",
   "id": "cc8b9503",
   "metadata": {
    "slideshow": {
     "slide_type": "fragment"
    }
   },
   "source": [
    "Histogramy są świetnym narzędziem na początkowym etapie analizy zbioru danych, aby lepiej zrozumieć ich rozkład."
   ]
  },
  {
   "cell_type": "code",
   "execution_count": null,
   "id": "79f9e273",
   "metadata": {
    "slideshow": {
     "slide_type": "fragment"
    }
   },
   "outputs": [],
   "source": [
    "data = np.random.randn(1000)\n",
    "plt.hist(data);"
   ]
  },
  {
   "cell_type": "code",
   "execution_count": null,
   "id": "7c0d66b0",
   "metadata": {
    "slideshow": {
     "slide_type": "subslide"
    }
   },
   "outputs": [],
   "source": [
    "plt.hist(data, bins=30, alpha=0.5,\n",
    "         histtype='stepfilled', color='steelblue',\n",
    "         edgecolor='black');"
   ]
  },
  {
   "cell_type": "code",
   "execution_count": null,
   "id": "96fa9f07",
   "metadata": {
    "slideshow": {
     "slide_type": "subslide"
    }
   },
   "outputs": [],
   "source": [
    "plt.hist?"
   ]
  },
  {
   "cell_type": "code",
   "execution_count": null,
   "id": "ff6a7f2d",
   "metadata": {
    "slideshow": {
     "slide_type": "subslide"
    }
   },
   "outputs": [],
   "source": [
    "x1 = np.random.normal(0, 0.8, 1000)\n",
    "x2 = np.random.normal(-2, 1, 1000)\n",
    "x3 = np.random.normal(3, 2, 1000)\n",
    "\n",
    "kwargs = dict(histtype='stepfilled', alpha=0.3, bins=40)\n",
    "\n",
    "plt.hist(x1, **kwargs)\n",
    "plt.hist(x2, **kwargs)\n",
    "plt.hist(x3, **kwargs);"
   ]
  },
  {
   "cell_type": "markdown",
   "id": "1c1d0b4e",
   "metadata": {
    "slideshow": {
     "slide_type": "subslide"
    }
   },
   "source": [
    "Możemy również tworzyć dwuwymiarowe histogramy:"
   ]
  },
  {
   "cell_type": "code",
   "execution_count": null,
   "id": "a387f849",
   "metadata": {
    "slideshow": {
     "slide_type": "fragment"
    }
   },
   "outputs": [],
   "source": [
    "mean = [0, 0]\n",
    "cov = [[1, 1], [1, 2]]\n",
    "x, y = np.random.multivariate_normal(mean, cov, 10000).T"
   ]
  },
  {
   "cell_type": "code",
   "execution_count": null,
   "id": "7a93cdf7",
   "metadata": {
    "slideshow": {
     "slide_type": "subslide"
    }
   },
   "outputs": [],
   "source": [
    "plt.hist2d(x, y, bins=30, cmap='Blues')\n",
    "cb = plt.colorbar()\n",
    "cb.set_label('counts in bin')"
   ]
  },
  {
   "cell_type": "code",
   "execution_count": null,
   "id": "a3d54605",
   "metadata": {
    "slideshow": {
     "slide_type": "subslide"
    }
   },
   "outputs": [],
   "source": [
    "plt.hexbin(x, y, gridsize=30, cmap='Blues')\n",
    "cb = plt.colorbar(label='count in bin')"
   ]
  },
  {
   "cell_type": "markdown",
   "id": "67ae8b93",
   "metadata": {
    "slideshow": {
     "slide_type": "slide"
    }
   },
   "source": [
    "### Duże ilości wykresów na raz!\n",
    "\n",
    "Czasami może przydać się możliwość pokazania kilku wykresów obok siebie, aby łatwiej było je porównać. W Matplotlib służy do tego `subplot`."
   ]
  },
  {
   "cell_type": "markdown",
   "id": "729bb193",
   "metadata": {
    "slideshow": {
     "slide_type": "subslide"
    }
   },
   "source": [
    "Korzystając z `plt.axes` możemy przekazać w którym miejscu ma się pokazać inny wykres:"
   ]
  },
  {
   "cell_type": "code",
   "execution_count": null,
   "id": "7e2e1dda",
   "metadata": {
    "slideshow": {
     "slide_type": "fragment"
    }
   },
   "outputs": [],
   "source": [
    "ax1 = plt.axes()\n",
    "ax2 = plt.axes([0.65, 0.65, 0.2, 0.2])"
   ]
  },
  {
   "cell_type": "markdown",
   "id": "8c70b554",
   "metadata": {
    "slideshow": {
     "slide_type": "subslide"
    }
   },
   "source": [
    "Innym sposobem jest użycie `plt.subplot` który tworzy siatkę wykresów:"
   ]
  },
  {
   "cell_type": "code",
   "execution_count": null,
   "id": "62d8f105",
   "metadata": {
    "slideshow": {
     "slide_type": "fragment"
    }
   },
   "outputs": [],
   "source": [
    "for i in range(1, 7):\n",
    "    plt.subplot(2, 3, i)\n",
    "    plt.text(0.5, 0.5, str((2, 3, i)),\n",
    "             fontsize=18, ha='center')"
   ]
  },
  {
   "cell_type": "markdown",
   "id": "470b7627",
   "metadata": {
    "slideshow": {
     "slide_type": "subslide"
    }
   },
   "source": [
    "Aby poprawić odstępy między wykresami możemy użyć `subplots_adjust`"
   ]
  },
  {
   "cell_type": "code",
   "execution_count": null,
   "id": "96065a74",
   "metadata": {
    "slideshow": {
     "slide_type": "fragment"
    }
   },
   "outputs": [],
   "source": [
    "fig = plt.figure()\n",
    "fig.subplots_adjust(hspace=0.4, wspace=0.4)\n",
    "for i in range(1, 7):\n",
    "    ax = fig.add_subplot(2, 3, i)\n",
    "    ax.text(0.5, 0.5, str((2, 3, i)),\n",
    "           fontsize=18, ha='center')"
   ]
  },
  {
   "cell_type": "markdown",
   "id": "3a3de06b",
   "metadata": {
    "slideshow": {
     "slide_type": "subslide"
    }
   },
   "source": [
    "Takie pojedyncze tworzenie wykresów może być uciążliwe przy wielu wykresach na raz, lub gdy chcemy schować wewnętrzne osie, dlatego w takich przypadkach możemy użyć `plt.subplots`"
   ]
  },
  {
   "cell_type": "code",
   "execution_count": null,
   "id": "90e58fa6",
   "metadata": {
    "slideshow": {
     "slide_type": "fragment"
    }
   },
   "outputs": [],
   "source": [
    "fig, ax = plt.subplots(2, 3, sharex='col', sharey='row')"
   ]
  },
  {
   "cell_type": "code",
   "execution_count": null,
   "id": "62278111",
   "metadata": {
    "slideshow": {
     "slide_type": "subslide"
    }
   },
   "outputs": [],
   "source": [
    "for i in range(2):\n",
    "    for j in range(3):\n",
    "        ax[i, j].text(0.5, 0.5, str((i, j)),\n",
    "                      fontsize=18, ha='center')\n",
    "fig\n"
   ]
  },
  {
   "cell_type": "markdown",
   "id": "c68cdf81",
   "metadata": {
    "slideshow": {
     "slide_type": "slide"
    }
   },
   "source": [
    "### Dodawanie tekstu do wykresów"
   ]
  },
  {
   "cell_type": "markdown",
   "id": "38aa8cd6",
   "metadata": {
    "slideshow": {
     "slide_type": "fragment"
    }
   },
   "source": [
    "Wczytajmy sobie zbiór danych o urodzeniach dzieci w Stanach."
   ]
  },
  {
   "cell_type": "code",
   "execution_count": null,
   "id": "0f2bd99c",
   "metadata": {
    "slideshow": {
     "slide_type": "fragment"
    }
   },
   "outputs": [],
   "source": [
    "births = pd.read_csv(\n",
    "    'https://raw.githubusercontent.com/jakevdp/data-CDCbirths/master/births.csv'\n",
    ")"
   ]
  },
  {
   "cell_type": "markdown",
   "id": "8e1df211",
   "metadata": {
    "slideshow": {
     "slide_type": "fragment"
    }
   },
   "source": [
    "Jak widzimy mamy tutaj dane o liczbie urodzonych dzieci wraz z ich płcią:"
   ]
  },
  {
   "cell_type": "code",
   "execution_count": null,
   "id": "14c8d369",
   "metadata": {
    "slideshow": {
     "slide_type": "fragment"
    }
   },
   "outputs": [],
   "source": [
    "births.head()"
   ]
  },
  {
   "cell_type": "markdown",
   "id": "1bbc5611",
   "metadata": {
    "slideshow": {
     "slide_type": "subslide"
    }
   },
   "source": [
    "Korzystając z tabeli przestawnej możemy zobaczyć jak rozkładają się urodzenia w poszczególnych dekadach:"
   ]
  },
  {
   "cell_type": "code",
   "execution_count": null,
   "id": "1e3c2d52",
   "metadata": {
    "slideshow": {
     "slide_type": "fragment"
    }
   },
   "outputs": [],
   "source": [
    "births['decade'] = 10 * (births['year'] // 10)\n",
    "births.pivot_table('births', index='decade', columns='gender', aggfunc='sum')"
   ]
  },
  {
   "cell_type": "code",
   "execution_count": null,
   "id": "3f4581b9",
   "metadata": {
    "slideshow": {
     "slide_type": "subslide"
    }
   },
   "outputs": [],
   "source": [
    "births.pivot_table('births', index='year', columns='gender', aggfunc='sum').plot()\n",
    "plt.ylabel('total births per year');"
   ]
  },
  {
   "cell_type": "markdown",
   "id": "445aedda",
   "metadata": {
    "slideshow": {
     "slide_type": "subslide"
    }
   },
   "source": [
    "Usuńmy teraz dane odstające ze zbioru danych:"
   ]
  },
  {
   "cell_type": "code",
   "execution_count": null,
   "id": "ab519534",
   "metadata": {
    "slideshow": {
     "slide_type": "fragment"
    }
   },
   "outputs": [],
   "source": [
    "quartiles = np.percentile(births['births'], [25, 50, 75])\n",
    "mu = quartiles[1]\n",
    "sig = 0.74 * (quartiles[2] - quartiles[0])"
   ]
  },
  {
   "cell_type": "code",
   "execution_count": null,
   "id": "f7ed373c",
   "metadata": {
    "slideshow": {
     "slide_type": "fragment"
    }
   },
   "outputs": [],
   "source": [
    "births = births.dropna()"
   ]
  },
  {
   "cell_type": "code",
   "execution_count": null,
   "id": "0f7130dc",
   "metadata": {
    "slideshow": {
     "slide_type": "fragment"
    }
   },
   "outputs": [],
   "source": [
    "births['day'] = births['day'].astype(int)"
   ]
  },
  {
   "cell_type": "code",
   "execution_count": null,
   "id": "44ed9d99",
   "metadata": {
    "slideshow": {
     "slide_type": "fragment"
    }
   },
   "outputs": [],
   "source": [
    "births = births.query('(births > @mu - 5 * @sig) & (births < @mu + 5 * @sig)')"
   ]
  },
  {
   "cell_type": "markdown",
   "id": "5646847f",
   "metadata": {
    "slideshow": {
     "slide_type": "subslide"
    }
   },
   "source": [
    "Zmienimy teraz index zbioru danych na taki który reprezentuje obiekt typu datetime:"
   ]
  },
  {
   "cell_type": "code",
   "execution_count": null,
   "id": "bfcf788b",
   "metadata": {
    "slideshow": {
     "slide_type": "fragment"
    }
   },
   "outputs": [],
   "source": [
    "births.index = pd.to_datetime(10000 * births.year +\n",
    "                              100 * births.month +\n",
    "                              births.day, format='%Y%m%d')\n",
    "\n",
    "births['dayofweek'] = births.index.dayofweek"
   ]
  },
  {
   "cell_type": "markdown",
   "id": "e033b402",
   "metadata": {
    "slideshow": {
     "slide_type": "subslide"
    }
   },
   "source": [
    "W ten sposób możemy zobaczyć jak rozkładają się urodzenia względem dnia tygodnia:"
   ]
  },
  {
   "cell_type": "code",
   "execution_count": null,
   "id": "3a41affa",
   "metadata": {
    "slideshow": {
     "slide_type": "fragment"
    }
   },
   "outputs": [],
   "source": [
    "births.pivot_table('births', index='dayofweek',\n",
    "                    columns='decade', aggfunc='mean').plot()\n",
    "plt.gca().set_xticklabels(['Mon', 'Tues', 'Wed', 'Thurs', 'Fri', 'Sat', 'Sun'])\n",
    "plt.ylabel('mean births by day');"
   ]
  },
  {
   "cell_type": "markdown",
   "id": "4af8bafd",
   "metadata": {
    "slideshow": {
     "slide_type": "subslide"
    }
   },
   "source": [
    "Spróbujmy zobaczyć jak rozkładają się urodzenia względem dnia roku:"
   ]
  },
  {
   "cell_type": "code",
   "execution_count": null,
   "id": "affabb4d",
   "metadata": {
    "slideshow": {
     "slide_type": "fragment"
    }
   },
   "outputs": [],
   "source": [
    "births_by_date = births.pivot_table('births', \n",
    "                                    [births.index.month, births.index.day])\n",
    "births_by_date.head()"
   ]
  },
  {
   "cell_type": "code",
   "execution_count": null,
   "id": "8f763db8",
   "metadata": {
    "slideshow": {
     "slide_type": "fragment"
    }
   },
   "outputs": [],
   "source": [
    "from datetime import datetime\n",
    "births_by_date.index = [datetime(2012, month, day)\n",
    "                        for (month, day) in births_by_date.index]\n",
    "births_by_date.head()"
   ]
  },
  {
   "cell_type": "code",
   "execution_count": null,
   "id": "c62e6a6d",
   "metadata": {
    "slideshow": {
     "slide_type": "subslide"
    }
   },
   "outputs": [],
   "source": [
    "# Wykreśl wyniki\n",
    "fig, ax = plt.subplots(figsize=(12, 4))\n",
    "births_by_date.plot(ax=ax)\n",
    "style = dict(size=10, color='gray')\n",
    "ax.text('2012-1-1', 3950, \"Nowy Rok\", **style)\n",
    "ax.text('2012-7-4', 4250, \"Dzień Niepodległości\", ha='center', **style)\n",
    "ax.text('2012-9-4', 4850, \"Dzień pracy\", ha='center', **style)\n",
    "ax.text('2012-10-31', 4600, \"Halloween\", ha='right', **style)\n",
    "ax.text('2012-11-25', 4450, \"Święto Dziękczynienia\", ha='center', **style)\n",
    "ax.text('2012-12-25', 3850, \"Boże Narodzenie\", ha='right', **style)\n",
    "# Oznaczenia osi\n",
    "ax.set(title='Urodzeni w USA według dnia roku (1969-1988)',\n",
    "       ylabel='średnia dzienna liczba urodzeń')\n",
    "# Odpowiednie formatowanie osi X\n",
    "ax.xaxis.set_major_locator(mpl.dates.MonthLocator())\n",
    "ax.xaxis.set_minor_locator(mpl.dates.MonthLocator(bymonthday=15))\n",
    "ax.xaxis.set_major_formatter(plt.NullFormatter())\n",
    "ax.xaxis.set_minor_formatter(mpl.dates.DateFormatter('%h'));"
   ]
  },
  {
   "cell_type": "markdown",
   "id": "cb48183b",
   "metadata": {
    "slideshow": {
     "slide_type": "slide"
    }
   },
   "source": [
    "## Matplotlib 3D"
   ]
  },
  {
   "cell_type": "code",
   "execution_count": null,
   "id": "35b41d96",
   "metadata": {
    "slideshow": {
     "slide_type": "fragment"
    }
   },
   "outputs": [],
   "source": [
    "import matplotlib.pyplot as plt\n",
    "from matplotlib import cm\n",
    "from matplotlib.ticker import LinearLocator\n",
    "import numpy as np"
   ]
  },
  {
   "cell_type": "markdown",
   "id": "828ae430",
   "metadata": {
    "slideshow": {
     "slide_type": "slide"
    }
   },
   "source": [
    "### Powierzchnia 3D (mapa kolorów)"
   ]
  },
  {
   "cell_type": "markdown",
   "id": "ff50cfe1",
   "metadata": {
    "slideshow": {
     "slide_type": "fragment"
    }
   },
   "source": [
    "Demonstracja kreślenia powierzchni 3D pokolorowanej za pomocą chłodno-ciepłej mapy kolorów. Powierzchnia jest zrobiona nieprzezroczystą za pomocą `antialiased=False`.\n",
    "\n",
    "Pokazanie również użycia `LinearLocator` i niestandardowego formatowania etykiet znaczników osi Z."
   ]
  },
  {
   "cell_type": "code",
   "execution_count": null,
   "id": "5c6d4b3c",
   "metadata": {
    "slideshow": {
     "slide_type": "subslide"
    }
   },
   "outputs": [],
   "source": [
    "fig, ax = plt.subplots(subplot_kw={\"projection\": \"3d\"})\n",
    "\n",
    "plt.show()"
   ]
  },
  {
   "cell_type": "markdown",
   "id": "6bdc539e",
   "metadata": {
    "slideshow": {
     "slide_type": "fragment"
    }
   },
   "source": [
    "Tworzenie danych:"
   ]
  },
  {
   "cell_type": "code",
   "execution_count": null,
   "id": "aa573657",
   "metadata": {
    "slideshow": {
     "slide_type": "fragment"
    }
   },
   "outputs": [],
   "source": [
    "X = np.arange(-5, 5, 0.25)\n",
    "Y = np.arange(-5, 5, 0.25)\n",
    "X, Y = np.meshgrid(X, Y)\n",
    "R = np.sqrt(X**2 + Y**2)\n",
    "Z = np.sin(R)"
   ]
  },
  {
   "cell_type": "markdown",
   "id": "38f415c8",
   "metadata": {
    "slideshow": {
     "slide_type": "subslide"
    }
   },
   "source": [
    "Wykreślanie powierzchni:"
   ]
  },
  {
   "cell_type": "code",
   "execution_count": null,
   "id": "7797a79d",
   "metadata": {
    "slideshow": {
     "slide_type": "fragment"
    }
   },
   "outputs": [],
   "source": [
    "fig, ax = plt.subplots(subplot_kw={\"projection\": \"3d\"})\n",
    "\n",
    "surf = ax.plot_surface(X, Y, Z, cmap=cm.coolwarm, linewidth=0, antialiased=False)\n",
    "\n",
    "plt.show()"
   ]
  },
  {
   "cell_type": "markdown",
   "id": "d7fccc2a",
   "metadata": {
    "slideshow": {
     "slide_type": "subslide"
    }
   },
   "source": [
    "Dostosowanie osi Z:"
   ]
  },
  {
   "cell_type": "code",
   "execution_count": null,
   "id": "6241d916",
   "metadata": {
    "slideshow": {
     "slide_type": "fragment"
    }
   },
   "outputs": [],
   "source": [
    "fig, ax = plt.subplots(subplot_kw={\"projection\": \"3d\"})\n",
    "\n",
    "ax.set_zlim(-1.01, 1.01)\n",
    "ax.zaxis.set_major_locator(LinearLocator(10))\n",
    "ax.zaxis.set_major_formatter('{x:.02f}')\n",
    "\n",
    "surf = ax.plot_surface(X, Y, Z, cmap=cm.coolwarm, linewidth=0, antialiased=False)\n",
    "\n",
    "plt.show()"
   ]
  },
  {
   "cell_type": "markdown",
   "id": "5e9c0c0f",
   "metadata": {
    "slideshow": {
     "slide_type": "subslide"
    }
   },
   "source": [
    "Dodawanie paska kolorów, który odwzorowuje wartości na kolory:"
   ]
  },
  {
   "cell_type": "code",
   "execution_count": null,
   "id": "23209ccd",
   "metadata": {
    "slideshow": {
     "slide_type": "fragment"
    }
   },
   "outputs": [],
   "source": [
    "fig, ax = plt.subplots(subplot_kw={\"projection\": \"3d\"})\n",
    "\n",
    "ax.set_zlim(-1.01, 1.01)\n",
    "ax.zaxis.set_major_locator(LinearLocator(10))\n",
    "ax.zaxis.set_major_formatter('{x:.02f}')\n",
    "\n",
    "surf = ax.plot_surface(X, Y, Z, cmap=cm.coolwarm, linewidth=0, antialiased=False)\n",
    "\n",
    "fig.colorbar(surf, shrink=0.5, aspect=5)\n",
    "\n",
    "plt.show()"
   ]
  },
  {
   "cell_type": "markdown",
   "id": "348a6200",
   "metadata": {
    "slideshow": {
     "slide_type": "slide"
    }
   },
   "source": [
    "### Trójkątne powierzchnie 3D"
   ]
  },
  {
   "cell_type": "markdown",
   "id": "af44a672",
   "metadata": {
    "slideshow": {
     "slide_type": "fragment"
    }
   },
   "source": [
    "Wykreślanie powierzchni 3D (jak w chipsie ziemniaczanym \"Pringles\") z trójkątną siatką.\n",
    "\n",
    "![](https://upload.wikimedia.org/wikipedia/commons/thumb/8/89/Pringles_chips.JPG/471px-Pringles_chips.JPG)"
   ]
  },
  {
   "cell_type": "markdown",
   "id": "a79433b7",
   "metadata": {
    "slideshow": {
     "slide_type": "subslide"
    }
   },
   "source": [
    "Utworzenie przestrzenii promieni i kątów (pominięto promień $r=0$, aby wyeliminować duplikację):"
   ]
  },
  {
   "cell_type": "code",
   "execution_count": null,
   "id": "f6901ecd",
   "metadata": {
    "slideshow": {
     "slide_type": "fragment"
    }
   },
   "outputs": [],
   "source": [
    "n_radii = 8  # liczba promieni\n",
    "n_angles = 36  # liczba kątów"
   ]
  },
  {
   "cell_type": "code",
   "execution_count": null,
   "id": "44f445ec",
   "metadata": {
    "slideshow": {
     "slide_type": "fragment"
    }
   },
   "outputs": [],
   "source": [
    "radii = np.linspace(0.125, 1.0, n_radii)\n",
    "angles = np.linspace(0, 2*np.pi, n_angles, endpoint=False)[..., np.newaxis]"
   ]
  },
  {
   "cell_type": "markdown",
   "id": "ec2f3efb",
   "metadata": {
    "slideshow": {
     "slide_type": "fragment"
    }
   },
   "source": [
    "Zamienianie współrzędnych biegunowych $(radii, angles)$ na współrzędne kartezjańskie $(x, y)$, przy czym $(0, 0)$ jest dodawany ręcznie na tym etapie, więc nie będzie zduplikowanych punktów na płaszczyźnie $(x, y)$:"
   ]
  },
  {
   "cell_type": "code",
   "execution_count": null,
   "id": "533455d9",
   "metadata": {
    "slideshow": {
     "slide_type": "fragment"
    }
   },
   "outputs": [],
   "source": [
    "x = np.append(0, (radii*np.cos(angles)).flatten())\n",
    "y = np.append(0, (radii*np.sin(angles)).flatten())"
   ]
  },
  {
   "cell_type": "markdown",
   "id": "9f9b06ec",
   "metadata": {
    "slideshow": {
     "slide_type": "subslide"
    }
   },
   "source": [
    "Obliczenie $z$, aby utworzyć powierzchnię jak w chipsie ziemniaczanym \"Pringles\":"
   ]
  },
  {
   "cell_type": "code",
   "execution_count": null,
   "id": "9ce99759",
   "metadata": {
    "slideshow": {
     "slide_type": "fragment"
    }
   },
   "outputs": [],
   "source": [
    "z = np.sin(-x*y)"
   ]
  },
  {
   "cell_type": "code",
   "execution_count": null,
   "id": "119b30b1",
   "metadata": {
    "slideshow": {
     "slide_type": "subslide"
    }
   },
   "outputs": [],
   "source": [
    "ax = plt.figure().add_subplot(projection='3d')\n",
    "\n",
    "plt.show()"
   ]
  },
  {
   "cell_type": "code",
   "execution_count": null,
   "id": "745d053c",
   "metadata": {
    "slideshow": {
     "slide_type": "subslide"
    }
   },
   "outputs": [],
   "source": [
    "ax = plt.figure().add_subplot(projection='3d')\n",
    "\n",
    "ax.plot_trisurf(x, y, z, linewidth=0.2, antialiased=True)\n",
    "\n",
    "plt.show()"
   ]
  },
  {
   "cell_type": "markdown",
   "id": "57457e2a",
   "metadata": {
    "slideshow": {
     "slide_type": "slide"
    }
   },
   "source": [
    "## Figury interaktywne"
   ]
  },
  {
   "cell_type": "markdown",
   "id": "9eddec8d",
   "metadata": {
    "slideshow": {
     "slide_type": "fragment"
    }
   },
   "source": [
    "Podczas pracy z danymi interaktywność może być nieoceniona. Narzędzia do panoramowania/powiększania i lokalizacji myszy wbudowane w okna GUI Matplotlib są często wystarczające, ale można również użyć systemu zdarzeń do tworzenia niestandardowych narzędzi do eksploracji danych."
   ]
  },
  {
   "cell_type": "markdown",
   "id": "1d0ca117",
   "metadata": {
    "slideshow": {
     "slide_type": "fragment"
    }
   },
   "source": [
    "Matplotlib jest dostarczany z powiązaniami **backendów** z kilkoma zestawami narzędzi GUI (Qt, Tk, Wx, GTK, macOS, JavaScript), a pakiety stron trzecich zapewniają powiązania z **kivy** i **Jupyter Lab**. Aby figury reagowały na zdarzenia myszy, klawiatury i malowania, pętla zdarzeń GUI musi być zintegrowana z interaktywnym monitem. Zaleca się używanie IPythona."
   ]
  },
  {
   "cell_type": "markdown",
   "id": "e1195119",
   "metadata": {
    "slideshow": {
     "slide_type": "slide"
    }
   },
   "source": [
    "### Integracja z IPythonem"
   ]
  },
  {
   "cell_type": "markdown",
   "id": "92cf945e",
   "metadata": {
    "slideshow": {
     "slide_type": "fragment"
    }
   },
   "source": [
    "Zaleca się używanie IPython do interaktywnej powłoki. Oprócz wszystkich swoich funkcji, zapewnia również, że pętla zdarzeń zestawu narzędzi GUI jest prawidłowo zintegrowana z wierszem poleceń."
   ]
  },
  {
   "cell_type": "markdown",
   "id": "a7cadb99",
   "metadata": {
    "slideshow": {
     "slide_type": "fragment"
    }
   },
   "source": [
    "Aby skonfigurować integrację i włączyć **tryb interaktywny**, używamy `%matplotlib`."
   ]
  },
  {
   "cell_type": "markdown",
   "id": "af1ff4f2",
   "metadata": {
    "slideshow": {
     "slide_type": "slide"
    }
   },
   "source": [
    "### Jupyter Notebook"
   ]
  },
  {
   "cell_type": "markdown",
   "id": "6bb9ef08",
   "metadata": {
    "slideshow": {
     "slide_type": "fragment"
    }
   },
   "source": [
    "W tym przykładzie tworzymy i modyfikujemy figurę za pomocą Jupyter Notebook. Rysunek jest wyświetlany w oknie GUI."
   ]
  },
  {
   "cell_type": "markdown",
   "id": "36f15ae2",
   "metadata": {
    "slideshow": {
     "slide_type": "fragment"
    }
   },
   "source": [
    "Aby uzyskać interaktywne figury w \"klasycznym\" Jupyter Notebook, możemy użyć:"
   ]
  },
  {
   "cell_type": "code",
   "execution_count": null,
   "id": "67eb65a5",
   "metadata": {
    "slideshow": {
     "slide_type": "fragment"
    }
   },
   "outputs": [],
   "source": [
    "%matplotlib notebook"
   ]
  },
  {
   "cell_type": "markdown",
   "id": "4c6306d8",
   "metadata": {
    "slideshow": {
     "slide_type": "fragment"
    }
   },
   "source": [
    "Korzysta to z backendu dostarczonego przez Matplotlib."
   ]
  },
  {
   "cell_type": "markdown",
   "id": "60c43f66",
   "metadata": {
    "slideshow": {
     "slide_type": "subslide"
    }
   },
   "source": [
    "Utwórzenie nowego okna figury:"
   ]
  },
  {
   "cell_type": "code",
   "execution_count": null,
   "id": "785ae579",
   "metadata": {
    "slideshow": {
     "slide_type": "fragment"
    }
   },
   "outputs": [],
   "source": [
    "fig, ax = plt.subplots()"
   ]
  },
  {
   "cell_type": "markdown",
   "id": "7fab6913",
   "metadata": {
    "slideshow": {
     "slide_type": "subslide"
    }
   },
   "source": [
    "Dodanie wykresu liniowego danych do okna:"
   ]
  },
  {
   "cell_type": "code",
   "execution_count": null,
   "id": "e8cfbdb7",
   "metadata": {
    "slideshow": {
     "slide_type": "fragment"
    }
   },
   "outputs": [],
   "source": [
    "ln, = ax.plot(range(5))"
   ]
  },
  {
   "cell_type": "markdown",
   "id": "d45c47ca",
   "metadata": {
    "slideshow": {
     "slide_type": "fragment"
    }
   },
   "source": [
    "Zmienienie koloru linii z niebieskiego na pomarańczowy:"
   ]
  },
  {
   "cell_type": "code",
   "execution_count": null,
   "id": "15db1560",
   "metadata": {
    "slideshow": {
     "slide_type": "fragment"
    }
   },
   "outputs": [],
   "source": [
    "ln.set_color('orange')"
   ]
  },
  {
   "cell_type": "markdown",
   "id": "2e2c9443",
   "metadata": {
    "slideshow": {
     "slide_type": "slide"
    }
   },
   "source": [
    "### Przykład"
   ]
  },
  {
   "cell_type": "markdown",
   "id": "44bb2a99",
   "metadata": {
    "slideshow": {
     "slide_type": "fragment"
    }
   },
   "source": [
    "Wizualizacja trzech parametrów: VMAF (ang. _Video Multi-Method Assessment Fusion_), obciążenia CPU (ang. _Central Processing Unit_) oraz przepływności wyjściowej strumienia."
   ]
  },
  {
   "cell_type": "markdown",
   "id": "04bfc369",
   "metadata": {
    "slideshow": {
     "slide_type": "fragment"
    }
   },
   "source": [
    "[CSV](surface_no_placebo.csv)"
   ]
  },
  {
   "cell_type": "markdown",
   "id": "f82ccd28",
   "metadata": {
    "slideshow": {
     "slide_type": "subslide"
    }
   },
   "source": [
    "Import z biblioteki standardowej:"
   ]
  },
  {
   "cell_type": "code",
   "execution_count": null,
   "id": "547b014f",
   "metadata": {
    "slideshow": {
     "slide_type": "fragment"
    }
   },
   "outputs": [],
   "source": [
    "import csv"
   ]
  },
  {
   "cell_type": "markdown",
   "id": "a2f61f31",
   "metadata": {
    "slideshow": {
     "slide_type": "fragment"
    }
   },
   "source": [
    "Powiązany import stron trzecich:"
   ]
  },
  {
   "cell_type": "code",
   "execution_count": null,
   "id": "16e1e803",
   "metadata": {
    "slideshow": {
     "slide_type": "fragment"
    }
   },
   "outputs": [],
   "source": [
    "import matplotlib.pyplot as plt\n",
    "from matplotlib import cm"
   ]
  },
  {
   "cell_type": "code",
   "execution_count": null,
   "id": "3264c33b",
   "metadata": {
    "slideshow": {
     "slide_type": "fragment"
    }
   },
   "outputs": [],
   "source": [
    "%matplotlib notebook"
   ]
  },
  {
   "cell_type": "markdown",
   "id": "19dc1b28",
   "metadata": {
    "slideshow": {
     "slide_type": "subslide"
    }
   },
   "source": [
    "Czytanie danych:"
   ]
  },
  {
   "cell_type": "code",
   "execution_count": null,
   "id": "b39f5ed8",
   "metadata": {
    "slideshow": {
     "slide_type": "fragment"
    }
   },
   "outputs": [],
   "source": [
    "x_list, y_list, z_list = [], [], []\n",
    "with open(file='surface_no_placebo.csv', newline='') as csv_file:\n",
    "    csv_reader = csv.reader(csv_file, delimiter=',', quotechar='|')\n",
    "    next(csv_reader)  # Pomijanie nagłówka\n",
    "    for row in csv_reader:\n",
    "        x_value = float(row[0])*100\n",
    "        y_value = int(row[1])/1_000_000\n",
    "        z_value = float(row[3])\n",
    "        x_list.append(x_value)\n",
    "        y_list.append(y_value)\n",
    "        z_list.append(z_value)"
   ]
  },
  {
   "cell_type": "code",
   "execution_count": null,
   "id": "db60e838",
   "metadata": {
    "scrolled": true,
    "slideshow": {
     "slide_type": "subslide"
    }
   },
   "outputs": [],
   "source": [
    "fig, ax = plt.subplots(subplot_kw={\"projection\": \"3d\"})"
   ]
  },
  {
   "cell_type": "markdown",
   "id": "f3a2896d",
   "metadata": {
    "slideshow": {
     "slide_type": "subslide"
    }
   },
   "source": [
    "Wykreślanie powierzchni:"
   ]
  },
  {
   "cell_type": "code",
   "execution_count": null,
   "id": "d3ed620e",
   "metadata": {
    "slideshow": {
     "slide_type": "fragment"
    }
   },
   "outputs": [],
   "source": [
    "surf = ax.plot_trisurf(x_list, y_list, z_list, cmap=cm.viridis)"
   ]
  },
  {
   "cell_type": "markdown",
   "id": "6a3a901e",
   "metadata": {
    "slideshow": {
     "slide_type": "fragment"
    }
   },
   "source": [
    "Dostosowywanie osi:"
   ]
  },
  {
   "cell_type": "code",
   "execution_count": null,
   "id": "10edb54a",
   "metadata": {},
   "outputs": [],
   "source": [
    "ax.set_xlim(763.3587786, 72.99270073)\n",
    "ax.set_title('VMAF vs. CPU vs. przepływność')\n",
    "ax.set_xlabel('CPU [%]')\n",
    "ax.set_ylabel('Przepływność [Mb/s]')\n",
    "ax.set_zlabel('VMAF');"
   ]
  },
  {
   "cell_type": "markdown",
   "id": "32d40320",
   "metadata": {
    "slideshow": {
     "slide_type": "slide"
    }
   },
   "source": [
    "## Ćwiczenia"
   ]
  },
  {
   "cell_type": "code",
   "execution_count": null,
   "id": "82f5b76c",
   "metadata": {},
   "outputs": [],
   "source": [
    "%matplotlib inline"
   ]
  },
  {
   "cell_type": "markdown",
   "id": "bb69cc4f",
   "metadata": {
    "slideshow": {
     "slide_type": "slide"
    }
   },
   "source": [
    "### Narysuj linię z odpowiednią etykietą na osi x, osi y i tytułem"
   ]
  },
  {
   "cell_type": "markdown",
   "id": "b351d3d9",
   "metadata": {
    "slideshow": {
     "slide_type": "slide"
    }
   },
   "source": [
    "#### Ćwiczenie"
   ]
  },
  {
   "cell_type": "markdown",
   "id": "9d5712af",
   "metadata": {
    "slideshow": {
     "slide_type": "fragment"
    }
   },
   "source": [
    "Napisz program w Pythonie, który narysuje linię z odpowiednią etykietą na osi x, osi y i tytule."
   ]
  },
  {
   "cell_type": "markdown",
   "id": "01f9e397",
   "metadata": {
    "slideshow": {
     "slide_type": "subslide"
    }
   },
   "source": [
    "Przykładowy wynik:"
   ]
  },
  {
   "cell_type": "markdown",
   "id": "3131a14f",
   "metadata": {
    "slideshow": {
     "slide_type": "fragment"
    }
   },
   "source": [
    "![](https://www.w3resource.com/w3r_images/matplotlib-basic-exercise-1.png)"
   ]
  },
  {
   "cell_type": "markdown",
   "id": "8ebf7097",
   "metadata": {
    "slideshow": {
     "slide_type": "slide"
    }
   },
   "source": [
    "#### Rozwiązanie"
   ]
  },
  {
   "cell_type": "code",
   "execution_count": null,
   "id": "a36556df",
   "metadata": {
    "slideshow": {
     "slide_type": "subslide"
    }
   },
   "outputs": [],
   "source": [
    "import matplotlib.pyplot as plt\n",
    "X = range(1, 50)\n",
    "Y = [value * 3 for value in X]\n",
    "print(\"Wartości X:\", *range(1,50))\n",
    "print(\"Wartości Y (trzy razy X):\", Y)\n",
    "plt.plot(X, Y)  # Wykreśl linie i/lub znaczniki do osi.\n",
    "plt.xlabel('x - axis')  # Ustaw etykietę osi x bieżącej osi.\n",
    "plt.ylabel('y - axis')  # Ustaw etykietę osi y bieżącej osi.\n",
    "plt.title('Draw a line.')  # Ustaw tytuł\n",
    "plt.show()  # Pokaż figurę."
   ]
  },
  {
   "cell_type": "markdown",
   "id": "b53cdb46",
   "metadata": {
    "slideshow": {
     "slide_type": "slide"
    }
   },
   "source": [
    "### Narysuj linię używając podanych wartości osi z odpowiednią etykietą na osi x, osi y i tytule"
   ]
  },
  {
   "cell_type": "markdown",
   "id": "7fed321e",
   "metadata": {
    "slideshow": {
     "slide_type": "slide"
    }
   },
   "source": [
    "#### Ćwiczenie"
   ]
  },
  {
   "cell_type": "markdown",
   "id": "52156bb7",
   "metadata": {
    "slideshow": {
     "slide_type": "fragment"
    }
   },
   "source": [
    "Napisz program w Pythonie, który narysuje linię przy użyciu podanych wartości osi z odpowiednią etykietą na osi x, osi y i tytule."
   ]
  },
  {
   "cell_type": "markdown",
   "id": "8a876631",
   "metadata": {
    "slideshow": {
     "slide_type": "subslide"
    }
   },
   "source": [
    "Przykładowy wynik:"
   ]
  },
  {
   "cell_type": "markdown",
   "id": "83fa98b5",
   "metadata": {
    "slideshow": {
     "slide_type": "fragment"
    }
   },
   "source": [
    "![](https://www.w3resource.com/w3r_images/matplotlib-basic-exercise-2.png)"
   ]
  },
  {
   "cell_type": "markdown",
   "id": "e794a2ee",
   "metadata": {
    "slideshow": {
     "slide_type": "slide"
    }
   },
   "source": [
    "#### Rozwiązanie"
   ]
  },
  {
   "cell_type": "code",
   "execution_count": null,
   "id": "678d5942",
   "metadata": {
    "slideshow": {
     "slide_type": "subslide"
    }
   },
   "outputs": [],
   "source": [
    "import matplotlib.pyplot as plt\n",
    "x = [1, 2, 3]  # wartości osi x\n",
    "y = [2, 4, 1]  # wartości osi y \n",
    "plt.plot(x, y)  # Wykreśl linie i/lub znaczniki do osi.\n",
    "plt.xlabel('x - axis')  # Ustaw etykietę osi x bieżącej osi.\n",
    "plt.ylabel('y - axis')  # Ustaw etykietę osi y bieżącej osi.\n",
    "plt.title('Sample graph!')  # Ustaw tytuł\n",
    "plt.show()  # Pokaż figurę."
   ]
  },
  {
   "cell_type": "markdown",
   "id": "63a616d6",
   "metadata": {
    "slideshow": {
     "slide_type": "slide"
    }
   },
   "source": [
    "### Narysuj linię korzystając z podanych wartości osi pobranych z pliku tekstowego, z odpowiednią etykietą w osi x, osi y oraz tytułem"
   ]
  },
  {
   "cell_type": "markdown",
   "id": "95652912",
   "metadata": {
    "slideshow": {
     "slide_type": "slide"
    }
   },
   "source": [
    "#### Ćwiczenie"
   ]
  },
  {
   "cell_type": "markdown",
   "id": "7a6eb7b5",
   "metadata": {
    "slideshow": {
     "slide_type": "fragment"
    }
   },
   "source": [
    "Napisz program w Pythonie, który narysuje linię przy użyciu podanych wartości osi z odpowiednią etykietą na osi x, osi y i tytule.\n",
    "\n",
    "[test.txt](test.txt)"
   ]
  },
  {
   "cell_type": "markdown",
   "id": "92140efc",
   "metadata": {
    "slideshow": {
     "slide_type": "subslide"
    }
   },
   "source": [
    "Przykładowy wynik:"
   ]
  },
  {
   "cell_type": "markdown",
   "id": "7833b6ff",
   "metadata": {
    "slideshow": {
     "slide_type": "fragment"
    }
   },
   "source": [
    "![](https://www.w3resource.com/w3r_images/matplotlib-basic-exercise-3.png)"
   ]
  },
  {
   "cell_type": "markdown",
   "id": "05d5a60d",
   "metadata": {
    "slideshow": {
     "slide_type": "slide"
    }
   },
   "source": [
    "#### Rozwiązanie"
   ]
  },
  {
   "cell_type": "code",
   "execution_count": null,
   "id": "e4757e43",
   "metadata": {
    "slideshow": {
     "slide_type": "subslide"
    }
   },
   "outputs": [],
   "source": [
    "import matplotlib.pyplot as plt\n",
    "with open(\"test.txt\") as f:\n",
    "    data = f.read()\n",
    "data = data.split('\\n')\n",
    "x = [int(row.split(' ')[0]) for row in data]\n",
    "y = [int(row.split(' ')[1]) for row in data]\n",
    "plt.plot(x, y)  # Wykreśl linie i/lub znaczniki do osi.\n",
    "plt.xlabel('x - axis')  # Ustaw etykietę osi x bieżącej osi.\n",
    "plt.ylabel('y - axis')  # Ustaw etykietę osi y bieżącej osi.\n",
    "plt.title('Sample graph!')  # Ustaw tytuł\n",
    "plt.show()  # Pokaż figurę."
   ]
  },
  {
   "cell_type": "markdown",
   "id": "f831bfce",
   "metadata": {
    "slideshow": {
     "slide_type": "slide"
    }
   },
   "source": [
    "### Rysuj wykresy liniowe danych finansowych Alphabet Inc. od 3 października 2016 r. do 7 października 2016 r."
   ]
  },
  {
   "cell_type": "markdown",
   "id": "a835fe28",
   "metadata": {
    "slideshow": {
     "slide_type": "slide"
    }
   },
   "source": [
    "#### Ćwiczenie"
   ]
  },
  {
   "cell_type": "markdown",
   "id": "fe55932b",
   "metadata": {
    "slideshow": {
     "slide_type": "fragment"
    }
   },
   "source": [
    "Napisz program w języku Python do rysowania wykresów liniowych danych finansowych firmy Alphabet Inc. w okresie od 3 października 2016 r. do 7 października 2016 r.\n",
    "\n",
    "Przykładowe dane finansowe ([fdata.csv](fdata.csv)):"
   ]
  },
  {
   "cell_type": "markdown",
   "id": "b64e73e4",
   "metadata": {
    "slideshow": {
     "slide_type": "subslide"
    }
   },
   "source": [
    "Przykładowy wynik:"
   ]
  },
  {
   "cell_type": "markdown",
   "id": "7e2b45e9",
   "metadata": {
    "slideshow": {
     "slide_type": "fragment"
    }
   },
   "source": [
    "![](https://www.w3resource.com/w3r_images/matplotlib-basic-exercise-4.png)"
   ]
  },
  {
   "cell_type": "markdown",
   "id": "a64d0982",
   "metadata": {
    "slideshow": {
     "slide_type": "slide"
    }
   },
   "source": [
    "#### Rozwiązanie"
   ]
  },
  {
   "cell_type": "code",
   "execution_count": null,
   "id": "8e8f7ca8",
   "metadata": {
    "slideshow": {
     "slide_type": "subslide"
    }
   },
   "outputs": [],
   "source": [
    "import matplotlib.pyplot as plt\n",
    "import pandas as pd\n",
    "df = pd.read_csv('fdata.csv', sep=',', parse_dates=True, index_col=0)\n",
    "df.plot()\n",
    "plt.show()"
   ]
  },
  {
   "cell_type": "markdown",
   "id": "cdf9b650",
   "metadata": {
    "slideshow": {
     "slide_type": "slide"
    }
   },
   "source": [
    "### Wykreśl dwie lub więcej linii na tej samej podziałce z odpowiednimi legendami każdej linii"
   ]
  },
  {
   "cell_type": "markdown",
   "id": "28f2ae1d",
   "metadata": {
    "slideshow": {
     "slide_type": "slide"
    }
   },
   "source": [
    "#### Ćwiczenie"
   ]
  },
  {
   "cell_type": "markdown",
   "id": "0ac1390f",
   "metadata": {
    "slideshow": {
     "slide_type": "fragment"
    }
   },
   "source": [
    "Napisz program w Pythonie, który wykreśli dwie lub więcej linii na tym samym wykresie z odpowiednią legendą każdej linii."
   ]
  },
  {
   "cell_type": "markdown",
   "id": "a366d4ea",
   "metadata": {
    "slideshow": {
     "slide_type": "subslide"
    }
   },
   "source": [
    "Przykładowy wynik:"
   ]
  },
  {
   "cell_type": "markdown",
   "id": "d088d021",
   "metadata": {
    "slideshow": {
     "slide_type": "fragment"
    }
   },
   "source": [
    "![](https://www.w3resource.com/w3r_images/matplotlib-basic-exercise-5.png)"
   ]
  },
  {
   "cell_type": "markdown",
   "id": "ffb1e9c7",
   "metadata": {
    "slideshow": {
     "slide_type": "slide"
    }
   },
   "source": [
    "#### Rozwiązanie"
   ]
  },
  {
   "cell_type": "code",
   "execution_count": null,
   "id": "3ca0652e",
   "metadata": {
    "slideshow": {
     "slide_type": "subslide"
    }
   },
   "outputs": [],
   "source": [
    "import matplotlib.pyplot as plt\n",
    "# punkty linii 1\n",
    "x1 = [10,20,30]\n",
    "y1 = [20,40,10]\n",
    "plt.plot(x1, y1, label = \"line 1\")  # kreślenie punktów linii 1\n",
    "# punkty linii 2\n",
    "x2 = [10,20,30]\n",
    "y2 = [40,10,30]\n",
    "plt.plot(x2, y2, label = \"line 2\")  # kreślenie punktów linii 1\n",
    "plt.xlabel('x - axis')  # Ustaw etykietę osi x bieżącej osi.\n",
    "plt.ylabel('y - axis')  # Ustaw etykietę osi y bieżącej osi.\n",
    "# Ustaw tytuł aktualnych osi.\n",
    "plt.title('Two or more lines on same plot with suitable legends ')\n",
    "plt.legend()  # pokaż legendę na podziałce\n",
    "plt.show()  # Wyświetl figurę."
   ]
  },
  {
   "cell_type": "markdown",
   "id": "87fe7344",
   "metadata": {
    "slideshow": {
     "slide_type": "slide"
    }
   },
   "source": [
    "### Narysuj dwie lub więcej linii z legendami, różnymi szerokościami i kolorami"
   ]
  },
  {
   "cell_type": "markdown",
   "id": "ca56348c",
   "metadata": {
    "slideshow": {
     "slide_type": "slide"
    }
   },
   "source": [
    "#### Ćwiczenie"
   ]
  },
  {
   "cell_type": "markdown",
   "id": "0254f5af",
   "metadata": {
    "slideshow": {
     "slide_type": "fragment"
    }
   },
   "source": [
    "Napisz program w Pythonie, który wykreśli dwie lub więcej linii z legendami, o różnych szerokościach i kolorach."
   ]
  },
  {
   "cell_type": "markdown",
   "id": "386bd9e7",
   "metadata": {
    "slideshow": {
     "slide_type": "subslide"
    }
   },
   "source": [
    "Przykładowy wynik:"
   ]
  },
  {
   "cell_type": "markdown",
   "id": "7cbd8af8",
   "metadata": {
    "slideshow": {
     "slide_type": "fragment"
    }
   },
   "source": [
    "![](https://www.w3resource.com/w3r_images/matplotlib-basic-exercise-6.png)"
   ]
  },
  {
   "cell_type": "markdown",
   "id": "20b9bbd1",
   "metadata": {
    "slideshow": {
     "slide_type": "slide"
    }
   },
   "source": [
    "#### Rozwiązanie"
   ]
  },
  {
   "cell_type": "code",
   "execution_count": null,
   "id": "86d482dd",
   "metadata": {
    "slideshow": {
     "slide_type": "subslide"
    }
   },
   "outputs": [],
   "source": [
    "import matplotlib.pyplot as plt\n",
    "# punkty linii 1\n",
    "x1 = [10,20,30]\n",
    "y1 = [20,40,10]\n",
    "# punkty linii 2\n",
    "x2 = [10,20,30]\n",
    "y2 = [40,10,30]\n",
    "plt.xlabel('x - axis')  # Ustaw etykietę osi x bieżącej osi.\n",
    "plt.ylabel('y - axis')  # Ustaw etykietę osi y bieżącej osi.\n",
    "# Ustaw tytuł\n",
    "plt.title('Two or more lines with different widths and colors with suitable legends ')\n",
    "# Pokaż figurę.\n",
    "plt.plot(x1,y1, color='blue', linewidth = 3,  label = 'line1-width-3')\n",
    "plt.plot(x2,y2, color='red', linewidth = 5,  label = 'line2-width-5')\n",
    "plt.legend()  # pokaż legendę na podziałce\n",
    "plt.show()"
   ]
  },
  {
   "cell_type": "markdown",
   "id": "bf5c95b0",
   "metadata": {
    "slideshow": {
     "slide_type": "slide"
    }
   },
   "source": [
    "### Narysuj dwie lub więcej linii w różnych stylach"
   ]
  },
  {
   "cell_type": "markdown",
   "id": "5ff3a417",
   "metadata": {
    "slideshow": {
     "slide_type": "slide"
    }
   },
   "source": [
    "#### Ćwiczenie"
   ]
  },
  {
   "cell_type": "markdown",
   "id": "a490bb95",
   "metadata": {
    "slideshow": {
     "slide_type": "fragment"
    }
   },
   "source": [
    "Napisz program w Pythonie, który wykreśli dwie lub więcej linii w różnych stylach."
   ]
  },
  {
   "cell_type": "markdown",
   "id": "fe32ba71",
   "metadata": {
    "slideshow": {
     "slide_type": "subslide"
    }
   },
   "source": [
    "Przykładowy wynik:"
   ]
  },
  {
   "cell_type": "markdown",
   "id": "c44d8256",
   "metadata": {
    "slideshow": {
     "slide_type": "fragment"
    }
   },
   "source": [
    "![](https://www.w3resource.com/w3r_images/matplotlib-basic-exercise-7.png)"
   ]
  },
  {
   "cell_type": "markdown",
   "id": "fbed61be",
   "metadata": {
    "slideshow": {
     "slide_type": "slide"
    }
   },
   "source": [
    "#### Rozwiązanie"
   ]
  },
  {
   "cell_type": "code",
   "execution_count": null,
   "id": "f69aefc2",
   "metadata": {
    "slideshow": {
     "slide_type": "subslide"
    }
   },
   "outputs": [],
   "source": [
    "import matplotlib.pyplot as plt\n",
    "# punkty linii 1\n",
    "x1 = [10,20,30]\n",
    "y1 = [20,40,10]\n",
    "# punkty linii 2\n",
    "x2 = [10,20,30]\n",
    "y2 = [40,10,30]\n",
    "plt.xlabel('x - axis')  # Ustaw etykietę osi x bieżącej osi.\n",
    "plt.ylabel('y - axis')  # Ustaw etykietę osi y bieżącej osi.\n",
    "# Wykreśl linie i/lub znaczniki do osi.\n",
    "plt.plot(x1,y1, color='blue', linewidth = 3,  label = 'line1-dotted',linestyle='dotted')\n",
    "plt.plot(x2,y2, color='red', linewidth = 5,  label = 'line2-dashed', linestyle='dashed')\n",
    "plt.title(\"Plot with two or more lines with different styles\")  # Ustaw tytuł\n",
    "plt.legend()  # pokaż legendę na podziałce\n",
    "plt.show()  # funkcja, aby pokazać podziałkę"
   ]
  },
  {
   "cell_type": "markdown",
   "id": "e6437ab9",
   "metadata": {
    "slideshow": {
     "slide_type": "slide"
    }
   },
   "source": [
    "### Wykreśl dwie lub więcej linii i ustaw znaczniki linii"
   ]
  },
  {
   "cell_type": "markdown",
   "id": "387173cf",
   "metadata": {
    "slideshow": {
     "slide_type": "slide"
    }
   },
   "source": [
    "#### Ćwiczenie"
   ]
  },
  {
   "cell_type": "markdown",
   "id": "6e76f652",
   "metadata": {
    "slideshow": {
     "slide_type": "fragment"
    }
   },
   "source": [
    "Napisz program w Pythonie, który kreśli dwie lub więcej linii i ustawia znaczniki linii."
   ]
  },
  {
   "cell_type": "markdown",
   "id": "419c65d1",
   "metadata": {
    "slideshow": {
     "slide_type": "subslide"
    }
   },
   "source": [
    "Przykładowy wynik:"
   ]
  },
  {
   "cell_type": "markdown",
   "id": "4a03ee18",
   "metadata": {
    "slideshow": {
     "slide_type": "fragment"
    }
   },
   "source": [
    "![](https://www.w3resource.com/w3r_images/matplotlib-basic-exercise-8.png)"
   ]
  },
  {
   "cell_type": "markdown",
   "id": "9e460d75",
   "metadata": {
    "slideshow": {
     "slide_type": "slide"
    }
   },
   "source": [
    "#### Rozwiązanie"
   ]
  },
  {
   "cell_type": "code",
   "execution_count": null,
   "id": "cde7d6a4",
   "metadata": {
    "slideshow": {
     "slide_type": "subslide"
    }
   },
   "outputs": [],
   "source": [
    "import matplotlib.pyplot as plt\n",
    "x = [1,4,5,6,7]  # wartości osi x\n",
    "y = [2,6,3,6,3]  # wartości osi y\n",
    "\n",
    "# wykreślanie punktów\n",
    "plt.plot(x, y, color='red', linestyle='dashdot', linewidth = 3,\n",
    "         marker='o', markerfacecolor='blue', markersize=12)\n",
    "plt.ylim(1,8)  # Ustaw granice y aktualnych osi.\n",
    "plt.xlim(1,8)  # Ustaw granice x aktualnych osi.\n",
    "\n",
    "plt.xlabel('x - axis')  # nazwanie osi X\n",
    "plt.ylabel('y - axis')  # nazwanie osi Y\n",
    "\n",
    "plt.title('Display marker')  # nadawanie tytułu wykresowi\n",
    "plt.show()  # funkcja, aby pokazać podziałkę"
   ]
  },
  {
   "cell_type": "markdown",
   "id": "8dc2b33b",
   "metadata": {
    "slideshow": {
     "slide_type": "slide"
    }
   },
   "source": [
    "### Wyświetl aktualne wartości limitów osi i ustaw nowe wartości osi"
   ]
  },
  {
   "cell_type": "markdown",
   "id": "8fb46e9d",
   "metadata": {
    "slideshow": {
     "slide_type": "slide"
    }
   },
   "source": [
    "#### Ćwiczenie"
   ]
  },
  {
   "cell_type": "markdown",
   "id": "7faee82a",
   "metadata": {
    "slideshow": {
     "slide_type": "fragment"
    }
   },
   "source": [
    "Napisz program w języku Python, który będzie wyświetlał bieżące wartości graniczne osi i ustawiał nowe wartości osi."
   ]
  },
  {
   "cell_type": "markdown",
   "id": "82743f37",
   "metadata": {
    "slideshow": {
     "slide_type": "subslide"
    }
   },
   "source": [
    "Przykładowy wynik:"
   ]
  },
  {
   "cell_type": "markdown",
   "id": "ff2f6958",
   "metadata": {
    "slideshow": {
     "slide_type": "fragment"
    }
   },
   "source": [
    "`(-1.4000000000000004, 51.4, -4.2, 154.2)`\n",
    "![](https://www.w3resource.com/w3r_images/matplotlib-basic-exercise-9.png)"
   ]
  },
  {
   "cell_type": "markdown",
   "id": "03649d5f",
   "metadata": {
    "slideshow": {
     "slide_type": "slide"
    }
   },
   "source": [
    "#### Rozwiązanie"
   ]
  },
  {
   "cell_type": "code",
   "execution_count": null,
   "id": "ffc2b076",
   "metadata": {
    "slideshow": {
     "slide_type": "subslide"
    }
   },
   "outputs": [],
   "source": [
    "import matplotlib.pyplot as plt\n",
    "X = range(1, 50)\n",
    "Y = [value * 3 for value in X]\n",
    "plt.plot(X, Y)\n",
    "plt.xlabel('x - axis')\n",
    "plt.ylabel('y - axis')\n",
    "plt.title('Draw a line.')\n",
    "print(plt.axis())  # pokazuje aktualne wartości limitów osi\n",
    "# ustaw nowe limity osi\n",
    "# Limit osi x 0 do 100\n",
    "# Limit osi y 0 do 200\n",
    "plt.axis([0, 100, 0, 200]) \n",
    "plt.show()  # Wyświetl figurę."
   ]
  },
  {
   "cell_type": "markdown",
   "id": "f23e5455",
   "metadata": {
    "slideshow": {
     "slide_type": "slide"
    }
   },
   "source": [
    "### Wykreśl kilka linii z różnymi stylami formatu w jednym poleceniu za pomocą tablic"
   ]
  },
  {
   "cell_type": "markdown",
   "id": "d5a30750",
   "metadata": {
    "slideshow": {
     "slide_type": "slide"
    }
   },
   "source": [
    "#### Ćwiczenie"
   ]
  },
  {
   "cell_type": "markdown",
   "id": "6a307a66",
   "metadata": {
    "slideshow": {
     "slide_type": "fragment"
    }
   },
   "source": [
    "Napisz program w Pythonie, który będzie kreślił kilka linii z różnymi stylami formatu w jednym poleceniu za pomocą tablic."
   ]
  },
  {
   "cell_type": "markdown",
   "id": "3070d28f",
   "metadata": {
    "slideshow": {
     "slide_type": "subslide"
    }
   },
   "source": [
    "Przykładowy wynik:"
   ]
  },
  {
   "cell_type": "markdown",
   "id": "af004ccf",
   "metadata": {
    "slideshow": {
     "slide_type": "fragment"
    }
   },
   "source": [
    "![](https://www.w3resource.com/w3r_images/matplotlib-basic-exercise-11.png)"
   ]
  },
  {
   "cell_type": "markdown",
   "id": "8c8d7258",
   "metadata": {
    "slideshow": {
     "slide_type": "slide"
    }
   },
   "source": [
    "#### Rozwiązanie"
   ]
  },
  {
   "cell_type": "code",
   "execution_count": null,
   "id": "703703d7",
   "metadata": {
    "slideshow": {
     "slide_type": "subslide"
    }
   },
   "outputs": [],
   "source": [
    "import numpy as np\n",
    "import matplotlib.pyplot as plt\n",
    "\n",
    "# Czas próbkowania w odstępach 200ms\n",
    "t = np.arange(0., 5., 0.2)\n",
    "\n",
    "# zielone kreski, niebieskie kwadraty i czerwone trójkąty\n",
    "plt.plot(t, t, 'g--', t, t**2, 'bs', t, t**3, 'r^')\n",
    "plt.show()"
   ]
  },
  {
   "cell_type": "markdown",
   "id": "92316369",
   "metadata": {
    "slideshow": {
     "slide_type": "slide"
    }
   },
   "source": [
    "### Utwórz wiele podziałek"
   ]
  },
  {
   "cell_type": "markdown",
   "id": "3880f651",
   "metadata": {
    "slideshow": {
     "slide_type": "slide"
    }
   },
   "source": [
    "#### Ćwiczenie"
   ]
  },
  {
   "cell_type": "markdown",
   "id": "da831c9d",
   "metadata": {
    "slideshow": {
     "slide_type": "fragment"
    }
   },
   "source": [
    "Napisz program w Pythonie do tworzenia wielu wykresów"
   ]
  },
  {
   "cell_type": "markdown",
   "id": "3fbdb6ac",
   "metadata": {
    "slideshow": {
     "slide_type": "subslide"
    }
   },
   "source": [
    "Przykładowy wynik:"
   ]
  },
  {
   "cell_type": "markdown",
   "id": "f9baae18",
   "metadata": {
    "slideshow": {
     "slide_type": "fragment"
    }
   },
   "source": [
    "![](https://www.w3resource.com/w3r_images/matplotlib-basic-exercise-15.png)"
   ]
  },
  {
   "cell_type": "markdown",
   "id": "2690cf68",
   "metadata": {
    "slideshow": {
     "slide_type": "slide"
    }
   },
   "source": [
    "#### Rozwiązanie"
   ]
  },
  {
   "cell_type": "code",
   "execution_count": null,
   "id": "ae4077dc",
   "metadata": {
    "slideshow": {
     "slide_type": "subslide"
    }
   },
   "outputs": [],
   "source": [
    "import matplotlib.pyplot as plt\n",
    "fig = plt.figure()\n",
    "fig.subplots_adjust(bottom=0.020, left=0.020, top = 0.900, right=0.800)\n",
    "\n",
    "plt.subplot(2, 1, 1)\n",
    "plt.xticks(()), plt.yticks(())\n",
    "\n",
    "plt.subplot(2, 3, 4)\n",
    "plt.xticks(()), plt.yticks(())\n",
    "\n",
    "plt.subplot(2, 3, 5)\n",
    "plt.xticks(()), plt.yticks(())\n",
    "\n",
    "plt.subplot(2, 3, 6)\n",
    "plt.xticks(()), plt.yticks(())\n",
    "\n",
    "plt.show()"
   ]
  },
  {
   "cell_type": "markdown",
   "id": "43351468",
   "metadata": {
    "slideshow": {
     "slide_type": "slide"
    }
   },
   "source": [
    "### Wyświetl wykres słupkowy popularności języków programowania"
   ]
  },
  {
   "cell_type": "markdown",
   "id": "415e6832",
   "metadata": {
    "slideshow": {
     "slide_type": "slide"
    }
   },
   "source": [
    "#### Ćwiczenie"
   ]
  },
  {
   "cell_type": "markdown",
   "id": "b249390d",
   "metadata": {
    "slideshow": {
     "slide_type": "fragment"
    }
   },
   "source": [
    "Napisz program w Pythonie, aby wyświetlić wykres słupkowy popularności języków programowania.\n",
    "\n",
    "Przykładowe dane:\n",
    "\n",
    "Języki programowania: `'Java', 'Python', 'PHP', 'JavaScript', 'C#', 'C++'`\n",
    "\n",
    "Popularność: `22.2, 17.6, 8.8, 8, 7.7, 6.7`"
   ]
  },
  {
   "cell_type": "markdown",
   "id": "3680b9ad",
   "metadata": {
    "slideshow": {
     "slide_type": "subslide"
    }
   },
   "source": [
    "Przykładowy wynik:"
   ]
  },
  {
   "cell_type": "markdown",
   "id": "58dad0b6",
   "metadata": {
    "slideshow": {
     "slide_type": "fragment"
    }
   },
   "source": [
    "![](https://www.w3resource.com/w3r_images/matplotlib-barchart-exercise-1.png)"
   ]
  },
  {
   "cell_type": "markdown",
   "id": "3f0c6003",
   "metadata": {
    "slideshow": {
     "slide_type": "slide"
    }
   },
   "source": [
    "#### Rozwiązanie"
   ]
  },
  {
   "cell_type": "code",
   "execution_count": null,
   "id": "3f17a593",
   "metadata": {
    "slideshow": {
     "slide_type": "subslide"
    }
   },
   "outputs": [],
   "source": [
    "import matplotlib.pyplot as plt\n",
    "x = ['Java', 'Python', 'PHP', 'JavaScript', 'C#', 'C++']\n",
    "popularity = [22.2, 17.6, 8.8, 8, 7.7, 6.7]\n",
    "x_pos = [i for i, _ in enumerate(x)]\n",
    "plt.bar(x_pos, popularity, color='blue')\n",
    "plt.xlabel(\"Languages\")\n",
    "plt.ylabel(\"Popularity\")\n",
    "plt.title(\"PopularitY of Programming Language\\n\" + \"Worldwide, Oct 2017 compared to a year ago\")\n",
    "plt.xticks(x_pos, x)\n",
    "plt.minorticks_on()  # Włącz siatkę\n",
    "plt.grid(which='major', linestyle='-', linewidth='0.5', color='red')\n",
    "# Dostosuj mniejszą siatkę\n",
    "plt.grid(which='minor', linestyle=':', linewidth='0.5', color='black')\n",
    "plt.show()"
   ]
  },
  {
   "cell_type": "markdown",
   "id": "02476157",
   "metadata": {
    "slideshow": {
     "slide_type": "slide"
    }
   },
   "source": [
    "### Wyświetl poziomy wykres słupkowy popularności języków programowania"
   ]
  },
  {
   "cell_type": "markdown",
   "id": "d9992be6",
   "metadata": {
    "slideshow": {
     "slide_type": "slide"
    }
   },
   "source": [
    "#### Ćwiczenie"
   ]
  },
  {
   "cell_type": "markdown",
   "id": "d5ff028c",
   "metadata": {
    "slideshow": {
     "slide_type": "fragment"
    }
   },
   "source": [
    "Napisz program w Pythonie wyświetlający poziomy wykres słupkowy popularności języków programowania.\n",
    "\n",
    "Przykładowe dane:\n",
    "\n",
    "Języki programowania: `'Java', 'Python', 'PHP', 'JS', 'C#', 'C++'`\n",
    "\n",
    "Popularność: `22.2, 17.6, 8.8, 8, 7.7, 6.7`"
   ]
  },
  {
   "cell_type": "markdown",
   "id": "27dfa2ad",
   "metadata": {
    "slideshow": {
     "slide_type": "subslide"
    }
   },
   "source": [
    "Przykładowy wynik:"
   ]
  },
  {
   "cell_type": "markdown",
   "id": "e0e14af1",
   "metadata": {
    "slideshow": {
     "slide_type": "fragment"
    }
   },
   "source": [
    "![](https://www.w3resource.com/w3r_images/matplotlib-barchart-exercise-2.png)"
   ]
  },
  {
   "cell_type": "markdown",
   "id": "ccb7a1f6",
   "metadata": {
    "slideshow": {
     "slide_type": "slide"
    }
   },
   "source": [
    "#### Rozwiązanie"
   ]
  },
  {
   "cell_type": "code",
   "execution_count": null,
   "id": "5bcf878f",
   "metadata": {
    "slideshow": {
     "slide_type": "subslide"
    }
   },
   "outputs": [],
   "source": [
    "import matplotlib.pyplot as plt\n",
    "x = ['Java', 'Python', 'PHP', 'JS', 'C#', 'C++']\n",
    "popularity = [22.2, 17.6, 8.8, 8, 7.7, 6.7]\n",
    "x_pos = [i for i, _ in enumerate(x)]\n",
    "plt.barh(x_pos, popularity, color='green')\n",
    "plt.xlabel(\"Popularity\")\n",
    "plt.ylabel(\"Languages\")\n",
    "plt.title(\"PopularitY of Programming Language\\n\" + \"Worldwide, Oct 2017 compared to a year ago\")\n",
    "plt.yticks(x_pos, x)\n",
    "plt.minorticks_on()  # Włącz siatkę\n",
    "plt.grid(which='major', linestyle='-', linewidth='0.5', color='red')\n",
    "# Dostosuj mniejszą siatkę\n",
    "plt.grid(which='minor', linestyle=':', linewidth='0.5', color='black')\n",
    "plt.show()"
   ]
  },
  {
   "cell_type": "markdown",
   "id": "68554313",
   "metadata": {
    "slideshow": {
     "slide_type": "slide"
    }
   },
   "source": [
    "### Wyświetl wykres słupkowy popularności języków programowania"
   ]
  },
  {
   "cell_type": "markdown",
   "id": "cc5aba2e",
   "metadata": {
    "slideshow": {
     "slide_type": "slide"
    }
   },
   "source": [
    "#### Ćwiczenie"
   ]
  },
  {
   "cell_type": "markdown",
   "id": "c8397abe",
   "metadata": {
    "slideshow": {
     "slide_type": "fragment"
    }
   },
   "source": [
    "Napisz program w Pythonie wyświetlający poziomy wykres słupkowy popularności języków programowania.\n",
    "\n",
    "Przykładowe dane:\n",
    "\n",
    "Języki programowania: `'Java', 'Python', 'PHP', 'JavaScript', 'C#', 'C++'`\n",
    "\n",
    "Popularność: `22.2, 17.6, 8.8, 8, 7.7, 6.7`"
   ]
  },
  {
   "cell_type": "markdown",
   "id": "080acfd1",
   "metadata": {
    "slideshow": {
     "slide_type": "subslide"
    }
   },
   "source": [
    "Przykładowy wynik:"
   ]
  },
  {
   "cell_type": "markdown",
   "id": "5b180ebd",
   "metadata": {
    "slideshow": {
     "slide_type": "fragment"
    }
   },
   "source": [
    "![](https://www.w3resource.com/w3r_images/matplotlib-barchart-exercise-3.png)"
   ]
  },
  {
   "cell_type": "markdown",
   "id": "4f2ff7fd",
   "metadata": {
    "slideshow": {
     "slide_type": "slide"
    }
   },
   "source": [
    "#### Rozwiązanie"
   ]
  },
  {
   "cell_type": "code",
   "execution_count": null,
   "id": "db893bb0",
   "metadata": {
    "slideshow": {
     "slide_type": "subslide"
    }
   },
   "outputs": [],
   "source": [
    "import matplotlib.pyplot as plt\n",
    "x = ['Java', 'Python', 'PHP', 'JavaScript', 'C#', 'C++']\n",
    "popularity = [22.2, 17.6, 8.8, 8, 7.7, 6.7]\n",
    "x_pos = [i for i, _ in enumerate(x)]\n",
    "\n",
    "plt.bar(x_pos, popularity, color=(0.4, 0.6, 0.8, 1.0))\n",
    "\n",
    "plt.xlabel(\"Languages\")\n",
    "plt.ylabel(\"Popularity\")\n",
    "plt.title(\"PopularitY of Programming Language\\n\" + \"Worldwide, Oct 2017 compared to a year ago\")\n",
    "plt.xticks(x_pos, x)\n",
    "plt.minorticks_on()  # Włącz siatkę\n",
    "plt.grid(which='major', linestyle='-', linewidth='0.5', color='red')\n",
    "# Dostosuj mniejszą siatkę\n",
    "plt.grid(which='minor', linestyle=':', linewidth='0.5', color='black')\n",
    "plt.show()"
   ]
  },
  {
   "cell_type": "markdown",
   "id": "a94f936e",
   "metadata": {
    "slideshow": {
     "slide_type": "slide"
    }
   },
   "source": [
    "### Wyświetl wykres słupkowy popularności języków programowania, używając innego koloru dla każdego słupka"
   ]
  },
  {
   "cell_type": "markdown",
   "id": "59e33ce0",
   "metadata": {
    "slideshow": {
     "slide_type": "slide"
    }
   },
   "source": [
    "#### Ćwiczenie"
   ]
  },
  {
   "cell_type": "markdown",
   "id": "e0245a9d",
   "metadata": {
    "slideshow": {
     "slide_type": "fragment"
    }
   },
   "source": [
    "Napisz program w Pythonie wyświetlający wykres słupkowy popularności języków programowania. Użyj innego koloru dla każdego paska.\n",
    "\n",
    "Przykładowe dane:\n",
    "\n",
    "Języki programowania: `'Java', 'Python', 'PHP', 'JavaScript', 'C#', 'C++'`\n",
    "\n",
    "Popularność: `22.2, 17.6, 8.8, 8, 7.7, 6.7`"
   ]
  },
  {
   "cell_type": "markdown",
   "id": "572c6009",
   "metadata": {
    "slideshow": {
     "slide_type": "subslide"
    }
   },
   "source": [
    "Przykładowy wynik:"
   ]
  },
  {
   "cell_type": "markdown",
   "id": "06e0b7b9",
   "metadata": {
    "slideshow": {
     "slide_type": "fragment"
    }
   },
   "source": [
    "![](https://www.w3resource.com/w3r_images/matplotlib-barchart-exercise-4.png)"
   ]
  },
  {
   "cell_type": "markdown",
   "id": "93fdd9ed",
   "metadata": {
    "slideshow": {
     "slide_type": "slide"
    }
   },
   "source": [
    "#### Rozwiązanie"
   ]
  },
  {
   "cell_type": "code",
   "execution_count": null,
   "id": "67280cbc",
   "metadata": {
    "slideshow": {
     "slide_type": "subslide"
    }
   },
   "outputs": [],
   "source": [
    "import matplotlib.pyplot as plt\n",
    "x = ['Java', 'Python', 'PHP', 'JavaScript', 'C#', 'C++']\n",
    "popularity = [22.2, 17.6, 8.8, 8, 7.7, 6.7]\n",
    "x_pos = [i for i, _ in enumerate(x)]\n",
    "\n",
    "plt.bar(x_pos, popularity, color=['red', 'black', 'green', 'blue', 'yellow', 'cyan'])\n",
    "\n",
    "plt.xlabel(\"Languages\")\n",
    "plt.ylabel(\"Popularity\")\n",
    "plt.title(\"PopularitY of Programming Language\\n\" + \"Worldwide, Oct 2017 compared to a year ago\")\n",
    "plt.xticks(x_pos, x)\n",
    "plt.minorticks_on()  # Włącz siatkę\n",
    "plt.grid(which='major', linestyle='-', linewidth='0.5', color='red')\n",
    "# Dostosuj mniejszą siatkę\n",
    "plt.grid(which='minor', linestyle=':', linewidth='0.5', color='black')\n",
    "plt.show()"
   ]
  },
  {
   "cell_type": "code",
   "execution_count": null,
   "id": "e38e4951",
   "metadata": {},
   "outputs": [],
   "source": []
  }
 ],
 "metadata": {
  "celltoolbar": "Slideshow",
  "kernelspec": {
   "display_name": "Python 3 (ipykernel)",
   "language": "python",
   "name": "python3"
  },
  "language_info": {
   "codemirror_mode": {
    "name": "ipython",
    "version": 3
   },
   "file_extension": ".py",
   "mimetype": "text/x-python",
   "name": "python",
   "nbconvert_exporter": "python",
   "pygments_lexer": "ipython3",
   "version": "3.10.4"
  }
 },
 "nbformat": 4,
 "nbformat_minor": 5
}
