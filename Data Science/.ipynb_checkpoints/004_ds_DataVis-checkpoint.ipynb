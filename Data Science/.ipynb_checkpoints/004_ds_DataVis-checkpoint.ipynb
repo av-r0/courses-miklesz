{
 "cells": [
  {
   "cell_type": "markdown",
   "id": "a08920a0",
   "metadata": {
    "slideshow": {
     "slide_type": "slide"
    }
   },
   "source": [
    "## matplotlib\n",
    "\n",
    "`matplotlib` jest podstawową biblioteką do tworzenia wizualizacji w Pythonie. Jego największymi zaletami są uniwersalność i powszechność - w internecie znajdziemy mnóstwo informacji na temat tego jak używać tego pakietu i tworzyć w nim wizualizacje.\n",
    "\n",
    "Sam `matplotlib` ma jednak dość mało intuicyjne API - dlatego powstały pakiety takie jak `Seaborn`, które znacząco ułatwiają pracę z wykresami"
   ]
  },
  {
   "cell_type": "code",
   "execution_count": null,
   "id": "3c7a5058",
   "metadata": {
    "slideshow": {
     "slide_type": "fragment"
    }
   },
   "outputs": [],
   "source": [
    "import numpy as np\n",
    "import pandas as pd\n",
    "import matplotlib as mpl\n",
    "import matplotlib.pyplot as plt"
   ]
  },
  {
   "cell_type": "code",
   "execution_count": null,
   "id": "ca6286d7",
   "metadata": {
    "slideshow": {
     "slide_type": "fragment"
    }
   },
   "outputs": [],
   "source": [
    "%matplotlib inline"
   ]
  },
  {
   "cell_type": "markdown",
   "id": "7483885f",
   "metadata": {
    "slideshow": {
     "slide_type": "subslide"
    }
   },
   "source": [
    "Korzystać z `plt.style` możemy w łatwy sposób wybrać jeden z gotowych stylów wykresów."
   ]
  },
  {
   "cell_type": "code",
   "execution_count": null,
   "id": "6c01ca3f",
   "metadata": {
    "slideshow": {
     "slide_type": "fragment"
    }
   },
   "outputs": [],
   "source": [
    "plt.style.use('ggplot')"
   ]
  },
  {
   "cell_type": "code",
   "execution_count": null,
   "id": "5acf439d",
   "metadata": {
    "slideshow": {
     "slide_type": "subslide"
    }
   },
   "outputs": [],
   "source": [
    "for i in range(4):\n",
    "    plt.plot(np.random.rand(10))"
   ]
  },
  {
   "cell_type": "code",
   "execution_count": null,
   "id": "b1309490",
   "metadata": {
    "slideshow": {
     "slide_type": "subslide"
    }
   },
   "outputs": [],
   "source": [
    "import numpy as np\n",
    "x = np.linspace(0, 10, 100)\n",
    "\n",
    "fig = plt.figure()\n",
    "plt.plot(x, np.sin(x), '-')\n",
    "plt.plot(x, np.cos(x), '--');"
   ]
  },
  {
   "cell_type": "markdown",
   "id": "3a23ac9d",
   "metadata": {
    "slideshow": {
     "slide_type": "slide"
    }
   },
   "source": [
    "### Zapisywanie wykresu do pliku"
   ]
  },
  {
   "cell_type": "code",
   "execution_count": null,
   "id": "3903aebf",
   "metadata": {
    "slideshow": {
     "slide_type": "fragment"
    }
   },
   "outputs": [],
   "source": [
    "fig.savefig('my_figure.png')"
   ]
  },
  {
   "cell_type": "code",
   "execution_count": null,
   "id": "678894f6",
   "metadata": {
    "slideshow": {
     "slide_type": "fragment"
    }
   },
   "outputs": [],
   "source": [
    "from IPython.display import Image\n",
    "Image('my_figure.png')"
   ]
  },
  {
   "cell_type": "markdown",
   "id": "0bec73c4",
   "metadata": {
    "slideshow": {
     "slide_type": "subslide"
    }
   },
   "source": [
    "Z racji tego, że matplotlib powstał jako alternatywa dla użytkowników programu MATLAB, istnieje w nim interfejs `pyplot`, który jest analogią do interfejsu istniejącego w MATLAB."
   ]
  },
  {
   "cell_type": "code",
   "execution_count": null,
   "id": "07ca11c7",
   "metadata": {
    "slideshow": {
     "slide_type": "fragment"
    }
   },
   "outputs": [],
   "source": [
    "plt.figure()  # stwórz nowy obiekt\n",
    "\n",
    "# tworzenie pierwszego wykresu\n",
    "plt.subplot(2, 1, 1)  # (wiersze, kolumny, numer panelu)\n",
    "plt.plot(x, np.sin(x))\n",
    "\n",
    "# tworzenie drugiego wykresu\n",
    "plt.subplot(2, 1, 2)\n",
    "plt.plot(x, np.cos(x));"
   ]
  },
  {
   "cell_type": "markdown",
   "id": "c20085e3",
   "metadata": {
    "slideshow": {
     "slide_type": "subslide"
    }
   },
   "source": [
    "Innym istniejącym interfejsem jest bardziej techniczny interfejs powiązany z obiektami pythonowymi:"
   ]
  },
  {
   "cell_type": "code",
   "execution_count": null,
   "id": "3761f766",
   "metadata": {
    "slideshow": {
     "slide_type": "fragment"
    }
   },
   "outputs": [],
   "source": [
    "fig, ax = plt.subplots(2)\n",
    "\n",
    "ax[0].plot(x, np.sin(x))\n",
    "ax[1].plot(x, np.cos(x));"
   ]
  },
  {
   "cell_type": "markdown",
   "id": "fba97c86",
   "metadata": {
    "slideshow": {
     "slide_type": "slide"
    }
   },
   "source": [
    "### Proste wykresy liniowe"
   ]
  },
  {
   "cell_type": "markdown",
   "id": "d7cde8e0",
   "metadata": {
    "slideshow": {
     "slide_type": "fragment"
    }
   },
   "source": [
    "W Matplotlib obiekt typu `plt.Figure` przechowuje wszelkie informacje o wyresie (osie, obrazy, tekst, oznaczenia). Obiekty typu `plt.Axes` natomiast reprezentują dane reprezentowane na wykresie."
   ]
  },
  {
   "cell_type": "code",
   "execution_count": null,
   "id": "0d892729",
   "metadata": {
    "slideshow": {
     "slide_type": "fragment"
    }
   },
   "outputs": [],
   "source": [
    "fig = plt.figure()\n",
    "ax = plt.axes()"
   ]
  },
  {
   "cell_type": "markdown",
   "id": "dbfb9fb9",
   "metadata": {
    "slideshow": {
     "slide_type": "subslide"
    }
   },
   "source": [
    "Kiedy osie są gotowe możemy użyć na nich metody `plot` aby narysować wykres:"
   ]
  },
  {
   "cell_type": "code",
   "execution_count": null,
   "id": "70bc0e3c",
   "metadata": {
    "slideshow": {
     "slide_type": "fragment"
    }
   },
   "outputs": [],
   "source": [
    "fig = plt.figure()\n",
    "ax = plt.axes()\n",
    "\n",
    "x = np.linspace(0, 10, 1000)\n",
    "ax.plot(x, np.sin(x));"
   ]
  },
  {
   "cell_type": "markdown",
   "id": "14b65f50",
   "metadata": {
    "slideshow": {
     "slide_type": "subslide"
    }
   },
   "source": [
    "Lub analogicznie korzystając z drugiego interfejsu:"
   ]
  },
  {
   "cell_type": "code",
   "execution_count": null,
   "id": "8b9d692e",
   "metadata": {
    "slideshow": {
     "slide_type": "fragment"
    }
   },
   "outputs": [],
   "source": [
    "# Tutaj fig i ax są tworzone za nas:\n",
    "\n",
    "plt.plot(x, np.sin(x));"
   ]
  },
  {
   "cell_type": "markdown",
   "id": "ba980447",
   "metadata": {
    "slideshow": {
     "slide_type": "subslide"
    }
   },
   "source": [
    "Jeżeli chcemy kilka serii danych na raz możemy używać `plt.plot` wiele razy:"
   ]
  },
  {
   "cell_type": "code",
   "execution_count": null,
   "id": "4756831c",
   "metadata": {
    "slideshow": {
     "slide_type": "fragment"
    }
   },
   "outputs": [],
   "source": [
    "plt.plot(x, np.sin(x))\n",
    "plt.plot(x, np.cos(x));"
   ]
  },
  {
   "cell_type": "markdown",
   "id": "6fff7c9e",
   "metadata": {
    "slideshow": {
     "slide_type": "subslide"
    }
   },
   "source": [
    "Aby zarządzać kolorami możemy użyć parametru `color`, oto kilka sposobów używania go:"
   ]
  },
  {
   "cell_type": "code",
   "execution_count": null,
   "id": "43a4db5e",
   "metadata": {
    "slideshow": {
     "slide_type": "fragment"
    }
   },
   "outputs": [],
   "source": [
    "plt.plot(x, np.sin(x - 0), color='blue')        # nazwa koloru\n",
    "plt.plot(x, np.sin(x - 1), color='g')           # kod koloru (rgbcmyk)\n",
    "plt.plot(x, np.sin(x - 2), color='0.75')        # grayscale (0-1)\n",
    "plt.plot(x, np.sin(x - 3), color='#FFDD44')     # hex RRGGBB\n",
    "plt.plot(x, np.sin(x - 4), color=(1.0,0.2,0.3)) # trójka reprezentująca wartości RGB\n",
    "plt.plot(x, np.sin(x - 5), color='chartreuse'); # nazwy z HTML"
   ]
  },
  {
   "cell_type": "markdown",
   "id": "5ba2d30b",
   "metadata": {
    "slideshow": {
     "slide_type": "subslide"
    }
   },
   "source": [
    "Analogicznie możemy definiować styl linii za pomocą `linestyle`"
   ]
  },
  {
   "cell_type": "code",
   "execution_count": null,
   "id": "e9c15715",
   "metadata": {
    "slideshow": {
     "slide_type": "fragment"
    }
   },
   "outputs": [],
   "source": [
    "plt.plot(x, x + 0, linestyle='solid')\n",
    "plt.plot(x, x + 1, linestyle='dashed')\n",
    "plt.plot(x, x + 2, linestyle='dashdot')\n",
    "plt.plot(x, x + 3, linestyle='dotted');\n",
    "\n",
    "# Lub korzystając ze skrótów:\n",
    "plt.plot(x, x + 4, linestyle='-')  \n",
    "plt.plot(x, x + 5, linestyle='--') \n",
    "plt.plot(x, x + 6, linestyle='-.') \n",
    "plt.plot(x, x + 7, linestyle=':');"
   ]
  },
  {
   "cell_type": "markdown",
   "id": "8ccdd316",
   "metadata": {
    "slideshow": {
     "slide_type": "subslide"
    }
   },
   "source": [
    "Możemy też łączyć ze sobą te komendy:"
   ]
  },
  {
   "cell_type": "code",
   "execution_count": null,
   "id": "427ccb49",
   "metadata": {
    "slideshow": {
     "slide_type": "fragment"
    }
   },
   "outputs": [],
   "source": [
    "plt.plot(x, x + 0, '-g')\n",
    "plt.plot(x, x + 1, '--c')\n",
    "plt.plot(x, x + 2, '-.k')\n",
    "plt.plot(x, x + 3, ':r');"
   ]
  },
  {
   "cell_type": "markdown",
   "id": "ecc9552b",
   "metadata": {
    "slideshow": {
     "slide_type": "slide"
    }
   },
   "source": [
    "### Ustawianie zakresu osi"
   ]
  },
  {
   "cell_type": "code",
   "execution_count": null,
   "id": "e1b84a4a",
   "metadata": {
    "slideshow": {
     "slide_type": "fragment"
    }
   },
   "outputs": [],
   "source": [
    "plt.plot(x, np.sin(x))\n",
    "\n",
    "plt.xlim(-1, 11)  # zakres osi OX\n",
    "plt.ylim(-1.5, 1.5);  # zakres osi OY"
   ]
  },
  {
   "cell_type": "code",
   "execution_count": null,
   "id": "c7c987f2",
   "metadata": {
    "slideshow": {
     "slide_type": "subslide"
    }
   },
   "outputs": [],
   "source": [
    "plt.plot(x, np.sin(x))\n",
    "\n",
    "plt.xlim(10, 0)  # możemy ustawić zakres od prawej do lewej\n",
    "plt.ylim(1.2, -1.2);"
   ]
  },
  {
   "cell_type": "code",
   "execution_count": null,
   "id": "c89a2055",
   "metadata": {
    "slideshow": {
     "slide_type": "fragment"
    }
   },
   "outputs": [],
   "source": [
    "plt.plot(x, np.sin(x))\n",
    "plt.axis([-1, 11, -1.5, 1.5]);  # plt.axis pozwala nam ustawić wszystko na raz"
   ]
  },
  {
   "cell_type": "markdown",
   "id": "8a7fb2ad",
   "metadata": {
    "slideshow": {
     "slide_type": "subslide"
    }
   },
   "source": [
    "Dodatkowo korzystając z `plt.axis` możemy korzystać z gotowych ustawień takich jak:"
   ]
  },
  {
   "cell_type": "code",
   "execution_count": null,
   "id": "6a97096b",
   "metadata": {
    "slideshow": {
     "slide_type": "fragment"
    }
   },
   "outputs": [],
   "source": [
    "plt.plot(x, np.sin(x))\n",
    "plt.axis('tight');"
   ]
  },
  {
   "cell_type": "code",
   "execution_count": null,
   "id": "ae7ab580",
   "metadata": {
    "slideshow": {
     "slide_type": "subslide"
    }
   },
   "outputs": [],
   "source": [
    "plt.plot(x, np.sin(x))\n",
    "plt.axis('equal');"
   ]
  },
  {
   "cell_type": "markdown",
   "id": "e261b7d1",
   "metadata": {
    "slideshow": {
     "slide_type": "subslide"
    }
   },
   "source": [
    "Aby sprawdzić inne możliwości można zajrzeć do dokumentacji:"
   ]
  },
  {
   "cell_type": "code",
   "execution_count": null,
   "id": "3f5d91f9",
   "metadata": {
    "slideshow": {
     "slide_type": "subslide"
    }
   },
   "outputs": [],
   "source": [
    "help(plt.axis)"
   ]
  },
  {
   "cell_type": "markdown",
   "id": "e1d16abc",
   "metadata": {
    "slideshow": {
     "slide_type": "slide"
    }
   },
   "source": [
    "### Dodawanie oznaczeń do wykresów"
   ]
  },
  {
   "cell_type": "code",
   "execution_count": null,
   "id": "c55ccf8e",
   "metadata": {
    "slideshow": {
     "slide_type": "fragment"
    }
   },
   "outputs": [],
   "source": [
    "plt.plot(x, np.sin(x))\n",
    "plt.title(\"A Sine Curve\")\n",
    "plt.xlabel(\"x\")  \n",
    "plt.ylabel(\"sin(x)\");"
   ]
  },
  {
   "cell_type": "markdown",
   "id": "f0054551",
   "metadata": {
    "slideshow": {
     "slide_type": "subslide"
    }
   },
   "source": [
    "Kiedy pokazujemy więcej niż jedną serie danych możemy skorzystać z `plt.legend` aby dodać legendę do wykresu:"
   ]
  },
  {
   "cell_type": "code",
   "execution_count": null,
   "id": "427bf2f1",
   "metadata": {
    "slideshow": {
     "slide_type": "fragment"
    }
   },
   "outputs": [],
   "source": [
    "plt.plot(x, np.sin(x), '-g', label='sin(x)')\n",
    "plt.plot(x, np.cos(x), ':b', label='cos(x)')\n",
    "plt.axis('equal')\n",
    "\n",
    "plt.legend();"
   ]
  },
  {
   "cell_type": "markdown",
   "id": "89bb5a13",
   "metadata": {
    "slideshow": {
     "slide_type": "subslide"
    }
   },
   "source": [
    "Jeżeli korzystamy z obiektowego interfejsu nazwy metod mogą być trochę inne:\n",
    "\n",
    "- `plt.xlabel()` → `ax.set_xlabel()`\n",
    "- `plt.ylabel()` → `ax.set_ylabel()`\n",
    "- `plt.xlim()` → `ax.set_xlim()`\n",
    "- `plt.ylim()` → `ax.set_ylim()`\n",
    "- `plt.title()` → `ax.set_title()`\n"
   ]
  },
  {
   "cell_type": "markdown",
   "id": "f116dc00",
   "metadata": {
    "slideshow": {
     "slide_type": "subslide"
    }
   },
   "source": [
    "Aby ułatwić sobie pracę możemy skorzystać z `ax.set` i ustawić wszystko za jednym razem:"
   ]
  },
  {
   "cell_type": "code",
   "execution_count": null,
   "id": "9a7241e2",
   "metadata": {
    "slideshow": {
     "slide_type": "fragment"
    }
   },
   "outputs": [],
   "source": [
    "ax = plt.axes()\n",
    "ax.plot(x, np.sin(x))\n",
    "ax.set(xlim=(0, 10), ylim=(-2, 2),\n",
    "       xlabel='x', ylabel='sin(x)',\n",
    "       title='A Simple Plot');"
   ]
  },
  {
   "cell_type": "markdown",
   "id": "2122da52",
   "metadata": {
    "slideshow": {
     "slide_type": "slide"
    }
   },
   "source": [
    "### Wykresy kropkowe (scatter plots)"
   ]
  },
  {
   "cell_type": "markdown",
   "id": "d906a030",
   "metadata": {
    "slideshow": {
     "slide_type": "fragment"
    }
   },
   "source": [
    "Wykresy kropkowe tworzymy dokładnie tak jak liniowe, zmieniamy jedynie symbol który jest używany do rysowania:"
   ]
  },
  {
   "cell_type": "code",
   "execution_count": null,
   "id": "c37b5b0e",
   "metadata": {
    "slideshow": {
     "slide_type": "fragment"
    }
   },
   "outputs": [],
   "source": [
    "x = np.linspace(0, 10, 30)\n",
    "y = np.sin(x)\n",
    "\n",
    "plt.plot(x, y, 'o', color='black');"
   ]
  },
  {
   "cell_type": "markdown",
   "id": "6ecb536c",
   "metadata": {
    "slideshow": {
     "slide_type": "subslide"
    }
   },
   "source": [
    "Istnieje wiele rodzajów symboli jakich możemy używać:"
   ]
  },
  {
   "cell_type": "code",
   "execution_count": null,
   "id": "52ff8377",
   "metadata": {
    "slideshow": {
     "slide_type": "fragment"
    }
   },
   "outputs": [],
   "source": [
    "rng = np.random.RandomState(0)\n",
    "for marker in ['o', '.', ',', 'x', '+', 'v', '^', '<', '>', 's', 'd']:\n",
    "    plt.plot(rng.rand(5), rng.rand(5), marker,\n",
    "             label=\"marker='{0}'\".format(marker))\n",
    "plt.legend(numpoints=1)\n",
    "plt.xlim(0, 1.8);"
   ]
  },
  {
   "cell_type": "markdown",
   "id": "cf43ca28",
   "metadata": {
    "slideshow": {
     "slide_type": "subslide"
    }
   },
   "source": [
    "Co więcej symbole można ze sobą łączyć:"
   ]
  },
  {
   "cell_type": "code",
   "execution_count": null,
   "id": "421e5003",
   "metadata": {
    "slideshow": {
     "slide_type": "fragment"
    }
   },
   "outputs": [],
   "source": [
    "plt.plot(x, y, '-o', color='red');"
   ]
  },
  {
   "cell_type": "markdown",
   "id": "8182c81a",
   "metadata": {
    "slideshow": {
     "slide_type": "subslide"
    }
   },
   "source": [
    "Funkcja `plot` posiada wiele argumentów służacych do modyfikowania stylu linii i punktów:"
   ]
  },
  {
   "cell_type": "code",
   "execution_count": null,
   "id": "c01e22a9",
   "metadata": {
    "slideshow": {
     "slide_type": "fragment"
    }
   },
   "outputs": [],
   "source": [
    "plt.plot(x, y, '-p', color='gray',\n",
    "         markersize=15, linewidth=4,\n",
    "         markerfacecolor='white',\n",
    "         markeredgecolor='gray',\n",
    "         markeredgewidth=2)\n",
    "plt.ylim(-1.2, 1.2);"
   ]
  },
  {
   "cell_type": "markdown",
   "id": "7a6d17cd",
   "metadata": {
    "slideshow": {
     "slide_type": "subslide"
    }
   },
   "source": [
    "Jeżeli chcemy tworzyć bardziej skomplikowane wykresy kropkowe, możemy skorzystać z `plt.scatter` które daje nam możliwość ustalania stylu dla każdej obserwacji:"
   ]
  },
  {
   "cell_type": "code",
   "execution_count": null,
   "id": "68c6e9bb",
   "metadata": {
    "slideshow": {
     "slide_type": "subslide"
    }
   },
   "outputs": [],
   "source": [
    "rng = np.random.RandomState(0)\n",
    "x = rng.randn(100)\n",
    "y = rng.randn(100)\n",
    "colors = rng.rand(100)\n",
    "sizes = 1000 * rng.rand(100)\n",
    "\n",
    "plt.scatter(x, y, c=colors, s=sizes, alpha=0.3,\n",
    "            cmap='viridis')\n",
    "plt.colorbar();  # show color scale"
   ]
  },
  {
   "cell_type": "markdown",
   "id": "86186bbe",
   "metadata": {
    "slideshow": {
     "slide_type": "subslide"
    }
   },
   "source": [
    "Przykład użycia tych parametrów na zbiorze Iris, zawierającym obserwacje trzech rodzajów kwiatów. W ten  sposób możemy pokazać wielowymiarowość danych - każda kropka oznacza jedną obserwacje, jej położenie mówi o rozmiarze liści, rozmiar kropki mówi o rozmiarze płatka kwiatu, a kolor przedstawia jego rodzaj."
   ]
  },
  {
   "cell_type": "code",
   "execution_count": null,
   "id": "06921cb2",
   "metadata": {
    "slideshow": {
     "slide_type": "fragment"
    }
   },
   "outputs": [],
   "source": [
    "from sklearn.datasets import load_iris\n",
    "iris = load_iris()\n",
    "feat = iris.data.T  # features\n",
    "plt.scatter(feat[0], feat[1], alpha=0.2, s=100*feat[3], c=iris.target, cmap='viridis')\n",
    "plt.xlabel(iris.feature_names[0])\n",
    "plt.ylabel(iris.feature_names[1]);"
   ]
  },
  {
   "cell_type": "markdown",
   "id": "7961928c",
   "metadata": {
    "slideshow": {
     "slide_type": "slide"
    }
   },
   "source": [
    "### Wizualizacja błędów"
   ]
  },
  {
   "cell_type": "markdown",
   "id": "5f6fb6a0",
   "metadata": {
    "slideshow": {
     "slide_type": "fragment"
    }
   },
   "source": [
    "Każdy wykonany pomiar jest zawsze obarczony błędem. Pokazywanie przedziałów ufności pozwala ukazać pełniejszy obraz sytuacji."
   ]
  },
  {
   "cell_type": "code",
   "execution_count": null,
   "id": "6ce8f9ea",
   "metadata": {
    "slideshow": {
     "slide_type": "fragment"
    }
   },
   "outputs": [],
   "source": [
    "x = np.linspace(0, 10, 50)\n",
    "dy = 0.8\n",
    "y = np.sin(x) + dy * np.random.randn(50)\n",
    "\n",
    "plt.errorbar(x, y, yerr=dy, fmt='.k');  # fmt oznacza kod formatu"
   ]
  },
  {
   "cell_type": "markdown",
   "id": "fccba7ee",
   "metadata": {
    "slideshow": {
     "slide_type": "subslide"
    }
   },
   "source": [
    "Funkcja `errorbar` pozwala również na modyfikowanie stylu samych słupków błedów:"
   ]
  },
  {
   "cell_type": "code",
   "execution_count": null,
   "id": "e9216787",
   "metadata": {
    "slideshow": {
     "slide_type": "fragment"
    }
   },
   "outputs": [],
   "source": [
    "plt.errorbar(x, y, yerr=dy, fmt='o', color='black',\n",
    "             ecolor='lightgray', elinewidth=3, capsize=0);"
   ]
  },
  {
   "cell_type": "markdown",
   "id": "0d85095b",
   "metadata": {
    "slideshow": {
     "slide_type": "slide"
    }
   },
   "source": [
    "### Tworzenie histogramów"
   ]
  },
  {
   "cell_type": "markdown",
   "id": "cc8b9503",
   "metadata": {
    "slideshow": {
     "slide_type": "fragment"
    }
   },
   "source": [
    "Histogramy są świetnym narzędziem na początkowym etapie analizy zbioru danych, aby lepiej zrozumieć ich rozkład."
   ]
  },
  {
   "cell_type": "code",
   "execution_count": null,
   "id": "79f9e273",
   "metadata": {
    "slideshow": {
     "slide_type": "fragment"
    }
   },
   "outputs": [],
   "source": [
    "data = np.random.randn(1000)\n",
    "plt.hist(data);"
   ]
  },
  {
   "cell_type": "code",
   "execution_count": null,
   "id": "7c0d66b0",
   "metadata": {
    "slideshow": {
     "slide_type": "subslide"
    }
   },
   "outputs": [],
   "source": [
    "plt.hist(data, bins=30, alpha=0.5,\n",
    "         histtype='stepfilled', color='steelblue',\n",
    "         edgecolor='black');"
   ]
  },
  {
   "cell_type": "code",
   "execution_count": null,
   "id": "96fa9f07",
   "metadata": {
    "slideshow": {
     "slide_type": "subslide"
    }
   },
   "outputs": [],
   "source": [
    "plt.hist?"
   ]
  },
  {
   "cell_type": "code",
   "execution_count": null,
   "id": "ff6a7f2d",
   "metadata": {
    "slideshow": {
     "slide_type": "subslide"
    }
   },
   "outputs": [],
   "source": [
    "x1 = np.random.normal(0, 0.8, 1000)\n",
    "x2 = np.random.normal(-2, 1, 1000)\n",
    "x3 = np.random.normal(3, 2, 1000)\n",
    "\n",
    "kwargs = dict(histtype='stepfilled', alpha=0.3, bins=40)\n",
    "\n",
    "plt.hist(x1, **kwargs)\n",
    "plt.hist(x2, **kwargs)\n",
    "plt.hist(x3, **kwargs);"
   ]
  },
  {
   "cell_type": "markdown",
   "id": "1c1d0b4e",
   "metadata": {
    "slideshow": {
     "slide_type": "subslide"
    }
   },
   "source": [
    "Możemy również tworzyć dwuwymiarowe histogramy:"
   ]
  },
  {
   "cell_type": "code",
   "execution_count": null,
   "id": "a387f849",
   "metadata": {
    "slideshow": {
     "slide_type": "fragment"
    }
   },
   "outputs": [],
   "source": [
    "mean = [0, 0]\n",
    "cov = [[1, 1], [1, 2]]\n",
    "x, y = np.random.multivariate_normal(mean, cov, 10000).T"
   ]
  },
  {
   "cell_type": "code",
   "execution_count": null,
   "id": "7a93cdf7",
   "metadata": {
    "slideshow": {
     "slide_type": "subslide"
    }
   },
   "outputs": [],
   "source": [
    "plt.hist2d(x, y, bins=30, cmap='Blues')\n",
    "cb = plt.colorbar()\n",
    "cb.set_label('counts in bin')"
   ]
  },
  {
   "cell_type": "code",
   "execution_count": null,
   "id": "a3d54605",
   "metadata": {
    "slideshow": {
     "slide_type": "subslide"
    }
   },
   "outputs": [],
   "source": [
    "plt.hexbin(x, y, gridsize=30, cmap='Blues')\n",
    "cb = plt.colorbar(label='count in bin')"
   ]
  },
  {
   "cell_type": "markdown",
   "id": "67ae8b93",
   "metadata": {
    "slideshow": {
     "slide_type": "slide"
    }
   },
   "source": [
    "### Duże ilości wykresów na raz!\n",
    "\n",
    "Czasami może przydać się możliwość pokazania kilku wykresów obok siebie, aby łatwiej było je porównać. W Matplotlib służy do tego `subplot`."
   ]
  },
  {
   "cell_type": "markdown",
   "id": "729bb193",
   "metadata": {
    "slideshow": {
     "slide_type": "subslide"
    }
   },
   "source": [
    "Korzystając z `plt.axes` możemy przekazać w którym miejscu ma się pokazać inny wykres:"
   ]
  },
  {
   "cell_type": "code",
   "execution_count": null,
   "id": "7e2e1dda",
   "metadata": {
    "slideshow": {
     "slide_type": "fragment"
    }
   },
   "outputs": [],
   "source": [
    "ax1 = plt.axes()\n",
    "ax2 = plt.axes([0.65, 0.65, 0.2, 0.2])"
   ]
  },
  {
   "cell_type": "markdown",
   "id": "8c70b554",
   "metadata": {
    "slideshow": {
     "slide_type": "subslide"
    }
   },
   "source": [
    "Innym sposobem jest użycie `plt.subplot` który tworzy siatkę wykresów:"
   ]
  },
  {
   "cell_type": "code",
   "execution_count": null,
   "id": "62d8f105",
   "metadata": {
    "slideshow": {
     "slide_type": "fragment"
    }
   },
   "outputs": [],
   "source": [
    "for i in range(1, 7):\n",
    "    plt.subplot(2, 3, i)\n",
    "    plt.text(0.5, 0.5, str((2, 3, i)),\n",
    "             fontsize=18, ha='center')"
   ]
  },
  {
   "cell_type": "markdown",
   "id": "470b7627",
   "metadata": {
    "slideshow": {
     "slide_type": "subslide"
    }
   },
   "source": [
    "Aby poprawić odstępy między wykresami możemy użyć `subplots_adjust`"
   ]
  },
  {
   "cell_type": "code",
   "execution_count": null,
   "id": "96065a74",
   "metadata": {
    "slideshow": {
     "slide_type": "fragment"
    }
   },
   "outputs": [],
   "source": [
    "fig = plt.figure()\n",
    "fig.subplots_adjust(hspace=0.4, wspace=0.4)\n",
    "for i in range(1, 7):\n",
    "    ax = fig.add_subplot(2, 3, i)\n",
    "    ax.text(0.5, 0.5, str((2, 3, i)),\n",
    "           fontsize=18, ha='center')"
   ]
  },
  {
   "cell_type": "markdown",
   "id": "3a3de06b",
   "metadata": {
    "slideshow": {
     "slide_type": "subslide"
    }
   },
   "source": [
    "Takie pojedyncze tworzenie wykresów może być uciążliwe przy wielu wykresach na raz, lub gdy chcemy schować wewnętrzne osie, dlatego w takich przypadkach możemy użyć `plt.subplots`"
   ]
  },
  {
   "cell_type": "code",
   "execution_count": null,
   "id": "90e58fa6",
   "metadata": {
    "slideshow": {
     "slide_type": "fragment"
    }
   },
   "outputs": [],
   "source": [
    "fig, ax = plt.subplots(2, 3, sharex='col', sharey='row')"
   ]
  },
  {
   "cell_type": "code",
   "execution_count": null,
   "id": "62278111",
   "metadata": {
    "slideshow": {
     "slide_type": "subslide"
    }
   },
   "outputs": [],
   "source": [
    "for i in range(2):\n",
    "    for j in range(3):\n",
    "        ax[i, j].text(0.5, 0.5, str((i, j)),\n",
    "                      fontsize=18, ha='center')\n",
    "fig\n"
   ]
  },
  {
   "cell_type": "markdown",
   "id": "c68cdf81",
   "metadata": {
    "slideshow": {
     "slide_type": "slide"
    }
   },
   "source": [
    "### Dodawanie tekstu do wykresów"
   ]
  },
  {
   "cell_type": "markdown",
   "id": "38aa8cd6",
   "metadata": {
    "slideshow": {
     "slide_type": "fragment"
    }
   },
   "source": [
    "Wczytajmy sobie zbiór danych o urodzeniach dzieci w Stanach."
   ]
  },
  {
   "cell_type": "code",
   "execution_count": null,
   "id": "0f2bd99c",
   "metadata": {
    "slideshow": {
     "slide_type": "fragment"
    }
   },
   "outputs": [],
   "source": [
    "births = pd.read_csv(\n",
    "    'https://raw.githubusercontent.com/jakevdp/data-CDCbirths/master/births.csv'\n",
    ")"
   ]
  },
  {
   "cell_type": "markdown",
   "id": "8e1df211",
   "metadata": {
    "slideshow": {
     "slide_type": "fragment"
    }
   },
   "source": [
    "Jak widzimy mamy tutaj dane o liczbie urodzonych dzieci wraz z ich płcią:"
   ]
  },
  {
   "cell_type": "code",
   "execution_count": null,
   "id": "14c8d369",
   "metadata": {
    "slideshow": {
     "slide_type": "fragment"
    }
   },
   "outputs": [],
   "source": [
    "births.head()"
   ]
  },
  {
   "cell_type": "markdown",
   "id": "1bbc5611",
   "metadata": {
    "slideshow": {
     "slide_type": "subslide"
    }
   },
   "source": [
    "Korzystając z tabeli przestawnej możemy zobaczyć jak rozkładają się urodzenia w poszczególnych dekadach:"
   ]
  },
  {
   "cell_type": "code",
   "execution_count": null,
   "id": "1e3c2d52",
   "metadata": {
    "slideshow": {
     "slide_type": "fragment"
    }
   },
   "outputs": [],
   "source": [
    "births['decade'] = 10 * (births['year'] // 10)\n",
    "births.pivot_table('births', index='decade', columns='gender', aggfunc='sum')"
   ]
  },
  {
   "cell_type": "code",
   "execution_count": null,
   "id": "3f4581b9",
   "metadata": {
    "slideshow": {
     "slide_type": "subslide"
    }
   },
   "outputs": [],
   "source": [
    "births.pivot_table('births', index='year', columns='gender', aggfunc='sum').plot()\n",
    "plt.ylabel('total births per year');"
   ]
  },
  {
   "cell_type": "markdown",
   "id": "445aedda",
   "metadata": {
    "slideshow": {
     "slide_type": "subslide"
    }
   },
   "source": [
    "Usuńmy teraz dane odstające ze zbioru danych:"
   ]
  },
  {
   "cell_type": "code",
   "execution_count": null,
   "id": "ab519534",
   "metadata": {
    "slideshow": {
     "slide_type": "fragment"
    }
   },
   "outputs": [],
   "source": [
    "quartiles = np.percentile(births['births'], [25, 50, 75])\n",
    "mu = quartiles[1]\n",
    "sig = 0.74 * (quartiles[2] - quartiles[0])"
   ]
  },
  {
   "cell_type": "code",
   "execution_count": null,
   "id": "f7ed373c",
   "metadata": {
    "slideshow": {
     "slide_type": "fragment"
    }
   },
   "outputs": [],
   "source": [
    "births = births.dropna()"
   ]
  },
  {
   "cell_type": "code",
   "execution_count": null,
   "id": "0f7130dc",
   "metadata": {
    "slideshow": {
     "slide_type": "fragment"
    }
   },
   "outputs": [],
   "source": [
    "births['day'] = births['day'].astype(int)"
   ]
  },
  {
   "cell_type": "code",
   "execution_count": null,
   "id": "44ed9d99",
   "metadata": {
    "slideshow": {
     "slide_type": "fragment"
    }
   },
   "outputs": [],
   "source": [
    "births = births.query('(births > @mu - 5 * @sig) & (births < @mu + 5 * @sig)')"
   ]
  },
  {
   "cell_type": "markdown",
   "id": "5646847f",
   "metadata": {
    "slideshow": {
     "slide_type": "subslide"
    }
   },
   "source": [
    "Zmienimy teraz index zbioru danych na taki który reprezentuje obiekt typu datetime:"
   ]
  },
  {
   "cell_type": "code",
   "execution_count": null,
   "id": "bfcf788b",
   "metadata": {
    "slideshow": {
     "slide_type": "fragment"
    }
   },
   "outputs": [],
   "source": [
    "births.index = pd.to_datetime(10000 * births.year +\n",
    "                              100 * births.month +\n",
    "                              births.day, format='%Y%m%d')\n",
    "\n",
    "births['dayofweek'] = births.index.dayofweek"
   ]
  },
  {
   "cell_type": "markdown",
   "id": "e033b402",
   "metadata": {
    "slideshow": {
     "slide_type": "subslide"
    }
   },
   "source": [
    "W ten sposób możemy zobaczyć jak rozkładają się urodzenia względem dnia tygodnia:"
   ]
  },
  {
   "cell_type": "code",
   "execution_count": null,
   "id": "3a41affa",
   "metadata": {
    "slideshow": {
     "slide_type": "fragment"
    }
   },
   "outputs": [],
   "source": [
    "births.pivot_table('births', index='dayofweek',\n",
    "                    columns='decade', aggfunc='mean').plot()\n",
    "plt.gca().set_xticklabels(['Mon', 'Tues', 'Wed', 'Thurs', 'Fri', 'Sat', 'Sun'])\n",
    "plt.ylabel('mean births by day');"
   ]
  },
  {
   "cell_type": "markdown",
   "id": "4af8bafd",
   "metadata": {
    "slideshow": {
     "slide_type": "subslide"
    }
   },
   "source": [
    "Spróbujmy zobaczyć jak rozkładają się urodzenia względem dnia roku:"
   ]
  },
  {
   "cell_type": "code",
   "execution_count": null,
   "id": "affabb4d",
   "metadata": {
    "slideshow": {
     "slide_type": "fragment"
    }
   },
   "outputs": [],
   "source": [
    "births_by_date = births.pivot_table('births', \n",
    "                                    [births.index.month, births.index.day])\n",
    "births_by_date.head()"
   ]
  },
  {
   "cell_type": "code",
   "execution_count": null,
   "id": "8f763db8",
   "metadata": {
    "slideshow": {
     "slide_type": "fragment"
    }
   },
   "outputs": [],
   "source": [
    "from datetime import datetime\n",
    "births_by_date.index = [datetime(2012, month, day)\n",
    "                        for (month, day) in births_by_date.index]\n",
    "births_by_date.head()"
   ]
  },
  {
   "cell_type": "code",
   "execution_count": null,
   "id": "c62e6a6d",
   "metadata": {
    "slideshow": {
     "slide_type": "subslide"
    }
   },
   "outputs": [],
   "source": [
    "# Wykreśl wyniki\n",
    "fig, ax = plt.subplots(figsize=(12, 4))\n",
    "births_by_date.plot(ax=ax)\n",
    "style = dict(size=10, color='gray')\n",
    "ax.text('2012-1-1', 3950, \"Nowy Rok\", **style)\n",
    "ax.text('2012-7-4', 4250, \"Dzień Niepodległości\", ha='center', **style)\n",
    "ax.text('2012-9-4', 4850, \"Dzień pracy\", ha='center', **style)\n",
    "ax.text('2012-10-31', 4600, \"Halloween\", ha='right', **style)\n",
    "ax.text('2012-11-25', 4450, \"Święto Dziękczynienia\", ha='center', **style)\n",
    "ax.text('2012-12-25', 3850, \"Boże Narodzenie\", ha='right', **style)\n",
    "# Oznaczenia osi\n",
    "ax.set(title='Urodzeni w USA według dnia roku (1969-1988)',\n",
    "       ylabel='średnia dzienna liczba urodzeń')\n",
    "# Odpowiednie formatowanie osi X\n",
    "ax.xaxis.set_major_locator(mpl.dates.MonthLocator())\n",
    "ax.xaxis.set_minor_locator(mpl.dates.MonthLocator(bymonthday=15))\n",
    "ax.xaxis.set_major_formatter(plt.NullFormatter())\n",
    "ax.xaxis.set_minor_formatter(mpl.dates.DateFormatter('%h'));"
   ]
  },
  {
   "cell_type": "markdown",
   "id": "667b4ac8",
   "metadata": {
    "slideshow": {
     "slide_type": "slide"
    }
   },
   "source": [
    "## Seaborn"
   ]
  },
  {
   "cell_type": "markdown",
   "id": "18133210",
   "metadata": {
    "slideshow": {
     "slide_type": "fragment"
    }
   },
   "source": [
    "Seaborn to pakiet zbudowany na bazie matplotlib który ułatwia pracę z nim. Przede wszystkim Seaborn świetnie działa w użyciu z obiektami typu `pandas.DataFrame`"
   ]
  },
  {
   "cell_type": "code",
   "execution_count": null,
   "id": "9196420c",
   "metadata": {
    "slideshow": {
     "slide_type": "fragment"
    }
   },
   "outputs": [],
   "source": [
    "import seaborn as sns"
   ]
  },
  {
   "cell_type": "code",
   "execution_count": null,
   "id": "ca2cb218",
   "metadata": {
    "slideshow": {
     "slide_type": "fragment"
    }
   },
   "outputs": [],
   "source": [
    "rng = np.random.RandomState(0)\n",
    "x = np.linspace(0, 10, 500)\n",
    "y = np.cumsum(rng.randn(500, 6), 0)\n"
   ]
  },
  {
   "cell_type": "code",
   "execution_count": null,
   "id": "eb011dc6",
   "metadata": {
    "slideshow": {
     "slide_type": "subslide"
    }
   },
   "outputs": [],
   "source": [
    "plt.plot(x, y)\n",
    "plt.legend('ABCDEF', ncol=2, loc='upper left');"
   ]
  },
  {
   "cell_type": "code",
   "execution_count": null,
   "id": "8b0fe49e",
   "metadata": {
    "slideshow": {
     "slide_type": "subslide"
    }
   },
   "outputs": [],
   "source": [
    "sns.set()"
   ]
  },
  {
   "cell_type": "code",
   "execution_count": null,
   "id": "b285e396",
   "metadata": {
    "slideshow": {
     "slide_type": "fragment"
    }
   },
   "outputs": [],
   "source": [
    "plt.plot(x, y)\n",
    "plt.legend('ABCDEF', ncol=2, loc='upper left');"
   ]
  },
  {
   "cell_type": "markdown",
   "id": "e85eec97",
   "metadata": {
    "slideshow": {
     "slide_type": "subslide"
    }
   },
   "source": [
    "Przypomnijmy sobie rysowanie histogramu:"
   ]
  },
  {
   "cell_type": "code",
   "execution_count": null,
   "id": "488b4b92",
   "metadata": {
    "slideshow": {
     "slide_type": "fragment"
    }
   },
   "outputs": [],
   "source": [
    "data = np.random.multivariate_normal([0, 0], [[5, 2], [2, 2]], size=2000)\n",
    "data = pd.DataFrame(data, columns=['x', 'y'])\n",
    "\n",
    "for col in 'xy':\n",
    "    plt.hist(data[col], alpha=0.5)"
   ]
  },
  {
   "cell_type": "markdown",
   "id": "450307a2",
   "metadata": {
    "slideshow": {
     "slide_type": "subslide"
    }
   },
   "source": [
    "Korzystając z Seaborn możemy łatwo narysować estymowaną gęstość rozkładu:"
   ]
  },
  {
   "cell_type": "code",
   "execution_count": null,
   "id": "0879d11d",
   "metadata": {
    "slideshow": {
     "slide_type": "fragment"
    }
   },
   "outputs": [],
   "source": [
    "for col in 'xy':\n",
    "    sns.kdeplot(data[col], shade=True)"
   ]
  },
  {
   "cell_type": "markdown",
   "id": "981b4d3c",
   "metadata": {
    "slideshow": {
     "slide_type": "subslide"
    }
   },
   "source": [
    "Albo połączyć gęstość wraz z histogramem:"
   ]
  },
  {
   "cell_type": "code",
   "execution_count": null,
   "id": "e6ab616b",
   "metadata": {
    "slideshow": {
     "slide_type": "fragment"
    }
   },
   "outputs": [],
   "source": [
    "sns.distplot(data['x'])\n",
    "sns.distplot(data['y']);"
   ]
  },
  {
   "cell_type": "markdown",
   "id": "43c48b28",
   "metadata": {
    "slideshow": {
     "slide_type": "subslide"
    }
   },
   "source": [
    "Seaborn świetnie sobie radzi również z rokładami wielowymiarowymi:"
   ]
  },
  {
   "cell_type": "code",
   "execution_count": null,
   "id": "4f337360",
   "metadata": {
    "slideshow": {
     "slide_type": "fragment"
    }
   },
   "outputs": [],
   "source": [
    "sns.kdeplot(x=data['x'], y=data['y']);"
   ]
  },
  {
   "cell_type": "code",
   "execution_count": null,
   "id": "ac7d94b1",
   "metadata": {
    "slideshow": {
     "slide_type": "subslide"
    }
   },
   "outputs": [],
   "source": [
    "with sns.axes_style('white'):\n",
    "    sns.jointplot(x=data['x'], y=data['y'], kind='kde')"
   ]
  },
  {
   "cell_type": "markdown",
   "id": "44b3c663",
   "metadata": {
    "slideshow": {
     "slide_type": "subslide"
    }
   },
   "source": [
    "Możemy również skorzystać z `pairplot` aby szybko przedstawić relacje między różnymi zmiennymi:"
   ]
  },
  {
   "cell_type": "code",
   "execution_count": null,
   "id": "8647e42e",
   "metadata": {
    "slideshow": {
     "slide_type": "fragment"
    }
   },
   "outputs": [],
   "source": [
    "iris = sns.load_dataset(\"iris\")\n",
    "iris.head()"
   ]
  },
  {
   "cell_type": "code",
   "execution_count": null,
   "id": "76c1ebbc",
   "metadata": {
    "slideshow": {
     "slide_type": "subslide"
    }
   },
   "outputs": [],
   "source": [
    "sns.pairplot(iris, hue='species', height=2.5);"
   ]
  },
  {
   "cell_type": "markdown",
   "id": "bf612e66",
   "metadata": {
    "slideshow": {
     "slide_type": "slide"
    }
   },
   "source": [
    "### Przykład"
   ]
  },
  {
   "cell_type": "code",
   "execution_count": null,
   "id": "09d8f0cd",
   "metadata": {
    "slideshow": {
     "slide_type": "fragment"
    }
   },
   "outputs": [],
   "source": [
    "marathon_url = 'https://raw.githubusercontent.com/jakevdp/marathon-data/master/marathon-data.csv'"
   ]
  },
  {
   "cell_type": "code",
   "execution_count": null,
   "id": "56f43fb5",
   "metadata": {
    "slideshow": {
     "slide_type": "fragment"
    }
   },
   "outputs": [],
   "source": [
    "marathon_df = pd.read_csv(marathon_url)"
   ]
  },
  {
   "cell_type": "code",
   "execution_count": null,
   "id": "5db5559a",
   "metadata": {
    "scrolled": true,
    "slideshow": {
     "slide_type": "fragment"
    }
   },
   "outputs": [],
   "source": [
    "marathon_df.head(), marathon_df.dtypes"
   ]
  },
  {
   "cell_type": "markdown",
   "id": "7571f867",
   "metadata": {
    "slideshow": {
     "slide_type": "subslide"
    }
   },
   "source": [
    "Zmieńmy odpowiednio typy danych:"
   ]
  },
  {
   "cell_type": "code",
   "execution_count": null,
   "id": "18903289",
   "metadata": {
    "slideshow": {
     "slide_type": "fragment"
    }
   },
   "outputs": [],
   "source": [
    "from datetime import timedelta"
   ]
  },
  {
   "cell_type": "code",
   "execution_count": null,
   "id": "c3f61005",
   "metadata": {
    "slideshow": {
     "slide_type": "fragment"
    }
   },
   "outputs": [],
   "source": [
    "def convert_time(s):\n",
    "    h, m, s = map(int, s.split(':'))\n",
    "    return timedelta(hours=h, minutes=m, seconds=s)"
   ]
  },
  {
   "cell_type": "code",
   "execution_count": null,
   "id": "7332a007",
   "metadata": {
    "slideshow": {
     "slide_type": "fragment"
    }
   },
   "outputs": [],
   "source": [
    "marathon_df = pd.read_csv(marathon_url, converters={'split':convert_time, 'final':convert_time})"
   ]
  },
  {
   "cell_type": "code",
   "execution_count": null,
   "id": "100ae4bf",
   "metadata": {
    "slideshow": {
     "slide_type": "fragment"
    }
   },
   "outputs": [],
   "source": [
    "marathon_df.head()"
   ]
  },
  {
   "cell_type": "code",
   "execution_count": null,
   "id": "fafd259b",
   "metadata": {
    "slideshow": {
     "slide_type": "subslide"
    }
   },
   "outputs": [],
   "source": [
    "marathon_df.dtypes"
   ]
  },
  {
   "cell_type": "code",
   "execution_count": null,
   "id": "40ff8896",
   "metadata": {
    "slideshow": {
     "slide_type": "fragment"
    }
   },
   "outputs": [],
   "source": [
    "marathon_df['split_sec'] = marathon_df['split'].dt.seconds\n",
    "marathon_df['final_sec'] = marathon_df['final'].dt.seconds\n",
    "marathon_df.head()"
   ]
  },
  {
   "cell_type": "code",
   "execution_count": null,
   "id": "45849fb2",
   "metadata": {
    "slideshow": {
     "slide_type": "subslide"
    }
   },
   "outputs": [],
   "source": [
    "with sns.axes_style('white'):\n",
    "    g = sns.jointplot(x=marathon_df['split_sec'], y=marathon_df['final_sec'], kind='hex')\n",
    "    g.ax_joint.plot(np.linspace(4000, 16000),\n",
    "                    np.linspace(8000, 32000), ':k')"
   ]
  },
  {
   "cell_type": "code",
   "execution_count": null,
   "id": "44931e80",
   "metadata": {
    "slideshow": {
     "slide_type": "subslide"
    }
   },
   "outputs": [],
   "source": [
    "marathon_df['split_frac'] = 1 - 2 * marathon_df['split_sec'] / marathon_df['final_sec']\n",
    "marathon_df.head()"
   ]
  },
  {
   "cell_type": "code",
   "execution_count": null,
   "id": "00afc22e",
   "metadata": {
    "slideshow": {
     "slide_type": "fragment"
    }
   },
   "outputs": [],
   "source": [
    "sns.histplot(marathon_df['split_frac'], kde=False);\n",
    "plt.axvline(0, color=\"k\", linestyle=\"--\");"
   ]
  },
  {
   "cell_type": "code",
   "execution_count": null,
   "id": "9cf149d0",
   "metadata": {
    "slideshow": {
     "slide_type": "fragment"
    }
   },
   "outputs": [],
   "source": [
    "sum(marathon_df.split_frac < 0)"
   ]
  },
  {
   "cell_type": "code",
   "execution_count": null,
   "id": "ec4a085d",
   "metadata": {
    "slideshow": {
     "slide_type": "subslide"
    }
   },
   "outputs": [],
   "source": [
    "g = sns.PairGrid(marathon_df, vars=['age', 'split_sec', 'final_sec', 'split_frac'], hue='gender', palette='RdBu_r')\n",
    "g.map(plt.scatter, alpha=0.8) and g.add_legend();"
   ]
  },
  {
   "cell_type": "code",
   "execution_count": null,
   "id": "8d3e249e",
   "metadata": {
    "slideshow": {
     "slide_type": "subslide"
    }
   },
   "outputs": [],
   "source": [
    "sns.kdeplot(marathon_df.split_frac[marathon_df.gender=='M'], label='men', shade=True)\n",
    "sns.kdeplot(marathon_df.split_frac[marathon_df.gender=='W'], label='women', shade=True)\n",
    "plt.xlabel('split_frac')\n",
    "plt.legend();"
   ]
  },
  {
   "cell_type": "code",
   "execution_count": null,
   "id": "fffd576e",
   "metadata": {
    "slideshow": {
     "slide_type": "subslide"
    }
   },
   "outputs": [],
   "source": [
    "sns.violinplot(x=marathon_df[\"gender\"], y=marathon_df[\"split_frac\"],\n",
    "               palette=[\"lightblue\", \"lightpink\"]);"
   ]
  },
  {
   "cell_type": "code",
   "execution_count": null,
   "id": "d8326baa",
   "metadata": {
    "slideshow": {
     "slide_type": "subslide"
    }
   },
   "outputs": [],
   "source": [
    "marathon_df['age_dec'] = marathon_df.age.map(lambda age: 10 * (age // 10))\n",
    "marathon_df.head()"
   ]
  },
  {
   "cell_type": "code",
   "execution_count": null,
   "id": "a8fa7dfe",
   "metadata": {
    "slideshow": {
     "slide_type": "fragment"
    }
   },
   "outputs": [],
   "source": [
    "with sns.axes_style(style=None):\n",
    "    sns.violinplot(x=marathon_df[\"age_dec\"], y=marathon_df[\"split_frac\"], hue=\"gender\", data=marathon_df,\n",
    "                   split=True, inner=\"quartile\",\n",
    "                   palette=[\"lightblue\", \"lightpink\"]);"
   ]
  },
  {
   "cell_type": "code",
   "execution_count": null,
   "id": "99055f8b",
   "metadata": {
    "slideshow": {
     "slide_type": "subslide"
    }
   },
   "outputs": [],
   "source": [
    "sum(marathon_df['age'] > 80)"
   ]
  },
  {
   "cell_type": "code",
   "execution_count": null,
   "id": "b0094844",
   "metadata": {
    "slideshow": {
     "slide_type": "skip"
    }
   },
   "outputs": [],
   "source": []
  }
 ],
 "metadata": {
  "celltoolbar": "Slideshow",
  "kernelspec": {
   "display_name": "Python 3 (ipykernel)",
   "language": "python",
   "name": "python3"
  },
  "language_info": {
   "codemirror_mode": {
    "name": "ipython",
    "version": 3
   },
   "file_extension": ".py",
   "mimetype": "text/x-python",
   "name": "python",
   "nbconvert_exporter": "python",
   "pygments_lexer": "ipython3",
   "version": "3.10.2"
  }
 },
 "nbformat": 4,
 "nbformat_minor": 5
}
